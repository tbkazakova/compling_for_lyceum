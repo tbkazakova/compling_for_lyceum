{
  "nbformat": 4,
  "nbformat_minor": 0,
  "metadata": {
    "colab": {
      "provenance": []
    },
    "kernelspec": {
      "name": "python3",
      "display_name": "Python 3"
    },
    "language_info": {
      "name": "python"
    },
    "widgets": {
      "application/vnd.jupyter.widget-state+json": {
        "af9d5ae79df946fc8223bf957e2fdf13": {
          "model_module": "@jupyter-widgets/controls",
          "model_name": "HBoxModel",
          "model_module_version": "1.5.0",
          "state": {
            "_dom_classes": [],
            "_model_module": "@jupyter-widgets/controls",
            "_model_module_version": "1.5.0",
            "_model_name": "HBoxModel",
            "_view_count": null,
            "_view_module": "@jupyter-widgets/controls",
            "_view_module_version": "1.5.0",
            "_view_name": "HBoxView",
            "box_style": "",
            "children": [
              "IPY_MODEL_79e69e667e474fa8a4267ceeb5a82224",
              "IPY_MODEL_c9453c3f27734dfa945d80ca2245e6e1",
              "IPY_MODEL_2ff189a6b63747288caffe7f572f0081"
            ],
            "layout": "IPY_MODEL_af9e30ba1b4243dcbdc5862765080b84"
          }
        },
        "79e69e667e474fa8a4267ceeb5a82224": {
          "model_module": "@jupyter-widgets/controls",
          "model_name": "HTMLModel",
          "model_module_version": "1.5.0",
          "state": {
            "_dom_classes": [],
            "_model_module": "@jupyter-widgets/controls",
            "_model_module_version": "1.5.0",
            "_model_name": "HTMLModel",
            "_view_count": null,
            "_view_module": "@jupyter-widgets/controls",
            "_view_module_version": "1.5.0",
            "_view_name": "HTMLView",
            "description": "",
            "description_tooltip": null,
            "layout": "IPY_MODEL_96cc78d5cb65448da1120e4fe73ffcc7",
            "placeholder": "​",
            "style": "IPY_MODEL_6c62e28f89a6462b84a51a388d471421",
            "value": "Downloading https://raw.githubusercontent.com/stanfordnlp/stanza-resources/main/resources_1.7.0.json: "
          }
        },
        "c9453c3f27734dfa945d80ca2245e6e1": {
          "model_module": "@jupyter-widgets/controls",
          "model_name": "FloatProgressModel",
          "model_module_version": "1.5.0",
          "state": {
            "_dom_classes": [],
            "_model_module": "@jupyter-widgets/controls",
            "_model_module_version": "1.5.0",
            "_model_name": "FloatProgressModel",
            "_view_count": null,
            "_view_module": "@jupyter-widgets/controls",
            "_view_module_version": "1.5.0",
            "_view_name": "ProgressView",
            "bar_style": "success",
            "description": "",
            "description_tooltip": null,
            "layout": "IPY_MODEL_01f084c6fa0345f18f2c8a6621e9622a",
            "max": 46218,
            "min": 0,
            "orientation": "horizontal",
            "style": "IPY_MODEL_a9ce31dad1544268bae4876ac06921e4",
            "value": 46218
          }
        },
        "2ff189a6b63747288caffe7f572f0081": {
          "model_module": "@jupyter-widgets/controls",
          "model_name": "HTMLModel",
          "model_module_version": "1.5.0",
          "state": {
            "_dom_classes": [],
            "_model_module": "@jupyter-widgets/controls",
            "_model_module_version": "1.5.0",
            "_model_name": "HTMLModel",
            "_view_count": null,
            "_view_module": "@jupyter-widgets/controls",
            "_view_module_version": "1.5.0",
            "_view_name": "HTMLView",
            "description": "",
            "description_tooltip": null,
            "layout": "IPY_MODEL_15e5d0255da3400b9a725dc68bd9ecca",
            "placeholder": "​",
            "style": "IPY_MODEL_6c870b75296c4a2a86dbc69ef157d548",
            "value": " 370k/? [00:00&lt;00:00, 7.47MB/s]"
          }
        },
        "af9e30ba1b4243dcbdc5862765080b84": {
          "model_module": "@jupyter-widgets/base",
          "model_name": "LayoutModel",
          "model_module_version": "1.2.0",
          "state": {
            "_model_module": "@jupyter-widgets/base",
            "_model_module_version": "1.2.0",
            "_model_name": "LayoutModel",
            "_view_count": null,
            "_view_module": "@jupyter-widgets/base",
            "_view_module_version": "1.2.0",
            "_view_name": "LayoutView",
            "align_content": null,
            "align_items": null,
            "align_self": null,
            "border": null,
            "bottom": null,
            "display": null,
            "flex": null,
            "flex_flow": null,
            "grid_area": null,
            "grid_auto_columns": null,
            "grid_auto_flow": null,
            "grid_auto_rows": null,
            "grid_column": null,
            "grid_gap": null,
            "grid_row": null,
            "grid_template_areas": null,
            "grid_template_columns": null,
            "grid_template_rows": null,
            "height": null,
            "justify_content": null,
            "justify_items": null,
            "left": null,
            "margin": null,
            "max_height": null,
            "max_width": null,
            "min_height": null,
            "min_width": null,
            "object_fit": null,
            "object_position": null,
            "order": null,
            "overflow": null,
            "overflow_x": null,
            "overflow_y": null,
            "padding": null,
            "right": null,
            "top": null,
            "visibility": null,
            "width": null
          }
        },
        "96cc78d5cb65448da1120e4fe73ffcc7": {
          "model_module": "@jupyter-widgets/base",
          "model_name": "LayoutModel",
          "model_module_version": "1.2.0",
          "state": {
            "_model_module": "@jupyter-widgets/base",
            "_model_module_version": "1.2.0",
            "_model_name": "LayoutModel",
            "_view_count": null,
            "_view_module": "@jupyter-widgets/base",
            "_view_module_version": "1.2.0",
            "_view_name": "LayoutView",
            "align_content": null,
            "align_items": null,
            "align_self": null,
            "border": null,
            "bottom": null,
            "display": null,
            "flex": null,
            "flex_flow": null,
            "grid_area": null,
            "grid_auto_columns": null,
            "grid_auto_flow": null,
            "grid_auto_rows": null,
            "grid_column": null,
            "grid_gap": null,
            "grid_row": null,
            "grid_template_areas": null,
            "grid_template_columns": null,
            "grid_template_rows": null,
            "height": null,
            "justify_content": null,
            "justify_items": null,
            "left": null,
            "margin": null,
            "max_height": null,
            "max_width": null,
            "min_height": null,
            "min_width": null,
            "object_fit": null,
            "object_position": null,
            "order": null,
            "overflow": null,
            "overflow_x": null,
            "overflow_y": null,
            "padding": null,
            "right": null,
            "top": null,
            "visibility": null,
            "width": null
          }
        },
        "6c62e28f89a6462b84a51a388d471421": {
          "model_module": "@jupyter-widgets/controls",
          "model_name": "DescriptionStyleModel",
          "model_module_version": "1.5.0",
          "state": {
            "_model_module": "@jupyter-widgets/controls",
            "_model_module_version": "1.5.0",
            "_model_name": "DescriptionStyleModel",
            "_view_count": null,
            "_view_module": "@jupyter-widgets/base",
            "_view_module_version": "1.2.0",
            "_view_name": "StyleView",
            "description_width": ""
          }
        },
        "01f084c6fa0345f18f2c8a6621e9622a": {
          "model_module": "@jupyter-widgets/base",
          "model_name": "LayoutModel",
          "model_module_version": "1.2.0",
          "state": {
            "_model_module": "@jupyter-widgets/base",
            "_model_module_version": "1.2.0",
            "_model_name": "LayoutModel",
            "_view_count": null,
            "_view_module": "@jupyter-widgets/base",
            "_view_module_version": "1.2.0",
            "_view_name": "LayoutView",
            "align_content": null,
            "align_items": null,
            "align_self": null,
            "border": null,
            "bottom": null,
            "display": null,
            "flex": null,
            "flex_flow": null,
            "grid_area": null,
            "grid_auto_columns": null,
            "grid_auto_flow": null,
            "grid_auto_rows": null,
            "grid_column": null,
            "grid_gap": null,
            "grid_row": null,
            "grid_template_areas": null,
            "grid_template_columns": null,
            "grid_template_rows": null,
            "height": null,
            "justify_content": null,
            "justify_items": null,
            "left": null,
            "margin": null,
            "max_height": null,
            "max_width": null,
            "min_height": null,
            "min_width": null,
            "object_fit": null,
            "object_position": null,
            "order": null,
            "overflow": null,
            "overflow_x": null,
            "overflow_y": null,
            "padding": null,
            "right": null,
            "top": null,
            "visibility": null,
            "width": null
          }
        },
        "a9ce31dad1544268bae4876ac06921e4": {
          "model_module": "@jupyter-widgets/controls",
          "model_name": "ProgressStyleModel",
          "model_module_version": "1.5.0",
          "state": {
            "_model_module": "@jupyter-widgets/controls",
            "_model_module_version": "1.5.0",
            "_model_name": "ProgressStyleModel",
            "_view_count": null,
            "_view_module": "@jupyter-widgets/base",
            "_view_module_version": "1.2.0",
            "_view_name": "StyleView",
            "bar_color": null,
            "description_width": ""
          }
        },
        "15e5d0255da3400b9a725dc68bd9ecca": {
          "model_module": "@jupyter-widgets/base",
          "model_name": "LayoutModel",
          "model_module_version": "1.2.0",
          "state": {
            "_model_module": "@jupyter-widgets/base",
            "_model_module_version": "1.2.0",
            "_model_name": "LayoutModel",
            "_view_count": null,
            "_view_module": "@jupyter-widgets/base",
            "_view_module_version": "1.2.0",
            "_view_name": "LayoutView",
            "align_content": null,
            "align_items": null,
            "align_self": null,
            "border": null,
            "bottom": null,
            "display": null,
            "flex": null,
            "flex_flow": null,
            "grid_area": null,
            "grid_auto_columns": null,
            "grid_auto_flow": null,
            "grid_auto_rows": null,
            "grid_column": null,
            "grid_gap": null,
            "grid_row": null,
            "grid_template_areas": null,
            "grid_template_columns": null,
            "grid_template_rows": null,
            "height": null,
            "justify_content": null,
            "justify_items": null,
            "left": null,
            "margin": null,
            "max_height": null,
            "max_width": null,
            "min_height": null,
            "min_width": null,
            "object_fit": null,
            "object_position": null,
            "order": null,
            "overflow": null,
            "overflow_x": null,
            "overflow_y": null,
            "padding": null,
            "right": null,
            "top": null,
            "visibility": null,
            "width": null
          }
        },
        "6c870b75296c4a2a86dbc69ef157d548": {
          "model_module": "@jupyter-widgets/controls",
          "model_name": "DescriptionStyleModel",
          "model_module_version": "1.5.0",
          "state": {
            "_model_module": "@jupyter-widgets/controls",
            "_model_module_version": "1.5.0",
            "_model_name": "DescriptionStyleModel",
            "_view_count": null,
            "_view_module": "@jupyter-widgets/base",
            "_view_module_version": "1.2.0",
            "_view_name": "StyleView",
            "description_width": ""
          }
        }
      }
    }
  },
  "cells": [
    {
      "cell_type": "markdown",
      "source": [
        "В прошлый раз\n",
        "\n",
        "вспомнили/узнали про питон:\n",
        "- типы данных\n",
        "- математические операторы + - / * **(в степень) %(остаток от деления) //(целая часть при делении)\n",
        "- print() - напечатать\n",
        "- len() - узнать длину списка, строки и т.д.\n",
        "- type() - узнать тип данных\n",
        "- input() - принять значение от пользователя\n",
        "- int() - преобразовать в целочисленный формат\n",
        "- .split() - разделить по тому, что в скобках\n",
        "- .strip() - убрать указанные символы по краям\n",
        "\n",
        "Научились делить текст на предложения sentenize() и на слова tokenize() с помощью razdel проекта natasha (есть много других библиотек)"
      ],
      "metadata": {
        "id": "H3wAMW8MMLcJ"
      }
    },
    {
      "cell_type": "markdown",
      "source": [
        "В этот раз\n",
        "\n",
        "вспомним/узнаем про питон:\n",
        "\n",
        "- условия\n",
        "- операторы сравнения\n",
        "- циклы\n",
        "\n",
        "**Научимся получать морфологический анализ для русских слов**"
      ],
      "metadata": {
        "id": "DxtiQmQPPl5f"
      }
    },
    {
      "cell_type": "markdown",
      "source": [
        "# Условия и операторы сравнения"
      ],
      "metadata": {
        "id": "QrX1tAe1QWz5"
      }
    },
    {
      "cell_type": "markdown",
      "source": [
        "```\n",
        "if условие:\n",
        "    блок инструкций, в случае если условие истинно\n",
        "else:\n",
        "    блок инструкций, в случае если условие не выполняется\n",
        "```"
      ],
      "metadata": {
        "id": "MyZ2T-iOQl7w"
      }
    },
    {
      "cell_type": "code",
      "source": [
        "number = -6\n",
        "if number < 0:\n",
        "    print(\"отрицательное число\")\n",
        "else:\n",
        "    print(\"положительное число\")  # лучше \"неотрицательное\""
      ],
      "metadata": {
        "id": "m5JAOCt9TLyK",
        "colab": {
          "base_uri": "https://localhost:8080/"
        },
        "outputId": "e3d64907-1126-4c82-d9fc-18a8331d5958"
      },
      "execution_count": 77,
      "outputs": [
        {
          "output_type": "stream",
          "name": "stdout",
          "text": [
            "отрицательное число\n"
          ]
        }
      ]
    },
    {
      "cell_type": "code",
      "source": [
        "# но ноль - ни положительное, ни отрицательное\n",
        "\n",
        "number = 0\n",
        "if number < 0:\n",
        "    print(\"отрицательное число\")\n",
        "else:\n",
        "    if number == 0:\n",
        "        print(\"ноль\")\n",
        "    else:\n",
        "        print(\"положительное число\")"
      ],
      "metadata": {
        "id": "Y31lDRkUT01P",
        "colab": {
          "base_uri": "https://localhost:8080/"
        },
        "outputId": "eec2fe20-7631-4137-f37d-c6a1e4a472ff"
      },
      "execution_count": 78,
      "outputs": [
        {
          "output_type": "stream",
          "name": "stdout",
          "text": [
            "ноль\n"
          ]
        }
      ]
    },
    {
      "cell_type": "markdown",
      "source": [
        "Но условия в условии можно красиво избежать:"
      ],
      "metadata": {
        "id": "1k-LfPcBVWK7"
      }
    },
    {
      "cell_type": "code",
      "source": [
        "if number > 0:\n",
        "    print(\"положительное число\")\n",
        "elif number == 0:  # таких elif может быть много, после них пишут альтернативные условия\n",
        "    print(\"ноль\")\n",
        "else:\n",
        "    print(\"отрицательное число\")"
      ],
      "metadata": {
        "id": "3h7DxVmEVLz7",
        "colab": {
          "base_uri": "https://localhost:8080/"
        },
        "outputId": "e65f0a0b-8031-4164-c852-ef5a209c7a37"
      },
      "execution_count": 79,
      "outputs": [
        {
          "output_type": "stream",
          "name": "stdout",
          "text": [
            "ноль\n"
          ]
        }
      ]
    },
    {
      "cell_type": "markdown",
      "source": [
        "### Основные операторы сравнения\n",
        "\n",
        "- \\> - больше. Условие истинно, если то, что слева от знака больше того, что справа\n",
        "- < - меньше. Условие истинно, если то, что слева от знака меньше того, что справа\n",
        "- \\>= - больше либо равно\n",
        "- <= - меньше либо равно\n",
        "- == - в точности равно\n",
        "- != - не равно"
      ],
      "metadata": {
        "id": "bmNx8is_WV79"
      }
    },
    {
      "cell_type": "markdown",
      "source": [
        "### Тренировка\n",
        "Пользователь вводит число и получает это число в кубе (возвести в степень: 5\\*\\*3 = 5\\*5\\*5 = 125)\n",
        "\n",
        "Пользователь может отказаться словом \"стоп\" (программа выводит сообщение: \"вы отказались от услуги\")"
      ],
      "metadata": {
        "id": "Baup6azjXMis"
      }
    },
    {
      "cell_type": "code",
      "execution_count": null,
      "metadata": {
        "id": "NrKkXt8_Lbjg"
      },
      "outputs": [],
      "source": [
        "# ваш код"
      ]
    },
    {
      "cell_type": "markdown",
      "source": [
        "### Тип данных bool\n",
        "\n",
        "Всего два значения: True и False С большой буквы.\n",
        "\n",
        "(Не называйте переменные true или false - мы за красивый понятный код)"
      ],
      "metadata": {
        "id": "WyqBdkwKYk4-"
      }
    },
    {
      "cell_type": "code",
      "source": [
        "print(5>0)\n",
        "print(type(5>0))\n",
        "print(5==0)"
      ],
      "metadata": {
        "id": "VYv9srw8WPBL",
        "colab": {
          "base_uri": "https://localhost:8080/"
        },
        "outputId": "3b0a7a13-f33a-4e81-ec74-abbe396f0120"
      },
      "execution_count": 80,
      "outputs": [
        {
          "output_type": "stream",
          "name": "stdout",
          "text": [
            "True\n",
            "<class 'bool'>\n",
            "False\n"
          ]
        }
      ]
    },
    {
      "cell_type": "code",
      "source": [
        "# bool переводится в число\n",
        "print(int(True))\n",
        "print(int(False))"
      ],
      "metadata": {
        "id": "OtNupo_4Y1YZ",
        "colab": {
          "base_uri": "https://localhost:8080/"
        },
        "outputId": "0f49ce8b-e363-4fa1-f123-0ea0021086ae"
      },
      "execution_count": 82,
      "outputs": [
        {
          "output_type": "stream",
          "name": "stdout",
          "text": [
            "1\n",
            "0\n"
          ]
        }
      ]
    },
    {
      "cell_type": "code",
      "source": [
        "# Числа переводятся в bool: все кроме нуля - True\n",
        "print(bool(4))\n",
        "print(bool(-6.578))\n",
        "print(bool(0))"
      ],
      "metadata": {
        "id": "T5wS9soFc7kW",
        "colab": {
          "base_uri": "https://localhost:8080/"
        },
        "outputId": "79c4121b-9153-41b4-a345-507bbb47da1c"
      },
      "execution_count": 83,
      "outputs": [
        {
          "output_type": "stream",
          "name": "stdout",
          "text": [
            "True\n",
            "True\n",
            "False\n"
          ]
        }
      ]
    },
    {
      "cell_type": "code",
      "source": [
        "# Строки переводятся в bool: все кроме '' - True\n",
        "print(bool('непустая строка'))\n",
        "print(bool(''))"
      ],
      "metadata": {
        "id": "rZ7tniSgdtT5",
        "colab": {
          "base_uri": "https://localhost:8080/"
        },
        "outputId": "61e28d6f-a3a1-465b-e3ce-584eae0299ba"
      },
      "execution_count": 84,
      "outputs": [
        {
          "output_type": "stream",
          "name": "stdout",
          "text": [
            "True\n",
            "False\n"
          ]
        }
      ]
    },
    {
      "cell_type": "code",
      "source": [
        "# Поэтому можно так:\n",
        "name = input(\"Введите имя: \")\n",
        "if name:\n",
        "    print(\"Привет, \", name)\n",
        "else:\n",
        "    print(\"Вы не ввели имя...\")"
      ],
      "metadata": {
        "id": "FXX-JH7Ldd2o",
        "colab": {
          "base_uri": "https://localhost:8080/"
        },
        "outputId": "5b71e884-2925-4d9c-dd19-efe0a4370cdc"
      },
      "execution_count": 85,
      "outputs": [
        {
          "output_type": "stream",
          "name": "stdout",
          "text": [
            "Введите имя: Антон\n",
            "Привет,  Антон\n"
          ]
        }
      ]
    },
    {
      "cell_type": "markdown",
      "source": [
        "### Логические операторы\n",
        "- **and** (логическое И) возвращает истину (True), если оба условия по отдельности верны (тоже возвращают True)\n",
        "- **or** (логическое ИЛИ) вернет истину, если хотя бы одно из условий верно\n",
        "- **not** (логическое НЕТ) возьмет результат условия и “обратит” его."
      ],
      "metadata": {
        "id": "uIUzqf4QfHxc"
      }
    },
    {
      "cell_type": "code",
      "source": [
        "a = int(input())\n",
        "b = int(input())\n",
        "\n",
        "if a % 10 == 0 or b % 10 == 0:\n",
        "    print('Хотя бы одно число кратно 10.')\n",
        "else:\n",
        "    print('Оба числа не кратны 10.')"
      ],
      "metadata": {
        "id": "ebvckhWjfg4u",
        "colab": {
          "base_uri": "https://localhost:8080/"
        },
        "outputId": "f064069f-4d2d-4c85-d5af-f4b82205c7d3"
      },
      "execution_count": 86,
      "outputs": [
        {
          "output_type": "stream",
          "name": "stdout",
          "text": [
            "5\n",
            "10\n",
            "Хотя бы одно число кратно 10.\n"
          ]
        }
      ]
    },
    {
      "cell_type": "markdown",
      "source": [
        "# Циклы\n",
        "\n",
        "###for"
      ],
      "metadata": {
        "id": "l9nFdOZ-guYo"
      }
    },
    {
      "cell_type": "code",
      "source": [
        "for letter in 'hello':\n",
        "    print(letter)"
      ],
      "metadata": {
        "id": "yTW-dWpAf8EG",
        "colab": {
          "base_uri": "https://localhost:8080/"
        },
        "outputId": "851d880b-ca6f-40ca-d818-8b09891e4422"
      },
      "execution_count": 87,
      "outputs": [
        {
          "output_type": "stream",
          "name": "stdout",
          "text": [
            "h\n",
            "e\n",
            "l\n",
            "l\n",
            "o\n"
          ]
        }
      ]
    },
    {
      "cell_type": "code",
      "source": [
        "words = ['сочиняю', 'я', 'неплохо', \"иногда\", \"да\"]\n",
        "for word in words:\n",
        "  print(word)"
      ],
      "metadata": {
        "id": "u6o5V5h_g3gI",
        "colab": {
          "base_uri": "https://localhost:8080/"
        },
        "outputId": "fd96aa08-a407-442f-8361-9c05c71dfe08"
      },
      "execution_count": 88,
      "outputs": [
        {
          "output_type": "stream",
          "name": "stdout",
          "text": [
            "сочиняю\n",
            "я\n",
            "неплохо\n",
            "иногда\n",
            "да\n"
          ]
        }
      ]
    },
    {
      "cell_type": "markdown",
      "source": [
        "### range()\n",
        "\n",
        "перебирает целые числа"
      ],
      "metadata": {
        "id": "bmE6ux6ChsKM"
      }
    },
    {
      "cell_type": "code",
      "source": [
        "for number in range(5):  # числа от нуля до 5 не включительно\n",
        "    print(number)"
      ],
      "metadata": {
        "id": "x1JIRlRNhrcr",
        "colab": {
          "base_uri": "https://localhost:8080/"
        },
        "outputId": "ead30378-67cd-491c-ca57-b3ce5f0272d3"
      },
      "execution_count": 89,
      "outputs": [
        {
          "output_type": "stream",
          "name": "stdout",
          "text": [
            "0\n",
            "1\n",
            "2\n",
            "3\n",
            "4\n"
          ]
        }
      ]
    },
    {
      "cell_type": "code",
      "source": [
        "# range(x, y) - числа от x до y-1\n",
        "for number in range(4, 7):\n",
        "    print(number)"
      ],
      "metadata": {
        "id": "lrGlD15FiRgk",
        "colab": {
          "base_uri": "https://localhost:8080/"
        },
        "outputId": "17300fd7-0ceb-4c09-9522-e3ed980b38f1"
      },
      "execution_count": 90,
      "outputs": [
        {
          "output_type": "stream",
          "name": "stdout",
          "text": [
            "4\n",
            "5\n",
            "6\n"
          ]
        }
      ]
    },
    {
      "cell_type": "code",
      "source": [
        "# range(x, y, step) выдаёт все целые числа начиная с x с шагом step, но не включая y\n",
        "for number in range(5, -1, -1):\n",
        "    print(number)"
      ],
      "metadata": {
        "id": "Ehf-S23Pil00",
        "colab": {
          "base_uri": "https://localhost:8080/"
        },
        "outputId": "66da47cc-585c-46a1-dec0-15ee66d2e9e2"
      },
      "execution_count": 91,
      "outputs": [
        {
          "output_type": "stream",
          "name": "stdout",
          "text": [
            "5\n",
            "4\n",
            "3\n",
            "2\n",
            "1\n",
            "0\n"
          ]
        }
      ]
    },
    {
      "cell_type": "markdown",
      "source": [
        "\n",
        "Вспомнили. Теперь про языковое\n"
      ],
      "metadata": {
        "id": "LU1V6lLQi8vq"
      }
    },
    {
      "cell_type": "markdown",
      "source": [
        "# [pymorphy2](https://pymorphy2.readthedocs.io/en/stable/index.html) - морфологический анализатор для русского\n",
        "\n",
        "При работе используется словарь OpenCorpora; для незнакомых слов строятся гипотезы."
      ],
      "metadata": {
        "id": "ka7DNQkYilKi"
      }
    },
    {
      "cell_type": "code",
      "source": [
        "! pip install pymorphy2  # устанавливаем"
      ],
      "metadata": {
        "id": "aXds8ZVSjf2w",
        "colab": {
          "base_uri": "https://localhost:8080/"
        },
        "outputId": "38b8e066-07c5-4a7d-dc2e-907757091b6d"
      },
      "execution_count": 30,
      "outputs": [
        {
          "output_type": "stream",
          "name": "stdout",
          "text": [
            "Collecting pymorphy2\n",
            "  Downloading pymorphy2-0.9.1-py3-none-any.whl (55 kB)\n",
            "\u001b[2K     \u001b[90m━━━━━━━━━━━━━━━━━━━━━━━━━━━━━━━━━━━━━━━━\u001b[0m \u001b[32m55.5/55.5 kB\u001b[0m \u001b[31m886.5 kB/s\u001b[0m eta \u001b[36m0:00:00\u001b[0m\n",
            "\u001b[?25hCollecting dawg-python>=0.7.1 (from pymorphy2)\n",
            "  Downloading DAWG_Python-0.7.2-py2.py3-none-any.whl (11 kB)\n",
            "Collecting pymorphy2-dicts-ru<3.0,>=2.4 (from pymorphy2)\n",
            "  Downloading pymorphy2_dicts_ru-2.4.417127.4579844-py2.py3-none-any.whl (8.2 MB)\n",
            "\u001b[2K     \u001b[90m━━━━━━━━━━━━━━━━━━━━━━━━━━━━━━━━━━━━━━━━\u001b[0m \u001b[32m8.2/8.2 MB\u001b[0m \u001b[31m27.8 MB/s\u001b[0m eta \u001b[36m0:00:00\u001b[0m\n",
            "\u001b[?25hCollecting docopt>=0.6 (from pymorphy2)\n",
            "  Downloading docopt-0.6.2.tar.gz (25 kB)\n",
            "  Preparing metadata (setup.py) ... \u001b[?25l\u001b[?25hdone\n",
            "Building wheels for collected packages: docopt\n",
            "  Building wheel for docopt (setup.py) ... \u001b[?25l\u001b[?25hdone\n",
            "  Created wheel for docopt: filename=docopt-0.6.2-py2.py3-none-any.whl size=13706 sha256=741bc8933e104f0965d0f181d75234d6af06965ea489ec7a87776e5ce0d54635\n",
            "  Stored in directory: /root/.cache/pip/wheels/fc/ab/d4/5da2067ac95b36618c629a5f93f809425700506f72c9732fac\n",
            "Successfully built docopt\n",
            "Installing collected packages: pymorphy2-dicts-ru, docopt, dawg-python, pymorphy2\n",
            "Successfully installed dawg-python-0.7.2 docopt-0.6.2 pymorphy2-0.9.1 pymorphy2-dicts-ru-2.4.417127.4579844\n"
          ]
        }
      ]
    },
    {
      "cell_type": "code",
      "source": [
        "from pymorphy2 import MorphAnalyzer\n",
        "morph = MorphAnalyzer()"
      ],
      "metadata": {
        "id": "NyjMMiYhji1y"
      },
      "execution_count": 31,
      "outputs": []
    },
    {
      "cell_type": "code",
      "source": [
        "morph.parse('абракадабры') # умеет давать грам.информацию, лемму"
      ],
      "metadata": {
        "id": "R_B9dXG_jn8s",
        "colab": {
          "base_uri": "https://localhost:8080/"
        },
        "outputId": "15a2f354-58e3-4d53-b87e-976c741cdbdc"
      },
      "execution_count": 32,
      "outputs": [
        {
          "output_type": "execute_result",
          "data": {
            "text/plain": [
              "[Parse(word='абракадабры', tag=OpencorporaTag('NOUN,inan,femn sing,gent'), normal_form='абракадабра', score=0.3333333333333333, methods_stack=((DictionaryAnalyzer(), 'абракадабры', 55, 1),)),\n",
              " Parse(word='абракадабры', tag=OpencorporaTag('NOUN,inan,femn plur,nomn'), normal_form='абракадабра', score=0.3333333333333333, methods_stack=((DictionaryAnalyzer(), 'абракадабры', 55, 7),)),\n",
              " Parse(word='абракадабры', tag=OpencorporaTag('NOUN,inan,femn plur,accs'), normal_form='абракадабра', score=0.3333333333333333, methods_stack=((DictionaryAnalyzer(), 'абракадабры', 55, 10),))]"
            ]
          },
          "metadata": {},
          "execution_count": 32
        }
      ]
    },
    {
      "cell_type": "code",
      "source": [
        "morph.parse('ПиЛа')  # регистр не влияет"
      ],
      "metadata": {
        "id": "hjP8cp0Ajumr",
        "colab": {
          "base_uri": "https://localhost:8080/"
        },
        "outputId": "5f7504c2-2fb6-4250-8f5d-72df9d437827"
      },
      "execution_count": 33,
      "outputs": [
        {
          "output_type": "execute_result",
          "data": {
            "text/plain": [
              "[Parse(word='пила', tag=OpencorporaTag('NOUN,inan,femn sing,nomn'), normal_form='пила', score=0.428571, methods_stack=((DictionaryAnalyzer(), 'пила', 55, 0),)),\n",
              " Parse(word='пила', tag=OpencorporaTag('VERB,impf,tran femn,sing,past,indc'), normal_form='пить', score=0.285714, methods_stack=((DictionaryAnalyzer(), 'пила', 465, 8),)),\n",
              " Parse(word='пила', tag=OpencorporaTag('NOUN,anim,masc,Name sing,gent'), normal_form='пил', score=0.142857, methods_stack=((DictionaryAnalyzer(), 'пила', 27, 1),)),\n",
              " Parse(word='пила', tag=OpencorporaTag('NOUN,anim,masc,Name sing,accs'), normal_form='пил', score=0.142857, methods_stack=((DictionaryAnalyzer(), 'пила', 27, 3),))]"
            ]
          },
          "metadata": {},
          "execution_count": 33
        }
      ]
    },
    {
      "cell_type": "code",
      "source": [
        "morph.parse('водомотодельтаплан')  # для незнакомых слов делает предположения по похожим"
      ],
      "metadata": {
        "id": "YH7PMxK9j2FK",
        "colab": {
          "base_uri": "https://localhost:8080/"
        },
        "outputId": "3fb441f7-6ae3-4a42-9bce-943831c9cecd"
      },
      "execution_count": 34,
      "outputs": [
        {
          "output_type": "execute_result",
          "data": {
            "text/plain": [
              "[Parse(word='водомотодельтаплан', tag=OpencorporaTag('NOUN,inan,masc sing,nomn'), normal_form='водомотодельтаплан', score=0.5, methods_stack=((DictionaryAnalyzer(), 'мотодельтаплан', 34, 0), (UnknownPrefixAnalyzer(score_multiplier=0.5), 'водо'))),\n",
              " Parse(word='водомотодельтаплан', tag=OpencorporaTag('NOUN,inan,masc sing,accs'), normal_form='водомотодельтаплан', score=0.5, methods_stack=((DictionaryAnalyzer(), 'мотодельтаплан', 34, 3), (UnknownPrefixAnalyzer(score_multiplier=0.5), 'водо')))]"
            ]
          },
          "metadata": {},
          "execution_count": 34
        }
      ]
    },
    {
      "cell_type": "code",
      "source": [
        "morph.parse('вулканоизвержение')"
      ],
      "metadata": {
        "id": "u54CE_yETmvS",
        "colab": {
          "base_uri": "https://localhost:8080/"
        },
        "outputId": "977a1d74-7c3e-4488-f140-efd4e68136d3"
      },
      "execution_count": 35,
      "outputs": [
        {
          "output_type": "execute_result",
          "data": {
            "text/plain": [
              "[Parse(word='вулканоизвержение', tag=OpencorporaTag('NOUN,inan,neut sing,nomn'), normal_form='вулканоизвержение', score=0.5, methods_stack=((FakeDictionary(), 'вулканоизвержение', 77, 0), (KnownSuffixAnalyzer(min_word_length=4, score_multiplier=0.5), 'жение'))),\n",
              " Parse(word='вулканоизвержение', tag=OpencorporaTag('NOUN,inan,neut sing,accs'), normal_form='вулканоизвержение', score=0.5, methods_stack=((FakeDictionary(), 'вулканоизвержение', 77, 6), (KnownSuffixAnalyzer(min_word_length=4, score_multiplier=0.5), 'жение')))]"
            ]
          },
          "metadata": {},
          "execution_count": 35
        }
      ]
    },
    {
      "cell_type": "code",
      "source": [
        "morph.parse('скуф')"
      ],
      "metadata": {
        "colab": {
          "base_uri": "https://localhost:8080/"
        },
        "id": "BF_EyrDY7RYG",
        "outputId": "80291e54-5bde-44c9-e56b-074163a54690"
      },
      "execution_count": 36,
      "outputs": [
        {
          "output_type": "execute_result",
          "data": {
            "text/plain": [
              "[Parse(word='скуф', tag=OpencorporaTag('NOUN,anim,masc,Name sing,nomn'), normal_form='скуф', score=1.0, methods_stack=((FakeDictionary(), 'скуф', 27, 0), (KnownSuffixAnalyzer(min_word_length=4, score_multiplier=0.5), 'уф')))]"
            ]
          },
          "metadata": {},
          "execution_count": 36
        }
      ]
    },
    {
      "cell_type": "code",
      "source": [
        "door = morph.parse('дверь')[0]  # может ставить слова в любую форму\n",
        "print(door)\n",
        "print(door.inflect({'plur','ablt'}))"
      ],
      "metadata": {
        "id": "prRsotbgj3yA",
        "colab": {
          "base_uri": "https://localhost:8080/"
        },
        "outputId": "f72041f5-dce0-47f4-f92a-7a92624ceec9"
      },
      "execution_count": 37,
      "outputs": [
        {
          "output_type": "stream",
          "name": "stdout",
          "text": [
            "Parse(word='дверь', tag=OpencorporaTag('NOUN,inan,femn sing,accs'), normal_form='дверь', score=0.612903, methods_stack=((DictionaryAnalyzer(), 'дверь', 1310, 3),))\n",
            "Parse(word='дверями', tag=OpencorporaTag('NOUN,inan,femn plur,ablt'), normal_form='дверь', score=1.0, methods_stack=((DictionaryAnalyzer(), 'дверями', 1310, 12),))\n"
          ]
        }
      ]
    },
    {
      "cell_type": "code",
      "source": [
        "glokaja = morph.parse('глокая')\n",
        "glokaja"
      ],
      "metadata": {
        "id": "X6e8Afv9j_zD",
        "colab": {
          "base_uri": "https://localhost:8080/"
        },
        "outputId": "ca4859f7-0eac-4b19-aa4e-f30fee7d5efe"
      },
      "execution_count": 39,
      "outputs": [
        {
          "output_type": "execute_result",
          "data": {
            "text/plain": [
              "[Parse(word='глокая', tag=OpencorporaTag('GRND,impf,intr pres'), normal_form='глокать', score=0.27950310559006214, methods_stack=((DictionaryAnalyzer(), 'окая', 15, 67), (UnknownPrefixAnalyzer(score_multiplier=0.5), 'гл'))),\n",
              " Parse(word='глокая', tag=OpencorporaTag('NOUN,anim,masc,Name sing,gent'), normal_form='глокай', score=0.27950310559006214, methods_stack=((DictionaryAnalyzer(), 'кая', 42, 1), (UnknownPrefixAnalyzer(score_multiplier=0.5), 'гло'))),\n",
              " Parse(word='глокая', tag=OpencorporaTag('NOUN,anim,masc,Name sing,accs'), normal_form='глокай', score=0.27950310559006214, methods_stack=((DictionaryAnalyzer(), 'кая', 42, 3), (UnknownPrefixAnalyzer(score_multiplier=0.5), 'гло'))),\n",
              " Parse(word='глокая', tag=OpencorporaTag('ADJF femn,sing,nomn'), normal_form='глокий', score=0.14906832298136646, methods_stack=((FakeDictionary(), 'глокая', 395, 7), (KnownSuffixAnalyzer(min_word_length=4, score_multiplier=0.5), 'окая'))),\n",
              " Parse(word='глокая', tag=OpencorporaTag('NOUN,inan,masc,Sgtm,Geox sing,gent'), normal_form='глокай', score=0.006211180124223603, methods_stack=((FakeDictionary(), 'глокая', 43, 1), (KnownSuffixAnalyzer(min_word_length=4, score_multiplier=0.5), 'окая'))),\n",
              " Parse(word='глокая', tag=OpencorporaTag('NOUN,inan,masc sing,gent'), normal_form='глокай', score=0.006211180124223603, methods_stack=((FakeDictionary(), 'глокая', 1217, 1), (KnownSuffixAnalyzer(min_word_length=4, score_multiplier=0.5), 'окая')))]"
            ]
          },
          "metadata": {},
          "execution_count": 39
        }
      ]
    },
    {
      "cell_type": "code",
      "source": [
        "print(glokaja[0].inflect({'past'})) # подберёт морфологию для несуществующих слов"
      ],
      "metadata": {
        "id": "jPPO0gV1kW30",
        "colab": {
          "base_uri": "https://localhost:8080/"
        },
        "outputId": "57e6ee58-a1d3-43a4-c04e-1c5e4e92aa99"
      },
      "execution_count": 40,
      "outputs": [
        {
          "output_type": "stream",
          "name": "stdout",
          "text": [
            "Parse(word='глокав', tag=OpencorporaTag('GRND,impf,intr past'), normal_form='глокать', score=1.0, methods_stack=((DictionaryAnalyzer(), 'окав', 15, 68), (UnknownPrefixAnalyzer(score_multiplier=0.5), 'гл')))\n"
          ]
        }
      ]
    },
    {
      "cell_type": "markdown",
      "source": [
        "### [Mystem](https://pypi.org/project/pymystem3/)\n",
        "\n",
        "Анализатор для русского от Yandex"
      ],
      "metadata": {
        "id": "Y_5MngsH5sk-"
      }
    },
    {
      "cell_type": "code",
      "source": [
        "! pip install pymystem3"
      ],
      "metadata": {
        "id": "y89_QO1x5ru2",
        "colab": {
          "base_uri": "https://localhost:8080/"
        },
        "outputId": "1e27971f-3c1d-4ce0-f463-da021a2160e5"
      },
      "execution_count": 41,
      "outputs": [
        {
          "output_type": "stream",
          "name": "stdout",
          "text": [
            "Requirement already satisfied: pymystem3 in /usr/local/lib/python3.10/dist-packages (0.2.0)\n",
            "Requirement already satisfied: requests in /usr/local/lib/python3.10/dist-packages (from pymystem3) (2.31.0)\n",
            "Requirement already satisfied: charset-normalizer<4,>=2 in /usr/local/lib/python3.10/dist-packages (from requests->pymystem3) (3.3.2)\n",
            "Requirement already satisfied: idna<4,>=2.5 in /usr/local/lib/python3.10/dist-packages (from requests->pymystem3) (3.6)\n",
            "Requirement already satisfied: urllib3<3,>=1.21.1 in /usr/local/lib/python3.10/dist-packages (from requests->pymystem3) (2.0.7)\n",
            "Requirement already satisfied: certifi>=2017.4.17 in /usr/local/lib/python3.10/dist-packages (from requests->pymystem3) (2023.11.17)\n"
          ]
        }
      ]
    },
    {
      "cell_type": "code",
      "source": [
        "from pymystem3 import Mystem"
      ],
      "metadata": {
        "id": "CcqHjwlh6AZe"
      },
      "execution_count": 42,
      "outputs": []
    },
    {
      "cell_type": "code",
      "source": [
        "text = \"Мама красиво мыла красивую раму и Милу\"\n",
        "m = Mystem()\n",
        "m.lemmatize(text)"
      ],
      "metadata": {
        "id": "Ye3c1Gas57SQ",
        "colab": {
          "base_uri": "https://localhost:8080/"
        },
        "outputId": "d4538d00-f0c3-49b8-e41a-4453a69b9904"
      },
      "execution_count": 43,
      "outputs": [
        {
          "output_type": "stream",
          "name": "stderr",
          "text": [
            "Installing mystem to /root/.local/bin/mystem from http://download.cdn.yandex.net/mystem/mystem-3.1-linux-64bit.tar.gz\n"
          ]
        },
        {
          "output_type": "execute_result",
          "data": {
            "text/plain": [
              "['мама',\n",
              " ' ',\n",
              " 'красиво',\n",
              " ' ',\n",
              " 'мыть',\n",
              " ' ',\n",
              " 'красивый',\n",
              " ' ',\n",
              " 'рама',\n",
              " ' ',\n",
              " 'и',\n",
              " ' ',\n",
              " 'мила',\n",
              " '\\n']"
            ]
          },
          "metadata": {},
          "execution_count": 43
        }
      ]
    },
    {
      "cell_type": "code",
      "source": [
        "m.analyze(text)"
      ],
      "metadata": {
        "id": "cNGSLsHG6E98",
        "colab": {
          "base_uri": "https://localhost:8080/"
        },
        "outputId": "38c5e254-b66d-42f9-b2f8-e5f59e01d19d"
      },
      "execution_count": 44,
      "outputs": [
        {
          "output_type": "execute_result",
          "data": {
            "text/plain": [
              "[{'analysis': [{'lex': 'мама', 'wt': 1, 'gr': 'S,жен,од=им,ед'}],\n",
              "  'text': 'Мама'},\n",
              " {'text': ' '},\n",
              " {'analysis': [{'lex': 'красиво', 'wt': 0.8149252476, 'gr': 'ADV='}],\n",
              "  'text': 'красиво'},\n",
              " {'text': ' '},\n",
              " {'analysis': [{'lex': 'мыть',\n",
              "    'wt': 0.441520999,\n",
              "    'gr': 'V,несов,пе=прош,ед,изъяв,жен'}],\n",
              "  'text': 'мыла'},\n",
              " {'text': ' '},\n",
              " {'analysis': [{'lex': 'красивый', 'wt': 1, 'gr': 'A=вин,ед,полн,жен'}],\n",
              "  'text': 'красивую'},\n",
              " {'text': ' '},\n",
              " {'analysis': [{'lex': 'рама', 'wt': 0.9993591156, 'gr': 'S,жен,неод=вин,ед'}],\n",
              "  'text': 'раму'},\n",
              " {'text': ' '},\n",
              " {'analysis': [{'lex': 'и', 'wt': 0.9999770357, 'gr': 'CONJ='}], 'text': 'и'},\n",
              " {'text': ' '},\n",
              " {'analysis': [{'lex': 'мила',\n",
              "    'wt': 0.9960924767,\n",
              "    'gr': 'S,имя,жен,од=вин,ед'}],\n",
              "  'text': 'Милу'},\n",
              " {'text': '\\n'}]"
            ]
          },
          "metadata": {},
          "execution_count": 44
        }
      ]
    },
    {
      "cell_type": "markdown",
      "source": [
        "# [NLTK](https://www.nltk.org/)"
      ],
      "metadata": {
        "id": "2O_qtIWn25cH"
      }
    },
    {
      "cell_type": "code",
      "source": [
        "import nltk"
      ],
      "metadata": {
        "id": "iaHHM0a121s-"
      },
      "execution_count": 25,
      "outputs": []
    },
    {
      "cell_type": "code",
      "source": [
        "nltk.download('punkt')"
      ],
      "metadata": {
        "id": "JEfo6N2m24Oy"
      },
      "execution_count": null,
      "outputs": []
    },
    {
      "cell_type": "code",
      "source": [
        "nltk.download('averaged_perceptron_tagger_ru')"
      ],
      "metadata": {
        "id": "QOmTn5DX2_s1"
      },
      "execution_count": null,
      "outputs": []
    },
    {
      "cell_type": "code",
      "source": [
        "from nltk import pos_tag, word_tokenize"
      ],
      "metadata": {
        "id": "FeZYMLDg2r6f"
      },
      "execution_count": 23,
      "outputs": []
    },
    {
      "cell_type": "code",
      "source": [
        "pos_tag(word_tokenize('Мила! Мама мыла.'), lang='rus')"
      ],
      "metadata": {
        "colab": {
          "base_uri": "https://localhost:8080/"
        },
        "id": "97l7ydKg2vAX",
        "outputId": "78635aac-c708-4671-a083-9e4acf5292ec"
      },
      "execution_count": 59,
      "outputs": [
        {
          "output_type": "execute_result",
          "data": {
            "text/plain": [
              "[('Мила', 'S'), ('!', 'NONLEX'), ('Мама', 'S'), ('мыла', 'V'), ('.', 'NONLEX')]"
            ]
          },
          "metadata": {},
          "execution_count": 59
        }
      ]
    },
    {
      "cell_type": "markdown",
      "source": [
        "# [Spacy](https://spacy.io/usage/linguistic-features)\n",
        "\n",
        "Большой проект, натренированные модели для 25 языков"
      ],
      "metadata": {
        "id": "Pb-6oOKA_-W5"
      }
    },
    {
      "cell_type": "code",
      "source": [
        "import spacy"
      ],
      "metadata": {
        "id": "AeWlVNR5_9lH"
      },
      "execution_count": 46,
      "outputs": []
    },
    {
      "cell_type": "code",
      "source": [
        "! python3 -m spacy download ru_core_news_sm"
      ],
      "metadata": {
        "id": "bOr671lFBabo"
      },
      "execution_count": null,
      "outputs": []
    },
    {
      "cell_type": "code",
      "source": [
        "nlp = spacy.load(\"ru_core_news_sm\")"
      ],
      "metadata": {
        "id": "yHwAVm8iAbyW"
      },
      "execution_count": 48,
      "outputs": []
    },
    {
      "cell_type": "code",
      "source": [
        "doc = nlp(text)\n",
        "print(doc.text)"
      ],
      "metadata": {
        "id": "T581epndByBF",
        "colab": {
          "base_uri": "https://localhost:8080/"
        },
        "outputId": "b745f716-d101-44e9-994e-7bf1f1ab2e7d"
      },
      "execution_count": 49,
      "outputs": [
        {
          "output_type": "stream",
          "name": "stdout",
          "text": [
            "Мама красиво мыла красивую раму и Милу\n"
          ]
        }
      ]
    },
    {
      "cell_type": "code",
      "source": [
        "for token in doc:\n",
        "    print(token.text, token.lemma_, token.pos_, token.morph)"
      ],
      "metadata": {
        "colab": {
          "base_uri": "https://localhost:8080/"
        },
        "id": "EBdY1THl93z-",
        "outputId": "bb62c2ea-03dc-45a6-a96a-c8bac7492b74"
      },
      "execution_count": 50,
      "outputs": [
        {
          "output_type": "stream",
          "name": "stdout",
          "text": [
            "Мама мама NOUN Animacy=Anim|Case=Nom|Gender=Fem|Number=Sing\n",
            "красиво красиво ADV Degree=Pos\n",
            "мыла мыть VERB Aspect=Imp|Gender=Fem|Mood=Ind|Number=Sing|Tense=Past|VerbForm=Fin|Voice=Act\n",
            "красивую красивый ADJ Case=Acc|Degree=Pos|Gender=Fem|Number=Sing\n",
            "раму рама NOUN Animacy=Inan|Case=Acc|Gender=Fem|Number=Sing\n",
            "и и CCONJ \n",
            "Милу мила PROPN Animacy=Anim|Case=Acc|Gender=Fem|Number=Sing\n"
          ]
        }
      ]
    },
    {
      "cell_type": "markdown",
      "source": [
        "# [Stanza](https://stanfordnlp.github.io/stanza/index.html)\n",
        "\n",
        "Большой проект, натренированные модели для 70 языков.\n",
        "\n",
        "Материал, на котором тренировались модели: [Universal Dependencies](https://universaldependencies.org/)"
      ],
      "metadata": {
        "id": "sZPraGUl5RpO"
      }
    },
    {
      "cell_type": "code",
      "source": [
        "! pip install stanza"
      ],
      "metadata": {
        "id": "rSyWHkwG5R9E"
      },
      "execution_count": null,
      "outputs": []
    },
    {
      "cell_type": "code",
      "source": [
        "import stanza"
      ],
      "metadata": {
        "id": "tcSo1c4i5UoA"
      },
      "execution_count": 12,
      "outputs": []
    },
    {
      "cell_type": "code",
      "source": [
        "stanza.download(\"ru\")"
      ],
      "metadata": {
        "id": "ONfFB71p7uOW"
      },
      "execution_count": null,
      "outputs": []
    },
    {
      "cell_type": "code",
      "source": [
        "nlp = stanza.Pipeline(lang=\"ru\", processors=\"tokenize, pos, lemma, depparse, ner\")"
      ],
      "metadata": {
        "colab": {
          "base_uri": "https://localhost:8080/",
          "height": 399,
          "referenced_widgets": [
            "af9d5ae79df946fc8223bf957e2fdf13",
            "79e69e667e474fa8a4267ceeb5a82224",
            "c9453c3f27734dfa945d80ca2245e6e1",
            "2ff189a6b63747288caffe7f572f0081",
            "af9e30ba1b4243dcbdc5862765080b84",
            "96cc78d5cb65448da1120e4fe73ffcc7",
            "6c62e28f89a6462b84a51a388d471421",
            "01f084c6fa0345f18f2c8a6621e9622a",
            "a9ce31dad1544268bae4876ac06921e4",
            "15e5d0255da3400b9a725dc68bd9ecca",
            "6c870b75296c4a2a86dbc69ef157d548"
          ]
        },
        "id": "fLKryqPi7-Rt",
        "outputId": "241f2067-e8e6-4ad2-d72b-734d6658f39b"
      },
      "execution_count": 54,
      "outputs": [
        {
          "output_type": "stream",
          "name": "stderr",
          "text": [
            "INFO:stanza:Checking for updates to resources.json in case models have been updated.  Note: this behavior can be turned off with download_method=None or download_method=DownloadMethod.REUSE_RESOURCES\n"
          ]
        },
        {
          "output_type": "display_data",
          "data": {
            "text/plain": [
              "Downloading https://raw.githubusercontent.com/stanfordnlp/stanza-resources/main/resources_1.7.0.json:   0%|   …"
            ],
            "application/vnd.jupyter.widget-view+json": {
              "version_major": 2,
              "version_minor": 0,
              "model_id": "af9d5ae79df946fc8223bf957e2fdf13"
            }
          },
          "metadata": {}
        },
        {
          "output_type": "stream",
          "name": "stderr",
          "text": [
            "INFO:stanza:Loading these models for language: ru (Russian):\n",
            "==================================\n",
            "| Processor | Package            |\n",
            "----------------------------------\n",
            "| tokenize  | syntagrus          |\n",
            "| pos       | syntagrus_charlm   |\n",
            "| lemma     | syntagrus_nocharlm |\n",
            "| depparse  | syntagrus_charlm   |\n",
            "| ner       | wikiner            |\n",
            "==================================\n",
            "\n",
            "INFO:stanza:Using device: cpu\n",
            "INFO:stanza:Loading: tokenize\n",
            "INFO:stanza:Loading: pos\n",
            "INFO:stanza:Loading: lemma\n",
            "INFO:stanza:Loading: depparse\n",
            "INFO:stanza:Loading: ner\n",
            "INFO:stanza:Done loading processors!\n"
          ]
        }
      ]
    },
    {
      "cell_type": "code",
      "source": [
        "doc = nlp('Мила! Мама мыла.')"
      ],
      "metadata": {
        "id": "w-gik25d8C7d"
      },
      "execution_count": 55,
      "outputs": []
    },
    {
      "cell_type": "code",
      "source": [
        "doc.sentences"
      ],
      "metadata": {
        "colab": {
          "base_uri": "https://localhost:8080/"
        },
        "id": "pTajwcuxAQRL",
        "outputId": "742cbce5-6b51-4688-bdd7-ad985ce68ec3"
      },
      "execution_count": 56,
      "outputs": [
        {
          "output_type": "execute_result",
          "data": {
            "text/plain": [
              "[[\n",
              "   {\n",
              "     \"id\": 1,\n",
              "     \"text\": \"Мила\",\n",
              "     \"lemma\": \"мил\",\n",
              "     \"upos\": \"NOUN\",\n",
              "     \"feats\": \"Animacy=Anim|Case=Nom|Gender=Fem|Number=Sing\",\n",
              "     \"head\": 0,\n",
              "     \"deprel\": \"root\",\n",
              "     \"start_char\": 0,\n",
              "     \"end_char\": 4,\n",
              "     \"ner\": \"B-MISC\",\n",
              "     \"multi_ner\": [\n",
              "       \"B-MISC\"\n",
              "     ]\n",
              "   },\n",
              "   {\n",
              "     \"id\": 2,\n",
              "     \"text\": \"!\",\n",
              "     \"lemma\": \"!\",\n",
              "     \"upos\": \"PUNCT\",\n",
              "     \"head\": 1,\n",
              "     \"deprel\": \"punct\",\n",
              "     \"start_char\": 4,\n",
              "     \"end_char\": 5,\n",
              "     \"ner\": \"E-MISC\",\n",
              "     \"multi_ner\": [\n",
              "       \"E-MISC\"\n",
              "     ]\n",
              "   }\n",
              " ],\n",
              " [\n",
              "   {\n",
              "     \"id\": 1,\n",
              "     \"text\": \"Мама\",\n",
              "     \"lemma\": \"мама\",\n",
              "     \"upos\": \"NOUN\",\n",
              "     \"feats\": \"Animacy=Anim|Case=Nom|Gender=Fem|Number=Sing\",\n",
              "     \"head\": 2,\n",
              "     \"deprel\": \"nsubj\",\n",
              "     \"start_char\": 6,\n",
              "     \"end_char\": 10,\n",
              "     \"ner\": \"O\",\n",
              "     \"multi_ner\": [\n",
              "       \"O\"\n",
              "     ]\n",
              "   },\n",
              "   {\n",
              "     \"id\": 2,\n",
              "     \"text\": \"мыла\",\n",
              "     \"lemma\": \"мыть\",\n",
              "     \"upos\": \"VERB\",\n",
              "     \"feats\": \"Aspect=Imp|Gender=Fem|Mood=Ind|Number=Sing|Tense=Past|VerbForm=Fin|Voice=Act\",\n",
              "     \"head\": 0,\n",
              "     \"deprel\": \"root\",\n",
              "     \"start_char\": 11,\n",
              "     \"end_char\": 15,\n",
              "     \"ner\": \"O\",\n",
              "     \"multi_ner\": [\n",
              "       \"O\"\n",
              "     ]\n",
              "   },\n",
              "   {\n",
              "     \"id\": 3,\n",
              "     \"text\": \".\",\n",
              "     \"lemma\": \".\",\n",
              "     \"upos\": \"PUNCT\",\n",
              "     \"head\": 2,\n",
              "     \"deprel\": \"punct\",\n",
              "     \"start_char\": 15,\n",
              "     \"end_char\": 16,\n",
              "     \"ner\": \"O\",\n",
              "     \"multi_ner\": [\n",
              "       \"O\"\n",
              "     ]\n",
              "   }\n",
              " ]]"
            ]
          },
          "metadata": {},
          "execution_count": 56
        }
      ]
    },
    {
      "cell_type": "code",
      "source": [
        "[word.lemma for sent in doc.sentences for word in sent.words]"
      ],
      "metadata": {
        "colab": {
          "base_uri": "https://localhost:8080/"
        },
        "id": "u7fqGOtEtofp",
        "outputId": "52e9f1a3-4458-4eba-a71b-295366cbb1e4"
      },
      "execution_count": 57,
      "outputs": [
        {
          "output_type": "execute_result",
          "data": {
            "text/plain": [
              "['мил', '!', 'мама', 'мыть', '.']"
            ]
          },
          "metadata": {},
          "execution_count": 57
        }
      ]
    },
    {
      "cell_type": "code",
      "source": [
        "print(*[f'word: {word.text}\\tupos: {word.upos}\\txpos: {word.xpos}\\tfeats: {word.feats if word.feats else \"_\"}' for sent in doc.sentences for word in sent.words], sep='\\n')"
      ],
      "metadata": {
        "colab": {
          "base_uri": "https://localhost:8080/"
        },
        "id": "z-x1ilRW_JW7",
        "outputId": "e9c81d97-87f5-4c4d-8361-0b0f7fbcd817"
      },
      "execution_count": 58,
      "outputs": [
        {
          "output_type": "stream",
          "name": "stdout",
          "text": [
            "word: Мила\tupos: NOUN\txpos: None\tfeats: Animacy=Anim|Case=Nom|Gender=Fem|Number=Sing\n",
            "word: !\tupos: PUNCT\txpos: None\tfeats: _\n",
            "word: Мама\tupos: NOUN\txpos: None\tfeats: Animacy=Anim|Case=Nom|Gender=Fem|Number=Sing\n",
            "word: мыла\tupos: VERB\txpos: None\tfeats: Aspect=Imp|Gender=Fem|Mood=Ind|Number=Sing|Tense=Past|VerbForm=Fin|Voice=Act\n",
            "word: .\tupos: PUNCT\txpos: None\tfeats: _\n"
          ]
        }
      ]
    },
    {
      "cell_type": "markdown",
      "source": [
        "И много разных для конкретных языков."
      ],
      "metadata": {
        "id": "oZb4BokMI2gu"
      }
    },
    {
      "cell_type": "markdown",
      "source": [
        "Понимаете, как использовать nltk, spaCy и Stanza для других языков?"
      ],
      "metadata": {
        "id": "s51TLgMSuK3-"
      }
    },
    {
      "cell_type": "markdown",
      "source": [
        "# Соединим наши знания\n",
        "Тренируемся:\n",
        "- делим текст на слова (если необходимо)\n",
        "- печатаем слово и морфологический анализ от разных анализаторов (да, есть сложности с этим)"
      ],
      "metadata": {
        "id": "Cn5Z-uBVsyon"
      }
    },
    {
      "cell_type": "markdown",
      "source": [
        "А на каком тексте лучше проверять?\n",
        "\n",
        "Нужен текст, учитывающий сложности и спорные случаи например, омонимию. Попробуйте придумать.\n",
        "\n",
        " (ниже не он)"
      ],
      "metadata": {
        "id": "3lSndHAtJ-1X"
      }
    },
    {
      "cell_type": "code",
      "source": [
        "text = \"Жили-были трое троллей на вершинах дальних гор. Жили тролли не скучали, хоть молчали с давних пор. Как-то раз, никто не знает, от каких таких причин...\""
      ],
      "metadata": {
        "id": "Nz8Njmnjsv2d"
      },
      "execution_count": 5,
      "outputs": []
    },
    {
      "cell_type": "code",
      "source": [],
      "metadata": {
        "id": "u2b0N6LyKMXY"
      },
      "execution_count": null,
      "outputs": []
    }
  ]
}