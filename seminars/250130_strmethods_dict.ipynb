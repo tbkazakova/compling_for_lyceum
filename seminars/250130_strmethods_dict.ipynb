{
  "cells": [
    {
      "cell_type": "markdown",
      "id": "fe4aa52a",
      "metadata": {
        "id": "fe4aa52a"
      },
      "source": [
        "# Строковые методы и словари"
      ]
    },
    {
      "cell_type": "markdown",
      "id": "aec3aa23",
      "metadata": {
        "id": "aec3aa23"
      },
      "source": [
        "Мы уже знаем про:\n",
        "- типы данных `int`, `float`, `str`, `bool`, `list` [список], `tuple` (кортеж неизменяемый)\n",
        "- математические операторы: `+`, `-`, `/`, `*`, `**` (в степень), `%` (остаток от деления), `//` (целая часть при делении)\n",
        "- `print()` — напечатать\n",
        "- `type()` — узнать тип данных\n",
        "- `input()` — принять значение от пользователя\n",
        "- `int()` — преобразовать в целочисленный формат\n",
        "- `float()` — преобразовать в формат дробного числа\n",
        "- `str()` — преобразовать в строку\n",
        "- `bool()` — преобразовать в bool (True/False)\n",
        "- `list()` — преобразовать в список\n",
        "- `tuple()` — преобразовать в кортеж\n",
        "- условия:\n",
        "```\n",
        "if <условие>:\n",
        "    <инструкции, для случая если условие истинно (True)>\n",
        "#elif <условие №2>:\n",
        "#    <инструкции, для случая если условие №2 истинно (True)>\n",
        "#else:\n",
        "#    <инструкции, когда все условия не выполнились (False)>\n",
        "```\n",
        "- операторы сравнения: `>`, `<`, `>=`, `<=`, `==` (равно), `!=` (не равно)\n",
        "- логические операторы: `and`, `or`, `not`\n",
        "- цикл `while`:\n",
        "```\n",
        "while <условие>:\n",
        "    <инструкции, которые будут выполняться по кругу, пока условие выполняется True>\n",
        "```\n",
        "- цикл `for`\n",
        "```\n",
        "for <element> in <elements>:\n",
        "       <инструкции, которые будут выполняться для каждого элемента>\n",
        "```\n",
        "- `.split()` - поделить строку, указанную до точки, по сочетанию символов, указанных в скобках (строка -> список)\n",
        "- индексация с нуля: `итерируемый_объект[индекс]`\n",
        "- срезы: `итерируемый_объект[START:END:STEP]`\n",
        "- `*список` - то же самое, что `список[0] список[1] список[2] список[3]...`\n",
        "- `len()` - узнать длину\n",
        "- `range()` - \"обещание последовательности чисел\" (`list(range(0, 8, 2))` - `[0, 2, 4, 6]`)\n",
        "- `enumerate()` - делает последовательность кортежей: [(порядковый_номер, элемент), (порядковый_номер, элемент), (порядковый_номер, элемент)]\n",
        "\n",
        "**Методы списка (+ строк и кортежей, если метод ничего не изменяет)**\n",
        "- `.append()` - добавление элемента в конец списка\n",
        "- `.extend(another_list)` - расширяет список, добавляя в конец все элементы списка `another_list` (и не только списка)\n",
        "- `.insert(i, x)` — вставляет в `i`-ую позицию в списке значение `x`\n",
        "- `.remove(x)` — удаляет первый элемент в списке, имеющий значение `x`\n",
        "- `.pop(i)` - удаляет элемент с индексом `i` (по умолчанию последний) и возвращает удалённый элемент\n",
        "- `.clear()` — очищает список\n",
        "- `.count(x)` — узнать, сколько раз встречается элемент `x`\n",
        "- `.index(x)` — узнать индекс элемента `x` в списке\n",
        "\n",
        "**Функции для списков и кортежей**\n",
        "- `sum()` — сумма\n",
        "- `min()` — минимальное\n",
        "- `max()` — максимальное\n",
        "- `map()` — применить функцию или метод ко всем элементам сразу (`print(list(map(len, ['Привет', 'ТЕСТ', 'функции', 'map!'])))` - `[6, 4, 7, 4]`), (`print(list(map(str.split, ['Таня Казакова', 'Максим Бажуков', 'Олег Сериков'])))` - `[['Таня', 'Казакова'], ['Максим', 'Бажуков']]`)\n"
      ]
    },
    {
      "cell_type": "markdown",
      "id": "2P2kEzz3wTzz",
      "metadata": {
        "id": "2P2kEzz3wTzz"
      },
      "source": [
        "## Строковые методы"
      ]
    },
    {
      "cell_type": "code",
      "execution_count": 2,
      "id": "e3LJ-mzQxkF-",
      "metadata": {
        "id": "e3LJ-mzQxkF-",
        "tags": [],
        "colab": {
          "base_uri": "https://localhost:8080/"
        },
        "outputId": "99584b84-3222-45fd-9386-89024ed76280"
      },
      "outputs": [
        {
          "output_type": "stream",
          "name": "stdout",
          "text": [
            "Help on class str in module builtins:\n",
            "\n",
            "class str(object)\n",
            " |  str(object='') -> str\n",
            " |  str(bytes_or_buffer[, encoding[, errors]]) -> str\n",
            " |  \n",
            " |  Create a new string object from the given object. If encoding or\n",
            " |  errors is specified, then the object must expose a data buffer\n",
            " |  that will be decoded using the given encoding and error handler.\n",
            " |  Otherwise, returns the result of object.__str__() (if defined)\n",
            " |  or repr(object).\n",
            " |  encoding defaults to sys.getdefaultencoding().\n",
            " |  errors defaults to 'strict'.\n",
            " |  \n",
            " |  Methods defined here:\n",
            " |  \n",
            " |  __add__(self, value, /)\n",
            " |      Return self+value.\n",
            " |  \n",
            " |  __contains__(self, key, /)\n",
            " |      Return key in self.\n",
            " |  \n",
            " |  __eq__(self, value, /)\n",
            " |      Return self==value.\n",
            " |  \n",
            " |  __format__(self, format_spec, /)\n",
            " |      Return a formatted version of the string as described by format_spec.\n",
            " |  \n",
            " |  __ge__(self, value, /)\n",
            " |      Return self>=value.\n",
            " |  \n",
            " |  __getattribute__(self, name, /)\n",
            " |      Return getattr(self, name).\n",
            " |  \n",
            " |  __getitem__(self, key, /)\n",
            " |      Return self[key].\n",
            " |  \n",
            " |  __getnewargs__(...)\n",
            " |  \n",
            " |  __gt__(self, value, /)\n",
            " |      Return self>value.\n",
            " |  \n",
            " |  __hash__(self, /)\n",
            " |      Return hash(self).\n",
            " |  \n",
            " |  __iter__(self, /)\n",
            " |      Implement iter(self).\n",
            " |  \n",
            " |  __le__(self, value, /)\n",
            " |      Return self<=value.\n",
            " |  \n",
            " |  __len__(self, /)\n",
            " |      Return len(self).\n",
            " |  \n",
            " |  __lt__(self, value, /)\n",
            " |      Return self<value.\n",
            " |  \n",
            " |  __mod__(self, value, /)\n",
            " |      Return self%value.\n",
            " |  \n",
            " |  __mul__(self, value, /)\n",
            " |      Return self*value.\n",
            " |  \n",
            " |  __ne__(self, value, /)\n",
            " |      Return self!=value.\n",
            " |  \n",
            " |  __repr__(self, /)\n",
            " |      Return repr(self).\n",
            " |  \n",
            " |  __rmod__(self, value, /)\n",
            " |      Return value%self.\n",
            " |  \n",
            " |  __rmul__(self, value, /)\n",
            " |      Return value*self.\n",
            " |  \n",
            " |  __sizeof__(self, /)\n",
            " |      Return the size of the string in memory, in bytes.\n",
            " |  \n",
            " |  __str__(self, /)\n",
            " |      Return str(self).\n",
            " |  \n",
            " |  capitalize(self, /)\n",
            " |      Return a capitalized version of the string.\n",
            " |      \n",
            " |      More specifically, make the first character have upper case and the rest lower\n",
            " |      case.\n",
            " |  \n",
            " |  casefold(self, /)\n",
            " |      Return a version of the string suitable for caseless comparisons.\n",
            " |  \n",
            " |  center(self, width, fillchar=' ', /)\n",
            " |      Return a centered string of length width.\n",
            " |      \n",
            " |      Padding is done using the specified fill character (default is a space).\n",
            " |  \n",
            " |  count(...)\n",
            " |      S.count(sub[, start[, end]]) -> int\n",
            " |      \n",
            " |      Return the number of non-overlapping occurrences of substring sub in\n",
            " |      string S[start:end].  Optional arguments start and end are\n",
            " |      interpreted as in slice notation.\n",
            " |  \n",
            " |  encode(self, /, encoding='utf-8', errors='strict')\n",
            " |      Encode the string using the codec registered for encoding.\n",
            " |      \n",
            " |      encoding\n",
            " |        The encoding in which to encode the string.\n",
            " |      errors\n",
            " |        The error handling scheme to use for encoding errors.\n",
            " |        The default is 'strict' meaning that encoding errors raise a\n",
            " |        UnicodeEncodeError.  Other possible values are 'ignore', 'replace' and\n",
            " |        'xmlcharrefreplace' as well as any other name registered with\n",
            " |        codecs.register_error that can handle UnicodeEncodeErrors.\n",
            " |  \n",
            " |  endswith(...)\n",
            " |      S.endswith(suffix[, start[, end]]) -> bool\n",
            " |      \n",
            " |      Return True if S ends with the specified suffix, False otherwise.\n",
            " |      With optional start, test S beginning at that position.\n",
            " |      With optional end, stop comparing S at that position.\n",
            " |      suffix can also be a tuple of strings to try.\n",
            " |  \n",
            " |  expandtabs(self, /, tabsize=8)\n",
            " |      Return a copy where all tab characters are expanded using spaces.\n",
            " |      \n",
            " |      If tabsize is not given, a tab size of 8 characters is assumed.\n",
            " |  \n",
            " |  find(...)\n",
            " |      S.find(sub[, start[, end]]) -> int\n",
            " |      \n",
            " |      Return the lowest index in S where substring sub is found,\n",
            " |      such that sub is contained within S[start:end].  Optional\n",
            " |      arguments start and end are interpreted as in slice notation.\n",
            " |      \n",
            " |      Return -1 on failure.\n",
            " |  \n",
            " |  format(...)\n",
            " |      S.format(*args, **kwargs) -> str\n",
            " |      \n",
            " |      Return a formatted version of S, using substitutions from args and kwargs.\n",
            " |      The substitutions are identified by braces ('{' and '}').\n",
            " |  \n",
            " |  format_map(...)\n",
            " |      S.format_map(mapping) -> str\n",
            " |      \n",
            " |      Return a formatted version of S, using substitutions from mapping.\n",
            " |      The substitutions are identified by braces ('{' and '}').\n",
            " |  \n",
            " |  index(...)\n",
            " |      S.index(sub[, start[, end]]) -> int\n",
            " |      \n",
            " |      Return the lowest index in S where substring sub is found,\n",
            " |      such that sub is contained within S[start:end].  Optional\n",
            " |      arguments start and end are interpreted as in slice notation.\n",
            " |      \n",
            " |      Raises ValueError when the substring is not found.\n",
            " |  \n",
            " |  isalnum(self, /)\n",
            " |      Return True if the string is an alpha-numeric string, False otherwise.\n",
            " |      \n",
            " |      A string is alpha-numeric if all characters in the string are alpha-numeric and\n",
            " |      there is at least one character in the string.\n",
            " |  \n",
            " |  isalpha(self, /)\n",
            " |      Return True if the string is an alphabetic string, False otherwise.\n",
            " |      \n",
            " |      A string is alphabetic if all characters in the string are alphabetic and there\n",
            " |      is at least one character in the string.\n",
            " |  \n",
            " |  isascii(self, /)\n",
            " |      Return True if all characters in the string are ASCII, False otherwise.\n",
            " |      \n",
            " |      ASCII characters have code points in the range U+0000-U+007F.\n",
            " |      Empty string is ASCII too.\n",
            " |  \n",
            " |  isdecimal(self, /)\n",
            " |      Return True if the string is a decimal string, False otherwise.\n",
            " |      \n",
            " |      A string is a decimal string if all characters in the string are decimal and\n",
            " |      there is at least one character in the string.\n",
            " |  \n",
            " |  isdigit(self, /)\n",
            " |      Return True if the string is a digit string, False otherwise.\n",
            " |      \n",
            " |      A string is a digit string if all characters in the string are digits and there\n",
            " |      is at least one character in the string.\n",
            " |  \n",
            " |  isidentifier(self, /)\n",
            " |      Return True if the string is a valid Python identifier, False otherwise.\n",
            " |      \n",
            " |      Call keyword.iskeyword(s) to test whether string s is a reserved identifier,\n",
            " |      such as \"def\" or \"class\".\n",
            " |  \n",
            " |  islower(self, /)\n",
            " |      Return True if the string is a lowercase string, False otherwise.\n",
            " |      \n",
            " |      A string is lowercase if all cased characters in the string are lowercase and\n",
            " |      there is at least one cased character in the string.\n",
            " |  \n",
            " |  isnumeric(self, /)\n",
            " |      Return True if the string is a numeric string, False otherwise.\n",
            " |      \n",
            " |      A string is numeric if all characters in the string are numeric and there is at\n",
            " |      least one character in the string.\n",
            " |  \n",
            " |  isprintable(self, /)\n",
            " |      Return True if the string is printable, False otherwise.\n",
            " |      \n",
            " |      A string is printable if all of its characters are considered printable in\n",
            " |      repr() or if it is empty.\n",
            " |  \n",
            " |  isspace(self, /)\n",
            " |      Return True if the string is a whitespace string, False otherwise.\n",
            " |      \n",
            " |      A string is whitespace if all characters in the string are whitespace and there\n",
            " |      is at least one character in the string.\n",
            " |  \n",
            " |  istitle(self, /)\n",
            " |      Return True if the string is a title-cased string, False otherwise.\n",
            " |      \n",
            " |      In a title-cased string, upper- and title-case characters may only\n",
            " |      follow uncased characters and lowercase characters only cased ones.\n",
            " |  \n",
            " |  isupper(self, /)\n",
            " |      Return True if the string is an uppercase string, False otherwise.\n",
            " |      \n",
            " |      A string is uppercase if all cased characters in the string are uppercase and\n",
            " |      there is at least one cased character in the string.\n",
            " |  \n",
            " |  join(self, iterable, /)\n",
            " |      Concatenate any number of strings.\n",
            " |      \n",
            " |      The string whose method is called is inserted in between each given string.\n",
            " |      The result is returned as a new string.\n",
            " |      \n",
            " |      Example: '.'.join(['ab', 'pq', 'rs']) -> 'ab.pq.rs'\n",
            " |  \n",
            " |  ljust(self, width, fillchar=' ', /)\n",
            " |      Return a left-justified string of length width.\n",
            " |      \n",
            " |      Padding is done using the specified fill character (default is a space).\n",
            " |  \n",
            " |  lower(self, /)\n",
            " |      Return a copy of the string converted to lowercase.\n",
            " |  \n",
            " |  lstrip(self, chars=None, /)\n",
            " |      Return a copy of the string with leading whitespace removed.\n",
            " |      \n",
            " |      If chars is given and not None, remove characters in chars instead.\n",
            " |  \n",
            " |  partition(self, sep, /)\n",
            " |      Partition the string into three parts using the given separator.\n",
            " |      \n",
            " |      This will search for the separator in the string.  If the separator is found,\n",
            " |      returns a 3-tuple containing the part before the separator, the separator\n",
            " |      itself, and the part after it.\n",
            " |      \n",
            " |      If the separator is not found, returns a 3-tuple containing the original string\n",
            " |      and two empty strings.\n",
            " |  \n",
            " |  removeprefix(self, prefix, /)\n",
            " |      Return a str with the given prefix string removed if present.\n",
            " |      \n",
            " |      If the string starts with the prefix string, return string[len(prefix):].\n",
            " |      Otherwise, return a copy of the original string.\n",
            " |  \n",
            " |  removesuffix(self, suffix, /)\n",
            " |      Return a str with the given suffix string removed if present.\n",
            " |      \n",
            " |      If the string ends with the suffix string and that suffix is not empty,\n",
            " |      return string[:-len(suffix)]. Otherwise, return a copy of the original\n",
            " |      string.\n",
            " |  \n",
            " |  replace(self, old, new, count=-1, /)\n",
            " |      Return a copy with all occurrences of substring old replaced by new.\n",
            " |      \n",
            " |        count\n",
            " |          Maximum number of occurrences to replace.\n",
            " |          -1 (the default value) means replace all occurrences.\n",
            " |      \n",
            " |      If the optional argument count is given, only the first count occurrences are\n",
            " |      replaced.\n",
            " |  \n",
            " |  rfind(...)\n",
            " |      S.rfind(sub[, start[, end]]) -> int\n",
            " |      \n",
            " |      Return the highest index in S where substring sub is found,\n",
            " |      such that sub is contained within S[start:end].  Optional\n",
            " |      arguments start and end are interpreted as in slice notation.\n",
            " |      \n",
            " |      Return -1 on failure.\n",
            " |  \n",
            " |  rindex(...)\n",
            " |      S.rindex(sub[, start[, end]]) -> int\n",
            " |      \n",
            " |      Return the highest index in S where substring sub is found,\n",
            " |      such that sub is contained within S[start:end].  Optional\n",
            " |      arguments start and end are interpreted as in slice notation.\n",
            " |      \n",
            " |      Raises ValueError when the substring is not found.\n",
            " |  \n",
            " |  rjust(self, width, fillchar=' ', /)\n",
            " |      Return a right-justified string of length width.\n",
            " |      \n",
            " |      Padding is done using the specified fill character (default is a space).\n",
            " |  \n",
            " |  rpartition(self, sep, /)\n",
            " |      Partition the string into three parts using the given separator.\n",
            " |      \n",
            " |      This will search for the separator in the string, starting at the end. If\n",
            " |      the separator is found, returns a 3-tuple containing the part before the\n",
            " |      separator, the separator itself, and the part after it.\n",
            " |      \n",
            " |      If the separator is not found, returns a 3-tuple containing two empty strings\n",
            " |      and the original string.\n",
            " |  \n",
            " |  rsplit(self, /, sep=None, maxsplit=-1)\n",
            " |      Return a list of the substrings in the string, using sep as the separator string.\n",
            " |      \n",
            " |        sep\n",
            " |          The separator used to split the string.\n",
            " |      \n",
            " |          When set to None (the default value), will split on any whitespace\n",
            " |          character (including \\n \\r \\t \\f and spaces) and will discard\n",
            " |          empty strings from the result.\n",
            " |        maxsplit\n",
            " |          Maximum number of splits.\n",
            " |          -1 (the default value) means no limit.\n",
            " |      \n",
            " |      Splitting starts at the end of the string and works to the front.\n",
            " |  \n",
            " |  rstrip(self, chars=None, /)\n",
            " |      Return a copy of the string with trailing whitespace removed.\n",
            " |      \n",
            " |      If chars is given and not None, remove characters in chars instead.\n",
            " |  \n",
            " |  split(self, /, sep=None, maxsplit=-1)\n",
            " |      Return a list of the substrings in the string, using sep as the separator string.\n",
            " |      \n",
            " |        sep\n",
            " |          The separator used to split the string.\n",
            " |      \n",
            " |          When set to None (the default value), will split on any whitespace\n",
            " |          character (including \\n \\r \\t \\f and spaces) and will discard\n",
            " |          empty strings from the result.\n",
            " |        maxsplit\n",
            " |          Maximum number of splits.\n",
            " |          -1 (the default value) means no limit.\n",
            " |      \n",
            " |      Splitting starts at the front of the string and works to the end.\n",
            " |      \n",
            " |      Note, str.split() is mainly useful for data that has been intentionally\n",
            " |      delimited.  With natural text that includes punctuation, consider using\n",
            " |      the regular expression module.\n",
            " |  \n",
            " |  splitlines(self, /, keepends=False)\n",
            " |      Return a list of the lines in the string, breaking at line boundaries.\n",
            " |      \n",
            " |      Line breaks are not included in the resulting list unless keepends is given and\n",
            " |      true.\n",
            " |  \n",
            " |  startswith(...)\n",
            " |      S.startswith(prefix[, start[, end]]) -> bool\n",
            " |      \n",
            " |      Return True if S starts with the specified prefix, False otherwise.\n",
            " |      With optional start, test S beginning at that position.\n",
            " |      With optional end, stop comparing S at that position.\n",
            " |      prefix can also be a tuple of strings to try.\n",
            " |  \n",
            " |  strip(self, chars=None, /)\n",
            " |      Return a copy of the string with leading and trailing whitespace removed.\n",
            " |      \n",
            " |      If chars is given and not None, remove characters in chars instead.\n",
            " |  \n",
            " |  swapcase(self, /)\n",
            " |      Convert uppercase characters to lowercase and lowercase characters to uppercase.\n",
            " |  \n",
            " |  title(self, /)\n",
            " |      Return a version of the string where each word is titlecased.\n",
            " |      \n",
            " |      More specifically, words start with uppercased characters and all remaining\n",
            " |      cased characters have lower case.\n",
            " |  \n",
            " |  translate(self, table, /)\n",
            " |      Replace each character in the string using the given translation table.\n",
            " |      \n",
            " |        table\n",
            " |          Translation table, which must be a mapping of Unicode ordinals to\n",
            " |          Unicode ordinals, strings, or None.\n",
            " |      \n",
            " |      The table must implement lookup/indexing via __getitem__, for instance a\n",
            " |      dictionary or list.  If this operation raises LookupError, the character is\n",
            " |      left untouched.  Characters mapped to None are deleted.\n",
            " |  \n",
            " |  upper(self, /)\n",
            " |      Return a copy of the string converted to uppercase.\n",
            " |  \n",
            " |  zfill(self, width, /)\n",
            " |      Pad a numeric string with zeros on the left, to fill a field of the given width.\n",
            " |      \n",
            " |      The string is never truncated.\n",
            " |  \n",
            " |  ----------------------------------------------------------------------\n",
            " |  Static methods defined here:\n",
            " |  \n",
            " |  __new__(*args, **kwargs)\n",
            " |      Create and return a new object.  See help(type) for accurate signature.\n",
            " |  \n",
            " |  maketrans(...)\n",
            " |      Return a translation table usable for str.translate().\n",
            " |      \n",
            " |      If there is only one argument, it must be a dictionary mapping Unicode\n",
            " |      ordinals (integers) or characters to Unicode ordinals, strings or None.\n",
            " |      Character keys will be then converted to ordinals.\n",
            " |      If there are two arguments, they must be strings of equal length, and\n",
            " |      in the resulting dictionary, each character in x will be mapped to the\n",
            " |      character at the same position in y. If there is a third argument, it\n",
            " |      must be a string, whose characters will be mapped to None in the result.\n",
            "\n"
          ]
        }
      ],
      "source": [
        "help(str)"
      ]
    },
    {
      "cell_type": "markdown",
      "id": "HD9bdLccyDLY",
      "metadata": {
        "id": "HD9bdLccyDLY"
      },
      "source": [
        "Строки неизменяемые, и методы, которые должны бы что-то менять, дают **новую** строку. Это значит, что их можно применять по цепочке!"
      ]
    },
    {
      "cell_type": "markdown",
      "id": "522d662a",
      "metadata": {
        "id": "522d662a"
      },
      "source": [
        "**Напоминание про объекты**\n",
        "\n",
        "`<к чему применяется>.split(<дополнительные аргументы>)`\n",
        "Метод применяется к объектам определённого типа. Например, `.split()` к строкам.\n",
        "\n",
        "То есть перед `.split()` может стоять:"
      ]
    },
    {
      "cell_type": "code",
      "source": [
        "'просто строка'.split()"
      ],
      "metadata": {
        "colab": {
          "base_uri": "https://localhost:8080/"
        },
        "id": "d_50r9SsRSp9",
        "outputId": "45b271f6-14a3-4e3f-c5b6-b6a358b5283a"
      },
      "id": "d_50r9SsRSp9",
      "execution_count": 6,
      "outputs": [
        {
          "output_type": "execute_result",
          "data": {
            "text/plain": [
              "['просто', 'строка']"
            ]
          },
          "metadata": {},
          "execution_count": 6
        }
      ]
    },
    {
      "cell_type": "code",
      "execution_count": 81,
      "id": "6a4a769a",
      "metadata": {
        "id": "6a4a769a",
        "outputId": "e6db9753-42bf-4460-f53e-851b2e8aa6f7",
        "colab": {
          "base_uri": "https://localhost:8080/"
        }
      },
      "outputs": [
        {
          "output_type": "stream",
          "name": "stdout",
          "text": [
            "['сохранённая', 'в', 'переменную', 'строка']\n"
          ]
        }
      ],
      "source": [
        "peremennaya = 'сохранённая-в-переменную-строка'\n",
        "print(peremennaya.split('-'))"
      ]
    },
    {
      "cell_type": "code",
      "source": [
        "print(('То, ' + 'что ' + 'даёт ' + 'строку. ' + 'Например: ' + str(5>0)).split())"
      ],
      "metadata": {
        "colab": {
          "base_uri": "https://localhost:8080/"
        },
        "id": "4CJxqj2mprlr",
        "outputId": "a9277d04-a080-45bd-df2f-a326da72cfeb"
      },
      "id": "4CJxqj2mprlr",
      "execution_count": 82,
      "outputs": [
        {
          "output_type": "stream",
          "name": "stdout",
          "text": [
            "['То,', 'что', 'даёт', 'строку.', 'Например:', 'True']\n"
          ]
        }
      ]
    },
    {
      "cell_type": "markdown",
      "id": "9550bd81-73a6-4cd5-8717-b28eac86db80",
      "metadata": {
        "id": "9550bd81-73a6-4cd5-8717-b28eac86db80"
      },
      "source": [
        "А вот так нельзя:"
      ]
    },
    {
      "cell_type": "code",
      "execution_count": 11,
      "id": "e5713ba5-419a-48ed-9839-19157f19e522",
      "metadata": {
        "id": "e5713ba5-419a-48ed-9839-19157f19e522",
        "outputId": "6abc9380-2ca8-4638-d393-255870a21da4",
        "colab": {
          "base_uri": "https://localhost:8080/",
          "height": 176
        }
      },
      "outputs": [
        {
          "output_type": "error",
          "ename": "AttributeError",
          "evalue": "'list' object has no attribute 'split'",
          "traceback": [
            "\u001b[0;31m---------------------------------------------------------------------------\u001b[0m",
            "\u001b[0;31mAttributeError\u001b[0m                            Traceback (most recent call last)",
            "\u001b[0;32m<ipython-input-11-133cac48054c>\u001b[0m in \u001b[0;36m<cell line: 0>\u001b[0;34m()\u001b[0m\n\u001b[1;32m      1\u001b[0m sentences = [\"Это первое предложение.\",\n\u001b[1;32m      2\u001b[0m              \"Это второе предложение\"]\n\u001b[0;32m----> 3\u001b[0;31m \u001b[0mprint\u001b[0m\u001b[0;34m(\u001b[0m\u001b[0msentences\u001b[0m\u001b[0;34m.\u001b[0m\u001b[0msplit\u001b[0m\u001b[0;34m(\u001b[0m\u001b[0;34m)\u001b[0m\u001b[0;34m)\u001b[0m\u001b[0;34m\u001b[0m\u001b[0;34m\u001b[0m\u001b[0m\n\u001b[0m",
            "\u001b[0;31mAttributeError\u001b[0m: 'list' object has no attribute 'split'"
          ]
        }
      ],
      "source": [
        "sentences = [\"Это первое предложение.\",\n",
        "             \"Это второе предложение\"]\n",
        "print(sentences.split())"
      ]
    },
    {
      "cell_type": "markdown",
      "id": "b2f839ff-2047-4038-aab2-d8f35968b003",
      "metadata": {
        "id": "b2f839ff-2047-4038-aab2-d8f35968b003"
      },
      "source": [
        "*Если вы хотели таким образом получить список списков слов, то это можно сделать немного иначе.\n",
        "    Нужно применить функцию разбиения на слова к каждому предложению из списка по отдельности.\n",
        "    Функцию разбиения на слова при этом надо назвать полностью, `str.split`.\n",
        "    Скобки не нужны! (потому что мы не применяем функцию разбиения `str.split`, а упоминаем, называем её, говорим функции `map`, какую функцию применить &mdash; эту самую функцию деления)*"
      ]
    },
    {
      "cell_type": "code",
      "execution_count": null,
      "id": "2d72688e-72ce-4616-8528-7eceb61e7143",
      "metadata": {
        "id": "2d72688e-72ce-4616-8528-7eceb61e7143",
        "outputId": "37f11178-99bd-4d63-f3b4-df907c279974"
      },
      "outputs": [
        {
          "name": "stdout",
          "output_type": "stream",
          "text": [
            "[['Это', 'первое', 'предложение.'], ['Это', 'второе', 'предложение']]\n"
          ]
        }
      ],
      "source": [
        "sentences = [\"Это первое предложение.\",\n",
        "             \"Это второе предложение\"]\n",
        "\n",
        "splitted_sents = list(map(str.split, sentences))\n",
        "\n",
        "print(splitted_sents)"
      ]
    },
    {
      "cell_type": "markdown",
      "source": [
        "### Табличка методов (частотные сами запомнятся)\n",
        "\n",
        "| Метод строк | Описание |\n",
        "| --- | --- |\n",
        "| `str.capitalize()` | Переводит первый символ строки в верхний регистр, а остальные в нижний |\n",
        "| `str.casefold()` | Переводит строку в нижний регистр, учитывая особенности языка |\n",
        "| `str.center(width, [fillchar])` | Центрирует строку в поле заданной ширины, заполняя пробелами или указанным символом |\n",
        "| `str.count(sub, [start, [end]])` | Возвращает количество вхождений подстроки sub в строке |\n",
        "| `str.encode([encoding, [errors]])` | Кодирование строки в байтовый строк |\n",
        "| `str.endswith(suffix, [start, [end]])` | Проверяет, заканчивается ли строка на подстроку suffix |\n",
        "| `str.find(sub, [start, [end]])` | Возвращает индекс первого вхождения подстроки sub в строке, или -1 если не найдено |\n",
        "| `str.format(*args, **kwargs)` | Форматирует строку, используя значения аргументов |\n",
        "| `str.index(sub, [start, [end]])` | Возвращает индекс первого вхождения подстроки sub в строке, или ValueError если не найдено |\n",
        "| `str.isalnum()` | Проверяет, состоит ли строка только из букв и цифр |\n",
        "| `str.isalpha()` | Проверяет, состоит ли строка только из букв |\n",
        "| `str.isdigit()` | Проверяет, состоит ли строка только из цифр |\n",
        "| `str.islower()` | Проверяет, состоит ли строка только из символов нижнего регистра |\n",
        "| `str.isupper()` | Проверяет, состоит ли строка только из символов верхнего регистра |\n",
        "| `str.join(iterable)` | Склеивает строки из iterable в одну строку, используя текущую строку как разделитель |\n",
        "| `str.ljust(width, [fillchar])` | Выравнивает строку по левому краю в поле заданной ширины, заполняя пробелами или указанным символом |\n",
        "| `str.lower()` | Переводит строку в нижний регистр |\n",
        "| `str.lstrip([chars])` | Удаляет символы из начала строки, если они присутствуют в chars |\n",
        "| `str.partition(sep)` | Разделяет строку на три части: до sep, sep, и после sep |\n",
        "| `str.replace(old, new, [count])` | Заменяет подстроку old на new в строке, если count указан, то только count раз |\n",
        "| `str.rfind(sub, [start, [end]])` | Возвращает индекс последнего вхождения подстроки sub в строке, или -1 если не найдено |\n",
        "| `str.rindex(sub, [start, [end]])` | Возвращает инdex последнего вхождения подстроки sub в строке, или ValueError если не найдено |\n",
        "| `str.rjust(width, [fillchar])` | Выравнивает строку по правому краю в поле заданной ширины, заполняя пробелами или указанным символом |\n",
        "| `str.rpartition(sep)` | Разделяет строку на три части: до sep, sep, и после sep, начиная с конца строки |\n",
        "| `str.rsplit(sep, [maxsplit])` | Разделяет строку на подстроки, используя sep как разделитель, начиная с конца строки |\n",
        "| `str.rstrip([chars])` | Удаляет символы из конца строки, если они присутствуют в chars |\n",
        "| `str.split(sep, [maxsplit])` | Разделяет строку на подстроки, используя sep как разделитель |\n",
        "| `str.splitlines([keepends])` | Разделяет строку на подстроки, используя символы конца строки как разделители |\n",
        "| `str.startswith(prefix, [start, [end]])` | Проверяет, начинается ли строка с подстроки prefix |\n",
        "| `str.strip([chars])` | Удаляет символы из начала и конца строки, если они присутствуют в chars |\n",
        "| `str.swapcase()` | Переводит символы строки в противоположный регистр |\n",
        "| `str.title()` | Переводит первый символ каждого слова в верхний регистр, а остальные в нижний |\n",
        "| `str.translate(table)` | Заменяет символы строки, используя таблицу translate |"
      ],
      "metadata": {
        "id": "fMRxt90o6cC9"
      },
      "id": "fMRxt90o6cC9"
    },
    {
      "cell_type": "markdown",
      "id": "msLLJOew-VE1",
      "metadata": {
        "id": "msLLJOew-VE1"
      },
      "source": [
        "### Убираем символы на концах строки: `str.strip()`, `str.lstrip()`, `str.rstrip()`"
      ]
    },
    {
      "cell_type": "code",
      "execution_count": 20,
      "id": "YY_BO-TQ_g30",
      "metadata": {
        "colab": {
          "base_uri": "https://localhost:8080/"
        },
        "id": "YY_BO-TQ_g30",
        "outputId": "2e278e8b-d2c1-4935-b102-757b65a4566c"
      },
      "outputs": [
        {
          "output_type": "stream",
          "name": "stdout",
          "text": [
            "привет\n"
          ]
        }
      ],
      "source": [
        "word = \",,,привет,,,,,,,,,\"\n",
        "\n",
        "print(word.strip(\",\"))"
      ]
    },
    {
      "cell_type": "markdown",
      "id": "RX3DQq9w_yM5",
      "metadata": {
        "id": "RX3DQq9w_yM5"
      },
      "source": [
        "Убирает каждый из символов с краёв строки, сколько бы раз они не встретились"
      ]
    },
    {
      "cell_type": "code",
      "execution_count": 21,
      "id": "TPSwNNGl_vdO",
      "metadata": {
        "colab": {
          "base_uri": "https://localhost:8080/"
        },
        "id": "TPSwNNGl_vdO",
        "outputId": "8773006b-5b3f-47ee-de48-4bbc4e1e6c9f"
      },
      "outputs": [
        {
          "output_type": "stream",
          "name": "stdout",
          "text": [
            "привет\n"
          ]
        }
      ],
      "source": [
        "word = \",.,..привет,.,\"\n",
        "\n",
        "print(word.strip(\",.\"))"
      ]
    },
    {
      "cell_type": "markdown",
      "id": "7e2951f8",
      "metadata": {
        "id": "7e2951f8"
      },
      "source": [
        "Это не удаление символов по всей строке, только по краям. Слева дошли до \"Р\" (а это не \",\" и не \"-\") и остановились, справа дошли до \"у\" и остановились. Внутри дефисы не удалились."
      ]
    },
    {
      "cell_type": "code",
      "execution_count": 22,
      "id": "a3659853",
      "metadata": {
        "id": "a3659853",
        "outputId": "b4213e31-ac22-431a-c88b-624e6caeca1b",
        "colab": {
          "base_uri": "https://localhost:8080/"
        }
      },
      "outputs": [
        {
          "output_type": "stream",
          "name": "stdout",
          "text": [
            "Ростов-на-Дону\n"
          ]
        }
      ],
      "source": [
        "word = \"-----,-,Ростов-на-Дону,---\"\n",
        "\n",
        "print(word.strip(\",-\"))"
      ]
    },
    {
      "cell_type": "markdown",
      "id": "wN6qsR9zABYD",
      "metadata": {
        "id": "wN6qsR9zABYD"
      },
      "source": [
        "#### `l...` и `r...` в названиях функций\n",
        "`str.lstrip()` и `str.rstrip()` это, предсказуемо, версии работающие с одним краем строки, левым (l — left) или правым (r — right)"
      ]
    },
    {
      "cell_type": "code",
      "execution_count": 24,
      "id": "nuys5s4rABrY",
      "metadata": {
        "colab": {
          "base_uri": "https://localhost:8080/"
        },
        "id": "nuys5s4rABrY",
        "outputId": "fc251ca2-b0fe-40dd-fc2c-7f6456ba96e2"
      },
      "outputs": [
        {
          "output_type": "stream",
          "name": "stdout",
          "text": [
            "orig: ,.,..привет,.,\n",
            "l: привет,.,\n",
            "r: ,.,..привет\n"
          ]
        }
      ],
      "source": [
        "word = \",.,..привет,.,\"\n",
        "\n",
        "print(\"orig:\", word)\n",
        "print(\"l:\", word.lstrip(\",.\"))\n",
        "\n",
        "print(\"r:\", word.rstrip(\",.\"))"
      ]
    },
    {
      "cell_type": "markdown",
      "id": "ypRO2mxXAj6A",
      "metadata": {
        "id": "ypRO2mxXAj6A"
      },
      "source": [
        "### Тренировка\n",
        "\n",
        "Разбейте строчку на слова, и получите список слов, очищенных от знаков препинания"
      ]
    },
    {
      "cell_type": "code",
      "execution_count": 80,
      "id": "jggubAZk-RfE",
      "metadata": {
        "id": "jggubAZk-RfE",
        "outputId": "46f9b3ae-3a89-48db-fc79-3de5b427b6d5",
        "colab": {
          "base_uri": "https://localhost:8080/"
        }
      },
      "outputs": [
        {
          "output_type": "execute_result",
          "data": {
            "text/plain": [
              "['Тут',\n",
              " 'должен',\n",
              " 'быть',\n",
              " 'хороший',\n",
              " 'остроумный',\n",
              " 'чёткий',\n",
              " 'пример',\n",
              " 'хм',\n",
              " 'не',\n",
              " 'вышло']"
            ]
          },
          "metadata": {},
          "execution_count": 80
        }
      ],
      "source": [
        "text = \"Тут должен быть хороший, остроумный, чёткий пример:  хм... ...не вышло!\"\n",
        "good_words = []\n",
        "\n",
        "words = text.split()\n",
        "\n",
        "for word in words:\n",
        "    good_words.append(word.strip(':,.!'))\n",
        "\n",
        "good_words"
      ]
    },
    {
      "cell_type": "markdown",
      "id": "pHpljCmrxi1V",
      "metadata": {
        "id": "pHpljCmrxi1V"
      },
      "source": [
        "### Понижаем регистр и делаем замены:  `str.lower()`, `str.casefold()`"
      ]
    },
    {
      "cell_type": "markdown",
      "id": "bUqTbqNYl-9B",
      "metadata": {
        "id": "bUqTbqNYl-9B"
      },
      "source": [
        "В тестовой форме вы по-разному пишете фамилию (да чего там, мы сами так делаем). Имя и фамилия могут быть написаны с маленькой буквы, или неодинаково. В этом и многих других случаях, чтобы уменьшить разнообразие написаний, можно приводить строку к одному регистру, обычно нижнему: `str.lower()` ."
      ]
    },
    {
      "cell_type": "code",
      "execution_count": 37,
      "id": "93EkkMz7os3b",
      "metadata": {
        "colab": {
          "base_uri": "https://localhost:8080/"
        },
        "id": "93EkkMz7os3b",
        "outputId": "6d91c646-6d34-47b2-937d-3ed5e677ee17"
      },
      "outputs": [
        {
          "output_type": "stream",
          "name": "stdout",
          "text": [
            "иван топорышкин\n"
          ]
        }
      ],
      "source": [
        "name1 = \"Иван Топорышкин\"\n",
        "name2 = \"иван топорышкин\"\n",
        "name3 = \"иван Топорышкин\"\n",
        "\n",
        "print(name1.lower())"
      ]
    },
    {
      "cell_type": "code",
      "execution_count": null,
      "id": "75ccda0e",
      "metadata": {
        "id": "75ccda0e",
        "outputId": "640314b7-3cae-4c11-c09e-cbdad3e374ec"
      },
      "outputs": [
        {
          "name": "stdout",
          "output_type": "stream",
          "text": [
            "True\n"
          ]
        }
      ],
      "source": [
        "print(name1.lower() == name2.lower() == name3.lower())"
      ]
    },
    {
      "cell_type": "code",
      "execution_count": null,
      "id": "4tF_fSWqml4p",
      "metadata": {
        "colab": {
          "base_uri": "https://localhost:8080/"
        },
        "id": "4tF_fSWqml4p",
        "outputId": "5fabb830-042a-4839-d0c2-fbd56893db0d"
      },
      "outputs": [
        {
          "name": "stdout",
          "output_type": "stream",
          "text": [
            "работа сдана\n",
            "True\n"
          ]
        }
      ],
      "source": [
        "s = \"работа сдана\"\n",
        "s_sarc = \"рАбОтА сДанА\"\n",
        "\n",
        "print(s_sarc.lower())\n",
        "print(s_sarc.lower() == s)"
      ]
    },
    {
      "cell_type": "code",
      "source": [
        "\"рАбОтА сДанА\".casefold()"
      ],
      "metadata": {
        "colab": {
          "base_uri": "https://localhost:8080/",
          "height": 35
        },
        "id": "D5Hmey1kbTlZ",
        "outputId": "5222de40-69a7-4a4f-af88-6883861ae5f3"
      },
      "id": "D5Hmey1kbTlZ",
      "execution_count": 38,
      "outputs": [
        {
          "output_type": "execute_result",
          "data": {
            "text/plain": [
              "'работа сдана'"
            ],
            "application/vnd.google.colaboratory.intrinsic+json": {
              "type": "string"
            }
          },
          "metadata": {},
          "execution_count": 38
        }
      ]
    },
    {
      "cell_type": "markdown",
      "id": "c-zs1Ej5l9zQ",
      "metadata": {
        "id": "c-zs1Ej5l9zQ"
      },
      "source": [
        "Есть похожий метод `str.casefold()`, но чуть более агрессивный, с дополнительными правилами.\n",
        "    Обычно это экзотика, типа греческого, некоторых написаний и лигатур из латыни и другого.\n",
        "    Он как-то по-особому обрабатывает *безрегистровые* символы."
      ]
    },
    {
      "cell_type": "code",
      "execution_count": 39,
      "id": "wOOm_HWlqHLH",
      "metadata": {
        "colab": {
          "base_uri": "https://localhost:8080/"
        },
        "id": "wOOm_HWlqHLH",
        "outputId": "df152c3e-9da5-4bdd-e9f2-2cf520c432bf"
      },
      "outputs": [
        {
          "output_type": "stream",
          "name": "stdout",
          "text": [
            "orig: ϐ\n",
            "lower: ϐ\n",
            "casefold: β\n"
          ]
        }
      ],
      "source": [
        "greek_beta_symbol = \"ϐ\"\n",
        "\n",
        "print(\"orig:\", greek_beta_symbol)\n",
        "print(\"lower:\", greek_beta_symbol.lower())\n",
        "print(\"casefold:\", greek_beta_symbol.casefold())"
      ]
    },
    {
      "cell_type": "markdown",
      "id": "ZCD3Foheqmh0",
      "metadata": {
        "id": "ZCD3Foheqmh0"
      },
      "source": [
        "Но для немецкого эсцета `ß`, например, может быть полезно:"
      ]
    },
    {
      "cell_type": "code",
      "execution_count": 40,
      "id": "puqr6VsUqHwG",
      "metadata": {
        "colab": {
          "base_uri": "https://localhost:8080/"
        },
        "id": "puqr6VsUqHwG",
        "outputId": "e0be15fd-b959-4ad6-bc33-c14711fa6e4e"
      },
      "outputs": [
        {
          "output_type": "stream",
          "name": "stdout",
          "text": [
            "orig: ß\n",
            "lower: ß\n",
            "casefold: ss\n"
          ]
        }
      ],
      "source": [
        "german_eszet_symbol = \"ß\"\n",
        "\n",
        "print(\"orig:\", german_eszet_symbol)\n",
        "print(\"lower:\", german_eszet_symbol.lower())\n",
        "print(\"casefold:\", german_eszet_symbol.casefold())"
      ]
    },
    {
      "cell_type": "markdown",
      "id": "dbcf9bdf",
      "metadata": {
        "id": "dbcf9bdf"
      },
      "source": [
        "### Тренировка\n",
        "Дополните код и предыдущей тренировки. Получите список слов, очищенных от знаков препинания и приведённых к нижнему регистру"
      ]
    },
    {
      "cell_type": "code",
      "execution_count": 49,
      "id": "b174f24f",
      "metadata": {
        "id": "b174f24f",
        "outputId": "bda987d7-7425-4b84-f3b3-e62451a4e327",
        "colab": {
          "base_uri": "https://localhost:8080/"
        }
      },
      "outputs": [
        {
          "output_type": "execute_result",
          "data": {
            "text/plain": [
              "['тут',\n",
              " 'должен',\n",
              " 'быть',\n",
              " 'хороший',\n",
              " 'остроумный',\n",
              " 'чёткий',\n",
              " 'пример',\n",
              " 'хм',\n",
              " 'не',\n",
              " 'вышло']"
            ]
          },
          "metadata": {},
          "execution_count": 49
        }
      ],
      "source": [
        "text = \"Тут должен быть хороший, остроумный, чёткий пример:  хм... ...не вышло!\"\n",
        "good_words = []\n",
        "\n",
        "words = text.split()\n",
        "\n",
        "for word in words:\n",
        "    good_words.append(word.strip(':,.!').lower())\n",
        "\n",
        "good_words"
      ]
    },
    {
      "cell_type": "markdown",
      "id": "Ld6rfA7axdFV",
      "metadata": {
        "id": "Ld6rfA7axdFV"
      },
      "source": [
        "### Повышаем регистр: `str.capitalize()`, `str.upper()`, `str.title()`"
      ]
    },
    {
      "cell_type": "markdown",
      "id": "JDPPFDqI5l_2",
      "metadata": {
        "id": "JDPPFDqI5l_2"
      },
      "source": [
        "* можно сделать большой первую букву, а все остальные маленькими: `str.capitalize()`\n",
        "* можно сделать большими все буквы строки: `str.upper()`,\n",
        "* можно сделать как в заголовках (англоязычных, то есть большой каждую первую букву слов, разделённых пробелами): `str.title()`,\n"
      ]
    },
    {
      "cell_type": "code",
      "execution_count": null,
      "id": "fBUuMPLP7PmE",
      "metadata": {
        "id": "fBUuMPLP7PmE"
      },
      "outputs": [],
      "source": [
        "sent = \"александр Сергеевич Пушкин родился в 1799 году.\""
      ]
    },
    {
      "cell_type": "code",
      "execution_count": null,
      "id": "q-Uadd1k7aLq",
      "metadata": {
        "colab": {
          "base_uri": "https://localhost:8080/"
        },
        "id": "q-Uadd1k7aLq",
        "outputId": "6311c638-df4e-461a-9781-b9b48c74bdd4"
      },
      "outputs": [
        {
          "name": "stdout",
          "output_type": "stream",
          "text": [
            "Александр сергеевич пушкин родился в 1799 году.\n",
            "АЛЕКСАНДР СЕРГЕЕВИЧ ПУШКИН РОДИЛСЯ В 1799 ГОДУ.\n",
            "Александр Сергеевич Пушкин Родился В 1799 Году.\n"
          ]
        }
      ],
      "source": [
        "print(sent.capitalize())\n",
        "print(sent.upper())\n",
        "print(sent.title())"
      ]
    },
    {
      "cell_type": "markdown",
      "id": "cj_le9Ax8dOZ",
      "metadata": {
        "id": "cj_le9Ax8dOZ"
      },
      "source": [
        "Обратите внимание, метод `str.upper` относится к экзотическим символам скорее как `str.casefold`, чем как `str.lower`. Аналогично `str.casefold` он заменяет `ß` на `SS`. И `str.title` (да и `str.capizatalize`) тоже знает экзотические символы."
      ]
    },
    {
      "cell_type": "code",
      "execution_count": null,
      "id": "5b9wkK8Gxd7A",
      "metadata": {
        "colab": {
          "base_uri": "https://localhost:8080/"
        },
        "id": "5b9wkK8Gxd7A",
        "outputId": "b9e2baf7-421c-4007-9cd5-7621e4b82eb1"
      },
      "outputs": [
        {
          "name": "stdout",
          "output_type": "stream",
          "text": [
            "Александр сергеевич пушкин war nicht in ß. (bavaria) in 1799 geboren.\n",
            "АЛЕКСАНДР СЕРГЕЕВИЧ ПУШКИН WAR NICHT IN SS. (BAVARIA) IN 1799 GEBOREN.\n",
            "Александр Сергеевич Пушкин War Nicht In Ss. (Bavaria) In 1799 Geboren.\n"
          ]
        }
      ],
      "source": [
        "sent2 = \"александр Сергеевич Пушкин war nicht in ß. (Bavaria) in 1799 geboren.\"\n",
        "\n",
        "print(sent2.capitalize())\n",
        "print(sent2.upper())\n",
        "print(sent2.title())"
      ]
    },
    {
      "cell_type": "markdown",
      "id": "uPIv4ItEkHSF",
      "metadata": {
        "id": "uPIv4ItEkHSF"
      },
      "source": [
        "### `str.replace()` &mdash; делаем замены"
      ]
    },
    {
      "cell_type": "markdown",
      "id": "MMyGsOkMx5Wy",
      "metadata": {
        "id": "MMyGsOkMx5Wy"
      },
      "source": [
        "`str.replace(\"<ЧТО>\", \"<НА ЧТО>\")`"
      ]
    },
    {
      "cell_type": "markdown",
      "id": "5Z4DPHJLwzSv",
      "metadata": {
        "id": "5Z4DPHJLwzSv"
      },
      "source": [
        "Позволяет заменять одну точную последовательность на другую"
      ]
    },
    {
      "cell_type": "code",
      "execution_count": 50,
      "id": "4o3QZ5vPwhPT",
      "metadata": {
        "colab": {
          "base_uri": "https://localhost:8080/"
        },
        "id": "4o3QZ5vPwhPT",
        "outputId": "1c1069c6-6fa1-4bc6-cae5-868601e1ab7a"
      },
      "outputs": [
        {
          "output_type": "stream",
          "name": "stdout",
          "text": [
            "жымолость, жывот, Житомир\n"
          ]
        }
      ],
      "source": [
        "zhi = \"жимолость, живот, Житомир\"\n",
        "\n",
        "# заменились только \"жи\" в нижнем регистре\n",
        "print(zhi.replace(\"жи\", \"жы\"))"
      ]
    },
    {
      "cell_type": "code",
      "execution_count": 51,
      "id": "i1tMytAHxDko",
      "metadata": {
        "colab": {
          "base_uri": "https://localhost:8080/"
        },
        "id": "i1tMytAHxDko",
        "outputId": "b57bc900-7864-4bb7-ec10-841d66ecb14f"
      },
      "outputs": [
        {
          "output_type": "stream",
          "name": "stdout",
          "text": [
            "ПРАВИЛЬНО ЖИмолость, ПРАВИЛЬНО ЖИвот\n"
          ]
        }
      ],
      "source": [
        "zhi2 = \"жымолость, жывот\"\n",
        "\n",
        "# заменились только \"жи\" в нижнем регистре\n",
        "print(zhi2.replace(\"жы\", \"ПРАВИЛЬНО ЖИ\"))"
      ]
    },
    {
      "cell_type": "markdown",
      "source": [
        "## Проверка наличия подстроки"
      ],
      "metadata": {
        "id": "sMizSgATpPCv"
      },
      "id": "sMizSgATpPCv"
    },
    {
      "cell_type": "code",
      "source": [
        "if 'нн' in 'длинношеее':\n",
        "    print('есть')"
      ],
      "metadata": {
        "colab": {
          "base_uri": "https://localhost:8080/"
        },
        "id": "HG6U_AJndbKV",
        "outputId": "b1a4433f-802f-44f4-b41e-1b2cb60da47d"
      },
      "id": "HG6U_AJndbKV",
      "execution_count": 79,
      "outputs": [
        {
          "output_type": "stream",
          "name": "stdout",
          "text": [
            "есть\n"
          ]
        }
      ]
    },
    {
      "cell_type": "markdown",
      "id": "TsqJtllexewg",
      "metadata": {
        "id": "TsqJtllexewg"
      },
      "source": [
        "### найти позицию символа в строке: `str.find()` (`str.rfind()`) (а также `str.index()`, `str.rindex()`)"
      ]
    },
    {
      "cell_type": "markdown",
      "id": "_Gu5gIgP2GYJ",
      "metadata": {
        "id": "_Gu5gIgP2GYJ"
      },
      "source": [
        "`str.find()` ищет, начиная слева, а `.rfind()`, начиная справа, но оба возвращают положительный индекс (от начала строки, с 0)  "
      ]
    },
    {
      "cell_type": "code",
      "execution_count": 52,
      "id": "E5MaqYK0xfB5",
      "metadata": {
        "colab": {
          "base_uri": "https://localhost:8080/"
        },
        "id": "E5MaqYK0xfB5",
        "outputId": "d5b17be8-9d22-4497-8463-8180421a4012"
      },
      "outputs": [
        {
          "output_type": "stream",
          "name": "stdout",
          "text": [
            "5\n",
            "14\n"
          ]
        }
      ],
      "source": [
        "s = \"Привет, Альберт!\"\n",
        "\n",
        "print(s.find(\"т\"))\n",
        "print(s.rfind(\"т\"))"
      ]
    },
    {
      "cell_type": "markdown",
      "id": "kD_jM9kc2s-R",
      "metadata": {
        "id": "kD_jM9kc2s-R"
      },
      "source": [
        "Если символа нет, то выдаёт `-1`"
      ]
    },
    {
      "cell_type": "code",
      "execution_count": 53,
      "id": "zDI_Wk2W2q7Q",
      "metadata": {
        "colab": {
          "base_uri": "https://localhost:8080/"
        },
        "id": "zDI_Wk2W2q7Q",
        "outputId": "c2e055ce-d2ba-4c5b-864a-cb91d6e42a5e"
      },
      "outputs": [
        {
          "output_type": "stream",
          "name": "stdout",
          "text": [
            "-1\n"
          ]
        }
      ],
      "source": [
        "s = \"Привет, Альберт!\"\n",
        "\n",
        "print(s.rfind(\"W\"))"
      ]
    },
    {
      "cell_type": "markdown",
      "id": "wHcjxLjm25F9",
      "metadata": {
        "id": "wHcjxLjm25F9"
      },
      "source": [
        "`str.index()` и `str.rindex()` устроены схоже, но дают ошибку, когда ничего не найдено. Это иногда полезно, но не нам, мы не умеем работать с ошибками."
      ]
    },
    {
      "cell_type": "code",
      "execution_count": 54,
      "id": "Ypneqtys24jQ",
      "metadata": {
        "colab": {
          "base_uri": "https://localhost:8080/"
        },
        "id": "Ypneqtys24jQ",
        "outputId": "618e9f15-61c4-4393-f968-97950a9a3d25"
      },
      "outputs": [
        {
          "output_type": "stream",
          "name": "stdout",
          "text": [
            "5\n",
            "14\n"
          ]
        }
      ],
      "source": [
        "s = \"Привет, Альберт!\"\n",
        "\n",
        "print(s.index(\"т\"))\n",
        "print(s.rindex(\"т\"))"
      ]
    },
    {
      "cell_type": "code",
      "execution_count": 55,
      "id": "XcXdMBnu3GGL",
      "metadata": {
        "colab": {
          "base_uri": "https://localhost:8080/",
          "height": 176
        },
        "id": "XcXdMBnu3GGL",
        "outputId": "c755ffbc-9e56-4e97-913b-65363fa4f67c"
      },
      "outputs": [
        {
          "output_type": "error",
          "ename": "ValueError",
          "evalue": "substring not found",
          "traceback": [
            "\u001b[0;31m---------------------------------------------------------------------------\u001b[0m",
            "\u001b[0;31mValueError\u001b[0m                                Traceback (most recent call last)",
            "\u001b[0;32m<ipython-input-55-b084fb6c6ec8>\u001b[0m in \u001b[0;36m<cell line: 0>\u001b[0;34m()\u001b[0m\n\u001b[1;32m      1\u001b[0m \u001b[0ms\u001b[0m \u001b[0;34m=\u001b[0m \u001b[0;34m\"Привет, Альберт!\"\u001b[0m\u001b[0;34m\u001b[0m\u001b[0;34m\u001b[0m\u001b[0m\n\u001b[1;32m      2\u001b[0m \u001b[0;34m\u001b[0m\u001b[0m\n\u001b[0;32m----> 3\u001b[0;31m \u001b[0mprint\u001b[0m\u001b[0;34m(\u001b[0m\u001b[0ms\u001b[0m\u001b[0;34m.\u001b[0m\u001b[0mrindex\u001b[0m\u001b[0;34m(\u001b[0m\u001b[0;34m\"W\"\u001b[0m\u001b[0;34m)\u001b[0m\u001b[0;34m)\u001b[0m\u001b[0;34m\u001b[0m\u001b[0;34m\u001b[0m\u001b[0m\n\u001b[0m",
            "\u001b[0;31mValueError\u001b[0m: substring not found"
          ]
        }
      ],
      "source": [
        "s = \"Привет, Альберт!\"\n",
        "\n",
        "print(s.rindex(\"W\"))"
      ]
    },
    {
      "cell_type": "markdown",
      "id": "yZlDI9fR5IKQ",
      "metadata": {
        "id": "yZlDI9fR5IKQ"
      },
      "source": [
        "### Подсчёт нужных символов в строке (уже видели)"
      ]
    },
    {
      "cell_type": "code",
      "execution_count": null,
      "id": "YIrRvl3p5Mah",
      "metadata": {
        "colab": {
          "base_uri": "https://localhost:8080/"
        },
        "id": "YIrRvl3p5Mah",
        "outputId": "7cce4243-65c3-46ae-9637-49006a4960df"
      },
      "outputs": [
        {
          "name": "stdout",
          "output_type": "stream",
          "text": [
            "3\n"
          ]
        }
      ],
      "source": [
        "stroka = \"длинношеее\"\n",
        "\n",
        "print(stroka.count(\"е\"))"
      ]
    },
    {
      "cell_type": "markdown",
      "id": "KzT1IUCwBonj",
      "metadata": {
        "id": "KzT1IUCwBonj"
      },
      "source": [
        "### Делим и соединяем\n",
        "#### `str.split()` с `maxsplit=<число>`"
      ]
    },
    {
      "cell_type": "code",
      "execution_count": 60,
      "id": "Jl2uKEYmBvx7",
      "metadata": {
        "colab": {
          "base_uri": "https://localhost:8080/"
        },
        "id": "Jl2uKEYmBvx7",
        "outputId": "03245307-4ddc-49c2-a6f1-64137e33d938"
      },
      "outputs": [
        {
          "output_type": "stream",
          "name": "stdout",
          "text": [
            "['hey', 'hey', 'hey']\n",
            "['hey-hey-hey']\n"
          ]
        }
      ],
      "source": [
        "salute = \"hey-hey-hey\"\n",
        "\n",
        "print(salute.split(\"-\"))\n",
        "print(salute.split(\".\"))"
      ]
    },
    {
      "cell_type": "markdown",
      "id": "kQFHF69bVJMV",
      "metadata": {
        "id": "kQFHF69bVJMV"
      },
      "source": [
        "Количество делений можно ограничить!"
      ]
    },
    {
      "cell_type": "code",
      "execution_count": 61,
      "id": "QDiQ624-VJa4",
      "metadata": {
        "colab": {
          "base_uri": "https://localhost:8080/"
        },
        "id": "QDiQ624-VJa4",
        "outputId": "2989d808-d1dc-4f9e-bab8-3a9bf64d37e0"
      },
      "outputs": [
        {
          "output_type": "execute_result",
          "data": {
            "text/plain": [
              "['hey', 'hey-hey']"
            ]
          },
          "metadata": {},
          "execution_count": 61
        }
      ],
      "source": [
        "salute.split(\"-\", maxsplit=1)"
      ]
    },
    {
      "cell_type": "code",
      "execution_count": null,
      "id": "ix3K0sF6e6O_",
      "metadata": {
        "colab": {
          "base_uri": "https://localhost:8080/"
        },
        "id": "ix3K0sF6e6O_",
        "outputId": "f37d53b0-6a2d-429b-fddf-d4616c4a2c51"
      },
      "outputs": [
        {
          "name": "stdout",
          "output_type": "stream",
          "text": [
            "['Пётр', 'и', 'Павел', 'день убавил']\n"
          ]
        }
      ],
      "source": [
        "proverb = \"Пётр и Павел день убавил\"\n",
        "\n",
        "print(proverb.split(maxsplit=3))"
      ]
    },
    {
      "cell_type": "markdown",
      "id": "e847a530",
      "metadata": {
        "id": "e847a530"
      },
      "source": [
        "### `< `чем соединяем`>.join(<`что соединяем`>)`"
      ]
    },
    {
      "cell_type": "markdown",
      "id": "Wzly1-KmVj5E",
      "metadata": {
        "id": "Wzly1-KmVj5E"
      },
      "source": [
        "Когда у нас есть список строк и мы хотим соединить их в одну, следует использовать `str.join`. Он вызывается от той строчки, которую мы хотим сделать разделителем:"
      ]
    },
    {
      "cell_type": "code",
      "execution_count": 63,
      "id": "38Dkcwt2VkDY",
      "metadata": {
        "colab": {
          "base_uri": "https://localhost:8080/",
          "height": 35
        },
        "id": "38Dkcwt2VkDY",
        "outputId": "db1d8067-3de8-4c6e-a2b2-e762fc3f3006"
      },
      "outputs": [
        {
          "output_type": "execute_result",
          "data": {
            "text/plain": [
              "'Алексей Николаевич --- Лев Николаевич --- Алексей Константинович'"
            ],
            "application/vnd.google.colaboratory.intrinsic+json": {
              "type": "string"
            }
          },
          "metadata": {},
          "execution_count": 63
        }
      ],
      "source": [
        "names = [\"Алексей Николаевич\", \"Лев Николаевич\", \"Алексей Константинович\"]\n",
        "' --- '.join(names)"
      ]
    },
    {
      "cell_type": "code",
      "execution_count": 64,
      "id": "ecd3af3e",
      "metadata": {
        "id": "ecd3af3e",
        "outputId": "a58cf33e-72e6-4bc9-eb5e-560d85e052c8",
        "colab": {
          "base_uri": "https://localhost:8080/"
        }
      },
      "outputs": [
        {
          "output_type": "stream",
          "name": "stdout",
          "text": [
            "Алексей Николаевич, Лев Николаевич, Алексей Константинович\n"
          ]
        }
      ],
      "source": [
        "separator = \", \"\n",
        "print(separator.join(names))"
      ]
    },
    {
      "cell_type": "markdown",
      "id": "LLo-3OEq3OyC",
      "metadata": {
        "id": "LLo-3OEq3OyC"
      },
      "source": [
        "### Проверка содержимого строк"
      ]
    },
    {
      "cell_type": "markdown",
      "id": "WRwSONSn3Xza",
      "metadata": {
        "id": "WRwSONSn3Xza"
      },
      "source": [
        "#### `str.startswith()` верно, что строка начинается с определённой подстроки?"
      ]
    },
    {
      "cell_type": "code",
      "execution_count": 66,
      "id": "accd6532",
      "metadata": {
        "id": "accd6532",
        "outputId": "1b85aeaf-d2cb-4f2a-c57f-4a1a66e4ae4f",
        "colab": {
          "base_uri": "https://localhost:8080/"
        }
      },
      "outputs": [
        {
          "output_type": "execute_result",
          "data": {
            "text/plain": [
              "True"
            ]
          },
          "metadata": {},
          "execution_count": 66
        }
      ],
      "source": [
        "\"https://cbr.ru\".startswith(\"http:\")"
      ]
    },
    {
      "cell_type": "code",
      "execution_count": null,
      "id": "1540e8f5",
      "metadata": {
        "id": "1540e8f5",
        "outputId": "0d8fc828-86ef-48ab-db81-ada9d9da9036"
      },
      "outputs": [
        {
          "name": "stdout",
          "output_type": "stream",
          "text": [
            "Начинается  ли строка \"https://cbr.ru\" с \"https\"? True\n"
          ]
        }
      ],
      "source": [
        "print('Начинается  ли строка \"https://cbr.ru\" с \"https\"?', \"https://cbr.ru\".startswith(\"https\"))"
      ]
    },
    {
      "cell_type": "markdown",
      "id": "pDPP9smL3iQL",
      "metadata": {
        "id": "pDPP9smL3iQL"
      },
      "source": [
        "#### `str.endswith()` верно, что строка кончается на определённую подстроку?"
      ]
    },
    {
      "cell_type": "code",
      "execution_count": null,
      "id": "ecc44069",
      "metadata": {
        "id": "ecc44069",
        "outputId": "f91dc862-d91d-4f4c-a38f-aa4c5b413859"
      },
      "outputs": [
        {
          "data": {
            "text/plain": [
              "False"
            ]
          },
          "execution_count": 33,
          "metadata": {},
          "output_type": "execute_result"
        }
      ],
      "source": [
        "\"hse.ru\".endswith('com')"
      ]
    },
    {
      "cell_type": "code",
      "execution_count": null,
      "id": "6fc14219",
      "metadata": {
        "id": "6fc14219",
        "outputId": "2ba180f9-26ba-406d-a55e-f7ccced99f98"
      },
      "outputs": [
        {
          "data": {
            "text/plain": [
              "True"
            ]
          },
          "execution_count": 34,
          "metadata": {},
          "output_type": "execute_result"
        }
      ],
      "source": [
        "\"hse.ru\".endswith((\"ru\", \".рф\"))"
      ]
    },
    {
      "cell_type": "code",
      "execution_count": null,
      "id": "VJ79vY8o45ZQ",
      "metadata": {
        "colab": {
          "base_uri": "https://localhost:8080/"
        },
        "id": "VJ79vY8o45ZQ",
        "outputId": "0a72975c-5329-4153-df0d-5cd59bd96142"
      },
      "outputs": [
        {
          "name": "stdout",
          "output_type": "stream",
          "text": [
            "Оканчивается ли \"hse.ru\" на \".ru\"? True\n",
            "Оканчивается ли \"hse.ru\" на \".ru\" или \".рф\"? True\n"
          ]
        }
      ],
      "source": [
        "print('Оканчивается ли \"hse.ru\" на \".ru\"?', \"hse.ru\".endswith(\"ru\"))\n",
        "print('Оканчивается ли \"hse.ru\" на \".ru\" или \".рф\"?', \"hse.ru\".endswith((\"ru\", \".рф\")))\n",
        "# Можно для нескольких проверять"
      ]
    },
    {
      "cell_type": "markdown",
      "id": "jwFF1UDt4Aay",
      "metadata": {
        "id": "jwFF1UDt4Aay"
      },
      "source": [
        "#### Какого рода в строке символы?"
      ]
    },
    {
      "cell_type": "code",
      "execution_count": null,
      "id": "r6g-t5HK4BD4",
      "metadata": {
        "colab": {
          "base_uri": "https://localhost:8080/"
        },
        "id": "r6g-t5HK4BD4",
        "outputId": "746b19c9-6a2c-404a-e2f5-c814d8fbb1c1"
      },
      "outputs": [
        {
          "name": "stdout",
          "output_type": "stream",
          "text": [
            "Проверим их работу на примере строки \" 4242elloello42! \"\n",
            "Состоит ли строка только из букв: False\n",
            "Состоит ли строка только из цифр: False\n",
            "Состоит ли строка только из букв или цифр: False\n",
            "Все ли буквы в строчке строчные: True\n",
            "Все ли буквы в строчке прописные: False\n"
          ]
        }
      ],
      "source": [
        "s = ' 4242elloello42! '\n",
        "print('Проверим их работу на примере строки', '\"' + s + '\"')\n",
        "\n",
        "print('Состоит ли строка только из букв:', s.isalpha())\n",
        "print('Состоит ли строка только из цифр:', s.isdigit())\n",
        "\n",
        "print('Состоит ли строка только из букв или цифр:', s.isalnum())\n",
        "\n",
        "print('Все ли буквы в строчке строчные:', s.islower())\n",
        "print('Все ли буквы в строчке прописные:', s.isupper())"
      ]
    },
    {
      "cell_type": "code",
      "execution_count": null,
      "id": "MXamvnKO4F6o",
      "metadata": {
        "colab": {
          "base_uri": "https://localhost:8080/"
        },
        "id": "MXamvnKO4F6o",
        "outputId": "db015f08-8e29-4fdb-e2ca-e9fcce999009"
      },
      "outputs": [
        {
          "name": "stdout",
          "output_type": "stream",
          "text": [
            "True\n",
            "False\n"
          ]
        }
      ],
      "source": [
        "print(\"41414\".isdigit())\n",
        "print(\"41414.515415\".isdigit())"
      ]
    },
    {
      "cell_type": "code",
      "execution_count": null,
      "id": "sMvLodkc4etA",
      "metadata": {
        "colab": {
          "base_uri": "https://localhost:8080/"
        },
        "id": "sMvLodkc4etA",
        "outputId": "3c32dcd7-094b-4b7d-ba06-f77d06e9d648"
      },
      "outputs": [
        {
          "name": "stdout",
          "output_type": "stream",
          "text": [
            "True\n",
            "False\n"
          ]
        }
      ],
      "source": [
        "print(\"41414abc\".isalnum())\n",
        "print(\"4141451abc.5415\".isalnum())"
      ]
    },
    {
      "cell_type": "markdown",
      "source": [
        "### Тренировка"
      ],
      "metadata": {
        "id": "l8-Xw02E3QV6"
      },
      "id": "l8-Xw02E3QV6"
    },
    {
      "cell_type": "markdown",
      "source": [
        "Перед вами текст. Создайте список всех сайтов, упомянутых в нём, а также список всех почт (последовательность с @), всех чисел."
      ],
      "metadata": {
        "id": "swbPc_cN7slo"
      },
      "id": "swbPc_cN7slo"
    },
    {
      "cell_type": "code",
      "source": [
        "text = '''С сайта https://forum.oprf.ru/news_op/horoshie-novosti-kak-informacionnyj-shhit-strany/\n",
        "На площадке итогового форума «Сообщество» (https://forum.oprf.ru/) в Москве презентовали информационный проект «Хорошие новости» (E-mail: goodnews@oprf.ru).\n",
        "Новый формат СМИ, основанный на вовлечении граждан в создание и распространение позитивного контента, презентовали на площадке итогового форума «Сообщество» в Москве.\n",
        "Идея проекта «Хорошие новости» состоит в активном вовлечении пользователей в позитивную информационную повестку. Участники проекта сами создают и распространяют контент, основанный на достижениях и успехах российских ученых, музыкантов, художников, спортсменов и экспертов в различных областях. С 18 сентября этого года в рамках проекта доступны мобильные приложения (https://goodnews.oprf.ru/), запущенные по инициативе Общественной палаты РФ.\n",
        "На сегодняшний день приложение «Хорошие новости» насчитывает 35 тысяч пользователей, свыше 110 тысяч опубликованных постов в соцсетях с позитивным контентом, а общий охват аудитории составил более 6,8 миллионов человек.\n",
        "МОСКВА, 18 сентября 2023, 17:46 /ТАСС/ В ОП считают, что проект \"Хорошие новости\" покроет потребность россиян в позитиве. https://tass.ru/obschestvo/18777231 info@tass.ru\n",
        "О первых успехах проекта рассказал его главный редактор Всеволод Севин v_sevin@mail.ru.'''"
      ],
      "metadata": {
        "id": "-Xjgh9vS3S3l"
      },
      "id": "-Xjgh9vS3S3l",
      "execution_count": null,
      "outputs": []
    },
    {
      "cell_type": "code",
      "source": [],
      "metadata": {
        "id": "rl0LAwttBq6g"
      },
      "id": "rl0LAwttBq6g",
      "execution_count": null,
      "outputs": []
    },
    {
      "cell_type": "markdown",
      "id": "f9uXUbeXBv2n",
      "metadata": {
        "id": "f9uXUbeXBv2n"
      },
      "source": [
        "## Форматирование строк: `str.format`, `f-строки`, (`%`)"
      ]
    },
    {
      "cell_type": "markdown",
      "id": "Rsw8WuCtyxa8",
      "metadata": {
        "id": "Rsw8WuCtyxa8"
      },
      "source": [
        "Часто нужно подставить какие-то значения в строчку. Мы делали это сложением или в `print`:\n",
        "\n"
      ]
    },
    {
      "cell_type": "code",
      "execution_count": null,
      "id": "9Uij0rzk0oht",
      "metadata": {
        "colab": {
          "base_uri": "https://localhost:8080/"
        },
        "id": "9Uij0rzk0oht",
        "outputId": "bd7a72a1-287c-4296-d6b6-0403cfde619d"
      },
      "outputs": [
        {
          "name": "stdout",
          "output_type": "stream",
          "text": [
            "При x=5 значения y=2 z=4, что в два раза больше, чем при x0=4\n"
          ]
        }
      ],
      "source": [
        "x0 = 4\n",
        "x = 5\n",
        "y = 2\n",
        "z = 4\n",
        "\n",
        "\n",
        "print(\"При x=\" + str(x), \"значения y=\" + str(y),\n",
        "      \"z=\" + str(z) + \",\",  \"что в два раза больше, чем при x0=\" + str(x0))"
      ]
    },
    {
      "cell_type": "markdown",
      "id": "KZ0N4bDLzpJA",
      "metadata": {
        "id": "KZ0N4bDLzpJA"
      },
      "source": [
        "Можно делать это аккуратнее и красивее, используя **форматирование строк**.\n",
        "\n",
        "Форматирование строк &mdash; это подстановка какого-то значения внутрь строки в нужном месте. Значению при этом необязательно быть строкой самому."
      ]
    },
    {
      "cell_type": "code",
      "execution_count": null,
      "id": "0cb4c46f",
      "metadata": {
        "id": "0cb4c46f",
        "outputId": "2d7a9628-877d-4d90-c25d-b6963d60c8e9"
      },
      "outputs": [
        {
          "name": "stdout",
          "output_type": "stream",
          "text": [
            "Здравствуйте, Ваня!\n"
          ]
        }
      ],
      "source": [
        "mysalute1 = \"Здравствуйте, {}!\"\n",
        "print(mysalute1.format(\"Ваня\"))"
      ]
    },
    {
      "cell_type": "code",
      "execution_count": null,
      "id": "nPRJIN3MBulU",
      "metadata": {
        "colab": {
          "base_uri": "https://localhost:8080/"
        },
        "id": "nPRJIN3MBulU",
        "outputId": "8da8ee81-2582-4617-f38a-788a7ba463b1"
      },
      "outputs": [
        {
          "name": "stdout",
          "output_type": "stream",
          "text": [
            "Ну и ну! Приветствую вас, Лев Николаевич!\n"
          ]
        }
      ],
      "source": [
        "names = [\"Алексей Николаевич\", \"Лев Николаевич\", \"Алексей Константинович\"]\n",
        "\n",
        "mysalute2 = \"Ну и ну! Приветствую вас, {}!\"\n",
        "\n",
        "print(mysalute2.format(names[1]))"
      ]
    },
    {
      "cell_type": "markdown",
      "id": "a8a28cc0",
      "metadata": {
        "id": "a8a28cc0"
      },
      "source": [
        "Получается, это шаблон, в котором `.format()` заменяет `\"{}\"` на то, что дали в скобках"
      ]
    },
    {
      "cell_type": "code",
      "execution_count": null,
      "id": "c8bfa170",
      "metadata": {
        "id": "c8bfa170",
        "outputId": "79f4b3a9-c008-4f93-b20a-ad1cb0a84ad4"
      },
      "outputs": [
        {
          "data": {
            "text/plain": [
              "'Ну и ну! Приветствую вас, {}!'"
            ]
          },
          "execution_count": 3,
          "metadata": {},
          "output_type": "execute_result"
        }
      ],
      "source": [
        "mysalute2"
      ]
    },
    {
      "cell_type": "code",
      "execution_count": null,
      "id": "zC5QIugaXx9w",
      "metadata": {
        "colab": {
          "base_uri": "https://localhost:8080/"
        },
        "id": "zC5QIugaXx9w",
        "outputId": "6c56230a-6246-4f1f-c5f2-f4a1c1785956"
      },
      "outputs": [
        {
          "name": "stdout",
          "output_type": "stream",
          "text": [
            "Приятно видеть вас, Алексей Константинович!\n"
          ]
        }
      ],
      "source": [
        "mysalute3 = \"Приятно видеть вас, {name}!\"\n",
        "\n",
        "print(mysalute3.format(name=names[2]))\n",
        "# print(mysalute3.format(names[2]))  # А так не работает, ведь нужно именно name"
      ]
    },
    {
      "cell_type": "code",
      "execution_count": null,
      "id": "6a8cefb3",
      "metadata": {
        "id": "6a8cefb3",
        "outputId": "82b29520-b356-44a6-a7a7-b89a82976fa7"
      },
      "outputs": [
        {
          "name": "stdout",
          "output_type": "stream",
          "text": [
            "Привет, Пачкуале Пестрини!\n"
          ]
        }
      ],
      "source": [
        "mysalute4 = \"Привет, {name}!\"\n",
        "name = \"Пачкуале Пестрини\"\n",
        "print(mysalute4.format(name = name))\n",
        "#print(mysalute3.format(name))  # А так не работает"
      ]
    },
    {
      "cell_type": "code",
      "execution_count": null,
      "id": "fe506951",
      "metadata": {
        "id": "fe506951",
        "outputId": "7574f26a-2311-4a16-ed51-bab45e5cbcca"
      },
      "outputs": [
        {
          "name": "stdout",
          "output_type": "stream",
          "text": [
            "Вы готовы, Шехерезада Степановна?\n"
          ]
        }
      ],
      "source": [
        "phrase = \"Вы готовы, {name} {patronymic}?\"\n",
        "\n",
        "print(phrase.format(patronymic=\"Степановна\", name=\"Шехерезада\"))"
      ]
    },
    {
      "cell_type": "code",
      "execution_count": null,
      "id": "4jHPjoniWZST",
      "metadata": {
        "colab": {
          "base_uri": "https://localhost:8080/"
        },
        "id": "4jHPjoniWZST",
        "outputId": "f32264e9-1402-46c7-c547-de66870f3933"
      },
      "outputs": [
        {
          "name": "stdout",
          "output_type": "stream",
          "text": [
            "результат: [1, 2, 3, 4]\n"
          ]
        }
      ],
      "source": [
        "result = [1, 2, 3, 4]\n",
        "\n",
        "stroka = f\"результат: {result}\"\n",
        "\n",
        "print(stroka)"
      ]
    },
    {
      "cell_type": "markdown",
      "id": "IsshPMwhl36d",
      "metadata": {
        "id": "IsshPMwhl36d"
      },
      "source": [
        "**f-строки** не шаблоны, нельзя отложить подстановку, значения нужно подставить сразу, иначе ошибка"
      ]
    },
    {
      "cell_type": "code",
      "execution_count": null,
      "id": "A1tzZpxtlpHI",
      "metadata": {
        "colab": {
          "base_uri": "https://localhost:8080/",
          "height": 133
        },
        "id": "A1tzZpxtlpHI",
        "outputId": "56226706-6712-4840-c365-8196c3ea9fed"
      },
      "outputs": [
        {
          "ename": "SyntaxError",
          "evalue": "f-string: empty expression not allowed (4092511919.py, line 3)",
          "output_type": "error",
          "traceback": [
            "\u001b[0;36m  Input \u001b[0;32mIn [50]\u001b[0;36m\u001b[0m\n\u001b[0;31m    s = f\"результат: {}\"\u001b[0m\n\u001b[0m                        ^\u001b[0m\n\u001b[0;31mSyntaxError\u001b[0m\u001b[0;31m:\u001b[0m f-string: empty expression not allowed\n"
          ]
        }
      ],
      "source": [
        "result = [1, 2, 3, 4]\n",
        "\n",
        "s = f\"результат: {}\"\n",
        "\n",
        "print(s)"
      ]
    },
    {
      "cell_type": "markdown",
      "id": "4C4G1eKnwBS_",
      "metadata": {
        "id": "4C4G1eKnwBS_"
      },
      "source": [
        "Форматирование строк позволяет подставлять внутрь что угодно, не только строки"
      ]
    },
    {
      "cell_type": "code",
      "execution_count": null,
      "id": "hTCQgNZKWZbL",
      "metadata": {
        "colab": {
          "base_uri": "https://localhost:8080/"
        },
        "id": "hTCQgNZKWZbL",
        "outputId": "c1b04b59-c88b-44c6-b175-ed1487116bc1"
      },
      "outputs": [
        {
          "name": "stdout",
          "output_type": "stream",
          "text": [
            "Здравствуйте, 42!\n",
            "Здравствуйте, ['Never', 'gonna', 'give', 'you', 'up']!\n",
            "Здравствуйте, True!\n"
          ]
        }
      ],
      "source": [
        "print(mysalute1.format(42))\n",
        "print(mysalute1.format(\"Never gonna give you up\".split()))\n",
        "print(mysalute1.format(5<10))"
      ]
    },
    {
      "cell_type": "markdown",
      "source": [
        "### Тренировка\n",
        "\n",
        "Выведите списки почт и сайтов из текста, напишите, сколько чисел в нём нашлось."
      ],
      "metadata": {
        "id": "jvQZymk3CDxt"
      },
      "id": "jvQZymk3CDxt"
    },
    {
      "cell_type": "code",
      "source": [],
      "metadata": {
        "id": "iVerRjWPCDQY"
      },
      "id": "iVerRjWPCDQY",
      "execution_count": null,
      "outputs": []
    },
    {
      "cell_type": "markdown",
      "source": [
        "# Словари"
      ],
      "metadata": {
        "id": "6jEwIh00xEaO"
      },
      "id": "6jEwIh00xEaO"
    },
    {
      "cell_type": "code",
      "source": [
        "eng_rus = {'cat': 'кошка', 'dog': 'собака'}  # создали словарь\n",
        "eng_rus['cat']  # обратились по ключу к словарю и узнали значение"
      ],
      "metadata": {
        "colab": {
          "base_uri": "https://localhost:8080/",
          "height": 35
        },
        "id": "K31aLKRnxD32",
        "outputId": "02ffd5bb-ae14-4d76-9efd-ae686d4b65a9"
      },
      "execution_count": null,
      "outputs": [
        {
          "output_type": "execute_result",
          "data": {
            "text/plain": [
              "'кошка'"
            ],
            "application/vnd.google.colaboratory.intrinsic+json": {
              "type": "string"
            }
          },
          "metadata": {},
          "execution_count": 72
        }
      ],
      "id": "K31aLKRnxD32"
    },
    {
      "cell_type": "code",
      "source": [
        "eng_rus['кошка']"
      ],
      "metadata": {
        "colab": {
          "base_uri": "https://localhost:8080/",
          "height": 141
        },
        "id": "KYU7BxMlvrvo",
        "outputId": "8e245576-e484-43bb-d622-17affe9f1988"
      },
      "execution_count": null,
      "outputs": [
        {
          "output_type": "error",
          "ename": "KeyError",
          "evalue": "'кошка'",
          "traceback": [
            "\u001b[0;31m---------------------------------------------------------------------------\u001b[0m",
            "\u001b[0;31mKeyError\u001b[0m                                  Traceback (most recent call last)",
            "\u001b[0;32m<ipython-input-73-5e6033876700>\u001b[0m in \u001b[0;36m<cell line: 1>\u001b[0;34m()\u001b[0m\n\u001b[0;32m----> 1\u001b[0;31m \u001b[0meng_rus\u001b[0m\u001b[0;34m[\u001b[0m\u001b[0;34m'кошка'\u001b[0m\u001b[0;34m]\u001b[0m\u001b[0;34m\u001b[0m\u001b[0;34m\u001b[0m\u001b[0m\n\u001b[0m",
            "\u001b[0;31mKeyError\u001b[0m: 'кошка'"
          ]
        }
      ],
      "id": "KYU7BxMlvrvo"
    },
    {
      "cell_type": "code",
      "source": [
        "eng_rus['racoon'] = 'енот'  # добавили пару - ключ: значение\n",
        "eng_rus"
      ],
      "metadata": {
        "colab": {
          "base_uri": "https://localhost:8080/"
        },
        "id": "TP2x7q9xxY-s",
        "outputId": "49a36359-6165-4378-c355-7ce55ddb3ea1"
      },
      "execution_count": null,
      "outputs": [
        {
          "output_type": "execute_result",
          "data": {
            "text/plain": [
              "{'cat': 'кошка', 'dog': 'собака', 'racoon': 'енот'}"
            ]
          },
          "metadata": {},
          "execution_count": 74
        }
      ],
      "id": "TP2x7q9xxY-s"
    },
    {
      "cell_type": "code",
      "source": [
        "eng_rus.items()"
      ],
      "metadata": {
        "colab": {
          "base_uri": "https://localhost:8080/"
        },
        "id": "T-wmfdFSv8V6",
        "outputId": "4d88ef68-da5e-4d7a-d445-e469ef53ff0e"
      },
      "execution_count": null,
      "outputs": [
        {
          "output_type": "execute_result",
          "data": {
            "text/plain": [
              "dict_items([('cat', 'кошка'), ('dog', 'собака'), ('racoon', 'енот')])"
            ]
          },
          "metadata": {},
          "execution_count": 75
        }
      ],
      "id": "T-wmfdFSv8V6"
    },
    {
      "cell_type": "code",
      "source": [
        "for pair in eng_rus.items():\n",
        "  if pair[1]=='кошка':\n",
        "      print(pair[0])"
      ],
      "metadata": {
        "colab": {
          "base_uri": "https://localhost:8080/"
        },
        "id": "-2cbP0Alb9vK",
        "outputId": "9264d15f-eaf7-4792-c27e-db296b68fca8"
      },
      "execution_count": null,
      "outputs": [
        {
          "output_type": "stream",
          "name": "stdout",
          "text": [
            "cat\n"
          ]
        }
      ],
      "id": "-2cbP0Alb9vK"
    },
    {
      "cell_type": "code",
      "source": [
        "for eng_word, rus_word in eng_rus.items():  # items - чтобы получить пары\n",
        "                                            # keys - для ключей, values - для значений\n",
        "    print(rus_word, '-', eng_word)"
      ],
      "metadata": {
        "colab": {
          "base_uri": "https://localhost:8080/"
        },
        "id": "ai87g1Gix44F",
        "outputId": "081c980d-74c5-4985-e4ea-2c4fa63153e8"
      },
      "execution_count": null,
      "outputs": [
        {
          "output_type": "stream",
          "name": "stdout",
          "text": [
            "кошка - cat\n",
            "собака - dog\n",
            "енот - racoon\n"
          ]
        }
      ],
      "id": "ai87g1Gix44F"
    },
    {
      "cell_type": "markdown",
      "source": [
        "### Тренировка\n",
        "Создайте словарь книг, где ключом будет автор, а значением список, написанных им книг."
      ],
      "metadata": {
        "id": "tnz58yChCvAI"
      },
      "id": "tnz58yChCvAI"
    },
    {
      "cell_type": "code",
      "source": [],
      "metadata": {
        "id": "PwEBuam8DEzn"
      },
      "id": "PwEBuam8DEzn",
      "execution_count": null,
      "outputs": []
    }
  ],
  "metadata": {
    "colab": {
      "provenance": []
    },
    "kernelspec": {
      "display_name": "Python 3 (ipykernel)",
      "language": "python",
      "name": "python3"
    },
    "language_info": {
      "codemirror_mode": {
        "name": "ipython",
        "version": 3
      },
      "file_extension": ".py",
      "mimetype": "text/x-python",
      "name": "python",
      "nbconvert_exporter": "python",
      "pygments_lexer": "ipython3",
      "version": "3.9.7"
    }
  },
  "nbformat": 4,
  "nbformat_minor": 5
}