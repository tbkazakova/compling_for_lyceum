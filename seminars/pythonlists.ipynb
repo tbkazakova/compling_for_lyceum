{
 "cells": [
  {
   "cell_type": "markdown",
   "metadata": {
    "id": "b1ezduM8O6R5"
   },
   "source": [
    "## Списки\n",
    "\n",
    "В список можно превратить любой итерируемый объект, по которому можно пройти циклом с `for` и у которого есть функция `list()`."
   ]
  },
  {
   "cell_type": "code",
   "execution_count": 1,
   "metadata": {
    "colab": {
     "base_uri": "https://localhost:8080/"
    },
    "id": "j-VJacncP9ov",
    "outputId": "5955d2d0-abb9-472a-c7c9-2ff0d461ff04"
   },
   "outputs": [
    {
     "data": {
      "text/plain": [
       "['с', 'т', 'р', 'о', 'к', 'а']"
      ]
     },
     "execution_count": 1,
     "metadata": {},
     "output_type": "execute_result"
    }
   ],
   "source": [
    "list('строка')  # это те самые elementы in 'строка'"
   ]
  },
  {
   "cell_type": "code",
   "execution_count": 2,
   "metadata": {},
   "outputs": [],
   "source": [
    "empty_list = []  # можно создать пустой список"
   ]
  },
  {
   "cell_type": "code",
   "execution_count": 3,
   "metadata": {
    "id": "xowlmo3CQPNK"
   },
   "outputs": [],
   "source": [
    "# Можно сразу создавать с содержимым\n",
    "\n",
    "some_food = ['сайки', 'коржики', 'коврижки',\n",
    "             'апельсины', 'мандарины', 'малина из корзины',\n",
    "             'на палочках петушки', 'с повидлом пирожки']  # список строк\n",
    "digits = [1, 2, 3, 4, 5, 6, 7, 8, 9]  # список чисел\n",
    "\n",
    "mixed_list = ['год', 2023, True]  # в одном списке могут храниться элементы разных типов\n",
    "matrix = [[1, 2, 3], [4, 5, 6], [7, 8, 9]]  # список может содержать другие списки\n"
   ]
  },
  {
   "cell_type": "markdown",
   "metadata": {
    "id": "ZwkycYwtRvHW"
   },
   "source": [
    "### Методы для списков\n",
    "\n",
    "`.append(x)` - Добавляет элемент в конец списка\n",
    "\n",
    " `.extend(another_list)` - Расширяет список, добавляя в конец все элементы списка another_list\n",
    "\n",
    " `.insert(i, x)` - Вставляет в i-ую позицию в списке значение x\n",
    "\n",
    " `.remove(x)` - Удаляет первый элемент в списке, имеющий значение x\n",
    "\n",
    " `.clear()` - Очищает список\n",
    "\n",
    "\n"
   ]
  },
  {
   "cell_type": "code",
   "execution_count": 4,
   "metadata": {
    "colab": {
     "base_uri": "https://localhost:8080/"
    },
    "id": "FwU4De6fRz1M",
    "outputId": "c0e90ab1-a47e-4850-81a7-bcd1f9e5bb10"
   },
   "outputs": [
    {
     "name": "stdout",
     "output_type": "stream",
     "text": [
      "['спать']\n"
     ]
    }
   ],
   "source": [
    "list_of_wishes = []  # Список сиюминутных желаний, когда спрашивают\n",
    "list_of_wishes.append('спать')  # После секунды раздумий\n",
    "print(list_of_wishes)"
   ]
  },
  {
   "cell_type": "code",
   "execution_count": 5,
   "metadata": {
    "colab": {
     "base_uri": "https://localhost:8080/"
    },
    "id": "jwafy2hoTfy6",
    "outputId": "70fc88e1-7511-4fcd-e5d4-cbc8a964ae38"
   },
   "outputs": [
    {
     "name": "stdout",
     "output_type": "stream",
     "text": [
      "[1, 2, 3, 5, 6, 7]\n"
     ]
    }
   ],
   "source": [
    "first = [1, 2, 3]\n",
    "second = [5, 6, 7]\n",
    "first.extend(second)\n",
    "print(first)\n",
    "\n",
    "# Осторожно, .extend() изменяет изначальный список first, а не создает новый."
   ]
  },
  {
   "cell_type": "code",
   "execution_count": 6,
   "metadata": {
    "id": "bmEbiaSATwS5"
   },
   "outputs": [],
   "source": [
    "first = [1, 2, 3]\n",
    "second = [5, 6, 7]\n",
    "third = first + second\n",
    "# вот так можно создать новый список (использовать +)"
   ]
  },
  {
   "cell_type": "code",
   "execution_count": 7,
   "metadata": {
    "id": "r-aTIKvIaibu",
    "outputId": "f39d17e0-ab2a-4b68-9bac-a442a2235190"
   },
   "outputs": [
    {
     "name": "stdout",
     "output_type": "stream",
     "text": [
      "[[], [], []]\n"
     ]
    }
   ],
   "source": [
    "lists = [[]] * 3\n",
    "\n",
    "print(lists)"
   ]
  },
  {
   "cell_type": "markdown",
   "metadata": {
    "id": "m-a6ZQGPaibv"
   },
   "source": [
    "Мы размножили ссылку на один единственный список, поэтому когда мы пытаемся посмотреть, что там хранится в списке по ссылке, то видим три одинаковых списка"
   ]
  },
  {
   "cell_type": "code",
   "execution_count": 8,
   "metadata": {
    "id": "qIwL1DMqaibv",
    "outputId": "6665fd74-0920-4d0b-810d-4607093253ea"
   },
   "outputs": [
    {
     "name": "stdout",
     "output_type": "stream",
     "text": [
      "[[3], [3], [3]]\n"
     ]
    }
   ],
   "source": [
    "lists[0].append(3)\n",
    "\n",
    "print(lists)"
   ]
  },
  {
   "cell_type": "code",
   "execution_count": 9,
   "metadata": {
    "id": "lKieOL_1aibv",
    "outputId": "50fe0825-2cfa-44dd-9d95-d455142d3644"
   },
   "outputs": [
    {
     "name": "stdout",
     "output_type": "stream",
     "text": [
      "[[3, 3], [3, 3], [3, 3]]\n"
     ]
    }
   ],
   "source": [
    "lists[0].append(3)\n",
    "\n",
    "print(lists)"
   ]
  },
  {
   "cell_type": "markdown",
   "metadata": {
    "id": "qS_8wHqcUDd_"
   },
   "source": [
    "### Тренировка\n",
    "\n",
    "Создадим список слов из `text`\n",
    "\n",
    "- делим текст на слова по пробелоподобным символам (получаем список неочищенных слов)\n",
    "- проходим по словам\n",
    "    - отсекаем пунктуацию\n",
    "    - добавляем очищенное слово в список очищенных слов\n",
    "\n",
    "Напечатаем список очищенных слов"
   ]
  },
  {
   "cell_type": "code",
   "execution_count": 10,
   "metadata": {},
   "outputs": [],
   "source": [
    "text = '''Очень многие думают, что они умеют летать, –\n",
    "          Ласточки очень многие, лебеди очень многие.\n",
    "          И очень немногие думают, что умеют летать\n",
    "          Лошади очень многие, лошади четвероногие.'''"
   ]
  },
  {
   "cell_type": "code",
   "execution_count": 11,
   "metadata": {
    "id": "hnx3xftuUCXy"
   },
   "outputs": [
    {
     "name": "stdout",
     "output_type": "stream",
     "text": [
      "['Очень', 'многие', 'думают', 'что', 'они', 'умеют', 'летать', '', 'Ласточки', 'очень', 'многие', 'лебеди', 'очень', 'многие', 'И', 'очень', 'немногие', 'думают', 'что', 'умеют', 'летать', 'Лошади', 'очень', 'многие', 'лошади', 'четвероногие']\n"
     ]
    }
   ],
   "source": [
    "good_words = []\n",
    "for word in text.split():\n",
    "    good_word = word.strip(',.–')\n",
    "    good_words.append(good_word)\n",
    "print(good_words)"
   ]
  },
  {
   "cell_type": "markdown",
   "metadata": {
    "id": "zWDIClCgU4KN"
   },
   "source": [
    "## Индексы и срезы"
   ]
  },
  {
   "cell_type": "markdown",
   "metadata": {
    "id": "zfE7FXNHVB9O"
   },
   "source": [
    "- элементы нумеруются (“индексируются”) слева направо\n",
    "- **счёт начинается с нуля (0)**"
   ]
  },
  {
   "cell_type": "code",
   "execution_count": 12,
   "metadata": {
    "colab": {
     "base_uri": "https://localhost:8080/"
    },
    "id": "5C5lBdNdU3FJ",
    "outputId": "ead764f0-4a72-450a-e097-b827cb3cb8cf"
   },
   "outputs": [
    {
     "name": "stdout",
     "output_type": "stream",
     "text": [
      "лампочки\n",
      "мыло\n",
      "тесто\n",
      "тесто\n"
     ]
    }
   ],
   "source": [
    "my_purchases = ['лампочки', 'мыло', 'тесто']  # покупки за последнее время\n",
    "\n",
    "# можно обращаться по индексам\n",
    "print(my_purchases[0])  # \"первая\" покупка\n",
    "print(my_purchases[1])  # \"вторая\" покупка\n",
    "print(my_purchases[-1])  # \"последняя\" покупка\n",
    "print(my_purchases[len(my_purchases)-1])  # или так"
   ]
  },
  {
   "cell_type": "code",
   "execution_count": 13,
   "metadata": {
    "colab": {
     "base_uri": "https://localhost:8080/",
     "height": 173
    },
    "id": "dzNwn_QrWEKc",
    "outputId": "a92ae95e-45c0-41f3-8ab5-131db839cebb"
   },
   "outputs": [
    {
     "ename": "IndexError",
     "evalue": "list index out of range",
     "output_type": "error",
     "traceback": [
      "\u001b[0;31m---------------------------------------------------------------------------\u001b[0m",
      "\u001b[0;31mIndexError\u001b[0m                                Traceback (most recent call last)",
      "Input \u001b[0;32mIn [13]\u001b[0m, in \u001b[0;36m<cell line: 1>\u001b[0;34m()\u001b[0m\n\u001b[0;32m----> 1\u001b[0m \u001b[38;5;28mprint\u001b[39m(\u001b[43mmy_purchases\u001b[49m\u001b[43m[\u001b[49m\u001b[38;5;241;43m-\u001b[39;49m\u001b[38;5;241;43m10\u001b[39;49m\u001b[43m]\u001b[49m)\n",
      "\u001b[0;31mIndexError\u001b[0m: list index out of range"
     ]
    }
   ],
   "source": [
    "print(my_purchases[-10])  # если такого нет, то ломается"
   ]
  },
  {
   "cell_type": "markdown",
   "metadata": {
    "id": "w6NOYKarWdIq"
   },
   "source": [
    "### Срезы"
   ]
  },
  {
   "cell_type": "code",
   "execution_count": 14,
   "metadata": {
    "id": "YbZAegXDWESw",
    "outputId": "ec579079-6e9e-476e-d3ca-ccecca6e77de"
   },
   "outputs": [
    {
     "name": "stdout",
     "output_type": "stream",
     "text": [
      "['В', 'я', 'ч', 'е', 'с', 'л', 'а', 'в']\n",
      "['я', 'ч', 'е', 'с', 'л', 'а', 'в']\n",
      "['л', 'а', 'в']\n",
      "['ч', 'е', 'с']\n"
     ]
    }
   ],
   "source": [
    "list_of_chars = list('Вячеслав')\n",
    "print(list_of_chars) # ['В', 'я', 'ч', 'е', 'с', 'л', 'а', 'в']\n",
    "\n",
    "# Взять все символы имени, кроме первого\n",
    "print(list_of_chars[1:]) # ['я', 'ч', 'е', 'с', 'л', 'а', 'в']\n",
    "\n",
    "# последние 3 символа\n",
    "print(list_of_chars[-3:]) # ['л', 'а', 'в']\n",
    "\n",
    "print(list_of_chars[2:5]) # ['ч', 'е', 'с']"
   ]
  },
  {
   "cell_type": "markdown",
   "metadata": {},
   "source": [
    "### Тренировка\n",
    "Напечатайте первые 20 слов из списка со словами."
   ]
  },
  {
   "cell_type": "code",
   "execution_count": 15,
   "metadata": {},
   "outputs": [
    {
     "data": {
      "text/plain": [
       "['Очень',\n",
       " 'многие',\n",
       " 'думают',\n",
       " 'что',\n",
       " 'они',\n",
       " 'умеют',\n",
       " 'летать',\n",
       " '',\n",
       " 'Ласточки',\n",
       " 'очень',\n",
       " 'многие',\n",
       " 'лебеди',\n",
       " 'очень',\n",
       " 'многие',\n",
       " 'И',\n",
       " 'очень',\n",
       " 'немногие',\n",
       " 'думают',\n",
       " 'что',\n",
       " 'умеют']"
      ]
     },
     "execution_count": 15,
     "metadata": {},
     "output_type": "execute_result"
    }
   ],
   "source": [
    "good_words[:20]"
   ]
  },
  {
   "cell_type": "markdown",
   "metadata": {},
   "source": [
    "##### Отступление от темы\n",
    "Про регистр: привести все буквы к строчному регистру - `str.lower()`"
   ]
  },
  {
   "cell_type": "code",
   "execution_count": 16,
   "metadata": {},
   "outputs": [
    {
     "data": {
      "text/plain": [
       "'некоторые любят писать лесенкой, это не страшно!'"
      ]
     },
     "execution_count": 16,
     "metadata": {},
     "output_type": "execute_result"
    }
   ],
   "source": [
    "stairs = 'НеКоТоРыЕ лЮбЯт ПиСаТь ЛеСенКоЙ, эТо Не СтРаШнО!'\n",
    "stairs.lower()"
   ]
  },
  {
   "cell_type": "markdown",
   "metadata": {},
   "source": [
    "### Тренировка\n",
    "Найдите палиндромы в списке фраз"
   ]
  },
  {
   "cell_type": "code",
   "execution_count": 17,
   "metadata": {},
   "outputs": [
    {
     "name": "stdout",
     "output_type": "stream",
     "text": [
      "А роза упала на лапу Азора\n",
      "Хил, худ, а дух лих.\n",
      "А, зараза!\n",
      "И лежу. Ужели?\n"
     ]
    }
   ],
   "source": [
    "phrases = ['А роза упала на лапу Азора',\n",
    "           'Хил, худ, а дух лих.',\n",
    "           'Кинь лед зебре, бобр - бездельник.', \n",
    "           'А, зараза!',\n",
    "           'А Мила мама.',\n",
    "           'И лежу. Ужели?']\n",
    "\n",
    "for phrase in phrases:\n",
    "    good_words = []\n",
    "    for word in phrase.lower().split():\n",
    "        good_word = word.strip(',.–!?')\n",
    "        good_words.extend(list(good_word))\n",
    "    if good_words == good_words[::-1]:\n",
    "        print(phrase)"
   ]
  }
 ],
 "metadata": {
  "colab": {
   "provenance": [],
   "toc_visible": true
  },
  "kernelspec": {
   "display_name": "Python 3 (ipykernel)",
   "language": "python",
   "name": "python3"
  },
  "language_info": {
   "codemirror_mode": {
    "name": "ipython",
    "version": 3
   },
   "file_extension": ".py",
   "mimetype": "text/x-python",
   "name": "python",
   "nbconvert_exporter": "python",
   "pygments_lexer": "ipython3",
   "version": "3.9.16"
  }
 },
 "nbformat": 4,
 "nbformat_minor": 1
}
