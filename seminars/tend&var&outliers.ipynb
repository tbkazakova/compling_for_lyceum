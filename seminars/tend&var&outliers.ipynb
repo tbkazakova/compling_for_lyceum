{
  "cells": [
    {
      "cell_type": "code",
      "source": [
        "# скачиваем с гитхаба таблицу, с которой будем работать\n",
        "! wget https://raw.githubusercontent.com/tbkazakova/compling_for_lyceum/main/data/BikesDataVars.csv"
      ],
      "metadata": {
        "colab": {
          "base_uri": "https://localhost:8080/"
        },
        "id": "KoKJKjVkSI4o",
        "outputId": "1260ffcc-7ff2-4ebb-d8c2-d0e839cbf094"
      },
      "execution_count": null,
      "outputs": [
        {
          "output_type": "stream",
          "name": "stdout",
          "text": [
            "--2024-02-22 09:26:27--  https://raw.githubusercontent.com/tbkazakova/compling_for_lyceum/main/data/BikesDataVars.csv\n",
            "Resolving raw.githubusercontent.com (raw.githubusercontent.com)... 185.199.111.133, 185.199.108.133, 185.199.109.133, ...\n",
            "Connecting to raw.githubusercontent.com (raw.githubusercontent.com)|185.199.111.133|:443... connected.\n",
            "HTTP request sent, awaiting response... 200 OK\n",
            "Length: 591290 (577K) [text/plain]\n",
            "Saving to: ‘BikesDataVars.csv’\n",
            "\n",
            "BikesDataVars.csv   100%[===================>] 577.43K  --.-KB/s    in 0.02s   \n",
            "\n",
            "2024-02-22 09:26:28 (36.5 MB/s) - ‘BikesDataVars.csv’ saved [591290/591290]\n",
            "\n"
          ]
        }
      ]
    },
    {
      "cell_type": "markdown",
      "source": [
        "За датасет спасибо курсу по анализу данных от Data Culture (НИУ ВШЭ)\n",
        "\n",
        "А вот [**тут**](https://dfedorov.spb.ru/pandas/#8) есть безумное количество материалов по питону для анализа данных, хорошо написанных и проиллюстрированных"
      ],
      "metadata": {
        "id": "hSDzgDJHS_J2"
      }
    },
    {
      "cell_type": "markdown",
      "source": [
        "# Краткая статистическая справка для pandas\n",
        "\n",
        "Бывает **описательная статистика**, которая обрабатывает, систематизирует имеющиеся данные (+ наглядно представляет). И бывает **статистика вывода**, которая пытается на основе данных (выборки) делать предсказания о генеральной совокупности.\n",
        "\n",
        "В этой тетрадке про описательную."
      ],
      "metadata": {
        "id": "iWx5WCgEREKr"
      }
    },
    {
      "cell_type": "code",
      "execution_count": null,
      "metadata": {
        "colab": {
          "base_uri": "https://localhost:8080/",
          "height": 330
        },
        "id": "QdEb5lRrQ_h5",
        "outputId": "d86b9b19-a958-4f98-bbfd-5301b9500265"
      },
      "outputs": [
        {
          "output_type": "execute_result",
          "data": {
            "text/plain": [
              "         Date  Hour  Temperature  Humidity  Wind speed  Rainfall  Snowfall  \\\n",
              "0  2017-12-01     0         -5.2        37         2.2       0.0       0.0   \n",
              "1  2017-12-01     1         -5.5        38         0.8       0.0       0.0   \n",
              "2  2017-12-01     2         -6.0        39         1.0       0.0       0.0   \n",
              "3  2017-12-01     3         -6.2        40         0.9       0.0       0.0   \n",
              "4  2017-12-01     4         -6.0        36         2.3       0.0       0.0   \n",
              "\n",
              "  Seasons  Holiday  Functioning Day  Rental Count  Normal Humidity  \\\n",
              "0  Winter        0             True           257                0   \n",
              "1  Winter        0             True           219                0   \n",
              "2  Winter        0             True           162                0   \n",
              "3  Winter        0             True           148                1   \n",
              "4  Winter        0             True            97                0   \n",
              "\n",
              "  Temperature Category  Windy  Good Weather  \n",
              "0             Freezing  False             0  \n",
              "1             Freezing  False             0  \n",
              "2             Freezing  False             0  \n",
              "3             Freezing  False             0  \n",
              "4             Freezing  False             0  "
            ],
            "text/html": [
              "\n",
              "  <div id=\"df-a1863ccc-9cf7-465e-a9d1-50cd44cdb99e\" class=\"colab-df-container\">\n",
              "    <div>\n",
              "<style scoped>\n",
              "    .dataframe tbody tr th:only-of-type {\n",
              "        vertical-align: middle;\n",
              "    }\n",
              "\n",
              "    .dataframe tbody tr th {\n",
              "        vertical-align: top;\n",
              "    }\n",
              "\n",
              "    .dataframe thead th {\n",
              "        text-align: right;\n",
              "    }\n",
              "</style>\n",
              "<table border=\"1\" class=\"dataframe\">\n",
              "  <thead>\n",
              "    <tr style=\"text-align: right;\">\n",
              "      <th></th>\n",
              "      <th>Date</th>\n",
              "      <th>Hour</th>\n",
              "      <th>Temperature</th>\n",
              "      <th>Humidity</th>\n",
              "      <th>Wind speed</th>\n",
              "      <th>Rainfall</th>\n",
              "      <th>Snowfall</th>\n",
              "      <th>Seasons</th>\n",
              "      <th>Holiday</th>\n",
              "      <th>Functioning Day</th>\n",
              "      <th>Rental Count</th>\n",
              "      <th>Normal Humidity</th>\n",
              "      <th>Temperature Category</th>\n",
              "      <th>Windy</th>\n",
              "      <th>Good Weather</th>\n",
              "    </tr>\n",
              "  </thead>\n",
              "  <tbody>\n",
              "    <tr>\n",
              "      <th>0</th>\n",
              "      <td>2017-12-01</td>\n",
              "      <td>0</td>\n",
              "      <td>-5.2</td>\n",
              "      <td>37</td>\n",
              "      <td>2.2</td>\n",
              "      <td>0.0</td>\n",
              "      <td>0.0</td>\n",
              "      <td>Winter</td>\n",
              "      <td>0</td>\n",
              "      <td>True</td>\n",
              "      <td>257</td>\n",
              "      <td>0</td>\n",
              "      <td>Freezing</td>\n",
              "      <td>False</td>\n",
              "      <td>0</td>\n",
              "    </tr>\n",
              "    <tr>\n",
              "      <th>1</th>\n",
              "      <td>2017-12-01</td>\n",
              "      <td>1</td>\n",
              "      <td>-5.5</td>\n",
              "      <td>38</td>\n",
              "      <td>0.8</td>\n",
              "      <td>0.0</td>\n",
              "      <td>0.0</td>\n",
              "      <td>Winter</td>\n",
              "      <td>0</td>\n",
              "      <td>True</td>\n",
              "      <td>219</td>\n",
              "      <td>0</td>\n",
              "      <td>Freezing</td>\n",
              "      <td>False</td>\n",
              "      <td>0</td>\n",
              "    </tr>\n",
              "    <tr>\n",
              "      <th>2</th>\n",
              "      <td>2017-12-01</td>\n",
              "      <td>2</td>\n",
              "      <td>-6.0</td>\n",
              "      <td>39</td>\n",
              "      <td>1.0</td>\n",
              "      <td>0.0</td>\n",
              "      <td>0.0</td>\n",
              "      <td>Winter</td>\n",
              "      <td>0</td>\n",
              "      <td>True</td>\n",
              "      <td>162</td>\n",
              "      <td>0</td>\n",
              "      <td>Freezing</td>\n",
              "      <td>False</td>\n",
              "      <td>0</td>\n",
              "    </tr>\n",
              "    <tr>\n",
              "      <th>3</th>\n",
              "      <td>2017-12-01</td>\n",
              "      <td>3</td>\n",
              "      <td>-6.2</td>\n",
              "      <td>40</td>\n",
              "      <td>0.9</td>\n",
              "      <td>0.0</td>\n",
              "      <td>0.0</td>\n",
              "      <td>Winter</td>\n",
              "      <td>0</td>\n",
              "      <td>True</td>\n",
              "      <td>148</td>\n",
              "      <td>1</td>\n",
              "      <td>Freezing</td>\n",
              "      <td>False</td>\n",
              "      <td>0</td>\n",
              "    </tr>\n",
              "    <tr>\n",
              "      <th>4</th>\n",
              "      <td>2017-12-01</td>\n",
              "      <td>4</td>\n",
              "      <td>-6.0</td>\n",
              "      <td>36</td>\n",
              "      <td>2.3</td>\n",
              "      <td>0.0</td>\n",
              "      <td>0.0</td>\n",
              "      <td>Winter</td>\n",
              "      <td>0</td>\n",
              "      <td>True</td>\n",
              "      <td>97</td>\n",
              "      <td>0</td>\n",
              "      <td>Freezing</td>\n",
              "      <td>False</td>\n",
              "      <td>0</td>\n",
              "    </tr>\n",
              "  </tbody>\n",
              "</table>\n",
              "</div>\n",
              "    <div class=\"colab-df-buttons\">\n",
              "\n",
              "  <div class=\"colab-df-container\">\n",
              "    <button class=\"colab-df-convert\" onclick=\"convertToInteractive('df-a1863ccc-9cf7-465e-a9d1-50cd44cdb99e')\"\n",
              "            title=\"Convert this dataframe to an interactive table.\"\n",
              "            style=\"display:none;\">\n",
              "\n",
              "  <svg xmlns=\"http://www.w3.org/2000/svg\" height=\"24px\" viewBox=\"0 -960 960 960\">\n",
              "    <path d=\"M120-120v-720h720v720H120Zm60-500h600v-160H180v160Zm220 220h160v-160H400v160Zm0 220h160v-160H400v160ZM180-400h160v-160H180v160Zm440 0h160v-160H620v160ZM180-180h160v-160H180v160Zm440 0h160v-160H620v160Z\"/>\n",
              "  </svg>\n",
              "    </button>\n",
              "\n",
              "  <style>\n",
              "    .colab-df-container {\n",
              "      display:flex;\n",
              "      gap: 12px;\n",
              "    }\n",
              "\n",
              "    .colab-df-convert {\n",
              "      background-color: #E8F0FE;\n",
              "      border: none;\n",
              "      border-radius: 50%;\n",
              "      cursor: pointer;\n",
              "      display: none;\n",
              "      fill: #1967D2;\n",
              "      height: 32px;\n",
              "      padding: 0 0 0 0;\n",
              "      width: 32px;\n",
              "    }\n",
              "\n",
              "    .colab-df-convert:hover {\n",
              "      background-color: #E2EBFA;\n",
              "      box-shadow: 0px 1px 2px rgba(60, 64, 67, 0.3), 0px 1px 3px 1px rgba(60, 64, 67, 0.15);\n",
              "      fill: #174EA6;\n",
              "    }\n",
              "\n",
              "    .colab-df-buttons div {\n",
              "      margin-bottom: 4px;\n",
              "    }\n",
              "\n",
              "    [theme=dark] .colab-df-convert {\n",
              "      background-color: #3B4455;\n",
              "      fill: #D2E3FC;\n",
              "    }\n",
              "\n",
              "    [theme=dark] .colab-df-convert:hover {\n",
              "      background-color: #434B5C;\n",
              "      box-shadow: 0px 1px 3px 1px rgba(0, 0, 0, 0.15);\n",
              "      filter: drop-shadow(0px 1px 2px rgba(0, 0, 0, 0.3));\n",
              "      fill: #FFFFFF;\n",
              "    }\n",
              "  </style>\n",
              "\n",
              "    <script>\n",
              "      const buttonEl =\n",
              "        document.querySelector('#df-a1863ccc-9cf7-465e-a9d1-50cd44cdb99e button.colab-df-convert');\n",
              "      buttonEl.style.display =\n",
              "        google.colab.kernel.accessAllowed ? 'block' : 'none';\n",
              "\n",
              "      async function convertToInteractive(key) {\n",
              "        const element = document.querySelector('#df-a1863ccc-9cf7-465e-a9d1-50cd44cdb99e');\n",
              "        const dataTable =\n",
              "          await google.colab.kernel.invokeFunction('convertToInteractive',\n",
              "                                                    [key], {});\n",
              "        if (!dataTable) return;\n",
              "\n",
              "        const docLinkHtml = 'Like what you see? Visit the ' +\n",
              "          '<a target=\"_blank\" href=https://colab.research.google.com/notebooks/data_table.ipynb>data table notebook</a>'\n",
              "          + ' to learn more about interactive tables.';\n",
              "        element.innerHTML = '';\n",
              "        dataTable['output_type'] = 'display_data';\n",
              "        await google.colab.output.renderOutput(dataTable, element);\n",
              "        const docLink = document.createElement('div');\n",
              "        docLink.innerHTML = docLinkHtml;\n",
              "        element.appendChild(docLink);\n",
              "      }\n",
              "    </script>\n",
              "  </div>\n",
              "\n",
              "\n",
              "<div id=\"df-2104dfb1-baf6-42f7-802e-8f1766e4397a\">\n",
              "  <button class=\"colab-df-quickchart\" onclick=\"quickchart('df-2104dfb1-baf6-42f7-802e-8f1766e4397a')\"\n",
              "            title=\"Suggest charts\"\n",
              "            style=\"display:none;\">\n",
              "\n",
              "<svg xmlns=\"http://www.w3.org/2000/svg\" height=\"24px\"viewBox=\"0 0 24 24\"\n",
              "     width=\"24px\">\n",
              "    <g>\n",
              "        <path d=\"M19 3H5c-1.1 0-2 .9-2 2v14c0 1.1.9 2 2 2h14c1.1 0 2-.9 2-2V5c0-1.1-.9-2-2-2zM9 17H7v-7h2v7zm4 0h-2V7h2v10zm4 0h-2v-4h2v4z\"/>\n",
              "    </g>\n",
              "</svg>\n",
              "  </button>\n",
              "\n",
              "<style>\n",
              "  .colab-df-quickchart {\n",
              "      --bg-color: #E8F0FE;\n",
              "      --fill-color: #1967D2;\n",
              "      --hover-bg-color: #E2EBFA;\n",
              "      --hover-fill-color: #174EA6;\n",
              "      --disabled-fill-color: #AAA;\n",
              "      --disabled-bg-color: #DDD;\n",
              "  }\n",
              "\n",
              "  [theme=dark] .colab-df-quickchart {\n",
              "      --bg-color: #3B4455;\n",
              "      --fill-color: #D2E3FC;\n",
              "      --hover-bg-color: #434B5C;\n",
              "      --hover-fill-color: #FFFFFF;\n",
              "      --disabled-bg-color: #3B4455;\n",
              "      --disabled-fill-color: #666;\n",
              "  }\n",
              "\n",
              "  .colab-df-quickchart {\n",
              "    background-color: var(--bg-color);\n",
              "    border: none;\n",
              "    border-radius: 50%;\n",
              "    cursor: pointer;\n",
              "    display: none;\n",
              "    fill: var(--fill-color);\n",
              "    height: 32px;\n",
              "    padding: 0;\n",
              "    width: 32px;\n",
              "  }\n",
              "\n",
              "  .colab-df-quickchart:hover {\n",
              "    background-color: var(--hover-bg-color);\n",
              "    box-shadow: 0 1px 2px rgba(60, 64, 67, 0.3), 0 1px 3px 1px rgba(60, 64, 67, 0.15);\n",
              "    fill: var(--button-hover-fill-color);\n",
              "  }\n",
              "\n",
              "  .colab-df-quickchart-complete:disabled,\n",
              "  .colab-df-quickchart-complete:disabled:hover {\n",
              "    background-color: var(--disabled-bg-color);\n",
              "    fill: var(--disabled-fill-color);\n",
              "    box-shadow: none;\n",
              "  }\n",
              "\n",
              "  .colab-df-spinner {\n",
              "    border: 2px solid var(--fill-color);\n",
              "    border-color: transparent;\n",
              "    border-bottom-color: var(--fill-color);\n",
              "    animation:\n",
              "      spin 1s steps(1) infinite;\n",
              "  }\n",
              "\n",
              "  @keyframes spin {\n",
              "    0% {\n",
              "      border-color: transparent;\n",
              "      border-bottom-color: var(--fill-color);\n",
              "      border-left-color: var(--fill-color);\n",
              "    }\n",
              "    20% {\n",
              "      border-color: transparent;\n",
              "      border-left-color: var(--fill-color);\n",
              "      border-top-color: var(--fill-color);\n",
              "    }\n",
              "    30% {\n",
              "      border-color: transparent;\n",
              "      border-left-color: var(--fill-color);\n",
              "      border-top-color: var(--fill-color);\n",
              "      border-right-color: var(--fill-color);\n",
              "    }\n",
              "    40% {\n",
              "      border-color: transparent;\n",
              "      border-right-color: var(--fill-color);\n",
              "      border-top-color: var(--fill-color);\n",
              "    }\n",
              "    60% {\n",
              "      border-color: transparent;\n",
              "      border-right-color: var(--fill-color);\n",
              "    }\n",
              "    80% {\n",
              "      border-color: transparent;\n",
              "      border-right-color: var(--fill-color);\n",
              "      border-bottom-color: var(--fill-color);\n",
              "    }\n",
              "    90% {\n",
              "      border-color: transparent;\n",
              "      border-bottom-color: var(--fill-color);\n",
              "    }\n",
              "  }\n",
              "</style>\n",
              "\n",
              "  <script>\n",
              "    async function quickchart(key) {\n",
              "      const quickchartButtonEl =\n",
              "        document.querySelector('#' + key + ' button');\n",
              "      quickchartButtonEl.disabled = true;  // To prevent multiple clicks.\n",
              "      quickchartButtonEl.classList.add('colab-df-spinner');\n",
              "      try {\n",
              "        const charts = await google.colab.kernel.invokeFunction(\n",
              "            'suggestCharts', [key], {});\n",
              "      } catch (error) {\n",
              "        console.error('Error during call to suggestCharts:', error);\n",
              "      }\n",
              "      quickchartButtonEl.classList.remove('colab-df-spinner');\n",
              "      quickchartButtonEl.classList.add('colab-df-quickchart-complete');\n",
              "    }\n",
              "    (() => {\n",
              "      let quickchartButtonEl =\n",
              "        document.querySelector('#df-2104dfb1-baf6-42f7-802e-8f1766e4397a button');\n",
              "      quickchartButtonEl.style.display =\n",
              "        google.colab.kernel.accessAllowed ? 'block' : 'none';\n",
              "    })();\n",
              "  </script>\n",
              "</div>\n",
              "    </div>\n",
              "  </div>\n"
            ],
            "application/vnd.google.colaboratory.intrinsic+json": {
              "type": "dataframe",
              "variable_name": "bikes",
              "repr_error": "'str' object has no attribute 'empty'"
            }
          },
          "metadata": {},
          "execution_count": 2
        }
      ],
      "source": [
        "import pandas as pd\n",
        "\n",
        "bikes = pd.read_csv('BikesDataVars.csv')\n",
        "bikes.head()"
      ]
    },
    {
      "cell_type": "code",
      "source": [
        "# краткая информация про столбцы\n",
        "bikes.info()"
      ],
      "metadata": {
        "colab": {
          "base_uri": "https://localhost:8080/"
        },
        "id": "OZjoz9CbVCkk",
        "outputId": "43fbfe81-166f-4e5c-b197-f13d7822a0d1"
      },
      "execution_count": null,
      "outputs": [
        {
          "output_type": "stream",
          "name": "stdout",
          "text": [
            "<class 'pandas.core.frame.DataFrame'>\n",
            "RangeIndex: 8760 entries, 0 to 8759\n",
            "Data columns (total 15 columns):\n",
            " #   Column                Non-Null Count  Dtype  \n",
            "---  ------                --------------  -----  \n",
            " 0   Date                  8760 non-null   object \n",
            " 1   Hour                  8760 non-null   int64  \n",
            " 2   Temperature           8581 non-null   float64\n",
            " 3   Humidity              8760 non-null   int64  \n",
            " 4   Wind speed            8760 non-null   float64\n",
            " 5   Rainfall              8760 non-null   float64\n",
            " 6   Snowfall              8760 non-null   float64\n",
            " 7   Seasons               8760 non-null   object \n",
            " 8   Holiday               8760 non-null   int64  \n",
            " 9   Functioning Day       8760 non-null   bool   \n",
            " 10  Rental Count          8760 non-null   int64  \n",
            " 11  Normal Humidity       8760 non-null   int64  \n",
            " 12  Temperature Category  8581 non-null   object \n",
            " 13  Windy                 8760 non-null   bool   \n",
            " 14  Good Weather          8760 non-null   int64  \n",
            "dtypes: bool(2), float64(4), int64(6), object(3)\n",
            "memory usage: 906.9+ KB\n"
          ]
        }
      ]
    },
    {
      "cell_type": "code",
      "execution_count": null,
      "metadata": {
        "colab": {
          "base_uri": "https://localhost:8080/",
          "height": 338
        },
        "id": "4L7_4r8vQ_h8",
        "outputId": "82ca09b2-0d35-4585-a458-9cfd351dacb7"
      },
      "outputs": [
        {
          "output_type": "execute_result",
          "data": {
            "text/plain": [
              "              Hour  Temperature     Humidity   Wind speed     Rainfall  \\\n",
              "count  8760.000000  8581.000000  8760.000000  8760.000000  8760.000000   \n",
              "mean     11.500000    12.878557    58.226256     1.724909     0.148687   \n",
              "std       6.922582    11.955551    20.362413     1.036300     1.128193   \n",
              "min       0.000000   -17.800000     0.000000     0.000000     0.000000   \n",
              "25%       5.750000     3.400000    42.000000     0.900000     0.000000   \n",
              "50%      11.500000    13.700000    57.000000     1.500000     0.000000   \n",
              "75%      17.250000    22.500000    74.000000     2.300000     0.000000   \n",
              "max      23.000000    39.400000    98.000000     7.400000    35.000000   \n",
              "\n",
              "          Snowfall      Holiday  Rental Count  Normal Humidity  Good Weather  \n",
              "count  8760.000000  8760.000000   8760.000000       8760.00000   8760.000000  \n",
              "mean      0.075068     0.049315    696.582078          0.34532      0.092694  \n",
              "std       0.436746     0.216537    749.812613          0.47550      0.290020  \n",
              "min       0.000000     0.000000      0.000000          0.00000      0.000000  \n",
              "25%       0.000000     0.000000    157.000000          0.00000      0.000000  \n",
              "50%       0.000000     0.000000    425.500000          0.00000      0.000000  \n",
              "75%       0.000000     0.000000   1009.000000          1.00000      0.000000  \n",
              "max       8.800000     1.000000   6012.000000          1.00000      1.000000  "
            ],
            "text/html": [
              "\n",
              "  <div id=\"df-487ecf11-c375-4039-91b0-b332bd695128\" class=\"colab-df-container\">\n",
              "    <div>\n",
              "<style scoped>\n",
              "    .dataframe tbody tr th:only-of-type {\n",
              "        vertical-align: middle;\n",
              "    }\n",
              "\n",
              "    .dataframe tbody tr th {\n",
              "        vertical-align: top;\n",
              "    }\n",
              "\n",
              "    .dataframe thead th {\n",
              "        text-align: right;\n",
              "    }\n",
              "</style>\n",
              "<table border=\"1\" class=\"dataframe\">\n",
              "  <thead>\n",
              "    <tr style=\"text-align: right;\">\n",
              "      <th></th>\n",
              "      <th>Hour</th>\n",
              "      <th>Temperature</th>\n",
              "      <th>Humidity</th>\n",
              "      <th>Wind speed</th>\n",
              "      <th>Rainfall</th>\n",
              "      <th>Snowfall</th>\n",
              "      <th>Holiday</th>\n",
              "      <th>Rental Count</th>\n",
              "      <th>Normal Humidity</th>\n",
              "      <th>Good Weather</th>\n",
              "    </tr>\n",
              "  </thead>\n",
              "  <tbody>\n",
              "    <tr>\n",
              "      <th>count</th>\n",
              "      <td>8760.000000</td>\n",
              "      <td>8581.000000</td>\n",
              "      <td>8760.000000</td>\n",
              "      <td>8760.000000</td>\n",
              "      <td>8760.000000</td>\n",
              "      <td>8760.000000</td>\n",
              "      <td>8760.000000</td>\n",
              "      <td>8760.000000</td>\n",
              "      <td>8760.00000</td>\n",
              "      <td>8760.000000</td>\n",
              "    </tr>\n",
              "    <tr>\n",
              "      <th>mean</th>\n",
              "      <td>11.500000</td>\n",
              "      <td>12.878557</td>\n",
              "      <td>58.226256</td>\n",
              "      <td>1.724909</td>\n",
              "      <td>0.148687</td>\n",
              "      <td>0.075068</td>\n",
              "      <td>0.049315</td>\n",
              "      <td>696.582078</td>\n",
              "      <td>0.34532</td>\n",
              "      <td>0.092694</td>\n",
              "    </tr>\n",
              "    <tr>\n",
              "      <th>std</th>\n",
              "      <td>6.922582</td>\n",
              "      <td>11.955551</td>\n",
              "      <td>20.362413</td>\n",
              "      <td>1.036300</td>\n",
              "      <td>1.128193</td>\n",
              "      <td>0.436746</td>\n",
              "      <td>0.216537</td>\n",
              "      <td>749.812613</td>\n",
              "      <td>0.47550</td>\n",
              "      <td>0.290020</td>\n",
              "    </tr>\n",
              "    <tr>\n",
              "      <th>min</th>\n",
              "      <td>0.000000</td>\n",
              "      <td>-17.800000</td>\n",
              "      <td>0.000000</td>\n",
              "      <td>0.000000</td>\n",
              "      <td>0.000000</td>\n",
              "      <td>0.000000</td>\n",
              "      <td>0.000000</td>\n",
              "      <td>0.000000</td>\n",
              "      <td>0.00000</td>\n",
              "      <td>0.000000</td>\n",
              "    </tr>\n",
              "    <tr>\n",
              "      <th>25%</th>\n",
              "      <td>5.750000</td>\n",
              "      <td>3.400000</td>\n",
              "      <td>42.000000</td>\n",
              "      <td>0.900000</td>\n",
              "      <td>0.000000</td>\n",
              "      <td>0.000000</td>\n",
              "      <td>0.000000</td>\n",
              "      <td>157.000000</td>\n",
              "      <td>0.00000</td>\n",
              "      <td>0.000000</td>\n",
              "    </tr>\n",
              "    <tr>\n",
              "      <th>50%</th>\n",
              "      <td>11.500000</td>\n",
              "      <td>13.700000</td>\n",
              "      <td>57.000000</td>\n",
              "      <td>1.500000</td>\n",
              "      <td>0.000000</td>\n",
              "      <td>0.000000</td>\n",
              "      <td>0.000000</td>\n",
              "      <td>425.500000</td>\n",
              "      <td>0.00000</td>\n",
              "      <td>0.000000</td>\n",
              "    </tr>\n",
              "    <tr>\n",
              "      <th>75%</th>\n",
              "      <td>17.250000</td>\n",
              "      <td>22.500000</td>\n",
              "      <td>74.000000</td>\n",
              "      <td>2.300000</td>\n",
              "      <td>0.000000</td>\n",
              "      <td>0.000000</td>\n",
              "      <td>0.000000</td>\n",
              "      <td>1009.000000</td>\n",
              "      <td>1.00000</td>\n",
              "      <td>0.000000</td>\n",
              "    </tr>\n",
              "    <tr>\n",
              "      <th>max</th>\n",
              "      <td>23.000000</td>\n",
              "      <td>39.400000</td>\n",
              "      <td>98.000000</td>\n",
              "      <td>7.400000</td>\n",
              "      <td>35.000000</td>\n",
              "      <td>8.800000</td>\n",
              "      <td>1.000000</td>\n",
              "      <td>6012.000000</td>\n",
              "      <td>1.00000</td>\n",
              "      <td>1.000000</td>\n",
              "    </tr>\n",
              "  </tbody>\n",
              "</table>\n",
              "</div>\n",
              "    <div class=\"colab-df-buttons\">\n",
              "\n",
              "  <div class=\"colab-df-container\">\n",
              "    <button class=\"colab-df-convert\" onclick=\"convertToInteractive('df-487ecf11-c375-4039-91b0-b332bd695128')\"\n",
              "            title=\"Convert this dataframe to an interactive table.\"\n",
              "            style=\"display:none;\">\n",
              "\n",
              "  <svg xmlns=\"http://www.w3.org/2000/svg\" height=\"24px\" viewBox=\"0 -960 960 960\">\n",
              "    <path d=\"M120-120v-720h720v720H120Zm60-500h600v-160H180v160Zm220 220h160v-160H400v160Zm0 220h160v-160H400v160ZM180-400h160v-160H180v160Zm440 0h160v-160H620v160ZM180-180h160v-160H180v160Zm440 0h160v-160H620v160Z\"/>\n",
              "  </svg>\n",
              "    </button>\n",
              "\n",
              "  <style>\n",
              "    .colab-df-container {\n",
              "      display:flex;\n",
              "      gap: 12px;\n",
              "    }\n",
              "\n",
              "    .colab-df-convert {\n",
              "      background-color: #E8F0FE;\n",
              "      border: none;\n",
              "      border-radius: 50%;\n",
              "      cursor: pointer;\n",
              "      display: none;\n",
              "      fill: #1967D2;\n",
              "      height: 32px;\n",
              "      padding: 0 0 0 0;\n",
              "      width: 32px;\n",
              "    }\n",
              "\n",
              "    .colab-df-convert:hover {\n",
              "      background-color: #E2EBFA;\n",
              "      box-shadow: 0px 1px 2px rgba(60, 64, 67, 0.3), 0px 1px 3px 1px rgba(60, 64, 67, 0.15);\n",
              "      fill: #174EA6;\n",
              "    }\n",
              "\n",
              "    .colab-df-buttons div {\n",
              "      margin-bottom: 4px;\n",
              "    }\n",
              "\n",
              "    [theme=dark] .colab-df-convert {\n",
              "      background-color: #3B4455;\n",
              "      fill: #D2E3FC;\n",
              "    }\n",
              "\n",
              "    [theme=dark] .colab-df-convert:hover {\n",
              "      background-color: #434B5C;\n",
              "      box-shadow: 0px 1px 3px 1px rgba(0, 0, 0, 0.15);\n",
              "      filter: drop-shadow(0px 1px 2px rgba(0, 0, 0, 0.3));\n",
              "      fill: #FFFFFF;\n",
              "    }\n",
              "  </style>\n",
              "\n",
              "    <script>\n",
              "      const buttonEl =\n",
              "        document.querySelector('#df-487ecf11-c375-4039-91b0-b332bd695128 button.colab-df-convert');\n",
              "      buttonEl.style.display =\n",
              "        google.colab.kernel.accessAllowed ? 'block' : 'none';\n",
              "\n",
              "      async function convertToInteractive(key) {\n",
              "        const element = document.querySelector('#df-487ecf11-c375-4039-91b0-b332bd695128');\n",
              "        const dataTable =\n",
              "          await google.colab.kernel.invokeFunction('convertToInteractive',\n",
              "                                                    [key], {});\n",
              "        if (!dataTable) return;\n",
              "\n",
              "        const docLinkHtml = 'Like what you see? Visit the ' +\n",
              "          '<a target=\"_blank\" href=https://colab.research.google.com/notebooks/data_table.ipynb>data table notebook</a>'\n",
              "          + ' to learn more about interactive tables.';\n",
              "        element.innerHTML = '';\n",
              "        dataTable['output_type'] = 'display_data';\n",
              "        await google.colab.output.renderOutput(dataTable, element);\n",
              "        const docLink = document.createElement('div');\n",
              "        docLink.innerHTML = docLinkHtml;\n",
              "        element.appendChild(docLink);\n",
              "      }\n",
              "    </script>\n",
              "  </div>\n",
              "\n",
              "\n",
              "<div id=\"df-9d6145a6-766b-4570-a7b6-920100b0ca9a\">\n",
              "  <button class=\"colab-df-quickchart\" onclick=\"quickchart('df-9d6145a6-766b-4570-a7b6-920100b0ca9a')\"\n",
              "            title=\"Suggest charts\"\n",
              "            style=\"display:none;\">\n",
              "\n",
              "<svg xmlns=\"http://www.w3.org/2000/svg\" height=\"24px\"viewBox=\"0 0 24 24\"\n",
              "     width=\"24px\">\n",
              "    <g>\n",
              "        <path d=\"M19 3H5c-1.1 0-2 .9-2 2v14c0 1.1.9 2 2 2h14c1.1 0 2-.9 2-2V5c0-1.1-.9-2-2-2zM9 17H7v-7h2v7zm4 0h-2V7h2v10zm4 0h-2v-4h2v4z\"/>\n",
              "    </g>\n",
              "</svg>\n",
              "  </button>\n",
              "\n",
              "<style>\n",
              "  .colab-df-quickchart {\n",
              "      --bg-color: #E8F0FE;\n",
              "      --fill-color: #1967D2;\n",
              "      --hover-bg-color: #E2EBFA;\n",
              "      --hover-fill-color: #174EA6;\n",
              "      --disabled-fill-color: #AAA;\n",
              "      --disabled-bg-color: #DDD;\n",
              "  }\n",
              "\n",
              "  [theme=dark] .colab-df-quickchart {\n",
              "      --bg-color: #3B4455;\n",
              "      --fill-color: #D2E3FC;\n",
              "      --hover-bg-color: #434B5C;\n",
              "      --hover-fill-color: #FFFFFF;\n",
              "      --disabled-bg-color: #3B4455;\n",
              "      --disabled-fill-color: #666;\n",
              "  }\n",
              "\n",
              "  .colab-df-quickchart {\n",
              "    background-color: var(--bg-color);\n",
              "    border: none;\n",
              "    border-radius: 50%;\n",
              "    cursor: pointer;\n",
              "    display: none;\n",
              "    fill: var(--fill-color);\n",
              "    height: 32px;\n",
              "    padding: 0;\n",
              "    width: 32px;\n",
              "  }\n",
              "\n",
              "  .colab-df-quickchart:hover {\n",
              "    background-color: var(--hover-bg-color);\n",
              "    box-shadow: 0 1px 2px rgba(60, 64, 67, 0.3), 0 1px 3px 1px rgba(60, 64, 67, 0.15);\n",
              "    fill: var(--button-hover-fill-color);\n",
              "  }\n",
              "\n",
              "  .colab-df-quickchart-complete:disabled,\n",
              "  .colab-df-quickchart-complete:disabled:hover {\n",
              "    background-color: var(--disabled-bg-color);\n",
              "    fill: var(--disabled-fill-color);\n",
              "    box-shadow: none;\n",
              "  }\n",
              "\n",
              "  .colab-df-spinner {\n",
              "    border: 2px solid var(--fill-color);\n",
              "    border-color: transparent;\n",
              "    border-bottom-color: var(--fill-color);\n",
              "    animation:\n",
              "      spin 1s steps(1) infinite;\n",
              "  }\n",
              "\n",
              "  @keyframes spin {\n",
              "    0% {\n",
              "      border-color: transparent;\n",
              "      border-bottom-color: var(--fill-color);\n",
              "      border-left-color: var(--fill-color);\n",
              "    }\n",
              "    20% {\n",
              "      border-color: transparent;\n",
              "      border-left-color: var(--fill-color);\n",
              "      border-top-color: var(--fill-color);\n",
              "    }\n",
              "    30% {\n",
              "      border-color: transparent;\n",
              "      border-left-color: var(--fill-color);\n",
              "      border-top-color: var(--fill-color);\n",
              "      border-right-color: var(--fill-color);\n",
              "    }\n",
              "    40% {\n",
              "      border-color: transparent;\n",
              "      border-right-color: var(--fill-color);\n",
              "      border-top-color: var(--fill-color);\n",
              "    }\n",
              "    60% {\n",
              "      border-color: transparent;\n",
              "      border-right-color: var(--fill-color);\n",
              "    }\n",
              "    80% {\n",
              "      border-color: transparent;\n",
              "      border-right-color: var(--fill-color);\n",
              "      border-bottom-color: var(--fill-color);\n",
              "    }\n",
              "    90% {\n",
              "      border-color: transparent;\n",
              "      border-bottom-color: var(--fill-color);\n",
              "    }\n",
              "  }\n",
              "</style>\n",
              "\n",
              "  <script>\n",
              "    async function quickchart(key) {\n",
              "      const quickchartButtonEl =\n",
              "        document.querySelector('#' + key + ' button');\n",
              "      quickchartButtonEl.disabled = true;  // To prevent multiple clicks.\n",
              "      quickchartButtonEl.classList.add('colab-df-spinner');\n",
              "      try {\n",
              "        const charts = await google.colab.kernel.invokeFunction(\n",
              "            'suggestCharts', [key], {});\n",
              "      } catch (error) {\n",
              "        console.error('Error during call to suggestCharts:', error);\n",
              "      }\n",
              "      quickchartButtonEl.classList.remove('colab-df-spinner');\n",
              "      quickchartButtonEl.classList.add('colab-df-quickchart-complete');\n",
              "    }\n",
              "    (() => {\n",
              "      let quickchartButtonEl =\n",
              "        document.querySelector('#df-9d6145a6-766b-4570-a7b6-920100b0ca9a button');\n",
              "      quickchartButtonEl.style.display =\n",
              "        google.colab.kernel.accessAllowed ? 'block' : 'none';\n",
              "    })();\n",
              "  </script>\n",
              "</div>\n",
              "    </div>\n",
              "  </div>\n"
            ],
            "application/vnd.google.colaboratory.intrinsic+json": {
              "type": "dataframe",
              "summary": "{\n  \"name\": \"bikes\",\n  \"rows\": 8,\n  \"fields\": [\n    {\n      \"column\": \"Hour\",\n      \"properties\": {\n        \"dtype\": \"number\",\n        \"std\": 3093.3010814486274,\n        \"min\": 0.0,\n        \"max\": 8760.0,\n        \"num_unique_values\": 7,\n        \"samples\": [\n          8760.0,\n          11.5,\n          17.25\n        ],\n        \"semantic_type\": \"\",\n        \"description\": \"\"\n      }\n    },\n    {\n      \"column\": \"Temperature\",\n      \"properties\": {\n        \"dtype\": \"number\",\n        \"std\": 3029.5393205220926,\n        \"min\": -17.8,\n        \"max\": 8581.0,\n        \"num_unique_values\": 8,\n        \"samples\": [\n          12.878557277706562,\n          13.7,\n          8581.0\n        ],\n        \"semantic_type\": \"\",\n        \"description\": \"\"\n      }\n    },\n    {\n      \"column\": \"Humidity\",\n      \"properties\": {\n        \"dtype\": \"number\",\n        \"std\": 3079.6201576982858,\n        \"min\": 0.0,\n        \"max\": 8760.0,\n        \"num_unique_values\": 8,\n        \"samples\": [\n          58.226255707762554,\n          57.0,\n          8760.0\n        ],\n        \"semantic_type\": \"\",\n        \"description\": \"\"\n      }\n    },\n    {\n      \"column\": \"Wind speed\",\n      \"properties\": {\n        \"dtype\": \"number\",\n        \"std\": 3096.377918640277,\n        \"min\": 0.0,\n        \"max\": 8760.0,\n        \"num_unique_values\": 8,\n        \"samples\": [\n          1.7249086757990868,\n          1.5,\n          8760.0\n        ],\n        \"semantic_type\": \"\",\n        \"description\": \"\"\n      }\n    },\n    {\n      \"column\": \"Rainfall\",\n      \"properties\": {\n        \"dtype\": \"number\",\n        \"std\": 3095.3194025316275,\n        \"min\": 0.0,\n        \"max\": 8760.0,\n        \"num_unique_values\": 5,\n        \"samples\": [\n          0.14868721461187215,\n          35.0,\n          1.1281929687321486\n        ],\n        \"semantic_type\": \"\",\n        \"description\": \"\"\n      }\n    },\n    {\n      \"column\": \"Snowfall\",\n      \"properties\": {\n        \"dtype\": \"number\",\n        \"std\": 3096.6588889942395,\n        \"min\": 0.0,\n        \"max\": 8760.0,\n        \"num_unique_values\": 5,\n        \"samples\": [\n          0.07506849315068494,\n          8.8,\n          0.4367461811249922\n        ],\n        \"semantic_type\": \"\",\n        \"description\": \"\"\n      }\n    },\n    {\n      \"column\": \"Holiday\",\n      \"properties\": {\n        \"dtype\": \"number\",\n        \"std\": 3097.0637853138824,\n        \"min\": 0.0,\n        \"max\": 8760.0,\n        \"num_unique_values\": 5,\n        \"samples\": [\n          0.049315068493150684,\n          1.0,\n          0.21653739879034686\n        ],\n        \"semantic_type\": \"\",\n        \"description\": \"\"\n      }\n    },\n    {\n      \"column\": \"Rental Count\",\n      \"properties\": {\n        \"dtype\": \"number\",\n        \"std\": 3284.2465146676013,\n        \"min\": 0.0,\n        \"max\": 8760.0,\n        \"num_unique_values\": 8,\n        \"samples\": [\n          696.5820776255708,\n          425.5,\n          8760.0\n        ],\n        \"semantic_type\": \"\",\n        \"description\": \"\"\n      }\n    },\n    {\n      \"column\": \"Normal Humidity\",\n      \"properties\": {\n        \"dtype\": \"number\",\n        \"std\": 3096.985256590339,\n        \"min\": 0.0,\n        \"max\": 8760.0,\n        \"num_unique_values\": 5,\n        \"samples\": [\n          0.3453196347031963,\n          1.0,\n          0.47549952163018694\n        ],\n        \"semantic_type\": \"\",\n        \"description\": \"\"\n      }\n    },\n    {\n      \"column\": \"Good Weather\",\n      \"properties\": {\n        \"dtype\": \"number\",\n        \"std\": 3097.0578829035553,\n        \"min\": 0.0,\n        \"max\": 8760.0,\n        \"num_unique_values\": 5,\n        \"samples\": [\n          0.09269406392694064,\n          1.0,\n          0.2900197858876858\n        ],\n        \"semantic_type\": \"\",\n        \"description\": \"\"\n      }\n    }\n  ]\n}"
            }
          },
          "metadata": {},
          "execution_count": 3
        }
      ],
      "source": [
        "# основная описательная статистика по числовым столбцам\n",
        "bikes.describe()"
      ]
    },
    {
      "cell_type": "markdown",
      "metadata": {
        "id": "XZua6wX5Q_h1"
      },
      "source": [
        "### Меры центральной тенденции"
      ]
    },
    {
      "cell_type": "code",
      "execution_count": null,
      "metadata": {
        "colab": {
          "base_uri": "https://localhost:8080/"
        },
        "id": "B7eQKsbOQ_h8",
        "outputId": "f1f3b66f-20fc-42ab-b953-b692c8029c84"
      },
      "outputs": [
        {
          "output_type": "execute_result",
          "data": {
            "text/plain": [
              "12.878557277706562"
            ]
          },
          "metadata": {},
          "execution_count": 4
        }
      ],
      "source": [
        "# среднее\n",
        "bikes['Temperature'].mean()"
      ]
    },
    {
      "cell_type": "code",
      "execution_count": null,
      "metadata": {
        "colab": {
          "base_uri": "https://localhost:8080/"
        },
        "id": "UYlU4iUoQ_h9",
        "outputId": "08334645-fb96-4c86-8143-c5103da19927"
      },
      "outputs": [
        {
          "output_type": "execute_result",
          "data": {
            "text/plain": [
              "13.7"
            ]
          },
          "metadata": {},
          "execution_count": 5
        }
      ],
      "source": [
        "# медиана\n",
        "bikes['Temperature'].median()"
      ]
    },
    {
      "cell_type": "code",
      "execution_count": null,
      "metadata": {
        "colab": {
          "base_uri": "https://localhost:8080/"
        },
        "id": "7c3NCIWSQ_h-",
        "outputId": "0a93840a-ca74-445c-c1e3-66a35ccc2d73"
      },
      "outputs": [
        {
          "output_type": "execute_result",
          "data": {
            "text/plain": [
              "0    53\n",
              "1    97\n",
              "Name: Humidity, dtype: int64"
            ]
          },
          "metadata": {},
          "execution_count": 6
        }
      ],
      "source": [
        "# мода\n",
        "bikes['Humidity'].mode()"
      ]
    },
    {
      "cell_type": "code",
      "execution_count": null,
      "metadata": {
        "id": "LMQy4R4BQ_h-",
        "outputId": "039088ff-db23-42c0-ebd0-8e506050433a"
      },
      "outputs": [
        {
          "data": {
            "text/plain": [
              "Humidity\n",
              "53    173\n",
              "97    173\n",
              "43    164\n",
              "57    159\n",
              "56    157\n",
              "     ... \n",
              "19     11\n",
              "13      3\n",
              "10      1\n",
              "12      1\n",
              "11      1\n",
              "Name: count, Length: 90, dtype: int64"
            ]
          },
          "execution_count": 8,
          "metadata": {},
          "output_type": "execute_result"
        }
      ],
      "source": [
        "# как найти моду руками\n",
        "bikes['Humidity'].value_counts()  # и смотреть на самые верхние"
      ]
    },
    {
      "cell_type": "code",
      "execution_count": null,
      "metadata": {
        "id": "-Iv8Vz3OQ_h_",
        "outputId": "370aac56-5ea6-4813-d9fe-83884584310b"
      },
      "outputs": [
        {
          "data": {
            "text/plain": [
              "<Axes: >"
            ]
          },
          "execution_count": 9,
          "metadata": {},
          "output_type": "execute_result"
        },
        {
          "data": {
            "image/png": "[encoded data removed]",
            "text/plain": [
              "<Figure size 640x480 with 1 Axes>"
            ]
          },
          "metadata": {},
          "output_type": "display_data"
        }
      ],
      "source": [
        "# нарисовать гистограмму по столбику\n",
        "bikes['Humidity'].hist(bins=100)"
      ]
    },
    {
      "cell_type": "code",
      "source": [
        "# нарисовать линейную диаграмму по столбику\n",
        "bikes['Temperature'].plot()"
      ],
      "metadata": {
        "colab": {
          "base_uri": "https://localhost:8080/",
          "height": 447
        },
        "id": "_Z5CfW3RVl37",
        "outputId": "6699bc02-b30a-4831-b2c3-bc3bc42312d6"
      },
      "execution_count": null,
      "outputs": [
        {
          "output_type": "execute_result",
          "data": {
            "text/plain": [
              "<Axes: >"
            ]
          },
          "metadata": {},
          "execution_count": 10
        },
        {
          "output_type": "display_data",
          "data": {
            "text/plain": [
              "<Figure size 640x480 with 1 Axes>"
            ],
            "image/png": "[encoded data removed]"
          },
          "metadata": {}
        }
      ]
    },
    {
      "cell_type": "markdown",
      "source": [
        "### Группировка данных"
      ],
      "metadata": {
        "id": "937862YYStkg"
      }
    },
    {
      "cell_type": "code",
      "execution_count": null,
      "metadata": {
        "id": "Y_zHUjAZQ_h_",
        "outputId": "81a0bb22-6d8d-48e6-e5c2-3f26608b629f"
      },
      "outputs": [
        {
          "data": {
            "text/plain": [
              "Hour\n",
              "0      558.178082\n",
              "1      415.720548\n",
              "2      319.767123\n",
              "3      201.010959\n",
              "4      122.838356\n",
              "5      135.863014\n",
              "6      283.654795\n",
              "7      612.646575\n",
              "8      979.838356\n",
              "9      642.136986\n",
              "10     519.123288\n",
              "11     585.336986\n",
              "12     710.534247\n",
              "13     700.706849\n",
              "14     747.147945\n",
              "15     796.084932\n",
              "16     938.032877\n",
              "17    1128.873973\n",
              "18    1518.983562\n",
              "19    1168.328767\n",
              "20    1069.698630\n",
              "21     997.942466\n",
              "22     893.621918\n",
              "23     671.898630\n",
              "Name: Rental Count, dtype: float64"
            ]
          },
          "execution_count": 10,
          "metadata": {},
          "output_type": "execute_result"
        }
      ],
      "source": [
        "# в какое время сколько в среднем берут велосипедов?\n",
        "bikes.groupby('Hour')['Rental Count'].mean()"
      ]
    },
    {
      "cell_type": "code",
      "execution_count": null,
      "metadata": {
        "colab": {
          "base_uri": "https://localhost:8080/",
          "height": 470
        },
        "id": "4IcnOWOMQ_iA",
        "outputId": "b396b0a2-8f7a-491b-b574-8926135103ae"
      },
      "outputs": [
        {
          "output_type": "execute_result",
          "data": {
            "text/plain": [
              "<Axes: xlabel='Hour'>"
            ]
          },
          "metadata": {},
          "execution_count": 11
        },
        {
          "output_type": "display_data",
          "data": {
            "text/plain": [
              "<Figure size 640x480 with 1 Axes>"
            ],
            "image/png": "[encoded data removed]"
          },
          "metadata": {}
        }
      ],
      "source": [
        "# нарисовать столбчатую диаграмму\n",
        "bikes.groupby('Hour')['Rental Count'].mean().plot(kind='bar')"
      ]
    },
    {
      "cell_type": "code",
      "execution_count": null,
      "metadata": {
        "colab": {
          "base_uri": "https://localhost:8080/"
        },
        "id": "gr9EJfIVQ_iA",
        "outputId": "c425583d-4d4e-4d00-bf85-e0f2a6a6c2bf"
      },
      "outputs": [
        {
          "output_type": "execute_result",
          "data": {
            "text/plain": [
              "Hour  Good Weather\n",
              "0     0                514.797619\n",
              "      1               1060.793103\n",
              "1     0                399.179941\n",
              "      1                631.384615\n",
              "2     0                304.476608\n",
              "      1                547.130435\n",
              "3     0                193.178161\n",
              "      1                361.352941\n",
              "4     0                119.467236\n",
              "      1                207.357143\n",
              "5     0                131.218487\n",
              "      1                343.125000\n",
              "6     0                279.243017\n",
              "      1                509.285714\n",
              "7     0                604.888571\n",
              "      1                793.666667\n",
              "8     0                957.336336\n",
              "      1               1214.000000\n",
              "9     0                598.072327\n",
              "      1                940.276596\n",
              "10    0                478.721154\n",
              "      1                756.962264\n",
              "11    0                514.022801\n",
              "      1                962.810345\n",
              "12    0                664.558065\n",
              "      1                969.672727\n",
              "13    0                674.304075\n",
              "      1                883.804348\n",
              "14    0                736.636905\n",
              "      1                868.931034\n",
              "15    0                795.384615\n",
              "      1                804.851852\n",
              "16    0                935.814925\n",
              "      1                962.800000\n",
              "17    0               1082.452599\n",
              "      1               1528.342105\n",
              "18    0               1410.716981\n",
              "      1               2251.510638\n",
              "19    0               1054.064725\n",
              "      1               1798.821429\n",
              "20    0                961.383178\n",
              "      1               1859.909091\n",
              "21    0                922.609231\n",
              "      1               1610.025000\n",
              "22    0                831.304878\n",
              "      1               1446.054054\n",
              "23    0                634.060423\n",
              "      1               1040.264706\n",
              "Name: Rental Count, dtype: float64"
            ]
          },
          "metadata": {},
          "execution_count": 12
        }
      ],
      "source": [
        "# в какое время сколько в зависимости от наличия Good Weather\n",
        "# в среднем берут велосипедов\n",
        "bikes.groupby(['Hour', 'Good Weather'])['Rental Count'].mean()"
      ]
    },
    {
      "cell_type": "code",
      "source": [
        "# нарисовать столбчатую диаграмму\n",
        "bikes.groupby(['Hour', 'Good Weather'])['Rental Count'].mean().unstack().plot.barh(color=['dodgerblue', 'red'])"
      ],
      "metadata": {
        "colab": {
          "base_uri": "https://localhost:8080/",
          "height": 447
        },
        "id": "XDBWF-r-WaHv",
        "outputId": "1208c08f-b87a-4263-d548-8823295fda4d"
      },
      "execution_count": null,
      "outputs": [
        {
          "output_type": "execute_result",
          "data": {
            "text/plain": [
              "<Axes: ylabel='Hour'>"
            ]
          },
          "metadata": {},
          "execution_count": 25
        },
        {
          "output_type": "display_data",
          "data": {
            "text/plain": [
              "<Figure size 640x480 with 1 Axes>"
            ],
            "image/png": "[encoded data removed]"
          },
          "metadata": {}
        }
      ]
    },
    {
      "cell_type": "code",
      "execution_count": null,
      "metadata": {
        "id": "PhL3JKY5Q_iA",
        "outputId": "872d479c-a685-4d5a-e2ee-cf4cd1195dd7"
      },
      "outputs": [
        {
          "ename": "AttributeError",
          "evalue": "'SeriesGroupBy' object has no attribute 'mode'",
          "output_type": "error",
          "traceback": [
            "\u001b[0;31m---------------------------------------------------------------------------\u001b[0m",
            "\u001b[0;31mAttributeError\u001b[0m                            Traceback (most recent call last)",
            "Cell \u001b[0;32mIn[15], line 3\u001b[0m\n\u001b[1;32m      1\u001b[0m \u001b[38;5;66;03m# какая мода по 'Temperature Category' в каждом из сезонов?\u001b[39;00m\n\u001b[1;32m      2\u001b[0m \u001b[38;5;66;03m# вот так не работает\u001b[39;00m\n\u001b[0;32m----> 3\u001b[0m \u001b[43mbikes\u001b[49m\u001b[38;5;241;43m.\u001b[39;49m\u001b[43mgroupby\u001b[49m\u001b[43m(\u001b[49m\u001b[38;5;124;43m'\u001b[39;49m\u001b[38;5;124;43mSeasons\u001b[39;49m\u001b[38;5;124;43m'\u001b[39;49m\u001b[43m)\u001b[49m\u001b[43m[\u001b[49m\u001b[38;5;124;43m'\u001b[39;49m\u001b[38;5;124;43mTemperature Category\u001b[39;49m\u001b[38;5;124;43m'\u001b[39;49m\u001b[43m]\u001b[49m\u001b[38;5;241;43m.\u001b[39;49m\u001b[43mmode\u001b[49m()\n",
            "File \u001b[0;32m/Library/Frameworks/Python.framework/Versions/3.12/lib/python3.12/site-packages/pandas/core/groupby/groupby.py:1312\u001b[0m, in \u001b[0;36mGroupBy.__getattr__\u001b[0;34m(self, attr)\u001b[0m\n\u001b[1;32m   1309\u001b[0m \u001b[38;5;28;01mif\u001b[39;00m attr \u001b[38;5;129;01min\u001b[39;00m \u001b[38;5;28mself\u001b[39m\u001b[38;5;241m.\u001b[39mobj:\n\u001b[1;32m   1310\u001b[0m     \u001b[38;5;28;01mreturn\u001b[39;00m \u001b[38;5;28mself\u001b[39m[attr]\n\u001b[0;32m-> 1312\u001b[0m \u001b[38;5;28;01mraise\u001b[39;00m \u001b[38;5;167;01mAttributeError\u001b[39;00m(\n\u001b[1;32m   1313\u001b[0m     \u001b[38;5;124mf\u001b[39m\u001b[38;5;124m\"\u001b[39m\u001b[38;5;124m'\u001b[39m\u001b[38;5;132;01m{\u001b[39;00m\u001b[38;5;28mtype\u001b[39m(\u001b[38;5;28mself\u001b[39m)\u001b[38;5;241m.\u001b[39m\u001b[38;5;18m__name__\u001b[39m\u001b[38;5;132;01m}\u001b[39;00m\u001b[38;5;124m'\u001b[39m\u001b[38;5;124m object has no attribute \u001b[39m\u001b[38;5;124m'\u001b[39m\u001b[38;5;132;01m{\u001b[39;00mattr\u001b[38;5;132;01m}\u001b[39;00m\u001b[38;5;124m'\u001b[39m\u001b[38;5;124m\"\u001b[39m\n\u001b[1;32m   1314\u001b[0m )\n",
            "\u001b[0;31mAttributeError\u001b[0m: 'SeriesGroupBy' object has no attribute 'mode'"
          ]
        }
      ],
      "source": [
        "# какая мода по 'Temperature Category' в каждом из сезонов?\n",
        "# вот так не работает\n",
        "bikes.groupby('Seasons')['Temperature Category'].mode()"
      ]
    },
    {
      "cell_type": "code",
      "execution_count": null,
      "metadata": {
        "id": "y5LpvHrCQ_iB",
        "outputId": "cf919dfd-2afe-43d6-e408-9021b06f9adf"
      },
      "outputs": [
        {
          "data": {
            "text/plain": [
              "Seasons  Temperature Category\n",
              "Autumn   Chilly                  1138\n",
              "         Nice                     894\n",
              "         Hot                       86\n",
              "         Freezing                  20\n",
              "Spring   Chilly                  1224\n",
              "         Nice                     881\n",
              "         Hot                       27\n",
              "         Freezing                  22\n",
              "Summer   Hot                     1166\n",
              "         Nice                    1003\n",
              "Winter   Freezing                1370\n",
              "         Chilly                   750\n",
              "Name: count, dtype: int64"
            ]
          },
          "execution_count": 16,
          "metadata": {},
          "output_type": "execute_result"
        }
      ],
      "source": [
        "bikes.groupby('Seasons')['Temperature Category'].value_counts()"
      ]
    },
    {
      "cell_type": "markdown",
      "metadata": {
        "id": "Z380unBWQ_iB"
      },
      "source": [
        "`.agg()` - для агрегирования, применения функции(ий)"
      ]
    },
    {
      "cell_type": "code",
      "execution_count": null,
      "metadata": {
        "id": "o-JXh4bOQ_iB",
        "outputId": "7b7ff505-6831-4152-b774-10cfbe519515"
      },
      "outputs": [
        {
          "data": {
            "text/plain": [
              "Seasons\n",
              "Autumn      Chilly\n",
              "Spring      Chilly\n",
              "Summer         Hot\n",
              "Winter    Freezing\n",
              "Name: Temperature Category, dtype: object"
            ]
          },
          "execution_count": 17,
          "metadata": {},
          "output_type": "execute_result"
        }
      ],
      "source": [
        "bikes.groupby('Seasons')['Temperature Category'].agg(pd.Series.mode)"
      ]
    },
    {
      "cell_type": "code",
      "execution_count": null,
      "metadata": {
        "id": "xfNuL_o6Q_iB",
        "outputId": "b2461628-8efb-462c-9de7-7db53d8391c2"
      },
      "outputs": [
        {
          "data": {
            "text/plain": [
              "Seasons\n",
              "Autumn      Chilly\n",
              "Spring      Chilly\n",
              "Summer         Hot\n",
              "Winter    Freezing\n",
              "Name: Temperature Category, dtype: object"
            ]
          },
          "execution_count": 18,
          "metadata": {},
          "output_type": "execute_result"
        }
      ],
      "source": [
        "def get_mode(x):  # не идеально, не позволяет получить больше одной моды\n",
        "    return x.value_counts().index[0]\n",
        "\n",
        "bikes.groupby('Seasons')['Temperature Category'].agg(get_mode)"
      ]
    },
    {
      "cell_type": "code",
      "execution_count": null,
      "metadata": {
        "id": "XgD1Wq3HQ_iC",
        "outputId": "4994f0bc-9cd4-45f9-8922-0712fb204fcf"
      },
      "outputs": [
        {
          "data": {
            "text/plain": [
              "Seasons\n",
              "Autumn    14.138821\n",
              "Spring    13.038533\n",
              "Summer    26.574827\n",
              "Winter    -2.567783\n",
              "Name: Temperature, dtype: float64"
            ]
          },
          "execution_count": 21,
          "metadata": {},
          "output_type": "execute_result"
        }
      ],
      "source": [
        "bikes.groupby('Seasons')['Temperature'].mean()"
      ]
    },
    {
      "cell_type": "code",
      "execution_count": null,
      "metadata": {
        "id": "ZvYnWiLgQ_iC",
        "outputId": "ef16870c-836e-4035-affc-1a588c9b484c"
      },
      "outputs": [
        {
          "data": {
            "text/plain": [
              "Seasons\n",
              "Autumn    14.138821\n",
              "Spring    13.038533\n",
              "Summer    26.574827\n",
              "Winter    -2.567783\n",
              "Name: Temperature, dtype: float64"
            ]
          },
          "execution_count": 20,
          "metadata": {},
          "output_type": "execute_result"
        }
      ],
      "source": [
        "# то же самое\n",
        "bikes.groupby('Seasons')['Temperature'].agg('mean')"
      ]
    },
    {
      "cell_type": "code",
      "execution_count": null,
      "metadata": {
        "colab": {
          "base_uri": "https://localhost:8080/",
          "height": 206
        },
        "id": "b0fSmjVHQ_iC",
        "outputId": "7e525e97-7de6-43de-e863-dd7943e9b97a"
      },
      "outputs": [
        {
          "output_type": "execute_result",
          "data": {
            "text/plain": [
              "              mean  median\n",
              "Seasons                   \n",
              "Autumn   14.138821    13.8\n",
              "Spring   13.038533    13.3\n",
              "Summer   26.574827    26.6\n",
              "Winter   -2.567783    -2.2"
            ],
            "text/html": [
              "\n",
              "  <div id=\"df-be3221a7-5b49-408e-9d2f-f17fe7bc4bc6\" class=\"colab-df-container\">\n",
              "    <div>\n",
              "<style scoped>\n",
              "    .dataframe tbody tr th:only-of-type {\n",
              "        vertical-align: middle;\n",
              "    }\n",
              "\n",
              "    .dataframe tbody tr th {\n",
              "        vertical-align: top;\n",
              "    }\n",
              "\n",
              "    .dataframe thead th {\n",
              "        text-align: right;\n",
              "    }\n",
              "</style>\n",
              "<table border=\"1\" class=\"dataframe\">\n",
              "  <thead>\n",
              "    <tr style=\"text-align: right;\">\n",
              "      <th></th>\n",
              "      <th>mean</th>\n",
              "      <th>median</th>\n",
              "    </tr>\n",
              "    <tr>\n",
              "      <th>Seasons</th>\n",
              "      <th></th>\n",
              "      <th></th>\n",
              "    </tr>\n",
              "  </thead>\n",
              "  <tbody>\n",
              "    <tr>\n",
              "      <th>Autumn</th>\n",
              "      <td>14.138821</td>\n",
              "      <td>13.8</td>\n",
              "    </tr>\n",
              "    <tr>\n",
              "      <th>Spring</th>\n",
              "      <td>13.038533</td>\n",
              "      <td>13.3</td>\n",
              "    </tr>\n",
              "    <tr>\n",
              "      <th>Summer</th>\n",
              "      <td>26.574827</td>\n",
              "      <td>26.6</td>\n",
              "    </tr>\n",
              "    <tr>\n",
              "      <th>Winter</th>\n",
              "      <td>-2.567783</td>\n",
              "      <td>-2.2</td>\n",
              "    </tr>\n",
              "  </tbody>\n",
              "</table>\n",
              "</div>\n",
              "    <div class=\"colab-df-buttons\">\n",
              "\n",
              "  <div class=\"colab-df-container\">\n",
              "    <button class=\"colab-df-convert\" onclick=\"convertToInteractive('df-be3221a7-5b49-408e-9d2f-f17fe7bc4bc6')\"\n",
              "            title=\"Convert this dataframe to an interactive table.\"\n",
              "            style=\"display:none;\">\n",
              "\n",
              "  <svg xmlns=\"http://www.w3.org/2000/svg\" height=\"24px\" viewBox=\"0 -960 960 960\">\n",
              "    <path d=\"M120-120v-720h720v720H120Zm60-500h600v-160H180v160Zm220 220h160v-160H400v160Zm0 220h160v-160H400v160ZM180-400h160v-160H180v160Zm440 0h160v-160H620v160ZM180-180h160v-160H180v160Zm440 0h160v-160H620v160Z\"/>\n",
              "  </svg>\n",
              "    </button>\n",
              "\n",
              "  <style>\n",
              "    .colab-df-container {\n",
              "      display:flex;\n",
              "      gap: 12px;\n",
              "    }\n",
              "\n",
              "    .colab-df-convert {\n",
              "      background-color: #E8F0FE;\n",
              "      border: none;\n",
              "      border-radius: 50%;\n",
              "      cursor: pointer;\n",
              "      display: none;\n",
              "      fill: #1967D2;\n",
              "      height: 32px;\n",
              "      padding: 0 0 0 0;\n",
              "      width: 32px;\n",
              "    }\n",
              "\n",
              "    .colab-df-convert:hover {\n",
              "      background-color: #E2EBFA;\n",
              "      box-shadow: 0px 1px 2px rgba(60, 64, 67, 0.3), 0px 1px 3px 1px rgba(60, 64, 67, 0.15);\n",
              "      fill: #174EA6;\n",
              "    }\n",
              "\n",
              "    .colab-df-buttons div {\n",
              "      margin-bottom: 4px;\n",
              "    }\n",
              "\n",
              "    [theme=dark] .colab-df-convert {\n",
              "      background-color: #3B4455;\n",
              "      fill: #D2E3FC;\n",
              "    }\n",
              "\n",
              "    [theme=dark] .colab-df-convert:hover {\n",
              "      background-color: #434B5C;\n",
              "      box-shadow: 0px 1px 3px 1px rgba(0, 0, 0, 0.15);\n",
              "      filter: drop-shadow(0px 1px 2px rgba(0, 0, 0, 0.3));\n",
              "      fill: #FFFFFF;\n",
              "    }\n",
              "  </style>\n",
              "\n",
              "    <script>\n",
              "      const buttonEl =\n",
              "        document.querySelector('#df-be3221a7-5b49-408e-9d2f-f17fe7bc4bc6 button.colab-df-convert');\n",
              "      buttonEl.style.display =\n",
              "        google.colab.kernel.accessAllowed ? 'block' : 'none';\n",
              "\n",
              "      async function convertToInteractive(key) {\n",
              "        const element = document.querySelector('#df-be3221a7-5b49-408e-9d2f-f17fe7bc4bc6');\n",
              "        const dataTable =\n",
              "          await google.colab.kernel.invokeFunction('convertToInteractive',\n",
              "                                                    [key], {});\n",
              "        if (!dataTable) return;\n",
              "\n",
              "        const docLinkHtml = 'Like what you see? Visit the ' +\n",
              "          '<a target=\"_blank\" href=https://colab.research.google.com/notebooks/data_table.ipynb>data table notebook</a>'\n",
              "          + ' to learn more about interactive tables.';\n",
              "        element.innerHTML = '';\n",
              "        dataTable['output_type'] = 'display_data';\n",
              "        await google.colab.output.renderOutput(dataTable, element);\n",
              "        const docLink = document.createElement('div');\n",
              "        docLink.innerHTML = docLinkHtml;\n",
              "        element.appendChild(docLink);\n",
              "      }\n",
              "    </script>\n",
              "  </div>\n",
              "\n",
              "\n",
              "<div id=\"df-597b72c2-cf39-4a4a-b1eb-64fc80156597\">\n",
              "  <button class=\"colab-df-quickchart\" onclick=\"quickchart('df-597b72c2-cf39-4a4a-b1eb-64fc80156597')\"\n",
              "            title=\"Suggest charts\"\n",
              "            style=\"display:none;\">\n",
              "\n",
              "<svg xmlns=\"http://www.w3.org/2000/svg\" height=\"24px\"viewBox=\"0 0 24 24\"\n",
              "     width=\"24px\">\n",
              "    <g>\n",
              "        <path d=\"M19 3H5c-1.1 0-2 .9-2 2v14c0 1.1.9 2 2 2h14c1.1 0 2-.9 2-2V5c0-1.1-.9-2-2-2zM9 17H7v-7h2v7zm4 0h-2V7h2v10zm4 0h-2v-4h2v4z\"/>\n",
              "    </g>\n",
              "</svg>\n",
              "  </button>\n",
              "\n",
              "<style>\n",
              "  .colab-df-quickchart {\n",
              "      --bg-color: #E8F0FE;\n",
              "      --fill-color: #1967D2;\n",
              "      --hover-bg-color: #E2EBFA;\n",
              "      --hover-fill-color: #174EA6;\n",
              "      --disabled-fill-color: #AAA;\n",
              "      --disabled-bg-color: #DDD;\n",
              "  }\n",
              "\n",
              "  [theme=dark] .colab-df-quickchart {\n",
              "      --bg-color: #3B4455;\n",
              "      --fill-color: #D2E3FC;\n",
              "      --hover-bg-color: #434B5C;\n",
              "      --hover-fill-color: #FFFFFF;\n",
              "      --disabled-bg-color: #3B4455;\n",
              "      --disabled-fill-color: #666;\n",
              "  }\n",
              "\n",
              "  .colab-df-quickchart {\n",
              "    background-color: var(--bg-color);\n",
              "    border: none;\n",
              "    border-radius: 50%;\n",
              "    cursor: pointer;\n",
              "    display: none;\n",
              "    fill: var(--fill-color);\n",
              "    height: 32px;\n",
              "    padding: 0;\n",
              "    width: 32px;\n",
              "  }\n",
              "\n",
              "  .colab-df-quickchart:hover {\n",
              "    background-color: var(--hover-bg-color);\n",
              "    box-shadow: 0 1px 2px rgba(60, 64, 67, 0.3), 0 1px 3px 1px rgba(60, 64, 67, 0.15);\n",
              "    fill: var(--button-hover-fill-color);\n",
              "  }\n",
              "\n",
              "  .colab-df-quickchart-complete:disabled,\n",
              "  .colab-df-quickchart-complete:disabled:hover {\n",
              "    background-color: var(--disabled-bg-color);\n",
              "    fill: var(--disabled-fill-color);\n",
              "    box-shadow: none;\n",
              "  }\n",
              "\n",
              "  .colab-df-spinner {\n",
              "    border: 2px solid var(--fill-color);\n",
              "    border-color: transparent;\n",
              "    border-bottom-color: var(--fill-color);\n",
              "    animation:\n",
              "      spin 1s steps(1) infinite;\n",
              "  }\n",
              "\n",
              "  @keyframes spin {\n",
              "    0% {\n",
              "      border-color: transparent;\n",
              "      border-bottom-color: var(--fill-color);\n",
              "      border-left-color: var(--fill-color);\n",
              "    }\n",
              "    20% {\n",
              "      border-color: transparent;\n",
              "      border-left-color: var(--fill-color);\n",
              "      border-top-color: var(--fill-color);\n",
              "    }\n",
              "    30% {\n",
              "      border-color: transparent;\n",
              "      border-left-color: var(--fill-color);\n",
              "      border-top-color: var(--fill-color);\n",
              "      border-right-color: var(--fill-color);\n",
              "    }\n",
              "    40% {\n",
              "      border-color: transparent;\n",
              "      border-right-color: var(--fill-color);\n",
              "      border-top-color: var(--fill-color);\n",
              "    }\n",
              "    60% {\n",
              "      border-color: transparent;\n",
              "      border-right-color: var(--fill-color);\n",
              "    }\n",
              "    80% {\n",
              "      border-color: transparent;\n",
              "      border-right-color: var(--fill-color);\n",
              "      border-bottom-color: var(--fill-color);\n",
              "    }\n",
              "    90% {\n",
              "      border-color: transparent;\n",
              "      border-bottom-color: var(--fill-color);\n",
              "    }\n",
              "  }\n",
              "</style>\n",
              "\n",
              "  <script>\n",
              "    async function quickchart(key) {\n",
              "      const quickchartButtonEl =\n",
              "        document.querySelector('#' + key + ' button');\n",
              "      quickchartButtonEl.disabled = true;  // To prevent multiple clicks.\n",
              "      quickchartButtonEl.classList.add('colab-df-spinner');\n",
              "      try {\n",
              "        const charts = await google.colab.kernel.invokeFunction(\n",
              "            'suggestCharts', [key], {});\n",
              "      } catch (error) {\n",
              "        console.error('Error during call to suggestCharts:', error);\n",
              "      }\n",
              "      quickchartButtonEl.classList.remove('colab-df-spinner');\n",
              "      quickchartButtonEl.classList.add('colab-df-quickchart-complete');\n",
              "    }\n",
              "    (() => {\n",
              "      let quickchartButtonEl =\n",
              "        document.querySelector('#df-597b72c2-cf39-4a4a-b1eb-64fc80156597 button');\n",
              "      quickchartButtonEl.style.display =\n",
              "        google.colab.kernel.accessAllowed ? 'block' : 'none';\n",
              "    })();\n",
              "  </script>\n",
              "</div>\n",
              "    </div>\n",
              "  </div>\n"
            ],
            "application/vnd.google.colaboratory.intrinsic+json": {
              "type": "dataframe",
              "summary": "{\n  \"name\": \"bikes\",\n  \"rows\": 4,\n  \"fields\": [\n    {\n      \"column\": \"mean\",\n      \"properties\": {\n        \"dtype\": \"number\",\n        \"std\": 11.941020286889595,\n        \"min\": -2.5677830188679245,\n        \"max\": 26.574827109266945,\n        \"num_unique_values\": 4,\n        \"samples\": [\n          13.03853296193129,\n          -2.5677830188679245,\n          14.138821328344246\n        ],\n        \"semantic_type\": \"\",\n        \"description\": \"\"\n      }\n    },\n    {\n      \"column\": \"median\",\n      \"properties\": {\n        \"dtype\": \"number\",\n        \"std\": 11.78512480488292,\n        \"min\": -2.2,\n        \"max\": 26.6,\n        \"num_unique_values\": 4,\n        \"samples\": [\n          13.3,\n          -2.2,\n          13.8\n        ],\n        \"semantic_type\": \"\",\n        \"description\": \"\"\n      }\n    }\n  ]\n}"
            }
          },
          "metadata": {},
          "execution_count": 26
        }
      ],
      "source": [
        "# .agg() позволяет применить несколько функций сразу\n",
        "bikes.groupby('Seasons')['Temperature'].agg(func=['mean', 'median'])"
      ]
    },
    {
      "cell_type": "markdown",
      "metadata": {
        "id": "Gid2NtJ0Q_iC"
      },
      "source": [
        "`.pivot_table()` - сводная таблица\n",
        "\n",
        "[вот тут картинка про сводные таблицы и синтаксис](http://dfedorov.spb.ru/pandas/%D0%A1%D0%B2%D0%BE%D0%B4%D0%BD%D0%B0%D1%8F%20%D1%82%D0%B0%D0%B1%D0%BB%D0%B8%D1%86%D0%B0%20%D0%B2%20pandas.html)"
      ]
    },
    {
      "cell_type": "code",
      "execution_count": null,
      "metadata": {
        "id": "5rT4otiJQ_iD",
        "outputId": "0e48c2df-1519-4c11-8040-ab5f39f7bc6a"
      },
      "outputs": [
        {
          "data": {
            "text/html": [
              "<div>\n",
              "<style scoped>\n",
              "    .dataframe tbody tr th:only-of-type {\n",
              "        vertical-align: middle;\n",
              "    }\n",
              "\n",
              "    .dataframe tbody tr th {\n",
              "        vertical-align: top;\n",
              "    }\n",
              "\n",
              "    .dataframe thead tr th {\n",
              "        text-align: left;\n",
              "    }\n",
              "\n",
              "    .dataframe thead tr:last-of-type th {\n",
              "        text-align: right;\n",
              "    }\n",
              "</style>\n",
              "<table border=\"1\" class=\"dataframe\">\n",
              "  <thead>\n",
              "    <tr>\n",
              "      <th></th>\n",
              "      <th colspan=\"2\" halign=\"left\">mean</th>\n",
              "      <th colspan=\"2\" halign=\"left\">median</th>\n",
              "    </tr>\n",
              "    <tr>\n",
              "      <th></th>\n",
              "      <th>Rental Count</th>\n",
              "      <th>Temperature</th>\n",
              "      <th>Rental Count</th>\n",
              "      <th>Temperature</th>\n",
              "    </tr>\n",
              "    <tr>\n",
              "      <th>Hour</th>\n",
              "      <th></th>\n",
              "      <th></th>\n",
              "      <th></th>\n",
              "      <th></th>\n",
              "    </tr>\n",
              "  </thead>\n",
              "  <tbody>\n",
              "    <tr>\n",
              "      <th>0</th>\n",
              "      <td>558.178082</td>\n",
              "      <td>11.253652</td>\n",
              "      <td>433.0</td>\n",
              "      <td>11.80</td>\n",
              "    </tr>\n",
              "    <tr>\n",
              "      <th>1</th>\n",
              "      <td>415.720548</td>\n",
              "      <td>10.972145</td>\n",
              "      <td>329.0</td>\n",
              "      <td>11.50</td>\n",
              "    </tr>\n",
              "    <tr>\n",
              "      <th>2</th>\n",
              "      <td>319.767123</td>\n",
              "      <td>10.542535</td>\n",
              "      <td>239.0</td>\n",
              "      <td>10.90</td>\n",
              "    </tr>\n",
              "    <tr>\n",
              "      <th>3</th>\n",
              "      <td>201.010959</td>\n",
              "      <td>10.355462</td>\n",
              "      <td>165.0</td>\n",
              "      <td>10.70</td>\n",
              "    </tr>\n",
              "    <tr>\n",
              "      <th>4</th>\n",
              "      <td>122.838356</td>\n",
              "      <td>10.069859</td>\n",
              "      <td>94.0</td>\n",
              "      <td>10.40</td>\n",
              "    </tr>\n",
              "    <tr>\n",
              "      <th>5</th>\n",
              "      <td>135.863014</td>\n",
              "      <td>9.849580</td>\n",
              "      <td>107.0</td>\n",
              "      <td>10.00</td>\n",
              "    </tr>\n",
              "    <tr>\n",
              "      <th>6</th>\n",
              "      <td>283.654795</td>\n",
              "      <td>9.763944</td>\n",
              "      <td>193.0</td>\n",
              "      <td>10.00</td>\n",
              "    </tr>\n",
              "    <tr>\n",
              "      <th>7</th>\n",
              "      <td>612.646575</td>\n",
              "      <td>9.454062</td>\n",
              "      <td>410.0</td>\n",
              "      <td>9.60</td>\n",
              "    </tr>\n",
              "    <tr>\n",
              "      <th>8</th>\n",
              "      <td>979.838356</td>\n",
              "      <td>9.988515</td>\n",
              "      <td>762.0</td>\n",
              "      <td>10.40</td>\n",
              "    </tr>\n",
              "    <tr>\n",
              "      <th>9</th>\n",
              "      <td>642.136986</td>\n",
              "      <td>11.459669</td>\n",
              "      <td>519.0</td>\n",
              "      <td>12.10</td>\n",
              "    </tr>\n",
              "    <tr>\n",
              "      <th>10</th>\n",
              "      <td>519.123288</td>\n",
              "      <td>12.766947</td>\n",
              "      <td>414.0</td>\n",
              "      <td>14.00</td>\n",
              "    </tr>\n",
              "    <tr>\n",
              "      <th>11</th>\n",
              "      <td>585.336986</td>\n",
              "      <td>14.285434</td>\n",
              "      <td>485.0</td>\n",
              "      <td>16.40</td>\n",
              "    </tr>\n",
              "    <tr>\n",
              "      <th>12</th>\n",
              "      <td>710.534247</td>\n",
              "      <td>15.417175</td>\n",
              "      <td>572.0</td>\n",
              "      <td>17.40</td>\n",
              "    </tr>\n",
              "    <tr>\n",
              "      <th>13</th>\n",
              "      <td>700.706849</td>\n",
              "      <td>16.184765</td>\n",
              "      <td>586.0</td>\n",
              "      <td>18.30</td>\n",
              "    </tr>\n",
              "    <tr>\n",
              "      <th>14</th>\n",
              "      <td>747.147945</td>\n",
              "      <td>16.862360</td>\n",
              "      <td>567.0</td>\n",
              "      <td>19.10</td>\n",
              "    </tr>\n",
              "    <tr>\n",
              "      <th>15</th>\n",
              "      <td>796.084932</td>\n",
              "      <td>17.084358</td>\n",
              "      <td>678.0</td>\n",
              "      <td>19.20</td>\n",
              "    </tr>\n",
              "    <tr>\n",
              "      <th>16</th>\n",
              "      <td>938.032877</td>\n",
              "      <td>16.821652</td>\n",
              "      <td>804.0</td>\n",
              "      <td>18.80</td>\n",
              "    </tr>\n",
              "    <tr>\n",
              "      <th>17</th>\n",
              "      <td>1128.873973</td>\n",
              "      <td>16.325281</td>\n",
              "      <td>899.0</td>\n",
              "      <td>18.40</td>\n",
              "    </tr>\n",
              "    <tr>\n",
              "      <th>18</th>\n",
              "      <td>1518.983562</td>\n",
              "      <td>15.255956</td>\n",
              "      <td>1154.0</td>\n",
              "      <td>16.80</td>\n",
              "    </tr>\n",
              "    <tr>\n",
              "      <th>19</th>\n",
              "      <td>1168.328767</td>\n",
              "      <td>14.254062</td>\n",
              "      <td>845.0</td>\n",
              "      <td>15.20</td>\n",
              "    </tr>\n",
              "    <tr>\n",
              "      <th>20</th>\n",
              "      <td>1069.698630</td>\n",
              "      <td>13.394460</td>\n",
              "      <td>721.0</td>\n",
              "      <td>14.10</td>\n",
              "    </tr>\n",
              "    <tr>\n",
              "      <th>21</th>\n",
              "      <td>997.942466</td>\n",
              "      <td>12.680165</td>\n",
              "      <td>688.0</td>\n",
              "      <td>13.40</td>\n",
              "    </tr>\n",
              "    <tr>\n",
              "      <th>22</th>\n",
              "      <td>893.621918</td>\n",
              "      <td>12.281461</td>\n",
              "      <td>649.0</td>\n",
              "      <td>12.95</td>\n",
              "    </tr>\n",
              "    <tr>\n",
              "      <th>23</th>\n",
              "      <td>671.898630</td>\n",
              "      <td>11.717416</td>\n",
              "      <td>516.0</td>\n",
              "      <td>12.25</td>\n",
              "    </tr>\n",
              "  </tbody>\n",
              "</table>\n",
              "</div>"
            ],
            "text/plain": [
              "             mean                   median            \n",
              "     Rental Count Temperature Rental Count Temperature\n",
              "Hour                                                  \n",
              "0      558.178082   11.253652        433.0       11.80\n",
              "1      415.720548   10.972145        329.0       11.50\n",
              "2      319.767123   10.542535        239.0       10.90\n",
              "3      201.010959   10.355462        165.0       10.70\n",
              "4      122.838356   10.069859         94.0       10.40\n",
              "5      135.863014    9.849580        107.0       10.00\n",
              "6      283.654795    9.763944        193.0       10.00\n",
              "7      612.646575    9.454062        410.0        9.60\n",
              "8      979.838356    9.988515        762.0       10.40\n",
              "9      642.136986   11.459669        519.0       12.10\n",
              "10     519.123288   12.766947        414.0       14.00\n",
              "11     585.336986   14.285434        485.0       16.40\n",
              "12     710.534247   15.417175        572.0       17.40\n",
              "13     700.706849   16.184765        586.0       18.30\n",
              "14     747.147945   16.862360        567.0       19.10\n",
              "15     796.084932   17.084358        678.0       19.20\n",
              "16     938.032877   16.821652        804.0       18.80\n",
              "17    1128.873973   16.325281        899.0       18.40\n",
              "18    1518.983562   15.255956       1154.0       16.80\n",
              "19    1168.328767   14.254062        845.0       15.20\n",
              "20    1069.698630   13.394460        721.0       14.10\n",
              "21     997.942466   12.680165        688.0       13.40\n",
              "22     893.621918   12.281461        649.0       12.95\n",
              "23     671.898630   11.717416        516.0       12.25"
            ]
          },
          "execution_count": 23,
          "metadata": {},
          "output_type": "execute_result"
        }
      ],
      "source": [
        "bikes.pivot_table(index='Hour',\n",
        "                  values=['Temperature', 'Rental Count'],\n",
        "                  aggfunc=['mean', 'median'])"
      ]
    },
    {
      "cell_type": "markdown",
      "metadata": {
        "id": "yeJE8eMeQ_iD"
      },
      "source": [
        "## Меры разброса"
      ]
    },
    {
      "cell_type": "code",
      "source": [
        "bikes['Rental Count'].hist()"
      ],
      "metadata": {
        "colab": {
          "base_uri": "https://localhost:8080/",
          "height": 447
        },
        "id": "HolDCNNExXwg",
        "outputId": "d93f32fe-171d-4cff-8dcd-9e01ee20c0e7"
      },
      "execution_count": null,
      "outputs": [
        {
          "output_type": "execute_result",
          "data": {
            "text/plain": [
              "<Axes: >"
            ]
          },
          "metadata": {},
          "execution_count": 71
        },
        {
          "output_type": "display_data",
          "data": {
            "text/plain": [
              "<Figure size 640x480 with 1 Axes>"
            ],
            "image/png": "[encoded data removed]"
          },
          "metadata": {}
        }
      ]
    },
    {
      "cell_type": "code",
      "source": [
        "bikes['Rental Count'].min(), bikes['Rental Count'].max()"
      ],
      "metadata": {
        "colab": {
          "base_uri": "https://localhost:8080/"
        },
        "id": "C0RNVnJ8hhwv",
        "outputId": "a9357c2f-36de-4e7e-b5d0-d7fb2d4c09d8"
      },
      "execution_count": null,
      "outputs": [
        {
          "output_type": "execute_result",
          "data": {
            "text/plain": [
              "(0, 6012)"
            ]
          },
          "metadata": {},
          "execution_count": 49
        }
      ]
    },
    {
      "cell_type": "code",
      "execution_count": null,
      "metadata": {
        "colab": {
          "base_uri": "https://localhost:8080/"
        },
        "id": "YZ_lbTcaQ_iE",
        "outputId": "3f37ba67-3bf6-4228-bd58-20a0e03d99af"
      },
      "outputs": [
        {
          "output_type": "execute_result",
          "data": {
            "text/plain": [
              "6012"
            ]
          },
          "metadata": {},
          "execution_count": 50
        }
      ],
      "source": [
        "# размах\n",
        "bikes['Rental Count'].max() - bikes['Rental Count'].min()"
      ]
    },
    {
      "cell_type": "code",
      "source": [
        "import numpy as np"
      ],
      "metadata": {
        "id": "DKUxA4T8iH0V"
      },
      "execution_count": null,
      "outputs": []
    },
    {
      "cell_type": "code",
      "execution_count": null,
      "metadata": {
        "colab": {
          "base_uri": "https://localhost:8080/"
        },
        "id": "SKb-IOVGQ_iE",
        "outputId": "49dce699-da97-4bd7-e2e1-98e8a43ac683"
      },
      "outputs": [
        {
          "output_type": "stream",
          "name": "stdout",
          "text": [
            "157.0\n",
            "157.0\n"
          ]
        }
      ],
      "source": [
        "# перцентили-квантили\n",
        "print(np.percentile(bikes['Rental Count'], 25))\n",
        "print(np.quantile(bikes['Rental Count'], 0.25))"
      ]
    },
    {
      "cell_type": "code",
      "source": [
        "print(np.percentile(bikes['Rental Count'], 30))\n"
      ],
      "metadata": {
        "colab": {
          "base_uri": "https://localhost:8080/"
        },
        "id": "vEuc9z5ARS8q",
        "outputId": "8e89dc9d-6a9e-46bc-9b6f-d00d448db183"
      },
      "execution_count": null,
      "outputs": [
        {
          "output_type": "stream",
          "name": "stdout",
          "text": [
            "196.0\n"
          ]
        }
      ]
    },
    {
      "cell_type": "code",
      "execution_count": null,
      "metadata": {
        "colab": {
          "base_uri": "https://localhost:8080/",
          "height": 447
        },
        "id": "c6WPt6l8Q_iF",
        "outputId": "00ffb87b-1cb2-4328-f5fe-5935c6e1f5fb"
      },
      "outputs": [
        {
          "output_type": "execute_result",
          "data": {
            "text/plain": [
              "<Axes: >"
            ]
          },
          "metadata": {},
          "execution_count": 54
        },
        {
          "output_type": "display_data",
          "data": {
            "text/plain": [
              "<Figure size 640x480 with 1 Axes>"
            ],
            "image/png": "[encoded data removed]"
          },
          "metadata": {}
        }
      ],
      "source": [
        "bikes.boxplot(['Rental Count'])"
      ]
    },
    {
      "cell_type": "markdown",
      "source": [
        "Что это значит?\n",
        "![img](https://raw.githubusercontent.com/tbkazakova/compling_for_lyceum/main/pic/iqr.jpeg)"
      ],
      "metadata": {
        "id": "aARCDIQsxDYF"
      }
    },
    {
      "cell_type": "code",
      "execution_count": null,
      "metadata": {
        "colab": {
          "base_uri": "https://localhost:8080/"
        },
        "id": "8kENEOvlQ_iF",
        "outputId": "6c0c77b1-1277-4174-f0e5-9fe79d39f5fb"
      },
      "outputs": [
        {
          "output_type": "execute_result",
          "data": {
            "text/plain": [
              "852.0"
            ]
          },
          "metadata": {},
          "execution_count": 55
        }
      ],
      "source": [
        "# интерквартильный размах\n",
        "np.percentile(bikes['Rental Count'], 75) - np.percentile(bikes['Rental Count'], 25)"
      ]
    },
    {
      "cell_type": "markdown",
      "metadata": {
        "id": "o0kXN1LeQ_iG"
      },
      "source": [
        "Дисперсия генеральной совокупности = (Σ(𝑋−μ)^2)/𝑁\n",
        "\n",
        "Дисперсия выборки = (Σ(𝑋−𝑀)^2)/(𝑛−1)\n",
        "\n",
        "μ и 𝑀 - обозначения ср.арифметического генеральной совокупности и выборки"
      ]
    },
    {
      "cell_type": "code",
      "execution_count": null,
      "metadata": {
        "colab": {
          "base_uri": "https://localhost:8080/"
        },
        "id": "RE2K6_GyQ_iG",
        "outputId": "5b05180d-ca17-4a2e-b104-e3914fd22f3b"
      },
      "outputs": [
        {
          "output_type": "execute_result",
          "data": {
            "text/plain": [
              "562218.9547877825"
            ]
          },
          "metadata": {},
          "execution_count": 56
        }
      ],
      "source": [
        "# дисперсия выборки\n",
        "bikes['Rental Count'].var()"
      ]
    },
    {
      "cell_type": "code",
      "execution_count": null,
      "metadata": {
        "colab": {
          "base_uri": "https://localhost:8080/"
        },
        "id": "l5c65LB5Q_iH",
        "outputId": "49613236-76a3-402c-9475-b395e5215db9"
      },
      "outputs": [
        {
          "output_type": "execute_result",
          "data": {
            "text/plain": [
              "749.8126131159588"
            ]
          },
          "metadata": {},
          "execution_count": 57
        }
      ],
      "source": [
        "# стандартное отклонение выборки (квадратный корень дисперсии выборки)\n",
        "bikes['Rental Count'].std(ddof=1)"
      ]
    },
    {
      "cell_type": "code",
      "execution_count": null,
      "metadata": {
        "colab": {
          "base_uri": "https://localhost:8080/"
        },
        "id": "NhPtXOKPQ_iH",
        "outputId": "34e143be-4893-41c2-d562-c0bd88e078b0"
      },
      "outputs": [
        {
          "output_type": "stream",
          "name": "stdout",
          "text": [
            "562154.7745418021\n",
            "749.7698143709189\n"
          ]
        }
      ],
      "source": [
        "# дисперсия и стандартное отклонение генеральной совокупности\n",
        "# ddof - кол-во степеней свободы (Используется в n-ddof)\n",
        "\n",
        "print(bikes['Rental Count'].var(ddof=0))\n",
        "print(bikes['Rental Count'].std(ddof=0))"
      ]
    },
    {
      "cell_type": "code",
      "execution_count": null,
      "metadata": {
        "id": "CCF36VfHQ_iH"
      },
      "outputs": [],
      "source": [
        "# функция для размаха\n",
        "def range_values(x):\n",
        "    return x.max() - x.min()"
      ]
    },
    {
      "cell_type": "code",
      "execution_count": null,
      "metadata": {
        "colab": {
          "base_uri": "https://localhost:8080/",
          "height": 902
        },
        "id": "jKENcJwUQ_iH",
        "outputId": "78b42c96-6e86-481a-9c69-3f0d3323d395"
      },
      "outputs": [
        {
          "output_type": "execute_result",
          "data": {
            "text/plain": [
              "             mean                      std                       var  \\\n",
              "     Rental Count Temperature Rental Count Temperature  Rental Count   \n",
              "Hour                                                                   \n",
              "0      558.178082   11.253652   455.016192   11.437803  2.070397e+05   \n",
              "1      415.720548   10.972145   338.058896   11.391632  1.142838e+05   \n",
              "2      319.767123   10.542535   268.797389   11.411300  7.225204e+04   \n",
              "3      201.010959   10.355462   162.601701   11.306762  2.643931e+04   \n",
              "4      122.838356   10.069859   106.375778   11.284178  1.131581e+04   \n",
              "5      135.863014    9.849580   113.191916   11.310231  1.281241e+04   \n",
              "6      283.654795    9.763944   273.636723   11.323973  7.487706e+04   \n",
              "7      612.646575    9.454062   582.515881   11.487845  3.393248e+05   \n",
              "8      979.838356    9.988515   871.005983   11.931827  7.586514e+05   \n",
              "9      642.136986   11.459669   500.018849   12.199029  2.500188e+05   \n",
              "10     519.123288   12.766947   415.278139   12.148809  1.724559e+05   \n",
              "11     585.336986   14.285434   452.773454   12.038602  2.050038e+05   \n",
              "12     710.534247   15.417175   538.838247   11.929531  2.903467e+05   \n",
              "13     700.706849   16.184765   539.252891   11.833386  2.907937e+05   \n",
              "14     747.147945   16.862360   613.267340   11.825084  3.760968e+05   \n",
              "15     796.084932   17.084358   631.989742   11.872539  3.994110e+05   \n",
              "16     938.032877   16.821652   744.642450   11.798065  5.544924e+05   \n",
              "17    1128.873973   16.325281   935.173622   12.080028  8.745497e+05   \n",
              "18    1518.983562   15.255956  1286.770715   12.154047  1.655779e+06   \n",
              "19    1168.328767   14.254062  1088.371072   11.847401  1.184552e+06   \n",
              "20    1069.698630   13.394460   995.999725   11.656540  9.920155e+05   \n",
              "21     997.942466   12.680165   916.900635   11.480006  8.407068e+05   \n",
              "22     893.621918   12.281461   787.161188   11.480268  6.196227e+05   \n",
              "23     671.898630   11.717416   581.424225   11.345552  3.380541e+05   \n",
              "\n",
              "                 range_values              \n",
              "     Temperature Rental Count Temperature  \n",
              "Hour                                       \n",
              "0     130.823339         2059        48.0  \n",
              "1     129.769278         1485        47.8  \n",
              "2     130.217762         1950        47.5  \n",
              "3     127.842870          781        47.2  \n",
              "4     127.332677          608        47.5  \n",
              "5     127.921327          561        47.6  \n",
              "6     128.232369         1577        47.9  \n",
              "7     131.970580         2880        48.0  \n",
              "8     142.368491         4438        49.6  \n",
              "9     148.816319         2318        50.5  \n",
              "10    147.593567         1740        50.9  \n",
              "11    144.927933         2041        51.4  \n",
              "12    142.313704         2239        51.2  \n",
              "13    140.029017         2805        51.2  \n",
              "14    139.832607         3163        50.8  \n",
              "15    140.957178         3194        50.7  \n",
              "16    139.194330         3671        50.6  \n",
              "17    145.927077         4450        50.8  \n",
              "18    147.720860         6012        50.8  \n",
              "19    140.360917         5418        49.9  \n",
              "20    135.874914         3857        48.8  \n",
              "21    131.790545         4373        48.0  \n",
              "22    131.796557         3432        48.1  \n",
              "23    128.721555         2603        48.1  "
            ],
            "text/html": [
              "\n",
              "  <div id=\"df-fdd2e814-2519-4054-a467-e344a2435625\" class=\"colab-df-container\">\n",
              "    <div>\n",
              "<style scoped>\n",
              "    .dataframe tbody tr th:only-of-type {\n",
              "        vertical-align: middle;\n",
              "    }\n",
              "\n",
              "    .dataframe tbody tr th {\n",
              "        vertical-align: top;\n",
              "    }\n",
              "\n",
              "    .dataframe thead tr th {\n",
              "        text-align: left;\n",
              "    }\n",
              "\n",
              "    .dataframe thead tr:last-of-type th {\n",
              "        text-align: right;\n",
              "    }\n",
              "</style>\n",
              "<table border=\"1\" class=\"dataframe\">\n",
              "  <thead>\n",
              "    <tr>\n",
              "      <th></th>\n",
              "      <th colspan=\"2\" halign=\"left\">mean</th>\n",
              "      <th colspan=\"2\" halign=\"left\">std</th>\n",
              "      <th colspan=\"2\" halign=\"left\">var</th>\n",
              "      <th colspan=\"2\" halign=\"left\">range_values</th>\n",
              "    </tr>\n",
              "    <tr>\n",
              "      <th></th>\n",
              "      <th>Rental Count</th>\n",
              "      <th>Temperature</th>\n",
              "      <th>Rental Count</th>\n",
              "      <th>Temperature</th>\n",
              "      <th>Rental Count</th>\n",
              "      <th>Temperature</th>\n",
              "      <th>Rental Count</th>\n",
              "      <th>Temperature</th>\n",
              "    </tr>\n",
              "    <tr>\n",
              "      <th>Hour</th>\n",
              "      <th></th>\n",
              "      <th></th>\n",
              "      <th></th>\n",
              "      <th></th>\n",
              "      <th></th>\n",
              "      <th></th>\n",
              "      <th></th>\n",
              "      <th></th>\n",
              "    </tr>\n",
              "  </thead>\n",
              "  <tbody>\n",
              "    <tr>\n",
              "      <th>0</th>\n",
              "      <td>558.178082</td>\n",
              "      <td>11.253652</td>\n",
              "      <td>455.016192</td>\n",
              "      <td>11.437803</td>\n",
              "      <td>2.070397e+05</td>\n",
              "      <td>130.823339</td>\n",
              "      <td>2059</td>\n",
              "      <td>48.0</td>\n",
              "    </tr>\n",
              "    <tr>\n",
              "      <th>1</th>\n",
              "      <td>415.720548</td>\n",
              "      <td>10.972145</td>\n",
              "      <td>338.058896</td>\n",
              "      <td>11.391632</td>\n",
              "      <td>1.142838e+05</td>\n",
              "      <td>129.769278</td>\n",
              "      <td>1485</td>\n",
              "      <td>47.8</td>\n",
              "    </tr>\n",
              "    <tr>\n",
              "      <th>2</th>\n",
              "      <td>319.767123</td>\n",
              "      <td>10.542535</td>\n",
              "      <td>268.797389</td>\n",
              "      <td>11.411300</td>\n",
              "      <td>7.225204e+04</td>\n",
              "      <td>130.217762</td>\n",
              "      <td>1950</td>\n",
              "      <td>47.5</td>\n",
              "    </tr>\n",
              "    <tr>\n",
              "      <th>3</th>\n",
              "      <td>201.010959</td>\n",
              "      <td>10.355462</td>\n",
              "      <td>162.601701</td>\n",
              "      <td>11.306762</td>\n",
              "      <td>2.643931e+04</td>\n",
              "      <td>127.842870</td>\n",
              "      <td>781</td>\n",
              "      <td>47.2</td>\n",
              "    </tr>\n",
              "    <tr>\n",
              "      <th>4</th>\n",
              "      <td>122.838356</td>\n",
              "      <td>10.069859</td>\n",
              "      <td>106.375778</td>\n",
              "      <td>11.284178</td>\n",
              "      <td>1.131581e+04</td>\n",
              "      <td>127.332677</td>\n",
              "      <td>608</td>\n",
              "      <td>47.5</td>\n",
              "    </tr>\n",
              "    <tr>\n",
              "      <th>5</th>\n",
              "      <td>135.863014</td>\n",
              "      <td>9.849580</td>\n",
              "      <td>113.191916</td>\n",
              "      <td>11.310231</td>\n",
              "      <td>1.281241e+04</td>\n",
              "      <td>127.921327</td>\n",
              "      <td>561</td>\n",
              "      <td>47.6</td>\n",
              "    </tr>\n",
              "    <tr>\n",
              "      <th>6</th>\n",
              "      <td>283.654795</td>\n",
              "      <td>9.763944</td>\n",
              "      <td>273.636723</td>\n",
              "      <td>11.323973</td>\n",
              "      <td>7.487706e+04</td>\n",
              "      <td>128.232369</td>\n",
              "      <td>1577</td>\n",
              "      <td>47.9</td>\n",
              "    </tr>\n",
              "    <tr>\n",
              "      <th>7</th>\n",
              "      <td>612.646575</td>\n",
              "      <td>9.454062</td>\n",
              "      <td>582.515881</td>\n",
              "      <td>11.487845</td>\n",
              "      <td>3.393248e+05</td>\n",
              "      <td>131.970580</td>\n",
              "      <td>2880</td>\n",
              "      <td>48.0</td>\n",
              "    </tr>\n",
              "    <tr>\n",
              "      <th>8</th>\n",
              "      <td>979.838356</td>\n",
              "      <td>9.988515</td>\n",
              "      <td>871.005983</td>\n",
              "      <td>11.931827</td>\n",
              "      <td>7.586514e+05</td>\n",
              "      <td>142.368491</td>\n",
              "      <td>4438</td>\n",
              "      <td>49.6</td>\n",
              "    </tr>\n",
              "    <tr>\n",
              "      <th>9</th>\n",
              "      <td>642.136986</td>\n",
              "      <td>11.459669</td>\n",
              "      <td>500.018849</td>\n",
              "      <td>12.199029</td>\n",
              "      <td>2.500188e+05</td>\n",
              "      <td>148.816319</td>\n",
              "      <td>2318</td>\n",
              "      <td>50.5</td>\n",
              "    </tr>\n",
              "    <tr>\n",
              "      <th>10</th>\n",
              "      <td>519.123288</td>\n",
              "      <td>12.766947</td>\n",
              "      <td>415.278139</td>\n",
              "      <td>12.148809</td>\n",
              "      <td>1.724559e+05</td>\n",
              "      <td>147.593567</td>\n",
              "      <td>1740</td>\n",
              "      <td>50.9</td>\n",
              "    </tr>\n",
              "    <tr>\n",
              "      <th>11</th>\n",
              "      <td>585.336986</td>\n",
              "      <td>14.285434</td>\n",
              "      <td>452.773454</td>\n",
              "      <td>12.038602</td>\n",
              "      <td>2.050038e+05</td>\n",
              "      <td>144.927933</td>\n",
              "      <td>2041</td>\n",
              "      <td>51.4</td>\n",
              "    </tr>\n",
              "    <tr>\n",
              "      <th>12</th>\n",
              "      <td>710.534247</td>\n",
              "      <td>15.417175</td>\n",
              "      <td>538.838247</td>\n",
              "      <td>11.929531</td>\n",
              "      <td>2.903467e+05</td>\n",
              "      <td>142.313704</td>\n",
              "      <td>2239</td>\n",
              "      <td>51.2</td>\n",
              "    </tr>\n",
              "    <tr>\n",
              "      <th>13</th>\n",
              "      <td>700.706849</td>\n",
              "      <td>16.184765</td>\n",
              "      <td>539.252891</td>\n",
              "      <td>11.833386</td>\n",
              "      <td>2.907937e+05</td>\n",
              "      <td>140.029017</td>\n",
              "      <td>2805</td>\n",
              "      <td>51.2</td>\n",
              "    </tr>\n",
              "    <tr>\n",
              "      <th>14</th>\n",
              "      <td>747.147945</td>\n",
              "      <td>16.862360</td>\n",
              "      <td>613.267340</td>\n",
              "      <td>11.825084</td>\n",
              "      <td>3.760968e+05</td>\n",
              "      <td>139.832607</td>\n",
              "      <td>3163</td>\n",
              "      <td>50.8</td>\n",
              "    </tr>\n",
              "    <tr>\n",
              "      <th>15</th>\n",
              "      <td>796.084932</td>\n",
              "      <td>17.084358</td>\n",
              "      <td>631.989742</td>\n",
              "      <td>11.872539</td>\n",
              "      <td>3.994110e+05</td>\n",
              "      <td>140.957178</td>\n",
              "      <td>3194</td>\n",
              "      <td>50.7</td>\n",
              "    </tr>\n",
              "    <tr>\n",
              "      <th>16</th>\n",
              "      <td>938.032877</td>\n",
              "      <td>16.821652</td>\n",
              "      <td>744.642450</td>\n",
              "      <td>11.798065</td>\n",
              "      <td>5.544924e+05</td>\n",
              "      <td>139.194330</td>\n",
              "      <td>3671</td>\n",
              "      <td>50.6</td>\n",
              "    </tr>\n",
              "    <tr>\n",
              "      <th>17</th>\n",
              "      <td>1128.873973</td>\n",
              "      <td>16.325281</td>\n",
              "      <td>935.173622</td>\n",
              "      <td>12.080028</td>\n",
              "      <td>8.745497e+05</td>\n",
              "      <td>145.927077</td>\n",
              "      <td>4450</td>\n",
              "      <td>50.8</td>\n",
              "    </tr>\n",
              "    <tr>\n",
              "      <th>18</th>\n",
              "      <td>1518.983562</td>\n",
              "      <td>15.255956</td>\n",
              "      <td>1286.770715</td>\n",
              "      <td>12.154047</td>\n",
              "      <td>1.655779e+06</td>\n",
              "      <td>147.720860</td>\n",
              "      <td>6012</td>\n",
              "      <td>50.8</td>\n",
              "    </tr>\n",
              "    <tr>\n",
              "      <th>19</th>\n",
              "      <td>1168.328767</td>\n",
              "      <td>14.254062</td>\n",
              "      <td>1088.371072</td>\n",
              "      <td>11.847401</td>\n",
              "      <td>1.184552e+06</td>\n",
              "      <td>140.360917</td>\n",
              "      <td>5418</td>\n",
              "      <td>49.9</td>\n",
              "    </tr>\n",
              "    <tr>\n",
              "      <th>20</th>\n",
              "      <td>1069.698630</td>\n",
              "      <td>13.394460</td>\n",
              "      <td>995.999725</td>\n",
              "      <td>11.656540</td>\n",
              "      <td>9.920155e+05</td>\n",
              "      <td>135.874914</td>\n",
              "      <td>3857</td>\n",
              "      <td>48.8</td>\n",
              "    </tr>\n",
              "    <tr>\n",
              "      <th>21</th>\n",
              "      <td>997.942466</td>\n",
              "      <td>12.680165</td>\n",
              "      <td>916.900635</td>\n",
              "      <td>11.480006</td>\n",
              "      <td>8.407068e+05</td>\n",
              "      <td>131.790545</td>\n",
              "      <td>4373</td>\n",
              "      <td>48.0</td>\n",
              "    </tr>\n",
              "    <tr>\n",
              "      <th>22</th>\n",
              "      <td>893.621918</td>\n",
              "      <td>12.281461</td>\n",
              "      <td>787.161188</td>\n",
              "      <td>11.480268</td>\n",
              "      <td>6.196227e+05</td>\n",
              "      <td>131.796557</td>\n",
              "      <td>3432</td>\n",
              "      <td>48.1</td>\n",
              "    </tr>\n",
              "    <tr>\n",
              "      <th>23</th>\n",
              "      <td>671.898630</td>\n",
              "      <td>11.717416</td>\n",
              "      <td>581.424225</td>\n",
              "      <td>11.345552</td>\n",
              "      <td>3.380541e+05</td>\n",
              "      <td>128.721555</td>\n",
              "      <td>2603</td>\n",
              "      <td>48.1</td>\n",
              "    </tr>\n",
              "  </tbody>\n",
              "</table>\n",
              "</div>\n",
              "    <div class=\"colab-df-buttons\">\n",
              "\n",
              "  <div class=\"colab-df-container\">\n",
              "    <button class=\"colab-df-convert\" onclick=\"convertToInteractive('df-fdd2e814-2519-4054-a467-e344a2435625')\"\n",
              "            title=\"Convert this dataframe to an interactive table.\"\n",
              "            style=\"display:none;\">\n",
              "\n",
              "  <svg xmlns=\"http://www.w3.org/2000/svg\" height=\"24px\" viewBox=\"0 -960 960 960\">\n",
              "    <path d=\"M120-120v-720h720v720H120Zm60-500h600v-160H180v160Zm220 220h160v-160H400v160Zm0 220h160v-160H400v160ZM180-400h160v-160H180v160Zm440 0h160v-160H620v160ZM180-180h160v-160H180v160Zm440 0h160v-160H620v160Z\"/>\n",
              "  </svg>\n",
              "    </button>\n",
              "\n",
              "  <style>\n",
              "    .colab-df-container {\n",
              "      display:flex;\n",
              "      gap: 12px;\n",
              "    }\n",
              "\n",
              "    .colab-df-convert {\n",
              "      background-color: #E8F0FE;\n",
              "      border: none;\n",
              "      border-radius: 50%;\n",
              "      cursor: pointer;\n",
              "      display: none;\n",
              "      fill: #1967D2;\n",
              "      height: 32px;\n",
              "      padding: 0 0 0 0;\n",
              "      width: 32px;\n",
              "    }\n",
              "\n",
              "    .colab-df-convert:hover {\n",
              "      background-color: #E2EBFA;\n",
              "      box-shadow: 0px 1px 2px rgba(60, 64, 67, 0.3), 0px 1px 3px 1px rgba(60, 64, 67, 0.15);\n",
              "      fill: #174EA6;\n",
              "    }\n",
              "\n",
              "    .colab-df-buttons div {\n",
              "      margin-bottom: 4px;\n",
              "    }\n",
              "\n",
              "    [theme=dark] .colab-df-convert {\n",
              "      background-color: #3B4455;\n",
              "      fill: #D2E3FC;\n",
              "    }\n",
              "\n",
              "    [theme=dark] .colab-df-convert:hover {\n",
              "      background-color: #434B5C;\n",
              "      box-shadow: 0px 1px 3px 1px rgba(0, 0, 0, 0.15);\n",
              "      filter: drop-shadow(0px 1px 2px rgba(0, 0, 0, 0.3));\n",
              "      fill: #FFFFFF;\n",
              "    }\n",
              "  </style>\n",
              "\n",
              "    <script>\n",
              "      const buttonEl =\n",
              "        document.querySelector('#df-fdd2e814-2519-4054-a467-e344a2435625 button.colab-df-convert');\n",
              "      buttonEl.style.display =\n",
              "        google.colab.kernel.accessAllowed ? 'block' : 'none';\n",
              "\n",
              "      async function convertToInteractive(key) {\n",
              "        const element = document.querySelector('#df-fdd2e814-2519-4054-a467-e344a2435625');\n",
              "        const dataTable =\n",
              "          await google.colab.kernel.invokeFunction('convertToInteractive',\n",
              "                                                    [key], {});\n",
              "        if (!dataTable) return;\n",
              "\n",
              "        const docLinkHtml = 'Like what you see? Visit the ' +\n",
              "          '<a target=\"_blank\" href=https://colab.research.google.com/notebooks/data_table.ipynb>data table notebook</a>'\n",
              "          + ' to learn more about interactive tables.';\n",
              "        element.innerHTML = '';\n",
              "        dataTable['output_type'] = 'display_data';\n",
              "        await google.colab.output.renderOutput(dataTable, element);\n",
              "        const docLink = document.createElement('div');\n",
              "        docLink.innerHTML = docLinkHtml;\n",
              "        element.appendChild(docLink);\n",
              "      }\n",
              "    </script>\n",
              "  </div>\n",
              "\n",
              "\n",
              "<div id=\"df-b85ba08c-596b-481d-af85-24bb95a518f6\">\n",
              "  <button class=\"colab-df-quickchart\" onclick=\"quickchart('df-b85ba08c-596b-481d-af85-24bb95a518f6')\"\n",
              "            title=\"Suggest charts\"\n",
              "            style=\"display:none;\">\n",
              "\n",
              "<svg xmlns=\"http://www.w3.org/2000/svg\" height=\"24px\"viewBox=\"0 0 24 24\"\n",
              "     width=\"24px\">\n",
              "    <g>\n",
              "        <path d=\"M19 3H5c-1.1 0-2 .9-2 2v14c0 1.1.9 2 2 2h14c1.1 0 2-.9 2-2V5c0-1.1-.9-2-2-2zM9 17H7v-7h2v7zm4 0h-2V7h2v10zm4 0h-2v-4h2v4z\"/>\n",
              "    </g>\n",
              "</svg>\n",
              "  </button>\n",
              "\n",
              "<style>\n",
              "  .colab-df-quickchart {\n",
              "      --bg-color: #E8F0FE;\n",
              "      --fill-color: #1967D2;\n",
              "      --hover-bg-color: #E2EBFA;\n",
              "      --hover-fill-color: #174EA6;\n",
              "      --disabled-fill-color: #AAA;\n",
              "      --disabled-bg-color: #DDD;\n",
              "  }\n",
              "\n",
              "  [theme=dark] .colab-df-quickchart {\n",
              "      --bg-color: #3B4455;\n",
              "      --fill-color: #D2E3FC;\n",
              "      --hover-bg-color: #434B5C;\n",
              "      --hover-fill-color: #FFFFFF;\n",
              "      --disabled-bg-color: #3B4455;\n",
              "      --disabled-fill-color: #666;\n",
              "  }\n",
              "\n",
              "  .colab-df-quickchart {\n",
              "    background-color: var(--bg-color);\n",
              "    border: none;\n",
              "    border-radius: 50%;\n",
              "    cursor: pointer;\n",
              "    display: none;\n",
              "    fill: var(--fill-color);\n",
              "    height: 32px;\n",
              "    padding: 0;\n",
              "    width: 32px;\n",
              "  }\n",
              "\n",
              "  .colab-df-quickchart:hover {\n",
              "    background-color: var(--hover-bg-color);\n",
              "    box-shadow: 0 1px 2px rgba(60, 64, 67, 0.3), 0 1px 3px 1px rgba(60, 64, 67, 0.15);\n",
              "    fill: var(--button-hover-fill-color);\n",
              "  }\n",
              "\n",
              "  .colab-df-quickchart-complete:disabled,\n",
              "  .colab-df-quickchart-complete:disabled:hover {\n",
              "    background-color: var(--disabled-bg-color);\n",
              "    fill: var(--disabled-fill-color);\n",
              "    box-shadow: none;\n",
              "  }\n",
              "\n",
              "  .colab-df-spinner {\n",
              "    border: 2px solid var(--fill-color);\n",
              "    border-color: transparent;\n",
              "    border-bottom-color: var(--fill-color);\n",
              "    animation:\n",
              "      spin 1s steps(1) infinite;\n",
              "  }\n",
              "\n",
              "  @keyframes spin {\n",
              "    0% {\n",
              "      border-color: transparent;\n",
              "      border-bottom-color: var(--fill-color);\n",
              "      border-left-color: var(--fill-color);\n",
              "    }\n",
              "    20% {\n",
              "      border-color: transparent;\n",
              "      border-left-color: var(--fill-color);\n",
              "      border-top-color: var(--fill-color);\n",
              "    }\n",
              "    30% {\n",
              "      border-color: transparent;\n",
              "      border-left-color: var(--fill-color);\n",
              "      border-top-color: var(--fill-color);\n",
              "      border-right-color: var(--fill-color);\n",
              "    }\n",
              "    40% {\n",
              "      border-color: transparent;\n",
              "      border-right-color: var(--fill-color);\n",
              "      border-top-color: var(--fill-color);\n",
              "    }\n",
              "    60% {\n",
              "      border-color: transparent;\n",
              "      border-right-color: var(--fill-color);\n",
              "    }\n",
              "    80% {\n",
              "      border-color: transparent;\n",
              "      border-right-color: var(--fill-color);\n",
              "      border-bottom-color: var(--fill-color);\n",
              "    }\n",
              "    90% {\n",
              "      border-color: transparent;\n",
              "      border-bottom-color: var(--fill-color);\n",
              "    }\n",
              "  }\n",
              "</style>\n",
              "\n",
              "  <script>\n",
              "    async function quickchart(key) {\n",
              "      const quickchartButtonEl =\n",
              "        document.querySelector('#' + key + ' button');\n",
              "      quickchartButtonEl.disabled = true;  // To prevent multiple clicks.\n",
              "      quickchartButtonEl.classList.add('colab-df-spinner');\n",
              "      try {\n",
              "        const charts = await google.colab.kernel.invokeFunction(\n",
              "            'suggestCharts', [key], {});\n",
              "      } catch (error) {\n",
              "        console.error('Error during call to suggestCharts:', error);\n",
              "      }\n",
              "      quickchartButtonEl.classList.remove('colab-df-spinner');\n",
              "      quickchartButtonEl.classList.add('colab-df-quickchart-complete');\n",
              "    }\n",
              "    (() => {\n",
              "      let quickchartButtonEl =\n",
              "        document.querySelector('#df-b85ba08c-596b-481d-af85-24bb95a518f6 button');\n",
              "      quickchartButtonEl.style.display =\n",
              "        google.colab.kernel.accessAllowed ? 'block' : 'none';\n",
              "    })();\n",
              "  </script>\n",
              "</div>\n",
              "    </div>\n",
              "  </div>\n"
            ],
            "application/vnd.google.colaboratory.intrinsic+json": {
              "type": "dataframe",
              "summary": "{\n  \"name\": \"                  aggfunc=['mean', 'std', 'var', range_values])\",\n  \"rows\": 24,\n  \"fields\": [\n    {\n      \"column\": [\n        \"mean\",\n        \"Rental Count\"\n      ],\n      \"properties\": {\n        \"dtype\": \"number\",\n        \"std\": 352.6315821822523,\n        \"min\": 122.83835616438355,\n        \"max\": 1518.9835616438356,\n        \"num_unique_values\": 24,\n        \"samples\": [\n          979.8383561643835,\n          938.0328767123287,\n          558.1780821917808\n        ],\n        \"semantic_type\": \"\",\n        \"description\": \"\"\n      }\n    },\n    {\n      \"column\": [\n        \"mean\",\n        \"Temperature\"\n      ],\n      \"properties\": {\n        \"dtype\": \"number\",\n        \"std\": 2.611543975967034,\n        \"min\": 9.45406162464986,\n        \"max\": 17.08435754189944,\n        \"num_unique_values\": 24,\n        \"samples\": [\n          9.988515406162465,\n          16.82165242165242,\n          11.253651685393258\n        ],\n        \"semantic_type\": \"\",\n        \"description\": \"\"\n      }\n    },\n    {\n      \"column\": [\n        \"std\",\n        \"Rental Count\"\n      ],\n      \"properties\": {\n        \"dtype\": \"number\",\n        \"std\": 313.48927872093503,\n        \"min\": 106.37577833825989,\n        \"max\": 1286.770715145248,\n        \"num_unique_values\": 24,\n        \"samples\": [\n          871.0059825292167,\n          744.6424497952233,\n          455.016191671379\n        ],\n        \"semantic_type\": \"\",\n        \"description\": \"\"\n      }\n    },\n    {\n      \"column\": [\n        \"std\",\n        \"Temperature\"\n      ],\n      \"properties\": {\n        \"dtype\": \"number\",\n        \"std\": 0.31289723046095513,\n        \"min\": 11.284178150569007,\n        \"max\": 12.199029428744819,\n        \"num_unique_values\": 24,\n        \"samples\": [\n          11.93182682279273,\n          11.798064664729118,\n          11.437803055670567\n        ],\n        \"semantic_type\": \"\",\n        \"description\": \"\"\n      }\n    },\n    {\n      \"column\": [\n        \"var\",\n        \"Rental Count\"\n      ],\n      \"properties\": {\n        \"dtype\": \"number\",\n        \"std\": 418750.93266338704,\n        \"min\": 11315.806217070602,\n        \"max\": 1655778.8733554129,\n        \"num_unique_values\": 24,\n        \"samples\": [\n          758651.4216016862,\n          554492.3780370317,\n          207039.7346831251\n        ],\n        \"semantic_type\": \"\",\n        \"description\": \"\"\n      }\n    },\n    {\n      \"column\": [\n        \"var\",\n        \"Temperature\"\n      ],\n      \"properties\": {\n        \"dtype\": \"number\",\n        \"std\": 7.331776135686896,\n        \"min\": 127.33267653377897,\n        \"max\": 148.81631900338215,\n        \"num_unique_values\": 24,\n        \"samples\": [\n          142.36849132911607,\n          139.19432983312979,\n          130.82333874030698\n        ],\n        \"semantic_type\": \"\",\n        \"description\": \"\"\n      }\n    },\n    {\n      \"column\": [\n        \"range_values\",\n        \"Rental Count\"\n      ],\n      \"properties\": {\n        \"dtype\": \"number\",\n        \"std\": 1448,\n        \"min\": 561,\n        \"max\": 6012,\n        \"num_unique_values\": 24,\n        \"samples\": [\n          4438,\n          3671,\n          2059\n        ],\n        \"semantic_type\": \"\",\n        \"description\": \"\"\n      }\n    },\n    {\n      \"column\": [\n        \"range_values\",\n        \"Temperature\"\n      ],\n      \"properties\": {\n        \"dtype\": \"number\",\n        \"std\": 1.513220723001684,\n        \"min\": 47.2,\n        \"max\": 51.4,\n        \"num_unique_values\": 19,\n        \"samples\": [\n          48.0,\n          47.9,\n          51.2\n        ],\n        \"semantic_type\": \"\",\n        \"description\": \"\"\n      }\n    }\n  ]\n}"
            }
          },
          "metadata": {},
          "execution_count": 60
        }
      ],
      "source": [
        "# сводная таблица\n",
        "bikes.pivot_table(index='Hour',\n",
        "                  values=['Temperature', 'Rental Count'],\n",
        "                  aggfunc=['mean', 'std', 'var', range_values])"
      ]
    },
    {
      "cell_type": "markdown",
      "metadata": {
        "id": "He9ohL-xQ_iI"
      },
      "source": [
        "## Выбросы\n",
        "\n",
        "Порог, после которого идут выбросы - договорённость.\n",
        "\n",
        "Обычно: до `Q1 - 1.5 * IQR` и после `Q3 + 1.5 * IQR`"
      ]
    },
    {
      "cell_type": "code",
      "execution_count": null,
      "metadata": {
        "id": "MUlxFVEjQ_iI"
      },
      "outputs": [],
      "source": [
        "q1 = bikes['Rental Count'].quantile(0.25)\n",
        "q3 = bikes['Rental Count'].quantile(0.75)\n",
        "iqr = q3 - q1"
      ]
    },
    {
      "cell_type": "code",
      "execution_count": null,
      "metadata": {
        "id": "3borr2G6Q_iJ"
      },
      "outputs": [],
      "source": [
        "iqr_outlier_threshold_bottom = q1 - 1.5 * iqr\n",
        "iqr_outlier_threshold_up = q3 + 1.5 * iqr"
      ]
    },
    {
      "cell_type": "code",
      "execution_count": null,
      "metadata": {
        "colab": {
          "base_uri": "https://localhost:8080/"
        },
        "id": "IVXEsvZ3Q_iJ",
        "outputId": "8b91b637-065a-4931-9f53-924053d485a1"
      },
      "outputs": [
        {
          "output_type": "stream",
          "name": "stdout",
          "text": [
            "-1121.0\n",
            "2287.0\n"
          ]
        }
      ],
      "source": [
        "# границы\n",
        "print(iqr_outlier_threshold_bottom)\n",
        "print(iqr_outlier_threshold_up)"
      ]
    },
    {
      "cell_type": "code",
      "execution_count": null,
      "metadata": {
        "colab": {
          "base_uri": "https://localhost:8080/"
        },
        "id": "0DqRujmcQ_iJ",
        "outputId": "463f931e-ab3f-486e-9fc1-55aa8aaf210e"
      },
      "outputs": [
        {
          "output_type": "execute_result",
          "data": {
            "text/plain": [
              "(413, 15)"
            ]
          },
          "metadata": {},
          "execution_count": 64
        }
      ],
      "source": [
        "# сколько выбросов?\n",
        "bikes[bikes['Rental Count'] > iqr_outlier_threshold_up].shape"
      ]
    },
    {
      "cell_type": "markdown",
      "metadata": {
        "id": "bfM_NEnMQ_iK"
      },
      "source": [
        "Иногда: от `mean - 3 * std` до `mean + 3 * std`"
      ]
    },
    {
      "cell_type": "code",
      "execution_count": null,
      "metadata": {
        "id": "LF_T9m4SQ_iK"
      },
      "outputs": [],
      "source": [
        "mean = bikes['Rental Count'].mean()\n",
        "std = bikes['Rental Count'].std()\n",
        "std_outlier_threshold_bottom = mean - 2.5 * std  # а мы сделаем 2.5\n",
        "std_outlier_threshold_up = mean + 2.5 * std"
      ]
    },
    {
      "cell_type": "code",
      "execution_count": null,
      "metadata": {
        "colab": {
          "base_uri": "https://localhost:8080/"
        },
        "id": "P3DqEHEiQ_iK",
        "outputId": "c2fea6a7-783e-44a7-8c89-31d969adc190"
      },
      "outputs": [
        {
          "output_type": "stream",
          "name": "stdout",
          "text": [
            "-1177.949455164326\n",
            "2571.113610415468\n"
          ]
        }
      ],
      "source": [
        "# границы\n",
        "print(std_outlier_threshold_bottom)\n",
        "print(std_outlier_threshold_up)"
      ]
    },
    {
      "cell_type": "code",
      "execution_count": null,
      "metadata": {
        "colab": {
          "base_uri": "https://localhost:8080/"
        },
        "id": "yTXK9v00Q_iK",
        "outputId": "3f2c9454-24c2-4762-b290-f94c1302600d"
      },
      "outputs": [
        {
          "output_type": "execute_result",
          "data": {
            "text/plain": [
              "(278, 15)"
            ]
          },
          "metadata": {},
          "execution_count": 67
        }
      ],
      "source": [
        "# сколько выбросов?\n",
        "bikes[bikes['Rental Count'] > std_outlier_threshold_up].shape"
      ]
    },
    {
      "cell_type": "markdown",
      "metadata": {
        "id": "EEQQX7-gQ_iL"
      },
      "source": [
        "Итого без выбросов:"
      ]
    },
    {
      "cell_type": "code",
      "execution_count": null,
      "metadata": {
        "id": "cQQ17KycQ_iL"
      },
      "outputs": [],
      "source": [
        "iqr_bikes_no_outliers = bikes[bikes['Rental Count'] <= iqr_outlier_threshold_up]\n",
        "std_bikes_no_outliers = bikes[bikes['Rental Count'] <= std_outlier_threshold_up]"
      ]
    },
    {
      "cell_type": "code",
      "execution_count": null,
      "metadata": {
        "colab": {
          "base_uri": "https://localhost:8080/"
        },
        "id": "Kp2CteVjQ_iL",
        "outputId": "5947bfe6-eb47-492d-f38a-c5d68b30894c"
      },
      "outputs": [
        {
          "output_type": "stream",
          "name": "stdout",
          "text": [
            "696.5820776255708\n",
            "425.5\n",
            "584.146280100635\n",
            "392.0\n",
            "613.2393303466164\n",
            "402.0\n"
          ]
        }
      ],
      "source": [
        "print(bikes['Rental Count'].mean())  # с выбросами\n",
        "print(bikes['Rental Count'].median())  # с выбросами\n",
        "\n",
        "print(iqr_bikes_no_outliers['Rental Count'].mean())\n",
        "print(iqr_bikes_no_outliers['Rental Count'].median())\n",
        "\n",
        "print(std_bikes_no_outliers['Rental Count'].mean())\n",
        "print(std_bikes_no_outliers['Rental Count'].median())"
      ]
    },
    {
      "cell_type": "markdown",
      "metadata": {
        "id": "HhVXSsSZQ_iL"
      },
      "source": [
        "Когда мы убираем выбросы, разница между средним и медианой становится меньше."
      ]
    },
    {
      "cell_type": "code",
      "execution_count": null,
      "metadata": {
        "colab": {
          "base_uri": "https://localhost:8080/"
        },
        "id": "yhBczJglQ_iL",
        "outputId": "b6ae9018-4cd1-4c97-90cd-75fbcb8f1f4b"
      },
      "outputs": [
        {
          "output_type": "stream",
          "name": "stdout",
          "text": [
            "271.08207762557083\n",
            "192.14628010063495\n",
            "211.23933034661638\n"
          ]
        }
      ],
      "source": [
        "print(bikes['Rental Count'].mean() - bikes['Rental Count'].median())  # с выбросами\n",
        "\n",
        "print(iqr_bikes_no_outliers['Rental Count'].mean() - iqr_bikes_no_outliers['Rental Count'].median())\n",
        "\n",
        "print(std_bikes_no_outliers['Rental Count'].mean() - std_bikes_no_outliers['Rental Count'].median())"
      ]
    }
  ],
  "metadata": {
    "kernelspec": {
      "display_name": "Python 3 (ipykernel)",
      "language": "python",
      "name": "python3"
    },
    "language_info": {
      "codemirror_mode": {
        "name": "ipython",
        "version": 3
      },
      "file_extension": ".py",
      "mimetype": "text/x-python",
      "name": "python",
      "nbconvert_exporter": "python",
      "pygments_lexer": "ipython3",
      "version": "3.12.0"
    },
    "colab": {
      "provenance": []
    }
  },
  "nbformat": 4,
  "nbformat_minor": 0
}
