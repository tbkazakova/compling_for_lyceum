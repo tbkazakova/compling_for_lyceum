{
  "cells": [
    {
      "cell_type": "markdown",
      "metadata": {
        "id": "fYywIr2Z_AX6"
      },
      "source": [
        "# Немного кода для обкачивания интернета\n",
        "## Модуль [requests](https://realpython.com/python-requests/)"
      ]
    },
    {
      "cell_type": "markdown",
      "metadata": {
        "id": "JLnwtjiP_hRp"
      },
      "source": [
        "Давайте посмотрим html формат\n",
        "\n",
        "Лучший учебник - https://www.w3schools.com"
      ]
    },
    {
      "cell_type": "markdown",
      "metadata": {
        "id": "aJGCdfstREZq"
      },
      "source": [
        "![](https://raw.githubusercontent.com/tbkazakova/compling_for_lyceum/main/data/tag.png \"tag\")\n",
        "\n",
        "Вот пример очень простого сайта в интернете https://itcorp.com/, зарегистрированного в 1986 году.\n",
        "\n",
        "И сайта посложнее https://spork.org/, посвящённый ложковилке (последнее обновление в 1996).\n",
        "\n",
        "Теперь скачаем html страничку"
      ]
    },
    {
      "cell_type": "code",
      "execution_count": 1,
      "metadata": {
        "id": "uOwpwZplC97N"
      },
      "outputs": [],
      "source": [
        "import requests"
      ]
    },
    {
      "cell_type": "code",
      "execution_count": 2,
      "metadata": {
        "id": "Ktnhb0JpKfzJ",
        "colab": {
          "base_uri": "https://localhost:8080/"
        },
        "outputId": "fe244c7e-5db5-4cad-9357-bdadd3749c5e"
      },
      "outputs": [
        {
          "output_type": "stream",
          "name": "stderr",
          "text": [
            "/usr/local/lib/python3.11/dist-packages/urllib3/connectionpool.py:1097: InsecureRequestWarning: Unverified HTTPS request is being made to host 'zoonovosib.ru'. Adding certificate verification is strongly advised. See: https://urllib3.readthedocs.io/en/latest/advanced-usage.html#tls-warnings\n",
            "  warnings.warn(\n"
          ]
        }
      ],
      "source": [
        "URL = 'https://zoonovosib.ru/news/skolko-malyshey-rozhdaetsya-v-novosibirskom-zooparke-ezhegodno/'\n",
        "response = requests.get(URL, verify=False)"
      ]
    },
    {
      "cell_type": "code",
      "source": [
        "# отключим предупреждения\n",
        "from urllib3.exceptions import InsecureRequestWarning\n",
        "from urllib3 import disable_warnings\n",
        "disable_warnings(InsecureRequestWarning)"
      ],
      "metadata": {
        "id": "nO05s6BfW2jV"
      },
      "execution_count": 6,
      "outputs": []
    },
    {
      "cell_type": "code",
      "source": [
        "response = requests.get(URL, verify=False)"
      ],
      "metadata": {
        "id": "eUFjmYoGiwQd"
      },
      "execution_count": 7,
      "outputs": []
    },
    {
      "cell_type": "markdown",
      "metadata": {
        "id": "U-IkRMH6__Px"
      },
      "source": [
        "В `response` теперь лежит ответ сервера. Это не просто html-код страницы, а еще дополнительная информация"
      ]
    },
    {
      "cell_type": "code",
      "execution_count": 8,
      "metadata": {
        "colab": {
          "base_uri": "https://localhost:8080/"
        },
        "id": "s-4_rqv2Kkyw",
        "outputId": "96d30695-37b0-444a-aa1b-6caff00f8d59"
      },
      "outputs": [
        {
          "output_type": "execute_result",
          "data": {
            "text/plain": [
              "<Response [200]>"
            ]
          },
          "metadata": {},
          "execution_count": 8
        }
      ],
      "source": [
        "response"
      ]
    },
    {
      "cell_type": "code",
      "execution_count": 6,
      "metadata": {
        "colab": {
          "base_uri": "https://localhost:8080/"
        },
        "id": "_QV-ZP7JK4Hw",
        "outputId": "84c4c807-d672-4581-a801-3a742b6b6107"
      },
      "outputs": [
        {
          "output_type": "execute_result",
          "data": {
            "text/plain": [
              "200"
            ]
          },
          "metadata": {},
          "execution_count": 6
        }
      ],
      "source": [
        "response.status_code\n",
        "# 200 - \"всё работает\"\n",
        "# 404, 503 и др. - \"произошла ошибка, не работает, такой страницы нет и т.д.\""
      ]
    },
    {
      "cell_type": "code",
      "execution_count": 9,
      "metadata": {
        "colab": {
          "base_uri": "https://localhost:8080/"
        },
        "id": "DQy6dsT_K4tx",
        "outputId": "ce640934-da7c-468b-df16-8f6cf5f2131b"
      },
      "outputs": [
        {
          "output_type": "stream",
          "name": "stdout",
          "text": [
            "<!DOCTYPE html>\n",
            "<html>\n",
            "<head>\n",
            "    <meta charset=\"UTF-8\">\n",
            "\n",
            "    <meta name=\"viewport\" content=\"width=device-width\">\n",
            "    <meta http-equiv=\"X-UA-Compatible\" content=\"ie=edge\">\n",
            "\n",
            "    <link rel=\"shortcut icon\" type=\"i\n"
          ]
        }
      ],
      "source": [
        "# Вывели первые 210 символов html\n",
        "print(response.text[:210])"
      ]
    },
    {
      "cell_type": "markdown",
      "metadata": {
        "id": "QjVXYZO8BL7a"
      },
      "source": [
        "### Что делать, если сайт защищается?\n",
        "\n",
        "Если он защищается от краулеров, можно, например, представиться Мозиллой:"
      ]
    },
    {
      "cell_type": "code",
      "execution_count": 8,
      "metadata": {
        "id": "gWMd6GBrK_UB"
      },
      "outputs": [],
      "source": [
        "user_agent = 'Mozilla/5.0 (Windows NT 6.1; Win64; x64)'  # хотим притворяться браузером\n",
        "\n",
        "response = requests.get(URL, headers={'User-Agent':user_agent}, verify=False)"
      ]
    },
    {
      "cell_type": "markdown",
      "metadata": {
        "id": "VNdvicGoBYol"
      },
      "source": [
        "Или использовать **специальную библиотеку**:"
      ]
    },
    {
      "cell_type": "code",
      "execution_count": 27,
      "metadata": {
        "id": "WZib0tqxMigz",
        "colab": {
          "base_uri": "https://localhost:8080/"
        },
        "outputId": "9d88392e-95e7-491b-aad4-f95932bbeba6"
      },
      "outputs": [
        {
          "output_type": "stream",
          "name": "stdout",
          "text": [
            "Collecting fake-useragent\n",
            "  Downloading fake_useragent-2.1.0-py3-none-any.whl.metadata (17 kB)\n",
            "Downloading fake_useragent-2.1.0-py3-none-any.whl (125 kB)\n",
            "\u001b[2K   \u001b[90m━━━━━━━━━━━━━━━━━━━━━━━━━━━━━━━━━━━━━━━━\u001b[0m \u001b[32m125.8/125.8 kB\u001b[0m \u001b[31m3.3 MB/s\u001b[0m eta \u001b[36m0:00:00\u001b[0m\n",
            "\u001b[?25hInstalling collected packages: fake-useragent\n",
            "Successfully installed fake-useragent-2.1.0\n"
          ]
        }
      ],
      "source": [
        "! pip3 install fake-useragent"
      ]
    },
    {
      "cell_type": "code",
      "execution_count": 28,
      "metadata": {
        "id": "GLd99b4pLCfD"
      },
      "outputs": [],
      "source": [
        "from fake_useragent import UserAgent"
      ]
    },
    {
      "cell_type": "code",
      "execution_count": 29,
      "metadata": {
        "colab": {
          "base_uri": "https://localhost:8080/",
          "height": 53
        },
        "id": "5bibnHRjLEfC",
        "outputId": "b32e7a56-1a61-470a-da85-a3fcb17c7ae4"
      },
      "outputs": [
        {
          "output_type": "execute_result",
          "data": {
            "text/plain": [
              "'Mozilla/5.0 (Linux; Android 10; K) AppleWebKit/537.36 (KHTML, like Gecko) Chrome/133.0.0.0 Mobile Safari/537.36'"
            ],
            "application/vnd.google.colaboratory.intrinsic+json": {
              "type": "string"
            }
          },
          "metadata": {},
          "execution_count": 29
        }
      ],
      "source": [
        "user_agent = UserAgent().chrome\n",
        "user_agent"
      ]
    },
    {
      "cell_type": "code",
      "execution_count": 13,
      "metadata": {
        "id": "FBB20VwfLG19"
      },
      "outputs": [],
      "source": [
        "response = requests.get(URL,\n",
        "                        headers={'User-Agent':user_agent},\n",
        "                        verify=False)"
      ]
    },
    {
      "cell_type": "markdown",
      "metadata": {
        "id": "WuGPf28UREfT"
      },
      "source": [
        "Или **прокси-сервер**. Это дополнительное звено между вами и интернетом, через него пойдет подключение и сайт не будет знать, что это вы посылаете запрос.\n",
        "\n",
        "Адреса прокси можно взять со специальных сайтов. И потом проверить, что они рабочие, прежде чем использовать https://checkerproxy.net/"
      ]
    },
    {
      "cell_type": "markdown",
      "metadata": {
        "id": "DA5bj-K0REfT"
      },
      "source": [
        "[Пример сервиса](https://whatismyipaddress.com/ip-lookup), который позволяет с некоторой точностью отследить по IP адресу\n",
        "\n",
        "Возвращаемся к скачиванию странички."
      ]
    },
    {
      "cell_type": "code",
      "source": [
        "response"
      ],
      "metadata": {
        "colab": {
          "base_uri": "https://localhost:8080/"
        },
        "id": "xg0qQA_hwoDO",
        "outputId": "fdd861e2-385e-4b7e-9b35-a8a7c9704ec8"
      },
      "execution_count": 10,
      "outputs": [
        {
          "output_type": "execute_result",
          "data": {
            "text/plain": [
              "<Response [200]>"
            ]
          },
          "metadata": {},
          "execution_count": 10
        }
      ]
    },
    {
      "cell_type": "code",
      "execution_count": 11,
      "metadata": {
        "colab": {
          "base_uri": "https://localhost:8080/",
          "height": 53
        },
        "id": "r9WjpAVTLRBq",
        "outputId": "a1d257d8-5a33-4eea-a020-34545d4568a2"
      },
      "outputs": [
        {
          "output_type": "execute_result",
          "data": {
            "text/plain": [
              "'https://zoonovosib.ru/news/skolko-malyshey-rozhdaetsya-v-novosibirskom-zooparke-ezhegodno/'"
            ],
            "application/vnd.google.colaboratory.intrinsic+json": {
              "type": "string"
            }
          },
          "metadata": {},
          "execution_count": 11
        }
      ],
      "source": [
        "response.url  #ссылка"
      ]
    },
    {
      "cell_type": "code",
      "execution_count": 12,
      "metadata": {
        "colab": {
          "base_uri": "https://localhost:8080/"
        },
        "id": "LDR9cY5NLPAG",
        "outputId": "a9e58711-5a03-4517-f3a3-738a6759dfdc"
      },
      "outputs": [
        {
          "output_type": "stream",
          "name": "stdout",
          "text": [
            "<!DOCTYPE html>\n",
            "<html>\n",
            "<head>\n",
            "    <meta charset=\"UTF-8\">\n",
            "\n",
            "    <meta name=\"viewport\" content=\"width=device-width\">\n",
            "    <meta http-equiv=\"X-UA-Compatible\" content=\"ie=edge\">\n",
            "\n",
            "    <link rel=\"shortcut icon\" type=\"image/x-icon\" href=\"/favicon.ico\" />\n",
            "    <title>СКОЛЬКО МАЛЫШЕЙ РОЖДАЕТСЯ В НОВОСИБИРСКОМ З\n"
          ]
        }
      ],
      "source": [
        "print(response.text[:300])  #html код"
      ]
    },
    {
      "cell_type": "markdown",
      "metadata": {
        "id": "u0eOPE4kLVY-"
      },
      "source": [
        "Существует несколько вариантов, как достать что-то из определенного тега, например, достать заголовок:\n",
        "\n",
        "- регулярные выражения (плохой вариант)\n",
        "- специальные библиотеки питона, например, BeautifulSoup (bs4) или lxml (хороший вариант)\n"
      ]
    },
    {
      "cell_type": "markdown",
      "metadata": {
        "id": "-GdBspHUREgn"
      },
      "source": [
        "Регулярными выражениями мы уже умеем:"
      ]
    },
    {
      "cell_type": "code",
      "execution_count": 13,
      "metadata": {
        "id": "Rgwa1-kzREgn"
      },
      "outputs": [],
      "source": [
        "import re"
      ]
    },
    {
      "cell_type": "code",
      "execution_count": 14,
      "metadata": {
        "colab": {
          "base_uri": "https://localhost:8080/",
          "height": 261
        },
        "id": "9RTAzyIXREgr",
        "outputId": "6add3e04-ef28-49ab-c967-8f2565d7c717"
      },
      "outputs": [
        {
          "output_type": "execute_result",
          "data": {
            "text/plain": [
              "'<div class=\"detail-text\">\\n            Новосибирский зоопарк регулярно рассказывает о детенышах, появившихся на свет в семьях животных. Ежегодно мы публикуем десятки историй о малышах. При этом многое остается нерассказанным, потому что коллекция очень большая. Но все события, все рождения фиксируются в документах, остаются в нашей летописи. Сегодня мы публикуем некоторые цифры, которые показывают результаты работы зоологического парка по получению потомства от животных и сохранению биологического разнообразия. <br>\\r\\n <br>\\r\\n В настоящее время в коллекции Новосибирского зоопарка представлено 803 вида, свыше 10 тысяч особей. В 2024 году было получено потомство от более 270 видов животных. Малыши рождались в семьях хищников, копытных, птиц, приматов, грызунов, рептилий, и все получали максимум заботы. <br>\\r\\n <br>\\r\\n У млекопитающих в общей сложности родилось более 250 детенышей. Среди них были малыши редких исчезающих видов, и каждый такой детеныш очень важен. Историческим событием стало рождение дальневосточного леопарда. Среди знаковых видов, безусловно, стоит выделить всеобщих любимцев – манулов. В 2024 году в Новосибирском зоопарке в семьях манулов появились на свет 12 котят. Таких результатов нет больше ни в одном зоологическом парке. <br>\\r\\n <br>\\r\\n В прошлом году более 40 видов птиц дали потомство. Всего было свыше 300 птенцов, часть из них инкубировались искусственно, а часть осталась под родителями. Уникальным достижением в масштабах Сибири стало рождение птенца от пары бородачей. Работа в этом направлении велась много лет, и в 2024 году на свет появился замечательный малыш. Птенца вырастили сами родители. <br>\\r\\n <br>\\r\\n Амфибии, рыбы, рептилии и беспозвоночные в сумме пополнили коллекцию зоопарка более чем на 6,5 тысяч особей. Особо ценным было рождение трех детенышей мадагаскарского удава, а также пятерых малышей полосатого геккона. Потомство данных видов в Новосибирском зоопарке получено впервые. <br>\\r\\n <br>\\r\\n Успешно размножаются и животные в подсобном хозяйстве зоопарка, которое расположено в поселке Барлак. В 2024 году там родились более 1500 голов овец, камерунских коз, лошадей и крупного рогатого скота. <br>\\r\\n <br>\\r\\nБлагодаря профессионализму, слаженной работе и огромной преданности своему делу зоологов, ветеринарных врачей и киперов Новосибирский зоопарк получает высокие результаты по рождаемости и сохранению молодняка.    </div>'"
            ],
            "application/vnd.google.colaboratory.intrinsic+json": {
              "type": "string"
            }
          },
          "metadata": {},
          "execution_count": 14
        }
      ],
      "source": [
        "code = response.text\n",
        "re.search(r'<div class=\"detail-text\">(.|\\n)*?<\\/div>', code).group()"
      ]
    },
    {
      "cell_type": "markdown",
      "metadata": {
        "id": "vjn6ou4TREgt"
      },
      "source": [
        "Теперь умный способ:"
      ]
    },
    {
      "cell_type": "code",
      "execution_count": 15,
      "metadata": {
        "id": "Plyfqjj6LbUu"
      },
      "outputs": [],
      "source": [
        "from bs4 import BeautifulSoup"
      ]
    },
    {
      "cell_type": "code",
      "execution_count": 16,
      "metadata": {
        "colab": {
          "base_uri": "https://localhost:8080/"
        },
        "id": "X0KZwMnlLb_P",
        "outputId": "6c805ffd-44c0-403c-f16a-352e949a4eef"
      },
      "outputs": [
        {
          "output_type": "stream",
          "name": "stdout",
          "text": [
            "<!DOCTYPE html>\n",
            "<html>\n",
            " <head>\n",
            "  <meta charset=\"utf-8\"/>\n",
            "  <meta content=\"width=device-width\" name=\"viewport\"/>\n",
            "  <meta content=\"ie=edge\" http-equiv=\"X-UA-Compatible\"/>\n",
            "  <link href=\"/favicon.ico\" rel=\"shortcut icon\" type=\"image/x-icon\"/>\n",
            "  <title>\n",
            "   СКОЛЬКО МАЛЫШЕЙ РОЖДАЕТСЯ В НОВОСИБИРСКОМ ЗООПАРКЕ ЕЖЕГОДНО\n",
            "  </title>\n",
            "  <meta content=\"text/html; charset=utf-8\" http-equiv=\"Content-Type\">\n",
            "   <meta content=\"index, follow\" name=\"robots\">\n",
            "    <meta content=\"новости новосибирского зоопарка, зоопарк\n"
          ]
        }
      ],
      "source": [
        "# инициализируем (создаем) soup из response.text (кода страницы)\n",
        "soup = BeautifulSoup(response.text, 'html.parser')\n",
        "print(soup.prettify()[:500])  # печатаем приукрашенный суп"
      ]
    },
    {
      "cell_type": "markdown",
      "metadata": {
        "id": "I_aRES2gkKKv"
      },
      "source": [
        "Если мы хотим вывести заголовок, нужно посмотреть, какими тегами он оформляется.\n",
        "\n",
        "Заходим на наш сайт\n",
        "\n",
        "На этом конкретном сайте заголовки лежат внутри тегов `cp-banner`"
      ]
    },
    {
      "cell_type": "code",
      "execution_count": 22,
      "metadata": {
        "colab": {
          "base_uri": "https://localhost:8080/"
        },
        "id": "i6pUDHujDjy8",
        "outputId": "3d560eec-0623-4731-8708-1a4a269a0182"
      },
      "outputs": [
        {
          "output_type": "stream",
          "name": "stdout",
          "text": [
            "<h1>\n",
            " СКОЛЬКО МАЛЫШЕЙ РОЖДАЕТСЯ В НОВОСИБИРСКОМ ЗООПАРКЕ ЕЖЕГОДНО\n",
            "</h1>\n",
            "\n"
          ]
        }
      ],
      "source": [
        "name = soup.find('h1')\n",
        "print(name.prettify())"
      ]
    },
    {
      "cell_type": "code",
      "source": [
        "name"
      ],
      "metadata": {
        "colab": {
          "base_uri": "https://localhost:8080/"
        },
        "id": "FfHlFnd81JI-",
        "outputId": "3233f2cc-eb08-4167-ed77-ad31963f7c40"
      },
      "execution_count": 18,
      "outputs": [
        {
          "output_type": "execute_result",
          "data": {
            "text/plain": [
              "<h1>СКОЛЬКО МАЛЫШЕЙ РОЖДАЕТСЯ В НОВОСИБИРСКОМ ЗООПАРКЕ ЕЖЕГОДНО</h1>"
            ]
          },
          "metadata": {},
          "execution_count": 18
        }
      ]
    },
    {
      "cell_type": "markdown",
      "metadata": {
        "id": "NN5ADB3Oq3fK"
      },
      "source": [
        "Нас интересует только текст, поэтому сделаем `get_text`"
      ]
    },
    {
      "cell_type": "code",
      "execution_count": 19,
      "metadata": {
        "colab": {
          "base_uri": "https://localhost:8080/"
        },
        "id": "F17TqugpFW6N",
        "outputId": "2b3c7b23-c262-4b70-a1de-4d5af556a9f6"
      },
      "outputs": [
        {
          "output_type": "stream",
          "name": "stdout",
          "text": [
            "СКОЛЬКО МАЛЫШЕЙ РОЖДАЕТСЯ В НОВОСИБИРСКОМ ЗООПАРКЕ ЕЖЕГОДНО\n"
          ]
        }
      ],
      "source": [
        "print(name.get_text())"
      ]
    },
    {
      "cell_type": "markdown",
      "metadata": {
        "id": "m3PunNcLyUif"
      },
      "source": [
        "Если бы на странице было несколько  `<h1>`, нужно было бы подробнее прописать, где лежит именно наш тег.\n",
        "\n",
        "Например, наш тег лежит в теге `<main>`, поэтому мы могли сделать `soup.select('main' > 'h1')`, это бы выдало нам все `<h1>` внутри `<main>`."
      ]
    },
    {
      "cell_type": "markdown",
      "metadata": {
        "id": "XEGa2yGZ-nPY"
      },
      "source": [
        "А теперь найдём текст новости.\n",
        "\n",
        "Он лежит в теге `<div class=\"detail-text\">`\n",
        "\n",
        "\\- Как устроен этот тег?\n",
        "\n",
        "\\- div - имя тега, class - имя атрибута, \"detail-text\" - значение атрибута (атрибутов может быть много)"
      ]
    },
    {
      "cell_type": "code",
      "execution_count": 23,
      "metadata": {
        "colab": {
          "base_uri": "https://localhost:8080/"
        },
        "id": "m3jmWqZ2Lmqu",
        "outputId": "81f570a3-51c9-4fc9-fffe-f176e067bdc9"
      },
      "outputs": [
        {
          "output_type": "stream",
          "name": "stdout",
          "text": [
            "<div class=\"detail-text\">\n",
            " Новосибирский зоопарк регулярно рассказывает о детенышах, появившихся на свет в семьях животных. Ежегодно мы публикуем десятки историй о малышах. При этом многое остается нерассказанным, потому что коллекция очень большая. Но все события, все рождения фиксируются в документах, остаются в нашей летописи. Сегодня мы публикуем некоторые цифры, которые показывают результаты работы зоологического парка по получению потомства от животных и сохранению биологического разнообразия.\n",
            " <br/>\n",
            " <br/>\n",
            " В настоящее время в коллекции Новосибирского зоопарка представлено 803 вида, свыше 10 тысяч особей. В 2024 году было получено потомство от более 270 видов животных. Малыши рождались в семьях хищников, копытных, птиц, приматов, грызунов, рептилий, и все получали максимум заботы.\n",
            " <br/>\n",
            " <br/>\n",
            " У млекопитающих в общей сложности родилось более 250 детенышей. Среди них были малыши редких исчезающих видов, и каждый такой детеныш очень важен. Историческим событием стало рождение дальневосточного леопарда. Среди знаковых видов, безусловно, стоит выделить всеобщих любимцев – манулов. В 2024 году в Новосибирском зоопарке в семьях манулов появились на свет 12 котят. Таких результатов нет больше ни в одном зоологическом парке.\n",
            " <br/>\n",
            " <br/>\n",
            " В прошлом году более 40 видов птиц дали потомство. Всего было свыше 300 птенцов, часть из них инкубировались искусственно, а часть осталась под родителями. Уникальным достижением в масштабах Сибири стало рождение птенца от пары бородачей. Работа в этом направлении велась много лет, и в 2024 году на свет появился замечательный малыш. Птенца вырастили сами родители.\n",
            " <br/>\n",
            " <br/>\n",
            " Амфибии, рыбы, рептилии и беспозвоночные в сумме пополнили коллекцию зоопарка более чем на 6,5 тысяч особей. Особо ценным было рождение трех детенышей мадагаскарского удава, а также пятерых малышей полосатого геккона. Потомство данных видов в Новосибирском зоопарке получено впервые.\n",
            " <br/>\n",
            " <br/>\n",
            " Успешно размножаются и животные в подсобном хозяйстве зоопарка, которое расположено в поселке Барлак. В 2024 году там родились более 1500 голов овец, камерунских коз, лошадей и крупного рогатого скота.\n",
            " <br/>\n",
            " <br/>\n",
            " Благодаря профессионализму, слаженной работе и огромной преданности своему делу зоологов, ветеринарных врачей и киперов Новосибирский зоопарк получает высокие результаты по рождаемости и сохранению молодняка.\n",
            "</div>\n",
            "\n"
          ]
        }
      ],
      "source": [
        "post = soup.find('div', {'class':\"detail-text\"})  # вот так можно указать атрибуты тегов\n",
        "print(post.prettify())"
      ]
    },
    {
      "cell_type": "code",
      "execution_count": 24,
      "metadata": {
        "colab": {
          "base_uri": "https://localhost:8080/"
        },
        "id": "yqphtp2aGvAa",
        "outputId": "111a3926-1dee-47b3-9109-4f53831511cd"
      },
      "outputs": [
        {
          "output_type": "stream",
          "name": "stdout",
          "text": [
            "\n",
            "            Новосибирский зоопарк регулярно рассказывает о детенышах, появившихся на свет в семьях животных. Ежегодно мы публикуем десятки историй о малышах. При этом многое остается нерассказанным, потому что коллекция очень большая. Но все события, все рождения фиксируются в документах, остаются в нашей летописи. Сегодня мы публикуем некоторые цифры, которые показывают результаты работы зоологического парка по получению потомства от животных и сохранению биологического разнообразия. \n",
            "\r\n",
            " В настоящее время в коллекции Новосибирского зоопарка представлено 803 вида, свыше 10 тысяч особей. В 2024 году было получено потомство от более 270 видов животных. Малыши рождались в семьях хищников, копытных, птиц, приматов, грызунов, рептилий, и все получали максимум заботы. \n",
            "\r\n",
            " У млекопитающих в общей сложности родилось более 250 детенышей. Среди них были малыши редких исчезающих видов, и каждый такой детеныш очень важен. Историческим событием стало рождение дальневосточного леопарда. Среди знаковых видов, безусловно, стоит выделить всеобщих любимцев – манулов. В 2024 году в Новосибирском зоопарке в семьях манулов появились на свет 12 котят. Таких результатов нет больше ни в одном зоологическом парке. \n",
            "\r\n",
            " В прошлом году более 40 видов птиц дали потомство. Всего было свыше 300 птенцов, часть из них инкубировались искусственно, а часть осталась под родителями. Уникальным достижением в масштабах Сибири стало рождение птенца от пары бородачей. Работа в этом направлении велась много лет, и в 2024 году на свет появился замечательный малыш. Птенца вырастили сами родители. \n",
            "\r\n",
            " Амфибии, рыбы, рептилии и беспозвоночные в сумме пополнили коллекцию зоопарка более чем на 6,5 тысяч особей. Особо ценным было рождение трех детенышей мадагаскарского удава, а также пятерых малышей полосатого геккона. Потомство данных видов в Новосибирском зоопарке получено впервые. \n",
            "\r\n",
            " Успешно размножаются и животные в подсобном хозяйстве зоопарка, которое расположено в поселке Барлак. В 2024 году там родились более 1500 голов овец, камерунских коз, лошадей и крупного рогатого скота. \n",
            "\r\n",
            "Благодаря профессионализму, слаженной работе и огромной преданности своему делу зоологов, ветеринарных врачей и киперов Новосибирский зоопарк получает высокие результаты по рождаемости и сохранению молодняка.    \n"
          ]
        }
      ],
      "source": [
        "text = post.get_text()  # получили текст\n",
        "print(text)"
      ]
    },
    {
      "cell_type": "code",
      "execution_count": 25,
      "metadata": {
        "colab": {
          "base_uri": "https://localhost:8080/",
          "height": 261
        },
        "id": "9nJUOTGgREiZ",
        "outputId": "1fb1a3af-5b8b-4609-9215-473dce8e242f"
      },
      "outputs": [
        {
          "output_type": "execute_result",
          "data": {
            "text/plain": [
              "'\\n            Новосибирский зоопарк регулярно рассказывает о детенышах, появившихся на свет в семьях животных. Ежегодно мы публикуем десятки историй о малышах. При этом многое остается нерассказанным, потому что коллекция очень большая. Но все события, все рождения фиксируются в документах, остаются в нашей летописи. Сегодня мы публикуем некоторые цифры, которые показывают результаты работы зоологического парка по получению потомства от животных и сохранению биологического разнообразия. \\n\\r\\n В настоящее время в коллекции Новосибирского зоопарка представлено 803 вида, свыше 10 тысяч особей. В 2024 году было получено потомство от более 270 видов животных. Малыши рождались в семьях хищников, копытных, птиц, приматов, грызунов, рептилий, и все получали максимум заботы. \\n\\r\\n У млекопитающих в общей сложности родилось более 250 детенышей. Среди них были малыши редких исчезающих видов, и каждый такой детеныш очень важен. Историческим событием стало рождение дальневосточного леопарда. Среди знаковых видов, безусловно, стоит выделить всеобщих любимцев – манулов. В 2024 году в Новосибирском зоопарке в семьях манулов появились на свет 12 котят. Таких результатов нет больше ни в одном зоологическом парке. \\n\\r\\n В прошлом году более 40 видов птиц дали потомство. Всего было свыше 300 птенцов, часть из них инкубировались искусственно, а часть осталась под родителями. Уникальным достижением в масштабах Сибири стало рождение птенца от пары бородачей. Работа в этом направлении велась много лет, и в 2024 году на свет появился замечательный малыш. Птенца вырастили сами родители. \\n\\r\\n Амфибии, рыбы, рептилии и беспозвоночные в сумме пополнили коллекцию зоопарка более чем на 6,5 тысяч особей. Особо ценным было рождение трех детенышей мадагаскарского удава, а также пятерых малышей полосатого геккона. Потомство данных видов в Новосибирском зоопарке получено впервые. \\n\\r\\n Успешно размножаются и животные в подсобном хозяйстве зоопарка, которое расположено в поселке Барлак. В 2024 году там родились более 1500 голов овец, камерунских коз, лошадей и крупного рогатого скота. \\n\\r\\nБлагодаря профессионализму, слаженной работе и огромной преданности своему делу зоологов, ветеринарных врачей и киперов Новосибирский зоопарк получает высокие результаты по рождаемости и сохранению молодняка.    '"
            ],
            "application/vnd.google.colaboratory.intrinsic+json": {
              "type": "string"
            }
          },
          "metadata": {},
          "execution_count": 25
        }
      ],
      "source": [
        "text"
      ]
    },
    {
      "cell_type": "markdown",
      "metadata": {
        "id": "XTkUT9bqG16z"
      },
      "source": [
        "Вот здесь можно [посмотреть часть документации BeautifulSoup](https://www.crummy.com/software/BeautifulSoup/bs4/doc.ru/bs4ru.html)"
      ]
    },
    {
      "cell_type": "markdown",
      "metadata": {
        "id": "LVWbQHYzREia"
      },
      "source": [
        "### Пишем краулер\n",
        "\n",
        "Теперь давайте обкачаем несколько новостей.\n",
        "\n",
        "1. Где взять ссылки на новости?"
      ]
    },
    {
      "cell_type": "code",
      "execution_count": 30,
      "metadata": {
        "id": "-gWmjH1MREia"
      },
      "outputs": [],
      "source": [
        "news_url = 'https://zoonovosib.ru/news/'\n",
        "response = requests.get(news_url,\n",
        "                        headers={'User-Agent':user_agent},\n",
        "                        verify=False)\n",
        "soup = BeautifulSoup(response.text, 'html.parser')"
      ]
    },
    {
      "cell_type": "code",
      "execution_count": 39,
      "metadata": {
        "colab": {
          "base_uri": "https://localhost:8080/"
        },
        "id": "AM8vxVIfREib",
        "outputId": "54ee2525-f2eb-4c63-dbef-0345c2a7a146"
      },
      "outputs": [
        {
          "output_type": "execute_result",
          "data": {
            "text/plain": [
              "<a class=\"text-next\" href=\"/news/skolko-malyshey-rozhdaetsya-v-novosibirskom-zooparke-ezhegodno/\">Читать подробнее <i class=\"gicon-arrow-right\"></i></a>"
            ]
          },
          "metadata": {},
          "execution_count": 39
        }
      ],
      "source": [
        "soup.find_all('a', {'class':\"text-next\"})[0]"
      ]
    },
    {
      "cell_type": "markdown",
      "metadata": {
        "id": "jhDK1C_8REib"
      },
      "source": [
        "2. Как вытащить ссылки из тегов?"
      ]
    },
    {
      "cell_type": "code",
      "execution_count": 29,
      "metadata": {
        "colab": {
          "base_uri": "https://localhost:8080/"
        },
        "id": "nggOxB2zREib",
        "outputId": "f821fe9c-7658-4497-9061-d546b24c6a2b"
      },
      "outputs": [
        {
          "output_type": "stream",
          "name": "stdout",
          "text": [
            "/news/skolko-malyshey-rozhdaetsya-v-novosibirskom-zooparke-ezhegodno/\n",
            "/news/vesennyaya-dekada-pozhilogo-cheloveka-2025/\n",
            "/news/lvitsa-naytiriya-otmechaet-den-rozhdeniya/\n",
            "/news/medvedi-prosnulis-posle-zimney-spyachki/\n",
            "/news/s-dnem-rozhdeniya-katanga-/\n",
            "/news/pokazatelnye-kormleniya-15-16-marta/\n",
            "/news/14-marta-mezhdunarodnyy-den-rek/\n",
            "/news/3-marta-vsemirnyy-den-dikoy-prirody/\n",
            "/news/s-1-marta-menyaetsya-rezhim-raboty-zooparka/\n",
            "/news/pokazatelnye-kormleniya-1-2-marta/\n"
          ]
        }
      ],
      "source": [
        "for a in soup.find_all('a', {'class':\"text-next\"}):\n",
        "    print(a['href'])"
      ]
    },
    {
      "cell_type": "markdown",
      "metadata": {
        "id": "vGVxr0r_REib"
      },
      "source": [
        "3. Как ходить по страницам списков новостей, чтобы доставать ссылки?"
      ]
    },
    {
      "cell_type": "code",
      "execution_count": 40,
      "metadata": {
        "scrolled": true,
        "colab": {
          "base_uri": "https://localhost:8080/"
        },
        "id": "LyRJLakkREic",
        "outputId": "6fdde45a-dc2c-4048-ad11-918de0cc288e",
        "collapsed": true
      },
      "outputs": [
        {
          "output_type": "execute_result",
          "data": {
            "text/plain": [
              "['https://zoonovosib.ru//news/skolko-malyshey-rozhdaetsya-v-novosibirskom-zooparke-ezhegodno/',\n",
              " 'https://zoonovosib.ru//news/vesennyaya-dekada-pozhilogo-cheloveka-2025/',\n",
              " 'https://zoonovosib.ru//news/lvitsa-naytiriya-otmechaet-den-rozhdeniya/',\n",
              " 'https://zoonovosib.ru//news/medvedi-prosnulis-posle-zimney-spyachki/',\n",
              " 'https://zoonovosib.ru//news/s-dnem-rozhdeniya-katanga-/',\n",
              " 'https://zoonovosib.ru//news/pokazatelnye-kormleniya-15-16-marta/',\n",
              " 'https://zoonovosib.ru//news/14-marta-mezhdunarodnyy-den-rek/',\n",
              " 'https://zoonovosib.ru//news/3-marta-vsemirnyy-den-dikoy-prirody/',\n",
              " 'https://zoonovosib.ru//news/s-1-marta-menyaetsya-rezhim-raboty-zooparka/',\n",
              " 'https://zoonovosib.ru//news/pokazatelnye-kormleniya-1-2-marta/',\n",
              " 'https://zoonovosib.ru//news/pokazatelnye-kormleniya-22-23-fevralya/',\n",
              " 'https://zoonovosib.ru//news/novosibirskiy-zoopark-mesto-samykh-neobychnykh-ekskursiy-/',\n",
              " 'https://zoonovosib.ru//news/19-fevralya-den-ornitologa/',\n",
              " 'https://zoonovosib.ru//news/amurskaya-tigritsa-ussuri-vykhodit-v-svet/',\n",
              " 'https://zoonovosib.ru//news/14-21-fevralya-mezhdunarodnaya-nedelya-okhrany-kitov/',\n",
              " 'https://zoonovosib.ru//news/8-fevralya-den-rossiyskoy-nauki/',\n",
              " 'https://zoonovosib.ru//news/izmenilos-vremya-raboty-zooparka/',\n",
              " 'https://zoonovosib.ru//news/belym-medvedyam-belke-i-strelke-ispolnilos-2-goda/',\n",
              " 'https://zoonovosib.ru//news/izmenilsya-rezhim-raboty-nashego-zooparka/',\n",
              " 'https://zoonovosib.ru//news/s-dnyem-rozhdeniya-belyy-medved-kay/',\n",
              " 'https://zoonovosib.ru//news/beloy-medveditse-gerde-17-let/',\n",
              " 'https://zoonovosib.ru//news/v-podsobnom-khozyaystve-zooparka-zavershilas-uborochnaya/',\n",
              " 'https://zoonovosib.ru//news/my-perekhodim-na-zimniy-rezhim-raboty-/',\n",
              " 'https://zoonovosib.ru//news/s-dnyem-narodnogo-edinstva-/',\n",
              " 'https://zoonovosib.ru//news/lev-i-lvitsa-teper-zhivut-vmeste-/',\n",
              " 'https://zoonovosib.ru//news/alla-aleksandrovna-shilo-poluchila-blagodarnost-prezidenta-rossii/',\n",
              " 'https://zoonovosib.ru//news/84-goda-so-dnya-rozhdeniya-rostislava-aleksandrovicha-shilo/',\n",
              " 'https://zoonovosib.ru//news/25-avgusta-novosibirskomu-zooparku-imeni-rostislava-shilo-ispolnitsya-77-let/',\n",
              " 'https://zoonovosib.ru//news/medveditsy-belka-i-strelka-nachinayut-samostoyatelnuyu-zhizn/',\n",
              " 'https://zoonovosib.ru//news/izmeneniya-v-rezhime-raboty-zooparka/',\n",
              " 'https://zoonovosib.ru//news/vstrechayte-afrikanskiy-lev-po-imeni-richard/',\n",
              " 'https://zoonovosib.ru//news/gde-v-volerakh-pryachutsya-olenyata/',\n",
              " 'https://zoonovosib.ru//news/pyatnistye-gieny-novye-zhivotnye-novosibirskogo-zooparka/',\n",
              " 'https://zoonovosib.ru//news/itogi-konkursa-risunkov-i-dekorativno-prikladnogo-iskusstva-krasnoknizhnye-zhivotnye-novosibirskogo-/',\n",
              " 'https://zoonovosib.ru//news/dyuzhina-malenkikh-manulov-/',\n",
              " 'https://zoonovosib.ru//news/pro-chetyrekh-polyarnykh-volchat/',\n",
              " 'https://zoonovosib.ru//news/biletov-na-noch-muzeev-2024-net/',\n",
              " 'https://zoonovosib.ru//news/vstrechayte-nashego-belogo-tigryenka-/',\n",
              " 'https://zoonovosib.ru//news/vsemirnyy-den-pereletnykh-ptits-vremya-novykh-vstrech-i-novykh-znaniy/',\n",
              " 'https://zoonovosib.ru//news/sazhayte-derevya-segodnya-i-vsegda/',\n",
              " 'https://zoonovosib.ru//news/novosibirskiy-zoopark-imeni-r-a-shilo-pozdravlyaet-vsekh-s-79-letiem-pobedy-v-velikoy-otechestvennoy/',\n",
              " 'https://zoonovosib.ru//news/tapiry-dobryaki-iz-yuzhnoy-ameriki-/',\n",
              " 'https://zoonovosib.ru//news/den-pamyati-rostislava-aleksandrovicha-/',\n",
              " 'https://zoonovosib.ru//news/vsemirnyy-den-pingvinov-chto-nuzhno-znat-ob-etikh-ptitsakh/',\n",
              " 'https://zoonovosib.ru//news/stseny-iz-semeynoy-zhizni-lenivtsev/',\n",
              " 'https://zoonovosib.ru//news/itogi-konferentsii-yunyy-biolog/',\n",
              " 'https://zoonovosib.ru//news/21-aprelya-bolshoy-prazdnik-v-novosibirskom-zooparke-imeni-r-a-shilo-priurochennyy-k-prazdnovaniyu-m/',\n",
              " 'https://zoonovosib.ru//news/itogi-konkursa-dvorets-dlya-skvortsa-2024/',\n",
              " 'https://zoonovosib.ru//news/vesennyaya-dekada-pozhilogo-cheloveka-v-novosibirskom-zooparke-/',\n",
              " 'https://zoonovosib.ru//news/priem-rabot-na-konkurs-krasnoknizhnye-zhivotnye-novosibirskogo-zooparka-/']"
            ]
          },
          "metadata": {},
          "execution_count": 40
        }
      ],
      "source": [
        "news_urls = []\n",
        "news_url = 'https://zoonovosib.ru/news/?PAGEN_1='\n",
        "for i in range(1, 6):\n",
        "    response = requests.get(news_url+str(i),\n",
        "                        headers={'User-Agent':user_agent},\n",
        "                        verify=False)\n",
        "    soup = BeautifulSoup(response.text, 'html.parser')\n",
        "    for a in soup.find_all('a', {'class':\"text-next\"}):\n",
        "        news_urls.append('https://zoonovosib.ru/'+a['href'])\n",
        "news_urls"
      ]
    },
    {
      "cell_type": "code",
      "execution_count": 41,
      "metadata": {
        "id": "CtJCr98jREic"
      },
      "outputs": [],
      "source": [
        "# вытащим тексты этих новостей\n",
        "news_texts = []\n",
        "for link in news_urls:\n",
        "    response = requests.get(link,\n",
        "                        headers={'User-Agent':user_agent},\n",
        "                        verify=False)\n",
        "    soup = BeautifulSoup(response.text, 'html.parser')\n",
        "    post = soup.find('div', {'class':\"detail-text\"}).get_text()\n",
        "    news_texts.append(post.strip())"
      ]
    },
    {
      "cell_type": "code",
      "source": [
        "news_texts[5]"
      ],
      "metadata": {
        "colab": {
          "base_uri": "https://localhost:8080/",
          "height": 191
        },
        "id": "lE48Uvuq9se9",
        "outputId": "ba14acd3-c1a2-4a0e-8192-46ba644d3bed"
      },
      "execution_count": 43,
      "outputs": [
        {
          "output_type": "execute_result",
          "data": {
            "text/plain": [
              "'Друзья, ждем вас на показательные кормления в эти выходные!\\n\\n15 марта, суббота\\n\\r\\n 14:00 - Северные олени\\r\\n Уличные вольеры\\r\\n 15:00 - Ленивцы\\r\\n Павильон мелких приматов и пингвинов\\r\\n 15:30 - Снежный барс\\r\\n Уличные вольеры\\r\\n 16:00 - Кустарниковые собаки\\r\\n Павильон муравьедов и кустарниковых собак\\n\\n16 марта, воскресенье\\n\\r\\n 14:00 - Земноводные, водяные агамы\\r\\n Террариум\\r\\n 15:00 - Полосатый варан\\r\\n Павильон мелких приматов и пингвинов\\r\\n 15:00 - Лемуры катта\\r\\n Павильон тропических животных\\n\\r\\n Все выходные с 12:00 до 17:00 на главной площади около фонтана вы можете прокатиться на лошадке или пони. Услуга оплачивается дополнительно.\\n\\r\\nЖдем вас в гости всей семьей или с друзьями в наш зоопарк!'"
            ],
            "application/vnd.google.colaboratory.intrinsic+json": {
              "type": "string"
            }
          },
          "metadata": {},
          "execution_count": 43
        }
      ]
    },
    {
      "cell_type": "code",
      "source": [
        "len(news_texts)"
      ],
      "metadata": {
        "colab": {
          "base_uri": "https://localhost:8080/"
        },
        "id": "UZ6ewNngNrak",
        "outputId": "0fcfddd4-4e5d-40a3-e35d-f3f92ced5ec6"
      },
      "execution_count": 33,
      "outputs": [
        {
          "output_type": "execute_result",
          "data": {
            "text/plain": [
              "50"
            ]
          },
          "metadata": {},
          "execution_count": 33
        }
      ]
    }
  ],
  "metadata": {
    "colab": {
      "provenance": []
    },
    "kernelspec": {
      "display_name": "Python 3 (ipykernel)",
      "language": "python",
      "name": "python3"
    },
    "language_info": {
      "codemirror_mode": {
        "name": "ipython",
        "version": 3
      },
      "file_extension": ".py",
      "mimetype": "text/x-python",
      "name": "python",
      "nbconvert_exporter": "python",
      "pygments_lexer": "ipython3",
      "version": "3.12.0"
    }
  },
  "nbformat": 4,
  "nbformat_minor": 0
}