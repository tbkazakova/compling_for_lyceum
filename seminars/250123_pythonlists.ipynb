{
  "cells": [
    {
      "cell_type": "markdown",
      "metadata": {
        "id": "b1ezduM8O6R5"
      },
      "source": [
        "## Списки\n",
        "\n",
        "В список можно превратить любой итерируемый объект, по которому можно пройти циклом с `for` и у которого есть функция `list()`."
      ]
    },
    {
      "cell_type": "code",
      "execution_count": null,
      "metadata": {
        "colab": {
          "base_uri": "https://localhost:8080/"
        },
        "id": "j-VJacncP9ov",
        "outputId": "47ab9739-c13b-4080-b0e7-15774bdb185e"
      },
      "outputs": [
        {
          "output_type": "execute_result",
          "data": {
            "text/plain": [
              "['с', 'т', 'р', 'о', 'к', 'а']"
            ]
          },
          "metadata": {},
          "execution_count": 5
        }
      ],
      "source": [
        "list('строка')  # это те самые elementы in 'строка'"
      ]
    },
    {
      "cell_type": "code",
      "source": [
        "list(5)"
      ],
      "metadata": {
        "colab": {
          "base_uri": "https://localhost:8080/",
          "height": 141
        },
        "id": "8n9jwGNDPTty",
        "outputId": "24dc5ff7-21cb-4040-bfa9-19a47912849f"
      },
      "execution_count": null,
      "outputs": [
        {
          "output_type": "error",
          "ename": "TypeError",
          "evalue": "'int' object is not iterable",
          "traceback": [
            "\u001b[0;31m---------------------------------------------------------------------------\u001b[0m",
            "\u001b[0;31mTypeError\u001b[0m                                 Traceback (most recent call last)",
            "\u001b[0;32m<ipython-input-4-0c7f5cd48ec1>\u001b[0m in \u001b[0;36m<cell line: 0>\u001b[0;34m()\u001b[0m\n\u001b[0;32m----> 1\u001b[0;31m \u001b[0mlist\u001b[0m\u001b[0;34m(\u001b[0m\u001b[0;36m5\u001b[0m\u001b[0;34m)\u001b[0m\u001b[0;34m\u001b[0m\u001b[0;34m\u001b[0m\u001b[0m\n\u001b[0m",
            "\u001b[0;31mTypeError\u001b[0m: 'int' object is not iterable"
          ]
        }
      ]
    },
    {
      "cell_type": "code",
      "source": [
        "'строка и ещё пара слов'.split()"
      ],
      "metadata": {
        "colab": {
          "base_uri": "https://localhost:8080/"
        },
        "id": "aeGX67b7Pw7F",
        "outputId": "67aa4fe1-78e0-4d38-fbd3-953a18136cc0"
      },
      "execution_count": null,
      "outputs": [
        {
          "output_type": "execute_result",
          "data": {
            "text/plain": [
              "['строка', 'и', 'ещё', 'пара', 'слов']"
            ]
          },
          "metadata": {},
          "execution_count": 9
        }
      ]
    },
    {
      "cell_type": "code",
      "execution_count": null,
      "metadata": {
        "id": "WErRRw7Pr84s"
      },
      "outputs": [],
      "source": [
        "empty_list = []  # можно создать пустой список"
      ]
    },
    {
      "cell_type": "code",
      "source": [
        "empty_list"
      ],
      "metadata": {
        "colab": {
          "base_uri": "https://localhost:8080/"
        },
        "id": "vzfiDGTcQAeZ",
        "outputId": "5da34e82-b1fb-4c08-ec25-9b95e800b7de"
      },
      "execution_count": null,
      "outputs": [
        {
          "output_type": "execute_result",
          "data": {
            "text/plain": [
              "[]"
            ]
          },
          "metadata": {},
          "execution_count": 11
        }
      ]
    },
    {
      "cell_type": "code",
      "execution_count": null,
      "metadata": {
        "id": "xowlmo3CQPNK"
      },
      "outputs": [],
      "source": [
        "# Можно сразу создавать с содержимым\n",
        "\n",
        "some_food = ['сайки', 'коржики', 'коврижки',\n",
        "             'апельсины', 'мандарины', 'малина из корзины',\n",
        "             'на палочках петушки', 'с повидлом пирожки']  # список строк\n",
        "digits = [1, 2, 3, 4, 5, 6, 7, 8, 9]  # список чисел\n",
        "\n",
        "mixed_list = ['год', 2023, True]  # в одном списке могут храниться элементы разных типов\n",
        "matrix = [[1, 2, 3], [4, 5, 6], [7, 8, 9]]  # список может содержать другие списки\n"
      ]
    },
    {
      "cell_type": "markdown",
      "metadata": {
        "id": "ZwkycYwtRvHW"
      },
      "source": [
        "### Методы для списков\n",
        "\n",
        "`.append(x)` - Добавляет элемент в конец списка\n",
        "\n",
        " `.extend(another_list)` - Расширяет список, добавляя в конец все элементы списка another_list\n",
        "\n",
        " `.insert(i, x)` - Вставляет в i-ую позицию в списке значение x\n",
        "\n",
        " `.remove(x)` - Удаляет первый элемент в списке, имеющий значение x\n",
        "\n",
        " `.clear()` - Очищает список\n",
        "\n",
        "\n"
      ]
    },
    {
      "cell_type": "code",
      "source": [
        "a = [1, 2, 3]\n",
        "a.append([4, 5])\n",
        "a"
      ],
      "metadata": {
        "colab": {
          "base_uri": "https://localhost:8080/"
        },
        "outputId": "46747e35-1d81-4bce-d340-6f27356e9159",
        "id": "I_Qr4Up284Kx"
      },
      "execution_count": null,
      "outputs": [
        {
          "output_type": "execute_result",
          "data": {
            "text/plain": [
              "[1, 2, 3, 'jdsn']"
            ]
          },
          "metadata": {},
          "execution_count": 13
        }
      ]
    },
    {
      "cell_type": "code",
      "source": [
        "a = [1, 2, 3]\n",
        "a.extend([4, 5])\n",
        "a"
      ],
      "metadata": {
        "colab": {
          "base_uri": "https://localhost:8080/"
        },
        "outputId": "3c14dd4b-e8cb-4f4b-a7d3-8836c44916fb",
        "id": "UHFxZFBk84Ky"
      },
      "execution_count": null,
      "outputs": [
        {
          "output_type": "execute_result",
          "data": {
            "text/plain": [
              "[1, 2, 3, 4, 5]"
            ]
          },
          "metadata": {},
          "execution_count": 16
        }
      ]
    },
    {
      "cell_type": "code",
      "execution_count": null,
      "metadata": {
        "colab": {
          "base_uri": "https://localhost:8080/"
        },
        "id": "FwU4De6fRz1M",
        "outputId": "562004c3-640d-4e65-e9c4-ae1f4780342d"
      },
      "outputs": [
        {
          "output_type": "stream",
          "name": "stdout",
          "text": [
            "['спать']\n"
          ]
        }
      ],
      "source": [
        "list_of_wishes = []  # Список сиюминутных желаний, когда спрашивают\n",
        "list_of_wishes.append('спать')  # После секунды раздумий\n",
        "print(list_of_wishes)"
      ]
    },
    {
      "cell_type": "code",
      "execution_count": null,
      "metadata": {
        "colab": {
          "base_uri": "https://localhost:8080/"
        },
        "id": "jwafy2hoTfy6",
        "outputId": "0a00521f-e328-4626-d77f-316d378f7e00"
      },
      "outputs": [
        {
          "output_type": "stream",
          "name": "stdout",
          "text": [
            "[1, 2, 3, 5, 6, 7]\n"
          ]
        }
      ],
      "source": [
        "first = [1, 2, 3]\n",
        "second = [5, 6, 7]\n",
        "first.extend(second)\n",
        "print(first)\n",
        "\n",
        "# Осторожно, .extend() изменяет изначальный список first, а не создает новый."
      ]
    },
    {
      "cell_type": "code",
      "execution_count": null,
      "metadata": {
        "id": "bmEbiaSATwS5"
      },
      "outputs": [],
      "source": [
        "first = [1, 2, 3]\n",
        "second = [5, 6, 7]\n",
        "third = first + second\n",
        "# вот так можно создать новый список (использовать +)"
      ]
    },
    {
      "cell_type": "code",
      "source": [
        "third"
      ],
      "metadata": {
        "colab": {
          "base_uri": "https://localhost:8080/"
        },
        "id": "c6SRWABOSZ9I",
        "outputId": "738b78cb-df9e-489f-85d8-15b17edf1387"
      },
      "execution_count": null,
      "outputs": [
        {
          "output_type": "execute_result",
          "data": {
            "text/plain": [
              "[1, 2, 3, 5, 6, 7]"
            ]
          },
          "metadata": {},
          "execution_count": 32
        }
      ]
    },
    {
      "cell_type": "code",
      "source": [
        "'a'*3"
      ],
      "metadata": {
        "colab": {
          "base_uri": "https://localhost:8080/",
          "height": 35
        },
        "id": "rcxcNk0aSgsP",
        "outputId": "1396d2b2-808e-44ef-8fc4-a91803ce6649"
      },
      "execution_count": null,
      "outputs": [
        {
          "output_type": "execute_result",
          "data": {
            "text/plain": [
              "'aaa'"
            ],
            "application/vnd.google.colaboratory.intrinsic+json": {
              "type": "string"
            }
          },
          "metadata": {},
          "execution_count": 33
        }
      ]
    },
    {
      "cell_type": "code",
      "execution_count": null,
      "metadata": {
        "id": "r-aTIKvIaibu",
        "outputId": "d320bd82-04a4-4ac0-a21f-1ddc9765edc3",
        "colab": {
          "base_uri": "https://localhost:8080/"
        }
      },
      "outputs": [
        {
          "output_type": "stream",
          "name": "stdout",
          "text": [
            "[[], [], []]\n"
          ]
        }
      ],
      "source": [
        "lists = [[]] * 3\n",
        "\n",
        "print(lists)"
      ]
    },
    {
      "cell_type": "markdown",
      "metadata": {
        "id": "m-a6ZQGPaibv"
      },
      "source": [
        "Мы размножили ссылку на один единственный список, поэтому когда мы пытаемся посмотреть, что там хранится в списке по ссылке, то видим три одинаковых списка"
      ]
    },
    {
      "cell_type": "code",
      "source": [
        "lists[0].append(3)\n",
        "\n",
        "lists[0]"
      ],
      "metadata": {
        "colab": {
          "base_uri": "https://localhost:8080/"
        },
        "id": "0FUKhYbsSsJH",
        "outputId": "c18ad67d-16b3-40dd-d3d0-ac4b1d99ae67"
      },
      "execution_count": null,
      "outputs": [
        {
          "output_type": "execute_result",
          "data": {
            "text/plain": [
              "[3]"
            ]
          },
          "metadata": {},
          "execution_count": 45
        }
      ]
    },
    {
      "cell_type": "code",
      "source": [
        "print(lists)"
      ],
      "metadata": {
        "colab": {
          "base_uri": "https://localhost:8080/"
        },
        "id": "Hv6B389RS_gc",
        "outputId": "4c1800d0-b69d-452b-8358-610c4191fe24"
      },
      "execution_count": null,
      "outputs": [
        {
          "output_type": "stream",
          "name": "stdout",
          "text": [
            "[[3], [3], [3]]\n"
          ]
        }
      ]
    },
    {
      "cell_type": "markdown",
      "source": [
        "При этом:"
      ],
      "metadata": {
        "id": "Xx7wf4bITqVn"
      }
    },
    {
      "cell_type": "code",
      "source": [
        "lists = [[], [], []]\n",
        "lists[0].append(3)\n",
        "print(lists)"
      ],
      "metadata": {
        "colab": {
          "base_uri": "https://localhost:8080/"
        },
        "id": "EADa8CRWTsWj",
        "outputId": "4362adf3-7fa1-40d8-cda9-d5af041549c2"
      },
      "execution_count": null,
      "outputs": [
        {
          "output_type": "stream",
          "name": "stdout",
          "text": [
            "[[3], [], []]\n"
          ]
        }
      ]
    },
    {
      "cell_type": "markdown",
      "metadata": {
        "id": "qS_8wHqcUDd_"
      },
      "source": [
        "### Тренировка\n",
        "\n",
        "Создадим список слов из `text`\n",
        "\n",
        "- делим текст на слова по пробелоподобным символам (получаем список неочищенных слов)\n",
        "- проходим по словам\n",
        "    - отсекаем пунктуацию\n",
        "    - добавляем очищенное слово в список очищенных слов\n",
        "\n",
        "Напечатаем список очищенных слов"
      ]
    },
    {
      "cell_type": "code",
      "execution_count": null,
      "metadata": {
        "id": "8QUTRVmXr84y"
      },
      "outputs": [],
      "source": [
        "text = '''Очень многие думают, что они умеют летать, –\n",
        "          Ласточки очень многие, лебеди очень многие.\n",
        "          И очень немногие думают, что умеют летать\n",
        "          Лошади очень многие, лошади четвероногие.'''"
      ]
    },
    {
      "cell_type": "code",
      "execution_count": null,
      "metadata": {
        "id": "hnx3xftuUCXy"
      },
      "outputs": [],
      "source": [
        "good_words = []\n",
        "for word in text.split():\n",
        "    good_words.append(word.strip('.,'))"
      ]
    },
    {
      "cell_type": "code",
      "source": [
        "good_words"
      ],
      "metadata": {
        "colab": {
          "base_uri": "https://localhost:8080/"
        },
        "id": "jzillXioXVcD",
        "outputId": "225da57b-85ff-47ac-8e84-299a72202284"
      },
      "execution_count": null,
      "outputs": [
        {
          "output_type": "execute_result",
          "data": {
            "text/plain": [
              "['Очень',\n",
              " 'многие',\n",
              " 'думают',\n",
              " 'что',\n",
              " 'они',\n",
              " 'умеют',\n",
              " 'летать',\n",
              " '–',\n",
              " 'Ласточки',\n",
              " 'очень',\n",
              " 'многие',\n",
              " 'лебеди',\n",
              " 'очень',\n",
              " 'многие',\n",
              " 'И',\n",
              " 'очень',\n",
              " 'немногие',\n",
              " 'думают',\n",
              " 'что',\n",
              " 'умеют',\n",
              " 'летать',\n",
              " 'Лошади',\n",
              " 'очень',\n",
              " 'многие',\n",
              " 'лошади',\n",
              " 'четвероногие']"
            ]
          },
          "metadata": {},
          "execution_count": 58
        }
      ]
    },
    {
      "cell_type": "markdown",
      "metadata": {
        "id": "zWDIClCgU4KN"
      },
      "source": [
        "## Индексы и срезы"
      ]
    },
    {
      "cell_type": "markdown",
      "metadata": {
        "id": "zfE7FXNHVB9O"
      },
      "source": [
        "- элементы нумеруются (“индексируются”) слева направо\n",
        "- **счёт начинается с нуля (0)**"
      ]
    },
    {
      "cell_type": "code",
      "execution_count": null,
      "metadata": {
        "colab": {
          "base_uri": "https://localhost:8080/"
        },
        "id": "5C5lBdNdU3FJ",
        "outputId": "73cda98e-2a56-46f0-afb5-0bc911327302"
      },
      "outputs": [
        {
          "output_type": "stream",
          "name": "stdout",
          "text": [
            "лампочки\n",
            "мыло\n",
            "тесто\n",
            "тесто\n"
          ]
        }
      ],
      "source": [
        "my_purchases = ['лампочки', 'мыло', 'тесто']  # покупки за последнее время\n",
        "\n",
        "# можно обращаться по индексам\n",
        "print(my_purchases[0])  # \"первая\" покупка\n",
        "print(my_purchases[1])  # \"вторая\" покупка\n",
        "print(my_purchases[-1])  # \"последняя\" покупка\n",
        "print(my_purchases[len(my_purchases)-1])  # или так"
      ]
    },
    {
      "cell_type": "code",
      "execution_count": null,
      "metadata": {
        "colab": {
          "base_uri": "https://localhost:8080/",
          "height": 141
        },
        "id": "dzNwn_QrWEKc",
        "outputId": "5d847f91-c427-4e90-e264-1c97095f95f6"
      },
      "outputs": [
        {
          "output_type": "error",
          "ename": "IndexError",
          "evalue": "list index out of range",
          "traceback": [
            "\u001b[0;31m---------------------------------------------------------------------------\u001b[0m",
            "\u001b[0;31mIndexError\u001b[0m                                Traceback (most recent call last)",
            "\u001b[0;32m<ipython-input-63-bd1a4317c96f>\u001b[0m in \u001b[0;36m<cell line: 0>\u001b[0;34m()\u001b[0m\n\u001b[0;32m----> 1\u001b[0;31m \u001b[0mprint\u001b[0m\u001b[0;34m(\u001b[0m\u001b[0mmy_purchases\u001b[0m\u001b[0;34m[\u001b[0m\u001b[0;34m-\u001b[0m\u001b[0;36m10\u001b[0m\u001b[0;34m]\u001b[0m\u001b[0;34m)\u001b[0m  \u001b[0;31m# если такого нет, то ломается\u001b[0m\u001b[0;34m\u001b[0m\u001b[0;34m\u001b[0m\u001b[0m\n\u001b[0m",
            "\u001b[0;31mIndexError\u001b[0m: list index out of range"
          ]
        }
      ],
      "source": [
        "print(my_purchases[-10])  # если такого нет, то ломается"
      ]
    },
    {
      "cell_type": "markdown",
      "metadata": {
        "id": "w6NOYKarWdIq"
      },
      "source": [
        "### Срезы"
      ]
    },
    {
      "cell_type": "code",
      "source": [
        "list_of_chars = list('Вячеслав')"
      ],
      "metadata": {
        "id": "WbxGI8r5X14o"
      },
      "execution_count": null,
      "outputs": []
    },
    {
      "cell_type": "code",
      "execution_count": null,
      "metadata": {
        "id": "YbZAegXDWESw",
        "outputId": "ec579079-6e9e-476e-d3ca-ccecca6e77de"
      },
      "outputs": [
        {
          "name": "stdout",
          "output_type": "stream",
          "text": [
            "['В', 'я', 'ч', 'е', 'с', 'л', 'а', 'в']\n",
            "['я', 'ч', 'е', 'с', 'л', 'а', 'в']\n",
            "['л', 'а', 'в']\n",
            "['ч', 'е', 'с']\n"
          ]
        }
      ],
      "source": [
        "list_of_chars = list('Вячеслав')\n",
        "print(list_of_chars) # ['В', 'я', 'ч', 'е', 'с', 'л', 'а', 'в']\n",
        "\n",
        "# Взять все символы имени, кроме первого\n",
        "print(list_of_chars[1:]) # ['я', 'ч', 'е', 'с', 'л', 'а', 'в']\n",
        "\n",
        "# последние 3 символа\n",
        "print(list_of_chars[-3:]) # ['л', 'а', 'в']\n",
        "\n",
        "print(list_of_chars[2:5]) # ['ч', 'е', 'с']"
      ]
    },
    {
      "cell_type": "markdown",
      "metadata": {
        "id": "-lrmS10Qr840"
      },
      "source": [
        "### Тренировка\n",
        "Напечатайте первые 5 слов из списка со словами."
      ]
    },
    {
      "cell_type": "code",
      "execution_count": null,
      "metadata": {
        "colab": {
          "base_uri": "https://localhost:8080/"
        },
        "id": "sTIL7vBir840",
        "outputId": "3f6ff6f5-6e67-4fa8-d8d1-d3be6be73c4b"
      },
      "outputs": [
        {
          "output_type": "execute_result",
          "data": {
            "text/plain": [
              "['Очень', 'многие', 'думают', 'что', 'они']"
            ]
          },
          "metadata": {},
          "execution_count": 78
        }
      ],
      "source": [
        "good_words[:5]"
      ]
    },
    {
      "cell_type": "markdown",
      "metadata": {
        "id": "_wH8thUvr841"
      },
      "source": [
        "##### Отступление от темы\n",
        "Про регистр: привести все буквы к строчному регистру - `str.lower()`"
      ]
    },
    {
      "cell_type": "code",
      "execution_count": null,
      "metadata": {
        "colab": {
          "base_uri": "https://localhost:8080/",
          "height": 35
        },
        "id": "k1Ej7y9Rr841",
        "outputId": "68c5bf99-0092-43d6-9e57-7f3d7dc9f655"
      },
      "outputs": [
        {
          "output_type": "execute_result",
          "data": {
            "text/plain": [
              "'некоторые любят писать лесенкой, это не страшно!'"
            ],
            "application/vnd.google.colaboratory.intrinsic+json": {
              "type": "string"
            }
          },
          "metadata": {},
          "execution_count": 79
        }
      ],
      "source": [
        "stairs = 'НеКоТоРыЕ лЮбЯт ПиСаТь ЛеСенКоЙ, эТо Не СтРаШнО!'\n",
        "stairs.lower()"
      ]
    },
    {
      "cell_type": "markdown",
      "metadata": {
        "id": "znaBBOMqr841"
      },
      "source": [
        "### Тренировка\n",
        "Найдите палиндромы в списке фраз"
      ]
    },
    {
      "cell_type": "code",
      "execution_count": null,
      "metadata": {
        "id": "Ywt3jQvvr841"
      },
      "outputs": [],
      "source": [
        "phrases = ['А роза упала на лапу Азора',\n",
        "           'Хил, худ, а дух лих.',\n",
        "           'Кинь лед зебре, бобр - бездельник.',\n",
        "           'А, зараза!',\n",
        "           'А Мила мама.',\n",
        "           'И лежу. Ужели?']"
      ]
    },
    {
      "cell_type": "code",
      "source": [],
      "metadata": {
        "id": "l_o7f6AQss7E"
      },
      "execution_count": null,
      "outputs": []
    },
    {
      "cell_type": "markdown",
      "source": [
        "# Таблица с методами:\n",
        "\n",
        "| Метод | Описание |\n",
        "| --- | --- |\n",
        "| `list.append(x)` | Добавляет элемент в конец списка |\n",
        "| `list.extend(L)` | Расширяет список list, добавляя в конец все элементы списка L |\n",
        "| `list.insert(i, x)` | Вставляет на i-ый элемент значение x |\n",
        "| `list.remove(x)` | Удаляет первый элемент в списке, имеющий значение x. ValueError, если такого элемента не существует |\n",
        "| `list.pop(i)` | Удаляет i-ый элемент и возвращает его. Если индекс не указан, удаляется последний элемент |\n",
        "| `list.index(x, [start, [end]])` | Возвращает положение первого элемента со значением x (при этом поиск ведется от start до end) |\n",
        "| `list.count(x)` | Возвращает количество элементов со значением x |\n",
        "| `list.sort([key=функция])` | Сортирует список на основе функции |\n",
        "| `list.reverse()` | Разворачивает список |\n",
        "| `list.copy()` | Поверхностная копия списка |\n",
        "| `list.clear()` | Очищает список |\n",
        "| `list.reverse()` | Разворачивает список |\n",
        "\n"
      ],
      "metadata": {
        "id": "yhG9li8v6LSy"
      }
    },
    {
      "cell_type": "code",
      "source": [
        "help(list.sort)"
      ],
      "metadata": {
        "colab": {
          "base_uri": "https://localhost:8080/"
        },
        "id": "rJ0NN5jNumfa",
        "outputId": "e9d39572-46f8-4c80-b7ba-ef70bacc34cb"
      },
      "execution_count": null,
      "outputs": [
        {
          "output_type": "stream",
          "name": "stdout",
          "text": [
            "Help on method_descriptor:\n",
            "\n",
            "sort(self, /, *, key=None, reverse=False) unbound builtins.list method\n",
            "    Sort the list in ascending order and return None.\n",
            "    \n",
            "    The sort is in-place (i.e. the list itself is modified) and stable (i.e. the\n",
            "    order of two equal elements is maintained).\n",
            "    \n",
            "    If a key function is given, apply it once to each list item and sort them,\n",
            "    ascending or descending, according to their function values.\n",
            "    \n",
            "    The reverse flag can be set to sort in descending order.\n",
            "\n"
          ]
        }
      ]
    },
    {
      "cell_type": "code",
      "source": [
        "# сортировка\n",
        "l = [10, -2, 1, 2, 3, 5, 7]\n",
        "l.sort(reverse=True)\n",
        "l"
      ],
      "metadata": {
        "id": "bnC39jwI5uDc",
        "colab": {
          "base_uri": "https://localhost:8080/"
        },
        "outputId": "46edc1a7-478a-4acf-8c18-8d65c3f46e7a"
      },
      "execution_count": null,
      "outputs": [
        {
          "output_type": "execute_result",
          "data": {
            "text/plain": [
              "[10, 7, 5, 3, 2, 1, -2]"
            ]
          },
          "metadata": {},
          "execution_count": 97
        }
      ]
    },
    {
      "cell_type": "code",
      "source": [
        "text = 'Hi ! Начало предложения надо бы писать с. заглавной. буквы ёжик'\n",
        "words = text.split()\n",
        "words.sort()\n",
        "words"
      ],
      "metadata": {
        "colab": {
          "base_uri": "https://localhost:8080/"
        },
        "id": "BlRx82jT48i1",
        "outputId": "5cedc384-e332-4783-d938-a6c487e8b34b"
      },
      "execution_count": null,
      "outputs": [
        {
          "output_type": "execute_result",
          "data": {
            "text/plain": [
              "['!',\n",
              " 'Hi',\n",
              " 'Начало',\n",
              " 'буквы',\n",
              " 'бы',\n",
              " 'заглавной.',\n",
              " 'надо',\n",
              " 'писать',\n",
              " 'предложения',\n",
              " 'с.',\n",
              " 'ёжик']"
            ]
          },
          "metadata": {},
          "execution_count": 105
        }
      ]
    },
    {
      "cell_type": "code",
      "source": [
        "# считаем количество значений в списке\n",
        "random_list = [4, 1, 5, 4, 10, 4]\n",
        "random_list.count(4) # сколько в списке 4"
      ],
      "metadata": {
        "colab": {
          "base_uri": "https://localhost:8080/"
        },
        "id": "-oZmg7wP7V2W",
        "outputId": "3170eec7-f69c-4cc7-c02b-a02427b29dad"
      },
      "execution_count": null,
      "outputs": [
        {
          "output_type": "execute_result",
          "data": {
            "text/plain": [
              "3"
            ]
          },
          "metadata": {},
          "execution_count": 106
        }
      ]
    },
    {
      "cell_type": "code",
      "source": [
        "random_list = [4, 1, 5, 4, 10, 4]\n",
        "random_list.remove(4) # удаляем в списке первую 4ку\n",
        "random_list"
      ],
      "metadata": {
        "colab": {
          "base_uri": "https://localhost:8080/"
        },
        "id": "4hM7vCOta3jb",
        "outputId": "3fe4e1ef-2aa9-4efa-e817-fdd4f9c04fe1"
      },
      "execution_count": null,
      "outputs": [
        {
          "output_type": "execute_result",
          "data": {
            "text/plain": [
              "[1, 5, 4, 10, 4]"
            ]
          },
          "metadata": {},
          "execution_count": 110
        }
      ]
    },
    {
      "cell_type": "code",
      "source": [
        "random_list = [4, 1, 5, 4, 10, 4]\n",
        "random_list.pop(2) # удаляем 2й элемент\n",
        "random_list"
      ],
      "metadata": {
        "colab": {
          "base_uri": "https://localhost:8080/"
        },
        "id": "c8P_ebq3bPgT",
        "outputId": "6061c01d-90f0-4a35-fd2f-e05ab679481d"
      },
      "execution_count": null,
      "outputs": [
        {
          "output_type": "execute_result",
          "data": {
            "text/plain": [
              "[4, 1, 4, 10, 4]"
            ]
          },
          "metadata": {},
          "execution_count": 84
        }
      ]
    },
    {
      "cell_type": "code",
      "source": [
        "# перевернем список\n",
        "my_list = [1, 'two', 'a', 4]\n",
        "my_list.reverse()  # None\n",
        "my_list  # [4, 'a', 'two', 1]"
      ],
      "metadata": {
        "id": "_OYqcgY27kcO",
        "colab": {
          "base_uri": "https://localhost:8080/"
        },
        "outputId": "35a0f2b9-7502-4a51-b915-5e37d82f7f78"
      },
      "execution_count": null,
      "outputs": [
        {
          "output_type": "execute_result",
          "data": {
            "text/plain": [
              "[4, 'a', 'two', 1]"
            ]
          },
          "metadata": {},
          "execution_count": 109
        }
      ]
    },
    {
      "cell_type": "markdown",
      "source": [
        "Узнайте, на каком месте стоит первая 4ка"
      ],
      "metadata": {
        "id": "CIqlhsmsd3qc"
      }
    },
    {
      "cell_type": "code",
      "source": [
        "random_list = [4, 1, 5, 4, 10, 4]\n",
        "random_list.index(4, 4)"
      ],
      "metadata": {
        "colab": {
          "base_uri": "https://localhost:8080/"
        },
        "id": "EbbPTP8Ad-qw",
        "outputId": "4b20866c-f149-45cd-a296-c31cb1a328a4"
      },
      "execution_count": null,
      "outputs": [
        {
          "output_type": "execute_result",
          "data": {
            "text/plain": [
              "5"
            ]
          },
          "metadata": {},
          "execution_count": 119
        }
      ]
    }
  ],
  "metadata": {
    "colab": {
      "provenance": []
    },
    "kernelspec": {
      "display_name": "Python 3 (ipykernel)",
      "language": "python",
      "name": "python3"
    },
    "language_info": {
      "codemirror_mode": {
        "name": "ipython",
        "version": 3
      },
      "file_extension": ".py",
      "mimetype": "text/x-python",
      "name": "python",
      "nbconvert_exporter": "python",
      "pygments_lexer": "ipython3",
      "version": "3.9.16"
    }
  },
  "nbformat": 4,
  "nbformat_minor": 0
}