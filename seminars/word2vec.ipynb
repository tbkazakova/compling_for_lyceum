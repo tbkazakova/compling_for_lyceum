{
  "cells": [
    {
      "cell_type": "markdown",
      "metadata": {
        "id": "QyrCB4Ydf8EC"
      },
      "source": [
        "# Векторные представления слов. word2vec+\n",
        "\n",
        "Спасибо огромное Даше Рыжовой и Даше Поповой за часть этой тетрадки!"
      ]
    },
    {
      "cell_type": "markdown",
      "source": [
        "Мы видели 2 способа векторизации текстов. One-hot encoding и tf-idf.\n",
        "\n",
        "Это просто, но семантика слов не учитывается, порядок слов тоже не учитывается.\n",
        "\n",
        "Сегодня решим первую из двух проблем."
      ],
      "metadata": {
        "id": "gma0DLFEpLUq"
      }
    },
    {
      "cell_type": "markdown",
      "metadata": {
        "id": "371WlvTwf8EL"
      },
      "source": [
        "### Word2Vec"
      ]
    },
    {
      "cell_type": "markdown",
      "metadata": {
        "id": "_nbB_Htzf8EM"
      },
      "source": [
        "Одной из самых известных моделей для работы с дистрибутивной семантикой является word2vec. Технология основана на нейронной сети, предсказывающей вероятность встретить слово в заданном контексте. Этот инструмент был разработан группой исследователей Google в 2013 году, руководителем проекта был Томаш Миколов (сейчас работает в Facebook). Вот две самые главные статьи:\n",
        "\n",
        "+ [Efficient Estimation of Word Representations inVector Space](https://arxiv.org/pdf/1301.3781.pdf)\n",
        "+ [Distributed Representations of Words and Phrases and their Compositionality](https://arxiv.org/abs/1310.4546)\n",
        "\n",
        "Полученные таким образом вектора называются распределенными представлениями слов, или **эмбеддингами**.\n",
        "\n",
        "По-русски понятные объяснения и картинки смотрите [тут](https://habr.com/ru/post/446530/)\n",
        "\n",
        "\n",
        "2 важные мысли:\n",
        "1. **Мы можем представить себе что угодно как совокупность признаков.**\n",
        "- король - муж.: 1, богатый: 1, властный: 1\n",
        "- королева - муж.: 0, богатый: 1, властный: 1\n",
        "- нищий - муж.: 1, богатый: 0, властный: 0\n",
        "- графиня - муж.: 0, богатый: 0.75, властный: 0.75\n",
        "\n",
        "Если мы захотим различать больше слов, добавится ещё признаков. Например, машина - одушевлённость:0 (а у людей будет 1), транспорт:1 (а у яблока будет 0) и т.д.\n",
        "\n",
        "(В итоге король - [1 1 1], королева [0 1 1], графиня [0 0.75 0.75]. Сейчас мы сами решили, какая ось нашего многомерного пространства за что отвечает, но оптимально все признаки не расписать, дальше у нас будут абстрактные оси.)\n",
        "\n",
        "2. **Легко посчитать, насколько близки векторы.**\n",
        "\n",
        "Для этого нужна косинусная близость.\n",
        "\n",
        "![img](https://raw.githubusercontent.com/tbkazakova/compling_for_lyceum/main/pic/cos%20dist.png)\n",
        "\n",
        "Найдём косинусную близость между a(4;1) и b(3;5).\n",
        "$$\\frac{a_1*b_1+a_2*b_2}{\\sqrt{a_1^2+a_2^2}*\\sqrt{b_1^2+b_2^2}}=\\frac{4*3+1*5}{\\sqrt{4^2+1^2}*\\sqrt{3^2+5^2}}=0.7071$$"
      ]
    },
    {
      "cell_type": "code",
      "source": [
        "import math\n",
        "\n",
        "(4*3+1*5)/(math.sqrt(4**2+1**2)*math.sqrt(3**2+5**2))"
      ],
      "metadata": {
        "colab": {
          "base_uri": "https://localhost:8080/"
        },
        "id": "lAriOoDG3wJL",
        "outputId": "9734d0b4-60f7-411d-ed9a-7bc866b55042"
      },
      "execution_count": 1,
      "outputs": [
        {
          "output_type": "execute_result",
          "data": {
            "text/plain": [
              "0.7071067811865475"
            ]
          },
          "metadata": {},
          "execution_count": 1
        }
      ]
    },
    {
      "cell_type": "code",
      "source": [
        "from sklearn.metrics.pairwise import cosine_similarity\n",
        "\n",
        "cosine_similarity([[4, 1]], [[3, 5]])"
      ],
      "metadata": {
        "colab": {
          "base_uri": "https://localhost:8080/"
        },
        "id": "Uw5QiGxc3G5g",
        "outputId": "eb043d8a-8dcc-48d4-b63a-9ec1f01fb961"
      },
      "execution_count": 2,
      "outputs": [
        {
          "output_type": "execute_result",
          "data": {
            "text/plain": [
              "array([[0.70710678]])"
            ]
          },
          "metadata": {},
          "execution_count": 2
        }
      ]
    },
    {
      "cell_type": "code",
      "source": [
        "print(cosine_similarity([[4, 1]], [[4, 1]]))    # самый близкий - 1\n",
        "print(cosine_similarity([[4, 1]], [[-1, 4]]))   # перпендикулярный - 0\n",
        "print(cosine_similarity([[4, 1]], [[-4, -1]]))  # противоположный - -1"
      ],
      "metadata": {
        "colab": {
          "base_uri": "https://localhost:8080/"
        },
        "id": "YmP2jpEiFwS0",
        "outputId": "2f092fb4-3647-41c0-9935-7d9c5011089b"
      },
      "execution_count": 3,
      "outputs": [
        {
          "output_type": "stream",
          "name": "stdout",
          "text": [
            "[[1.]]\n",
            "[[0.]]\n",
            "[[-1.]]\n"
          ]
        }
      ]
    },
    {
      "cell_type": "markdown",
      "source": [
        "<img src=\"https://raw.githubusercontent.com/tbkazakova/compling_for_lyceum/main/pic/vectors.png\" width=\"350\" height=\"300\">"
      ],
      "metadata": {
        "id": "ah27KshYLjx_"
      }
    },
    {
      "cell_type": "markdown",
      "source": [
        "Посмотрим на модель word2vec на сайте [Rusvectores](https://rusvectores.org/ru/calculator/)."
      ],
      "metadata": {
        "id": "e_OTd_yxXL2r"
      }
    },
    {
      "cell_type": "markdown",
      "metadata": {
        "id": "7aVcLvsGf8EN"
      },
      "source": [
        "#### Как это работает?\n",
        "\n",
        "Word2vec принимает большой текстовый корпус в качестве входных данных и сопоставляет каждому слову вектор, выдавая координаты слов на выходе. Сначала он создает словарь, «обучаясь» на входных текстовых данных, а затем вычисляет векторное представление слов. Векторное представление основывается на контекстной близости: слова, встречающиеся в тексте рядом с одинаковыми словами (а следовательно, согласно дистрибутивной гипотезе, имеющие схожий смысл), в векторном представлении будут иметь близкие координаты векторов-слов. Для вычисления близости слов используется косинусное близость между их векторами.\n",
        "\n",
        "\n",
        "С помощью дистрибутивных векторных моделей можно строить семантические пропорции (они же аналогии) и решать примеры:\n",
        "\n",
        "+ король: мужчина = королева: женщина $\\Rightarrow$\n",
        "+ король - мужчина + женщина = королева\n",
        "\n",
        "![w2v](https://raw.githubusercontent.com/tbkazakova/compling_for_lyceum/main/pic/word2vec.png)"
      ]
    },
    {
      "cell_type": "markdown",
      "source": [
        "Несколько интересных статей по дистрибутивной семантике (от Даш Поповой и Рыжовой):\n",
        "\n",
        "* [Turney and Pantel 2010](https://jair.org/index.php/jair/article/view/10640)\n",
        "* [Lenci 2018](https://www.annualreviews.org/doi/abs/10.1146/annurev-linguistics-030514-125254?journalCode=linguistics)\n",
        "* [Smith 2019](https://arxiv.org/pdf/1902.06006.pdf)\n",
        "* [Pennington et al. 2014](https://www.aclweb.org/anthology/D14-1162/)\n",
        "* [Faruqui et al. 2015](https://www.aclweb.org/anthology/N15-1184/)"
      ],
      "metadata": {
        "id": "DzIJY4YAOb4D"
      }
    },
    {
      "cell_type": "markdown",
      "source": [
        "#### Как это обучается?\n",
        "\n",
        "Мы задаём вектор для каждого слова с помощью матрицы $w$ и вектор контекста с помощью матрицы $W$. По сути, word2vec является обобщающим названием для двух архитектур Skip-Gram и Continuous Bag-Of-Words (CBOW).\n",
        "\n",
        "+ **CBOW** предсказывает текущее слово, исходя из окружающего его контекста.\n",
        "\n",
        "+ **Skip-gram**, наоборот, использует текущее слово, чтобы предугадывать окружающие его слова.\n"
      ],
      "metadata": {
        "id": "C39kNy4wP32M"
      }
    },
    {
      "cell_type": "markdown",
      "source": [
        "### Gensim\n",
        "\n",
        "Использовать предобученную модель эмбеддингов или обучить свою можно с помощью библиотеки `gensim`. Вот ее [документация](https://radimrehurek.com/gensim/models/word2vec.html). `Gensim` — библиотека для тематического моделирования текстов, но один из компонентов в ней — реализация на python алгоритмов из библиотеки word2vec (которая в оригинале была написана на C++)."
      ],
      "metadata": {
        "id": "3iD1y_bsOxD4"
      }
    },
    {
      "cell_type": "code",
      "execution_count": 4,
      "metadata": {
        "id": "5gG-dfovf8EP"
      },
      "outputs": [],
      "source": [
        "import re\n",
        "import gensim\n",
        "import logging\n",
        "import nltk.data\n",
        "import pandas as pd\n",
        "import urllib.request\n",
        "from bs4 import BeautifulSoup\n",
        "from nltk.corpus import stopwords\n",
        "from gensim.models import word2vec\n",
        "\n",
        "import warnings\n",
        "warnings.filterwarnings('ignore')"
      ]
    },
    {
      "cell_type": "markdown",
      "metadata": {
        "id": "QkR4hr86f8ET"
      },
      "source": [
        "#### Как обучить свою модель\n",
        "\n",
        "NB! Обратите внимание, что тренировка модели не включает препроцессинг! Это значит, что избавляться от пунктуации, приводить слова к нижнему регистру, лемматизировать их, проставлять частеречные теги придется до тренировки модели (если, конечно, это необходимо для вашей задачи). Т.е. в каком виде слова будут в исходном тексте, в таком они будут и в модели."
      ]
    },
    {
      "cell_type": "code",
      "source": [
        "! pip install pymystem3"
      ],
      "metadata": {
        "id": "YhMFbZ-S0wC-",
        "colab": {
          "base_uri": "https://localhost:8080/"
        },
        "outputId": "95f10a19-df89-40ba-871f-899b99661f6b"
      },
      "execution_count": 5,
      "outputs": [
        {
          "output_type": "stream",
          "name": "stdout",
          "text": [
            "Requirement already satisfied: pymystem3 in /usr/local/lib/python3.10/dist-packages (0.2.0)\n",
            "Requirement already satisfied: requests in /usr/local/lib/python3.10/dist-packages (from pymystem3) (2.31.0)\n",
            "Requirement already satisfied: charset-normalizer<4,>=2 in /usr/local/lib/python3.10/dist-packages (from requests->pymystem3) (3.3.2)\n",
            "Requirement already satisfied: idna<4,>=2.5 in /usr/local/lib/python3.10/dist-packages (from requests->pymystem3) (3.6)\n",
            "Requirement already satisfied: urllib3<3,>=1.21.1 in /usr/local/lib/python3.10/dist-packages (from requests->pymystem3) (2.0.7)\n",
            "Requirement already satisfied: certifi>=2017.4.17 in /usr/local/lib/python3.10/dist-packages (from requests->pymystem3) (2024.2.2)\n"
          ]
        }
      ]
    },
    {
      "cell_type": "code",
      "source": [
        "from pymystem3 import Mystem\n",
        "m = Mystem()"
      ],
      "metadata": {
        "colab": {
          "base_uri": "https://localhost:8080/"
        },
        "id": "Uxh6CLya01t-",
        "outputId": "a6eeba07-58e4-49f5-9223-82204c07c399"
      },
      "execution_count": 6,
      "outputs": [
        {
          "output_type": "stream",
          "name": "stderr",
          "text": [
            "Installing mystem to /root/.local/bin/mystem from http://download.cdn.yandex.net/mystem/mystem-3.1-linux-64bit.tar.gz\n"
          ]
        }
      ]
    },
    {
      "cell_type": "code",
      "source": [
        "with open('vojna-i-mir.txt') as f:\n",
        "    text = f.read()"
      ],
      "metadata": {
        "id": "do1tXlnp1RMP"
      },
      "execution_count": null,
      "outputs": []
    },
    {
      "cell_type": "code",
      "source": [
        "lemmas = m.lemmatize(text)\n",
        "print(' '.join([w for w in lemmas if w.isalpha() or w=='\\n'])[:50])"
      ],
      "metadata": {
        "id": "msKz1hXx1OE0"
      },
      "execution_count": null,
      "outputs": []
    },
    {
      "cell_type": "code",
      "source": [
        "with open('vojna-i-mir_lemmas.txt', 'w') as f:\n",
        "    f.write(' '.join([w for w in lemmas if w.isalpha() or w=='\\n']))"
      ],
      "metadata": {
        "id": "3xxEETaS2ffF"
      },
      "execution_count": null,
      "outputs": []
    },
    {
      "cell_type": "markdown",
      "source": [
        "Поскольку иногда тренировка модели занимает много времени, то можно ещё вести лог событий, чтобы понимать, что на каком этапе происходит."
      ],
      "metadata": {
        "id": "jVUO1Ekt1AZP"
      }
    },
    {
      "cell_type": "code",
      "execution_count": 8,
      "metadata": {
        "id": "11jQ6Auuf8ET"
      },
      "outputs": [],
      "source": [
        "logging.basicConfig(format='%(asctime)s : %(levelname)s : %(message)s', level=logging.INFO)"
      ]
    },
    {
      "cell_type": "markdown",
      "metadata": {
        "id": "Z4s7UHE4f8EU"
      },
      "source": [
        "На вход модели даем текстовый файл, каждое предложение на отдельной строчке. Вот игрушечный пример с текстом «Бедной Лизы». Он заранее очищен от пунктуации, приведен к нижнему регистру и лемматизирован."
      ]
    },
    {
      "cell_type": "code",
      "execution_count": 9,
      "metadata": {
        "id": "sB1H8pGHf8EU"
      },
      "outputs": [],
      "source": [
        "f = 'vojna-i-mir_lemmas.txt'\n",
        "data = gensim.models.word2vec.LineSentence(f)"
      ]
    },
    {
      "cell_type": "markdown",
      "metadata": {
        "id": "TGSY_kxAf8EV"
      },
      "source": [
        "Инициализируем модель. Основные параметры:\n",
        "\n",
        "+ данные должны быть итерируемым объектом\n",
        "+ size — размер вектора,\n",
        "+ window — размер окна наблюдения,\n",
        "+ min_count — мин. частотность слова в корпусе,\n",
        "+ sg — используемый алгоритм обучения (0 — CBOW, 1 — Skip-gram),\n",
        "+ sample — порог для downsampling'a высокочастотных слов,\n",
        "+ workers — количество потоков,\n",
        "+ alpha — learning rate,\n",
        "+ iter — количество итераций,\n",
        "+ max_vocab_size — позволяет выставить ограничение по памяти при создании словаря (т.е. если ограничение привышается, то низкочастотные слова будут выбрасываться). Для сравнения: 10 млн слов = 1Гб RAM."
      ]
    },
    {
      "cell_type": "code",
      "execution_count": 19,
      "metadata": {
        "id": "ivUVlZU9f8EV"
      },
      "outputs": [],
      "source": [
        "model_vim = gensim.models.Word2Vec(data,\n",
        "                                   vector_size=300,\n",
        "                                   window=5,\n",
        "                                   min_count=2,\n",
        "                                   epochs=20)"
      ]
    },
    {
      "cell_type": "markdown",
      "metadata": {
        "id": "YGxzWSzdf8EW"
      },
      "source": [
        "Можно нормализовать вектора, тогда модель будет занимать меньше RAM. Однако после этого её нельзя дотренировывать. Здесь используется L2-нормализация: вектора нормализуются так, что если сложить квадраты всех элементов вектора, в сумме получится 1."
      ]
    },
    {
      "cell_type": "code",
      "execution_count": null,
      "metadata": {
        "colab": {
          "base_uri": "https://localhost:8080/"
        },
        "id": "t6iQq-K-f8EW",
        "outputId": "e6e30d8a-b068-4c38-cc57-7cdb6f8333f7"
      },
      "outputs": [
        {
          "output_type": "stream",
          "name": "stderr",
          "text": [
            "WARNING:gensim.models.keyedvectors:destructive init_sims(replace=True) deprecated & no longer required for space-efficiency\n"
          ]
        },
        {
          "output_type": "stream",
          "name": "stdout",
          "text": [
            "Saving model...\n"
          ]
        }
      ],
      "source": [
        "model_vim.init_sims(replace=True)\n",
        "model_path = \"vim.bin\"\n",
        "\n",
        "print(\"Saving model...\")\n",
        "model_vim.wv.save_word2vec_format(model_path, binary=True)"
      ]
    },
    {
      "cell_type": "markdown",
      "metadata": {
        "id": "nYdh_gVGf8EW"
      },
      "source": [
        "Смотрим, сколько в модели слов:"
      ]
    },
    {
      "cell_type": "code",
      "execution_count": null,
      "metadata": {
        "colab": {
          "base_uri": "https://localhost:8080/"
        },
        "id": "V6N1YMBnf8EW",
        "outputId": "adde1617-a56a-4cf7-b620-ef8ca450438d"
      },
      "outputs": [
        {
          "output_type": "stream",
          "name": "stdout",
          "text": [
            "12547\n"
          ]
        }
      ],
      "source": [
        "print(len(model_vim.wv.key_to_index))"
      ]
    },
    {
      "cell_type": "code",
      "execution_count": null,
      "metadata": {
        "colab": {
          "base_uri": "https://localhost:8080/"
        },
        "id": "syAN448Sf8EX",
        "outputId": "16553fa5-c148-4563-a7b5-68e764f76550"
      },
      "outputs": [
        {
          "output_type": "stream",
          "name": "stdout",
          "text": [
            "['A', 'Adieu', 'Adorable', 'Ah', 'Alexandre', 'Allemand', 'Allemands', 'Allez', 'Allons', 'Amélie', 'André', 'Angleterre', 'Annette', 'Apraksine', 'Asile', 'Attendez', 'Au', 'Austerlitz', 'Autriche', 'Autrichiens', 'Basile', 'Beausset', 'Benigsen', 'Berlin', 'Besuhof', 'Bien', 'Bilibine', 'Bonaparte', 'Bonjour', 'Boris', 'Bosse', 'Boukshevden', 'Bourienne', 'Bref', 'Buonaparte', 'C', 'Capitaine', 'Catiche', 'Caulaincourt', 'Ce', 'Cela', 'Cependant', 'Ces', 'Cette', 'Charmant', 'Charmante', 'Charmé', 'Chère', 'Colonel', 'Colonne', 'Comme', 'Comment', 'Contrat', 'Cosaque', 'Cosaques', 'Courage', 'Cygne', 'Czars', 'Da', 'Dandin', 'Dans', 'De', 'Der', 'Dessales', 'Die', 'Dieu', 'Dites', 'Don', 'Donau', 'Donnez', 'Drissa', 'Du', 'Duport', 'Ecoutez', 'Eh', 'Elle', 'Empereur', 'Empire', 'En', 'Encore', 'Enfin', 'Enlevez', 'Entrez', 'Espagne', 'Est', 'Et', 'Europe', 'Fabvier', 'Faites', 'Faut', 'Feind', 'Feinde', 'Filez', 'Flügel', 'Formio', 'France', 'Français', 'Genlis', 'George', 'Georges', 'Geschichte', 'Grand', 'Gérard', 'Gênes', 'H', 'Herr', 'Herrn', 'Hippolyte', 'Hoch', 'Honneur', 'Hy', 'Hélène', 'I', 'II', 'III', 'IV', 'IX', 'Ideville', 'Il', 'Ils', 'J', 'Jacquot', 'Je', 'Jobert', 'Julie', 'Kiril', 'Kolonne', 'Kouraguine', 'Koutouzoff', 'Koutouzov', 'Kremlin', 'Krieg', 'L', 'La', 'Laissez', 'Le', 'Lech', 'Lelorgne', 'Leppich', 'Les', 'Ligne', 'Lise', 'Lorrain', 'Louis', 'Lucques', 'Légion', 'M', 'Ma', 'Mack', 'Madame', 'Mais', 'Maison', 'Maistre', 'Majesté', 'Maman', 'Mann', 'Mansfeld', 'Marchez', 'Marie', 'Meister', 'Merci', 'Mes', 'Michaud', 'Mon', 'Monseigneur', 'Monsieur', 'Montesquieu', 'Morel', 'Morgen', 'Mortemart', 'Moscou', 'Moskowa', 'Mot', 'Murat', 'Mère', 'N', 'NN', 'Naples', 'Napoléon', 'Nathalie', 'Ne', 'Nicolas', 'Nocturne', 'Non', 'Notre', 'Nous', 'Oh', 'Oldenbourg', 'On', 'Oui', 'Où', 'P', 'Par', 'Paris', 'Parisien', 'Parlez', 'Pavlograd', 'Peut', 'Pierre', 'Platoche', 'Poultousk', 'Pour', 'Pourquoi', 'Prince', 'Princesse', 'Prusse', 'Prussiens', 'Puissant', 'Péché', 'Pétersbourg', 'Qu', 'Quand', 'Quant', 'Que', 'Quel', 'Quelle', 'Quelques', 'Qui', 'Ramball', 'Rapp', 'Rastopchine', 'Raum', 'Razoumovsky', 'Reine', 'Rien', 'Roi', 'Rome', 'Royallib', 'Rqmain', 'Russe', 'Russen', 'Russes', 'Russie', 'S', 'SS', 'Sacré', 'Sans', 'Schlapanitz', 'Schoss', 'Schön', 'Si', 'Sire', 'Smolensk', 'Sokolnitz', 'Sophie', 'Soyez', 'Staël', 'Steppes', 'Suza', 'Tant', 'Tartare', 'Tel', 'Thabor', 'Tiens', 'Tout', 'Très', 'Ulm', 'Un', 'Und', 'Une', 'Unterkunft', 'Urope', 'V', 'VI', 'VII', 'VIII', 'Va', 'Varsovie', 'Venez', 'Viasmitinoff', 'Vienne', 'Vincent', 'Vistule', 'Vive', 'Voilà', 'Vos', 'Votre', 'Voulez', 'Vous', 'Voyez', 'Voyons', 'Vraiment', 'Welt', 'Wilna', 'Wir', 'X', 'XI', 'XII', 'XIII', 'XIV', 'XIX', 'XV', 'XVI', 'XVII', 'XVIII', 'XX', 'XXI', 'XXII', 'XXIII', 'XXIV', 'XXIX', 'XXV', 'XXVI', 'XXVII', 'XXVIII', 'XXX', 'XXXI', 'XXXII', 'XXXIII', 'XXXIV', 'a', 'ab', 'abandonne', 'abordée', 'absence', 'absolument', 'accablé', 'accommodement', 'acte', 'actuelle', 'admirable', 'admirateur', 'adolescentes', 'affaire', 'affaires', 'affetto', 'agonie', 'agression', 'agréable', 'ah', 'ai', 'aide', 'aider', 'aimable', 'aime', 'aimez', 'ainsi', 'air', 'ait', 'allait', 'allemand', 'aller', 'allez', 'alliance', 'alliés', 'allons', 'alten', 'altercation', 'ami', 'amie', 'amis', 'amitié', 'amour', 'amuse', 'an', 'ancienne', 'ancienneté', 'ange', 'angine', 'annonce', 'années', 'ans', 'apaiser', 'appelle', 'appelèrent', 'apporte', 'apprentissage', 'appris', 'après', 'armes', 'armistice', 'armée', 'arrive', 'arriver', 'arrivée', 'arrêter', 'arrêté', 'article', 'artillerie', 'as', 'asiatique', 'asile', 'assassinat', 'assez', 'assidu', 'attaque', 'attaqué', 'atteindre', 'atteinte', 'attend', 'attendais', 'attendre', 'au', 'auch', 'aucun', 'aucune', 'auf', 'aujourd', 'auprès', 'aura', 'auraient', 'aurais', 'aurait', 'aussi', 'autant', 'author', 'autre', 'autrement', 'autres', 'aux', 'auxquelles', 'avaient', 'avais', 'avait', 'avant', 'avec', 'avez', 'avis', 'avoir', 'avons', 'avoue', 'avouer', 'avouez', 'b', 'baptême', 'barbare', 'baron', 'barque', 'bas', 'bataille', 'bataillons', 'battre', 'beau', 'beaucoup', 'beaux', 'bel', 'belle', 'belles', 'besogne', 'besoin', 'bien', 'bleu', 'boire', 'bois', 'bon', 'bonheur', 'bonhomme', 'bonne', 'bonnes', 'bons', 'bonsoir', 'bonté', 'bouche', 'bouteille', 'brave', 'braves', 'but', 'bâtard', 'bêtise', 'bêtises', 'c', 'cabinet', 'calme', 'camp', 'campagne', 'camps', 'canapé', 'canon', 'capitaine', 'capitale', 'caporal', 'car', 'caractère', 'cas', 'cause', 'caustique', 'ce', 'cela', 'celle', 'celles', 'celui', 'cent', 'centre', 'cependant', 'certaines', 'cerveau', 'ces', 'cet', 'cette', 'ceux', 'chagrin', 'chair', 'chambre', 'champ', 'champs', 'chance', 'chante', 'chargé', 'charmant', 'charmante', 'charmée', 'chef', 'chefs', 'chemin', 'cher', 'cherchons', 'cheval', 'chevalier', 'chevaliers', 'chez', 'chien', 'chose', 'choses', 'chrétien', 'châle', 'chèe', 'chère', 'ci', 'cieux', 'clair', 'clémence', 'cochon', 'coiffure', 'colonel', 'com', 'combien', 'comité', 'comme', 'commence', 'commencée', 'comment', 'comments', 'compagnie', 'comprendre', 'comprends', 'comprenez', 'compris', 'comptait', 'compte', 'comptez', 'comte', 'comtesse', 'conception', 'conduisez', 'conduisirent', 'conduite', 'conformer', 'connais', 'connaissance', 'connaît', 'connaître', 'connu', 'conscience', 'conseil', 'conseillé', 'consoler', 'continuent', 'contraire', 'contre', 'corps', 'cosaque', 'coup', 'coups', 'cour', 'courrier', 'court', 'courte', 'courtisan', 'courtisée', 'cousin', 'cousine', 'couture', 'craignez', 'craindre', 'crains', 'crois', 'croyez', 'crudele', 'crême', 'céda', 'cœur', 'd', 'da', 'dame', 'dames', 'dangereux', 'dans', 'davantage', 'de', 'dem', 'demain', 'demande', 'demander', 'demandez', 'demandé', 'demoiselle', 'demoiselles', 'den', 'depuis', 'der', 'dernier', 'derniers', 'dernière', 'des', 'descendre', 'deux', 'devant', 'devenir', 'devoir', 'devoirs', 'devriez', 'diable', 'die', 'diese', 'diesem', 'dieu', 'différentes', 'différents', 'digne', 'dirai', 'dirait', 'dire', 'direz', 'dis', 'disais', 'disiez', 'distinguée', 'distribuer', 'dit', 'dites', 'divin', 'divine', 'division', 'dois', 'doit', 'donc', 'donne', 'donner', 'donnez', 'donné', 'donnée', 'dont', 'dort', 'douce', 'doute', 'doux', 'drapeaux', 'droit', 'drôle', 'du', 'duc', 'débarrasser', 'décidé', 'déjà', 'délicieuse', 'démolir', 'départ', 'dépêche', 'désespoir', 'désir', 'désire', 'dîner', 'dû', 'e', 'effet', 'effrayante', 'ein', 'elle', 'elles', 'empereur', 'empire', 'en', 'encore', 'enfant', 'enfants', 'enfin', 'ennemi', 'ennemis', 'entendre', 'entendu', 'entre', 'entrer', 'entrez', 'envers', 'envoie', 'er', 'erste', 'es', 'esprit', 'espère', 'espérance', 'espérant', 'est', 'estime', 'estomac', 'et', 'etc', 'eu', 'eusse', 'eut', 'eux', 'excellence', 'excellent', 'excellente', 'exige', 'existence', 'exprimer', 'exprès', 'extrême', 'eût', 'fable', 'faible', 'faire', 'fais', 'faisait', 'fait', 'faites', 'fallait', 'fameuse', 'fameux', 'famille', 'fasse', 'faudra', 'faudrait', 'fausses', 'faut', 'femme', 'femmes', 'fera', 'ferai', 'ferez', 'ferme', 'ferons', 'feu', 'filez', 'fille', 'filles', 'fils', 'fin', 'fine', 'fini', 'finisse', 'fit', 'flammes', 'fleur', 'foi', 'fois', 'fond', 'font', 'force', 'forces', 'forme', 'fort', 'forte', 'fortes', 'fortune', 'fou', 'fournir', 'français', 'française', 'françaises', 'frontières', 'fruit', 'frère', 'frères', 'fureur', 'fus', 'fusiller', 'fussent', 'fut', 'férir', 'féroce', 'galant', 'ganze', 'garde', 'gardes', 'garçon', 'genre', 'gens', 'gloire', 'gracieux', 'grand', 'grande', 'grandes', 'grandeur', 'grands', 'grecque', 'gros', 'grâce', 'guerre', 'gueules', 'gut', 'génie', 'général', 'généraux', 'haben', 'habile', 'habitants', 'habituelle', 'heure', 'heures', 'heureuse', 'hier', 'hinter', 'histoire', 'hoch', 'homme', 'hommes', 'honneur', 'honneurs', 'honorable', 'hors', 'html', 'http', 'https', 'hui', 'huit', 'humain', 'humaine', 'humanité', 'humeur', 'huzards', 'héritage', 'héros', 'i', 'ici', 'idée', 'il', 'ils', 'im', 'imagination', 'impose', 'impossible', 'impératrice', 'in', 'incendie', 'individu', 'infanterie', 'informé', 'innombrables', 'instruction', 'intervention', 'intime', 'intimité', 'intrépidité', 'intérêt', 'intérêts', 'inventer', 'ist', 'j', 'ja', 'jamais', 'je', 'jette', 'jeu', 'jeune', 'jeunesse', 'joie', 'jolie', 'jolies', 'jouer', 'jouissances', 'jour', 'jours', 'joué', 'jusqu', 'kann', 'können', 'l', 'la', 'laisse', 'laissez', 'laissé', 'laquelle', 'larmes', 'latente', 'le', 'lecture', 'les', 'lettre', 'lettres', 'leur', 'leurs', 'lev', 'lieu', 'lieux', 'limonade', 'linken', 'livre', 'livres', 'lle', 'longtemps', 'longue', 'lui', 'là', 'lâcheté', 'léger', 'm', 'ma', 'machine', 'madame', 'mademoiselle', 'main', 'mains', 'mais', 'maison', 'mal', 'malade', 'maladie', 'malgré', 'malheur', 'malheureuse', 'malheureux', 'malheurs', 'maman', 'manger', 'manière', 'manqué', 'manœuvres', 'maraude', 'maraudeurs', 'marche', 'marcher', 'mari', 'mariage', 'mariages', 'marschiert', 'maréchal', 'masses', 'matin', 'mauvais', 'mauvaise', 'maux', 'maître', 'me', 'memorandum', 'merci', 'mes', 'messieurs', 'met', 'mien', 'mieux', 'milieu', 'militaire', 'mille', 'mio', 'mir', 'misérables', 'miséricorde', 'mit', 'moi', 'moins', 'mois', 'moitié', 'moment', 'mon', 'monde', 'monsieur', 'montre', 'montrèrent', 'mort', 'morts', 'mot', 'mots', 'moutard', 'moyens', 'mà', 'mène', 'mère', 'médecin', 'mélancolie', 'mélancolique', 'mérite', 'mêle', 'même', 'n', 'nation', 'nations', 'nature', 'naître', 'ne', 'ni', 'nicht', 'noblesse', 'noch', 'nom', 'non', 'nos', 'note', 'notes', 'notre', 'nous', 'nouveau', 'nouvelle', 'nouvelles', 'nuit', 'nullement', 'né', 'nôtres', 'oblige', 'observer', 'occupe', 'octobre', 'officier', 'offre', 'oh', 'oiseau', 'on', 'oncle', 'ont', 'opinion', 'or', 'ordinairement', 'ordre', 'oreille', 'ou', 'oublie', 'oublierai', 'oubliez', 'oui', 'outre', 'ouvert', 'ouvrage', 'ouvrir', 'ovo', 'où', 'palais', 'papa', 'par', 'paraît', 'pardon', 'parle', 'parler', 'parlez', 'parlons', 'parlé', 'parole', 'part', 'partie', 'partout', 'pas', 'passe', 'passer', 'passierte', 'passion', 'passé', 'patrie', 'patriotisme', 'pauvre', 'pays', 'paysans', 'pectorale', 'peine', 'penser', 'pensez', 'perdu', 'permettez', 'personne', 'personnellement', 'perte', 'petit', 'petite', 'peu', 'peuple', 'peuples', 'peur', 'peut', 'peuvent', 'pied', 'pillage', 'pincée', 'plains', 'plaisir', 'plate', 'pleuré', 'plus', 'plusieurs', 'plutôt', 'plèbe', 'point', 'pont', 'populace', 'porte', 'portes', 'positif', 'position', 'possesseur', 'possible', 'poste', 'pour', 'pourquoi', 'pourra', 'pouvez', 'pouvoir', 'pouvons', 'poétique', 'premier', 'prendre', 'prenez', 'presque', 'prie', 'prince', 'princesse', 'principe', 'principes', 'pris', 'privée', 'prochain', 'profond', 'projet', 'promener', 'promis', 'proportion', 'propos', 'protégée', 'proverbe', 'providence', 'présence', 'présent', 'prétend', 'prévenir', 'prévienne', 'prêt', 'pu', 'publique', 'puis', 'puisque', 'puissante', 'pure', 'purement', 'père', 'péché', 'pénible', 'qu', 'quand', 'quarante', 'quatre', 'que', 'quel', 'quelle', 'quelque', 'quelques', 'question', 'qui', 'quitte', 'quitté', 'quoi', 'quoique', 'r', 'raison', 'rapport', 'rare', 'ravissante', 'recevoir', 'recevrez', 'rechten', 'recommencer', 'reconnu', 'redoute', 'refus', 'regard', 'regarde', 'regrette', 'relations', 'rendre', 'rends', 'repos', 'ressemble', 'reste', 'rester', 'retiens', 'retirer', 'retraite', 'revenants', 'reviendra', 'revoir', 'revue', 'reçu', 'riche', 'ridicule', 'rien', 'rivière', 'riz', 'robe', 'roi', 'route', 'royallib', 'russe', 'russes', 'règne', 'régiments', 'régner', 'réserve', 'résolument', 'réunion', 'rôle', 's', 'sa', 'sacrifices', 'sacré', 'sacrée', 'sainte', 'sais', 'sait', 'salon', 'salut', 'sang', 'sans', 'sauvage', 'sauveur', 'sauvé', 'savez', 'savoir', 'scène', 'se', 'second', 'sehr', 'seigneur', 'sein', 'seine', 'sens', 'sensible', 'sentez', 'sentiment', 'sentiments', 'sera', 'serai', 'serais', 'serait', 'serez', 'service', 'ses', 'seul', 'seule', 'seulement', 'si', 'sich', 'signe', 'signé', 'simplicité', 'sire', 'siècle', 'so', 'social', 'société', 'soir', 'soirée', 'soit', 'soldat', 'soldats', 'sommes', 'son', 'sont', 'sort', 'sorte', 'souffert', 'souffre', 'soupe', 'source', 'sourire', 'sous', 'souverain', 'souverains', 'soyez', 'spirituelle', 'steppes', 'style', 'sublime', 'subsistances', 'succès', 'suis', 'suite', 'sujet', 'supporter', 'sur', 'surtout', 'sécurité', 'sœur', 't', 'tant', 'tante', 'tard', 'te', 'tellement', 'temps', 'tendre', 'tenue', 'terre', 'terrible', 'testament', 'thé', 'tiré', 'titre', 'tolstoy', 'tom', 'torts', 'toujours', 'tour', 'tous', 'tout', 'toute', 'toutes', 'trahison', 'train', 'tranquille', 'travaux', 'traître', 'trente', 'triste', 'tristes', 'trois', 'troisième', 'trop', 'trou', 'troupes', 'trouvait', 'trouve', 'trouver', 'trouvez', 'trouvé', 'très', 'trésor', 'trône', 'tu', 'tuer', 'tâcherai', 'tête', 'u', 'um', 'un', 'und', 'une', 'uns', 'va', 'vaillamment', 'vais', 'vaut', 'venez', 'veniel', 'veniez', 'venir', 'venu', 'verlegen', 'verre', 'verser', 'veulent', 'veut', 'veux', 'vicomte', 'victoire', 'vie', 'vieille', 'viennent', 'viens', 'vient', 'vieux', 'vilain', 'vilaine', 'village', 'ville', 'vin', 'visites', 'vit', 'vite', 'vive', 'vivre', 'voilà', 'voir', 'vois', 'voisinage', 'voit', 'von', 'vos', 'votre', 'voudrais', 'voudrait', 'voulais', 'voulait', 'voulez', 'voulu', 'voulus', 'vous', 'voyez', 'voyna', 'voyons', 'vrai', 'vraiment', 'vu', 'vue', 'vues', 'véritable', 'vôtre', 'vœux', 'wenn', 'werden', 'wir', 'wird', 'xa', 'y', 'yeux', 'z', 'zu', 'zweite', 'Ça', 'à', 'âme', 'ça', 'écris', 'écrit', 'égal', 'égard', 'églises', 'élève', 'énergique', 'épouser', 'épousez', 'éprouver', 'était', 'étant', 'état', 'étranger', 'été', 'éviter', 'êtes', 'être', 'Ольмюц', 'Пг', 'Св', 'Стр', 'Тя', 'Фр', 'Фю', 'а', 'абажур', 'аббат', 'абордаж', 'абсолютный', 'авангард', 'аванпост', 'август', 'августейший', 'августин', 'августовский', 'австриец', 'австрийский', 'австрия', 'австрияк', 'автор', 'авторский', 'агатовый', 'аграфена', 'ад', 'адам', 'адамов', 'административный', 'администратор', 'администрация', 'адмирал', 'адрес', 'адресовать', 'адский', 'адъютант', 'адъютантика', 'адъютантский', 'аж', 'азбука', 'азиатский', 'азог', 'азот', 'ай', 'ака', 'аккорд', 'аккуратно', 'аккуратность', 'аккуратный', 'акт', 'актер', 'активный', 'актриса', 'акушер', 'акушерка', 'акцент', 'але', 'александр', 'александра', 'алексеевич', 'алексеевна', 'алексеич', 'алексей', 'али', 'алина', 'аллегория', 'аллея', 'аллюр', 'алмаз', 'алмазный', 'алпатыч', 'алтарь', 'аль', 'альбом', 'альзасец', 'альфонс', 'амалик', 'амалья', 'амбар', 'америка', 'амуниция', 'амфитеатр', 'амштетень', 'ана', 'анализ', 'ананас', 'анарал', 'анатоль', 'ангел', 'ангина', 'англез', 'англизировать', 'английский', 'англичанин', 'англия', 'англо', 'андреевич', 'андреич', 'андрей', 'андрюша', 'анекдот', 'анета', 'аниска', 'анисьюшка', 'анисья', 'анна', 'аннет', 'анонимный', 'антинациональный', 'антипатия', 'антифранцузский', 'антихрист', 'античный', 'антон', 'антонов', 'антоновна', 'антракт', 'анферов', 'апогей', 'апокалипсис', 'апостол', 'апраксин', 'апраксина', 'апрель', 'апшеронец', 'апшеронский', 'арабский', 'аракчеев', 'арап', 'арапник', 'арбат', 'арбатский', 'аргумент', 'аренда', 'арест', 'арестовывать', 'ариергард', 'аристов', 'аристократический', 'ария', 'арка', 'аркольский', 'армейский', 'армия', 'армфельд', 'армяк', 'армянин', 'армянка', 'армянский', 'арнаут', 'арсенал', 'артиллерийский', 'артиллерист', 'артиллерия', 'арфа', 'архаров', 'архив', 'архитектон', 'архитектор', 'аршин', 'арьергард', 'ассигнация', 'астрономия', 'ат', 'атака', 'атаковать', 'атлас', 'атласный', 'атмосфера', 'атом', 'ать', 'аться', 'аугест', 'аудиенция', 'аудитор', 'ауерштет', 'аустерлиц', 'аустерлица', 'аустерлицкий', 'ауэрсперг', 'афиня', 'афиша', 'афишка', 'африка', 'аффектация', 'ах', 'ахать', 'ахиллес', 'ахнуть', 'ахросимова', 'ашу', 'б', 'ба', 'баба', 'бабий', 'бабушка', 'баварец', 'баварский', 'баг', 'багаж', 'багговутый', 'багратион', 'багровый', 'баденский', 'базар', 'баздеев', 'бакенбарда', 'бал', 'балага', 'балаган', 'балалайка', 'балашев', 'балкон', 'баловать', 'баловство', 'бальный', 'бандарчук', 'банк', 'банкет', 'банник', 'бант', 'бантик', 'баня', 'барабан', 'барабанщик', 'баран', 'бараний', 'баранина', 'барахтаться', 'барин', 'барина', 'баритон', 'барка', 'баркаролла', 'барклай', 'барклый', 'барон', 'барский', 'бартенштейн', 'бархатный', 'барчонок', 'барщина', 'барыня', 'барышня', 'барьер', 'бас', 'басистый', 'басня', 'бассано', 'батальон', 'батальонный', 'батарейный', 'батарея', 'батистовый', 'батюшка', 'батюшков', 'башилов', 'башмак', 'башмачок', 'башня', 'бг', 'бе', 'бег', 'бегать', 'беглец', 'бегло', 'беглый', 'бегом', 'беготня', 'бегство', 'беда', 'бедно', 'бедность', 'бедный', 'бедняга', 'бедняжка', 'бедняк', 'бедро', 'бедственный', 'бедствие', 'бедуин', 'бежать', 'без', 'безбородый', 'безветренный', 'безвинно', 'безвыездный', 'безвыходный', 'бездействие', 'бездна', 'безжалостно', 'безжизненно', 'безжизненный', 'беззаботно', 'беззаботный', 'беззаконие', 'беззащитный', 'беззвучно', 'беззвучный', 'беззубый', 'безнадежно', 'безнадежность', 'безнадежный', 'безобразно', 'безобразный', 'безопасно', 'безопасность', 'безопасный', 'безоружный', 'безразличный', 'безукоризненный', 'безумие', 'безумно', 'безумный', 'безупречно', 'безупречный', 'безусловно', 'безусловный', 'безуспешный', 'безухов', 'безухова', 'безучастно', 'безучастный', 'беклешов', 'белеть', 'белизна', 'беличий', 'белов', 'белова', 'беловиц', 'белок', 'белокурый', 'белый', 'бельгиец', 'белье', 'бельяр', 'бенигсен', 'бенигсено', 'беннигсен', 'бенуар', 'берг', 'берег', 'бережливый', 'бережно', 'береза', 'березин', 'березина', 'березинский', 'березник', 'березовый', 'берейтор', 'беременность', 'беременный', 'беречь', 'беречься', 'берлин', 'берлинский', 'бернадот', 'бертие', 'бес', 'беседа', 'беседовать', 'бесконечно', 'бесконечность', 'бесконечный', 'бескорыстно', 'бескорыстный', 'беспамятство', 'беспечность', 'бесплатный', 'бесподобный', 'беспокоить', 'беспокоиться', 'беспокойно', 'беспокойный', 'беспокойство', 'бесполезный', 'беспомощно', 'беспомощный', 'беспорядок', 'беспорядочно', 'беспорядочный', 'беспредельный', 'беспрерывно', 'беспрерывный', 'беспрестанный', 'бесприданный', 'беспричинный', 'бессвязный', 'бессилие', 'бессильно', 'бессильный', 'бесследно', 'бессловесный', 'бессмертный', 'бессмысленно', 'бессмысленность', 'бессмысленный', 'бессмыслица', 'бессовестный', 'бессознательно', 'бессознательный', 'бессонница', 'бессонный', 'бесстрашие', 'бессьер', 'бестия', 'бестолковый', 'бесцельно', 'бесцельный', 'бесценный', 'бесчеловечный', 'бесчестный', 'бесчисленность', 'бесчисленный', 'бесчувственный', 'бечевка', 'бешенство', 'бешеный', 'бешмет', 'библейский', 'библиотека', 'бивак', 'бивуак', 'билет', 'билетец', 'билибин', 'бильбоке', 'биографический', 'биография', 'бисквит', 'бисмарк', 'битва', 'битый', 'бить', 'биться', 'бицкий', 'бишь', 'благо', 'благовест', 'благовестить', 'благовоспитанный', 'благоговейный', 'благоговение', 'благодарить', 'благодарно', 'благодарность', 'благодарный', 'благодарственный', 'благодаря', 'благодать', 'благоденствие', 'благодетель', 'благодеяние', 'благообразие', 'благообразный', 'благополучие', 'благополучно', 'благоприятный', 'благоразумный', 'благородие', 'благородно', 'благородный', 'благородство', 'благословение', 'благословлять', 'благосостояние', 'благость', 'благотворительность', 'благотворительный', 'благоустроенный', 'блаженный', 'блаженство', 'бледнеть', 'бледно', 'бледность', 'бледный', 'блеск', 'блеснуть', 'блестеть', 'блестка', 'блестящий', 'ближний', 'близ', 'близкий', 'близко', 'близорукий', 'близость', 'блок', 'блокада', 'блондинка', 'блоха', 'блюдечко', 'блюдо', 'блюсти', 'блюститель', 'бо', 'бобровый', 'бог', 'богадельня', 'богарня', 'богато', 'богатство', 'богатый', 'богач', 'богданович', 'богдановна', 'богданыч', 'богемия', 'богемский', 'богиня', 'богородица', 'богословие', 'богоугодный', 'богучаров', 'богучарово', 'богучаровский', 'бодро', 'бодрый', 'боевой', 'боже', 'божеский', 'божественно', 'божественный', 'божество', 'божий', 'бой', 'бойкий', 'бойко', 'бок', 'бокал', 'бокль', 'боковой', 'болван', 'более', 'болезненно', 'болезненный', 'болезнь', 'болеть', 'болконская', 'болконский', 'болото', 'болтать', 'болтаться', 'болтливый', 'болтовня', 'болтун', 'болховитин', 'боль', 'больная', 'больница', 'больничный', 'больно', 'больной', 'больше', 'больший', 'большинство', 'большой', 'болячка', 'бомбардирование', 'бонапарт', 'бонапартист', 'бонапартистка', 'бонапартия', 'бондаренко', 'бордо', 'боренька', 'борзая', 'борзятник', 'борис', 'бормотать', 'боровск', 'борода', 'бородин', 'бородино', 'бородинский', 'бородка', 'бороться', 'борьба', 'боря', 'босиком', 'босой', 'босс', 'бостон', 'бостонный', 'босу', 'ботаник', 'ботфорт', 'бочка', 'бочок', 'бочонок', 'бош', 'боярин', 'бояться', 'браво', 'бравый', 'брак', 'бранить', 'браниться', 'браницкий', 'брат', 'братец', 'братия', 'братский', 'братство', 'брать', 'браться', 'браунау', 'брачный', 'бревно', 'бред', 'бредить', 'бредни', 'бремя', 'бренчание', 'бренчать', 'брести', 'бретер', 'бригада', 'бриллиант', 'бритый', 'брить', 'бричка', 'бровь', 'брод', 'бродить', 'бродяга', 'брожение', 'бронза', 'бросать', 'бросаться', 'брульон', 'брунов', 'брусья', 'брызгать', 'брызги', 'брызнуть', 'брюмер', 'брюнна', 'брюнный', 'брюхо', 'бряцание', 'бубенчик', 'бугор', 'буде', 'будить', 'будничный', 'будто', 'будущее', 'будущий', 'будущность', 'буйный', 'буйство', 'букарешта', 'буква', 'букет', 'букля', 'буксгевдевать', 'буксгевден', 'булавка', 'булонский', 'булонь', 'бултыхнуться', 'бульвар', 'бульон', 'бум', 'бумага', 'бумажка', 'бумажник', 'бумажный', 'бунапарт', 'бунт', 'бунтовать', 'буонапарт', 'буонапартие', 'бурбон', 'буржуазный', 'буриме', 'бурка', 'бурлить', 'бурмистр', 'бурный', 'бурый', 'бурьен', 'бурьянов', 'буря', 'бутылка', 'бутылочка', 'буфет', 'буфетная', 'буфетчик', 'бы', 'бывало', 'бывать', 'бывший', 'бык', 'былинка', 'было', 'быстрина', 'быстро', 'быстрота', 'быстрый', 'быт', 'бытие', 'быть', 'бюро', 'бюст', 'в', 'ваграм', 'важнеть', 'важно', 'важность', 'важный', 'вакансия', 'вал', 'валахия', 'валиться', 'валуев', 'вальс', 'вальтрап', 'валять', 'валяться', 'вандея', 'варвар', 'варвара', 'варварство', 'варение', 'варить', 'вариться', 'варфоломеевский', 'варшава', 'варшавский', 'василий', 'василье', 'васильевич', 'васильевна', 'васильич', 'вассальный', 'васька', 'вася', 'вахмистр', 'ваш', 'вбегать', 'вблизи', 'вваливаться', 'введение', 'вверх', 'вверху', 'вверять', 'вверяться', 'ввечеру', 'вводить', 'вводиться', 'ввязываться', 'вглядываться', 'вдаваться', 'вдавливать', 'вдалеке', 'вдали', 'вдаль', 'вдвое', 'вдвоем', 'вдвойне', 'вделывать', 'вдесятеро', 'вдобавок', 'вдова', 'вдовствовать', 'вдовствующий', 'вдоль', 'вдребезги', 'вдруг', 'вдумываться', 'вдыхать', 'вег', 'ведать', 'ведение', 'ведомо', 'ведомость', 'ведомство', 'ведро', 'ведь', 'веер', 'везде', 'везти', 'веймарский', 'вейротер', 'вейротирать', 'век', 'веко', 'вексель', 'велено', 'велеть', 'великий', 'великодушие', 'великодушничанье', 'великодушно', 'великодушный', 'великолепный', 'величавый', 'величественно', 'величественный', 'величество', 'величие', 'величина', 'веллингтон', 'вельможа', 'вена', 'венгерка', 'венгерский', 'вензель', 'венский', 'вера', 'верблюд', 'веревка', 'веревочка', 'веретено', 'верещагин', 'верить', 'вериться', 'вернее', 'верно', 'верность', 'вернуть', 'вернуться', 'верный', 'верование', 'веровать', 'вероятно', 'вероятность', 'вероятный', 'верста', 'верстальщик', 'вертеть', 'вертеться', 'верушка', 'верующий', 'верх', 'верхний', 'верховный', 'верховой', 'верховый', 'верхом', 'вершина', 'вес', 'веселие', 'веселить', 'веселиться', 'весело', 'веселость', 'веселый', 'весельчак', 'весенний', 'весна', 'веснушка', 'вести', 'вестись', 'вестник', 'вестовой', 'вестфалец', 'весть', 'весь', 'весьма', 'ветвь', 'ветер', 'ветка', 'ветчина', 'вечер', 'вечерний', 'вечерня', 'вечерок', 'вечно', 'вечность', 'вечный', 'вещество', 'вещица', 'вещь', 'взад', 'взаимно', 'взаимный', 'взаимодействие', 'взамен', 'взаправду', 'взбегать', 'взбесить', 'взбивать', 'взбиваться', 'взваливать', 'взвешивать', 'взвиваться', 'взвизг', 'взвизгивать', 'взвод', 'взводить', 'взволнованно', 'взволнованный', 'взволновать', 'взволноваться', 'взгляд', 'взглядывать', 'вздвиженка', 'вздергивать', 'вздор', 'вздох', 'вздрагивать', 'вздумать', 'вздыхать', 'взлезать', 'взмахивать', 'взмыливаться', 'взмыть', 'взрослый', 'взрыв', 'взрывать', 'взрыть', 'взъерошивать', 'взывать', 'взыскание', 'взыскивать', 'взятие', 'взятка', 'взять', 'взяться', 'виват', 'вид', 'видать', 'видаться', 'видеть', 'видеться', 'видимо', 'видимость', 'видимый', 'виднеться', 'видно', 'видный', 'видывать', 'визг', 'визгнуть', 'визжать', 'визит', 'виконт', 'виктория', 'виленский', 'вилларский', 'вилльнев', 'вилы', 'вильгельм', 'вильковисский', 'вильна', 'вильно', 'вильсон', 'вилять', 'вимпфенный', 'вина', 'вино', 'виноватость', 'виноватый', 'виновник', 'виновность', 'виновный', 'винт', 'винценгерод', 'винцингерод', 'виртембергец', 'виртембергский', 'виселица', 'висеня', 'висеть', 'висла', 'вислоухов', 'висок', 'височек', 'висячий', 'витгенштейн', 'витебск', 'виться', 'вифлянка', 'вицмундир', 'вишаа', 'вишь', 'вкладывать', 'включать', 'вкус', 'вкусный', 'влага', 'владелец', 'владение', 'владетель', 'владетельный', 'владеть', 'владимир', 'владимирович', 'владыка', 'влажный', 'влас', 'властелин', 'властный', 'властолюбие', 'власть', 'влево', 'влезать', 'влепляться', 'влетать', 'влечение', 'влечь', 'влияние', 'влиять', 'влюбленный', 'влюблять', 'влюбляться', 'вместе', 'вместо', 'вмешательство', 'вмешиваться', 'вмещать', 'вне', 'внезапно', 'внезапный', 'внешний', 'внешность', 'вниз', 'внизу', 'вникать', 'внимание', 'внимательно', 'внимательный', 'внимать', 'вновь', 'вносить', 'внук', 'внутренний', 'внутренно', 'внутри', 'внутрь', 'внушать', 'внушительный', 'во', 'вовлекать', 'вовлекаться', 'вовремя', 'вовсе', 'вода', 'водить', 'водка', 'водомоина', 'водонос', 'воевать', 'военачальник', 'военный', 'вождь', 'вожжа', 'воз', 'возбудительный', 'возбуждать', 'возбуждение', 'возбужденно', 'возвеличивать', 'возводить', 'возвратиться', 'возвращать', 'возвращаться', 'возвращение', 'возвышать', 'возвышаться', 'возвышение', 'возвышенный', 'возглас', 'воздавать', 'воздвигать', 'воздвигаться', 'воздействие', 'воздержание', 'воздерживать', 'воздерживаться', 'воздух', 'воздушный', 'воздыхание', 'воззвание', 'воззрение', 'возить', 'возиться', 'возлагать', 'возлюбленный', 'возмездие', 'возможно', 'возможность', 'возможный', 'возмужание', 'возмужать', 'возмущать', 'возмущаться', 'возмущение', 'вознаграждать', 'возникать', 'возникновение', 'возня', 'возобновление', 'возобновлять', 'возобновляться', 'возок', 'возражать', 'возражение', 'возраст', 'возрастать', 'возрождение', 'воин', 'воинский', 'воинственность', 'воинственный', 'воинство', 'вой', 'войлок', 'война', 'войско', 'вокруг', 'волк', 'волконский', 'волна', 'волнение', 'волновать', 'волноваться', 'волнующий', 'волос', 'волосик', 'волосок', 'волочить', 'волочиться', 'волочь', 'волчий', 'волчок', 'волшебница', 'волшебно', 'волшебный', 'вольно', 'вольность', 'вольный', 'вольтер', 'вольтеровский', 'вольцоген', 'волюм', 'воля', 'вон', 'вонзаться', 'вонять', 'воображать', 'воображение', 'вообще', 'воодушевление', 'воодушевленный', 'воодушевлять', 'воодушевляться', 'вооружать', 'вооружаться', 'вооружение', 'вооруженный', 'воплощаться', 'вопль', 'вопреки', 'вопрос', 'вопросительно', 'вопросительный', 'вор', 'ворваться', 'воробьев', 'воровать', 'воровство', 'ворон', 'ворона', 'воронеж', 'вороной', 'ворот', 'ворота', 'воротить', 'воротиться', 'воротник', 'воротничок', 'ворочать', 'ворочаться', 'ворчать', 'ворчливый', 'восемнадцатый', 'восемнадцать', 'восемь', 'восемьдесят', 'восемьсот', 'восклицание', 'восклицать', 'восковой', 'воскресать', 'воскресение', 'воспаленный', 'воспалять', 'воспитание', 'воспитанник', 'воспитатель', 'воспитательница', 'воспитательный', 'воспитывание', 'воспитывать', 'воспитываться', 'воспользоваться', 'воспоминание', 'восприимчивый', 'воспринимать', 'восставать', 'восстанавливать', 'восстание', 'восстановление', 'восстановлять', 'воссылать', 'восток', 'восторг', 'восторгаться', 'восторженно', 'восторженность', 'восторженный', 'восточный', 'восхвалять', 'восхитительно', 'восхитительный', 'восхищать', 'восхищаться', 'восхищение', 'восхищенный', 'восход', 'восходить', 'восьмидесятитысячный', 'восьмой', 'вот', 'вотчина', 'вотчинный', 'воцаряться', 'вошь', 'вощина', 'впадать', 'впервые', 'вперед', 'впереди', 'впечатление', 'впиваться', 'вписывать', 'вполголоса', 'вполне', 'вполуоборот', 'впоперечить', 'впоследствии', 'вправе', 'вправо', 'впредь', 'впрочем', 'впускать', 'враг', 'вражда', 'враждебно', 'враждебность', 'враждебный', 'вражек', 'вражеский', 'враз', 'вранье', 'врасплох', 'врата', 'врать', 'врач', 'врбный', 'вред', 'вредить', 'вредный', 'врезаться', 'временный', 'время', 'вроде', 'врозь', 'вручение', 'всадник', 'всаживать', 'всасывать', 'все', 'всевозможный', 'всегда', 'всегдашний', 'всего', 'вселенная', 'всемилостивый', 'всемирный', 'всемогущий', 'всеобщий', 'вскакивать', 'вскидывать', 'вскоре', 'вскрик', 'вскрикивать', 'вскружить', 'вскрывать', 'вслед', 'вследствие', 'вслух', 'вслушиваться', 'всматриваться', 'всовывать', 'всплескивать', 'всплывать', 'вспоминать', 'вспоминаться', 'вспомнить', 'вспомниться', 'вспотеть', 'вспрыгивать', 'вспыльчивость', 'вспыхивать', 'вспышка', 'вставать', 'вставлять', 'встревожить', 'встрепенуться', 'встреча', 'встречать', 'встречаться', 'встречный', 'встряхивать', 'встряхиваться', 'вступать', 'вступаться', 'вступление', 'всхлипывание', 'всхлипывать', 'всходить', 'всякий', 'вталкивать', 'втесниться', 'втираться', 'вторжение', 'вторить', 'вторичный', 'вторник', 'второй', 'второпях', 'второстепенный', 'втрое', 'втроем', 'втыкать', 'втягивать', 'втянутый', 'ву', 'вурст', 'вход', 'входить', 'входной', 'вчег', 'вчера', 'вчерашний', 'въезд', 'въезжать', 'вы', 'выбегать', 'выбивать', 'выбиваться', 'выбирать', 'выбираться', 'выбор', 'выборный', 'выборы', 'выбрасывать', 'выбрасываться', 'выбривать', 'выбриваться', 'выбывать', 'вывеска', 'вывести', 'вывод', 'выводить', 'выводок', 'вывоз', 'вывозить', 'вывозиться', 'выворачивать', 'выгибать', 'выглядывать', 'выговаривать', 'выговор', 'выгода', 'выгодно', 'выгодный', 'выгонять', 'выдавать', 'выдаваться', 'выдача', 'выдающийся', 'выдвигать', 'выдвигаться', 'выделывать', 'выдергивать', 'выдерживать', 'выдирать', 'выдумывать', 'выезд', 'выездной', 'выезжать', 'выживать', 'выжигать', 'выжидать', 'выжлятник', 'выздоравливать', 'выздоровление', 'вызов', 'вызывать', 'вызываться', 'вызывающе', 'вызывающий', 'выигрывать', 'выигрыш', 'выказаться', 'выказывать', 'выкапывать', 'выкатить', 'выкатывать', 'выкатываться', 'выкидывать', 'выкуп', 'выкупаться', 'выламывать', 'вылезать', 'вылетать', 'вылечивать', 'выливаться', 'вымазывать', 'вымывать', 'вынести', 'вынестись', 'вынимать', 'выносить', 'вынуждать', 'вынужденный', 'выпадать', 'выпаривать', 'выпивать', 'выписывать', 'выплакивать', 'выплывать', 'выполнять', 'выправлять', 'выпрастывать', 'выпрашивать', 'выпроваживать', 'выпрямлять', 'выпрямляться', 'выпуклый', 'выпуск', 'выпускать', 'выпутываться', 'выпытывать', 'выпячивать', 'вырабатывать', 'вырабатываться', 'выражать', 'выражаться', 'выражение', 'выраженный', 'выразительный', 'вырастать', 'вырезать', 'вырезаться', 'выручать', 'вырывать', 'вырываться', 'вырыть', 'высадка', 'высаживать', 'высаживаться', 'высвобождать', 'высекать', 'высказывание', 'высказывать', 'высказываться', 'выскакать', 'выскакивать', 'выскочить', 'выскочка', 'выслушивать', 'высматривать', 'высовывать', 'высовываться', 'высокий', 'высоко', 'высокоблагородие', 'высокопоставленный', 'высокопревосходительство', 'высота', 'высочество', 'выставка', 'выставлять', 'выставляться', 'выстраивать', 'выстраиваться', 'выстрел', 'выстреливать', 'выступ', 'выступать', 'выступление', 'высылать', 'высыпать', 'высыпаться', 'вытаскивать', 'вытекать', 'выть', 'вытягивать', 'вытягиваться', 'выучивать', 'выучиваться', 'выхватывать', 'выхлопатывать', 'выход', 'выходить', 'выходка', 'выходной', 'выхоливать', 'вычисление', 'вычищать', 'выше', 'вьюк', 'вьющийся', 'вюртембергец', 'вязать', 'вяземский', 'вязкий', 'вязмитин', 'вязьма', 'вяло', 'вялый', 'г', 'га', 'гаврила', 'гаврило', 'гадать', 'гадкий', 'гадко', 'гадость', 'газ', 'газета', 'гайдук', 'галерея', 'галиция', 'галка', 'галлицизм', 'галоп', 'галстук', 'гамбург', 'гамбургский', 'гарденберг', 'гармонический', 'гарнизон', 'гасконец', 'гаубица', 'гаугвиц', 'гаугвица', 'гауптвахта', 'гвардеец', 'гвардейский', 'гвардия', 'гверильяс', 'гвоздить', 'где', 'гедеон', 'генеалогический', 'генерал', 'генеральный', 'генеральский', 'гениальность', 'гениальный', 'гений', 'генрих', 'генриховна', 'генуя', 'географический', 'география', 'геометрический', 'геометрия', 'георгиевский', 'георгий', 'гераков', 'герасим', 'герб', 'гервинус', 'германия', 'германский', 'героизм', 'героический', 'герой', 'геройский', 'геройство', 'герцен', 'герцог', 'герцогство', 'гессенец', 'гибель', 'гибельный', 'гибкий', 'гибко', 'гибкость', 'гибнуть', 'гимн', 'гитара', 'глава', 'главное', 'главнокомандующий', 'главноуправляющий', 'главный', 'гладить', 'гладкий', 'гладко', 'глаз', 'глазок', 'глина', 'глинка', 'глобус', 'глогау', 'глубина', 'глубокий', 'глубоко', 'глубокомысленный', 'глубокомыслие', 'глубь', 'глупо', 'глупость', 'глупый', 'глухой', 'глядеть', 'глянуть', 'глянцевитый', 'гм', 'гнать', 'гнаться', 'гнев', 'гневно', 'гневный', 'гнедой', 'гнездо', 'гнет', 'гниль', 'гноиться', 'гнутый', 'го', 'говаривать', 'говеть', 'говога', 'говор', 'говорить', 'говориться', 'говядина', 'гог', 'гогенлоэ', 'год', 'годиться', 'годный', 'годовой', 'голиаф', 'голицын', 'голлабрун', 'голландец', 'голландский', 'голова', 'головка', 'головной', 'голод', 'голодный', 'голос', 'голосок', 'голубеть', 'голубка', 'голубоглазый', 'голубой', 'голубушка', 'голубчик', 'голый', 'гон', 'гончая', 'гончий', 'гонять', 'гор', 'гора', 'гораздо', 'горбатый', 'гордиться', 'гордо', 'гордость', 'гордый', 'горе', 'горелки', 'горестно', 'горестный', 'горесть', 'гореть', 'горечь', 'горизонт', 'горка', 'горки', 'горло', 'горница', 'горничная', 'горничный', 'город', 'городок', 'городской', 'горожанин', 'гороховый', 'горсть', 'горшок', 'горький', 'горько', 'горючий', 'горячечный', 'горячий', 'горячиться', 'горячность', 'горячо', 'госнер', 'госпиталь', 'госпитальный', 'господи', 'господин', 'господский', 'господствовать', 'господь', 'госпожа', 'гостеприимный', 'гостеприимство', 'гостиерадек', 'гостин', 'гостина', 'гостиная', 'гостиница', 'гостиный', 'гостить', 'гость', 'гостья', 'государ', 'государственный', 'государство', 'государь', 'готовить', 'готовиться', 'готовность', 'готовый', 'готфрид', 'гофкригсрат', 'гофмаршал', 'гошпитал', 'гошпиталь', 'грабеж', 'грабитель', 'грабительница', 'грабить', 'град', 'градский', 'градус', 'гражданин', 'гражданский', 'грамота', 'гранат', 'граната', 'граница', 'грановитый', 'гранпасьянс', 'грань', 'грассировать', 'граф', 'графа', 'графин', 'графинечка', 'графинюшка', 'графиня', 'графский', 'грациозно', 'грациозный', 'грация', 'грачик', 'гребешок', 'греков', 'греметь', 'гренадер', 'гренадерский', 'греть', 'греться', 'грех', 'греческий', 'грешить', 'грешник', 'грешница', 'грешный', 'гриб', 'грибок', 'грива', 'гримаса', 'грипп', 'гроб', 'гроза', 'грозить', 'грозиться', 'грозно', 'грозный', 'грозовой', 'гром', 'громада', 'громадность', 'громадный', 'громкий', 'громко', 'грохот', 'грубо', 'грубость', 'грубый', 'грудной', 'грудь', 'грузинский', 'грунт', 'группа', 'группировать', 'грустно', 'грустный', 'грусть', 'грызть', 'гряда', 'грязно', 'грязный', 'грязь', 'губа', 'губернатор', 'губернаторша', 'губерния', 'губернский', 'губить', 'губка', 'гувернантка', 'гувернер', 'гудеть', 'гул', 'гульба', 'гуляние', 'гулять', 'гумно', 'гурьев', 'гусар', 'гусарский', 'гусенок', 'густой', 'гуща', 'д', 'да', 'дабы', 'дав', 'давать', 'даваться', 'давид', 'давить', 'давка', 'давление', 'давний', 'давнишний', 'давно', 'давыдов', 'даже', 'далее', 'далекий', 'далеко', 'даль', 'дальнейший', 'дальний', 'дама', 'дамский', 'данден', 'данила', 'данило', 'даниловна', 'данные', 'данный', 'данциг', 'дар', 'дарить', 'даровать', 'даром', 'датский', 'дача', 'дашковка', 'два', 'двадцатилетний', 'двадцатипятирублевый', 'двадцатый', 'двадцать', 'двенадцатый', 'двенадцать', 'дверца', 'дверь', 'двести', 'двигать', 'двигаться', 'движение', 'движимый', 'двинуть', 'двинуться', 'двое', 'двойной', 'двор', 'дворец', 'дворецкий', 'дворник', 'дворня', 'дворняжка', 'дворовый', 'дворянин', 'дворянский', 'дворянство', 'двоюродный', 'двоякий', 'дг', 'де', 'девать', 'деваться', 'девица', 'девический', 'девичий', 'девка', 'девочка', 'девственность', 'девушка', 'девчата', 'девчонка', 'девятый', 'девять', 'дед', 'дедушка', 'дежурный', 'дежурство', 'действие', 'действительно', 'действительность', 'действительный', 'действовать', 'действующий', 'декабрист', 'декабрь', 'декламация', 'декламировать', 'декрет', 'делать', 'делаться', 'деление', 'делец', 'деликатность', 'делить', 'дело', 'деловой', 'дельный', 'демонстрация', 'демосфен', 'демьян', 'денежный', 'денек', 'денис', 'денисов', 'денисова', 'денник', 'денщик', 'денщицкий', 'день', 'деньги', 'департамент', 'депеша', 'депо', 'депутация', 'дергать', 'дергаться', 'деревенский', 'деревня', 'дерево', 'деревушка', 'деревянный', 'держава', 'держать', 'держаться', 'дерзать', 'дерзкий', 'дерзко', 'дерзость', 'дернуть', 'десалить', 'десало', 'десаль', 'десант', 'деспот', 'десса', 'десятилетний', 'десятина', 'десятитысячный', 'десятка', 'десяток', 'десятый', 'десять', 'детски', 'детский', 'детство', 'дефилей', 'дешево', 'дешевый', 'деяние', 'деятель', 'деятельность', 'деятельный', 'диадема', 'диана', 'диван', 'диванная', 'диванный', 'диванчик', 'диверсия', 'дивизия', 'дикарь', 'дикий', 'дико', 'дикость', 'диктаторство', 'диктатура', 'диктовать', 'диктоваться', 'диммлер', 'династия', 'дипломат', 'дипломатический', 'директор', 'директория', 'диспозиция', 'дистанция', 'дисциплина', 'дитя', 'длина', 'длинно', 'длиннополый', 'длинный', 'длиться', 'для', 'дмитриевна', 'дмитрий', 'дмитрич', 'дневник', 'дневной', 'днепр', 'дно', 'до', 'добегать', 'добежать', 'добивание', 'добивать', 'добиваться', 'добираться', 'доблестно', 'добро', 'добровольно', 'добродетель', 'добродетельный', 'добродушие', 'добродушно', 'добродушный', 'добронравие', 'добросовестно', 'доброта', 'добрый', 'добывать', 'добыча', 'довезти', 'доверенный', 'доверие', 'доверху', 'доверчиво', 'доверчивый', 'довершать', 'доверять', 'доверяться', 'довод', 'доводить', 'довольно', 'довольный', 'довольство', 'довольствоваться', 'дог', 'догадка', 'догадываться', 'догнать', 'договаривать', 'договариваться', 'договор', 'догонять', 'догорать', 'доедать', 'доезжать', 'доезжачий', 'дождаться', 'дождик', 'дождливый', 'дождь', 'доживать', 'дожидаться', 'доза', 'доказательство', 'доказывать', 'доканчивать', 'доклад', 'докладывать', 'доколе', 'доктор', 'докторша', 'документ', 'долг', 'долгий', 'долго', 'долгоруков', 'долее', 'долетать', 'долженствовать', 'должно', 'должное', 'должность', 'должный', 'долой', 'долохов', 'доля', 'дом', 'дома', 'домашние', 'домашний', 'домик', 'домой', 'домочадец', 'дон', 'донельзя', 'донесение', 'донжуан', 'доносить', 'доноситься', 'донской', 'донце', 'допевать', 'допивать', 'допрашивать', 'допрос', 'допускать', 'допущение', 'дорога', 'дорого', 'дорогобуж', 'дорогой', 'дорогомиловский', 'дорожить', 'дорожка', 'дорожный', 'дорохов', 'досада', 'досадливо', 'досадно', 'досадный', 'досадовать', 'доселе', 'доска', 'досказывать', 'дослушивать', 'доставать', 'доставаться', 'доставление', 'доставлять', 'достаточно', 'достаточный', 'достигать', 'достигаться', 'достижение', 'достоверно', 'достоверность', 'достоинство', 'достойно', 'достойный', 'достопримечательность', 'достославный', 'достоуважаемый', 'достояние', 'доступный', 'досуг', 'дотла', 'дотрагиваться', 'дотрогиваться', 'доход', 'доходец', 'доходить', 'дохтура', 'дохтуров', 'дочесывать', 'дочитывать', 'дочь', 'дощатый', 'др', 'драгоценный', 'драгун', 'драгунов', 'драгунский', 'дразнить', 'драка', 'драма', 'драматический', 'драть', 'драться', 'дребезжать', 'древко', 'древние', 'древний', 'древо', 'дрезден', 'дремать', 'дрисс', 'дрисский', 'дробить', 'дрова', 'дрогнуть', 'дрожание', 'дрожать', 'дрожечка', 'дрожки', 'дрожь', 'дрон', 'дронушка', 'друбецкая', 'друбецкой', 'друг', 'другой', 'дружба', 'дружелюбный', 'дружески', 'дружеский', 'дружина', 'дружно', 'дружный', 'дружок', 'дружочек', 'дрянной', 'дряхлый', 'дуб', 'дубина', 'дуга', 'дуло', 'думать', 'думаться', 'дунай', 'дунайский', 'дуняша', 'дура', 'дурак', 'дурацкий', 'дурачок', 'дурень', 'дурить', 'дурно', 'дурной', 'дурнота', 'дурь', 'дуть', 'дух', 'духи', 'духовенство', 'духовник', 'духовный', 'духота', 'душа', 'душевный', 'душенька', 'душистый', 'душить', 'душный', 'дуэль', 'дым', 'дымиться', 'дымковый', 'дымок', 'дыра', 'дырочка', 'дыхание', 'дышать', 'дышло', 'дышловый', 'дьявол', 'дьякон', 'дьячок', 'дюпор', 'дюренштейн', 'дюрок', 'дюронеля', 'дюссекова', 'дюшенуа', 'дяденька', 'дядька', 'дядюшка', 'дядюшкин', 'дядя', 'е', 'евангелие', 'евангельский', 'европа', 'европейский', 'евстафьевич', 'егерский', 'египет', 'египетский', 'его', 'еда', 'едать', 'едва', 'единица', 'единичный', 'единовременно', 'единовременный', 'единственно', 'единственный', 'единство', 'единый', 'едкий', 'едставлять', 'ее', 'ежа', 'ежегодно', 'ежедневно', 'ежедневный', 'ежели', 'ежеминутный', 'езда', 'ездить', 'ездок', 'екатерина', 'екатерининский', 'еле', 'елена', 'елизавета', 'еловый', 'ель', 'емша', 'ерема', 'ерз', 'ермолов', 'еси', 'если', 'естественно', 'естественность', 'естественный', 'естествоиспытатель', 'есть', 'ефим', 'ефрейтор', 'ехать', 'ечкин', 'еще', 'ж', 'жабо', 'жаворонок', 'жадно', 'жадность', 'жадный', 'жалеть', 'жалить', 'жалкий', 'жалко', 'жалоба', 'жалобно', 'жалобный', 'жалование', 'жаловать', 'жаловаться', 'жалостно', 'жалостный', 'жалость', 'жаль', 'жандарм', 'жанлис', 'жар', 'жара', 'жареный', 'жаркий', 'жарко', 'жать', 'жаться', 'жгучий', 'ждать', 'же', 'жевать', 'жезл', 'желаемый', 'желание', 'желанный', 'желать', 'железка', 'железный', 'желобок', 'желтизна', 'желтоватый', 'желтый', 'желудок', 'желчно', 'желчный', 'желчь', 'жемчуг', 'жена', 'женатый', 'женевец', 'женить', 'женитьба', 'жениться', 'жених', 'женский', 'женщина', 'женя', 'жерар', 'жерве', 'жеребец', 'жерк', 'жерков', 'жертва', 'жертвование', 'жертвовать', 'жест', 'жесткий', 'жестокий', 'жестоко', 'жестокостия', 'жестокость', 'жечь', 'живо', 'живой', 'живописец', 'живописно', 'живость', 'живот', 'животное', 'животный', 'живьем', 'жига', 'жид', 'жидкий', 'жизненность', 'жизненный', 'жизнить', 'жизнь', 'жила', 'жилет', 'жилинский', 'жилистый', 'жилище', 'жир', 'жирный', 'житейский', 'житель', 'житие', 'жить', 'жмурки', 'жнивье', 'жобер', 'жозеф', 'жоконда', 'жорж', 'жрать', 'жребий', 'жужжание', 'жужжать', 'журнал', 'журналист', 'жутко', 'жюли', 'жюно', 'за', 'забава', 'забавлять', 'забавляться', 'забавно', 'забавность', 'забавный', 'забалтываться', 'забвение', 'забегать', 'забивать', 'забирать', 'забираться', 'заблестеть', 'заблудшийся', 'заблуждаться', 'заблуждение', 'забог', 'заболевать', 'заболеть', 'забор', 'забота', 'заботиться', 'заботливость', 'заботливый', 'забредать', 'забривать', 'забросить', 'забрызгать', 'забывать', 'забываться', 'забывчивость', 'забытый', 'забытье', 'заваливать', 'заваливаться', 'заведение', 'заведовать', 'завертывать', 'завертываться', 'завершать', 'завеса', 'завещание', 'завещать', 'завидовать', 'завизжать', 'завираться', 'зависеть', 'зависимость', 'зависимый', 'завистливый', 'зависть', 'завитой', 'завладевать', 'завлекать', 'завлечение', 'завод', 'заводить', 'заводиться', 'завоевание', 'завоеватель', 'завоевывать', 'заворачивать', 'заворачиваться', 'завтг', 'завтра', 'завтрак', 'завтракать', 'завтрашний', 'завывание', 'завыть', 'завязнуть', 'завязывать', 'завязываться', 'загаживать', 'загибать', 'загибаться', 'заглавие', 'заглаживать', 'заглушать', 'заглушаться', 'заглядывать', 'заглядываться', 'загнать', 'заговаривать', 'заговор', 'заговорить', 'загораживание', 'загораживать', 'загораться', 'загорелый', 'загородный', 'заготавливать', 'заграничный', 'загреметь', 'загромождать', 'загубить', 'загудеть', 'зад', 'задавать', 'задавливать', 'заданный', 'задача', 'задвигать', 'задвижка', 'задергать', 'задерживать', 'задирать', 'задний', 'задок', 'задребезжать', 'задремать', 'задремывать', 'задрожать', 'задумчиво', 'задумчивость', 'задумчивый', 'задумывать', 'задумываться', 'задушевный', 'задыхаться', 'задышать', 'заезд', 'заезжать', 'зажаривать', 'заждаться', 'заживать', 'зажигайт', 'зажигать', 'зажигаться', 'зажимать', 'зажиреть', 'зажмуриваться', 'зазвенеть', 'зазвучать', 'зазнобить', 'зазывать', 'заиграть', 'заиндеветь', 'заинтересовывать', 'заискивать', 'заискивающе', 'займище', 'зайти', 'заказ', 'заказывать', 'заканчивать', 'заканчиваться', 'закатить', 'закатывать', 'закидывать', 'закинуть', 'закипать', 'заклад', 'закладывать', 'заклепка', 'заключать', 'заключаться', 'заключение', 'заковывать', 'заколачивать', 'заколдованный', 'заколебаться', 'заколыхаться', 'закон', 'законность', 'законный', 'законодательный', 'законодательство', 'закоренелый', 'закоченеть', 'закреплять', 'закричать', 'закружиться', 'закрывать', 'закрываться', 'закрытый', 'закуривать', 'закуска', 'закусывать', 'закутывать', 'зал', 'зала', 'залезать', 'залетаев', 'залечиваться', 'залив', 'заливать', 'заливаться', 'залог', 'залп', 'замалчивать', 'заманивание', 'заманивать', 'заманчивый', 'замаривать', 'замарывать', 'замахать', 'замахиваться', 'замедление', 'замена', 'заменять', 'заменяться', 'замерзать', 'заметать', 'заметно', 'заметный', 'замечание', 'замечательно', 'замечательный', 'замечать', 'замешательство', 'замешать', 'замешаться', 'замешкаться', 'заминать', 'заминаться', 'замирание', 'замирать', 'замиряться', 'замок', 'замолкать', 'замолчать', 'заморозок', 'замоскворечье', 'замуж', 'замужем', 'замужество', 'замучивать', 'замысел', 'занавес', 'занавеска', 'занавесь', 'занести', 'занимание', 'занимательный', 'занимать', 'заниматься', 'заново', 'занятие', 'занятой', 'занятый', 'заодно', 'запад', 'западный', 'западня', 'запаздывать', 'запамятовать', 'запас', 'запасный', 'запах', 'запахивать', 'запахнуть', 'запачкать', 'запевать', 'запекаться', 'запечатывать', 'запивать', 'запинаться', 'запирать', 'запираться', 'записка', 'записной', 'записочка', 'записывать', 'запись', 'заплаканный', 'заплакать', 'заплатить', 'заплетать', 'запог', 'запоминать', 'запотелый', 'запрещать', 'запрещение', 'запропадать', 'запрос', 'запружать', 'запрягать', 'запускать', 'запускаться', 'запутанность', 'запутанный', 'запутывать', 'запутываться', 'запылить', 'запыхаться', 'заработок', 'зарастать', 'зареветь', 'зарево', 'зарезать', 'заржать', 'заробеть', 'зарождаться', 'зарок', 'зарыдать', 'зарыться', 'заря', 'заряд', 'зарядный', 'заряжать', 'засада', 'засаживать', 'засаживаться', 'засвечиваться', 'засвистать', 'заседание', 'заседать', 'засека', 'засекать', 'засиживаться', 'засим', 'заскакивать', 'заслонять', 'заслуга', 'заслуживать', 'заслышать', 'заслышаться', 'засмеяться', 'заснуть', 'засовывать', 'засопеть', 'заспанный', 'заспорить', 'застава', 'заставать', 'заставлять', 'застегивать', 'застегиваться', 'застегнуть', 'застенчиво', 'застенчивость', 'застенчивый', 'застигать', 'застилать', 'застилаться', 'застонать', 'застрельщик', 'заступать', 'заступаться', 'заступнически', 'заступничество', 'застучать', 'засуетиться', 'засучивать', 'засыпать', 'засыхать', 'затаенный', 'затасканный', 'затворить', 'затворять', 'затворяться', 'затевать', 'затем', 'затемнять', 'затея', 'затихать', 'зато', 'заторопиться', 'затрагивать', 'затрещать', 'затрогивать', 'затруднение', 'затруднительный', 'затруднять', 'затылок', 'затягиваться', 'заутреня', 'захар', 'захарыч', 'захват', 'захватить', 'захватнический', 'захватывать', 'захватывающий', 'захлебываться', 'захлипать', 'захлопать', 'захлопывать', 'заходить', 'захотеть', 'захотеться', 'захохотать', 'захрипеть', 'зацеплять', 'зацепляться', 'зачем', 'зачесывать', 'зачинщик', 'зачисление', 'зачислять', 'зачмокать', 'зашевелиться', 'зашивать', 'зашипеть', 'зашлепать', 'зашуметь', 'защита', 'защитительный', 'защитник', 'защищать', 'защищаться', 'защищение', 'заявление', 'заявлять', 'заяц', 'звание', 'званый', 'звать', 'звезда', 'звездный', 'звенеть', 'звено', 'звериный', 'зверский', 'зверь', 'звон', 'звонить', 'звонкий', 'звонко', 'звук', 'звучать', 'звучно', 'звучный', 'здание', 'здесь', 'здешний', 'здог', 'здороваться', 'здорово', 'здоровый', 'здоровье', 'здравствовать', 'здравый', 'здржинский', 'зевать', 'зевота', 'зеленеть', 'зеленить', 'зеленый', 'зелень', 'земледелец', 'земледелие', 'земля', 'земляника', 'землянка', 'землячка', 'земной', 'земский', 'зеркало', 'зеркальный', 'зима', 'зимний', 'зло', 'злоба', 'злобно', 'злобный', 'злодей', 'злодейство', 'злодеяние', 'злой', 'злоупотребление', 'злоязычный', 'знак', 'знакомая', 'знакомец', 'знакомство', 'знакомый', 'знаменитость', 'знаменитый', 'знаменка', 'знамя', 'знание', 'знатность', 'знатный', 'знаток', 'знать', 'значение', 'значит', 'значительно', 'значительность', 'значительный', 'значить', 'зов', 'золовка', 'золото', 'золотой', 'зоология', 'зоркий', 'зрачок', 'зрелище', 'зрение', 'зритель', 'зрительный', 'зрячий', 'зуб', 'зубова', 'зубовский', 'зять', 'и', 'ибо', 'иван', 'иванович', 'ивановна', 'иванушка', 'иваныч', 'ивел', 'иверский', 'игнат', 'игнатьевна', 'игнатьич', 'иголка', 'иголочка', 'игольный', 'игорный', 'игра', 'играть', 'играющий', 'игреневый', 'игрок', 'игрушечный', 'игрушка', 'идеал', 'идея', 'идиот', 'идти', 'иезуит', 'иена', 'иерархия', 'иероглиф', 'иерусалим', 'из', 'изба', 'избавить', 'избавление', 'избавлять', 'избавляться', 'избегать', 'избежание', 'избивать', 'избирать', 'избрание', 'избранный', 'избушка', 'избыток', 'известие', 'известно', 'известный', 'извещать', 'извиваться', 'извинение', 'извинять', 'извиняться', 'извлекать', 'извозчик', 'изволить', 'изволок', 'изгибаться', 'изгнание', 'изголовье', 'изгонять', 'изготавливаться', 'издавать', 'издалека', 'издали', 'издание', 'издатель', 'издеваться', 'издыхать', 'излагать', 'изламывать', 'изливать', 'изливаться', 'излишек', 'излишний', 'изложение', 'измазывать', 'измаильский', 'измайловский', 'измена', 'изменение', 'изменить', 'изменник', 'изменять', 'изменяться', 'изминаться', 'измученный', 'измучивать', 'изнуренный', 'изнурять', 'изнутри', 'изо', 'изобличать', 'изображать', 'изображаться', 'изображение', 'изобретатель', 'изобретать', 'изогнутый', 'изредка', 'изречение', 'изрубать', 'изуверство', 'изумительный', 'изумлять', 'изуродовать', 'изучать', 'изучаться', 'изучение', 'изъявлять', 'изыскание', 'изысканный', 'изыскивать', 'изюм', 'изящество', 'изящно', 'изящный', 'иисус', 'иисусов', 'иказание', 'икона', 'икра', 'илагин', 'илагинский', 'иларионович', 'или', 'иллюминатство', 'иллюминация', 'иллюстрация', 'ильин', 'ильинична', 'ильинишный', 'ильич', 'ильюшка', 'илья', 'имать', 'имение', 'именинница', 'именинный', 'именины', 'именно', 'иметь', 'иметься', 'император', 'императорский', 'императрица', 'империал', 'империя', 'импэратор', 'имущество', 'имя', 'иначе', 'индия', 'иней', 'инерция', 'инкогнито', 'иногда', 'иной', 'иностранец', 'иностранный', 'иноходь', 'инстинкт', 'инстинктивно', 'институт', 'инструмент', 'интеллектуальный', 'интервал', 'интерес', 'интересно', 'интересный', 'интересовать', 'интересоваться', 'интимность', 'интимный', 'интонация', 'интрига', 'интриганка', 'интриговать', 'иоанн', 'иогель', 'иосиф', 'ипполит', 'иронически', 'иронический', 'ироничность', 'ирония', 'искажаться', 'искание', 'искатель', 'искательный', 'искать', 'исключать', 'исключая', 'исключение', 'исключительно', 'исключительный', 'искомый', 'искоренять', 'искра', 'искренний', 'искренно', 'искренность', 'искупать', 'искусно', 'искусный', 'искусственно', 'искусственный', 'искусство', 'искушение', 'испанец', 'испания', 'испанский', 'испать', 'испачкать', 'испивать', 'исписывать', 'исплаканный', 'исплакать', 'исповедовать', 'исповедь', 'исподлобья', 'исполнение', 'исполнитель', 'исполнительность', 'исполнительный', 'исполнять', 'исполняться', 'использовать', 'испортить', 'исправление', 'исправлять', 'исправляться', 'исправник', 'исправно', 'исправность', 'исправный', 'испуг', 'испуганно', 'испуганный', 'испугать', 'испугаться', 'испытание', 'испытующий', 'испытывать', 'исследовать', 'иссыхать', 'истекать', 'истина', 'истинно', 'истинный', 'истомленный', 'историк', 'исторический', 'история', 'источник', 'истощение', 'истощенный', 'истощить', 'истребление', 'истреблять', 'истукан', 'исход', 'исходить', 'исхудать', 'исцелять', 'исчезать', 'исчезновение', 'итак', 'итал', 'италия', 'итальянец', 'итальянский', 'итог', 'их', 'ихний', 'ишь', 'ищущий', 'июль', 'июнь', 'июньский', 'й', 'йорк', 'к', 'ка', 'кабак', 'кабалистический', 'кабинет', 'каблук', 'каблучок', 'кабы', 'кавалер', 'кавалергард', 'кавалергардский', 'кавалерийский', 'кавалерист', 'кавалерия', 'кавардачок', 'кавелин', 'кавказ', 'кага', 'кадило', 'кадка', 'кадудаль', 'кадушка', 'каждый', 'кажется', 'каз', 'казак', 'казакин', 'казанский', 'казань', 'казаться', 'казачий', 'казачок', 'казенный', 'казнить', 'казнь', 'кайсаров', 'как', 'каков', 'каково', 'какой', 'кал', 'калачик', 'калитка', 'калиш', 'калоша', 'калуга', 'калужский', 'каменка', 'каменный', 'каменскиим', 'каменский', 'каменщик', 'камень', 'каменья', 'камергер', 'камердинер', 'камерколлежский', 'камзол', 'камин', 'кампания', 'камушек', 'канава', 'каналья', 'канат', 'канва', 'кандалы', 'канонада', 'кантата', 'канун', 'канцелярия', 'канцлер', 'капать', 'капитан', 'капитуляция', 'капли', 'капля', 'капор', 'капот', 'капрал', 'каприз', 'капризно', 'капуста', 'капустный', 'карабах', 'карагин', 'карагина', 'карандаш', 'каратаев', 'карать', 'караул', 'караулить', 'караулка', 'караульный', 'каре', 'карета', 'каретный', 'карий', 'каркать', 'карл', 'карла', 'карловна', 'карлыч', 'карман', 'карп', 'карпушка', 'карта', 'картавить', 'картечный', 'картечь', 'картина', 'картон', 'картофель', 'карточка', 'карточный', 'картошка', 'картуз', 'карусель', 'карьера', 'касательно', 'касаться', 'каска', 'кастр', 'катание', 'катастрофа', 'катать', 'кататься', 'категория', 'катерина', 'катечка', 'катить', 'католический', 'каторга', 'каторжный', 'катя', 'каурый', 'кафтан', 'качать', 'качаться', 'качество', 'качнуться', 'каша', 'кашлять', 'кашмир', 'каяться', 'квадрат', 'квартал', 'квартальный', 'квартет', 'квартира', 'квартиргер', 'квас', 'кверху', 'кг', 'кегельный', 'кемпийский', 'кенигсберг', 'керубини', 'кесарь', 'кибитка', 'кибиточка', 'кивать', 'кивер', 'кивнуть', 'кидать', 'киев', 'киевский', 'кинжал', 'кинуть', 'киот', 'кипа', 'кипеть', 'киргизский', 'кирил', 'кирилл', 'кириллович', 'кирилович', 'кирстен', 'кисейный', 'кислород', 'кисточка', 'кисть', 'китайский', 'кишеть', 'кишка', 'клавикорд', 'клавикорды', 'клад', 'кладовая', 'кланяться', 'клапан', 'клапаред', 'классический', 'классный', 'класть', 'клаузевиц', 'клеветать', 'клеман', 'клетчатый', 'кликать', 'кликнуть', 'климат', 'клирос', 'клич', 'клок', 'клонить', 'клониться', 'клочок', 'клуб', 'клубиться', 'клубный', 'клубок', 'клумба', 'ключ', 'ключарев', 'ключница', 'клясться', 'клятва', 'кляча', 'кн', 'книга', 'книгопечатание', 'книжка', 'книжный', 'книзу', 'кнут', 'княгиня', 'княжеский', 'княжество', 'княжна', 'княжнин', 'князь', 'князьков', 'ко', 'коалиция', 'кобель', 'кобельница', 'кобыла', 'коварство', 'ковать', 'ковер', 'коверный', 'коврик', 'ког', 'когда', 'кодекс', 'кожа', 'кожаный', 'козловский', 'козлы', 'козырек', 'козырь', 'кой', 'койка', 'кокетка', 'кокетливый', 'кокетничать', 'кокетство', 'коко', 'кол', 'колбаса', 'колбасник', 'колдун', 'колебание', 'колебаться', 'коленка', 'коленкур', 'колено', 'колесо', 'колечко', 'колея', 'коли', 'количество', 'колкий', 'колкость', 'коллекция', 'колода', 'колодезня', 'колодец', 'колодка', 'колодник', 'колокол', 'колокольцо', 'колокольчик', 'колонна', 'колонновожатый', 'колонный', 'колотить', 'колоть', 'колоча', 'колочь', 'колпак', 'колумбов', 'колыхаться', 'колышек', 'коль', 'кольнуть', 'кольцо', 'колязин', 'коляска', 'команда', 'командир', 'командировка', 'командный', 'командование', 'командовать', 'комедиант', 'комедия', 'комета', 'комиссар', 'комиссариатский', 'комиссионер', 'комиссия', 'комитет', 'комический', 'комкать', 'коммент', 'комментарий', 'коммуникационный', 'комната', 'комнатка', 'комод', 'компан', 'компания', 'компаньонка', 'комплимент', 'композитор', 'компрометировать', 'кон', 'конвент', 'конверт', 'конвоировать', 'конвой', 'конвойный', 'конгресс', 'конда', 'конец', 'конечно', 'конечный', 'конница', 'конногвардейский', 'конный', 'коновницын', 'коновод', 'коновязь', 'консервативный', 'консилиум', 'константин', 'конституционный', 'конституция', 'консул', 'консульство', 'континентальный', 'контора', 'контрреволюционный', 'контузить', 'конус', 'конфликт', 'конфузиться', 'концерт', 'кончать', 'кончаться', 'конченый', 'кончик', 'кончина', 'конь', 'конюшенный', 'конюшня', 'копать', 'копенгагенский', 'коперник', 'копна', 'копошиться', 'копыто', 'кора', 'корабль', 'коренастый', 'коренной', 'корень', 'коридор', 'коричневый', 'корм', 'кормилица', 'кормить', 'кормление', 'корнет', 'коробочка', 'коровник', 'королева', 'королевский', 'королевство', 'король', 'корона', 'коронация', 'коротенький', 'короткий', 'короче', 'корпия', 'корпус', 'корпусной', 'корпусный', 'корсаж', 'корсиканский', 'корточки', 'корчев', 'корчить', 'корчма', 'корявый', 'коса', 'косить', 'коситься', 'косой', 'костер', 'костлявый', 'косточка', 'костромской', 'костыль', 'кость', 'костюм', 'кот', 'котел', 'котелок', 'котенок', 'котильон', 'котлета', 'который', 'кофе', 'кофей', 'кофта', 'кофточка', 'кочка', 'кочубей', 'кошелек', 'кошечка', 'кошка', 'кощунство', 'край', 'крайне', 'крайний', 'крайность', 'красавец', 'красавица', 'красиво', 'красивый', 'краска', 'красненский', 'краснеть', 'краснеться', 'красноватый', 'красное', 'красноречиво', 'красноречивый', 'красноречие', 'краснорожий', 'красный', 'красота', 'красть', 'кратко', 'крашеный', 'кредитор', 'кремень', 'кремлевский', 'кремль', 'кремортартар', 'кремс', 'кремский', 'крепкий', 'крепко', 'крепнуть', 'крепостной', 'крепость', 'кресло', 'крест', 'крестик', 'крестить', 'креститься', 'крестник', 'крестный', 'крестовый', 'крестьянин', 'крестьянский', 'крещение', 'кривой', 'кривоногий', 'кригс', 'кризис', 'крик', 'крикнуть', 'критик', 'критика', 'критиковать', 'критический', 'кричать', 'кроат', 'кров', 'кровавый', 'кроватка', 'кровать', 'кровожадный', 'кровь', 'кроме', 'кроткий', 'кротко', 'кротость', 'крошечка', 'крошечный', 'круг', 'круглолицый', 'круглый', 'кругом', 'кружева', 'кружевной', 'кружиться', 'кружка', 'кружок', 'крупа', 'крупный', 'круто', 'крутой', 'крушить', 'крыло', 'крылышко', 'крыльцо', 'крымский', 'крыть', 'крыша', 'крышка', 'крякнуть', 'кряхтение', 'кряхтеть', 'кстати', 'кто', 'кубарем', 'куда', 'кудрявый', 'кузина', 'кузминишну', 'кузминишный', 'кузнец', 'кузов', 'кузьмич', 'кукла', 'кулак', 'кулиса', 'кульер', 'культура', 'кумач', 'кунктатор', 'купель', 'купец', 'купеческий', 'купечество', 'купить', 'купно', 'купол', 'купор', 'купчик', 'купчиха', 'курагин', 'куракин', 'куракино', 'куранты', 'курган', 'курганный', 'курение', 'курить', 'курица', 'курносый', 'курский', 'куртка', 'курточка', 'курчавый', 'курьер', 'кусать', 'кусок', 'кусочек', 'куст', 'кустарник', 'кутайс', 'кутайсов', 'кутас', 'кутеж', 'кутежный', 'кутейник', 'кутить', 'кутузов', 'кутузовский', 'кухарка', 'кухня', 'куцавейка', 'куча', 'кучер', 'кучерской', 'кучка', 'куш', 'кушак', 'кушанье', 'кушать', 'кх', 'л', 'лабаз', 'лавка', 'лавочка', 'лавочник', 'лавр', 'лавра', 'лавров', 'лаврушка', 'лагерь', 'лад', 'ладен', 'ладиться', 'ладно', 'ладный', 'ладонь', 'ладоши', 'лаз', 'лазарев', 'лазарь', 'лазить', 'лазоревый', 'лазутчик', 'лай', 'лак', 'лакей', 'ламбах', 'лампада', 'лампадка', 'ланжерон', 'ланна', 'ланский', 'лапа', 'лапка', 'лапоть', 'ларионович', 'ларрей', 'ласа', 'ласка', 'ласкательный', 'ласкать', 'ласкаться', 'ласково', 'ласковость', 'ласковый', 'латинский', 'латы', 'латынь', 'лафатер', 'лафет', 'лгать', 'лебедь', 'лев', 'лева', 'левее', 'левый', 'легион', 'легитимист', 'легкий', 'легко', 'легкое', 'легкомысленно', 'легкомысленный', 'легкомыслие', 'легкость', 'лед', 'лежать', 'лежачий', 'лезть', 'лейка', 'лекарский', 'лекарство', 'лекарь', 'лекция', 'леля', 'лениво', 'ленивый', 'лента', 'ленточка', 'лень', 'лепет', 'лепетание', 'лепешка', 'лепить', 'леппиха', 'леппихом', 'лес', 'лесистый', 'лесной', 'лесом', 'лестница', 'лестно', 'лестный', 'лесть', 'лет', 'летать', 'леташевка', 'лететь', 'летний', 'лето', 'леток', 'лех', 'лечение', 'лечить', 'лечиться', 'лживый', 'ли', 'либерал', 'либеральный', 'либо', 'ливрейный', 'ливрея', 'лиза', 'лик', 'лили', 'лиловый', 'лимонад', 'линейка', 'линия', 'липа', 'липовый', 'лиса', 'лисий', 'лисица', 'лист', 'листик', 'листок', 'листочек', 'литовский', 'лить', 'литься', 'лиф', 'лихачев', 'лихой', 'лихорадка', 'лихорадочно', 'лихорадочный', 'лихтенштейн', 'лицезрение', 'лицо', 'личико', 'лично', 'личность', 'личный', 'лишать', 'лишаться', 'лишение', 'лишенный', 'лишний', 'лишь', 'лоб', 'лобастый', 'лобный', 'ловить', 'ловкий', 'ловко', 'ловкость', 'ловушка', 'ловчий', 'логика', 'логический', 'логично', 'логичный', 'лодка', 'лодя', 'ложа', 'ложе', 'ложиться', 'ложка', 'ложно', 'ложность', 'ложный', 'ложь', 'лозунг', 'локон', 'локоть', 'ломаный', 'ломать', 'ломаться', 'ломиться', 'лондон', 'лопата', 'лопнуть', 'лопотать', 'лопухин', 'лористон', 'лорнет', 'лоррен', 'лосины', 'лохматый', 'лошаденка', 'лошадиный', 'лошадка', 'лошадь', 'лощина', 'лубянка', 'луг', 'лужа', 'лужок', 'луиза', 'лука', 'лукавый', 'лукка', 'луна', 'лунный', 'луч', 'лучистый', 'лысина', 'лысогорский', 'лысый', 'ль', 'львович', 'льстить', 'любезник', 'любезно', 'любезность', 'любезный', 'любимец', 'любимица', 'любимый', 'любить', 'любо', 'любоваться', 'любовник', 'любовница', 'любовно', 'любовный', 'любовь', 'любознательность', 'любопытно', 'любопытный', 'любопытство', 'любящий', 'людие', 'людовик', 'людской', 'лютер', 'лядовский', 'ляжка', 'м', 'мавр', 'мавра', 'мавруша', 'маг', 'магазин', 'магдалина', 'магнат', 'магницкий', 'мадагаскар', 'мадам', 'мадемуазель', 'мадера', 'мадиама', 'мадрид', 'мазать', 'мазурка', 'май', 'майор', 'мак', 'макар', 'макарин', 'макарка', 'макаровна', 'македонский', 'макеев', 'маковщина', 'малаша', 'маленький', 'малиновый', 'мало', 'малость', 'малоярославец', 'малый', 'мальбрук', 'мальвинцев', 'мальвинцева', 'мальта', 'мальчик', 'мальчишка', 'мама', 'мамаша', 'мамелюк', 'маменька', 'мамзель', 'мамонов', 'мамоновский', 'маневр', 'маневрировать', 'манер', 'манера', 'манерка', 'манифест', 'мания', 'мантилья', 'мантия', 'маренго', 'мари', 'марина', 'мария', 'маркиз', 'маркиза', 'маркитант', 'марков', 'мармон', 'мародер', 'мародерство', 'мародерствовать', 'маросейка', 'март', 'мартинист', 'марш', 'маршал', 'маршировать', 'маршрут', 'марь', 'марья', 'масака', 'масон', 'масонский', 'масонство', 'масса', 'массивный', 'мастер', 'мастеровой', 'мастерская', 'мастерство', 'матвеевна', 'матвей', 'математика', 'математически', 'математический', 'материал', 'материальный', 'материн', 'материнский', 'материя', 'матерый', 'матка', 'матовый', 'матрена', 'матреш', 'матрешка', 'матушка', 'мать', 'мах', 'махальный', 'махать', 'махнуть', 'мачеха', 'маша', 'машенька', 'машина', 'машинальный', 'машкин', 'мгла', 'мгновение', 'мгновенно', 'мгновенный', 'мебель', 'мега', 'мед', 'медаль', 'медведь', 'медвежий', 'медицина', 'медицинский', 'медленно', 'медленность', 'медленный', 'медлитель', 'медлительно', 'медлительность', 'медлительный', 'медлить', 'медовый', 'межа', 'междоусобие', 'между', 'международный', 'междуцарствие', 'мекленбургец', 'мексика', 'мел', 'меланхолический', 'меланхоличный', 'меланхолия', 'мелек', 'мелкий', 'мелочность', 'мелочный', 'мелочь', 'мелькать', 'мелькнуть', 'мельком', 'мельник', 'мелюков', 'мелюкова', 'мелюковка', 'мемуары', 'менее', 'ментик', 'меньший', 'меньшой', 'менять', 'меняться', 'мера', 'мереть', 'мерзавец', 'мерзавка', 'мерзкий', 'мерзко', 'мерзлый', 'мерзость', 'мерило', 'мерин', 'меркурий', 'мерно', 'мерный', 'мертвец', 'мертвый', 'местечко', 'местность', 'место', 'местр', 'месть', 'месяц', 'месячина', 'месячный', 'металлически', 'металлический', 'метание', 'метать', 'метаться', 'метафизика', 'метивье', 'меттерних', 'механизм', 'механика', 'механический', 'меховой', 'меч', 'мечеть', 'мечта', 'мечтание', 'мечтатель', 'мечтать', 'мешать', 'мешаться', 'мешкать', 'мешков', 'мешок', 'мешочек', 'мещанин', 'мещанский', 'мещерский', 'миг', 'мигать', 'мигрень', 'мизинец', 'микулин', 'мила', 'милан', 'милая', 'миленький', 'милиция', 'милка', 'миллион', 'мило', 'миловидный', 'милок', 'милорадович', 'милосердие', 'милосердый', 'милостиво', 'милостивый', 'милостыня', 'милость', 'милый', 'миля', 'мими', 'мимо', 'мимолетность', 'мина', 'миниатюрист', 'миниатюрный', 'минировать', 'министерство', 'министр', 'миннезенгеров', 'миновать', 'минута', 'минутка', 'минутный', 'минуточка', 'минуть', 'мир', 'мира', 'мириться', 'мирно', 'мирный', 'мировой', 'миродер', 'мироздание', 'миролюбивый', 'мирской', 'мистик', 'мистика', 'мистицизм', 'мистический', 'митенька', 'митрич', 'митька', 'михаил', 'михайла', 'михайло', 'михайлович', 'михайловка', 'михайловна', 'михельсон', 'миша', 'мишка', 'мишо', 'младший', 'млеть', 'мнение', 'мнимый', 'мнить', 'многие', 'многий', 'много', 'многое', 'многоуважаемый', 'множество', 'множитель', 'мо', 'могила', 'могилев', 'могучий', 'могущественный', 'могущество', 'мода', 'модистка', 'модный', 'мож', 'можайск', 'можайский', 'может', 'можно', 'мозаиковый', 'мозг', 'моисей', 'мой', 'мокро', 'мокрый', 'мол', 'молдавия', 'молдавский', 'молебен', 'молебствие', 'молитва', 'молить', 'молиться', 'молния', 'молодежь', 'молоденький', 'молодец', 'молодецкий', 'молодо', 'молодой', 'молодость', 'молодцеватый', 'молодчик', 'моложавый', 'молоко', 'молотить', 'молоток', 'молча', 'молчаливо', 'молчаливость', 'молчаливый', 'молчание', 'молчать', 'мольба', 'мольерово', 'момент', 'монарх', 'монархический', 'монархия', 'монастырь', 'монах', 'монашенка', 'монашеский', 'монета', 'монморанси', 'монолог', 'монтескье', 'моравский', 'моран', 'морда', 'море', 'морель', 'морио', 'морить', 'моро', 'мороженое', 'мороз', 'морозец', 'морозно', 'морозный', 'морозов', 'морской', 'мортемар', 'мортемара', 'мортье', 'морщина', 'морщинистый', 'морщинка', 'морщить', 'морщиться', 'моряк', 'москва', 'москвич', 'москворецкий', 'московский', 'мост', 'мостовая', 'мостовый', 'мосье', 'мотаться', 'мотив', 'мотнуть', 'мохнатый', 'моховой', 'мочь', 'мошенничество', 'мощный', 'мощь', 'мрак', 'мраморный', 'мрачно', 'мрачный', 'мсье', 'му', 'мудрено', 'мудреный', 'мудрец', 'мудрить', 'мудрость', 'мудрый', 'муж', 'мужественный', 'мужество', 'мужик', 'мужицкий', 'мужичок', 'мужской', 'мужчина', 'музыка', 'музыкальный', 'музыкант', 'мука', 'мундир', 'муниципалитет', 'муравей', 'муругий', 'мускул', 'мускулистый', 'мускульный', 'мутный', 'мутон', 'муха', 'муций', 'мучаться', 'мучение', 'мученик', 'мучительно', 'мучительный', 'мучить', 'мучиться', 'мушкетер', 'мы', 'мысленно', 'мыслие', 'мыслимый', 'мыслитель', 'мыслить', 'мысль', 'мытищи', 'мышка', 'мышление', 'мышца', 'мюрат', 'мюрата', 'мягкий', 'мягко', 'мягкость', 'мякоть', 'мясницкий', 'мясо', 'мячик', 'н', 'на', 'набегать', 'набекрень', 'набережная', 'набивать', 'набирать', 'набираться', 'наблюдатель', 'наблюдательность', 'наблюдательный', 'наблюдать', 'наблюдение', 'набожный', 'набок', 'набор', 'наваливаться', 'навалить', 'наведываться', 'навеки', 'наверно', 'наверное', 'навертываться', 'наверх', 'наверху', 'навес', 'навешивать', 'навещать', 'навзничь', 'нависать', 'наводить', 'навоз', 'навсегда', 'навстречу', 'навыворот', 'навыкате', 'нагайка', 'нагибать', 'нагибаться', 'нагло', 'наглый', 'нагноение', 'наговаривать', 'наголо', 'нагонять', 'нагорать', 'наготове', 'награбить', 'награда', 'награждать', 'награждение', 'нагружать', 'над', 'надавливать', 'надвигать', 'надвигаться', 'надвое', 'наддавать', 'надевать', 'надежда', 'наделать', 'надеяться', 'надлежащий', 'надо', 'надобно', 'надоедать', 'надписывать', 'надпись', 'надрываться', 'надувать', 'надуваться', 'надушить', 'надушиться', 'наедаться', 'наедине', 'наезжать', 'нажаться', 'наживаться', 'нажимать', 'назавтра', 'назад', 'назади', 'название', 'назем', 'назидательный', 'назначать', 'назначаться', 'назначение', 'назначениеглавнокомандующий', 'называть', 'называться', 'наиболее', 'наивно', 'наивность', 'наивный', 'наизусть', 'наименование', 'наказание', 'наказывать', 'накануне', 'накатывать', 'накинуть', 'наклонение', 'наклонясь', 'наклонять', 'наклоняться', 'наконец', 'накрывать', 'налагать', 'налево', 'налегать', 'налетать', 'наливать', 'наливаться', 'наливка', 'налитой', 'намалевывать', 'намедни', 'намек', 'намекать', 'намереваться', 'намерен', 'намерение', 'намеренный', 'намеривать', 'наносить', 'наоборот', 'наобум', 'нападать', 'нападение', 'нападывать', 'напев', 'наперевес', 'наперед', 'наперерез', 'напечатать', 'напиваться', 'напирать', 'написать', 'наповал', 'наполеон', 'наполеонов', 'наполеоновский', 'наполнять', 'наполняться', 'наполовину', 'напомаживать', 'напоминание', 'напоминать', 'напор', 'направиться', 'направление', 'направлять', 'направляться', 'направо', 'напрасно', 'напрасный', 'например', 'напротив', 'напруживаться', 'напрягать', 'напряжение', 'напряженно', 'напряженность', 'напряженный', 'напугать', 'напудривать', 'напускать', 'напускаться', 'напыщенно', 'наравне', 'нарастать', 'нарисовать', 'народ', 'народец', 'народный', 'народонаселение', 'нарочно', 'наружно', 'наружность', 'наружный', 'наружу', 'нарушать', 'нарушение', 'нарышкино', 'наряд', 'нарядный', 'наряжать', 'насвистывать', 'наседать', 'население', 'населять', 'насилие', 'насилу', 'насильно', 'наскакивать', 'насквозь', 'насколько', 'наскучивать', 'наслаждаться', 'наслаждение', 'наследник', 'наследница', 'наследственный', 'наследство', 'насмерть', 'насмешка', 'насмешливо', 'насмешливость', 'насмешливый', 'насморк', 'наставать', 'наставление', 'наставник', 'настаивать', 'настасья', 'настигать', 'настолько', 'настораживать', 'настороже', 'настояние', 'настоятель', 'настоятельно', 'настоящее', 'настоящий', 'настрадаться', 'настраивать', 'настроение', 'наступательный', 'наступать', 'наступление', 'насупливаться', 'насчет', 'насыпать', 'насыпь', 'натали', 'наталья', 'натаскивать', 'натачивать', 'наташа', 'наташин', 'наташина', 'наткнуться', 'наточить', 'натура', 'натыкаться', 'натягивать', 'натянуто', 'натянутый', 'наука', 'научать', 'научаться', 'нахмуренный', 'нахмуривать', 'нахмуриваться', 'находить', 'находиться', 'находчивый', 'национальность', 'нация', 'начало', 'начальник', 'начальнический', 'начальство', 'начальствование', 'начальствовать', 'начальствующий', 'начатие', 'начертать', 'начерчивать', 'начинание', 'начинать', 'начинаться', 'начитанность', 'наш', 'нашествие', 'не', 'неаполитанец', 'неаполитанский', 'неаполь', 'небесный', 'неблагодарность', 'неблагодарный', 'неблагоразумный', 'неблагородный', 'небо', 'небогатый', 'небольшой', 'небось', 'небрежно', 'небрежность', 'небрежный', 'неважный', 'неведомый', 'невежество', 'неверие', 'неверно', 'неверный', 'невероятно', 'невероятный', 'невеселый', 'невеста', 'невестка', 'невещественный', 'невиданный', 'невидимый', 'невидный', 'невинность', 'невинный', 'невмешательство', 'невнимание', 'невнимательно', 'невнимательный', 'невоенный', 'невозвратимый', 'невозвратный', 'невоздержание', 'невозможно', 'невозможность', 'невозможный', 'невольно', 'невольный', 'невпопад', 'невыгода', 'невыгодный', 'невыносимый', 'невыразимый', 'невысокий', 'невыспавшийся', 'негде', 'негодование', 'негодовать', 'негодяй', 'негромкий', 'негромко', 'недавний', 'недавно', 'недалеко', 'недаром', 'недействительность', 'недействительный', 'неделя', 'недоброжелательно', 'недоброжелательный', 'недоброжелательство', 'недоверие', 'недоверчиво', 'недоверчивый', 'недовольно', 'недовольный', 'недовольство', 'недолго', 'недоразумение', 'недоставать', 'недостаток', 'недостаточно', 'недостаточный', 'недостижимый', 'недостойный', 'недоступность', 'недоступный', 'недосчитываться', 'недоумевать', 'недоумение', 'недурной', 'неестественно', 'неестественность', 'неестественный', 'нежелание', 'нежели', 'нежно', 'нежность', 'нежный', 'независимо', 'независимость', 'независимый', 'незаконный', 'незаметно', 'незаметный', 'незамеченный', 'незанятый', 'незачем', 'нездоровый', 'нездоровье', 'незнакомый', 'незнание', 'незначительный', 'неизбежно', 'неизбежность', 'неизбежный', 'неизведанный', 'неизвестно', 'неизвестность', 'неизвестный', 'неизменно', 'неизменный', 'неизмеримый', 'неимущий', 'неискренний', 'неисполнение', 'неисполненный', 'неисправность', 'неистовый', 'неисчерпаемый', 'неисчислимый', 'нейти', 'нейтралитет', 'некий', 'некогда', 'некого', 'некоторые', 'некоторый', 'некрасиво', 'некрасивость', 'некрасивый', 'некстати', 'некуда', 'нелегальный', 'неловкий', 'неловко', 'неловкость', 'нельзя', 'нельсон', 'неман', 'немедленно', 'немец', 'немецкий', 'немилость', 'неминуемо', 'неминуемый', 'немка', 'немногий', 'немного', 'немножечко', 'немножко', 'немой', 'немолодой', 'немыслимо', 'немыслимый', 'ненавидеть', 'ненавидящий', 'ненавистный', 'ненависть', 'ненаглядный', 'ненадолго', 'ненатуральный', 'ненужность', 'ненужный', 'необработанный', 'необходимо', 'необходимость', 'необходимый', 'необъясненный', 'необъяснимый', 'необыкновенно', 'необыкновенный', 'необычайно', 'необычайность', 'необычайный', 'неограниченный', 'неодетый', 'неоднократно', 'неоднократный', 'неодобрительно', 'неожиданно', 'неожиданность', 'неожиданный', 'неоконченный', 'неопределенно', 'неопределенность', 'неопределенный', 'неопределимый', 'неопровержимый', 'неопытный', 'неосновательно', 'неосторожно', 'неосторожный', 'неотразимый', 'неотступный', 'неотъемлемый', 'неофициально', 'неохотно', 'неоцененный', 'неощущать', 'непереставать', 'неписаный', 'непобедимость', 'непобедимый', 'непогрешимый', 'неподвижно', 'неподвижность', 'неподвижный', 'неподражаемый', 'непоколебимый', 'неполный', 'непонимание', 'непонятно', 'непонятный', 'непоправимый', 'непорочность', 'непоследовательный', 'непосредственно', 'непосредственный', 'непостижимый', 'непохожий', 'непочтительный', 'неправда', 'неправильность', 'неправильный', 'неправота', 'неправый', 'непременно', 'непременный', 'непреодолимый', 'непрерывно', 'непрерывность', 'непрерывный', 'непрестанный', 'непривычный', 'непридворный', 'неприкосновенность', 'неприлично', 'неприличность', 'неприличный', 'непримиримый', 'непринятие', 'непристойный', 'неприступный', 'неприязненный', 'неприятель', 'неприятельский', 'неприятно', 'неприятность', 'неприятный', 'непродолжительный', 'непроизвольно', 'непроизвольный', 'непроницаемость', 'непроницаемый', 'непроницательный', 'непроходимый', 'нераздельный', 'неразрешенный', 'неразрешимый', 'неразрушимый', 'неразрывный', 'неразумный', 'нераненый', 'нерасположение', 'нераспорядительность', 'нерассуждающий', 'нерв', 'нервически', 'нервический', 'нервный', 'нерешенный', 'нерешимость', 'нерешительно', 'нерешительность', 'нерешительный', 'неровно', 'неровный', 'нерусский', 'неряшливость', 'несвицкий', 'несвободный', 'несвойственный', 'несвязный', 'несимметрично', 'нескладно', 'нескладный', 'несколько', 'несложный', 'неслыханный', 'неслышно', 'неслышный', 'несмотря', 'несносный', 'несоблюдение', 'несогласие', 'несомненно', 'несомненный', 'несообразный', 'несоответственность', 'несоразмерный', 'неспокойный', 'неспособность', 'неспособный', 'несправедливо', 'несправедливость', 'несправедливый', 'нести', 'нестись', 'несуществующий', 'несчастие', 'несчастливый', 'несчастный', 'нет', 'нетерпеливо', 'нетерпеливый', 'нетерпение', 'неторопливо', 'нетронутый', 'нетрудно', 'нету', 'неубранный', 'неудача', 'неудержимо', 'неудержимый', 'неудобно', 'неудобный', 'неудобство', 'неудовлетворительность', 'неудовольствие', 'неужели', 'неуклюжий', 'неуловимый', 'неумение', 'неуместный', 'неумолкаемый', 'неумолкать', 'неуспех', 'неучтивый', 'нехороший', 'нехорошо', 'нехристь', 'нечаянно', 'нечего', 'нечеловеческий', 'нечистота', 'нечистый', 'нечто', 'неясно', 'неясность', 'неясный', 'ни', 'нигде', 'ниже', 'нижегородский', 'нижний', 'низ', 'низвергать', 'низкий', 'низко', 'низойти', 'низость', 'низы', 'никак', 'никакой', 'никита', 'никитский', 'никогда', 'никола', 'николавна', 'николаевич', 'николаич', 'николай', 'николенька', 'николин', 'николушка', 'никто', 'никуда', 'нимфа', 'нипочем', 'нисколько', 'нитка', 'нить', 'ничего', 'ничей', 'ничком', 'ничто', 'ничтожество', 'ничтожно', 'ничтожность', 'ничтожный', 'нищета', 'нищий', 'но', 'новгород', 'новгородский', 'новенький', 'новизна', 'новиков', 'новиковский', 'новинка', 'нововведение', 'новодевичий', 'новое', 'новосильцев', 'новость', 'новый', 'нога', 'ноготь', 'нож', 'ножик', 'ножка', 'ножны', 'ножонка', 'ноздря', 'ноктюрн', 'ноль', 'нормальный', 'нос', 'носик', 'носилки', 'носильщик', 'носить', 'носиться', 'носовой', 'носок', 'ностица', 'нота', 'ночевать', 'ночлег', 'ночной', 'ночь', 'ноша', 'ноэто', 'ноябрь', 'нрав', 'нравиться', 'нравственный', 'ну', 'нужда', 'нуждаться', 'нужно', 'нужный', 'нумер', 'ны', 'ныне', 'нынешний', 'нынче', 'нырять', 'ньютон', 'нюхать', 'нянин', 'нянчить', 'нянька', 'нянюшка', 'няня', 'о', 'об', 'оба', 'обаяние', 'обвенчать', 'обвенчаться', 'обвивать', 'обвинение', 'обвиняемый', 'обвинять', 'обводить', 'обворожительный', 'обвязывать', 'обгладывать', 'обгонять', 'обгорелый', 'обдавать', 'обдергивать', 'обдирать', 'обдумывать', 'обегать', 'обед', 'обедать', 'обедня', 'обежать', 'обезматочить', 'обезображивать', 'обезоруживать', 'обезуметь', 'обезьяна', 'обер', 'обертываться', 'обеспечивать', 'обет', 'обетованный', 'обещание', 'обещать', 'обещаться', 'обживаться', 'обжигать', 'обзор', 'обивать', 'обиваться', 'обида', 'обидно', 'обидный', 'обижать', 'обижаться', 'обиженно', 'обиженный', 'обилие', 'обильный', 'обитель', 'обкладывать', 'облагодетельствовать', 'обладатель', 'обладать', 'облако', 'обласкивать', 'область', 'облегчать', 'облегчение', 'облекать', 'облеплять', 'обливать', 'облик', 'обличать', 'облический', 'облокачивать', 'облокачиваться', 'обломать', 'обломок', 'обмаковаться', 'обман', 'обманчивый', 'обманщик', 'обманывать', 'обморок', 'обмундирование', 'обмундировывать', 'обмывать', 'обнажать', 'обнаженный', 'обнимать', 'обновление', 'обновлять', 'обносить', 'обо', 'обобщаться', 'ободрять', 'ободряться', 'обожание', 'обожатель', 'обожать', 'обоз', 'обозначать', 'обозначаться', 'обозный', 'оболенский', 'оболочка', 'оборачивать', 'оборачиваться', 'оборванный', 'оборвать', 'оборваться', 'оборонительный', 'оборот', 'обрабатывать', 'обрадовать', 'обрадоваться', 'образ', 'образец', 'образный', 'образование', 'образованный', 'образовывать', 'образовываться', 'образок', 'обрастать', 'обратиться', 'обратно', 'обратный', 'обращать', 'обращаться', 'обращение', 'обрезать', 'обрезок', 'обретать', 'оброк', 'оброчный', 'обрушиваться', 'обрываться', 'обряд', 'обсаживать', 'обскакивать', 'обстановка', 'обстоятельство', 'обстреливать', 'обстригать', 'обступать', 'обсуждать', 'обсуждение', 'обсуживать', 'обсуживаться', 'обсыпать', 'обтирать', 'обтираться', 'обтягивать', 'обувать', 'обуваться', 'обувь', 'обуза', 'обутый', 'обух', 'обучать', 'обучаться', 'обхватить', 'обхватывать', 'обход', 'обходить', 'обходиться', 'обчищать', 'обширный', 'обшлаг', 'общение', 'общественный', 'общество', 'общечеловеческий', 'общий', 'объезд', 'объездить', 'объезжать', 'объехать', 'объявление', 'объявлять', 'объявляться', 'объяснение', 'объяснять', 'объясняться', 'объятие', 'обыкновение', 'обыкновенно', 'обыкновенный', 'обычай', 'обычно', 'обычный', 'обязанность', 'обязанный', 'обязательный', 'обязательство', 'обязывать', 'обязываться', 'овес', 'овладевать', 'ово', 'овраг', 'овсяный', 'огибать', 'оглобля', 'оглушать', 'оглушительный', 'оглядеться', 'оглядывать', 'оглядываться', 'оглянуться', 'огненный', 'ого', 'оговариваться', 'оговорка', 'оголять', 'огонек', 'огонь', 'огород', 'огородник', 'огорчать', 'огорчаться', 'огорчение', 'огорченный', 'ограбить', 'ограда', 'ограждать', 'ограничение', 'ограниченный', 'ограничивать', 'ограничиваться', 'огромный', 'огу', 'ода', 'одаренный', 'одарять', 'одевание', 'одевать', 'одеваться', 'одежда', 'одеколон', 'оделять', 'одер', 'одерживать', 'одержимый', 'одесса', 'одетый', 'одеяло', 'одеяние', 'один', 'одинакий', 'одинаково', 'одинаковый', 'одиннадцатый', 'одиннадцать', 'одинокий', 'одиноко', 'одиночество', 'однажды', 'однако', 'одновременно', 'однообразно', 'однообразный', 'однородный', 'односложно', 'односторонний', 'одобрение', 'одобрительно', 'одобрительный', 'одобрять', 'одолевать', 'одолжение', 'одр', 'одурманивать', 'одушевление', 'одушевленный', 'одушевлять', 'одушевляться', 'ожерелие', 'ожесточаться', 'ожесточенный', 'оживать', 'оживление', 'оживленно', 'оживленность', 'оживленный', 'оживлять', 'оживляться', 'ожига', 'ожидание', 'ожидать', 'ожидаться', 'озабоченно', 'озабоченность', 'озабоченный', 'озабочивать', 'озадачивать', 'озимь', 'озлобление', 'озлобленный', 'озлоблять', 'ознаменование', 'означать', 'озноб', 'озябнуть', 'ой', 'ока', 'оказывать', 'оказываться', 'окаменевать', 'окаменелый', 'оканчивать', 'оканчиваться', 'окидывать', 'окликать', 'окно', 'около', 'околыш', 'окончание', 'окончательно', 'окончательный', 'окоп', 'окопать', 'окошко', 'окрестности', 'окрестность', 'окрестный', 'окровавленный', 'окровавливать', 'округ', 'округлять', 'окружать', 'окружающее', 'окружающие', 'окружающий', 'окружение', 'октябрь', 'олицетворение', 'олицетворять', 'ольга', 'ольденбург', 'ольденбургский', 'ольмюца', 'ольмюце', 'ольмюцкий', 'оля', 'ом', 'он', 'она', 'они', 'оно', 'оное', 'оный', 'оо', 'ооооо', 'опадать', 'опаздывать', 'опала', 'опасаться', 'опасно', 'опасность', 'опасный', 'опекунский', 'опера', 'оператор', 'операционный', 'операция', 'опираться', 'описание', 'описывать', 'описываться', 'оплакивать', 'оплетать', 'оплошать', 'оплыть', 'ополчаться', 'ополченец', 'ополчение', 'ополченский', 'опоминаться', 'оппозиция', 'оппонент', 'оправдание', 'оправдывать', 'оправдываться', 'оправлять', 'оправляться', 'определение', 'определенно', 'определенный', 'определять', 'определяться', 'опровергать', 'опровержение', 'опрокидывать', 'опубликовывать', 'опускать', 'опускаться', 'опухать', 'опухлый', 'опухоль', 'опушка', 'опущенность', 'опыт', 'опытность', 'опытный', 'опьянение', 'опять', 'оранжерея', 'оратор', 'орган', 'организация', 'организм', 'организовывать', 'органически', 'орден', 'ординарец', 'орел', 'орех', 'орешник', 'оригинально', 'оригинальность', 'оригинальный', 'оркестр', 'орлов', 'орловский', 'оробеть', 'орудие', 'орудийный', 'оружие', 'орфография', 'орша', 'осада', 'осаждать', 'осанистый', 'осведомляться', 'освежать', 'освещать', 'освещаться', 'освещение', 'освобождать', 'освобождаться', 'освобождение', 'освящать', 'оседлывать', 'осенний', 'осень', 'осиновый', 'осип', 'оскаливать', 'осколок', 'оскомина', 'оскорбительный', 'оскорбление', 'оскорблять', 'оскорбляться', 'ослабевать', 'ослабление', 'ослаблять', 'ослеплять', 'ослепнуть', 'осматривать', 'осматриваться', 'осмеивать', 'осмеливаться', 'осмотр', 'основа', 'основание', 'основатель', 'основательно', 'основной', 'основывать', 'основываться', 'особа', 'особенно', 'особенность', 'особенный', 'особливо', 'особо', 'особый', 'оспаривать', 'осрамить', 'оставаться', 'оставление', 'оставлять', 'оставляться', 'остальное', 'остальной', 'останавливать', 'останавливаться', 'остановка', 'остаток', 'остерман', 'остов', 'остолбенение', 'осторожно', 'осторожность', 'осторожный', 'остров', 'островненский', 'острога', 'острожный', 'острота', 'остроумный', 'острый', 'осуждать', 'осуждение', 'осунуться', 'осуществление', 'осуществлять', 'осуществляться', 'осчастливливать', 'осыпать', 'осьмидесятилетний', 'осьмнадцать', 'от', 'отбегать', 'отбивать', 'отбиваться', 'отбирать', 'отблеск', 'отбрасывать', 'отбывать', 'отварный', 'отвергать', 'отверстие', 'отвертываться', 'отвесно', 'ответ', 'ответственность', 'отвечать', 'отвлекать', 'отвлечение', 'отвлеченный', 'отвод', 'отводить', 'отвозить', 'отворачивать', 'отворачиваться', 'отворять', 'отворяться', 'отвратительный', 'отвращать', 'отвращение', 'отвязывать', 'отгибать', 'отговаривание', 'отговариваться', 'отголосок', 'отгонять', 'отдавать', 'отдаваться', 'отдаление', 'отдаленный', 'отдалять', 'отдаляться', 'отдача', 'отдел', 'отделение', 'отделенный', 'отделывать', 'отделываться', 'отдельно', 'отдельный', 'отделять', 'отделяться', 'отдергивать', 'отдуваться', 'отдых', 'отдыхать', 'отец', 'отеческий', 'отечественный', 'отечество', 'отзыв', 'отзывать', 'отзываться', 'отирать', 'отираться', 'отказ', 'отказчик', 'отказывать', 'отказываться', 'откатываться', 'откашливаться', 'откидываться', 'откинуть', 'откладывать', 'откланиваться', 'откликаться', 'отклонять', 'отклоняться', 'откормленный', 'откос', 'откровение', 'откровенно', 'откровенность', 'откровенный', 'открывать', 'открываться', 'открытие', 'открыто', 'открытость', 'открытый', 'откуда', 'откупоривать', 'откупщик', 'отламывать', 'отличать', 'отличаться', 'отличие', 'отлично', 'отличный', 'отложной', 'отменять', 'отмечать', 'отмщать', 'отнимать', 'отниматься', 'относительно', 'относительный', 'относить', 'относиться', 'отношение', 'ото', 'отогнать', 'отогревать', 'отодвигать', 'отодвигаться', 'отомщать', 'отпечаток', 'отпечатываться', 'отпивать', 'отпирать', 'отплачивать', 'отплеск', 'отпор', 'отправка', 'отправление', 'отправлять', 'отправляться', 'отпрашиваться', 'отпрягать', 'отпуск', 'отпускать', 'отпущение', 'отравлять', 'отрада', 'отрадненский', 'отрадное', 'отрадный', 'отражать', 'отражаться', 'отражение', 'отрасль', 'отрастать', 'отрезать', 'отрезывание', 'отрекаться', 'отречение', 'отрешаться', 'отрицание', 'отрицательно', 'отрицательный', 'отрицать', 'отрывать', 'отрываться', 'отрывисто', 'отрывистый', 'отрывок', 'отрывочно', 'отряд', 'отряхивать', 'отскочить', 'отсрочивать', 'отсрочка', 'отставать', 'отставка', 'отставлять', 'отставной', 'отсталость', 'отсталый', 'отстранять', 'отстраняться', 'отступать', 'отступление', 'отсутствие', 'отсылать', 'отсылка', 'отсюда', 'отталкивать', 'оттаскивать', 'оттенок', 'оттепель', 'оттеснять', 'оттого', 'оттоманка', 'оттопыривать', 'оттуда', 'оттягивать', 'отуманивать', 'отуманиваться', 'отхлынуть', 'отходить', 'отцовский', 'отчаиваться', 'отчасти', 'отчаяние', 'отчаянно', 'отчаянность', 'отчаянный', 'отчего', 'отчет', 'отчетливо', 'отчетливость', 'отчетливый', 'отчуждение', 'отчужденность', 'отъезд', 'отъезжать', 'отыгрываться', 'отыскание', 'отыскивание', 'отыскивать', 'отягощать', 'отягчать', 'офицер', 'офицерик', 'офицерский', 'официально', 'официальный', 'официант', 'официантская', 'официантский', 'ох', 'охать', 'охватывать', 'охота', 'охотиться', 'охотник', 'охотницкий', 'охотнический', 'охотничий', 'охотно', 'охранять', 'охриплый', 'оценивать', 'оценка', 'очаков', 'очарование', 'очевидно', 'очевидность', 'очевидный', 'очень', 'очередь', 'очертание', 'очерчивать', 'очищать', 'очищаться', 'очищение', 'очки', 'очнуться', 'очутиться', 'ошибаться', 'ошибка', 'ошо', 'оштукатуривать', 'ощетиниваться', 'ощупывать', 'ощупь', 'ощутительный', 'ощущать', 'ощущение', 'п', 'па', 'павел', 'павильон', 'павлович', 'павловна', 'павлоградец', 'павлоградский', 'паг', 'пагода', 'пагубно', 'пагубность', 'пагубный', 'падать', 'падение', 'падший', 'паж', 'пазуха', 'пакет', 'палата', 'палатка', 'палач', 'палец', 'палить', 'палка', 'палочка', 'палуба', 'пальба', 'пальник', 'пальчик', 'памятливость', 'памятник', 'памятно', 'памятный', 'память', 'панический', 'панна', 'панорама', 'панталоны', 'папа', 'папаха', 'папаша', 'папенька', 'пар', 'пара', 'параграф', 'парад', 'парадный', 'парализовать', 'пари', 'париж', 'парижанин', 'парижанка', 'парик', 'парк', 'паркет', 'парламентер', 'парламентерство', 'парный', 'паровик', 'паровоз', 'паром', 'партер', 'партизан', 'партизанский', 'партия', 'партнер', 'пасмурно', 'пасмурный', 'паспорт', 'пассаж', 'пастбище', 'пастилька', 'пасть', 'пасьянс', 'патриарший', 'патриотизм', 'патриотический', 'патриотка', 'патрон', 'паулучать', 'пах', 'пахать', 'пахнуть', 'пахра', 'пахучий', 'пашня', 'паяс', 'пг', 'певица', 'певучий', 'певчий', 'пегий', 'пелагеюшка', 'пелагея', 'пеленка', 'пелеринка', 'пена', 'пензенский', 'пение', 'первобытный', 'первоначальный', 'первопрестольный', 'первый', 'перебегать', 'перебежать', 'перебивать', 'перебинтовывать', 'перебирать', 'перебираться', 'перебор', 'переваливаться', 'перевертывать', 'перевертываться', 'перевес', 'перевести', 'перевирать', 'перевод', 'переводить', 'переводчик', 'перевоз', 'переворот', 'перевязочный', 'перевязывать', 'перевязь', 'перегибаться', 'переглядываться', 'перегнать', 'переговаривать', 'переговариваться', 'переговоры', 'перегонять', 'перегоняться', 'перегородка', 'перед', 'передавать', 'передаваться', 'передавить', 'передача', 'передвигать', 'передвигаться', 'передвижение', 'переделывать', 'передний', 'передняя', 'передовой', 'передок', 'передразнивать', 'передумывать', 'переезд', 'переезжать', 'пережевывать', 'переживать', 'перезабыть', 'перекалывать', 'перекат', 'перекатный', 'перекатываться', 'перекидывать', 'перекладной', 'перекличка', 'перекресток', 'перекрещивать', 'перекрещиваться', 'перекрикивать', 'перелагать', 'переламывать', 'перелетать', 'переливать', 'переливаться', 'перемена', 'перемениться', 'перемень', 'переменять', 'переменяться', 'перемешать', 'перемещаться', 'перемещение', 'перемирие', 'перенесение', 'перенести', 'перенимать', 'переносить', 'переноситься', 'переодевать', 'переодеваться', 'переписка', 'переписывать', 'переписываться', 'переплетать', 'переплывать', 'переполнять', 'переправа', 'переправляться', 'перепрыгивать', 'перепутываться', 'перервать', 'перерезывать', 'перерыв', 'перерыть', 'пересаживаться', 'пересекать', 'переселение', 'переселяться', 'перескакивать', 'переспрашивать', 'переставать', 'переставлять', 'перестановка', 'перестрелка', 'переступать', 'пересуды', 'пересылать', 'пересыпать', 'пересыхать', 'перетаскивать', 'перетягивать', 'переулок', 'перехват', 'перехватывать', 'переход', 'переходить', 'перечислять', 'перечитывать', 'перечувствовать', 'перешагивать', 'перешептываться', 'перил', 'перила', 'перина', 'период', 'перл', 'пернетти', 'перо', 'перонский', 'персидский', 'персиянин', 'перспектива', 'перст', 'перстень', 'перхушков', 'перчатка', 'песельник', 'песенник', 'песнь', 'песня', 'песок', 'песочный', 'пестрый', 'песчинка', 'песя', 'петербург', 'петербургский', 'петр', 'петров', 'петрович', 'петровна', 'петрополь', 'петруша', 'петрушка', 'петух', 'петь', 'петька', 'петься', 'петя', 'пехота', 'пехотинец', 'пехотный', 'печалиться', 'печаль', 'печально', 'печальный', 'печатать', 'печататься', 'печатный', 'печать', 'печение', 'печень', 'печка', 'печь', 'пешеход', 'пеший', 'пешка', 'пешком', 'пещера', 'пианист', 'пиес', 'пик', 'пика', 'пикет', 'пилюля', 'пир', 'пирамида', 'пирожное', 'пирожок', 'пирушка', 'писание', 'писарь', 'писатель', 'писательница', 'писать', 'писаться', 'писец', 'пискливый', 'пистолет', 'письменный', 'письмо', 'питание', 'питать', 'питейный', 'пити', 'питие', 'питт', 'пить', 'пишегря', 'пища', 'пищать', 'плавать', 'плавно', 'плакать', 'плакаться', 'плакса', 'пламенный', 'пламень', 'план', 'планета', 'плата', 'платить', 'платиться', 'платов', 'платовский', 'платок', 'платон', 'платонический', 'платочек', 'платоша', 'платье', 'платьице', 'плач', 'плачущий', 'плащ', 'плебей', 'племянник', 'племянница', 'плен', 'пленение', 'пленный', 'пленять', 'плерезы', 'плести', 'плетень', 'плеть', 'плечики', 'плечо', 'плешивый', 'плод', 'плоский', 'плот', 'плотина', 'плотник', 'плотно', 'плотность', 'плотный', 'плотский', 'плохо', 'плохой', 'площадка', 'площадь', 'плуг', 'плут', 'плутарх', 'плутовка', 'плыть', 'плюмаж', 'плясать', 'пляска', 'плясовой', 'плясун', 'по', 'побагроветь', 'побег', 'победа', 'победитель', 'победительный', 'победный', 'победоносный', 'побежать', 'побеждать', 'побивать', 'побиться', 'поблагодарить', 'побледнеть', 'побояться', 'побранить', 'побрать', 'побросать', 'побрякивать', 'побуждать', 'побуждение', 'побывать', 'побыть', 'повалить', 'повалиться', 'повар', 'поварской', 'повезти', 'повеление', 'повелеть', 'повелитель', 'повелительный', 'повергать', 'повергаться', 'поверенный', 'повертывать', 'повертываться', 'поверхностно', 'поверхностный', 'поверхность', 'поверять', 'повеса', 'повеселеть', 'повеселить', 'повеселиться', 'повесить', 'повести', 'повесть', 'повещать', 'повидаться', 'повинный', 'повиноваться', 'повиновение', 'повисать', 'повлечь', 'повод', 'поводить', 'повозка', 'поворот', 'поворотить', 'поворотиться', 'поворотливость', 'повреждать', 'повсюду', 'повторять', 'повторяться', 'повыезжать', 'повышение', 'повязка', 'повязывать', 'пог', 'погибать', 'погибель', 'погибший', 'погладить', 'поглаживать', 'поглощать', 'поглощенный', 'поглядеть', 'поглядеться', 'поглядывать', 'погнать', 'поговорить', 'поговорка', 'погода', 'погодить', 'погодя', 'поголовно', 'погоня', 'погонять', 'погорать', 'погорячиться', 'погреб', 'погребец', 'погрозить', 'погромыхивать', 'погружать', 'погружаться', 'погубить', 'под', 'подавать', 'подаваться', 'подавление', 'подавлять', 'подарить', 'подарок', 'подача', 'подбадривать', 'подбадриваться', 'подбегать', 'подбивать', 'подбирать', 'подбородок', 'подвал', 'подведение', 'подведомственный', 'подвергать', 'подвергаться', 'подверженный', 'подвертка', 'подверточек', 'подвертываться', 'подвиг', 'подвигать', 'подвигаться', 'подвижный', 'подвластность', 'подвод', 'подвода', 'подводить', 'подводный', 'подвоз', 'подвозить', 'подворачивать', 'подвывание', 'подвязывать', 'подгибать', 'подгонять', 'подготовить', 'поддаваться', 'подданный', 'подделывать', 'подделываться', 'поддержание', 'поддерживать', 'поддерживаться', 'поддержка', 'подействовать', 'поделом', 'подергивание', 'подергивать', 'подергиваться', 'подержать', 'подержаться', 'подернуть', 'поджигатель', 'поджигать', 'поджидать', 'поджимать', 'поджинать', 'поджог', 'подзывать', 'поди', 'подкапываться', 'подкатить', 'подкашиваться', 'подкладка', 'подкладывать', 'подкрепление', 'подкреплять', 'подкупать', 'подле', 'подлежать', 'подлежащее', 'подлец', 'подливать', 'подлинный', 'подло', 'подлость', 'подлый', 'подметка', 'подмигивать', 'подмосковный', 'подниматься', 'подновинский', 'подножка', 'поднос', 'подносить', 'подобать', 'подобие', 'подобно', 'подобный', 'подобострастный', 'подобранность', 'пододвигать', 'подождать', 'подозревать', 'подозрение', 'подозривать', 'подозрительно', 'подозрительный', 'подоконник', 'подол', 'подолгу', 'подольский', 'подонок', 'подпадать', 'подпереться', 'подпирать', 'подписка', 'подписывать', 'подпись', 'подползать', 'подполковник', 'подпоясывать', 'подпруга', 'подпрыгивать', 'подпускать', 'подрагивать', 'подражание', 'подражать', 'подразделение', 'подразделять', 'подразумевать', 'подрастать', 'подраться', 'подробно', 'подробность', 'подробный', 'подросток', 'подросточек', 'подруга', 'подружиться', 'подсаживать', 'подсаживаться', 'подсвечник', 'подсвистывать', 'подсказывать', 'подскакивать', 'подслушивать', 'подсмеиваться', 'подсоблять', 'подстава', 'подставлять', 'подстилать', 'подстрекать', 'подстреливать', 'подстригать', 'подступать', 'подсудимый', 'подталкивать', 'подтверждать', 'подтверждаться', 'подтверждение', 'подтекать', 'подтрунивание', 'подтрунивать', 'подтыкать', 'подтягивать', 'подтянутый', 'подумать', 'подурнеть', 'подушка', 'подхватывать', 'подходить', 'подходящий', 'подцеплять', 'подчеркивать', 'подчинение', 'подчиненность', 'подчиненный', 'подчинять', 'подчиняться', 'подшивать', 'подшучивать', 'подъезд', 'подъезжать', 'подъем', 'подымать', 'подыматься', 'подыхать', 'поединок', 'поезд', 'поездка', 'поесть', 'поехать', 'пожалеть', 'пожаловать', 'пожаловаться', 'пожалуйста', 'пожар', 'пожарище', 'пожарный', 'пожатие', 'пожелать', 'пожертвование', 'пожертвовать', 'пожизненный', 'пожилой', 'пожимать', 'пожиматься', 'пожитки', 'пожить', 'поза', 'позаботиться', 'позавтракать', 'позавчера', 'позади', 'позвать', 'позволение', 'позволять', 'позвонить', 'поздний', 'поздно', 'поздороваться', 'поздравление', 'поздравлять', 'позиция', 'познавание', 'познавать', 'познакомить', 'познакомиться', 'познание', 'позор', 'позорно', 'поиграть', 'поименовать', 'поимка', 'поискать', 'поить', 'поймать', 'пойти', 'пока', 'показание', 'показывать', 'показываться', 'покамест', 'покатиться', 'покатый', 'покачать', 'покачивать', 'покачиваться', 'покашливание', 'покашливать', 'покидать', 'покинутый', 'поклон', 'поклониться', 'поклонник', 'поклонный', 'покой', 'покойник', 'покойница', 'покойно', 'покойный', 'поколебать', 'поколение', 'покончить', 'покорение', 'покормить', 'покорно', 'покорность', 'покорный', 'покорять', 'покоряться', 'покос', 'покоситься', 'покраснеть', 'покривиться', 'покрикивать', 'покров', 'покровитель', 'покровительница', 'покровительственно', 'покровительственный', 'покровительство', 'покровительствовать', 'покровительствуемый', 'покровский', 'покрой', 'покрывало', 'покрывать', 'покрываться', 'покряхтывать', 'покуда', 'покупатель', 'покупать', 'покупка', 'покупщик', 'покутить', 'покушать', 'покушение', 'пол', 'пола', 'полагать', 'полагаться', 'полверсты', 'полгода', 'полдень', 'поле', 'полевой', 'полегоньку', 'полезно', 'полезный', 'полезть', 'полемика', 'полено', 'полет', 'полететь', 'ползать', 'ползти', 'поливаться', 'политика', 'политический', 'полицеймейстер', 'полицейский', 'полиция', 'полк', 'полка', 'полковник', 'полководец', 'полковой', 'полно', 'полномочие', 'полнота', 'полноте', 'полночь', 'полный', 'половина', 'половинка', 'полог', 'положение', 'положительно', 'положительный', 'полоз', 'поломать', 'полоса', 'полосатый', 'полоскать', 'полотенце', 'полотно', 'полтава', 'полтора', 'полубред', 'полубугор', 'полуденный', 'полузакрытый', 'полукруг', 'полумертвый', 'полуотворенный', 'полусумасшедший', 'полутемно', 'полутемный', 'полутьма', 'полуулыбка', 'получас', 'получать', 'получаться', 'получение', 'полушепот', 'полушубок', 'полчаса', 'полынь', 'польза', 'пользоваться', 'полька', 'польский', 'польстить', 'польша', 'полюбить', 'поляк', 'поляков', 'поляна', 'полянский', 'поманить', 'помахать', 'помахивать', 'поменяться', 'померания', 'поместительный', 'поместье', 'помеха', 'помешать', 'помещать', 'помещаться', 'помещение', 'помещик', 'помещичий', 'помилование', 'помиловать', 'помимо', 'поминать', 'помирать', 'помириться', 'помнить', 'помогать', 'помолвка', 'помолиться', 'помолодеть', 'помолчать', 'поморщиться', 'помочи', 'помощник', 'помощь', 'помрачать', 'помутиться', 'помышление', 'понадобиться', 'понапрасну', 'понеже', 'понемногу', 'понести', 'понестись', 'понижать', 'понимание', 'понимать', 'пониматься', 'понравиться', 'понюхать', 'понятие', 'понятно', 'понятный', 'понятовский', 'пообедать', 'поодиночке', 'поочередно', 'поощрение', 'поощрять', 'поп', 'попадать', 'попадаться', 'попадья', 'попарно', 'поперек', 'попеременно', 'поперечный', 'поплакать', 'поплатиться', 'поплыть', 'попов', 'пополнеть', 'пополнять', 'пополудни', 'попона', 'попотчевать', 'поправка', 'поправление', 'поправлять', 'поправляться', 'попрание', 'поприще', 'попробовать', 'попросить', 'попроситься', 'попрятаться', 'популярный', 'попытаться', 'попытка', 'пора', 'поработать', 'поравняться', 'поражать', 'поражение', 'поразительно', 'поразительный', 'порассказать', 'порастать', 'порог', 'порода', 'породистый', 'порок', 'порох', 'пороховой', 'порочность', 'порочный', 'пороша', 'порошок', 'портить', 'портки', 'портрет', 'португальский', 'портфель', 'порубить', 'поручать', 'поручаться', 'поручение', 'поручик', 'поручитель', 'порыв', 'порываться', 'порывисто', 'порывистый', 'порядок', 'порядочно', 'порядочный', 'посадить', 'посвящать', 'посев', 'поседеть', 'поселение', 'поселяться', 'посердиться', 'посередине', 'посетитель', 'посещать', 'посещение', 'посеять', 'посидеть', 'посинеть', 'поскакать', 'посконный', 'посланник', 'после', 'последний', 'последователь', 'последовательно', 'последовательность', 'последовательный', 'последовать', 'последствие', 'последующий', 'послезавтра', 'послеобеденный', 'пословица', 'послужить', 'послушать', 'послушаться', 'послушный', 'послышаться', 'посматривать', 'посмеиваться', 'посметь', 'посмеяться', 'посмотреть', 'пособие', 'пособлять', 'посоветовать', 'посоветоваться', 'посол', 'посольство', 'поспевать', 'поспешить', 'поспешно', 'поспешность', 'поспешный', 'посрамление', 'посрамлять', 'посрамляться', 'посреди', 'посредине', 'посредник', 'посредство', 'посредством', 'поссорить', 'поссориться', 'пост', 'поставлять', 'постановление', 'постараться', 'постареть', 'постель', 'постепенно', 'постигать', 'постигаться', 'постижение', 'постилать', 'постой', 'посторониться', 'посторонний', 'постоялый', 'постоянно', 'постоянный', 'постоять', 'пострадать', 'построение', 'построить', 'построиться', 'постройка', 'постромка', 'поступать', 'поступление', 'поступок', 'постучаться', 'постыдный', 'посуда', 'посылать', 'посылаться', 'посылка', 'посыпать', 'пот', 'потащить', 'потемкин', 'потереться', 'потерпеть', 'потертый', 'потеря', 'потерять', 'потеряться', 'потечь', 'потирать', 'потихоньку', 'потный', 'поток', 'потолок', 'потолстеть', 'потом', 'потомок', 'потомство', 'потому', 'потоп', 'потопать', 'потоплять', 'потоптать', 'поторопиться', 'потребность', 'потребовать', 'потребоваться', 'потрепать', 'потрогать', 'потрясать', 'потряхивать', 'потсдам', 'потсдамский', 'потухать', 'потухший', 'потушить', 'потье', 'потягиваться', 'потянуть', 'потянуться', 'поужинать', 'поутру', 'поучение', 'поучительный', 'похаживать', 'похвала', 'похвалить', 'похвалиться', 'похититель', 'похищать', 'похищение', 'похлебка', 'похлопотать', 'поход', 'походить', 'походка', 'походный', 'похождение', 'похоже', 'похожий', 'похороны', 'похорошеть', 'похудеть', 'поцеловать', 'поцеловаться', 'поцелуй', 'почва', 'почему', 'почерк', 'почерпать', 'почесть', 'почетный', 'почивать', 'почитатель', 'почитать', 'почка', 'почта', 'почтение', 'почтенный', 'почти', 'почтительно', 'почтительность', 'почтительный', 'почтовый', 'почувствовать', 'почуять', 'пошатнуться', 'пошевеливать', 'пошевелиться', 'пошлость', 'пошлый', 'пошутить', 'пощадить', 'пощупать', 'поэзия', 'поэт', 'поэтический', 'поэтому', 'появление', 'появляться', 'пояс', 'правда', 'правдиво', 'правдивый', 'правее', 'правило', 'правильно', 'правильность', 'правильный', 'правитель', 'правительство', 'править', 'правление', 'право', 'православный', 'правота', 'правый', 'праздник', 'праздничный', 'празднование', 'праздновать', 'праздность', 'праздный', 'практика', 'практический', 'праотец', 'прапорщик', 'прасковья', 'прах', 'прац', 'працен', 'праценский', 'пребывание', 'превозмогать', 'превозносить', 'превосходительство', 'превосходить', 'превосходно', 'превосходный', 'превосходство', 'превосходящий', 'превышать', 'преграда', 'преграждать', 'пред', 'предавать', 'предаваться', 'предание', 'преданность', 'преданный', 'предатель', 'предвечный', 'предвещать', 'предвидение', 'предвидеть', 'предводитель', 'предводительство', 'предводить', 'предел', 'предзнаменование', 'предлагать', 'предлежать', 'предлог', 'предложение', 'предместье', 'предмет', 'предназначать', 'предназначенный', 'предок', 'предопределение', 'предопределять', 'предоставлять', 'предосудительный', 'предотвращать', 'предотвращение', 'предписание', 'предписывать', 'предполагать', 'предполагаться', 'предположение', 'предпоследний', 'предпочитать', 'предприимчивый', 'предпринимать', 'предприятие', 'предрассудок', 'председатель', 'предсказание', 'предсказывать', 'представитель', 'представительница', 'представительный', 'представление', 'представлять', 'представляться', 'предстоять', 'предстоящий', 'предуведомлять', 'предупреждать', 'предчувствие', 'предчувствовать', 'предшествовать', 'предшествующий', 'предыдущий', 'прежде', 'прежний', 'презирать', 'презрение', 'презренный', 'презрительно', 'презрительность', 'презрительный', 'преимущественно', 'преимущество', 'преисполненный', 'преисполнять', 'прейсиш', 'преклоняться', 'прекрасно', 'прекрасный', 'прекращать', 'прекращаться', 'прекращение', 'прелестно', 'прелестный', 'прелесть', 'прельщать', 'прелюдия', 'премудрость', 'пренебрегать', 'пренебрежение', 'прения', 'преобладание', 'преобладать', 'преображаться', 'преображенец', 'преображенский', 'преобразование', 'преобразовываться', 'преодолевать', 'преосвященный', 'преподавать', 'преподобный', 'препона', 'препровождение', 'препятствие', 'препятствовать', 'прерывать', 'прерываться', 'прерывный', 'пресвятой', 'преследование', 'преследовать', 'пресловутый', 'престол', 'преступление', 'преступник', 'преступный', 'претерпевать', 'преувеличение', 'преувеличивать', 'префект', 'прешпект', 'пржебышевский', 'пржибышевский', 'при', 'прибавлять', 'прибавляться', 'прибегать', 'приберегать', 'прибивать', 'прибирать', 'приближать', 'приближаться', 'приближение', 'приближенный', 'приблизительно', 'прибор', 'прибывать', 'прибытие', 'привал', 'приведение', 'привесть', 'приветливый', 'приветствие', 'приветствовать', 'привидение', 'привлекательно', 'привлекательность', 'привлекательный', 'привлекать', 'приводить', 'приводиться', 'привозить', 'привставать', 'привыкать', 'привычка', 'привычно', 'привычный', 'привязанность', 'привязывать', 'пригибать', 'пригибаться', 'приглаживать', 'приглашать', 'приглашение', 'приглядываться', 'приговаривать', 'приговариваться', 'приговор', 'пригождаться', 'приготавливать', 'приготавливаться', 'приготовление', 'приготовлять', 'приготовляться', 'пригревать', 'придавать', 'придавливать', 'приданое', 'придвигать', 'придвигаться', 'придворный', 'придел', 'приделывать', 'придерживать', 'придерживаться', 'придираться', 'придумывать', 'приезд', 'приезжать', 'приезжий', 'прием', 'приемная', 'приемный', 'прижимать', 'прижиматься', 'призвание', 'призванный', 'приземистый', 'признавать', 'признаваться', 'признак', 'признание', 'признанный', 'признательность', 'призрак', 'призревать', 'призыв', 'призывать', 'приискивать', 'прийти', 'приказ', 'приказание', 'приказный', 'приказчик', 'приказывание', 'приказывать', 'прикалывать', 'прикасаться', 'прикидывать', 'приклад', 'прикладывать', 'прикладываться', 'приключение', 'приковывать', 'прикомандировывать', 'прикосновение', 'прикрывать', 'прикрытие', 'прилагать', 'прилаживать', 'приласкать', 'прилегать', 'прилетать', 'прилив', 'приливать', 'прилипать', 'приличие', 'прилично', 'приличный', 'приложение', 'прима', 'приманка', 'пример', 'примеривание', 'примеривать', 'примериваться', 'примерный', 'примета', 'примеч', 'примечание', 'примечать', 'примирение', 'примирять', 'примиряться', 'примыкать', 'принадлежать', 'принадлежность', 'принаряжаться', 'принимать', 'приниматься', 'приносить', 'принуждать', 'принц', 'принцип', 'принципал', 'принюхиваться', 'принятие', 'принятый', 'приобретать', 'приобретаться', 'приобретение', 'приостанавливать', 'приостанавливаться', 'припадать', 'припадок', 'припасы', 'припекать', 'приписывать', 'приподниматься', 'приподнятый', 'приподымать', 'припомаживать', 'припоминать', 'припускать', 'природа', 'прирожденный', 'приседать', 'прискакивать', 'прискучивать', 'прислонять', 'прислоняться', 'прислуга', 'прислушиваться', 'присматриваться', 'присоветовать', 'присоединение', 'присоединять', 'присоединяться', 'приставание', 'приставать', 'приставлять', 'пристально', 'пристраивать', 'пристраиваться', 'пристрастие', 'пристращаться', 'пристреливать', 'приступать', 'пристыжать', 'пристяжная', 'присуждать', 'присутственный', 'присутствие', 'присутствовать', 'присутствующий', 'присущий', 'присылать', 'присылка', 'присяга', 'притаскивать', 'притворно', 'притворный', 'притворство', 'притворяться', 'притихать', 'притолока', 'притом', 'притопывать', 'притягивать', 'притягиваться', 'притяжение', 'приуготовлять', 'приучать', 'приход', 'приходить', 'приходиться', 'прихожая', 'прихоть', 'прихрамывать', 'прицеливаться', 'причастие', 'причем', 'причесанный', 'прическа', 'причесывать', 'причетник', 'причина', 'причинять', 'причислять', 'причисляться', 'прищуривать', 'прищуриваться', 'приют', 'приятель', 'приятельница', 'приятно', 'приятность', 'приятный', 'про', 'проба', 'пробегать', 'пробежать', 'пробивать', 'пробиваться', 'пробирать', 'пробираться', 'пробка', 'пробовать', 'пробормотать', 'пробочный', 'пробуждаться', 'пробуждение', 'пробурлить', 'пробыть', 'проваливаться', 'проверять', 'провиант', 'провиантский', 'провидение', 'провизия', 'провинция', 'проводить', 'проводник', 'провожать', 'провозглашать', 'провозглашение', 'провозить', 'проворчать', 'проглатывать', 'прогнать', 'проговаривать', 'прогонять', 'программа', 'прогреметь', 'прогресс', 'прогрессия', 'прогулка', 'продавать', 'продавец', 'продажа', 'продажность', 'продвигаться', 'продиктовать', 'продирать', 'продовольственный', 'продовольствие', 'продолговатый', 'продолжать', 'продолжаться', 'продолжение', 'продолжительность', 'продолжительный', 'проезд', 'проезжать', 'проезжаться', 'проезжающий', 'проезжий', 'проект', 'проехать', 'проживать', 'прозвище', 'прозвучать', 'прозоровский', 'прозрачно', 'прозрачный', 'прозрение', 'прозывать', 'проигрывать', 'проигрываться', 'проигрыш', 'произведение', 'производить', 'производиться', 'производство', 'произвол', 'произвольно', 'произвольный', 'произносить', 'произношение', 'происходить', 'происхождение', 'происшествие', 'пройти', 'прокатить', 'прокашливаться', 'прокламация', 'проклинать', 'проклятие', 'проклятый', 'прокомандовать', 'прокофий', 'прокричать', 'пролагать', 'пролеживать', 'пролезать', 'пролет', 'пролетать', 'пролететь', 'проливать', 'промедление', 'промежуток', 'промелькнуть', 'промеморийка', 'променивать', 'промокнуть', 'промывать', 'промычать', 'пронестись', 'пронзать', 'пронзительно', 'пронзительный', 'пронизывать', 'проникать', 'проникаться', 'проницательность', 'проницательный', 'пропадать', 'пропасть', 'пропеть', 'прописывать', 'пропитание', 'пропитывать', 'проповедовать', 'проповедывать', 'проповедь', 'пропозиция', 'пропорция', 'пропускать', 'пропустить', 'прорастать', 'прорвать', 'прорваться', 'пророчество', 'прорываться', 'просветлеть', 'просвечивать', 'просвещать', 'просвещение', 'просвистывать', 'просека', 'просиживать', 'проситель', 'просить', 'проситься', 'просиять', 'проскакать', 'проскальзывать', 'проскочить', 'прославление', 'прославлять', 'прослезиться', 'прослушивать', 'прослышать', 'просматривать', 'проспект', 'просрочивать', 'простаивать', 'простительный', 'просто', 'простодушный', 'простой', 'простолюдин', 'простор', 'просторно', 'просторный', 'простота', 'пространный', 'пространственный', 'пространство', 'простыня', 'просыпать', 'просыпаться', 'просьба', 'протаптывать', 'протекция', 'протесниться', 'протестовать', 'против', 'противник', 'противно', 'противность', 'противный', 'противоборствовать', 'противодвижение', 'противодействовать', 'противоположность', 'противоположный', 'противопоставлять', 'противоречивый', 'противоречие', 'противоречить', 'противостоять', 'противуположный', 'противуречие', 'протирать', 'протоколист', 'протолкаться', 'прототип', 'протыкать', 'протягивать', 'протяжение', 'протяжно', 'протяжный', 'профиль', 'прохаживаться', 'прохвост', 'прохлада', 'проход', 'проходить', 'проходиться', 'прохрипеть', 'процесс', 'проч', 'прочее', 'прочий', 'прочитывать', 'прочно', 'прочный', 'прочь', 'прошедшее', 'прошедший', 'прошение', 'прошептать', 'прошествие', 'прошлое', 'прошлый', 'прощавай', 'прощай', 'прощальный', 'прощание', 'прощать', 'прощаться', 'прощение', 'проявление', 'проявлять', 'проявляться', 'прояснивать', 'пруд', 'пружина', 'пруссак', 'пруссия', 'прусский', 'пршпршипрш', 'прыгать', 'прыгнуть', 'прыжок', 'прядь', 'прямо', 'прямодушие', 'прямой', 'пряник', 'пряничников', 'прятать', 'прятаться', 'психологический', 'птица', 'птичка', 'птоломеев', 'публика', 'публичный', 'пугать', 'пугачев', 'пуговица', 'пуд', 'пудра', 'пудреный', 'пук', 'пултуск', 'пултуский', 'пульс', 'пуля', 'пункт', 'пунш', 'пускай', 'пускать', 'пускаться', 'пустой', 'пустота', 'пустоцвет', 'пустынно', 'пустынный', 'пустыня', 'пусть', 'пустяк', 'путаница', 'путать', 'путаться', 'путем', 'путешественник', 'путешествие', 'путешествовать', 'путь', 'пуф', 'пух', 'пухлый', 'пуховой', 'пучина', 'пучок', 'пушечный', 'пушистый', 'пушить', 'пушка', 'пушкин', 'пушной', 'пушок', 'пущать', 'пфулить', 'пфуль', 'пчела', 'пчеловод', 'пыл', 'пылать', 'пылкий', 'пыль', 'пыльный', 'пытаться', 'пыхтеть', 'пьемонтец', 'пьер', 'пьеса', 'пьяница', 'пьянство', 'пьяный', 'пьяттоля', 'пяльцы', 'пята', 'пятидесятилетний', 'пятисоттысячный', 'пятка', 'пятнадцатилетний', 'пятнадцатый', 'пятнадцать', 'пятница', 'пятно', 'пятый', 'пять', 'пятьдесят', 'пятьсот', 'р', 'ра', 'раб', 'раба', 'работа', 'работать', 'работник', 'рабочий', 'равенство', 'равнина', 'равновесие', 'равнодействующая', 'равнодействующий', 'равнодушие', 'равнодушно', 'равнодушный', 'равномерно', 'равномерный', 'равный', 'равнять', 'равняться', 'рад', 'ради', 'радовать', 'радоваться', 'радостия', 'радостно', 'радостный', 'радость', 'радушно', 'радушный', 'раевский', 'раз', 'разбег', 'разбегаться', 'разбивать', 'разбиваться', 'разбирать', 'разбираться', 'разбитый', 'разбой', 'разбойник', 'разбойничать', 'разбор', 'разбранить', 'разбрасывать', 'разбредаться', 'разброд', 'разбудить', 'разваливаться', 'развалины', 'развалить', 'разве', 'развеваться', 'развертывание', 'развертывать', 'развертываться', 'развеселяться', 'развешивать', 'развивать', 'развиваться', 'развитие', 'развлекать', 'развлекаться', 'развлечение', 'развод', 'разводить', 'разводиться', 'разврат', 'развратник', 'развратный', 'развращаться', 'развязка', 'развязность', 'развязный', 'развязывать', 'разгар', 'разглаживаться', 'разглядеть', 'разглядывать', 'разговаривать', 'разговор', 'разговориться', 'разговорчивость', 'разгонять', 'разгорание', 'разгораться', 'разгорячать', 'разгорячаться', 'разгорячиться', 'разграбить', 'разгром', 'разгромить', 'разгул', 'разгуливаться', 'раздавать', 'раздаваться', 'раздавливать', 'раздача', 'раздвигать', 'раздвигаться', 'раздевать', 'раздеваться', 'раздел', 'разделять', 'разделяться', 'раздирать', 'раздор', 'раздражать', 'раздражаться', 'раздражение', 'раздраженность', 'раздраженный', 'раздражительность', 'раздражительный', 'раздроблять', 'раздувать', 'раздуваться', 'раздумывать', 'разевать', 'разжалобливать', 'разжаловать', 'разжигать', 'разжимать', 'разлагаться', 'разлад', 'разламывать', 'разлив', 'разливать', 'разливаться', 'различать', 'различие', 'различно', 'различный', 'разложение', 'разлука', 'разлучать', 'разлучаться', 'разматывать', 'размах', 'размахивать', 'размахнуть', 'разменивать', 'размер', 'размещаться', 'размещение', 'разминать', 'размышление', 'размышлять', 'размягчать', 'разнестись', 'разница', 'разногласие', 'разнообразие', 'разнообразно', 'разнообразный', 'разноречивый', 'разнородный', 'разносить', 'разносчик', 'разный', 'разоблачать', 'разом', 'разорение', 'разорять', 'разоряться', 'разочарование', 'разочаровывать', 'разочаровываться', 'разрабатывать', 'разражаться', 'разрастаться', 'разрезать', 'разрешать', 'разрешаться', 'разрешение', 'разровняться', 'разрозненный', 'разрумяниваться', 'разрушать', 'разрушаться', 'разрушение', 'разрыв', 'разрывать', 'разрываться', 'разрыдаться', 'разряд', 'разряжать', 'разуваться', 'разуверять', 'разум', 'разумеется', 'разуметь', 'разуметься', 'разумно', 'разумность', 'разумный', 'разумовский', 'разутый', 'разъезд', 'разъезжаться', 'разъехаться', 'разъяренный', 'разъяснять', 'разыскивать', 'район', 'рама', 'рамбаль', 'рамка', 'рамо', 'рампа', 'рана', 'ранее', 'раненый', 'ранец', 'ранить', 'ранний', 'рано', 'рапорт', 'рапортовать', 'рапп', 'раскаиваться', 'раскассировать', 'раскат', 'раскачивать', 'раскачиваться', 'раскаяние', 'раскидывать', 'раскисать', 'раскладывать', 'раскланиваться', 'расколачивать', 'раскраснеться', 'раскрывать', 'раскрываться', 'раскрытый', 'распадаться', 'распахиваться', 'распевать', 'распершиться', 'распечатывать', 'расписка', 'расписной', 'расписываться', 'расплакаться', 'расплываться', 'располагать', 'располагаться', 'расположение', 'расположенный', 'распорядитель', 'распорядок', 'распоряжаться', 'распоряжение', 'расправлять', 'расправляться', 'распределять', 'распределяться', 'распространение', 'распространять', 'распространяться', 'распускать', 'распускаться', 'распутница', 'распутывать', 'распухать', 'распушать', 'распущенность', 'распущенный', 'рассаживаться', 'рассвет', 'рассветать', 'рассевать', 'рассеиваться', 'рассердить', 'рассердиться', 'рассерженный', 'рассеяние', 'рассеянно', 'рассеянность', 'рассеянный', 'рассказ', 'рассказчик', 'рассказывать', 'рассказываться', 'расслышать', 'рассматривание', 'рассматривать', 'рассматриваться', 'рассмеяться', 'рассмотрение', 'расспрашивать', 'расспрос', 'расставаться', 'расставлять', 'расстанавливать', 'расстанавливаться', 'расстановка', 'расстегивать', 'расстегнуть', 'расстегнуться', 'расстилаться', 'расстояние', 'расстраивать', 'расстраиваться', 'расстреливать', 'расстроенный', 'расстроивой', 'расстройство', 'расступаться', 'рассудительный', 'рассудить', 'рассуждать', 'рассуждение', 'рассуживать', 'рассчитать', 'рассчитывать', 'рассылать', 'рассыпать', 'рассыпаться', 'растаивать', 'растапливать', 'растаптывать', 'растаскивать', 'растворять', 'растение', 'растеривать', 'растериваться', 'растерянно', 'растерянный', 'расти', 'растирать', 'растительность', 'растолковывать', 'растопчин', 'растопчина', 'растопчинский', 'растопыривать', 'расторгать', 'растравлять', 'растрачивать', 'растрепывать', 'растрогать', 'растягивать', 'растягиваться', 'растяжение', 'расход', 'расходиться', 'расходовать', 'расхохотаться', 'расцветать', 'расчесываться', 'расчет', 'расчищать', 'расшаркиваться', 'расшевеливать', 'расшибать', 'расширять', 'расширяться', 'расшитый', 'рат', 'ратник', 'раут', 'рвануться', 'рваный', 'рвать', 'рваться', 'реакционный', 'реакция', 'ребенок', 'ребеночек', 'ребята', 'ребятница', 'ребяческий', 'ребячество', 'рев', 'реветь', 'ревизия', 'ревнивый', 'ревновать', 'ревность', 'революционный', 'революция', 'регалия', 'ред', 'редакция', 'редингот', 'редкий', 'редко', 'редут', 'резать', 'резвиться', 'резвость', 'резвый', 'резерв', 'резкий', 'резко', 'резной', 'резонанс', 'результат', 'рейн', 'рейнвейн', 'рейнский', 'рейтузы', 'река', 'рекогносцировка', 'рекомендательный', 'рекомендовать', 'рекрут', 'религиозный', 'религия', 'реляция', 'ремарка', 'ремень', 'ремесленник', 'ремесло', 'ремешок', 'ремонт', 'репнина', 'репутация', 'рескрипт', 'ресница', 'республика', 'республиканец', 'республиканский', 'рессора', 'ретирада', 'реформатор', 'речка', 'речь', 'решать', 'решаться', 'решение', 'решимость', 'решительно', 'решительность', 'решительный', 'ржаной', 'ридикюль', 'риза', 'рим', 'римлянин', 'римский', 'рис', 'рисковать', 'рисунок', 'ритор', 'роббер', 'робеспьер', 'робеть', 'робкий', 'робко', 'робость', 'ровно', 'ровный', 'рог', 'роганов', 'рогожский', 'род', 'родильница', 'родимый', 'родина', 'родинка', 'родитель', 'родительский', 'родиться', 'родной', 'родные', 'родня', 'родоначальник', 'родственник', 'родственница', 'родственный', 'родство', 'роды', 'роевой', 'рожа', 'рожать', 'рождаться', 'рождение', 'рождество', 'рожок', 'рожь', 'роза', 'розан', 'розовый', 'рой', 'роковой', 'роль', 'ром', 'роман', 'романический', 'романс', 'романтический', 'ропот', 'роса', 'росистый', 'роскошный', 'роскошь', 'росс', 'российский', 'россия', 'рост', 'ростепель', 'ростов', 'ростова', 'ростовой', 'ростовский', 'ростовый', 'рот', 'рота', 'ротик', 'ротмистр', 'ротный', 'роща', 'роялист', 'рубаха', 'рубашка', 'рубеж', 'рубить', 'рубиться', 'рубище', 'рублик', 'рубль', 'ругательный', 'ругательство', 'ругать', 'ругаться', 'ругаюшка', 'ружейный', 'ружье', 'рука', 'рукав', 'руководимый', 'руководитель', 'руководительница', 'руководить', 'руководиться', 'руководство', 'руководствоваться', 'руководящий', 'рукопись', 'румянец', 'румянцев', 'румяный', 'русак', 'русский', 'руссо', 'рустать', 'русый', 'рухнуться', 'ручей', 'ручка', 'ручонка', 'рущук', 'рыба', 'рыдание', 'рыдать', 'рыжей', 'рыжий', 'рыконт', 'рысак', 'рысца', 'рысь', 'рытвина', 'рыхлый', 'рыцарство', 'рыцарь', 'рюмка', 'рябой', 'рябчик', 'ряд', 'рядовой', 'рядом', 'ряженый', 'рязанский', 'рязань', 'ряса', 'с', 'сабля', 'саварь', 'савельич', 'савишный', 'саврасый', 'сад', 'садиться', 'садовник', 'сажа', 'сажать', 'сажень', 'саксонец', 'саксония', 'саксонский', 'саламанка', 'сало', 'саломонить', 'салон', 'салоп', 'салтановка', 'салтановский', 'салтыков', 'салфетка', 'сальный', 'салютовать', 'сам', 'самовар', 'самовольный', 'самодержавный', 'самодовольный', 'самодовольство', 'самодурство', 'самозабвение', 'самолюбие', 'самонадеянность', 'самонадеянный', 'самообольщение', 'самоотвержение', 'самопожертвование', 'самопознание', 'самостоятельность', 'самостоятельный', 'самоуверенно', 'самоуверенность', 'самоуверенный', 'самый', 'сангвинический', 'сани', 'сановник', 'сапог', 'сапожник', 'сапожный', 'сапожок', 'сарагосс', 'сарай', 'сардинский', 'сахар', 'сашинет', 'сбегать', 'сбегаться', 'сбежаться', 'сбивать', 'сбиваться', 'сбирать', 'сбираться', 'сближаться', 'сближение', 'сбоку', 'сбор', 'сборище', 'сборка', 'сборы', 'сбросить', 'сбываться', 'св', 'свадьба', 'свайка', 'сваливать', 'сваливаться', 'сватать', 'сватовство', 'сведение', 'сведущий', 'свеженький', 'свежесть', 'свежий', 'свежо', 'свекор', 'свенцян', 'свенцяна', 'свернутый', 'свернуться', 'сверстник', 'свертывать', 'сверх', 'сверху', 'сверхъестественно', 'сверхъестественный', 'сверчок', 'свершаться', 'свет', 'светать', 'светить', 'светиться', 'светлейший', 'светлеть', 'светло', 'светлость', 'светлый', 'светский', 'свеча', 'свечка', 'свидание', 'свидетель', 'свидетельствовать', 'свидеться', 'свинья', 'свист', 'свистать', 'свистение', 'свистеть', 'свистящий', 'свита', 'свитский', 'свобода', 'свободно', 'свободный', 'свод', 'сводить', 'сводиться', 'свое', 'своевольство', 'свозить', 'свой', 'свойственный', 'свойство', 'сволочь', 'свора', 'сворачивать', 'свояченица', 'свыше', 'связанный', 'связка', 'связывать', 'связываться', 'связь', 'святая', 'святки', 'святой', 'святочный', 'святыня', 'священник', 'священный', 'сгибать', 'сгибаться', 'сговариваться', 'сгорать', 'сгруппироваться', 'сдавать', 'сдаваться', 'сдавливать', 'сдача', 'сдвигать', 'сдвигаться', 'сделать', 'сделаться', 'сделка', 'сдергивать', 'сдержанно', 'сдержанный', 'сдерживать', 'се', 'себе', 'себя', 'север', 'северный', 'севрский', 'сегодня', 'сегодняшний', 'седеть', 'седлать', 'седло', 'седой', 'седок', 'седьмой', 'сей', 'сейчас', 'секрет', 'секретарь', 'секта', 'секунда', 'секундант', 'селение', 'село', 'сельский', 'семейно', 'семейный', 'семейство', 'семен', 'семенить', 'семенов', 'семеновна', 'семеновский', 'семерка', 'семилетний', 'семинарист', 'семнадцатилетний', 'семнадцать', 'семпель', 'семь', 'семьдесят', 'семьсот', 'семья', 'семя', 'сенат', 'сенатор', 'сенатский', 'сени', 'сено', 'сентябрь', 'сенцо', 'сепаратный', 'сера', 'сервировать', 'сервировка', 'сергеевич', 'сергеич', 'сергей', 'сергий', 'сердечный', 'сердито', 'сердитый', 'сердить', 'сердиться', 'сердце', 'серебристый', 'серебро', 'серебряный', 'середа', 'середина', 'серединный', 'серенький', 'сержант', 'сероватый', 'серп', 'серый', 'серьезно', 'серьезность', 'серьезный', 'сеславин', 'сестра', 'сестрица', 'сеть', 'сечь', 'сеять', 'сжатый', 'сживаться', 'сжигать', 'сжимать', 'сжиматься', 'сжинать', 'сзади', 'сибирь', 'сигара', 'сигнал', 'сидение', 'сидеть', 'сидоров', 'сидорыч', 'сидя', 'сие', 'сиживать', 'сизый', 'сила', 'сильно', 'сильный', 'симметрично', 'симметрия', 'симпатия', 'синеватый', 'синеть', 'синий', 'синод', 'синь', 'сирийский', 'сирота', 'система', 'ситец', 'ситцевый', 'сияние', 'сиятельный', 'сиятельство', 'сиять', 'сказать', 'сказка', 'сказывать', 'сказываться', 'скакать', 'скамеечка', 'скамейка', 'скат', 'скатерть', 'скачать', 'скачка', 'скашивать', 'сквег', 'скверно', 'скверный', 'сквозь', 'скидывать', 'скипетр', 'скифский', 'склад', 'складка', 'складной', 'складный', 'складываться', 'склизкий', 'склон', 'склонность', 'склонный', 'склонять', 'склоняться', 'склянка', 'скобка', 'ског', 'скок', 'сколь', 'скользить', 'сколько', 'скомандовать', 'сконфузить', 'сконфузиться', 'скоро', 'скороговорка', 'скорость', 'скорчиться', 'скорый', 'скот', 'скотина', 'скрип', 'скрипеть', 'скрипка', 'скрипнуть', 'скромно', 'скромность', 'скромный', 'скрывать', 'скрываться', 'скрыпнуть', 'скрытность', 'скрытый', 'скрючивать', 'скудный', 'скука', 'скула', 'скупой', 'скучать', 'скучиваться', 'скучливый', 'скучно', 'скучный', 'слабеть', 'слабо', 'слабость', 'слабый', 'слава', 'славиться', 'славно', 'славный', 'славянский', 'слагать', 'слагаться', 'сладкий', 'сладко', 'сладостный', 'слаживать', 'сламывать', 'слать', 'слева', 'слегка', 'след', 'следить', 'следование', 'следовательно', 'следовать', 'следом', 'следствие', 'следующий', 'слеза', 'слезать', 'слепой', 'слетать', 'слива', 'сливаться', 'сливки', 'слишком', 'слободский', 'словесный', 'словечко', 'слово', 'словом', 'словоохотливый', 'слог', 'сложение', 'сложенный', 'сложность', 'сложный', 'слой', 'сломать', 'слуга', 'служака', 'служащий', 'служба', 'служебный', 'служение', 'служитель', 'служить', 'слух', 'случай', 'случайно', 'случайность', 'случайный', 'случаться', 'слушатель', 'слушать', 'слушаться', 'слыть', 'слыхать', 'слышать', 'слышаться', 'слышно', 'слышный', 'слюни', 'см', 'смазывать', 'смахивать', 'смело', 'смелость', 'смелый', 'смена', 'сменяться', 'смеркаться', 'смертельно', 'смертельный', 'смертный', 'смерть', 'смета', 'сметь', 'смех', 'смешанный', 'смешать', 'смешаться', 'смешиваться', 'смешить', 'смешливый', 'смешно', 'смешной', 'смеючиться', 'смеяться', 'сминать', 'смирение', 'смиренный', 'смирно', 'смирный', 'смоленск', 'смоленский', 'смольянинов', 'смолян', 'сморкаться', 'сморщенный', 'сморщивать', 'сморщиваться', 'сморщиться', 'смотр', 'смотреть', 'смотреться', 'смотритель', 'смотря', 'смочь', 'смутно', 'смутный', 'смущать', 'смущаться', 'смущение', 'смущенный', 'смывать', 'смыкать', 'смыкаться', 'смысл', 'смягчать', 'смягчаться', 'смягчение', 'смятение', 'снаряд', 'сначала', 'снег', 'снежинка', 'снежный', 'снести', 'снизу', 'снимать', 'сниматься', 'снискивать', 'снисходительно', 'снисходительный', 'снисходить', 'снисхождение', 'снова', 'сновать', 'сновидение', 'сноп', 'сносливость', 'сношение', 'снурка', 'снурок', 'снятой', 'со', 'собака', 'собачий', 'собачка', 'собачонка', 'собеседник', 'собеседница', 'собирание', 'собирать', 'собираться', 'соблазнитель', 'соблазнять', 'соблюдать', 'соблюдение', 'соболезнование', 'соболезновать', 'соболий', 'собор', 'соборование', 'соборовать', 'собр', 'собрание', 'собранный', 'собственно', 'собственность', 'собственный', 'событие', 'соваться', 'совершать', 'совершаться', 'совершение', 'совершенно', 'совершенный', 'совершенство', 'совершенствование', 'совестно', 'совесть', 'совет', 'советник', 'советница', 'советовать', 'советоваться', 'советчик', 'совещание', 'совещательный', 'совещаться', 'совокупность', 'совокупный', 'совпадать', 'совпадение', 'современник', 'современный', 'совсем', 'согласие', 'согласно', 'согласный', 'соглашаться', 'соглашение', 'согнутый', 'согревать', 'согреваться', 'содействие', 'содействовать', 'содержание', 'содержать', 'содержаться', 'содрогание', 'содрогаться', 'соединение', 'соединять', 'соединяться', 'сожаление', 'сожалеть', 'сожжение', 'сожитель', 'создавать', 'создание', 'созерцание', 'созерцать', 'сознавать', 'сознаваться', 'сознание', 'сознательно', 'созревать', 'сокол', 'соколик', 'соколов', 'сокольник', 'сокольники', 'сокольница', 'сокольничий', 'сокровище', 'солдат', 'солдатик', 'солдатский', 'солнечный', 'солнце', 'солнышко', 'солома', 'соломон', 'солфедж', 'соль', 'сомневаться', 'сомнение', 'сомнительно', 'сон', 'соната', 'сонный', 'сонюшка', 'соня', 'соображать', 'соображаться', 'соображение', 'сообразно', 'сообщать', 'сообщаться', 'сообщение', 'соответственно', 'соответственный', 'соответствовать', 'соответствующий', 'соотечественник', 'сопение', 'соперник', 'соперница', 'сопеть', 'сопровождать', 'сопротивление', 'сопрягать', 'сопутствовать', 'соразмерность', 'соратник', 'сорбонна', 'сорвать', 'сорвиголова', 'соревнование', 'соринка', 'сорок', 'сорокалетний', 'сорт', 'сосать', 'сосватывать', 'сосед', 'соседка', 'соседний', 'соскакивать', 'соскучиться', 'сословие', 'сослужить', 'сосна', 'сосновый', 'соснуть', 'сосредотачивать', 'сосредотачиваться', 'сосредоточение', 'сосредоточенно', 'сосредоточенность', 'сосредоточенный', 'сосредоточивать', 'сосредоточиваться', 'состав', 'составитель', 'составление', 'составлять', 'составляться', 'составной', 'состареться', 'состояние', 'состоять', 'состояться', 'сострадание', 'сотворить', 'соте', 'сотня', 'сотоварищ', 'сотрудник', 'соты', 'сотый', 'соус', 'софи', 'софья', 'сохранение', 'сохранять', 'сохраняться', 'соч', 'сочельник', 'сочинение', 'сочиненный', 'сочинитель', 'сочинять', 'сочный', 'сочувствие', 'сочувствовать', 'союз', 'союзник', 'союзница', 'союзный', 'спадать', 'спальня', 'спаржа', 'спасать', 'спасаться', 'спасение', 'спасибо', 'спаситель', 'спасительность', 'спасительный', 'спать', 'спб', 'спектакль', 'сперанский', 'сперва', 'спереди', 'спесь', 'спеть', 'специально', 'спешивать', 'спешить', 'спина', 'спинка', 'спираться', 'спиртовой', 'список', 'списывать', 'спица', 'сплетня', 'сплошной', 'спокойно', 'спокойный', 'спокойствие', 'спор', 'спорить', 'спориться', 'спорый', 'способ', 'способность', 'способный', 'способствовать', 'спотыкаться', 'спохватываться', 'справа', 'справедливо', 'справедливость', 'справедливый', 'справляться', 'спрашивать', 'спрашиваться', 'спрос', 'спрыгивать', 'спрятать', 'спрятаться', 'спугивать', 'спуск', 'спускать', 'спускаться', 'спутник', 'спутывать', 'спутываться', 'сравнение', 'сравнивать', 'сравниваться', 'сравнительно', 'сравнительный', 'сражаться', 'сражение', 'сразу', 'срам', 'срамить', 'среда', 'среди', 'средиземный', 'средина', 'средний', 'средство', 'срок', 'срываться', 'сряду', 'ссора', 'ссориться', 'ссылать', 'ссылаться', 'ссылка', 'ссыхаться', 'ставить', 'ставиться', 'ставка', 'ставня', 'стадо', 'стакан', 'стаканчик', 'сталкивать', 'сталкиваться', 'сталь', 'стальной', 'стамеска', 'стан', 'становиться', 'станок', 'станционный', 'станция', 'старание', 'старательность', 'старательный', 'стараться', 'старенький', 'стареться', 'старик', 'стариковский', 'старинный', 'старичок', 'староста', 'старость', 'старуха', 'старушечий', 'старушка', 'старчески', 'старческий', 'старший', 'старшина', 'старшинство', 'старый', 'статистика', 'статский', 'статуя', 'статья', 'стая', 'стекать', 'стекло', 'стеклянный', 'стена', 'стенка', 'степан', 'степанович', 'степенно', 'степенность', 'степенный', 'степень', 'степной', 'степь', 'стереть', 'стерлядь', 'стеснение', 'стеснительный', 'стеснять', 'стесняться', 'стешок', 'стивенс', 'стилистический', 'стиль', 'стискивать', 'стих', 'стихать', 'стихийный', 'стихотворение', 'стихотворный', 'стлаться', 'сто', 'стоимость', 'стоить', 'стойкость', 'стол', 'столб', 'столетие', 'столетний', 'столик', 'столица', 'столкновение', 'столовая', 'столовый', 'столпиться', 'столыпин', 'столь', 'столько', 'стон', 'стонать', 'стоптать', 'сторож', 'сторона', 'сторониться', 'сторонник', 'стотысячный', 'стоянка', 'стоять', 'стоячий', 'стоящий', 'стр', 'стравлять', 'страдальчески', 'страдальческий', 'страдание', 'страдать', 'страдающий', 'стража', 'страждущий', 'стражение', 'страна', 'страница', 'странник', 'странница', 'странно', 'странность', 'странный', 'странствие', 'странствовать', 'страстно', 'страстной', 'страстность', 'страстный', 'страсть', 'стратегический', 'стратегия', 'страх', 'страшить', 'страшно', 'страшный', 'стрелка', 'стрелок', 'стрельба', 'стрелять', 'стремглав', 'стремительно', 'стремительность', 'стремительный', 'стремиться', 'стремление', 'стремя', 'стремянный', 'стриженый', 'строганов', 'строгий', 'строго', 'строгость', 'строение', 'строить', 'строиться', 'строй', 'стройно', 'стройный', 'строка', 'стружка', 'струиться', 'струна', 'струя', 'стряхивать', 'студент', 'стук', 'стукнуть', 'стукнуться', 'стул', 'стульчик', 'ступать', 'ступень', 'ступенька', 'ступня', 'стучать', 'стучаться', 'стыд', 'стыдиться', 'стыдливость', 'стыдно', 'стыдный', 'стягивать', 'стягиваться', 'суббота', 'субординация', 'субъект', 'сувар', 'суворов', 'суворовский', 'суд', 'сударыня', 'сударь', 'судебный', 'судить', 'судиться', 'судно', 'судорога', 'судорожно', 'судорожный', 'судоходный', 'судьба', 'судья', 'судя', 'суеверие', 'суета', 'суетиться', 'суетня', 'суждение', 'суждено', 'суживать', 'суживаться', 'сук', 'сука', 'сукин', 'сукно', 'султан', 'сумасбродный', 'сумасшедший', 'сумасшествие', 'сумерки', 'суметь', 'сумка', 'сумма', 'сумочка', 'сундук', 'сунуть', 'сунуться', 'суп', 'супруг', 'супруга', 'супружеский', 'супружество', 'сургуч', 'суровость', 'суровый', 'сутки', 'сутуловатый', 'суть', 'сухарева', 'сухарик', 'сухарь', 'сухо', 'сухой', 'сухость', 'сучка', 'сучок', 'сушить', 'сушиться', 'существенный', 'существо', 'существование', 'существовать', 'существующий', 'сущий', 'сущность', 'сфера', 'сфинкс', 'схватка', 'схватывать', 'схватываться', 'сходить', 'сходиться', 'сходка', 'сходство', 'сцевол', 'сцена', 'сцепление', 'счастие', 'счастливо', 'счастливый', 'счесть', 'счесться', 'счет', 'счеты', 'считать', 'считаться', 'сшивать', 'съедать', 'съездить', 'съезжать', 'съезжаться', 'съестной', 'сыграть', 'сын', 'сынок', 'сыпаться', 'сыр', 'сыро', 'сырой', 'сырость', 'сыскать', 'сытый', 'сю', 'сюда', 'сюрприз', 'сюртук', 'сюртучок', 'т', 'табак', 'табакерка', 'табачный', 'таборский', 'таврический', 'таинственно', 'таинственность', 'таинственный', 'таинство', 'таить', 'тайком', 'тайна', 'тайно', 'тайный', 'так', 'также', 'таки', 'таков', 'таковой', 'такой', 'такт', 'тактик', 'тактика', 'тактический', 'талант', 'талейран', 'талия', 'тальма', 'там', 'тамошний', 'танец', 'танцевальный', 'танцевать', 'танцовщица', 'танцовывать', 'танцор', 'танцующий', 'таракан', 'тарас', 'тарелка', 'тарла', 'тарутин', 'тарутино', 'тарутинский', 'таскать', 'татарин', 'татаринов', 'татаринова', 'таф', 'ташка', 'ташок', 'тащить', 'тащиться', 'таять', 'тварь', 'твердить', 'твердо', 'твердость', 'твердый', 'тверская', 'тверь', 'твоея', 'твой', 'творение', 'творец', 'твориться', 'тг', 'театр', 'театральный', 'тезка', 'текст', 'телега', 'теленок', 'телесный', 'тело', 'телохранитель', 'телянин', 'тем', 'тема', 'темно', 'темнота', 'темный', 'темп', 'тень', 'теоретик', 'теория', 'тепег', 'теперешний', 'теперь', 'тепло', 'теплота', 'теплый', 'терезия', 'терентий', 'терентьич', 'тереть', 'термометр', 'терпеливо', 'терпеливый', 'терпение', 'терпеть', 'терраса', 'терция', 'терять', 'теряться', 'тесак', 'тесемочка', 'тесниться', 'тесно', 'теснота', 'тесный', 'тесовый', 'тесть', 'тетенька', 'тетка', 'тетрадка', 'тетрадь', 'тетушка', 'течение', 'течь', 'теща', 'ти', 'тильзит', 'тильзитский', 'тимофеевна', 'тимохин', 'тип', 'тиски', 'тит', 'титул', 'тиф', 'тихий', 'тихо', 'тихон', 'тихонький', 'тишина', 'тишка', 'тишь', 'то', 'товар', 'товарищ', 'тогда', 'тогдашний', 'тоже', 'ток', 'токмо', 'толк', 'толкануть', 'толкать', 'толкаться', 'толки', 'толкнуть', 'толкование', 'толковать', 'толковаться', 'толком', 'толль', 'толпа', 'толпиться', 'толстой', 'толстый', 'толстяк', 'толчок', 'толщина', 'толь', 'только', 'толя', 'том', 'томить', 'тон', 'тоненький', 'тонкий', 'тонко', 'тонкость', 'тонуть', 'топить', 'топор', 'топот', 'топтать', 'торба', 'торговать', 'торговка', 'торговля', 'торговый', 'торжественно', 'торжественность', 'торжественный', 'торжество', 'торжествовать', 'торжковский', 'торжок', 'тормас', 'тормасова', 'торока', 'торопить', 'торопиться', 'торопливо', 'торопливость', 'торопливый', 'торчать', 'тоска', 'тосканец', 'тост', 'тот', 'тотчас', 'точить', 'точка', 'точно', 'точность', 'точный', 'тпрра', 'трава', 'травить', 'травля', 'травник', 'трагедия', 'трагический', 'трактир', 'трактирщик', 'транспорт', 'траур', 'трафарет', 'требование', 'требовательный', 'требовать', 'требоваться', 'требуемый', 'тревога', 'тревожить', 'тревожиться', 'тревожно', 'тревожный', 'трезвон', 'трезвый', 'трепак', 'трепать', 'трепаться', 'трепет', 'трепетание', 'трепетать', 'треск', 'трескотня', 'треснуть', 'третий', 'треть', 'третье', 'треугольный', 'трехгорный', 'трехлетний', 'трещать', 'три', 'тридцатилетний', 'тридцать', 'трижды', 'тринадцатилетний', 'тринадцатый', 'тринадцать', 'триста', 'трогательный', 'трогать', 'трогаться', 'трое', 'троица', 'троицкий', 'тройка', 'тройной', 'тройственный', 'трон', 'тронутый', 'тронуть', 'тронуться', 'тропинка', 'тротуар', 'трофей', 'троюродный', 'трояко', 'труба', 'трубач', 'трубка', 'трубочка', 'труд', 'трудиться', 'трудно', 'трудность', 'трудный', 'трудолюбивый', 'трунить', 'труп', 'труппа', 'трус', 'трусость', 'трусы', 'трутень', 'трюмо', 'тряпка', 'трясти', 'трястись', 'тряхнуть', 'туалет', 'тугендбунд', 'туго', 'туда', 'тужить', 'туз', 'тула', 'тулон', 'тулуп', 'тулупчик', 'тульский', 'туман', 'туманный', 'тупик', 'тупить', 'тупой', 'тур', 'турецкий', 'турнир', 'турок', 'турция', 'тусклый', 'тут', 'тутолмин', 'туфля', 'туча', 'тучка', 'тучков', 'тучный', 'тушин', 'тушить', 'тц', 'тщательно', 'тщеславие', 'тщеславный', 'тщета', 'тщетно', 'тщетный', 'ты', 'тыкать', 'тыл', 'тысяча', 'тысячелетие', 'тысячный', 'тьер', 'тьма', 'тьфу', 'тюрасский', 'тюрьма', 'тягость', 'тяготение', 'тяготеть', 'тяготить', 'тяготиться', 'тяжеле', 'тяжело', 'тяжелый', 'тяжесть', 'тяжкий', 'тянуть', 'тянуться', 'у', 'убай', 'убегать', 'убедительность', 'убедительный', 'убеждать', 'убеждаться', 'убеждение', 'убежденный', 'убежище', 'убивать', 'убиваться', 'убиение', 'убийство', 'убийца', 'убирать', 'убираться', 'убитый', 'уборка', 'уборная', 'убывать', 'убыль', 'уважаемый', 'уважать', 'уважение', 'уважить', 'уварка', 'уваров', 'уварова', 'уведомлять', 'увезти', 'увеличение', 'увеличивать', 'увеличиваться', 'увенчиваться', 'уверение', 'уверенно', 'уверенность', 'уверенный', 'увертюра', 'уверять', 'уверяться', 'увеселение', 'увечье', 'увещание', 'увиваться', 'увидать', 'увидаться', 'увидеть', 'увидеться', 'увлажаться', 'увлекать', 'увлекаться', 'увлечение', 'уводить', 'увозить', 'увольнять', 'увязывать', 'уг', 'угадывать', 'угащивать', 'углубление', 'углубляться', 'уговаривать', 'угодник', 'угодно', 'угодный', 'угождать', 'угол', 'уголок', 'уголь', 'угонка', 'уготавливать', 'угощать', 'угощение', 'угреваться', 'угрожать', 'угрожающе', 'угрожающий', 'угроза', 'угрызение', 'угрюмо', 'угрюмый', 'удаваться', 'удалять', 'удаляться', 'удар', 'ударение', 'ударять', 'ударяться', 'удачно', 'удачный', 'удел', 'удерживать', 'удерживаться', 'удесятерять', 'удесятеряться', 'удивительно', 'удивительный', 'удивление', 'удивленно', 'удивленный', 'удивлять', 'удивляться', 'удин', 'удирать', 'удлинять', 'удобно', 'удобный', 'удобство', 'удовлетворение', 'удовлетворительный', 'удовлетворять', 'удовлетворяться', 'удовольствие', 'удостаиваться', 'удостоивать', 'удостоить', 'уединение', 'уединенный', 'уезд', 'уездный', 'уезжать', 'уж', 'ужас', 'ужасать', 'ужасаться', 'ужасно', 'ужасный', 'уже', 'ужин', 'ужинать', 'уздцы', 'узел', 'узелок', 'узенький', 'узкий', 'узнавать', 'узнаваться', 'узор', 'узурпатор', 'узы', 'указ', 'указание', 'указанный', 'указательный', 'указывать', 'укалывать', 'укладка', 'укладывание', 'укладывать', 'укладываться', 'укор', 'укорачивать', 'укоризна', 'укоризненно', 'укоризненный', 'украина', 'украсть', 'украшать', 'украшение', 'укрепление', 'укреплять', 'укрываться', 'уксусный', 'укусить', 'укутывать', 'улавливать', 'улаживать', 'улан', 'уланский', 'улей', 'улетать', 'улечься', 'улица', 'уловка', 'уложение', 'улучшение', 'улыбаться', 'улыбка', 'ульм', 'ульмский', 'ультиматум', 'улюлю', 'улюлюканье', 'улюлюкать', 'улюлюля', 'ум', 'умалчивать', 'умалять', 'умение', 'уменьшать', 'уменьшаться', 'уменьшение', 'умеренно', 'умерший', 'умерять', 'уметь', 'умиление', 'умиленно', 'умиленный', 'умилять', 'умирать', 'умирающий', 'умно', 'умный', 'умозаключение', 'умолк', 'умолкать', 'умолчание', 'умолять', 'умоляющий', 'умственный', 'умываться', 'умысел', 'умышленно', 'университет', 'унижать', 'унижаться', 'унижение', 'унизительный', 'уничтожать', 'уничтожаться', 'уничтожение', 'уносить', 'уноситься', 'унывать', 'уныло', 'унылый', 'уныние', 'упадок', 'упасть', 'упирать', 'упираться', 'уплата', 'уплачивать', 'уповать', 'уполномоченный', 'упоминание', 'упоминать', 'упорно', 'упорный', 'упорство', 'употребление', 'употреблять', 'употребляться', 'управление', 'управляемый', 'управлять', 'управляться', 'управляющий', 'упражнение', 'упражняться', 'упрашивать', 'упрек', 'упрекать', 'упрямство', 'упрямый', 'упускать', 'ура', 'уравнение', 'урод', 'уродливый', 'урожай', 'урок', 'уронить', 'урра', 'урывками', 'ус', 'усадьба', 'усаживаться', 'усатый', 'усваивать', 'усердие', 'усердно', 'усердный', 'усик', 'усиление', 'усиленный', 'усиливать', 'усиливаться', 'усилие', 'ускользать', 'ускорять', 'уславливаться', 'условие', 'условно', 'условный', 'услуга', 'услуживать', 'услужливый', 'услыхать', 'услыш', 'услышать', 'усмехаться', 'усмешка', 'усмирять', 'усмотрение', 'усовершенствование', 'усовещивать', 'усомниться', 'успевать', 'успенский', 'успех', 'успешно', 'успешный', 'успокаивать', 'успокаиваться', 'успокоение', 'успокоивать', 'успокоиваться', 'успокоивая', 'успокоительный', 'усский', 'уста', 'устав', 'уставать', 'уставлять', 'уставляться', 'устаивать', 'устало', 'усталость', 'усталый', 'устанавливать', 'устанавливаться', 'установление', 'устилать', 'устраивать', 'устраиваться', 'устранять', 'устремлять', 'устремляться', 'устроенный', 'устроивать', 'устроиваться', 'устройство', 'уступ', 'уступать', 'уступка', 'уступчивость', 'устыжаться', 'устье', 'усумниться', 'усылать', 'усыновлять', 'утаскивать', 'утвердительно', 'утвердить', 'утверждать', 'утверждаться', 'утверждение', 'утешать', 'утешаться', 'утешение', 'утешительный', 'утирать', 'утираться', 'утихать', 'утица', 'утишать', 'утолять', 'утонченный', 'утопать', 'утрачивать', 'утренний', 'утро', 'утруждать', 'ух', 'ухаб', 'ухаживание', 'ухаживать', 'ухватывать', 'ухватываться', 'ухо', 'уход', 'уходить', 'ухудшать', 'уцелеть', 'участвовать', 'участие', 'участник', 'участок', 'участь', 'учебный', 'учение', 'ученик', 'ученица', 'ученый', 'учет', 'учинять', 'учитель', 'учить', 'учиться', 'учреждать', 'учреждение', 'учтивость', 'учтивый', 'ушибать', 'ущелие', 'уяснять', 'ф', 'фабвье', 'фабрика', 'фабричный', 'факт', 'фальшиво', 'фальшивый', 'фамилия', 'фамильярность', 'фамильярный', 'фанаберия', 'фантазия', 'фантастический', 'фартук', 'фарфор', 'февраль', 'федор', 'федорович', 'федоровна', 'федосьюшка', 'федя', 'фейерверк', 'фейерверкер', 'фельдмаршал', 'фельдфебель', 'фельдшер', 'фен', 'феодоровна', 'феоктист', 'ферапонтов', 'фердинанд', 'фермопила', 'фехтовальщик', 'фехтование', 'фигура', 'фигурка', 'физика', 'физиологический', 'физиология', 'физиономия', 'физически', 'физический', 'филантропия', 'фили', 'филипп', 'философ', 'философия', 'философский', 'философствовать', 'фильд', 'филя', 'финансы', 'финляндия', 'финляндский', 'фиргоф', 'фихт', 'фланг', 'фланговый', 'фланкер', 'фланкерский', 'флеш', 'флигелек', 'флигель', 'флот', 'флюгер', 'фляжка', 'фока', 'фома', 'фоминский', 'фон', 'фонарь', 'форейтор', 'форма', 'формальность', 'формальный', 'формироваться', 'фортепиано', 'фортепьяно', 'фортуна', 'форшпан', 'фотий', 'фр', 'фраза', 'фрак', 'франк', 'франкмасонство', 'франко', 'франтик', 'франц', 'франция', 'француженка', 'француз', 'французский', 'фрейлина', 'фриана', 'фридланд', 'фридландский', 'фридрих', 'фризовый', 'фриштик', 'фрол', 'фронт', 'фронтовой', 'фронтон', 'фрукт', 'фуга', 'фунок', 'фунт', 'фура', 'фураж', 'фуражировка', 'фуражка', 'фурштатский', 'футляр', 'фуша', 'фыркать', 'фыркнуть', 'фю', 'х', 'ха', 'хаживать', 'халат', 'хамовник', 'характер', 'характеристика', 'характерный', 'харон', 'хвалить', 'хвалиться', 'хвастаться', 'хватать', 'хвататься', 'хватить', 'хведор', 'хвост', 'хвостик', 'херубиниевский', 'химический', 'химия', 'хитро', 'хитросплетенный', 'хитрость', 'хитрый', 'хлеб', 'хлебопашец', 'хлестать', 'хлопать', 'хлопнуть', 'хлопотать', 'хлопотливо', 'хлопотливость', 'хлопотливый', 'хлопоты', 'хлынуть', 'хмуриться', 'хобот', 'хог', 'ход', 'ходить', 'ходячий', 'хождение', 'хозяин', 'хозяйка', 'хозяйничать', 'хозяйский', 'хозяйственный', 'хозяйство', 'холм', 'холод', 'холодно', 'холодность', 'холодный', 'холопский', 'холостой', 'холостяк', 'холст', 'хор', 'хоровод', 'хорошенький', 'хорошенько', 'хорошеть', 'хороший', 'хорошо', 'хоры', 'хотеть', 'хотеться', 'хоть', 'хотя', 'хофс', 'хохол', 'хохот', 'хохотать', 'храбрец', 'храбро', 'храбростия', 'храбрость', 'храбрый', 'храм', 'храмина', 'хранение', 'хранить', 'храниться', 'хранцуз', 'храп', 'храпение', 'храпеть', 'хрипеть', 'хрипло', 'хриплый', 'христианин', 'христианский', 'христианство', 'христос', 'хроника', 'хрусталь', 'хрустальный', 'худенький', 'худо', 'худоба', 'художественный', 'художник', 'худой', 'худощавый', 'хульный', 'царев', 'цареубийство', 'царица', 'царицын', 'царский', 'царственный', 'царствие', 'царство', 'царствование', 'царствовать', 'царствующий', 'царь', 'цвет', 'цветок', 'цветочный', 'целесообразность', 'целесообразный', 'целиком', 'целиться', 'целковый', 'целовальник', 'целовать', 'целоваться', 'целое', 'целость', 'целый', 'цель', 'цельность', 'цельный', 'цена', 'ценить', 'цениться', 'ценный', 'центр', 'центральный', 'цепкость', 'цеплять', 'цепляться', 'цепочка', 'цепь', 'церемониальный', 'церковный', 'церковь', 'цесаревич', 'цивилизация', 'цитировать', 'циферблат', 'цифра', 'цнаем', 'цнайм', 'цнаймский', 'цугом', 'цыган', 'цыганка', 'цыганский', 'цыпочки', 'ч', 'чай', 'чайный', 'чарка', 'чарторижский', 'чарторыйский', 'час', 'часик', 'часовня', 'часовой', 'часовщик', 'частица', 'частный', 'часто', 'частый', 'часть', 'часы', 'чашка', 'чаяние', 'чег', 'чего', 'чей', 'чекмарь', 'человек', 'человеколюбие', 'человечек', 'человеческий', 'человечество', 'человэк', 'челюсть', 'чем', 'чемодан', 'чепец', 'чепрак', 'чепчик', 'червонец', 'червонный', 'червь', 'черед', 'через', 'череп', 'черепаха', 'черепаший', 'черкес', 'чернеть', 'чернеться', 'чернильница', 'черно', 'черноватый', 'черноволосый', 'черноглазый', 'черный', 'чернышев', 'чернь', 'черт', 'черта', 'чертовски', 'чесать', 'чесаться', 'чествовать', 'честно', 'честный', 'честолюбие', 'честь', 'чета', 'четверг', 'четверо', 'четвероугольник', 'четвертый', 'четверть', 'четыре', 'четыреста', 'четырехдневный', 'четырехтысячный', 'четырнадцатилетний', 'четырнадцать', 'чехол', 'чешуя', 'чин', 'чиниться', 'чиновник', 'чиновный', 'численность', 'числиться', 'число', 'чистенький', 'чистить', 'чиститься', 'чисто', 'чистоплотный', 'чистота', 'чистый', 'читатель', 'читать', 'читаться', 'чичагов', 'член', 'чопорный', 'чрез', 'чрезвычайно', 'чрезвычайный', 'чтение', 'чтец', 'что', 'чтоб', 'чтобы', 'чубук', 'чувственный', 'чувствительно', 'чувствительность', 'чувствительный', 'чувство', 'чувствование', 'чувствовать', 'чувствоваться', 'чудак', 'чудесно', 'чудесный', 'чудный', 'чудо', 'чудовище', 'чудотворный', 'чуждаться', 'чуждый', 'чужое', 'чужой', 'чуйка', 'чулок', 'чума', 'чумный', 'чур', 'чуткий', 'чуткость', 'чуть', 'чутье', 'чуять', 'ш', 'шабаш', 'шаг', 'шагать', 'шажок', 'шайка', 'шалаш', 'шалашик', 'шалить', 'шаловливый', 'шалость', 'шаль', 'шальме', 'шамкать', 'шампанское', 'шампиньон', 'шамшев', 'шамшевый', 'шапка', 'шаповалов', 'шапочка', 'шар', 'шарахнуться', 'шарить', 'шаровары', 'шарф', 'шататься', 'шатер', 'шатобриан', 'шахматный', 'шахматы', 'шашка', 'шварценберг', 'швед', 'шведский', 'швейцар', 'швейцарец', 'швейцария', 'швейцарский', 'швеция', 'швырнуть', 'швырять', 'шевардин', 'шевардинский', 'шевелить', 'шевелиться', 'шейка', 'шелк', 'шелковый', 'шельма', 'шенбрунн', 'шенбрюнна', 'шенграбен', 'шенграбенский', 'шенграбенское', 'шепелявить', 'шепнуть', 'шепот', 'шепотом', 'шептать', 'шептаться', 'шерер', 'шерсть', 'шерстяной', 'шествие', 'шестерик', 'шестерня', 'шестидесятитысячный', 'шестилетний', 'шестнадцатилетний', 'шестнадцать', 'шестой', 'шесть', 'шестьдесят', 'шестьсот', 'шея', 'шибкий', 'шиворот', 'шинель', 'шиншин', 'шипение', 'шипеть', 'ширина', 'ширма', 'широкий', 'широко', 'широкозадый', 'ширококостый', 'широкоплечий', 'широта', 'шитов', 'шитый', 'шить', 'шитье', 'шифоньерка', 'шифр', 'шишка', 'шишков', 'шкапчик', 'шкатулка', 'шкаф', 'шкафчик', 'школа', 'школьник', 'шкура', 'шлапаниц', 'шлапаница', 'шлепанье', 'шлепать', 'шлепнуть', 'шлепнуться', 'шляпа', 'шляться', 'шмель', 'шмит', 'шнапс', 'шнейдер', 'шнурок', 'шнырять', 'шомпол', 'шорох', 'шотландский', 'шпага', 'шпажка', 'шпион', 'шпионство', 'шпора', 'шпорить', 'шрам', 'штаб', 'штабной', 'штабный', 'штат', 'штатский', 'штатское', 'штейн', 'штиблета', 'штраф', 'штука', 'штукатурка', 'штурм', 'штурмовать', 'штучка', 'штык', 'шуба', 'шуберт', 'шубка', 'шулерство', 'шум', 'шуметь', 'шумно', 'шумный', 'шурин', 'шуршание', 'шут', 'шутить', 'шутиха', 'шутка', 'шутливо', 'шутливость', 'шутливый', 'шутник', 'шуточка', 'шутя', 'щадить', 'щеголеватый', 'щеголь', 'щегольской', 'щегольство', 'щеголять', 'щедрость', 'щедрота', 'щека', 'щелкать', 'щелкнуть', 'щель', 'щепка', 'щепотка', 'щепоть', 'щербатов', 'щербатый', 'щербинин', 'щетка', 'щечка', 'щиколка', 'щит', 'щупать', 'щурить', 'щуриться', 'ь', 'э', 'эгоизм', 'эгоист', 'эдак', 'эдакий', 'эдуард', 'эй', 'эйлау', 'эйхен', 'эк', 'эка', 'экзамен', 'экзекуция', 'экземпляр', 'экий', 'экипаж', 'экмюльский', 'эконом', 'экономический', 'экономка', 'экономов', 'экосез', 'экспедиция', 'элегантный', 'электрический', 'электричество', 'электронный', 'элемент', 'элен', 'элоиза', 'эмигрант', 'энгиенский', 'энглизировать', 'энергически', 'энергический', 'энергично', 'энергичный', 'энергия', 'энс', 'энский', 'энтузиазм', 'энтузиастка', 'эпизод', 'эполет', 'эполета', 'эпоха', 'эра', 'эрфурт', 'эрцгерцог', 'эрцгерцогиня', 'эсаул', 'эскадрон', 'эскадронный', 'эссенция', 'этаж', 'этак', 'этакий', 'этика', 'этитюда', 'это', 'этот', 'эфес', 'эх', 'ю', 'юбка', 'юг', 'южа', 'южнее', 'южный', 'юнкер', 'юнкерский', 'юность', 'юноша', 'юраге', 'юридический', 'юрковский', 'юродивый', 'юстиниан', 'юхнов', 'я', 'яблоко', 'явление', 'являть', 'являться', 'явственно', 'яд', 'ядовитый', 'ядро', 'язвительный', 'язык', 'яйцо', 'яко', 'якобинский', 'якобы', 'яков', 'яковлев', 'яма', 'ямочка', 'ямщик', 'январь', 'янков', 'янтарь', 'яркий', 'ярко', 'ярлык', 'ярмарка', 'яровой', 'ярославец', 'ярославль', 'ясно', 'яснополянский', 'ясность', 'ясный', 'яство', 'яузский', 'яффа', 'ящик']\n"
          ]
        }
      ],
      "source": [
        "print(sorted([w for w in model_vim.wv.key_to_index]))"
      ]
    },
    {
      "cell_type": "markdown",
      "metadata": {
        "id": "C0IUwyMqf8EX"
      },
      "source": [
        "И чему же мы ее научили? Попробуем оценить модель вручную, порешав примеры. Несколько дано ниже, попробуйте придумать свои."
      ]
    },
    {
      "cell_type": "code",
      "execution_count": null,
      "metadata": {
        "colab": {
          "base_uri": "https://localhost:8080/"
        },
        "id": "nYgW45rSf8EX",
        "outputId": "aa70882b-7307-4f56-fd55-380dda87448b"
      },
      "outputs": [
        {
          "output_type": "execute_result",
          "data": {
            "text/plain": [
              "[('сердце', 0.6239683628082275),\n",
              " ('брат', 0.6099748611450195),\n",
              " ('дружба', 0.563908576965332),\n",
              " ('привыкать', 0.5457635521888733),\n",
              " ('любить', 0.5275276899337769)]"
            ]
          },
          "metadata": {},
          "execution_count": 26
        }
      ],
      "source": [
        "model_vim.wv.most_similar(positive=[\"смерть\", \"любовь\"],\n",
        "                          negative=[\"печальный\"], topn=5)"
      ]
    },
    {
      "cell_type": "code",
      "source": [
        "model_vim.wv.most_similar(positive=[\"бал\"],\n",
        "                          negative=[\"угощение\"], topn=5)"
      ],
      "metadata": {
        "colab": {
          "base_uri": "https://localhost:8080/"
        },
        "id": "Xsq0XYPQY2Eo",
        "outputId": "ca0e3f7a-7d0b-4d38-de2d-eb8ead5564ab"
      },
      "execution_count": null,
      "outputs": [
        {
          "output_type": "execute_result",
          "data": {
            "text/plain": [
              "[('вечер', 0.5062255263328552),\n",
              " ('день', 0.49352312088012695),\n",
              " ('приезд', 0.46986693143844604),\n",
              " ('встречать', 0.41811424493789673),\n",
              " ('общество', 0.40799015760421753)]"
            ]
          },
          "metadata": {},
          "execution_count": 27
        }
      ]
    },
    {
      "cell_type": "code",
      "source": [
        "model_vim.wv.most_similar(positive=[\"война\"],\n",
        "                          negative=[\"оружие\"], topn=5)"
      ],
      "metadata": {
        "colab": {
          "base_uri": "https://localhost:8080/"
        },
        "id": "RC41DlC2ZNKD",
        "outputId": "d628eda0-2c8d-4c6a-f44a-b4933c480971"
      },
      "execution_count": null,
      "outputs": [
        {
          "output_type": "execute_result",
          "data": {
            "text/plain": [
              "[('предстоящий', 0.5633363127708435),\n",
              " ('кампания', 0.5351306200027466),\n",
              " ('будущее', 0.5231537222862244),\n",
              " ('мир', 0.5134395360946655),\n",
              " ('настоящий', 0.510441780090332)]"
            ]
          },
          "metadata": {},
          "execution_count": 29
        }
      ]
    },
    {
      "cell_type": "code",
      "source": [
        "model_vim.wv.most_similar(positive=[\"бал\"],\n",
        "                          negative=[\"наташа\"], topn=5)"
      ],
      "metadata": {
        "colab": {
          "base_uri": "https://localhost:8080/"
        },
        "id": "b5WkLn3n4-56",
        "outputId": "f66811d5-b02f-41e7-d73a-c968a3df2727"
      },
      "execution_count": null,
      "outputs": [
        {
          "output_type": "execute_result",
          "data": {
            "text/plain": [
              "[('смотр', 0.5865552425384521),\n",
              " ('знаменитый', 0.5651969909667969),\n",
              " ('квартира', 0.5579988956451416),\n",
              " ('назначать', 0.548809289932251),\n",
              " ('казенный', 0.531143307685852)]"
            ]
          },
          "metadata": {},
          "execution_count": 41
        }
      ]
    },
    {
      "cell_type": "code",
      "source": [
        "model_vim.wv.most_similar(positive=[\"соня\"],\n",
        "                          negative=[\"скромность\"], topn=5)"
      ],
      "metadata": {
        "colab": {
          "base_uri": "https://localhost:8080/"
        },
        "id": "VJnOGe9I5Gqr",
        "outputId": "1a969e38-ea91-4a9b-932e-795a3b72e06b"
      },
      "execution_count": null,
      "outputs": [
        {
          "output_type": "execute_result",
          "data": {
            "text/plain": [
              "[('наташа', 0.5572077035903931),\n",
              " ('петя', 0.5510107278823853),\n",
              " ('дядюшка', 0.4508955180644989),\n",
              " ('она', 0.4234929382801056),\n",
              " ('анатоль', 0.41597050428390503)]"
            ]
          },
          "metadata": {},
          "execution_count": 43
        }
      ]
    },
    {
      "cell_type": "code",
      "execution_count": null,
      "metadata": {
        "colab": {
          "base_uri": "https://localhost:8080/"
        },
        "id": "tNxbK3d1f8EY",
        "outputId": "a58ad733-09db-4bbd-fbe5-1fbe6c18173b"
      },
      "outputs": [
        {
          "output_type": "execute_result",
          "data": {
            "text/plain": [
              "[('дружба', 0.7730165719985962),\n",
              " ('нежность', 0.7383282780647278),\n",
              " ('чувство', 0.7274987697601318),\n",
              " ('жалость', 0.7187556028366089),\n",
              " ('преданность', 0.7186042666435242)]"
            ]
          },
          "metadata": {},
          "execution_count": 45
        }
      ],
      "source": [
        "model_vim.wv.most_similar(\"любовь\", topn=5)"
      ]
    },
    {
      "cell_type": "code",
      "source": [
        "model_vim.wv.most_similar(\"кутузов\", topn=5)"
      ],
      "metadata": {
        "colab": {
          "base_uri": "https://localhost:8080/"
        },
        "id": "vaq8Bkjs6E5E",
        "outputId": "f939cb3b-fe56-4563-b61f-72300afa6d0c"
      },
      "execution_count": null,
      "outputs": [
        {
          "output_type": "execute_result",
          "data": {
            "text/plain": [
              "[('главнокомандующий', 0.7541351914405823),\n",
              " ('генерал', 0.7085469961166382),\n",
              " ('балашев', 0.6920848488807678),\n",
              " ('государь', 0.6721406579017639),\n",
              " ('вейротер', 0.6303104758262634)]"
            ]
          },
          "metadata": {},
          "execution_count": 55
        }
      ]
    },
    {
      "cell_type": "code",
      "source": [
        "model_vim.wv.most_similar(\"соня\", topn=5)"
      ],
      "metadata": {
        "colab": {
          "base_uri": "https://localhost:8080/"
        },
        "id": "4d_1qP1W5Vyr",
        "outputId": "405621de-31bc-4c86-ea5e-dd4b453db0a1"
      },
      "execution_count": null,
      "outputs": [
        {
          "output_type": "execute_result",
          "data": {
            "text/plain": [
              "[('наташа', 0.8349200487136841),\n",
              " ('мать', 0.7292704582214355),\n",
              " ('она', 0.7038536071777344),\n",
              " ('николай', 0.637004017829895),\n",
              " ('дочь', 0.6341041922569275)]"
            ]
          },
          "metadata": {},
          "execution_count": 44
        }
      ]
    },
    {
      "cell_type": "code",
      "source": [
        "model_vim.wv.most_similar(\"война\", topn=5)"
      ],
      "metadata": {
        "colab": {
          "base_uri": "https://localhost:8080/"
        },
        "id": "thsJwbid56Zd",
        "outputId": "f4973e78-c5cc-4245-e7e8-59d2d2dcbe45"
      },
      "execution_count": null,
      "outputs": [
        {
          "output_type": "execute_result",
          "data": {
            "text/plain": [
              "[('кампания', 0.7411426901817322),\n",
              " ('маневр', 0.7175964713096619),\n",
              " ('австрия', 0.6878662109375),\n",
              " ('мир', 0.6725539565086365),\n",
              " ('заключение', 0.6666291952133179)]"
            ]
          },
          "metadata": {},
          "execution_count": 57
        }
      ]
    },
    {
      "cell_type": "code",
      "source": [
        "model_vim.wv.most_similar(\"аустерлиц\", topn=5)"
      ],
      "metadata": {
        "colab": {
          "base_uri": "https://localhost:8080/"
        },
        "id": "-NlyvAhH7cz7",
        "outputId": "7843c8ae-92aa-4ffc-dc91-32b833aeb47b"
      },
      "execution_count": null,
      "outputs": [
        {
          "output_type": "execute_result",
          "data": {
            "text/plain": [
              "[('фридланд', 0.809596598148346),\n",
              " ('вязьма', 0.7834159135818481),\n",
              " ('эйлау', 0.782162070274353),\n",
              " ('березина', 0.7769996523857117),\n",
              " ('ульм', 0.7656387090682983)]"
            ]
          },
          "metadata": {},
          "execution_count": 66
        }
      ]
    },
    {
      "cell_type": "code",
      "source": [
        "model_vim.wv.most_similar(\"небо\", topn=5)"
      ],
      "metadata": {
        "colab": {
          "base_uri": "https://localhost:8080/"
        },
        "id": "DEUDYEKk7k0o",
        "outputId": "f5754fa4-68a6-4965-85d9-5824ffb6e4c8"
      },
      "execution_count": null,
      "outputs": [
        {
          "output_type": "execute_result",
          "data": {
            "text/plain": [
              "[('солнце', 0.8263573050498962),\n",
              " ('яркий', 0.7279647588729858),\n",
              " ('звезда', 0.7272710800170898),\n",
              " ('даль', 0.7111852169036865),\n",
              " ('воздух', 0.7047789096832275)]"
            ]
          },
          "metadata": {},
          "execution_count": 68
        }
      ]
    },
    {
      "cell_type": "code",
      "execution_count": null,
      "metadata": {
        "colab": {
          "base_uri": "https://localhost:8080/"
        },
        "id": "ifj-eoNPf8EY",
        "outputId": "04786995-f4b7-4b5d-e8de-5d5dbc225844"
      },
      "outputs": [
        {
          "output_type": "execute_result",
          "data": {
            "text/plain": [
              "0.8349201"
            ]
          },
          "metadata": {},
          "execution_count": 24
        }
      ],
      "source": [
        "model_vim.wv.similarity(\"наташа\", \"соня\")"
      ]
    },
    {
      "cell_type": "code",
      "source": [
        "model_vim.wv.similarity(\"наташа\", \"пьер\")"
      ],
      "metadata": {
        "colab": {
          "base_uri": "https://localhost:8080/"
        },
        "id": "bkaT3R_g36PC",
        "outputId": "e9b2b814-079c-4d59-afe1-1a4323e26412"
      },
      "execution_count": null,
      "outputs": [
        {
          "output_type": "execute_result",
          "data": {
            "text/plain": [
              "0.51060426"
            ]
          },
          "metadata": {},
          "execution_count": 37
        }
      ]
    },
    {
      "cell_type": "code",
      "execution_count": null,
      "metadata": {
        "colab": {
          "base_uri": "https://localhost:8080/"
        },
        "id": "-FBGBRWnf8EZ",
        "outputId": "0ec02004-a05b-4299-b42a-5c1d177f1d0c"
      },
      "outputs": [
        {
          "output_type": "execute_result",
          "data": {
            "text/plain": [
              "0.9999999"
            ]
          },
          "metadata": {},
          "execution_count": 32
        }
      ],
      "source": [
        "model_vim.wv.similarity(\"наташа\", \"наташа\")"
      ]
    },
    {
      "cell_type": "code",
      "source": [
        "model_vim.wv.similarity(\"война\", \"мир\")"
      ],
      "metadata": {
        "colab": {
          "base_uri": "https://localhost:8080/"
        },
        "id": "VQTluAj36S8D",
        "outputId": "9f0322d1-2332-45a8-84d8-86582f1a925e"
      },
      "execution_count": null,
      "outputs": [
        {
          "output_type": "execute_result",
          "data": {
            "text/plain": [
              "0.6725539"
            ]
          },
          "metadata": {},
          "execution_count": 58
        }
      ]
    },
    {
      "cell_type": "code",
      "execution_count": null,
      "metadata": {
        "colab": {
          "base_uri": "https://localhost:8080/",
          "height": 36
        },
        "id": "yVns02IAf8Ea",
        "outputId": "02ad5326-bd55-4808-83c4-ddbca0c40a99"
      },
      "outputs": [
        {
          "output_type": "execute_result",
          "data": {
            "text/plain": [
              "'слеза'"
            ],
            "application/vnd.google.colaboratory.intrinsic+json": {
              "type": "string"
            }
          },
          "metadata": {},
          "execution_count": 62
        }
      ],
      "source": [
        "model_vim.wv.doesnt_match(\"грусть слеза улыбка\".split())"
      ]
    },
    {
      "cell_type": "code",
      "source": [
        "model_vim.wv.doesnt_match(\"андрей марья наташа соня николай элен анатоль долохов\".split())"
      ],
      "metadata": {
        "colab": {
          "base_uri": "https://localhost:8080/",
          "height": 36
        },
        "id": "gB5SSKoB5zUj",
        "outputId": "89306aec-a910-46bd-f9ad-d4a3418701a2"
      },
      "execution_count": null,
      "outputs": [
        {
          "output_type": "execute_result",
          "data": {
            "text/plain": [
              "'андрей'"
            ],
            "application/vnd.google.colaboratory.intrinsic+json": {
              "type": "string"
            }
          },
          "metadata": {},
          "execution_count": 70
        }
      ]
    },
    {
      "cell_type": "code",
      "execution_count": null,
      "metadata": {
        "colab": {
          "base_uri": "https://localhost:8080/"
        },
        "id": "rzOWh-s6f8Ec",
        "outputId": "18684c39-1a5c-4990-a01b-edecd548bb53"
      },
      "outputs": [
        {
          "output_type": "execute_result",
          "data": {
            "text/plain": [
              "['она',\n",
              " 'ее',\n",
              " 'николай',\n",
              " 'графиня',\n",
              " 'соня',\n",
              " 'отец',\n",
              " 'петя',\n",
              " 'мать',\n",
              " 'элен',\n",
              " 'дочь',\n",
              " 'сестра',\n",
              " 'плакать',\n",
              " 'покраснеть',\n",
              " 'николенька',\n",
              " 'молитва']"
            ]
          },
          "metadata": {},
          "execution_count": 51
        }
      ],
      "source": [
        "model_vim.wv.words_closer_than(\"наташа\", \"пьер\")"
      ]
    },
    {
      "cell_type": "code",
      "source": [
        "model_vim.wv.words_closer_than(\"мир\", \"война\")"
      ],
      "metadata": {
        "colab": {
          "base_uri": "https://localhost:8080/"
        },
        "id": "DB6GZj_F6W3u",
        "outputId": "d21cca19-4da3-46fa-cd3d-e1ec2f7fcee6"
      },
      "execution_count": null,
      "outputs": [
        {
          "output_type": "execute_result",
          "data": {
            "text/plain": [
              "['обстоятельство']"
            ]
          },
          "metadata": {},
          "execution_count": 60
        }
      ]
    },
    {
      "cell_type": "markdown",
      "metadata": {
        "id": "rcAK9qRrf8Ed"
      },
      "source": [
        "#### Параметры варьирования\n",
        "\n",
        "1) препроцессинг -- лемматизировать или нет\n",
        "\n",
        "2) размер корпуса -- чем больше, тем лучше, но! не для семантических задач -- для них важнее качество\n",
        "\n",
        "3) размер словаря\n",
        "\n",
        "4) negative samples\n",
        "\n",
        "5) количество итераций\n",
        "\n",
        "6) длина вектора -- 100-300 (судя по всему, >300 не сильно улучшает результаты)\n",
        "\n",
        "7) длина окна -- для синтаксических задач, примерно 4, для семантических задач, большое окно, 8, 10.\n",
        "\n",
        "Хорошая статья про сравнение моделей с варьированием параметров: https://www.aclweb.org/anthology/D14-1162.pdf\n",
        "\n",
        "#### Как использовать готовую модель\n",
        "\n",
        "#### RusVectōrēs\n",
        "\n",
        "На сайте RusVectōrēs (https://rusvectores.org/ru/) собраны предобученные на различных данных модели для русского языка, а также можно поискать наиболее близкие слова к заданному, посчитать семантическую близость нескольких слов и порешать примеры с помощью «калькулятором семантической близости».\n",
        "\n",
        "Для других языков также можно найти предобученные модели — например, модели [fastText](https://fasttext.cc/docs/en/english-vectors.html) и [GloVe](https://nlp.stanford.edu/projects/glove/)\n",
        "\n",
        "Ещё давайте посмотрим на векторные романы https://nevmenandr.github.io/novel2vec/"
      ]
    },
    {
      "cell_type": "markdown",
      "metadata": {
        "id": "UqODTWwef8Ed"
      },
      "source": [
        "#### Работа с моделью\n",
        "\n",
        "Модели word2vec бывают разных форматов:\n",
        "\n",
        "+ .vec.gz — обычный файл\n",
        "+ .bin.gz — бинарник\n",
        "\n",
        "Загружаются они с помощью одного и того же класса `KeyedVectors`, меняется только параметр `binary` у функции `load_word2vec_format`.\n",
        "\n",
        "Если же эмбеддинги обучены не с помощью word2vec, то для загрузки нужно использовать функцию `load`. Т.е. для загрузки предобученных эмбеддингов `glove`, `fasttext`, `bpe` и любых других нужна именно она.\n",
        "\n",
        "Скачаем с RusVectōrēs модель для русского языка, обученную на НКРЯ и Википедии образца 2018 г."
      ]
    },
    {
      "cell_type": "code",
      "execution_count": 11,
      "metadata": {
        "colab": {
          "base_uri": "https://localhost:8080/"
        },
        "id": "zerhZvtof8Ee",
        "outputId": "e609e680-0422-48bb-b165-d94735244606"
      },
      "outputs": [
        {
          "output_type": "execute_result",
          "data": {
            "text/plain": [
              "('ruwikiruscorpora-nobigrams_upos_skipgram_300_5_2018.vec.gz',\n",
              " <http.client.HTTPMessage at 0x7a315ab9b7c0>)"
            ]
          },
          "metadata": {},
          "execution_count": 11
        }
      ],
      "source": [
        "urllib.request.urlretrieve(\"https://rusvectores.org/static/models/rusvectores4/unigrams/ruwikiruscorpora-nobigrams_upos_skipgram_300_5_2018.vec.gz\", \"ruwikiruscorpora-nobigrams_upos_skipgram_300_5_2018.vec.gz\")"
      ]
    },
    {
      "cell_type": "code",
      "execution_count": 12,
      "metadata": {
        "id": "nIeebDY_f8Ee"
      },
      "outputs": [],
      "source": [
        "m = 'ruwikiruscorpora-nobigrams_upos_skipgram_300_5_2018.vec.gz'\n",
        "\n",
        "if m.endswith('.vec.gz'):\n",
        "    model = gensim.models.KeyedVectors.load_word2vec_format(m, binary=False)\n",
        "elif m.endswith('.bin.gz'):\n",
        "    model = gensim.models.KeyedVectors.load_word2vec_format(m, binary=True)\n",
        "else:\n",
        "    model = gensim.models.KeyedVectors.load(m)"
      ]
    },
    {
      "cell_type": "code",
      "execution_count": 13,
      "metadata": {
        "id": "Nhp4mRnif8Ef"
      },
      "outputs": [],
      "source": [
        "words = ['хороший_ADJ', 'плохой_ADJ', 'ужасный_ADJ','жуткий_ADJ', 'страшный_ADJ', 'красный_ADJ', 'синий_ADJ']"
      ]
    },
    {
      "cell_type": "markdown",
      "metadata": {
        "id": "yx0Dxs7sf8Ef"
      },
      "source": [
        "Частеречные тэги нужны, поскольку это специфика скачанной модели - она была натренирована на словах, аннотированных их частями речи (и лемматизированных). NB! В названиях моделей на `rusvectores` указано, какой тегсет они используют (mystem, upos и т.д.)\n",
        "\n",
        "Попросим у модели 10 ближайших соседей для каждого слова и коэффициент косинусной близости для каждого:\n"
      ]
    },
    {
      "cell_type": "code",
      "execution_count": 14,
      "metadata": {
        "colab": {
          "base_uri": "https://localhost:8080/"
        },
        "id": "WGv9kVw5f8Ef",
        "outputId": "ff8a5a75-83b8-4e8f-f231-6f5d29e39ce7"
      },
      "outputs": [
        {
          "output_type": "stream",
          "name": "stdout",
          "text": [
            "хороший_ADJ\n",
            "[ 0.05271   0.084645  0.011362 -0.021384  0.005557  0.106148  0.038565\n",
            " -0.047672 -0.002414  0.088515]\n",
            "плохой_ADJ 0.8079851269721985\n",
            "неплохой_ADJ 0.7780063152313232\n",
            "хороший_ADV 0.7469695806503296\n",
            "хорошо_ADJ 0.7432217001914978\n",
            "превосходный_ADJ 0.7101497650146484\n",
            "отличный_ADJ 0.7055953741073608\n",
            "плохой_VERB 0.6580293774604797\n",
            "хорошее_ADJ 0.6565685272216797\n",
            "недурной_ADJ 0.6560452580451965\n",
            "плохой_ADV 0.6524969935417175\n",
            "\n",
            "\n",
            "плохой_ADJ\n",
            "[ 0.030652  0.035277  0.012192  0.028076 -0.024841  0.06495  -0.017494\n",
            " -0.0274    0.026849  0.067293]\n",
            "хороший_ADJ 0.8079851269721985\n",
            "плохо_ADJ 0.7245411276817322\n",
            "плохой_ADV 0.7162424921989441\n",
            "скверный_ADJ 0.7082209587097168\n",
            "дурной_ADJ 0.7012428045272827\n",
            "плохой_NOUN 0.68763267993927\n",
            "плохой_VERB 0.6833022236824036\n",
            "неважный_ADJ 0.653415322303772\n",
            "хужбыть_VERB 0.6530900597572327\n",
            "нехороший_ADJ 0.6453500390052795\n",
            "\n",
            "\n",
            "ужасный_ADJ\n",
            "[-0.029341 -0.01831   0.029294  0.002884 -0.009622  0.073413 -0.148103\n",
            "  0.036496 -0.007397  0.08211 ]\n",
            "страшный_ADJ 0.8260009288787842\n",
            "отвратительный_ADJ 0.7885574698448181\n",
            "ужасать_VERB 0.7641817331314087\n",
            "ужаснейший_ADJ 0.7601258158683777\n",
            "жуткий_ADJ 0.7538027763366699\n",
            "ужасающий_VERB 0.738351583480835\n",
            "чудовищный_ADJ 0.7155038118362427\n",
            "кошмарный_ADJ 0.6970376968383789\n",
            "безобразный_ADJ 0.6829937100410461\n",
            "ужасно_ADJ 0.6827337145805359\n",
            "\n",
            "\n",
            "жуткий_ADJ\n",
            "[ 0.008502 -0.070615 -0.041664  0.092243 -0.031672 -0.006465 -0.145448\n",
            " -0.014844 -0.02537   0.011056]\n",
            "страшный_ADJ 0.8085675239562988\n",
            "ужасный_ADJ 0.7538027763366699\n",
            "жутковатый_ADJ 0.7409142851829529\n",
            "зловещий_ADJ 0.7011045813560486\n",
            "странный_ADJ 0.6919788122177124\n",
            "кошмарный_ADJ 0.6918973326683044\n",
            "отвратительный_ADJ 0.6872618198394775\n",
            "мрачный_ADJ 0.6869199275970459\n",
            "чудовищный_ADJ 0.6799460649490356\n",
            "тоскливый_ADJ 0.6797991394996643\n",
            "\n",
            "\n",
            "страшный_ADJ\n",
            "[ 0.00463  -0.121499 -0.00197   0.012488 -0.003129  0.033653 -0.149805\n",
            "  0.03068  -0.029428  0.045449]\n",
            "ужасный_ADJ 0.8260010480880737\n",
            "жуткий_ADJ 0.8085675239562988\n",
            "ужасать_VERB 0.7013491988182068\n",
            "чудовищный_ADJ 0.7007293105125427\n",
            "страшно_ADJ 0.6778762340545654\n",
            "мучительный_NOUN 0.6615219712257385\n",
            "страшнотраница_NOUN 0.6602171659469604\n",
            "страшный_ADV 0.6600751280784607\n",
            "причудиться_VERB 0.6573998332023621\n",
            "престрашный_ADJ 0.6484856605529785\n",
            "\n",
            "\n",
            "красный_ADJ\n",
            "[-0.00301  -0.13654  -0.053827 -0.035158 -0.055694  0.027937 -0.04009\n",
            "  0.01502   0.026079 -0.011396]\n",
            "крас­ный_ADJ 0.635646641254425\n",
            "ленинаlink=орден_PROPN 0.599561333656311\n",
            "краснать_ADJ 0.5953999161720276\n",
            "краснать_NOUN 0.5914392471313477\n",
            "звездыlink=орден_NOUN 0.5843793749809265\n",
            "link=орден_PROPN 0.5829176902770996\n",
            "желтый_ADJ 0.576896071434021\n",
            "зеленый_ADJ 0.5673321485519409\n",
            "малиновый_ADJ 0.5672751069068909\n",
            "синий_ADJ 0.5668819546699524\n",
            "\n",
            "\n",
            "синий_ADJ\n",
            "[ 0.053525 -0.030734 -0.047097 -0.043072 -0.038269 -0.016649 -0.018806\n",
            " -0.015632 -0.025388  0.019502]\n",
            "голубой_ADJ 0.8528727889060974\n",
            "синий_NOUN 0.8248299956321716\n",
            "-синий_ADJ 0.7697558403015137\n",
            "фиолетовый_ADJ 0.7682971358299255\n",
            "желтый_ADJ 0.7661444544792175\n",
            "-голубый_ADJ 0.7486956119537354\n",
            "светло-синий_ADJ 0.7387728095054626\n",
            "зеленый_ADJ 0.7361876368522644\n",
            "бирюзовый_ADJ 0.7274042367935181\n",
            "-синый_ADJ 0.7212526202201843\n",
            "\n",
            "\n"
          ]
        }
      ],
      "source": [
        "for word in words:\n",
        "    # есть ли слово в модели?\n",
        "    if word in model:\n",
        "        print(word)\n",
        "        # смотрим на вектор слова (его размерность 300, смотрим на первые 10 чисел)\n",
        "        print(model[word][:10])\n",
        "        # выдаем 10 ближайших соседей слова:\n",
        "        for i in model.most_similar(positive=[word], topn=10):\n",
        "            # слово + коэффициент косинусной близости\n",
        "            print(i[0], i[1])\n",
        "        print('\\n')\n",
        "    else:\n",
        "        # Увы!\n",
        "        print('Увы, слова \"%s\" нет в модели!' % word)"
      ]
    },
    {
      "cell_type": "markdown",
      "metadata": {
        "id": "Y-CVRcPQf8Ef"
      },
      "source": [
        "Находим косинусную близость пары слов:"
      ]
    },
    {
      "cell_type": "code",
      "execution_count": 15,
      "metadata": {
        "colab": {
          "base_uri": "https://localhost:8080/"
        },
        "id": "7lWUzIInf8Eg",
        "outputId": "bfb0317a-ae74-4120-fdbe-97e177271d42"
      },
      "outputs": [
        {
          "output_type": "stream",
          "name": "stdout",
          "text": [
            "0.80798507\n"
          ]
        }
      ],
      "source": [
        "print(model.similarity('плохой_ADJ', 'хороший_ADJ'))"
      ]
    },
    {
      "cell_type": "code",
      "execution_count": null,
      "metadata": {
        "colab": {
          "base_uri": "https://localhost:8080/"
        },
        "id": "-JIOT0IUf8Eg",
        "outputId": "90adf2ff-d719-4127-b0e4-a3ce0675a2b7"
      },
      "outputs": [
        {
          "output_type": "stream",
          "name": "stdout",
          "text": [
            "0.16911383\n"
          ]
        }
      ],
      "source": [
        "print(model.similarity('плохой_ADJ', 'синий_ADJ'))"
      ]
    },
    {
      "cell_type": "code",
      "execution_count": null,
      "metadata": {
        "colab": {
          "base_uri": "https://localhost:8080/"
        },
        "id": "X7J_X4JQf8Eg",
        "outputId": "ec49fe58-1dac-488d-8243-09cbc30f84ea"
      },
      "outputs": [
        {
          "output_type": "stream",
          "name": "stdout",
          "text": [
            "0.7538028\n"
          ]
        }
      ],
      "source": [
        "print(model.similarity('ужасный_ADJ', 'жуткий_ADJ'))"
      ]
    },
    {
      "cell_type": "markdown",
      "metadata": {
        "id": "mz_cP4i5f8Eh"
      },
      "source": [
        "Пропорция\n",
        "\n",
        "+ positive — вектора, которые мы складываем\n",
        "+ negative — вектора, которые вычитаем"
      ]
    },
    {
      "cell_type": "code",
      "execution_count": 16,
      "metadata": {
        "id": "da5D4eFRf8Eh",
        "outputId": "ceb213db-dbcd-4c93-aa32-aa08df68146f",
        "colab": {
          "base_uri": "https://localhost:8080/"
        }
      },
      "outputs": [
        {
          "output_type": "stream",
          "name": "stdout",
          "text": [
            "страшный_ADJ\n"
          ]
        }
      ],
      "source": [
        "print(model.most_similar(positive=['плохой_ADJ', 'ужасный_ADJ'], negative=['хороший_ADJ'])[0][0])"
      ]
    },
    {
      "cell_type": "markdown",
      "metadata": {
        "id": "d_YqqJ8Ff8Ei"
      },
      "source": [
        "Найди лишнее!"
      ]
    },
    {
      "cell_type": "code",
      "execution_count": 17,
      "metadata": {
        "colab": {
          "base_uri": "https://localhost:8080/"
        },
        "id": "Mbsf2G-Yf8Ei",
        "outputId": "f238b120-7be5-46e1-c72a-7225b97781c9"
      },
      "outputs": [
        {
          "output_type": "stream",
          "name": "stdout",
          "text": [
            "хороший_ADJ\n"
          ]
        }
      ],
      "source": [
        "print(model.doesnt_match('плохой_ADJ хороший_ADJ ужасный_ADJ страшный_ADJ'.split()))"
      ]
    },
    {
      "cell_type": "code",
      "execution_count": 18,
      "metadata": {
        "colab": {
          "base_uri": "https://localhost:8080/"
        },
        "id": "4C3pqHk7f8Eo",
        "outputId": "27795365-9ef5-45da-c66f-1daa0783b11b"
      },
      "outputs": [
        {
          "output_type": "stream",
          "name": "stdout",
          "text": [
            "0.4783\tстрашно_ADV\n",
            "0.4071\tбезумно_ADV\n",
            "0.379\tнестерпимо_ADV\n",
            "0.3681\tбезмерно_ADV\n",
            "0.3679\tстрашный_ADV\n",
            "0.3627\tдонельзя_ADV\n",
            "0.3577\tжутко_ADV\n",
            "0.3492\tмучительно_ADV\n",
            "0.3421\tнеобыкновенно_ADV\n",
            "0.3387\tжгуче_ADV\n"
          ]
        }
      ],
      "source": [
        "for word, score in model.most_similar(positive=['ужасно_ADV'], negative=['плохой_ADJ']):\n",
        "    print(f'{score:.4}\\t{word}')"
      ]
    },
    {
      "cell_type": "markdown",
      "metadata": {
        "id": "TKd7ZO6Wf8Eo"
      },
      "source": [
        "#### Оценка\n",
        "\n",
        "Это, конечно, хорошо, но как понять, какая модель лучше? Или вот, например, я сделал свою модель, а как понять, насколько она хорошая?\n",
        "\n",
        "Для этого существуют специальные датасеты для оценки качества дистрибутивных моделей. Основных два: один измеряет точность решения задач на аналогии (про Россию и пельмени), а второй используется для оценки коэффициента семантической близости.\n",
        "\n",
        "#### Word Similarity\n",
        "\n",
        "Этот метод заключается в том, чтобы оценить, насколько представления о семантической близости слов в модели соотносятся с \\\"представлениями\\\" людей.\n",
        "\n",
        "| слово 1    | слово 2    | близость |\n",
        "|------------|------------|----------|\n",
        "| кошка      | собака     | 0.7      |\n",
        "| чашка      | кружка     | 0.9      |\n",
        "\n",
        "Для каждой пары слов из заранее заданного датасета мы можем посчитать косинусное расстояние, и получить список таких значений близости. При этом у нас уже есть список значений близостей, сделанный людьми. Мы можем сравнить эти два списка и понять, насколько они похожи (например, посчитав корреляцию). Эта мера схожести должна говорить о том, насколько модель хорошо моделирует расстояния о слова.\n",
        "\n",
        "#### Аналогии\n",
        "\n",
        "Другая популярная задача для \"внутренней\" оценки называется задачей поиска аналогий. Как мы уже разбирали выше, с помощью простых арифметических операций мы можем модифицировать значение слова. Если заранее собрать набор слов-модификаторов, а также слов, которые мы хотим получить в результаты модификации, то на основе подсчёта количества \"попаданий\" в желаемое слово мы можем оценить, насколько хорошо работает модель.\n",
        "\n",
        "В качестве слов-модификатор мы можем использовать семантические аналогии. Скажем, если у нас есть некоторое отношение \"страна-столица\", то для оценки модели мы можем использовать пары наподобие \"Россия-Москва\", \"Норвегия-Осло\", и т.д. Датасет будет выглядеть следующм образом:\n",
        "\n",
        "| слово 1    | слово 2    | отношение     |\n",
        "|------------|------------|---------------|\n",
        "| Россия     | Москва     | страна-столица|\n",
        "| Норвегия   | Осло       | страна-столица|\n",
        "\n",
        "Рассматривая случайные две пары из этого набора, мы хотим, имея триплет (Россия, Москва, Норвегия) хотим получить слово \"Осло\", т.е. найти такое слово, которое будет находиться в том же отношении со словом \"Норвегия\", как \"Россия\" находится с Москвой.\n",
        "\n",
        "Датасеты для русского языка можно скачать на странице с моделями на RusVectores. Посчитаем качество нашей модели НКРЯ на датасете про аналогии:"
      ]
    },
    {
      "cell_type": "code",
      "execution_count": null,
      "metadata": {
        "id": "onYlgeh7f8Eq"
      },
      "outputs": [],
      "source": [
        "res = model.evaluate_word_analogies('ru_analogy_tagged_PROPN.txt')"
      ]
    },
    {
      "cell_type": "code",
      "source": [
        "from __future__ import print_function\n",
        "print(res[0])\n",
        "for dct in res[1]:\n",
        "   print(dct['section'], len(dct['correct']), len(dct['incorrect']))"
      ],
      "metadata": {
        "colab": {
          "base_uri": "https://localhost:8080/"
        },
        "id": "BA1o23md_K-k",
        "outputId": "8dd9d187-c066-45f4-d90e-e39887e5875f"
      },
      "execution_count": null,
      "outputs": [
        {
          "output_type": "stream",
          "name": "stdout",
          "text": [
            "0.5973182930722571\n",
            "capital-common-countries 469 37\n",
            "capital-world 2332 1022\n",
            "currency 93 455\n",
            "city-in-state 531 1009\n",
            "family 225 155\n",
            "gram1-adjective-to-adverb 302 568\n",
            "gram2-opposite 233 367\n",
            "gram6-nationality-adjective 1428 171\n",
            "Total accuracy 5613 3784\n"
          ]
        }
      ]
    },
    {
      "cell_type": "code",
      "execution_count": null,
      "metadata": {
        "colab": {
          "base_uri": "https://localhost:8080/"
        },
        "id": "WDRBY3bTf8Eq",
        "outputId": "30333176-3496-418a-da16-7471247b2afb"
      },
      "outputs": [
        {
          "output_type": "stream",
          "name": "stdout",
          "text": [
            "МАЛЬЧИК_NOUN\tДЕВОЧКА_NOUN\tБРАТЬЯ_NOUN\tСЕСТРЫ_NOUN\n",
            "МАЛЬЧИК_NOUN\tДЕВОЧКА_NOUN\tПАПА_NOUN\tМАМА_NOUN\n",
            "МАЛЬЧИК_NOUN\tДЕВОЧКА_NOUN\tДЕД_NOUN\tБАБКА_NOUN\n",
            "МАЛЬЧИК_NOUN\tДЕВОЧКА_NOUN\tСЫНОВЬЯ_NOUN\tДОЧЕРИ_NOUN\n",
            "МАЛЬЧИК_NOUN\tДЕВОЧКА_NOUN\tТЕСТЬ_NOUN\tТЕЩА_NOUN\n",
            "МАЛЬЧИК_NOUN\tДЕВОЧКА_NOUN\tОТЧИМ_NOUN\tМАЧЕХА_NOUN\n",
            "БРАТ_NOUN\tСЕСТРА_NOUN\tБРАТЬЯ_NOUN\tСЕСТРЫ_NOUN\n",
            "БРАТ_NOUN\tСЕСТРА_NOUN\tПАПА_NOUN\tМАМА_NOUN\n",
            "БРАТ_NOUN\tСЕСТРА_NOUN\tДЕД_NOUN\tБАБКА_NOUN\n",
            "БРАТ_NOUN\tСЕСТРА_NOUN\tСЫНОВЬЯ_NOUN\tДОЧЕРИ_NOUN\n"
          ]
        }
      ],
      "source": [
        "for row in res[1][4]['incorrect'][:10]:\n",
        "    print('\\t'.join(row))"
      ]
    },
    {
      "cell_type": "markdown",
      "source": [
        "Немного о проблемах:\n",
        "\n",
        "Man - Doctor, Woman - ?"
      ],
      "metadata": {
        "id": "q4osfHHo_g_L"
      }
    },
    {
      "cell_type": "markdown",
      "source": [
        "Ещё способы оценить векторные представления:\n",
        "\n",
        "- TOEFL synonym detection (выбрать из 4 слов синоним к слову)\n",
        "- Семантическая близость (WordSim353 - люди оценивали близость слов от 1 до 10, MEN (мультимодальное), Stanford contextual WS)\n",
        "- Ассоциаты (https://sociation.org/)\n",
        "- Онтологические отношения (BLESS - слово-отношение-слово)\n",
        "- Аналогии (Mikolov et al. 2013 - синтаксические и семантические)\n",
        "- Задания на категоризацию (Almuhareb-Poesio set 2006 - распределить слова по классам)\n",
        "- BrainBench (Xu et al. 2016 - похожая мозговая активность (fMRI, MEG) - похожие слова)\n",
        "- GLUE (https://gluebenchmark.com/)\n",
        "- и др."
      ],
      "metadata": {
        "id": "yATRte30__VU"
      }
    },
    {
      "cell_type": "markdown",
      "metadata": {
        "id": "vmuE7_9Tf8Eq"
      },
      "source": [
        "**Визуализация**"
      ]
    },
    {
      "cell_type": "markdown",
      "metadata": {
        "id": "tABbGRgUf8Er"
      },
      "source": [
        "Можно использовать разные методы того, как преобразовать векторы так, чтобы можно было их поместить на двумерное пространство, например, с помощью PCA. В зависимости от того, относительно какого набора слов вы пытаетесь найти оптимально отображение на двумерное пространство, у вас могут получаться разные результаты"
      ]
    },
    {
      "cell_type": "code",
      "execution_count": null,
      "metadata": {
        "id": "EF8kWBLjf8Es"
      },
      "outputs": [],
      "source": [
        "from sklearn.decomposition import PCA\n",
        "import matplotlib.pyplot as plt\n",
        "%matplotlib inline"
      ]
    },
    {
      "cell_type": "code",
      "execution_count": null,
      "metadata": {
        "id": "CpkIhWApf8Et"
      },
      "outputs": [],
      "source": [
        "words = ['хороший_ADJ', 'плохой_ADJ', 'ужасный_ADJ','жуткий_ADJ', 'страшный_ADJ', 'красный_ADJ', 'синий_ADJ']\n",
        "X = model[words]"
      ]
    },
    {
      "cell_type": "markdown",
      "metadata": {
        "id": "9TQqmZI2f8Et"
      },
      "source": [
        "На списке конкретных слов"
      ]
    },
    {
      "cell_type": "code",
      "execution_count": 23,
      "metadata": {
        "id": "5Ka0YxtIf8Eu"
      },
      "outputs": [],
      "source": [
        "pca = PCA(n_components=2)\n",
        "coords = pca.fit_transform(X)"
      ]
    },
    {
      "cell_type": "code",
      "execution_count": 24,
      "metadata": {
        "colab": {
          "base_uri": "https://localhost:8080/",
          "height": 452
        },
        "id": "pcYO7Po3f8Eu",
        "outputId": "c6faa3e7-8ab9-4241-d694-d6ba2cbe9b93"
      },
      "outputs": [
        {
          "output_type": "display_data",
          "data": {
            "text/plain": [
              "<Figure size 640x480 with 1 Axes>"
            ],
            "image/png": "[encoded data removed]"
          },
          "metadata": {}
        }
      ],
      "source": [
        "plt.scatter(coords[:, 0], coords[:, 1], color='red')\n",
        "plt.title('Words')\n",
        "\n",
        "for i, word in enumerate(words):\n",
        "    plt.annotate(word, xy=(coords[i, 0], coords[i, 1]))\n",
        "plt.show()"
      ]
    },
    {
      "cell_type": "markdown",
      "metadata": {
        "id": "ePX_EUutf8Ev"
      },
      "source": [
        "На все словах в модели"
      ]
    },
    {
      "cell_type": "code",
      "execution_count": 25,
      "metadata": {
        "id": "xyxgol0Df8Ev"
      },
      "outputs": [],
      "source": [
        "pca = PCA(n_components=2)\n",
        "pca.fit(model[list(model.key_to_index)])\n",
        "coords = pca.transform(model[words])"
      ]
    },
    {
      "cell_type": "code",
      "execution_count": 26,
      "metadata": {
        "colab": {
          "base_uri": "https://localhost:8080/",
          "height": 452
        },
        "id": "rrWr5Gejf8Ev",
        "outputId": "521e10cb-c0c5-454f-97bb-bccb456bd212"
      },
      "outputs": [
        {
          "output_type": "display_data",
          "data": {
            "text/plain": [
              "<Figure size 640x480 with 1 Axes>"
            ],
            "image/png": "[encoded data removed]"
          },
          "metadata": {}
        }
      ],
      "source": [
        "plt.scatter(coords[:, 0], coords[:, 1], color='red')\n",
        "plt.title('Words')\n",
        "\n",
        "for i, word in enumerate(words):\n",
        "    plt.annotate(word, xy=(coords[i, 0], coords[i, 1]))\n",
        "plt.show()"
      ]
    },
    {
      "cell_type": "markdown",
      "source": [
        "# Кратко о существующих системах\n",
        "\n",
        "**GloVe**\n",
        "\n",
        "GloVe берет и строит полную матрицу совместной встречаемости и после этого с помощью алгоритмов уменьшения размерности преобразует ее так, чтобы вектора были опредленной длины\n",
        "\n",
        "\n",
        "**Word2Vec**\n",
        "\n",
        "Это уже нейросеть и она на основе корпуса постепенно подбирает коэффициенты (значения в векторах) для каждого слова так, чтобы с помощью них можно было наилучшим образом предсказывать слова по контексту\n",
        "\n",
        "**FastText**\n",
        "\n",
        "Если мы берем конкретные слова, мы не можем ничего сказать о тех, что нам не встретились (например, уже видели вагон и строитель, а вот вагоностроителя у нас не было). Если мы возьмем слова не целиком, а в виде буквенных нграмм, то мы сможем сложить неизвестные слова.\n",
        "\n",
        "**AdaGram**\n",
        "\n",
        "Все предыдущие модели основаны на графических оболочках и не учитывают многозначность и омонимию. Есть только один вектор для слова \"ключ\" и мы ничего с этим не можем сделать. AdaGram исходит из предположения, что у слова есть n вариантов и если они действительно отличаются и достаточно часто встречаются, он умеет их разделить.\n",
        "\n",
        "**BERT и ELMo**\n",
        "\n",
        "Эти модели не просто могут отличить значения слов. Они корректируют их вектора в зависимости от конкретного контекста: в отрывках “чистый ключ в лесной чаще”, “ключ от квартиры”, \"ключ от двери\" разные “ключи” (но последние два сильно похожи)."
      ],
      "metadata": {
        "id": "5c7QjLehgWIi"
      }
    },
    {
      "cell_type": "markdown",
      "source": [
        "# Значения одного слова\n",
        "Помотрим, кластеризуются ли значения одного слова\n",
        "\n",
        "Это [выдача НКРЯ](https://ruscorpora.ru/results?search=CtoCEqICCp8CChMKCWRpc2FtYm1vZBIGCgRtYWluChcKB2Rpc3Rtb2QSDAoKd2l0aF96ZXJvcxJsCgkKA2xleBICCgAKCgoEZm9ybRICCgAKFgoFZ3JhbW0SDQoLKFMpICYgKG5vbSkKCQoDc2VtEgIKAAoVCgdzZW0tbW9kEgoKCHNlbXxzZW14CgwKBnN5bnRheBICCgAKCwoFZmxhZ3MSAgoAEoABChEKA2xleBIKCgjQuNC00YLQuAoKCgRmb3JtEgIKAAoLCgVncmFtbRICCgAKCQoDc2VtEgIKAAoVCgdzZW0tbW9kEgoKCHNlbXxzZW14CgwKBnN5bnRheBICCgAKCwoFZmxhZ3MSAgoAChUKBGRpc3QiDQj///////////8BEAEqLAoICAAQMhgyIAoQBSAAMgRmcmVxQAVaA2xleFoCb25aA2xleGoEMC45NXgAMgIIAToBCTAB) на запрос существительное в им.падеже + лемма \"идти\" на расстоянии ±1"
      ],
      "metadata": {
        "id": "ez-9ZpX3_XxJ"
      }
    },
    {
      "cell_type": "code",
      "source": [
        "import pandas as pd\n",
        "df = pd.read_csv('ruscorpora_idti.csv', sep=';')\n",
        "df.head()"
      ],
      "metadata": {
        "colab": {
          "base_uri": "https://localhost:8080/",
          "height": 206
        },
        "id": "6mTzZHuDHSEh",
        "outputId": "10c00706-acd0-42fa-a41f-090b8ecd3b76"
      },
      "execution_count": 27,
      "outputs": [
        {
          "output_type": "execute_result",
          "data": {
            "text/plain": [
              "  word_0  dist_0 word_1      freq  freq_CI_bottom  freq_CI_upper        ipm  \\\n",
              "0   речь       1   идти  0.117315        0.115478       0.119177  36.432103   \n",
              "1   дело       1   идти  0.039739        0.038631       0.040877  12.340767   \n",
              "2   речь      -1   идти  0.036651        0.035587       0.037747  11.382028   \n",
              "3  дождь      -1   идти  0.018205        0.017453       0.018990   5.653626   \n",
              "4  время       1   идти  0.017853        0.017107       0.018630   5.544132   \n",
              "\n",
              "   ipm_CI_bottom  ipm_CI_upper     hits  hits_CI_bottom  hits_CI_upper  \n",
              "0      35.861639     37.010419  13642.0    13428.389649   13858.550498  \n",
              "1      11.996785     12.694194   4621.0     4492.195665    4753.340499  \n",
              "2      11.051355     11.722208   4262.0     4138.179552    4389.380331  \n",
              "3       5.419887      5.897250   2117.0     2029.476468    2208.225135  \n",
              "4       5.312676      5.785481   2076.0     1989.331225    2166.373087  "
            ],
            "text/html": [
              "\n",
              "  <div id=\"df-e9665eaa-81a1-4165-ba08-0258e3ca1a75\" class=\"colab-df-container\">\n",
              "    <div>\n",
              "<style scoped>\n",
              "    .dataframe tbody tr th:only-of-type {\n",
              "        vertical-align: middle;\n",
              "    }\n",
              "\n",
              "    .dataframe tbody tr th {\n",
              "        vertical-align: top;\n",
              "    }\n",
              "\n",
              "    .dataframe thead th {\n",
              "        text-align: right;\n",
              "    }\n",
              "</style>\n",
              "<table border=\"1\" class=\"dataframe\">\n",
              "  <thead>\n",
              "    <tr style=\"text-align: right;\">\n",
              "      <th></th>\n",
              "      <th>word_0</th>\n",
              "      <th>dist_0</th>\n",
              "      <th>word_1</th>\n",
              "      <th>freq</th>\n",
              "      <th>freq_CI_bottom</th>\n",
              "      <th>freq_CI_upper</th>\n",
              "      <th>ipm</th>\n",
              "      <th>ipm_CI_bottom</th>\n",
              "      <th>ipm_CI_upper</th>\n",
              "      <th>hits</th>\n",
              "      <th>hits_CI_bottom</th>\n",
              "      <th>hits_CI_upper</th>\n",
              "    </tr>\n",
              "  </thead>\n",
              "  <tbody>\n",
              "    <tr>\n",
              "      <th>0</th>\n",
              "      <td>речь</td>\n",
              "      <td>1</td>\n",
              "      <td>идти</td>\n",
              "      <td>0.117315</td>\n",
              "      <td>0.115478</td>\n",
              "      <td>0.119177</td>\n",
              "      <td>36.432103</td>\n",
              "      <td>35.861639</td>\n",
              "      <td>37.010419</td>\n",
              "      <td>13642.0</td>\n",
              "      <td>13428.389649</td>\n",
              "      <td>13858.550498</td>\n",
              "    </tr>\n",
              "    <tr>\n",
              "      <th>1</th>\n",
              "      <td>дело</td>\n",
              "      <td>1</td>\n",
              "      <td>идти</td>\n",
              "      <td>0.039739</td>\n",
              "      <td>0.038631</td>\n",
              "      <td>0.040877</td>\n",
              "      <td>12.340767</td>\n",
              "      <td>11.996785</td>\n",
              "      <td>12.694194</td>\n",
              "      <td>4621.0</td>\n",
              "      <td>4492.195665</td>\n",
              "      <td>4753.340499</td>\n",
              "    </tr>\n",
              "    <tr>\n",
              "      <th>2</th>\n",
              "      <td>речь</td>\n",
              "      <td>-1</td>\n",
              "      <td>идти</td>\n",
              "      <td>0.036651</td>\n",
              "      <td>0.035587</td>\n",
              "      <td>0.037747</td>\n",
              "      <td>11.382028</td>\n",
              "      <td>11.051355</td>\n",
              "      <td>11.722208</td>\n",
              "      <td>4262.0</td>\n",
              "      <td>4138.179552</td>\n",
              "      <td>4389.380331</td>\n",
              "    </tr>\n",
              "    <tr>\n",
              "      <th>3</th>\n",
              "      <td>дождь</td>\n",
              "      <td>-1</td>\n",
              "      <td>идти</td>\n",
              "      <td>0.018205</td>\n",
              "      <td>0.017453</td>\n",
              "      <td>0.018990</td>\n",
              "      <td>5.653626</td>\n",
              "      <td>5.419887</td>\n",
              "      <td>5.897250</td>\n",
              "      <td>2117.0</td>\n",
              "      <td>2029.476468</td>\n",
              "      <td>2208.225135</td>\n",
              "    </tr>\n",
              "    <tr>\n",
              "      <th>4</th>\n",
              "      <td>время</td>\n",
              "      <td>1</td>\n",
              "      <td>идти</td>\n",
              "      <td>0.017853</td>\n",
              "      <td>0.017107</td>\n",
              "      <td>0.018630</td>\n",
              "      <td>5.544132</td>\n",
              "      <td>5.312676</td>\n",
              "      <td>5.785481</td>\n",
              "      <td>2076.0</td>\n",
              "      <td>1989.331225</td>\n",
              "      <td>2166.373087</td>\n",
              "    </tr>\n",
              "  </tbody>\n",
              "</table>\n",
              "</div>\n",
              "    <div class=\"colab-df-buttons\">\n",
              "\n",
              "  <div class=\"colab-df-container\">\n",
              "    <button class=\"colab-df-convert\" onclick=\"convertToInteractive('df-e9665eaa-81a1-4165-ba08-0258e3ca1a75')\"\n",
              "            title=\"Convert this dataframe to an interactive table.\"\n",
              "            style=\"display:none;\">\n",
              "\n",
              "  <svg xmlns=\"http://www.w3.org/2000/svg\" height=\"24px\" viewBox=\"0 -960 960 960\">\n",
              "    <path d=\"M120-120v-720h720v720H120Zm60-500h600v-160H180v160Zm220 220h160v-160H400v160Zm0 220h160v-160H400v160ZM180-400h160v-160H180v160Zm440 0h160v-160H620v160ZM180-180h160v-160H180v160Zm440 0h160v-160H620v160Z\"/>\n",
              "  </svg>\n",
              "    </button>\n",
              "\n",
              "  <style>\n",
              "    .colab-df-container {\n",
              "      display:flex;\n",
              "      gap: 12px;\n",
              "    }\n",
              "\n",
              "    .colab-df-convert {\n",
              "      background-color: #E8F0FE;\n",
              "      border: none;\n",
              "      border-radius: 50%;\n",
              "      cursor: pointer;\n",
              "      display: none;\n",
              "      fill: #1967D2;\n",
              "      height: 32px;\n",
              "      padding: 0 0 0 0;\n",
              "      width: 32px;\n",
              "    }\n",
              "\n",
              "    .colab-df-convert:hover {\n",
              "      background-color: #E2EBFA;\n",
              "      box-shadow: 0px 1px 2px rgba(60, 64, 67, 0.3), 0px 1px 3px 1px rgba(60, 64, 67, 0.15);\n",
              "      fill: #174EA6;\n",
              "    }\n",
              "\n",
              "    .colab-df-buttons div {\n",
              "      margin-bottom: 4px;\n",
              "    }\n",
              "\n",
              "    [theme=dark] .colab-df-convert {\n",
              "      background-color: #3B4455;\n",
              "      fill: #D2E3FC;\n",
              "    }\n",
              "\n",
              "    [theme=dark] .colab-df-convert:hover {\n",
              "      background-color: #434B5C;\n",
              "      box-shadow: 0px 1px 3px 1px rgba(0, 0, 0, 0.15);\n",
              "      filter: drop-shadow(0px 1px 2px rgba(0, 0, 0, 0.3));\n",
              "      fill: #FFFFFF;\n",
              "    }\n",
              "  </style>\n",
              "\n",
              "    <script>\n",
              "      const buttonEl =\n",
              "        document.querySelector('#df-e9665eaa-81a1-4165-ba08-0258e3ca1a75 button.colab-df-convert');\n",
              "      buttonEl.style.display =\n",
              "        google.colab.kernel.accessAllowed ? 'block' : 'none';\n",
              "\n",
              "      async function convertToInteractive(key) {\n",
              "        const element = document.querySelector('#df-e9665eaa-81a1-4165-ba08-0258e3ca1a75');\n",
              "        const dataTable =\n",
              "          await google.colab.kernel.invokeFunction('convertToInteractive',\n",
              "                                                    [key], {});\n",
              "        if (!dataTable) return;\n",
              "\n",
              "        const docLinkHtml = 'Like what you see? Visit the ' +\n",
              "          '<a target=\"_blank\" href=https://colab.research.google.com/notebooks/data_table.ipynb>data table notebook</a>'\n",
              "          + ' to learn more about interactive tables.';\n",
              "        element.innerHTML = '';\n",
              "        dataTable['output_type'] = 'display_data';\n",
              "        await google.colab.output.renderOutput(dataTable, element);\n",
              "        const docLink = document.createElement('div');\n",
              "        docLink.innerHTML = docLinkHtml;\n",
              "        element.appendChild(docLink);\n",
              "      }\n",
              "    </script>\n",
              "  </div>\n",
              "\n",
              "\n",
              "<div id=\"df-618eee73-5549-48e8-8a71-69ace63a279e\">\n",
              "  <button class=\"colab-df-quickchart\" onclick=\"quickchart('df-618eee73-5549-48e8-8a71-69ace63a279e')\"\n",
              "            title=\"Suggest charts\"\n",
              "            style=\"display:none;\">\n",
              "\n",
              "<svg xmlns=\"http://www.w3.org/2000/svg\" height=\"24px\"viewBox=\"0 0 24 24\"\n",
              "     width=\"24px\">\n",
              "    <g>\n",
              "        <path d=\"M19 3H5c-1.1 0-2 .9-2 2v14c0 1.1.9 2 2 2h14c1.1 0 2-.9 2-2V5c0-1.1-.9-2-2-2zM9 17H7v-7h2v7zm4 0h-2V7h2v10zm4 0h-2v-4h2v4z\"/>\n",
              "    </g>\n",
              "</svg>\n",
              "  </button>\n",
              "\n",
              "<style>\n",
              "  .colab-df-quickchart {\n",
              "      --bg-color: #E8F0FE;\n",
              "      --fill-color: #1967D2;\n",
              "      --hover-bg-color: #E2EBFA;\n",
              "      --hover-fill-color: #174EA6;\n",
              "      --disabled-fill-color: #AAA;\n",
              "      --disabled-bg-color: #DDD;\n",
              "  }\n",
              "\n",
              "  [theme=dark] .colab-df-quickchart {\n",
              "      --bg-color: #3B4455;\n",
              "      --fill-color: #D2E3FC;\n",
              "      --hover-bg-color: #434B5C;\n",
              "      --hover-fill-color: #FFFFFF;\n",
              "      --disabled-bg-color: #3B4455;\n",
              "      --disabled-fill-color: #666;\n",
              "  }\n",
              "\n",
              "  .colab-df-quickchart {\n",
              "    background-color: var(--bg-color);\n",
              "    border: none;\n",
              "    border-radius: 50%;\n",
              "    cursor: pointer;\n",
              "    display: none;\n",
              "    fill: var(--fill-color);\n",
              "    height: 32px;\n",
              "    padding: 0;\n",
              "    width: 32px;\n",
              "  }\n",
              "\n",
              "  .colab-df-quickchart:hover {\n",
              "    background-color: var(--hover-bg-color);\n",
              "    box-shadow: 0 1px 2px rgba(60, 64, 67, 0.3), 0 1px 3px 1px rgba(60, 64, 67, 0.15);\n",
              "    fill: var(--button-hover-fill-color);\n",
              "  }\n",
              "\n",
              "  .colab-df-quickchart-complete:disabled,\n",
              "  .colab-df-quickchart-complete:disabled:hover {\n",
              "    background-color: var(--disabled-bg-color);\n",
              "    fill: var(--disabled-fill-color);\n",
              "    box-shadow: none;\n",
              "  }\n",
              "\n",
              "  .colab-df-spinner {\n",
              "    border: 2px solid var(--fill-color);\n",
              "    border-color: transparent;\n",
              "    border-bottom-color: var(--fill-color);\n",
              "    animation:\n",
              "      spin 1s steps(1) infinite;\n",
              "  }\n",
              "\n",
              "  @keyframes spin {\n",
              "    0% {\n",
              "      border-color: transparent;\n",
              "      border-bottom-color: var(--fill-color);\n",
              "      border-left-color: var(--fill-color);\n",
              "    }\n",
              "    20% {\n",
              "      border-color: transparent;\n",
              "      border-left-color: var(--fill-color);\n",
              "      border-top-color: var(--fill-color);\n",
              "    }\n",
              "    30% {\n",
              "      border-color: transparent;\n",
              "      border-left-color: var(--fill-color);\n",
              "      border-top-color: var(--fill-color);\n",
              "      border-right-color: var(--fill-color);\n",
              "    }\n",
              "    40% {\n",
              "      border-color: transparent;\n",
              "      border-right-color: var(--fill-color);\n",
              "      border-top-color: var(--fill-color);\n",
              "    }\n",
              "    60% {\n",
              "      border-color: transparent;\n",
              "      border-right-color: var(--fill-color);\n",
              "    }\n",
              "    80% {\n",
              "      border-color: transparent;\n",
              "      border-right-color: var(--fill-color);\n",
              "      border-bottom-color: var(--fill-color);\n",
              "    }\n",
              "    90% {\n",
              "      border-color: transparent;\n",
              "      border-bottom-color: var(--fill-color);\n",
              "    }\n",
              "  }\n",
              "</style>\n",
              "\n",
              "  <script>\n",
              "    async function quickchart(key) {\n",
              "      const quickchartButtonEl =\n",
              "        document.querySelector('#' + key + ' button');\n",
              "      quickchartButtonEl.disabled = true;  // To prevent multiple clicks.\n",
              "      quickchartButtonEl.classList.add('colab-df-spinner');\n",
              "      try {\n",
              "        const charts = await google.colab.kernel.invokeFunction(\n",
              "            'suggestCharts', [key], {});\n",
              "      } catch (error) {\n",
              "        console.error('Error during call to suggestCharts:', error);\n",
              "      }\n",
              "      quickchartButtonEl.classList.remove('colab-df-spinner');\n",
              "      quickchartButtonEl.classList.add('colab-df-quickchart-complete');\n",
              "    }\n",
              "    (() => {\n",
              "      let quickchartButtonEl =\n",
              "        document.querySelector('#df-618eee73-5549-48e8-8a71-69ace63a279e button');\n",
              "      quickchartButtonEl.style.display =\n",
              "        google.colab.kernel.accessAllowed ? 'block' : 'none';\n",
              "    })();\n",
              "  </script>\n",
              "</div>\n",
              "    </div>\n",
              "  </div>\n"
            ],
            "application/vnd.google.colaboratory.intrinsic+json": {
              "type": "dataframe",
              "variable_name": "df",
              "summary": "{\n  \"name\": \"df\",\n  \"rows\": 100,\n  \"fields\": [\n    {\n      \"column\": \"word_0\",\n      \"properties\": {\n        \"dtype\": \"string\",\n        \"num_unique_values\": 73,\n        \"samples\": [\n          \"\\u0447\\u0435\\u043b\\u043e\\u0432\\u0435\\u043a\",\n          \"\\u043d\\u0435\\u043c\\u0435\\u0446\",\n          \"\\u0441\\u043f\\u0435\\u043a\\u0442\\u0430\\u043a\\u043b\\u044c\"\n        ],\n        \"semantic_type\": \"\",\n        \"description\": \"\"\n      }\n    },\n    {\n      \"column\": \"dist_0\",\n      \"properties\": {\n        \"dtype\": \"number\",\n        \"std\": 0,\n        \"min\": -1,\n        \"max\": 1,\n        \"num_unique_values\": 2,\n        \"samples\": [\n          -1,\n          1\n        ],\n        \"semantic_type\": \"\",\n        \"description\": \"\"\n      }\n    },\n    {\n      \"column\": \"word_1\",\n      \"properties\": {\n        \"dtype\": \"category\",\n        \"num_unique_values\": 1,\n        \"samples\": [\n          \"\\u0438\\u0434\\u0442\\u0438\"\n        ],\n        \"semantic_type\": \"\",\n        \"description\": \"\"\n      }\n    },\n    {\n      \"column\": \"freq\",\n      \"properties\": {\n        \"dtype\": \"number\",\n        \"std\": 0.012797602059805771,\n        \"min\": 0.000842757019392,\n        \"max\": 0.1173152169239368,\n        \"num_unique_values\": 81,\n        \"samples\": [\n          0.0024336758825299\n        ],\n        \"semantic_type\": \"\",\n        \"description\": \"\"\n      }\n    },\n    {\n      \"column\": \"freq_CI_bottom\",\n      \"properties\": {\n        \"dtype\": \"number\",\n        \"std\": 0.012584975176030699,\n        \"min\": 0.0006916492056014,\n        \"max\": 0.1154782615883348,\n        \"num_unique_values\": 81,\n        \"samples\": [\n          0.0021664389351032\n        ],\n        \"semantic_type\": \"\",\n        \"description\": \"\"\n      }\n    },\n    {\n      \"column\": \"freq_CI_upper\",\n      \"properties\": {\n        \"dtype\": \"number\",\n        \"std\": 0.013009989681835827,\n        \"min\": 0.0010268441360675,\n        \"max\": 0.1191774562307684,\n        \"num_unique_values\": 81,\n        \"samples\": [\n          0.0027337870208839\n        ],\n        \"semantic_type\": \"\",\n        \"description\": \"\"\n      }\n    },\n    {\n      \"column\": \"ipm\",\n      \"properties\": {\n        \"dtype\": \"number\",\n        \"std\": 3.974280290777196,\n        \"min\": 0.2617172026784085,\n        \"max\": 36.432102846314784,\n        \"num_unique_values\": 81,\n        \"samples\": [\n          0.7557751873264246\n        ],\n        \"semantic_type\": \"\",\n        \"description\": \"\"\n      }\n    },\n    {\n      \"column\": \"ipm_CI_bottom\",\n      \"properties\": {\n        \"dtype\": \"number\",\n        \"std\": 3.908249261719753,\n        \"min\": 0.2147908485595905,\n        \"max\": 35.86163852407658,\n        \"num_unique_values\": 81,\n        \"samples\": [\n          0.672785067133407\n        ],\n        \"semantic_type\": \"\",\n        \"description\": \"\"\n      }\n    },\n    {\n      \"column\": \"ipm_CI_upper\",\n      \"properties\": {\n        \"dtype\": \"number\",\n        \"std\": 4.040237017380703,\n        \"min\": 0.3188852405788281,\n        \"max\": 37.01041907612602,\n        \"num_unique_values\": 81,\n        \"samples\": [\n          0.8489743489059918\n        ],\n        \"semantic_type\": \"\",\n        \"description\": \"\"\n      }\n    },\n    {\n      \"column\": \"hits\",\n      \"properties\": {\n        \"dtype\": \"number\",\n        \"std\": 1488.1691555245143,\n        \"min\": 98.0,\n        \"max\": 13642.0,\n        \"num_unique_values\": 81,\n        \"samples\": [\n          283.0\n        ],\n        \"semantic_type\": \"\",\n        \"description\": \"\"\n      }\n    },\n    {\n      \"column\": \"hits_CI_bottom\",\n      \"properties\": {\n        \"dtype\": \"number\",\n        \"std\": 1463.4438383447296,\n        \"min\": 80.42842787336747,\n        \"max\": 13428.389648799512,\n        \"num_unique_values\": 81,\n        \"samples\": [\n          251.9243515684776\n        ],\n        \"semantic_type\": \"\",\n        \"description\": \"\"\n      }\n    },\n    {\n      \"column\": \"hits_CI_upper\",\n      \"properties\": {\n        \"dtype\": \"number\",\n        \"std\": 1512.866650152279,\n        \"min\": 119.40657036261118,\n        \"max\": 13858.550497794911,\n        \"num_unique_values\": 81,\n        \"samples\": [\n          317.8984237234899\n        ],\n        \"semantic_type\": \"\",\n        \"description\": \"\"\n      }\n    }\n  ]\n}"
            }
          },
          "metadata": {},
          "execution_count": 27
        }
      ]
    },
    {
      "cell_type": "code",
      "source": [
        "df['v_n'] = df['word_1']+'_'+df['word_0']\n",
        "df['n'] = df['word_0']+'_NOUN'"
      ],
      "metadata": {
        "id": "Cn9ddTANHlBH"
      },
      "execution_count": null,
      "outputs": []
    },
    {
      "cell_type": "code",
      "source": [
        "idti = ['идти_VERB']\n",
        "idti_vec = model[idti]\n",
        "idti_vec[0]  # - вектор слова идти"
      ],
      "metadata": {
        "colab": {
          "base_uri": "https://localhost:8080/"
        },
        "id": "RLIgBK1cIH2R",
        "outputId": "dd0a78b9-8c20-4561-9a08-a33bd87590de"
      },
      "execution_count": null,
      "outputs": [
        {
          "output_type": "execute_result",
          "data": {
            "text/plain": [
              "array([ 0.012773,  0.007259,  0.065291, -0.066001, -0.065428, -0.059052,\n",
              "       -0.002641,  0.093191,  0.015395, -0.040557,  0.124618,  0.019924,\n",
              "       -0.061218,  0.040944, -0.05344 ,  0.004532, -0.091168,  0.0792  ,\n",
              "       -0.073076,  0.074864,  0.078785,  0.103336,  0.07187 ,  0.044402,\n",
              "        0.060032,  0.044066,  0.074855, -0.076881, -0.024515,  0.090038,\n",
              "       -0.003343, -0.050798, -0.025374, -0.01476 ,  0.029961, -0.033216,\n",
              "       -0.055943,  0.046677, -0.010058, -0.014342,  0.097997, -0.011559,\n",
              "       -0.00702 , -0.128668,  0.021899,  0.103698, -0.036747, -0.090283,\n",
              "        0.032325,  0.101701, -0.024777,  0.003045,  0.028501,  0.016129,\n",
              "       -0.033781, -0.104835,  0.110822,  0.081841, -0.026859,  0.007823,\n",
              "        0.022391, -0.072881, -0.104883, -0.035318, -0.083499, -0.067093,\n",
              "       -0.051989,  0.061339,  0.008111,  0.023411,  0.019496, -0.059655,\n",
              "       -0.030632, -0.008143, -0.013302,  0.096993,  0.007996,  0.057371,\n",
              "       -0.025938,  0.052128,  0.049065,  0.106073,  0.024715, -0.005861,\n",
              "       -0.085695,  0.053596, -0.041165,  0.048826,  0.041896,  0.089855,\n",
              "        0.050501, -0.025012, -0.003157, -0.035118,  0.043394,  0.08237 ,\n",
              "       -0.058601, -0.004152,  0.06826 ,  0.045193, -0.073967,  0.029301,\n",
              "       -0.034765, -0.011115, -0.002696, -0.102847,  0.035726,  0.02648 ,\n",
              "       -0.031023, -0.049299,  0.020517,  0.066503, -0.022829, -0.014361,\n",
              "        0.108733, -0.001417,  0.010686, -0.066283, -0.006031,  0.033919,\n",
              "       -0.02525 ,  0.024869,  0.015139,  0.049908,  0.097891, -0.073184,\n",
              "        0.138818,  0.012876, -0.007342, -0.064247,  0.037248, -0.02066 ,\n",
              "       -0.027028,  0.054898, -0.011846, -0.026014, -0.000997,  0.033122,\n",
              "        0.007783,  0.033911, -0.009679,  0.03231 ,  0.040027,  0.006102,\n",
              "       -0.009031,  0.067675,  0.013416,  0.059588, -0.024701, -0.016163,\n",
              "        0.022843, -0.009211, -0.094854,  0.004449,  0.092669, -0.001161,\n",
              "       -0.032041, -0.119583,  0.009367, -0.030059,  0.049817, -0.005816,\n",
              "       -0.010489,  0.016133, -0.006538, -0.020137,  0.004555, -0.084046,\n",
              "       -0.050561,  0.048147,  0.100912,  0.025608,  0.007095,  0.056699,\n",
              "       -0.060949,  0.007416,  0.039297,  0.00554 ,  0.024659, -0.019226,\n",
              "        0.037307, -0.029294, -0.057379, -0.07668 , -0.020096,  0.041581,\n",
              "        0.002489, -0.112665, -0.012297,  0.016227,  0.006104, -0.064589,\n",
              "       -0.050743, -0.033879, -0.10751 , -0.045164,  0.043716,  0.027741,\n",
              "        0.008076,  0.09971 ,  0.016394,  0.061121, -0.044457,  0.00566 ,\n",
              "       -0.08797 ,  0.035007,  0.085584, -0.016022, -0.025226, -0.05497 ,\n",
              "       -0.135062,  0.113752,  0.010867, -0.096472,  0.027549,  0.120222,\n",
              "       -0.063833, -0.030287,  0.068538, -0.027165, -0.045414, -0.057347,\n",
              "       -0.056053, -0.060261, -0.076853,  0.168288,  0.074591, -0.07295 ,\n",
              "       -0.046618,  0.082831,  0.057271, -0.083706, -0.023177,  0.01613 ,\n",
              "       -0.042898, -0.03558 ,  0.025668, -0.103839,  0.009319,  0.109887,\n",
              "       -0.043232,  0.011064,  0.074576,  0.011616, -0.086422, -0.030965,\n",
              "       -0.001155,  0.037604,  0.041385, -0.013233,  0.018594, -0.019725,\n",
              "        0.021042,  0.011008, -0.099663,  0.002871, -0.075698, -0.028531,\n",
              "        0.068033, -0.077776,  0.090203,  0.027329, -0.08313 , -0.104825,\n",
              "        0.004142, -0.043532,  0.013081, -0.02093 ,  0.129253,  0.018287,\n",
              "        0.031865,  0.092273, -0.101702, -0.066247, -0.052795,  0.050289,\n",
              "        0.111037, -0.031431, -0.000237, -0.000359,  0.114246, -0.004536,\n",
              "        0.082073, -0.010842,  0.107192,  0.056646, -0.081595, -0.011665,\n",
              "        0.006127, -0.113751, -0.000629,  0.067522,  0.082843,  0.040396,\n",
              "       -0.070629, -0.038299,  0.002352, -0.028712, -0.028249,  0.017812],\n",
              "      dtype=float32)"
            ]
          },
          "metadata": {},
          "execution_count": 153
        }
      ]
    },
    {
      "cell_type": "code",
      "source": [
        "words = df['n'].to_list()[:50]\n",
        "X = model[words]\n",
        "idti_X = idti_vec + X  # получили вектора словосочетаний"
      ],
      "metadata": {
        "id": "_IipRpEZIVgc"
      },
      "execution_count": null,
      "outputs": []
    },
    {
      "cell_type": "code",
      "source": [
        "pca = PCA(n_components=2)\n",
        "coords = pca.fit_transform(idti_X)"
      ],
      "metadata": {
        "id": "yqsobrekKR0-"
      },
      "execution_count": null,
      "outputs": []
    },
    {
      "cell_type": "code",
      "source": [
        "plt.scatter(coords[:, 0], coords[:, 1], color='red')\n",
        "plt.title('Words')\n",
        "\n",
        "for i, word in enumerate(df['v_n'].to_list()):\n",
        "    if i<50:\n",
        "        plt.annotate(word, xy=(coords[i, 0], coords[i, 1]))\n",
        "plt.show()"
      ],
      "metadata": {
        "colab": {
          "base_uri": "https://localhost:8080/",
          "height": 452
        },
        "id": "U9CcWxXiKZfj",
        "outputId": "527cb003-5c11-446e-82c6-d247ac0c86a8"
      },
      "execution_count": null,
      "outputs": [
        {
          "output_type": "display_data",
          "data": {
            "text/plain": [
              "<Figure size 640x480 with 1 Axes>"
            ],
            "image/png": "[encoded data removed]"
          },
          "metadata": {}
        }
      ]
    }
  ],
  "metadata": {
    "kernelspec": {
      "display_name": "Python 3",
      "language": "python",
      "name": "python3"
    },
    "language_info": {
      "codemirror_mode": {
        "name": "ipython",
        "version": 3
      },
      "file_extension": ".py",
      "mimetype": "text/x-python",
      "name": "python",
      "nbconvert_exporter": "python",
      "pygments_lexer": "ipython3",
      "version": "3.6.5"
    },
    "colab": {
      "provenance": []
    }
  },
  "nbformat": 4,
  "nbformat_minor": 0
}