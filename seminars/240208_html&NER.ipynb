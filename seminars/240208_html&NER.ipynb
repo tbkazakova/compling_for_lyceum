{
  "cells": [
    {
      "cell_type": "markdown",
      "metadata": {
        "id": "fYywIr2Z_AX6"
      },
      "source": [
        "# Немного кода для обкачивания интернета\n",
        "## Модуль [requests](https://realpython.com/python-requests/)"
      ]
    },
    {
      "cell_type": "markdown",
      "metadata": {
        "id": "JLnwtjiP_hRp"
      },
      "source": [
        "Давайте посмотрим html формат\n",
        "\n",
        "Лучший учебник - https://www.w3schools.com"
      ]
    },
    {
      "cell_type": "markdown",
      "metadata": {
        "id": "aJGCdfstREZq"
      },
      "source": [
        "![](https://raw.githubusercontent.com/tbkazakova/compling_for_lyceum/main/data/tag.png \"tag\")\n",
        "\n",
        "Вот пример очень простого сайта в интернете https://itcorp.com/, зарегистрированного в 1986 году.\n",
        "\n",
        "И сайта посложнее https://spork.org/, посвящённый ложковилке (последнее обновление в 1996).\n",
        "\n",
        "Теперь скачаем html страничку"
      ]
    },
    {
      "cell_type": "code",
      "execution_count": 38,
      "metadata": {
        "id": "uOwpwZplC97N"
      },
      "outputs": [],
      "source": [
        "import requests"
      ]
    },
    {
      "cell_type": "code",
      "execution_count": 39,
      "metadata": {
        "id": "Ktnhb0JpKfzJ"
      },
      "outputs": [],
      "source": [
        "response = requests.get(\"https://www.moscowzoo.ru/about-zoo/news/novosti-zooparka/kitayskiy-novyy-god-v-moskovskom-zooparke/\", verify=False)"
      ]
    },
    {
      "cell_type": "code",
      "source": [
        "# отключим предупреждения\n",
        "from urllib3.exceptions import InsecureRequestWarning\n",
        "from urllib3 import disable_warnings\n",
        "disable_warnings(InsecureRequestWarning)\n",
        "\n",
        "response = requests.get(\"https://www.moscowzoo.ru/about-zoo/news/novosti-zooparka/kitayskiy-novyy-god-v-moskovskom-zooparke/\", verify=False)"
      ],
      "metadata": {
        "id": "eUFjmYoGiwQd"
      },
      "execution_count": 40,
      "outputs": []
    },
    {
      "cell_type": "markdown",
      "metadata": {
        "id": "U-IkRMH6__Px"
      },
      "source": [
        "В `response` теперь лежит ответ сервера. Это не просто html-код страницы, а еще дополнительная информация"
      ]
    },
    {
      "cell_type": "code",
      "execution_count": 41,
      "metadata": {
        "colab": {
          "base_uri": "https://localhost:8080/"
        },
        "id": "s-4_rqv2Kkyw",
        "outputId": "be0727bb-ba55-4cb8-e9bb-2e8cfb4322f7"
      },
      "outputs": [
        {
          "output_type": "execute_result",
          "data": {
            "text/plain": [
              "<Response [200]>"
            ]
          },
          "metadata": {},
          "execution_count": 41
        }
      ],
      "source": [
        "response"
      ]
    },
    {
      "cell_type": "code",
      "execution_count": 42,
      "metadata": {
        "colab": {
          "base_uri": "https://localhost:8080/"
        },
        "id": "_QV-ZP7JK4Hw",
        "outputId": "f5d97ed1-4e38-4930-d2ab-54d787290b59"
      },
      "outputs": [
        {
          "output_type": "execute_result",
          "data": {
            "text/plain": [
              "200"
            ]
          },
          "metadata": {},
          "execution_count": 42
        }
      ],
      "source": [
        "response.status_code\n",
        "# 200 - \"всё работает\"\n",
        "# 404, 503 и др. - \"произошла ошибка, не работает, такой страницы нет и т.д.\""
      ]
    },
    {
      "cell_type": "code",
      "execution_count": 43,
      "metadata": {
        "colab": {
          "base_uri": "https://localhost:8080/"
        },
        "id": "DQy6dsT_K4tx",
        "outputId": "2dc6ee66-64ee-4157-c6dc-5cad9e2880a2"
      },
      "outputs": [
        {
          "output_type": "stream",
          "name": "stdout",
          "text": [
            "<!doctype html>\n",
            "<html lang=\"ru\">\n",
            "<head>\n",
            "\t<meta name=\"yandex-verification\" content=\"60483b355f0f5c1d\" />\n",
            "\t<link rel=\"icon\" type=\"image/x-icon\" href=\"/local/templates/zoo/favicon.ico\" />\n",
            "\t\t<meta http-equiv=\"Conte\n"
          ]
        }
      ],
      "source": [
        "# Вывели первые 210 символов html\n",
        "print(response.text[:210])"
      ]
    },
    {
      "cell_type": "markdown",
      "metadata": {
        "id": "QjVXYZO8BL7a"
      },
      "source": [
        "### Что делать, если сайт защищается?\n",
        "\n",
        "Если он защищается от краулеров, можно, например, представиться Мозиллой:"
      ]
    },
    {
      "cell_type": "code",
      "execution_count": 44,
      "metadata": {
        "id": "gWMd6GBrK_UB"
      },
      "outputs": [],
      "source": [
        "url = 'https://www.moscowzoo.ru/about-zoo/news/novosti-zooparka/kitayskiy-novyy-god-v-moskovskom-zooparke/'\n",
        "# адрес страницы, которую мы хотим скачать\n",
        "user_agent = 'Mozilla/5.0 (Windows NT 6.1; Win64; x64)'  # хотим притворяться браузером\n",
        "\n",
        "response = requests.get(url, headers={'User-Agent':user_agent}, verify=False)\n"
      ]
    },
    {
      "cell_type": "markdown",
      "metadata": {
        "id": "VNdvicGoBYol"
      },
      "source": [
        "Или использовать **специальную библиотеку**:"
      ]
    },
    {
      "cell_type": "code",
      "execution_count": null,
      "metadata": {
        "id": "WZib0tqxMigz"
      },
      "outputs": [],
      "source": [
        "! pip3 install fake-useragent"
      ]
    },
    {
      "cell_type": "code",
      "execution_count": 46,
      "metadata": {
        "id": "GLd99b4pLCfD"
      },
      "outputs": [],
      "source": [
        "from fake_useragent import UserAgent"
      ]
    },
    {
      "cell_type": "code",
      "execution_count": 47,
      "metadata": {
        "colab": {
          "base_uri": "https://localhost:8080/",
          "height": 35
        },
        "id": "5bibnHRjLEfC",
        "outputId": "8313723b-ce35-49b2-cab7-fdfd40914d1f"
      },
      "outputs": [
        {
          "output_type": "execute_result",
          "data": {
            "text/plain": [
              "'Mozilla/5.0 (Windows NT 10.0; Win64; x64) AppleWebKit/537.36 (KHTML, like Gecko) Chrome/115.0.0.0 Safari/537.36'"
            ],
            "application/vnd.google.colaboratory.intrinsic+json": {
              "type": "string"
            }
          },
          "metadata": {},
          "execution_count": 47
        }
      ],
      "source": [
        "user_agent = UserAgent().chrome\n",
        "user_agent"
      ]
    },
    {
      "cell_type": "code",
      "execution_count": 48,
      "metadata": {
        "id": "FBB20VwfLG19"
      },
      "outputs": [],
      "source": [
        "response = requests.get(url,\n",
        "                        headers={'User-Agent':user_agent},\n",
        "                        verify=False)"
      ]
    },
    {
      "cell_type": "markdown",
      "metadata": {
        "id": "WuGPf28UREfT"
      },
      "source": [
        "Или **прокси-сервер**. Это дополнительное звено между вами и интернетом, через него пойдет подключение и сайт не будет знать, что это вы посылаете запрос.\n",
        "\n",
        "Адреса прокси можно взять со специальных сайтов. И потом проверить, что они рабочие, прежде чем использовать https://checkerproxy.net/"
      ]
    },
    {
      "cell_type": "markdown",
      "metadata": {
        "id": "DA5bj-K0REfT"
      },
      "source": [
        "[Пример сервиса](https://whatismyipaddress.com/ip-lookup), который позволяет с некоторой точностью отследить по IP адресу\n",
        "\n",
        "Возвращаемся к скачиванию странички."
      ]
    },
    {
      "cell_type": "code",
      "execution_count": 49,
      "metadata": {
        "colab": {
          "base_uri": "https://localhost:8080/",
          "height": 35
        },
        "id": "r9WjpAVTLRBq",
        "outputId": "a8d3bd3a-efef-46a7-bd88-e03f2221c67b"
      },
      "outputs": [
        {
          "output_type": "execute_result",
          "data": {
            "text/plain": [
              "'https://www.moscowzoo.ru/about-zoo/news/novosti-zooparka/kitayskiy-novyy-god-v-moskovskom-zooparke/'"
            ],
            "application/vnd.google.colaboratory.intrinsic+json": {
              "type": "string"
            }
          },
          "metadata": {},
          "execution_count": 49
        }
      ],
      "source": [
        "response.url  #ссылка"
      ]
    },
    {
      "cell_type": "code",
      "execution_count": 50,
      "metadata": {
        "colab": {
          "base_uri": "https://localhost:8080/"
        },
        "id": "LDR9cY5NLPAG",
        "outputId": "dbfb66e6-cdc3-4ba0-b609-1506cba9c3b9"
      },
      "outputs": [
        {
          "output_type": "stream",
          "name": "stdout",
          "text": [
            "<!doctype html>\n",
            "<html lang=\"ru\">\n",
            "<head>\n",
            "\t<meta name=\"yandex-verification\" content=\"60483b355f0f5c1d\" />\n",
            "\t<link rel=\"icon\" type=\"image/x-icon\" href=\"/local/templates/zoo/favicon.ico\" />\n",
            "\t\t<meta http-equiv=\"Content-Type\" content=\"text/html; charset=UTF-8\" />\n",
            "<script type=\"text/javascript\" data-skip-mo\n"
          ]
        }
      ],
      "source": [
        "print(response.text[:300])  #html код"
      ]
    },
    {
      "cell_type": "markdown",
      "metadata": {
        "id": "u0eOPE4kLVY-"
      },
      "source": [
        "Существует несколько вариантов, как достать что-то из определенного тега, например, достать заголовок:\n",
        "\n",
        "- регулярные выражения (плохой вариант)\n",
        "- специальные библиотеки питона, например, BeautifulSoup (bs4) или lxml (хороший вариант)\n"
      ]
    },
    {
      "cell_type": "markdown",
      "metadata": {
        "id": "-GdBspHUREgn"
      },
      "source": [
        "Регулярными выражениями мы уже умеем:"
      ]
    },
    {
      "cell_type": "code",
      "execution_count": 51,
      "metadata": {
        "id": "Rgwa1-kzREgn"
      },
      "outputs": [],
      "source": [
        "import re"
      ]
    },
    {
      "cell_type": "code",
      "execution_count": 52,
      "metadata": {
        "colab": {
          "base_uri": "https://localhost:8080/",
          "height": 157
        },
        "id": "9RTAzyIXREgr",
        "outputId": "79672f6a-73c0-4fe6-b815-b4d1f2a2aac3"
      },
      "outputs": [
        {
          "output_type": "execute_result",
          "data": {
            "text/plain": [
              "'<div class=\"dp-content-inner\" style=\"color:#fff;\">\\n\\t\\t\\t\\t\\t\\t\\t\\t\\t\\t\\t\\t\\t\\t\\n\\n<div class=\"dp-content border-block\">\\n\\t<div class=\"container\">\\n\\t\\t<div class=\"row\">\\n\\t\\t\\t<div class=\"dp-content-inner\" style=\"color:#fff;\">\\n\\t\\t\\t\\t\\t\\t\\t\\t\\t\\t\\t\\t<p>\\r\\n\\t С 9 по 18 февраля в столице пройдет фестиваль «Китайский Новый год в Москве». Московский зоопарк стал одной из площадок для празднования и подготовил ряд тематических мероприятий: экскурсии, лекции и мастер-классы. А 9, 10 и 11 февраля попасть в зоопарк можно будет бесплатно, переодевшись в костюм панды. Такую же возможность предоставят посетительницам с именем Екатерина – тезкам малышки-панды Катюши.\\r\\n</p>\\r\\n<p>\\r\\n\\t 9 февраля в 11:00 в открытом лектории Московского зоопарка пройдет лекция «Большие панды - загадочные гости с Востока». Посещение бесплатно по предварительной записи: <a href=\"https://moscowzoo.ru/education/public-lectures/\">https://moscowzoo.ru/education/public-lectures/</a>\\r\\n</p>\\r\\n<p>\\r\\n\\t 10 и 11 февраля в 12:00, а также 22, 23 и 24 февраля в 14:00 пройдет экскурсия «Гости из Поднебесной». Это семейная образовательная программа, посвященная фауне Китая: большим пандам, красным пандам и гималайским медведям, а также природоохранным программам зоопарка. Запись на экскурсию «Гости из Поднебесной» по электронной почте: <a href=\"mailto:education@moscowzoo.ru\">education@moscowzoo.ru</a>\\r\\n</p>\\r\\n<p>\\r\\n\\t 17 февраля в 12:00 начнется интерактивная программа «Панды и другие животные Азии» - экскурсия по редким экзотическим животным Азии, игра, посвященная пандам, мастер-классы (изготовление поздравительных открыток с новым годом в виде китайских фонариков и животных Азии). Бесплатно по предварительно регистрации по телефону: 8-499-255-57-63.\\r\\n</p>\\r\\n<p>\\r\\n\\t Также зоопарк приглашает на мастер-классы по лепке, посвященные Китайскому новому году: <a href=\"https://moscowzoo.ru/education/art-zebra/lepka/\">https://moscowzoo.ru/education/art-zebra/lepka/</a>\\r\\n</p>\\r\\n<p>\\r\\n\\t 9, 10 и 11 февраля зоопарк проводит акцию «Пандамания»: проход бесплатно всем Екатеринам, а также гостям в костюме панды. Но необходимо соблюсти дресс-код: для бесплатного входа на посетителе должно быть минимум 3 видимых элемента одежды с изображением панды или 2 элемента одежды и декор (раскрашенное лицо аква-гримом в виде панды), также подойдет кигуруми-панда или полный ростовой костюм панды. Зачтется также образ панды: черно-белая одежда в сочетании с шапкой-пандой или аква-гримом панды, вся одежда с принтом панды.\\r\\n</p>\\r\\n<p>\\r\\n\\t Не подойдет: только один элемент одежды, невидимые элементы одежды, просто черно-белая одежда. Вы должны выглядеть, как панда!\\r\\n</p>\\r\\n <br>\\t\\t\\t</div>'"
            ],
            "application/vnd.google.colaboratory.intrinsic+json": {
              "type": "string"
            }
          },
          "metadata": {},
          "execution_count": 52
        }
      ],
      "source": [
        "code = response.text\n",
        "re.search(r'<div class=\"dp-content-inner\" style=\"color:#fff;\">(.|\\n)*?<\\/div>', code).group()"
      ]
    },
    {
      "cell_type": "markdown",
      "metadata": {
        "id": "vjn6ou4TREgt"
      },
      "source": [
        "Теперь умный способ:"
      ]
    },
    {
      "cell_type": "code",
      "execution_count": 53,
      "metadata": {
        "id": "Plyfqjj6LbUu"
      },
      "outputs": [],
      "source": [
        "from bs4 import BeautifulSoup"
      ]
    },
    {
      "cell_type": "code",
      "execution_count": 54,
      "metadata": {
        "colab": {
          "base_uri": "https://localhost:8080/"
        },
        "id": "X0KZwMnlLb_P",
        "outputId": "ed88a8dd-8870-40b1-a326-f7514a0dab7b"
      },
      "outputs": [
        {
          "output_type": "stream",
          "name": "stdout",
          "text": [
            "<!DOCTYPE html>\n",
            "<html lang=\"ru\">\n",
            " <head>\n",
            "  <meta content=\"60483b355f0f5c1d\" name=\"yandex-verification\"/>\n",
            "  <link href=\"/local/templates/zoo/favicon.ico\" rel=\"icon\" type=\"image/x-icon\"/>\n",
            "  <meta content=\"text/html; charset=utf-8\" http-equiv=\"Content-Type\"/>\n",
            "  <script data-skip-moving=\"true\" type=\"text/javascript\">\n",
            "   (function(w, d, n) {var cl = \"bx-core\";var ht = d.documentElement;var htc = ht ? ht.className : undefined;if (htc === undefined || htc.indexOf(cl) !== -1){return;}var ua = n.userAgen\n"
          ]
        }
      ],
      "source": [
        "# инициализируем (создаем) soup из response.text (кода страницы)\n",
        "soup = BeautifulSoup(response.text, 'html.parser')\n",
        "print(soup.prettify()[:500])  # печатаем приукрашенный суп"
      ]
    },
    {
      "cell_type": "markdown",
      "metadata": {
        "id": "I_aRES2gkKKv"
      },
      "source": [
        "Если мы хотим вывести заголовок, нужно посмотреть, какими тегами он оформляется.\n",
        "\n",
        "Заходим на наш сайт\n",
        "\n",
        "На этом конкретном сайте заголовки лежат внутри тегов `cp-banner`"
      ]
    },
    {
      "cell_type": "code",
      "execution_count": 55,
      "metadata": {
        "colab": {
          "base_uri": "https://localhost:8080/"
        },
        "id": "i6pUDHujDjy8",
        "outputId": "aee831a4-5f82-497b-e1e8-28bc3e7433fc"
      },
      "outputs": [
        {
          "output_type": "stream",
          "name": "stdout",
          "text": [
            "<cp-banner>\n",
            " <template #title=\"\">\n",
            "  Китайский Новый год в Московском зоопарке\n",
            " </template>\n",
            " <template #description=\"\">\n",
            " </template>\n",
            "</cp-banner>\n",
            "\n"
          ]
        }
      ],
      "source": [
        "name = soup.find('cp-banner')\n",
        "print(name.prettify())"
      ]
    },
    {
      "cell_type": "markdown",
      "metadata": {
        "id": "AyIWW4_fqhNU"
      },
      "source": [
        "А внутри этого раздела текст заголовка лежит внутри первого тега `template`"
      ]
    },
    {
      "cell_type": "code",
      "execution_count": 56,
      "metadata": {
        "colab": {
          "base_uri": "https://localhost:8080/"
        },
        "id": "KOFfhrZkREiB",
        "outputId": "7c793791-fde5-4af1-ddd7-288d68de90e4"
      },
      "outputs": [
        {
          "output_type": "stream",
          "name": "stdout",
          "text": [
            "<template #title=\"\">\n",
            " Китайский Новый год в Московском зоопарке\n",
            "</template>\n",
            "\n"
          ]
        }
      ],
      "source": [
        "name2 = name.find('template')\n",
        "print(name2.prettify())"
      ]
    },
    {
      "cell_type": "markdown",
      "metadata": {
        "id": "NN5ADB3Oq3fK"
      },
      "source": [
        "Нас интересует только текст, поэтому сделаем `get_text`"
      ]
    },
    {
      "cell_type": "code",
      "execution_count": 57,
      "metadata": {
        "colab": {
          "base_uri": "https://localhost:8080/"
        },
        "id": "F17TqugpFW6N",
        "outputId": "64d9ea6b-5f44-410f-ef28-04e64c5fc698"
      },
      "outputs": [
        {
          "output_type": "stream",
          "name": "stdout",
          "text": [
            "Китайский Новый год в Московском зоопарке\n"
          ]
        }
      ],
      "source": [
        "print(name2.get_text())"
      ]
    },
    {
      "cell_type": "markdown",
      "metadata": {
        "id": "m3PunNcLyUif"
      },
      "source": [
        "\\- Почему мы не сделали сразу `soup.find('template')`?\n",
        "\n",
        "\\- Потому что тегов `template` несколько, а мы ищем уникальное обрамление нашего заголовка."
      ]
    },
    {
      "cell_type": "code",
      "execution_count": 59,
      "metadata": {
        "id": "PCZ7l5RzREiC"
      },
      "outputs": [],
      "source": [
        "# Проверьте, что будет, если искать по \"template\"\n",
        "# soup.find('template')"
      ]
    },
    {
      "cell_type": "code",
      "execution_count": 60,
      "metadata": {
        "colab": {
          "base_uri": "https://localhost:8080/"
        },
        "id": "rhljFiwGzEn_",
        "outputId": "02cba7cd-c0fb-4b52-e59a-ae3a83df12e4"
      },
      "outputs": [
        {
          "output_type": "execute_result",
          "data": {
            "text/plain": [
              "[<template #title=\"\">Китайский Новый год в Московском зоопарке</template>,\n",
              " <template #description=\"\"></template>]"
            ]
          },
          "metadata": {},
          "execution_count": 60
        }
      ],
      "source": [
        "# Вот так мы попросили найти все теги template внутри cp-banner\n",
        "soup.select('cp-banner > template')"
      ]
    },
    {
      "cell_type": "code",
      "execution_count": 61,
      "metadata": {
        "colab": {
          "base_uri": "https://localhost:8080/"
        },
        "id": "Cm2ecie42AS5",
        "outputId": "049ec402-6991-40a4-9e3f-dcd4411da767"
      },
      "outputs": [
        {
          "output_type": "stream",
          "name": "stdout",
          "text": [
            "<template #title=\"\">Китайский Новый год в Московском зоопарке</template>\n",
            "Содержание тега:\n",
            "Китайский Новый год в Московском зоопарке\n"
          ]
        }
      ],
      "source": [
        "# Если мы уверены, что заголовок в первом из найденных тегов template,\n",
        "# можем вывести первый тег\n",
        "print(soup.select('cp-banner > template')[0])\n",
        "\n",
        "# и его содержание\n",
        "print('Содержание тега:')\n",
        "print(soup.select('cp-banner > template')[0].get_text())"
      ]
    },
    {
      "cell_type": "markdown",
      "metadata": {
        "id": "XEGa2yGZ-nPY"
      },
      "source": [
        "А теперь найдём текст новости.\n",
        "\n",
        "Он лежит в теге `<div class=\"dp-content-inner\" style=\"color:#fff;\">`\n",
        "\n",
        "\\- Как устроен этот тег?\n",
        "\n",
        "\\- div - имя тега, class и style - имена атрибутов, \"dp-content-inner\" и \"color:#fff;\" - значения атрибутов"
      ]
    },
    {
      "cell_type": "code",
      "execution_count": 63,
      "metadata": {
        "colab": {
          "base_uri": "https://localhost:8080/"
        },
        "id": "m3jmWqZ2Lmqu",
        "outputId": "9e2c595f-4c53-480c-9c92-b904e7aec8dc"
      },
      "outputs": [
        {
          "output_type": "stream",
          "name": "stdout",
          "text": [
            "<div class=\"dp-content-inner\" style=\"color:#fff;\">\n",
            " <div class=\"dp-content border-block\">\n",
            "  <div class=\"container\">\n",
            "   <div class=\"row\">\n",
            "    <div class=\"dp-content-inner\" style=\"color:#fff;\">\n",
            "     <p>\n",
            "      С 9 по 18 февраля в столице пройдет фестиваль «Китайский Новый год в Москве». Московский зоопарк стал одной из площадок для празднования и подготовил ряд тематических мероприятий: экскурсии, лекции и мастер-классы. А 9, 10 и 11 февраля попасть в зоопарк можно будет бесплатно, переодевшись в костюм панды. Такую же возможность предоставят посетительницам с именем Екатерина – тезкам малышки-панды Катюши.\n",
            "     </p>\n",
            "     <p>\n",
            "      9 февраля в 11:00 в открытом лектории Московского зоопарка пройдет лекция «Большие панды - загадочные гости с Востока». Посещение бесплатно по предварительной записи:\n",
            "      <a href=\"https://moscowzoo.ru/education/public-lectures/\">\n",
            "       https://moscowzoo.ru/education/public-lectures/\n",
            "      </a>\n",
            "     </p>\n",
            "     <p>\n",
            "      10 и 11 февраля в 12:00, а также 22, 23 и 24 февраля в 14:00 пройдет экскурсия «Гости из Поднебесной». Это семейная образовательная программа, посвященная фауне Китая: большим пандам, красным пандам и гималайским медведям, а также природоохранным программам зоопарка. Запись на экскурсию «Гости из Поднебесной» по электронной почте:\n",
            "      <a href=\"mailto:education@moscowzoo.ru\">\n",
            "       education@moscowzoo.ru\n",
            "      </a>\n",
            "     </p>\n",
            "     <p>\n",
            "      17 февраля в 12:00 начнется интерактивная программа «Панды и другие животные Азии» - экскурсия по редким экзотическим животным Азии, игра, посвященная пандам, мастер-классы (изготовление поздравительных открыток с новым годом в виде китайских фонариков и животных Азии). Бесплатно по предварительно регистрации по телефону: 8-499-255-57-63.\n",
            "     </p>\n",
            "     <p>\n",
            "      Также зоопарк приглашает на мастер-классы по лепке, посвященные Китайскому новому году:\n",
            "      <a href=\"https://moscowzoo.ru/education/art-zebra/lepka/\">\n",
            "       https://moscowzoo.ru/education/art-zebra/lepka/\n",
            "      </a>\n",
            "     </p>\n",
            "     <p>\n",
            "      9, 10 и 11 февраля зоопарк проводит акцию «Пандамания»: проход бесплатно всем Екатеринам, а также гостям в костюме панды. Но необходимо соблюсти дресс-код: для бесплатного входа на посетителе должно быть минимум 3 видимых элемента одежды с изображением панды или 2 элемента одежды и декор (раскрашенное лицо аква-гримом в виде панды), также подойдет кигуруми-панда или полный ростовой костюм панды. Зачтется также образ панды: черно-белая одежда в сочетании с шапкой-пандой или аква-гримом панды, вся одежда с принтом панды.\n",
            "     </p>\n",
            "     <p>\n",
            "      Не подойдет: только один элемент одежды, невидимые элементы одежды, просто черно-белая одежда. Вы должны выглядеть, как панда!\n",
            "     </p>\n",
            "     <br/>\n",
            "    </div>\n",
            "   </div>\n",
            "  </div>\n",
            " </div>\n",
            "</div>\n",
            "\n"
          ]
        }
      ],
      "source": [
        "post = soup.find('div', {'class':\"dp-content-inner\", \"style\":\"color:#fff;\"})  # вот так можно указать атрибуты тегов\n",
        "print(post.prettify())"
      ]
    },
    {
      "cell_type": "code",
      "execution_count": 64,
      "metadata": {
        "colab": {
          "base_uri": "https://localhost:8080/"
        },
        "id": "yqphtp2aGvAa",
        "outputId": "9c6b7b16-ca26-4b15-a66e-103353207a1b"
      },
      "outputs": [
        {
          "output_type": "stream",
          "name": "stdout",
          "text": [
            "\n",
            "\n",
            "\n",
            "\n",
            "\n",
            "\r\n",
            "\t С 9 по 18 февраля в столице пройдет фестиваль «Китайский Новый год в Москве». Московский зоопарк стал одной из площадок для празднования и подготовил ряд тематических мероприятий: экскурсии, лекции и мастер-классы. А 9, 10 и 11 февраля попасть в зоопарк можно будет бесплатно, переодевшись в костюм панды. Такую же возможность предоставят посетительницам с именем Екатерина – тезкам малышки-панды Катюши.\r\n",
            "\n",
            "\r\n",
            "\t 9 февраля в 11:00 в открытом лектории Московского зоопарка пройдет лекция «Большие панды - загадочные гости с Востока». Посещение бесплатно по предварительной записи: https://moscowzoo.ru/education/public-lectures/\n",
            "\n",
            "\r\n",
            "\t 10 и 11 февраля в 12:00, а также 22, 23 и 24 февраля в 14:00 пройдет экскурсия «Гости из Поднебесной». Это семейная образовательная программа, посвященная фауне Китая: большим пандам, красным пандам и гималайским медведям, а также природоохранным программам зоопарка. Запись на экскурсию «Гости из Поднебесной» по электронной почте: education@moscowzoo.ru\n",
            "\n",
            "\r\n",
            "\t 17 февраля в 12:00 начнется интерактивная программа «Панды и другие животные Азии» - экскурсия по редким экзотическим животным Азии, игра, посвященная пандам, мастер-классы (изготовление поздравительных открыток с новым годом в виде китайских фонариков и животных Азии). Бесплатно по предварительно регистрации по телефону: 8-499-255-57-63.\r\n",
            "\n",
            "\r\n",
            "\t Также зоопарк приглашает на мастер-классы по лепке, посвященные Китайскому новому году: https://moscowzoo.ru/education/art-zebra/lepka/\n",
            "\n",
            "\r\n",
            "\t 9, 10 и 11 февраля зоопарк проводит акцию «Пандамания»: проход бесплатно всем Екатеринам, а также гостям в костюме панды. Но необходимо соблюсти дресс-код: для бесплатного входа на посетителе должно быть минимум 3 видимых элемента одежды с изображением панды или 2 элемента одежды и декор (раскрашенное лицо аква-гримом в виде панды), также подойдет кигуруми-панда или полный ростовой костюм панды. Зачтется также образ панды: черно-белая одежда в сочетании с шапкой-пандой или аква-гримом панды, вся одежда с принтом панды.\r\n",
            "\n",
            "\r\n",
            "\t Не подойдет: только один элемент одежды, невидимые элементы одежды, просто черно-белая одежда. Вы должны выглядеть, как панда!\r\n",
            "\n",
            " \n",
            "\n",
            "\n",
            "\n",
            "\n"
          ]
        }
      ],
      "source": [
        "text = post.get_text()  # получили текст\n",
        "print(text)"
      ]
    },
    {
      "cell_type": "code",
      "execution_count": 65,
      "metadata": {
        "colab": {
          "base_uri": "https://localhost:8080/",
          "height": 157
        },
        "id": "9nJUOTGgREiZ",
        "outputId": "167ee412-7226-49c7-a29a-882a67819601"
      },
      "outputs": [
        {
          "output_type": "execute_result",
          "data": {
            "text/plain": [
              "'\\n\\n\\n\\n\\n\\r\\n\\t С 9 по 18 февраля в столице пройдет фестиваль «Китайский Новый год в Москве». Московский зоопарк стал одной из площадок для празднования и подготовил ряд тематических мероприятий: экскурсии, лекции и мастер-классы. А 9, 10 и 11 февраля попасть в зоопарк можно будет бесплатно, переодевшись в костюм панды. Такую же возможность предоставят посетительницам с именем Екатерина – тезкам малышки-панды Катюши.\\r\\n\\n\\r\\n\\t 9 февраля в 11:00 в открытом лектории Московского зоопарка пройдет лекция «Большие панды - загадочные гости с Востока». Посещение бесплатно по предварительной записи: https://moscowzoo.ru/education/public-lectures/\\n\\n\\r\\n\\t 10 и 11 февраля в 12:00, а также 22, 23 и 24 февраля в 14:00 пройдет экскурсия «Гости из Поднебесной». Это семейная образовательная программа, посвященная фауне Китая: большим пандам, красным пандам и гималайским медведям, а также природоохранным программам зоопарка. Запись на экскурсию «Гости из Поднебесной» по электронной почте: education@moscowzoo.ru\\n\\n\\r\\n\\t 17 февраля в 12:00 начнется интерактивная программа «Панды и другие животные Азии» - экскурсия по редким экзотическим животным Азии, игра, посвященная пандам, мастер-классы (изготовление поздравительных открыток с новым годом в виде китайских фонариков и животных Азии). Бесплатно по предварительно регистрации по телефону: 8-499-255-57-63.\\r\\n\\n\\r\\n\\t Также зоопарк приглашает на мастер-классы по лепке, посвященные Китайскому новому году: https://moscowzoo.ru/education/art-zebra/lepka/\\n\\n\\r\\n\\t 9, 10 и 11 февраля зоопарк проводит акцию «Пандамания»: проход бесплатно всем Екатеринам, а также гостям в костюме панды. Но необходимо соблюсти дресс-код: для бесплатного входа на посетителе должно быть минимум 3 видимых элемента одежды с изображением панды или 2 элемента одежды и декор (раскрашенное лицо аква-гримом в виде панды), также подойдет кигуруми-панда или полный ростовой костюм панды. Зачтется также образ панды: черно-белая одежда в сочетании с шапкой-пандой или аква-гримом панды, вся одежда с принтом панды.\\r\\n\\n\\r\\n\\t Не подойдет: только один элемент одежды, невидимые элементы одежды, просто черно-белая одежда. Вы должны выглядеть, как панда!\\r\\n\\n \\n\\n\\n\\n'"
            ],
            "application/vnd.google.colaboratory.intrinsic+json": {
              "type": "string"
            }
          },
          "metadata": {},
          "execution_count": 65
        }
      ],
      "source": [
        "text"
      ]
    },
    {
      "cell_type": "markdown",
      "metadata": {
        "id": "XTkUT9bqG16z"
      },
      "source": [
        "Вот здесь можно [посмотреть часть документации BeautifulSoup](https://www.crummy.com/software/BeautifulSoup/bs4/doc.ru/bs4ru.html)"
      ]
    },
    {
      "cell_type": "markdown",
      "metadata": {
        "id": "LVWbQHYzREia"
      },
      "source": [
        "### Пишем краулер\n",
        "\n",
        "Теперь давайте обкачаем несколько новостей.\n",
        "\n",
        "1. Где взять ссылки на новости?"
      ]
    },
    {
      "cell_type": "code",
      "execution_count": 22,
      "metadata": {
        "id": "-gWmjH1MREia"
      },
      "outputs": [],
      "source": [
        "news_url = 'https://www.moscowzoo.ru/about-zoo/news/novosti-zooparka/'\n",
        "response = requests.get(news_url,\n",
        "                        headers={'User-Agent':user_agent},\n",
        "                        verify=False)\n",
        "soup = BeautifulSoup(response.text, 'html.parser')"
      ]
    },
    {
      "cell_type": "code",
      "execution_count": 23,
      "metadata": {
        "colab": {
          "base_uri": "https://localhost:8080/"
        },
        "id": "AM8vxVIfREib",
        "outputId": "9d97701a-3978-4534-d249-5191105c7a6c"
      },
      "outputs": [
        {
          "output_type": "execute_result",
          "data": {
            "text/plain": [
              "[<a class=\"article-item-link\" href=\"/about-zoo/news/novosti-zooparka/kitayskiy-novyy-god-v-moskovskom-zooparke/\">Читать новость</a>,\n",
              " <a class=\"article-item-link\" href=\"/about-zoo/news/novosti-zooparka/30-yanvarya-zakryta-vystavka-udivitelnyy-mir-reptiliy/\">Читать новость</a>,\n",
              " <a class=\"article-item-link\" href=\"/about-zoo/news/novosti-zooparka/segodnya-v-moskovskom-zooparke-den-pamyati-vladimira-vladimirovicha-spitsina/\">Читать новость</a>,\n",
              " <a class=\"article-item-link\" href=\"/about-zoo/news/novosti-zooparka/remont-perekhodnogo-mosta/\">Читать новость</a>]"
            ]
          },
          "metadata": {},
          "execution_count": 23
        }
      ],
      "source": [
        "soup.find_all('a', {'class':\"article-item-link\"})"
      ]
    },
    {
      "cell_type": "markdown",
      "metadata": {
        "id": "jhDK1C_8REib"
      },
      "source": [
        "2. Как вытащить ссылки из тегов?"
      ]
    },
    {
      "cell_type": "code",
      "execution_count": 24,
      "metadata": {
        "colab": {
          "base_uri": "https://localhost:8080/"
        },
        "id": "nggOxB2zREib",
        "outputId": "9e6b5998-ecc9-4195-aec0-0660ed486004"
      },
      "outputs": [
        {
          "output_type": "stream",
          "name": "stdout",
          "text": [
            "/about-zoo/news/novosti-zooparka/kitayskiy-novyy-god-v-moskovskom-zooparke/\n",
            "/about-zoo/news/novosti-zooparka/30-yanvarya-zakryta-vystavka-udivitelnyy-mir-reptiliy/\n",
            "/about-zoo/news/novosti-zooparka/segodnya-v-moskovskom-zooparke-den-pamyati-vladimira-vladimirovicha-spitsina/\n",
            "/about-zoo/news/novosti-zooparka/remont-perekhodnogo-mosta/\n"
          ]
        }
      ],
      "source": [
        "for a in soup.find_all('a', {'class':\"article-item-link\"}):\n",
        "    print(a['href'])"
      ]
    },
    {
      "cell_type": "markdown",
      "metadata": {
        "id": "vGVxr0r_REib"
      },
      "source": [
        "3. Как ходить по страницам списков новостей, чтобы доставать ссылки?"
      ]
    },
    {
      "cell_type": "code",
      "execution_count": 25,
      "metadata": {
        "scrolled": true,
        "colab": {
          "base_uri": "https://localhost:8080/"
        },
        "id": "LyRJLakkREic",
        "outputId": "7d1f689b-b0a2-47e5-dcb8-73fdaecbbf48"
      },
      "outputs": [
        {
          "output_type": "execute_result",
          "data": {
            "text/plain": [
              "['https://www.moscowzoo.ru/about-zoo/news/novosti-zooparka/kitayskiy-novyy-god-v-moskovskom-zooparke/',\n",
              " 'https://www.moscowzoo.ru/about-zoo/news/novosti-zooparka/30-yanvarya-zakryta-vystavka-udivitelnyy-mir-reptiliy/',\n",
              " 'https://www.moscowzoo.ru/about-zoo/news/novosti-zooparka/segodnya-v-moskovskom-zooparke-den-pamyati-vladimira-vladimirovicha-spitsina/',\n",
              " 'https://www.moscowzoo.ru/about-zoo/news/novosti-zooparka/remont-perekhodnogo-mosta/',\n",
              " 'https://www.moscowzoo.ru/about-zoo/news/novosti-zooparka/v-moskovskom-zooparke-otkrylas-vystavka-zveri-ptitsy-i-illyuzii-vladimira-stakheeva/',\n",
              " 'https://www.moscowzoo.ru/about-zoo/news/novosti-zooparka/kanikuly-s-kipoy-i-pushey-vozvrashchayutsya-/',\n",
              " 'https://www.moscowzoo.ru/about-zoo/news/novosti-zooparka/15-dekabrya-v-moskovskom-zooparka-poyavilis-na-svet-dva-detenysha-kapibary/',\n",
              " 'https://www.moscowzoo.ru/about-zoo/news/novosti-zooparka/zborelok2024/',\n",
              " 'https://www.moscowzoo.ru/about-zoo/news/novosti-zooparka/moskovskiy-zoopark-okazal-srochnuyu-pomoshch-khersonskomu-safari-parku-postradavshemu-iz-za-shtorma/',\n",
              " 'https://www.moscowzoo.ru/about-zoo/news/novosti-zooparka/vystavka-animalisticheskikh-rabot-zasluzhennogo-khudozhnika-rossii-p-k-kapustina/',\n",
              " 'https://www.moscowzoo.ru/about-zoo/news/novosti-zooparka/vybiraem-imya-dlya-malyshki-pandy/',\n",
              " 'https://www.moscowzoo.ru/about-zoo/news/novosti-zooparka/pozdravlyaem-s-dnyem-rozhdeniya-nashego-direktora/',\n",
              " 'https://www.moscowzoo.ru/about-zoo/news/novosti-zooparka/detskiy-lektoriy-zapuskaet-novyy-tsikl-lektsiy/',\n",
              " 'https://www.moscowzoo.ru/about-zoo/news/novosti-zooparka/moskovskiy-zoopark-prinyal-uchastie-v-dokuchaevskoy-konferentsii/',\n",
              " 'https://www.moscowzoo.ru/about-zoo/news/novosti-zooparka/v-zooparke-poyavilsya-na-svet-ptenets-redkogo-zhuravlya/',\n",
              " 'https://www.moscowzoo.ru/about-zoo/news/novosti-zooparka/7-noyabrya-na-odin-den-zakryvaetsya-vkhod-v-pavilon-zhivotnye-tropikov/',\n",
              " 'https://www.moscowzoo.ru/about-zoo/news/novosti-zooparka/vystavka-zoopark-v-pustyne/',\n",
              " 'https://www.moscowzoo.ru/about-zoo/news/novosti-zooparka/bud-bditelen/',\n",
              " 'https://www.moscowzoo.ru/about-zoo/news/novosti-zooparka/s-16-oktyabrya-moskovskiy-zoopark-nemnogo-korrektiruet-rezhim-raboty/',\n",
              " 'https://www.moscowzoo.ru/about-zoo/news/novosti-zooparka/v-moskovskom-zooparke-poselilis-marabu/']"
            ]
          },
          "metadata": {},
          "execution_count": 25
        }
      ],
      "source": [
        "news_urls = []\n",
        "news_url = 'https://www.moscowzoo.ru/about-zoo/news/novosti-zooparka/?PAGEN_1='\n",
        "for i in range(1, 6):\n",
        "    response = requests.get(news_url+str(i),\n",
        "                        headers={'User-Agent':user_agent},\n",
        "                        verify=False)\n",
        "    soup = BeautifulSoup(response.text, 'html.parser')\n",
        "    for a in soup.find_all('a', {'class':\"article-item-link\"}):\n",
        "        news_urls.append('https://www.moscowzoo.ru'+a['href'])\n",
        "news_urls"
      ]
    },
    {
      "cell_type": "code",
      "execution_count": 26,
      "metadata": {
        "id": "CtJCr98jREic"
      },
      "outputs": [],
      "source": [
        "# вытащим тексты этих новостей\n",
        "news_texts = []\n",
        "for link in news_urls:\n",
        "    response = requests.get(link,\n",
        "                        headers={'User-Agent':user_agent},\n",
        "                        verify=False)\n",
        "    soup = BeautifulSoup(response.text, 'html.parser')\n",
        "    post = soup.find('div', {'class':\"dp-content-inner\", \"style\":\"color:#fff;\"}).get_text()\n",
        "    news_texts.append(post.strip())"
      ]
    },
    {
      "cell_type": "code",
      "execution_count": 27,
      "metadata": {
        "colab": {
          "base_uri": "https://localhost:8080/",
          "height": 157
        },
        "id": "Va3-8X-mREic",
        "outputId": "6ea8a273-c5c2-4e31-bc80-47a4a546e41c"
      },
      "outputs": [
        {
          "output_type": "execute_result",
          "data": {
            "text/plain": [
              "'Московский зоопарк запускает традиционную новогоднюю акцию по сбору ёлок, сосен и пихт. Хвойные деревья украсят вольеры наших обитателей, станут для них новой игрушкой или полезным лакомством.\\r\\n\\r\\n«Как и всегда, передать елку, пихту или сосну в дар могут только компании. От частных лиц деревья не принимаются. Елки, которые вы украшали дома, могут быть опасны для животных. На их ветках нередко остаются фрагменты пластиковых или стеклянных украшений, мишуры, гирлянд, искусственного снега. Кроме того, деревья, которые долго простояли в помещении, теряют свой аромат и становятся не очень интересными для животных», - рассказала генеральный директор Московского зоопарка Светлана Акулова.\\r\\n\\r\\nИграть с пушистыми деревьями любят практически все обитател зоопарка: панды, крупные кошки и маленькие обитатели Фауны России. Полакомиться еловыми ветками не против винторогие козлы, голубые бараны, азиатские слоны, альпаки и другие. Для них ёлки становятся пищевым обогащением среды обитания. Хвоя богата витамином C, каротином и полезными аминокислотами. Поэтому ели и сосны становятся полезным «десертом» для многих животных - как в природе, так и в зоопарках.\\r\\n\\r\\nНекоторые жители Зоопарка любят использовать стволы деревьев как когтеточки. Скребут ароматную кору восточноевропейские рыси, пума, тигр, дальневосточный леопард и более мелкие кошки - камышовый кот, степной кот и дальневосточная лесная кошка.\\r\\n\\r\\nНаш Зоопарк принимает нераспроданные новогодние деревья еще с 2012 года. Подобная практика есть во многих зоопарках по всему миру. Прием новогодних деревьев продлится до 10 января. Чтобы узнать, как подарить нашим животным пихты, ели или сосны, нужно позвонить по телефону +7-(916)-123-13-70 (Сергей).'"
            ],
            "application/vnd.google.colaboratory.intrinsic+json": {
              "type": "string"
            }
          },
          "metadata": {},
          "execution_count": 27
        }
      ],
      "source": [
        "news_texts[7]"
      ]
    },
    {
      "cell_type": "code",
      "source": [
        "len(news_texts)"
      ],
      "metadata": {
        "colab": {
          "base_uri": "https://localhost:8080/"
        },
        "id": "UZ6ewNngNrak",
        "outputId": "e81c9dff-fe30-4ca8-9fcd-228220ad499c"
      },
      "execution_count": 29,
      "outputs": [
        {
          "output_type": "execute_result",
          "data": {
            "text/plain": [
              "20"
            ]
          },
          "metadata": {},
          "execution_count": 29
        }
      ]
    },
    {
      "cell_type": "markdown",
      "metadata": {
        "id": "F9V4Vkl6H1oA"
      },
      "source": [
        "## NER. Дубль 2\n",
        "### (Named-entity recognition, извлечение именованных сущностей)\n",
        "\n",
        "Именнованные сущности: персоны, локации, организации (а также временные выражения, валюты, медицинские коды и др.)\n",
        "\n",
        "**Как обычно размечают последовательности токенов?**\n",
        "\n",
        "BIOES-схема: к метке сущности (например, PER для персон или ORG для организаций) добавляется префикс, который обозначает позицию токена в спане сущности:\n",
        "\n",
        "B – beginning – первый токен в спане сущности, которая состоит из нескольких токенов;\n",
        "\n",
        "I – inside – внутри спана;\n",
        "\n",
        "О – outside – токен не относится ни к какой сущности;\n",
        "\n",
        "E – ending – последний токен сущности, которая состоит из нескольких токенов;\n",
        "\n",
        "S – single – сущность состоит из одного токена.\n",
        "\n",
        "До какого количества префиксов можно сократить?"
      ]
    },
    {
      "cell_type": "code",
      "execution_count": null,
      "metadata": {
        "id": "Qs3eY6PmG_7j"
      },
      "outputs": [],
      "source": [
        "!pip3 install -U pip setuptools wheel\n",
        "!pip3 install -U spacy"
      ]
    },
    {
      "cell_type": "code",
      "execution_count": null,
      "metadata": {
        "id": "ZuAhXdK0REid"
      },
      "outputs": [],
      "source": [
        "! python3 -m spacy download ru_core_news_sm"
      ]
    },
    {
      "cell_type": "code",
      "execution_count": 33,
      "metadata": {
        "id": "-yqxq0MLHhKb"
      },
      "outputs": [],
      "source": [
        "import spacy"
      ]
    },
    {
      "cell_type": "code",
      "execution_count": 34,
      "metadata": {
        "id": "UT2A1rkbHM26"
      },
      "outputs": [],
      "source": [
        "nlp = spacy.load(\"ru_core_news_sm\")"
      ]
    },
    {
      "cell_type": "code",
      "source": [
        "url = 'https://www.moscowzoo.ru/about-zoo/news/novosti-zooparka/pervyy-v-rossii-detenysh-bolshoy-pandy/'\n",
        "response = requests.get(url,\n",
        "                        headers={'User-Agent':user_agent},\n",
        "                        verify=False)\n",
        "soup = BeautifulSoup(response.text, 'html.parser')\n",
        "post = soup.find('div', {'class':\"dp-content-inner\", \"style\":\"color:#fff;\"}).get_text()\n",
        "text = post.strip()\n",
        "text"
      ],
      "metadata": {
        "colab": {
          "base_uri": "https://localhost:8080/",
          "height": 261
        },
        "id": "K8hEyE4Hlb6L",
        "outputId": "775602a4-b93b-4afc-a6d8-8bd2781db03a"
      },
      "execution_count": 35,
      "outputs": [
        {
          "output_type": "execute_result",
          "data": {
            "text/plain": [
              "'В Московском зоопарке появился на свет первый в истории России детеныш большой панды. Это уникальное событие как для страны, так и для всего мирового природоохранного сообщества. Панды переданы Московскому зоопарку в рамках международной программы по сохранению, защите и исследованию больших панд. Миссия зоопарка – внести значимый вклад в создание резервной популяции этих редчайших животных.\\xa0\\r\\n \\xa0\\r\\n Малыш весом около 150 граммов родился у молодой пары больших панд — самца Жуи и самки Диндин. Пол детеныша пока неизвестен. Наша Диндин проявила большую заботу и сразу приняла малыша. За самкой круглосуточно наблюдают и берут все необходимые анализы.\\xa0\\r\\n \\xa0\\r\\n Первый в России детеныш большой панды появился на свет после спаривания естественным путём. Чтобы помочь коллегам, в Москву на три месяца прибыл эксперт по размножению больших панд из Исследовательского центра по сохранению больших панд Китая. Специалисты не торопили животных, четко следовали указаниям китайских коллег, добивались идеальных условий содержания, и в итоге самка забеременела с первого раза.\\xa0\\r\\n \\xa0\\r\\n Этот случай уникален еще и потому, что Жуи и Диндин молоды: им семь и шесть лет соответственно. Обычно первый детеныш рождается, когда родители достигают 8-10 лет.\\xa0\\r\\n \\xa0\\r\\n Получить потомство панд невероятно сложно. Рождение детенышей — это одновременно и большая удача, и результат долгой и кропотливой работы специалистов.\\xa0\\r\\n \\xa0\\r\\n Большие панды прибыли в Москву 29 апреля 2019 года специальным рейсом из Пекина. На церемонии открытия павильона «Фауна Китая» в Московском зоопарке присутствовали Президент России Владимир Путин и председатель Китайской Народной Республики Си Цзиньпин. Главы двух государств приняли решение по проведению совместного исследования этих редких животных в честь 70-летия установления дипломатических отношений между странами.'"
            ],
            "application/vnd.google.colaboratory.intrinsic+json": {
              "type": "string"
            }
          },
          "metadata": {},
          "execution_count": 35
        }
      ]
    },
    {
      "cell_type": "code",
      "execution_count": 36,
      "metadata": {
        "colab": {
          "base_uri": "https://localhost:8080/"
        },
        "id": "LJ7r3mh9REie",
        "outputId": "f33b4830-09f0-45ed-c96a-662159ef5cfa"
      },
      "outputs": [
        {
          "output_type": "execute_result",
          "data": {
            "text/plain": [
              "В Московском зоопарке появился на свет первый в истории России детеныш большой панды. Это уникальное событие как для страны, так и для всего мирового природоохранного сообщества. Панды переданы Московскому зоопарку в рамках международной программы по сохранению, защите и исследованию больших панд. Миссия зоопарка – внести значимый вклад в создание резервной популяции этих редчайших животных. \n",
              "  \n",
              " Малыш весом около 150 граммов родился у молодой пары больших панд — самца Жуи и самки Диндин. Пол детеныша пока неизвестен. Наша Диндин проявила большую заботу и сразу приняла малыша. За самкой круглосуточно наблюдают и берут все необходимые анализы. \n",
              "  \n",
              " Первый в России детеныш большой панды появился на свет после спаривания естественным путём. Чтобы помочь коллегам, в Москву на три месяца прибыл эксперт по размножению больших панд из Исследовательского центра по сохранению больших панд Китая. Специалисты не торопили животных, четко следовали указаниям китайских коллег, добивались идеальных условий содержания, и в итоге самка забеременела с первого раза. \n",
              "  \n",
              " Этот случай уникален еще и потому, что Жуи и Диндин молоды: им семь и шесть лет соответственно. Обычно первый детеныш рождается, когда родители достигают 8-10 лет. \n",
              "  \n",
              " Получить потомство панд невероятно сложно. Рождение детенышей — это одновременно и большая удача, и результат долгой и кропотливой работы специалистов. \n",
              "  \n",
              " Большие панды прибыли в Москву 29 апреля 2019 года специальным рейсом из Пекина. На церемонии открытия павильона «Фауна Китая» в Московском зоопарке присутствовали Президент России Владимир Путин и председатель Китайской Народной Республики Си Цзиньпин. Главы двух государств приняли решение по проведению совместного исследования этих редких животных в честь 70-летия установления дипломатических отношений между странами."
            ]
          },
          "metadata": {},
          "execution_count": 36
        }
      ],
      "source": [
        "doc = nlp(text.strip())\n",
        "doc"
      ]
    },
    {
      "cell_type": "code",
      "execution_count": 37,
      "metadata": {
        "colab": {
          "base_uri": "https://localhost:8080/"
        },
        "id": "pDYwvvLFHPqj",
        "outputId": "913a809c-1f49-46c2-cb1f-1cd0f08ca6dc"
      },
      "outputs": [
        {
          "output_type": "stream",
          "name": "stdout",
          "text": [
            "Московском зоопарке 2 21 ORG\n",
            "России 56 62 LOC\n",
            "Московскому зоопарку 194 214 LOC\n",
            "Диндин 488 494 PER\n",
            "Диндин 531 537 PER\n",
            "России 669 675 LOC\n",
            "Москву 777 783 LOC\n",
            "Исследовательского центра по сохранению больших панд 844 896 ORG\n",
            "Китая 897 902 LOC\n",
            "Жуи 1114 1117 PER\n",
            "Диндин 1120 1126 PER\n",
            "Москву 1429 1435 LOC\n",
            "Пекина 1478 1484 LOC\n",
            "Фауна Китая 1519 1530 ORG\n",
            "Московском зоопарке 1534 1553 ORG\n",
            "России 1579 1585 LOC\n",
            "Владимир Путин 1586 1600 PER\n",
            "Китайской Народной Республики 1616 1645 LOC\n",
            "Си Цзиньпин 1646 1657 PER\n"
          ]
        }
      ],
      "source": [
        "doc = nlp(text)\n",
        "\n",
        "for ent in doc.ents:\n",
        "    print(ent.text, ent.start_char, ent.end_char, ent.label_)"
      ]
    }
  ],
  "metadata": {
    "colab": {
      "provenance": []
    },
    "kernelspec": {
      "display_name": "Python 3 (ipykernel)",
      "language": "python",
      "name": "python3"
    },
    "language_info": {
      "codemirror_mode": {
        "name": "ipython",
        "version": 3
      },
      "file_extension": ".py",
      "mimetype": "text/x-python",
      "name": "python",
      "nbconvert_exporter": "python",
      "pygments_lexer": "ipython3",
      "version": "3.12.0"
    }
  },
  "nbformat": 4,
  "nbformat_minor": 0
}