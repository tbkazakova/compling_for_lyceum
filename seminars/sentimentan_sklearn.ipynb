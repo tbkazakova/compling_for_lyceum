{
  "cells": [
    {
      "cell_type": "markdown",
      "metadata": {
        "id": "0wTjLOlc8ib0"
      },
      "source": [
        "### Задача: классификация твитов по тональности\n",
        "\n",
        "*sentiment analysis*\n",
        "\n",
        "У нас есть данные постов в твиттере, про каждый из которых каждый указано, как он эмоционально окрашен: положительно или отрицательно.\n",
        "\n",
        "**Задача**: построить модель, которая по тексту поста предсказывает его эмоциональную окраску.\n",
        "\n",
        "\n",
        "Скачиваем данные: положительные, отрицательные."
      ]
    },
    {
      "cell_type": "markdown",
      "metadata": {
        "id": "rXhGW9Du7BkX"
      },
      "source": [
        "*Спасибо авторам тетрадки с курса [Анализ текстовых данных](https://openedu.ru/course/hse/TEXT/)*\n",
        "\n",
        "Кстати, суперкурс (но там без объяснений математики для неподготовленных)"
      ]
    },
    {
      "cell_type": "code",
      "execution_count": null,
      "metadata": {
        "id": "DUzxmHDt7BkX",
        "outputId": "2b311b07-53b2-46c0-97e9-eacef6f09320",
        "colab": {
          "base_uri": "https://localhost:8080/"
        }
      },
      "outputs": [
        {
          "output_type": "stream",
          "name": "stdout",
          "text": [
            "--2024-09-05 10:22:46--  https://docs.google.com/uc?export=download&confirm=&id=1VpeYPhqxfGF6ZTKOEZ56Ew4EU2OzXbSA\n",
            "Resolving docs.google.com (docs.google.com)... 173.194.195.100, 173.194.195.102, 173.194.195.138, ...\n",
            "Connecting to docs.google.com (docs.google.com)|173.194.195.100|:443... connected.\n",
            "HTTP request sent, awaiting response... 303 See Other\n",
            "Location: https://drive.usercontent.google.com/download?id=1VpeYPhqxfGF6ZTKOEZ56Ew4EU2OzXbSA&export=download [following]\n",
            "--2024-09-05 10:22:46--  https://drive.usercontent.google.com/download?id=1VpeYPhqxfGF6ZTKOEZ56Ew4EU2OzXbSA&export=download\n",
            "Resolving drive.usercontent.google.com (drive.usercontent.google.com)... 142.251.184.132, 2607:f8b0:4001:c66::84\n",
            "Connecting to drive.usercontent.google.com (drive.usercontent.google.com)|142.251.184.132|:443... connected.\n",
            "HTTP request sent, awaiting response... 200 OK\n",
            "Length: 24450101 (23M) [application/octet-stream]\n",
            "Saving to: ‘negative.csv’\n",
            "\n",
            "negative.csv        100%[===================>]  23.32M  39.2MB/s    in 0.6s    \n",
            "\n",
            "2024-09-05 10:22:50 (39.2 MB/s) - ‘negative.csv’ saved [24450101/24450101]\n",
            "\n",
            "--2024-09-05 10:22:55--  https://docs.google.com/uc?export=download&confirm=&id=1UFv55ApwTvvBpkRCLucD6SHlMHuDIVR-\n",
            "Resolving docs.google.com (docs.google.com)... 173.194.195.100, 173.194.195.102, 173.194.195.138, ...\n",
            "Connecting to docs.google.com (docs.google.com)|173.194.195.100|:443... connected.\n",
            "HTTP request sent, awaiting response... 303 See Other\n",
            "Location: https://drive.usercontent.google.com/download?id=1UFv55ApwTvvBpkRCLucD6SHlMHuDIVR-&export=download [following]\n",
            "--2024-09-05 10:22:55--  https://drive.usercontent.google.com/download?id=1UFv55ApwTvvBpkRCLucD6SHlMHuDIVR-&export=download\n",
            "Resolving drive.usercontent.google.com (drive.usercontent.google.com)... 142.251.184.132, 2607:f8b0:4001:c66::84\n",
            "Connecting to drive.usercontent.google.com (drive.usercontent.google.com)|142.251.184.132|:443... connected.\n",
            "HTTP request sent, awaiting response... 200 OK\n",
            "Length: 26233379 (25M) [application/octet-stream]\n",
            "Saving to: ‘positive.csv’\n",
            "\n",
            "positive.csv        100%[===================>]  25.02M  97.2MB/s    in 0.3s    \n",
            "\n",
            "2024-09-05 10:22:57 (97.2 MB/s) - ‘positive.csv’ saved [26233379/26233379]\n",
            "\n"
          ]
        }
      ],
      "source": [
        "!wget --load-cookies /tmp/cookies.txt \"https://docs.google.com/uc?export=download&confirm=$(wget --quiet --save-cookies /tmp/cookies.txt --keep-session-cookies --no-check-certificate 'https://docs.google.com/uc?export=download&id=1VpeYPhqxfGF6ZTKOEZ56Ew4EU2OzXbSA' -O- | sed -rn 's/.*confirm=([0-9A-Za-z_]+).*/\\1\\n/p')&id=1VpeYPhqxfGF6ZTKOEZ56Ew4EU2OzXbSA\" -O negative.csv && rm -rf /tmp/cookies.txt\n",
        "!wget --load-cookies /tmp/cookies.txt \"https://docs.google.com/uc?export=download&confirm=$(wget --quiet --save-cookies /tmp/cookies.txt --keep-session-cookies --no-check-certificate 'https://docs.google.com/uc?export=download&id=1UFv55ApwTvvBpkRCLucD6SHlMHuDIVR-' -O- | sed -rn 's/.*confirm=([0-9A-Za-z_]+).*/\\1\\n/p')&id=1UFv55ApwTvvBpkRCLucD6SHlMHuDIVR-\" -O positive.csv && rm -rf /tmp/cookies.txt"
      ]
    },
    {
      "cell_type": "code",
      "execution_count": null,
      "metadata": {
        "id": "QPp8_2Sy8ib5"
      },
      "outputs": [],
      "source": [
        "import pandas as pd\n",
        "import numpy as np\n",
        "from sklearn.metrics import *\n",
        "from sklearn.model_selection import train_test_split\n",
        "from sklearn.pipeline import Pipeline\n",
        "\n",
        "pd.set_option('max_colwidth', 800)"
      ]
    },
    {
      "cell_type": "code",
      "execution_count": null,
      "metadata": {
        "id": "imYfO4fH7Bkb",
        "outputId": "b4f7016d-869e-4866-c127-1f3ea326ddb3",
        "colab": {
          "base_uri": "https://localhost:8080/",
          "height": 258
        }
      },
      "outputs": [
        {
          "output_type": "execute_result",
          "data": {
            "text/plain": [
              "                                                                                                                                           text\n",
              "0                                           @first_timee хоть я и школота, но поверь, у нас то же самое :D общество профилирующий предмет типа)\n",
              "1                                                                       Да, все-таки он немного похож на него. Но мой мальчик все равно лучше:D\n",
              "2                                                                                         RT @KatiaCheh: Ну ты идиотка) я испугалась за тебя!!!\n",
              "3  RT @digger2912: \"Кто то в углу сидит и погибает от голода, а мы ещё 2 порции взяли, хотя уже и так жрать не хотим\" :DD http://t.co/GqG6iuE2…\n",
              "4                @irina_dyshkant Вот что значит страшилка :D\\nНо блин,посмотрев все части,у тебя создастся ощущение,что авторы курили что-то :D"
            ],
            "text/html": [
              "\n",
              "  <div id=\"df-f2968f85-d568-4dea-9ada-fa43179c1fc6\" class=\"colab-df-container\">\n",
              "    <div>\n",
              "<style scoped>\n",
              "    .dataframe tbody tr th:only-of-type {\n",
              "        vertical-align: middle;\n",
              "    }\n",
              "\n",
              "    .dataframe tbody tr th {\n",
              "        vertical-align: top;\n",
              "    }\n",
              "\n",
              "    .dataframe thead th {\n",
              "        text-align: right;\n",
              "    }\n",
              "</style>\n",
              "<table border=\"1\" class=\"dataframe\">\n",
              "  <thead>\n",
              "    <tr style=\"text-align: right;\">\n",
              "      <th></th>\n",
              "      <th>text</th>\n",
              "    </tr>\n",
              "  </thead>\n",
              "  <tbody>\n",
              "    <tr>\n",
              "      <th>0</th>\n",
              "      <td>@first_timee хоть я и школота, но поверь, у нас то же самое :D общество профилирующий предмет типа)</td>\n",
              "    </tr>\n",
              "    <tr>\n",
              "      <th>1</th>\n",
              "      <td>Да, все-таки он немного похож на него. Но мой мальчик все равно лучше:D</td>\n",
              "    </tr>\n",
              "    <tr>\n",
              "      <th>2</th>\n",
              "      <td>RT @KatiaCheh: Ну ты идиотка) я испугалась за тебя!!!</td>\n",
              "    </tr>\n",
              "    <tr>\n",
              "      <th>3</th>\n",
              "      <td>RT @digger2912: \"Кто то в углу сидит и погибает от голода, а мы ещё 2 порции взяли, хотя уже и так жрать не хотим\" :DD http://t.co/GqG6iuE2…</td>\n",
              "    </tr>\n",
              "    <tr>\n",
              "      <th>4</th>\n",
              "      <td>@irina_dyshkant Вот что значит страшилка :D\\nНо блин,посмотрев все части,у тебя создастся ощущение,что авторы курили что-то :D</td>\n",
              "    </tr>\n",
              "  </tbody>\n",
              "</table>\n",
              "</div>\n",
              "    <div class=\"colab-df-buttons\">\n",
              "\n",
              "  <div class=\"colab-df-container\">\n",
              "    <button class=\"colab-df-convert\" onclick=\"convertToInteractive('df-f2968f85-d568-4dea-9ada-fa43179c1fc6')\"\n",
              "            title=\"Convert this dataframe to an interactive table.\"\n",
              "            style=\"display:none;\">\n",
              "\n",
              "  <svg xmlns=\"http://www.w3.org/2000/svg\" height=\"24px\" viewBox=\"0 -960 960 960\">\n",
              "    <path d=\"M120-120v-720h720v720H120Zm60-500h600v-160H180v160Zm220 220h160v-160H400v160Zm0 220h160v-160H400v160ZM180-400h160v-160H180v160Zm440 0h160v-160H620v160ZM180-180h160v-160H180v160Zm440 0h160v-160H620v160Z\"/>\n",
              "  </svg>\n",
              "    </button>\n",
              "\n",
              "  <style>\n",
              "    .colab-df-container {\n",
              "      display:flex;\n",
              "      gap: 12px;\n",
              "    }\n",
              "\n",
              "    .colab-df-convert {\n",
              "      background-color: #E8F0FE;\n",
              "      border: none;\n",
              "      border-radius: 50%;\n",
              "      cursor: pointer;\n",
              "      display: none;\n",
              "      fill: #1967D2;\n",
              "      height: 32px;\n",
              "      padding: 0 0 0 0;\n",
              "      width: 32px;\n",
              "    }\n",
              "\n",
              "    .colab-df-convert:hover {\n",
              "      background-color: #E2EBFA;\n",
              "      box-shadow: 0px 1px 2px rgba(60, 64, 67, 0.3), 0px 1px 3px 1px rgba(60, 64, 67, 0.15);\n",
              "      fill: #174EA6;\n",
              "    }\n",
              "\n",
              "    .colab-df-buttons div {\n",
              "      margin-bottom: 4px;\n",
              "    }\n",
              "\n",
              "    [theme=dark] .colab-df-convert {\n",
              "      background-color: #3B4455;\n",
              "      fill: #D2E3FC;\n",
              "    }\n",
              "\n",
              "    [theme=dark] .colab-df-convert:hover {\n",
              "      background-color: #434B5C;\n",
              "      box-shadow: 0px 1px 3px 1px rgba(0, 0, 0, 0.15);\n",
              "      filter: drop-shadow(0px 1px 2px rgba(0, 0, 0, 0.3));\n",
              "      fill: #FFFFFF;\n",
              "    }\n",
              "  </style>\n",
              "\n",
              "    <script>\n",
              "      const buttonEl =\n",
              "        document.querySelector('#df-f2968f85-d568-4dea-9ada-fa43179c1fc6 button.colab-df-convert');\n",
              "      buttonEl.style.display =\n",
              "        google.colab.kernel.accessAllowed ? 'block' : 'none';\n",
              "\n",
              "      async function convertToInteractive(key) {\n",
              "        const element = document.querySelector('#df-f2968f85-d568-4dea-9ada-fa43179c1fc6');\n",
              "        const dataTable =\n",
              "          await google.colab.kernel.invokeFunction('convertToInteractive',\n",
              "                                                    [key], {});\n",
              "        if (!dataTable) return;\n",
              "\n",
              "        const docLinkHtml = 'Like what you see? Visit the ' +\n",
              "          '<a target=\"_blank\" href=https://colab.research.google.com/notebooks/data_table.ipynb>data table notebook</a>'\n",
              "          + ' to learn more about interactive tables.';\n",
              "        element.innerHTML = '';\n",
              "        dataTable['output_type'] = 'display_data';\n",
              "        await google.colab.output.renderOutput(dataTable, element);\n",
              "        const docLink = document.createElement('div');\n",
              "        docLink.innerHTML = docLinkHtml;\n",
              "        element.appendChild(docLink);\n",
              "      }\n",
              "    </script>\n",
              "  </div>\n",
              "\n",
              "\n",
              "<div id=\"df-502b4bbf-0914-47bd-a071-1877515647dc\">\n",
              "  <button class=\"colab-df-quickchart\" onclick=\"quickchart('df-502b4bbf-0914-47bd-a071-1877515647dc')\"\n",
              "            title=\"Suggest charts\"\n",
              "            style=\"display:none;\">\n",
              "\n",
              "<svg xmlns=\"http://www.w3.org/2000/svg\" height=\"24px\"viewBox=\"0 0 24 24\"\n",
              "     width=\"24px\">\n",
              "    <g>\n",
              "        <path d=\"M19 3H5c-1.1 0-2 .9-2 2v14c0 1.1.9 2 2 2h14c1.1 0 2-.9 2-2V5c0-1.1-.9-2-2-2zM9 17H7v-7h2v7zm4 0h-2V7h2v10zm4 0h-2v-4h2v4z\"/>\n",
              "    </g>\n",
              "</svg>\n",
              "  </button>\n",
              "\n",
              "<style>\n",
              "  .colab-df-quickchart {\n",
              "      --bg-color: #E8F0FE;\n",
              "      --fill-color: #1967D2;\n",
              "      --hover-bg-color: #E2EBFA;\n",
              "      --hover-fill-color: #174EA6;\n",
              "      --disabled-fill-color: #AAA;\n",
              "      --disabled-bg-color: #DDD;\n",
              "  }\n",
              "\n",
              "  [theme=dark] .colab-df-quickchart {\n",
              "      --bg-color: #3B4455;\n",
              "      --fill-color: #D2E3FC;\n",
              "      --hover-bg-color: #434B5C;\n",
              "      --hover-fill-color: #FFFFFF;\n",
              "      --disabled-bg-color: #3B4455;\n",
              "      --disabled-fill-color: #666;\n",
              "  }\n",
              "\n",
              "  .colab-df-quickchart {\n",
              "    background-color: var(--bg-color);\n",
              "    border: none;\n",
              "    border-radius: 50%;\n",
              "    cursor: pointer;\n",
              "    display: none;\n",
              "    fill: var(--fill-color);\n",
              "    height: 32px;\n",
              "    padding: 0;\n",
              "    width: 32px;\n",
              "  }\n",
              "\n",
              "  .colab-df-quickchart:hover {\n",
              "    background-color: var(--hover-bg-color);\n",
              "    box-shadow: 0 1px 2px rgba(60, 64, 67, 0.3), 0 1px 3px 1px rgba(60, 64, 67, 0.15);\n",
              "    fill: var(--button-hover-fill-color);\n",
              "  }\n",
              "\n",
              "  .colab-df-quickchart-complete:disabled,\n",
              "  .colab-df-quickchart-complete:disabled:hover {\n",
              "    background-color: var(--disabled-bg-color);\n",
              "    fill: var(--disabled-fill-color);\n",
              "    box-shadow: none;\n",
              "  }\n",
              "\n",
              "  .colab-df-spinner {\n",
              "    border: 2px solid var(--fill-color);\n",
              "    border-color: transparent;\n",
              "    border-bottom-color: var(--fill-color);\n",
              "    animation:\n",
              "      spin 1s steps(1) infinite;\n",
              "  }\n",
              "\n",
              "  @keyframes spin {\n",
              "    0% {\n",
              "      border-color: transparent;\n",
              "      border-bottom-color: var(--fill-color);\n",
              "      border-left-color: var(--fill-color);\n",
              "    }\n",
              "    20% {\n",
              "      border-color: transparent;\n",
              "      border-left-color: var(--fill-color);\n",
              "      border-top-color: var(--fill-color);\n",
              "    }\n",
              "    30% {\n",
              "      border-color: transparent;\n",
              "      border-left-color: var(--fill-color);\n",
              "      border-top-color: var(--fill-color);\n",
              "      border-right-color: var(--fill-color);\n",
              "    }\n",
              "    40% {\n",
              "      border-color: transparent;\n",
              "      border-right-color: var(--fill-color);\n",
              "      border-top-color: var(--fill-color);\n",
              "    }\n",
              "    60% {\n",
              "      border-color: transparent;\n",
              "      border-right-color: var(--fill-color);\n",
              "    }\n",
              "    80% {\n",
              "      border-color: transparent;\n",
              "      border-right-color: var(--fill-color);\n",
              "      border-bottom-color: var(--fill-color);\n",
              "    }\n",
              "    90% {\n",
              "      border-color: transparent;\n",
              "      border-bottom-color: var(--fill-color);\n",
              "    }\n",
              "  }\n",
              "</style>\n",
              "\n",
              "  <script>\n",
              "    async function quickchart(key) {\n",
              "      const quickchartButtonEl =\n",
              "        document.querySelector('#' + key + ' button');\n",
              "      quickchartButtonEl.disabled = true;  // To prevent multiple clicks.\n",
              "      quickchartButtonEl.classList.add('colab-df-spinner');\n",
              "      try {\n",
              "        const charts = await google.colab.kernel.invokeFunction(\n",
              "            'suggestCharts', [key], {});\n",
              "      } catch (error) {\n",
              "        console.error('Error during call to suggestCharts:', error);\n",
              "      }\n",
              "      quickchartButtonEl.classList.remove('colab-df-spinner');\n",
              "      quickchartButtonEl.classList.add('colab-df-quickchart-complete');\n",
              "    }\n",
              "    (() => {\n",
              "      let quickchartButtonEl =\n",
              "        document.querySelector('#df-502b4bbf-0914-47bd-a071-1877515647dc button');\n",
              "      quickchartButtonEl.style.display =\n",
              "        google.colab.kernel.accessAllowed ? 'block' : 'none';\n",
              "    })();\n",
              "  </script>\n",
              "</div>\n",
              "    </div>\n",
              "  </div>\n"
            ],
            "application/vnd.google.colaboratory.intrinsic+json": {
              "type": "dataframe",
              "variable_name": "positive"
            }
          },
          "metadata": {},
          "execution_count": 19
        }
      ],
      "source": [
        "positive = pd.read_csv('positive.csv', sep=';', usecols=[3], names=['text'])\n",
        "positive.head()"
      ]
    },
    {
      "cell_type": "code",
      "execution_count": null,
      "metadata": {
        "id": "rsmSQOE98ib8"
      },
      "outputs": [],
      "source": [
        "positive = pd.read_csv('positive.csv', sep=';', usecols=[3], names=['text'])\n",
        "positive['label'] = ['positive'] * len(positive)\n",
        "negative = pd.read_csv('negative.csv', sep=';', usecols=[3], names=['text'])\n",
        "negative['label'] = ['negative'] * len(negative)\n",
        "df = pd.concat([positive, negative])"
      ]
    },
    {
      "cell_type": "code",
      "execution_count": null,
      "metadata": {
        "id": "znc9rKWk8ib-",
        "outputId": "667e5a59-398f-41dd-d043-91fd463458b6",
        "colab": {
          "base_uri": "https://localhost:8080/",
          "height": 293
        }
      },
      "outputs": [
        {
          "output_type": "execute_result",
          "data": {
            "text/plain": [
              "                                                                                                            text  \\\n",
              "51861                                     @thebestfun1d блин, давай ты вопросы задавать будешь? Я так не могу х)   \n",
              "73629                      Чтобы вещь нашлась, нужно перерыть весь дом и кого-нибудь заподозрить в ее пропаже..)   \n",
              "64612                     RT @domanep: теперь тоже планирую ходить по магазинам в одеяле) http://t.co/SYqPIg2Eb9   \n",
              "70844                              @Yuri_Romanov Ну вот как -то не верится!!!(((   Если только также как сейчас?   \n",
              "70471  @agalitsky солнечно! :) привезите в москву кусочек хорошей погоды, хотя сегодня и здесь солнце весь день!   \n",
              "\n",
              "          label  \n",
              "51861  positive  \n",
              "73629  positive  \n",
              "64612  positive  \n",
              "70844  negative  \n",
              "70471  positive  "
            ],
            "text/html": [
              "\n",
              "  <div id=\"df-db9e1242-bec2-4373-afcc-92384f4bb892\" class=\"colab-df-container\">\n",
              "    <div>\n",
              "<style scoped>\n",
              "    .dataframe tbody tr th:only-of-type {\n",
              "        vertical-align: middle;\n",
              "    }\n",
              "\n",
              "    .dataframe tbody tr th {\n",
              "        vertical-align: top;\n",
              "    }\n",
              "\n",
              "    .dataframe thead th {\n",
              "        text-align: right;\n",
              "    }\n",
              "</style>\n",
              "<table border=\"1\" class=\"dataframe\">\n",
              "  <thead>\n",
              "    <tr style=\"text-align: right;\">\n",
              "      <th></th>\n",
              "      <th>text</th>\n",
              "      <th>label</th>\n",
              "    </tr>\n",
              "  </thead>\n",
              "  <tbody>\n",
              "    <tr>\n",
              "      <th>51861</th>\n",
              "      <td>@thebestfun1d блин, давай ты вопросы задавать будешь? Я так не могу х)</td>\n",
              "      <td>positive</td>\n",
              "    </tr>\n",
              "    <tr>\n",
              "      <th>73629</th>\n",
              "      <td>Чтобы вещь нашлась, нужно перерыть весь дом и кого-нибудь заподозрить в ее пропаже..)</td>\n",
              "      <td>positive</td>\n",
              "    </tr>\n",
              "    <tr>\n",
              "      <th>64612</th>\n",
              "      <td>RT @domanep: теперь тоже планирую ходить по магазинам в одеяле) http://t.co/SYqPIg2Eb9</td>\n",
              "      <td>positive</td>\n",
              "    </tr>\n",
              "    <tr>\n",
              "      <th>70844</th>\n",
              "      <td>@Yuri_Romanov Ну вот как -то не верится!!!(((   Если только также как сейчас?</td>\n",
              "      <td>negative</td>\n",
              "    </tr>\n",
              "    <tr>\n",
              "      <th>70471</th>\n",
              "      <td>@agalitsky солнечно! :) привезите в москву кусочек хорошей погоды, хотя сегодня и здесь солнце весь день!</td>\n",
              "      <td>positive</td>\n",
              "    </tr>\n",
              "  </tbody>\n",
              "</table>\n",
              "</div>\n",
              "    <div class=\"colab-df-buttons\">\n",
              "\n",
              "  <div class=\"colab-df-container\">\n",
              "    <button class=\"colab-df-convert\" onclick=\"convertToInteractive('df-db9e1242-bec2-4373-afcc-92384f4bb892')\"\n",
              "            title=\"Convert this dataframe to an interactive table.\"\n",
              "            style=\"display:none;\">\n",
              "\n",
              "  <svg xmlns=\"http://www.w3.org/2000/svg\" height=\"24px\" viewBox=\"0 -960 960 960\">\n",
              "    <path d=\"M120-120v-720h720v720H120Zm60-500h600v-160H180v160Zm220 220h160v-160H400v160Zm0 220h160v-160H400v160ZM180-400h160v-160H180v160Zm440 0h160v-160H620v160ZM180-180h160v-160H180v160Zm440 0h160v-160H620v160Z\"/>\n",
              "  </svg>\n",
              "    </button>\n",
              "\n",
              "  <style>\n",
              "    .colab-df-container {\n",
              "      display:flex;\n",
              "      gap: 12px;\n",
              "    }\n",
              "\n",
              "    .colab-df-convert {\n",
              "      background-color: #E8F0FE;\n",
              "      border: none;\n",
              "      border-radius: 50%;\n",
              "      cursor: pointer;\n",
              "      display: none;\n",
              "      fill: #1967D2;\n",
              "      height: 32px;\n",
              "      padding: 0 0 0 0;\n",
              "      width: 32px;\n",
              "    }\n",
              "\n",
              "    .colab-df-convert:hover {\n",
              "      background-color: #E2EBFA;\n",
              "      box-shadow: 0px 1px 2px rgba(60, 64, 67, 0.3), 0px 1px 3px 1px rgba(60, 64, 67, 0.15);\n",
              "      fill: #174EA6;\n",
              "    }\n",
              "\n",
              "    .colab-df-buttons div {\n",
              "      margin-bottom: 4px;\n",
              "    }\n",
              "\n",
              "    [theme=dark] .colab-df-convert {\n",
              "      background-color: #3B4455;\n",
              "      fill: #D2E3FC;\n",
              "    }\n",
              "\n",
              "    [theme=dark] .colab-df-convert:hover {\n",
              "      background-color: #434B5C;\n",
              "      box-shadow: 0px 1px 3px 1px rgba(0, 0, 0, 0.15);\n",
              "      filter: drop-shadow(0px 1px 2px rgba(0, 0, 0, 0.3));\n",
              "      fill: #FFFFFF;\n",
              "    }\n",
              "  </style>\n",
              "\n",
              "    <script>\n",
              "      const buttonEl =\n",
              "        document.querySelector('#df-db9e1242-bec2-4373-afcc-92384f4bb892 button.colab-df-convert');\n",
              "      buttonEl.style.display =\n",
              "        google.colab.kernel.accessAllowed ? 'block' : 'none';\n",
              "\n",
              "      async function convertToInteractive(key) {\n",
              "        const element = document.querySelector('#df-db9e1242-bec2-4373-afcc-92384f4bb892');\n",
              "        const dataTable =\n",
              "          await google.colab.kernel.invokeFunction('convertToInteractive',\n",
              "                                                    [key], {});\n",
              "        if (!dataTable) return;\n",
              "\n",
              "        const docLinkHtml = 'Like what you see? Visit the ' +\n",
              "          '<a target=\"_blank\" href=https://colab.research.google.com/notebooks/data_table.ipynb>data table notebook</a>'\n",
              "          + ' to learn more about interactive tables.';\n",
              "        element.innerHTML = '';\n",
              "        dataTable['output_type'] = 'display_data';\n",
              "        await google.colab.output.renderOutput(dataTable, element);\n",
              "        const docLink = document.createElement('div');\n",
              "        docLink.innerHTML = docLinkHtml;\n",
              "        element.appendChild(docLink);\n",
              "      }\n",
              "    </script>\n",
              "  </div>\n",
              "\n",
              "\n",
              "<div id=\"df-2550545e-d169-4565-ba78-efc57855e88b\">\n",
              "  <button class=\"colab-df-quickchart\" onclick=\"quickchart('df-2550545e-d169-4565-ba78-efc57855e88b')\"\n",
              "            title=\"Suggest charts\"\n",
              "            style=\"display:none;\">\n",
              "\n",
              "<svg xmlns=\"http://www.w3.org/2000/svg\" height=\"24px\"viewBox=\"0 0 24 24\"\n",
              "     width=\"24px\">\n",
              "    <g>\n",
              "        <path d=\"M19 3H5c-1.1 0-2 .9-2 2v14c0 1.1.9 2 2 2h14c1.1 0 2-.9 2-2V5c0-1.1-.9-2-2-2zM9 17H7v-7h2v7zm4 0h-2V7h2v10zm4 0h-2v-4h2v4z\"/>\n",
              "    </g>\n",
              "</svg>\n",
              "  </button>\n",
              "\n",
              "<style>\n",
              "  .colab-df-quickchart {\n",
              "      --bg-color: #E8F0FE;\n",
              "      --fill-color: #1967D2;\n",
              "      --hover-bg-color: #E2EBFA;\n",
              "      --hover-fill-color: #174EA6;\n",
              "      --disabled-fill-color: #AAA;\n",
              "      --disabled-bg-color: #DDD;\n",
              "  }\n",
              "\n",
              "  [theme=dark] .colab-df-quickchart {\n",
              "      --bg-color: #3B4455;\n",
              "      --fill-color: #D2E3FC;\n",
              "      --hover-bg-color: #434B5C;\n",
              "      --hover-fill-color: #FFFFFF;\n",
              "      --disabled-bg-color: #3B4455;\n",
              "      --disabled-fill-color: #666;\n",
              "  }\n",
              "\n",
              "  .colab-df-quickchart {\n",
              "    background-color: var(--bg-color);\n",
              "    border: none;\n",
              "    border-radius: 50%;\n",
              "    cursor: pointer;\n",
              "    display: none;\n",
              "    fill: var(--fill-color);\n",
              "    height: 32px;\n",
              "    padding: 0;\n",
              "    width: 32px;\n",
              "  }\n",
              "\n",
              "  .colab-df-quickchart:hover {\n",
              "    background-color: var(--hover-bg-color);\n",
              "    box-shadow: 0 1px 2px rgba(60, 64, 67, 0.3), 0 1px 3px 1px rgba(60, 64, 67, 0.15);\n",
              "    fill: var(--button-hover-fill-color);\n",
              "  }\n",
              "\n",
              "  .colab-df-quickchart-complete:disabled,\n",
              "  .colab-df-quickchart-complete:disabled:hover {\n",
              "    background-color: var(--disabled-bg-color);\n",
              "    fill: var(--disabled-fill-color);\n",
              "    box-shadow: none;\n",
              "  }\n",
              "\n",
              "  .colab-df-spinner {\n",
              "    border: 2px solid var(--fill-color);\n",
              "    border-color: transparent;\n",
              "    border-bottom-color: var(--fill-color);\n",
              "    animation:\n",
              "      spin 1s steps(1) infinite;\n",
              "  }\n",
              "\n",
              "  @keyframes spin {\n",
              "    0% {\n",
              "      border-color: transparent;\n",
              "      border-bottom-color: var(--fill-color);\n",
              "      border-left-color: var(--fill-color);\n",
              "    }\n",
              "    20% {\n",
              "      border-color: transparent;\n",
              "      border-left-color: var(--fill-color);\n",
              "      border-top-color: var(--fill-color);\n",
              "    }\n",
              "    30% {\n",
              "      border-color: transparent;\n",
              "      border-left-color: var(--fill-color);\n",
              "      border-top-color: var(--fill-color);\n",
              "      border-right-color: var(--fill-color);\n",
              "    }\n",
              "    40% {\n",
              "      border-color: transparent;\n",
              "      border-right-color: var(--fill-color);\n",
              "      border-top-color: var(--fill-color);\n",
              "    }\n",
              "    60% {\n",
              "      border-color: transparent;\n",
              "      border-right-color: var(--fill-color);\n",
              "    }\n",
              "    80% {\n",
              "      border-color: transparent;\n",
              "      border-right-color: var(--fill-color);\n",
              "      border-bottom-color: var(--fill-color);\n",
              "    }\n",
              "    90% {\n",
              "      border-color: transparent;\n",
              "      border-bottom-color: var(--fill-color);\n",
              "    }\n",
              "  }\n",
              "</style>\n",
              "\n",
              "  <script>\n",
              "    async function quickchart(key) {\n",
              "      const quickchartButtonEl =\n",
              "        document.querySelector('#' + key + ' button');\n",
              "      quickchartButtonEl.disabled = true;  // To prevent multiple clicks.\n",
              "      quickchartButtonEl.classList.add('colab-df-spinner');\n",
              "      try {\n",
              "        const charts = await google.colab.kernel.invokeFunction(\n",
              "            'suggestCharts', [key], {});\n",
              "      } catch (error) {\n",
              "        console.error('Error during call to suggestCharts:', error);\n",
              "      }\n",
              "      quickchartButtonEl.classList.remove('colab-df-spinner');\n",
              "      quickchartButtonEl.classList.add('colab-df-quickchart-complete');\n",
              "    }\n",
              "    (() => {\n",
              "      let quickchartButtonEl =\n",
              "        document.querySelector('#df-2550545e-d169-4565-ba78-efc57855e88b button');\n",
              "      quickchartButtonEl.style.display =\n",
              "        google.colab.kernel.accessAllowed ? 'block' : 'none';\n",
              "    })();\n",
              "  </script>\n",
              "</div>\n",
              "    </div>\n",
              "  </div>\n"
            ],
            "application/vnd.google.colaboratory.intrinsic+json": {
              "type": "dataframe",
              "summary": "{\n  \"name\": \"df\",\n  \"rows\": 5,\n  \"fields\": [\n    {\n      \"column\": \"text\",\n      \"properties\": {\n        \"dtype\": \"string\",\n        \"num_unique_values\": 5,\n        \"samples\": [\n          \"\\u0427\\u0442\\u043e\\u0431\\u044b \\u0432\\u0435\\u0449\\u044c \\u043d\\u0430\\u0448\\u043b\\u0430\\u0441\\u044c, \\u043d\\u0443\\u0436\\u043d\\u043e \\u043f\\u0435\\u0440\\u0435\\u0440\\u044b\\u0442\\u044c \\u0432\\u0435\\u0441\\u044c \\u0434\\u043e\\u043c \\u0438 \\u043a\\u043e\\u0433\\u043e-\\u043d\\u0438\\u0431\\u0443\\u0434\\u044c \\u0437\\u0430\\u043f\\u043e\\u0434\\u043e\\u0437\\u0440\\u0438\\u0442\\u044c \\u0432 \\u0435\\u0435 \\u043f\\u0440\\u043e\\u043f\\u0430\\u0436\\u0435..)\",\n          \"@agalitsky \\u0441\\u043e\\u043b\\u043d\\u0435\\u0447\\u043d\\u043e! :) \\u043f\\u0440\\u0438\\u0432\\u0435\\u0437\\u0438\\u0442\\u0435 \\u0432 \\u043c\\u043e\\u0441\\u043a\\u0432\\u0443 \\u043a\\u0443\\u0441\\u043e\\u0447\\u0435\\u043a \\u0445\\u043e\\u0440\\u043e\\u0448\\u0435\\u0439 \\u043f\\u043e\\u0433\\u043e\\u0434\\u044b, \\u0445\\u043e\\u0442\\u044f \\u0441\\u0435\\u0433\\u043e\\u0434\\u043d\\u044f \\u0438 \\u0437\\u0434\\u0435\\u0441\\u044c \\u0441\\u043e\\u043b\\u043d\\u0446\\u0435 \\u0432\\u0435\\u0441\\u044c \\u0434\\u0435\\u043d\\u044c!\",\n          \"RT @domanep: \\u0442\\u0435\\u043f\\u0435\\u0440\\u044c \\u0442\\u043e\\u0436\\u0435 \\u043f\\u043b\\u0430\\u043d\\u0438\\u0440\\u0443\\u044e \\u0445\\u043e\\u0434\\u0438\\u0442\\u044c \\u043f\\u043e \\u043c\\u0430\\u0433\\u0430\\u0437\\u0438\\u043d\\u0430\\u043c \\u0432 \\u043e\\u0434\\u0435\\u044f\\u043b\\u0435) http://t.co/SYqPIg2Eb9\"\n        ],\n        \"semantic_type\": \"\",\n        \"description\": \"\"\n      }\n    },\n    {\n      \"column\": \"label\",\n      \"properties\": {\n        \"dtype\": \"category\",\n        \"num_unique_values\": 2,\n        \"samples\": [\n          \"negative\",\n          \"positive\"\n        ],\n        \"semantic_type\": \"\",\n        \"description\": \"\"\n      }\n    }\n  ]\n}"
            }
          },
          "metadata": {},
          "execution_count": 22
        }
      ],
      "source": [
        "df.sample(5)"
      ]
    },
    {
      "cell_type": "code",
      "execution_count": null,
      "metadata": {
        "id": "OUI6cwLm7Bkd",
        "outputId": "daf25e63-62a2-4bc4-dfb7-4d5c0b23b69b",
        "colab": {
          "base_uri": "https://localhost:8080/"
        }
      },
      "outputs": [
        {
          "output_type": "execute_result",
          "data": {
            "text/plain": [
              "(226834, 2)"
            ]
          },
          "metadata": {},
          "execution_count": 6
        }
      ],
      "source": [
        "df.shape"
      ]
    },
    {
      "cell_type": "markdown",
      "metadata": {
        "id": "bg9N0Qcm7Bke"
      },
      "source": [
        "Предобработаем текст: переведём в список лемм."
      ]
    },
    {
      "cell_type": "code",
      "source": [
        "! pip install pymorphy2"
      ],
      "metadata": {
        "colab": {
          "base_uri": "https://localhost:8080/"
        },
        "collapsed": true,
        "id": "rOBXinfPEZLa",
        "outputId": "2f345e43-95fb-4885-dd0b-1943d30479bb"
      },
      "execution_count": null,
      "outputs": [
        {
          "output_type": "stream",
          "name": "stdout",
          "text": [
            "Requirement already satisfied: pymorphy2 in /usr/local/lib/python3.10/dist-packages (0.9.1)\n",
            "Requirement already satisfied: dawg-python>=0.7.1 in /usr/local/lib/python3.10/dist-packages (from pymorphy2) (0.7.2)\n",
            "Requirement already satisfied: pymorphy2-dicts-ru<3.0,>=2.4 in /usr/local/lib/python3.10/dist-packages (from pymorphy2) (2.4.417127.4579844)\n",
            "Requirement already satisfied: docopt>=0.6 in /usr/local/lib/python3.10/dist-packages (from pymorphy2) (0.6.2)\n"
          ]
        }
      ]
    },
    {
      "cell_type": "code",
      "execution_count": null,
      "metadata": {
        "id": "cVuslecv7Bke"
      },
      "outputs": [],
      "source": [
        "import re\n",
        "from pymorphy2 import MorphAnalyzer\n",
        "from functools import lru_cache\n",
        "#LRU (least recently used) кеш - кеш с конечным размером,\n",
        "# где часто используемые записи вытесняют прочие.\n",
        "from nltk.corpus import stopwords"
      ]
    },
    {
      "cell_type": "code",
      "source": [
        "import nltk\n",
        "nltk.download('stopwords')"
      ],
      "metadata": {
        "colab": {
          "base_uri": "https://localhost:8080/"
        },
        "id": "sXMie6GFGFQ0",
        "outputId": "19f37fa8-51b2-4c9a-cc89-fda3a4107063"
      },
      "execution_count": null,
      "outputs": [
        {
          "output_type": "stream",
          "name": "stderr",
          "text": [
            "[nltk_data] Downloading package stopwords to /root/nltk_data...\n",
            "[nltk_data]   Package stopwords is already up-to-date!\n"
          ]
        },
        {
          "output_type": "execute_result",
          "data": {
            "text/plain": [
              "True"
            ]
          },
          "metadata": {},
          "execution_count": 4
        }
      ]
    },
    {
      "cell_type": "code",
      "execution_count": null,
      "metadata": {
        "id": "H23-mtwe7Bke"
      },
      "outputs": [],
      "source": [
        "m = MorphAnalyzer()\n",
        "regex = re.compile(\"[А-ЯЁа-яёA-z]+\")  # для буквенных сочетаний (=слов)\n",
        "\n",
        "def words_only(text, regex=regex):\n",
        "    try:\n",
        "        return regex.findall(text.lower())\n",
        "    except:\n",
        "        return []"
      ]
    },
    {
      "cell_type": "code",
      "execution_count": null,
      "metadata": {
        "id": "skQPXAUP7Bkf"
      },
      "outputs": [],
      "source": [
        "@lru_cache(maxsize=128)\n",
        "def lemmatize_word(token, pymorphy=m):\n",
        "    return pymorphy.parse(token)[0].normal_form\n",
        "\n",
        "def lemmatize_text(text):\n",
        "    return [lemmatize_word(w) for w in text]\n",
        "\n",
        "mystopwords = stopwords.words('russian')\n",
        "def remove_stopwords(lemmas, stopwords = mystopwords):\n",
        "    return [w for w in lemmas if not w in stopwords and len(w) > 2]\n",
        "\n",
        "def clean_text(text):\n",
        "    tokens = words_only(text)\n",
        "    lemmas = lemmatize_text(tokens)\n",
        "\n",
        "    return ' '.join(remove_stopwords(lemmas))"
      ]
    },
    {
      "cell_type": "code",
      "source": [
        "from tqdm import tqdm"
      ],
      "metadata": {
        "id": "HOxi2953NfOl"
      },
      "execution_count": null,
      "outputs": []
    },
    {
      "cell_type": "code",
      "execution_count": null,
      "metadata": {
        "id": "FZ-Y6VSj7Bkf",
        "outputId": "8a63e348-1c60-4537-99c3-5a6502f8227e",
        "colab": {
          "base_uri": "https://localhost:8080/",
          "height": 397
        }
      },
      "outputs": [
        {
          "output_type": "stream",
          "name": "stderr",
          "text": [
            "226834it [08:11, 461.15it/s]\n"
          ]
        },
        {
          "output_type": "execute_result",
          "data": {
            "text/plain": [
              "                                                                                                                                                   text  \\\n",
              "17209  RT @Atvechayu: У каждого есть друг, который: \\n1) Ест как свинья и не толстеет; \\n2) Постоянно бухает; \\n3) Постоянно ругается матом; \\n4) Ржач…   \n",
              "74329                                             Переделала уже много дел.теперь можно немного поспать.есть ещё пару часиков...)главное не проспать:-)   \n",
              "71785                                                                                         RT @Tbl_HA_MAPCE: @chlenschmidta не за что бабуська)))))0   \n",
              "2851                                                                                        Как же лажает ЛаБри в Chaos in Motion. Это ж ужас просто :(   \n",
              "17840                                                                          @bouvens ладно, тогда спасай от смерти, как хочешь)) и от какой хочешь))   \n",
              "\n",
              "          label  \\\n",
              "17209  positive   \n",
              "74329  positive   \n",
              "71785  positive   \n",
              "2851   negative   \n",
              "17840  positive   \n",
              "\n",
              "                                                                                       lemmas  \n",
              "17209  atvechayu каждый друг который свинья толстеть постоянно бухать постоянно ругаться ржач  \n",
              "74329                             переделать дело немного поспать пара часик главное проспать  \n",
              "71785                                                     tbl_ha_mapce chlenschmidta бабуська  \n",
              "2851                                                   лажаета лабри chaos motion ужас просто  \n",
              "17840                                             bouvens ладный спасать смерть хотеть хотеть  "
            ],
            "text/html": [
              "\n",
              "  <div id=\"df-73bbf3d5-1708-4689-ae9b-65735c1d8d3a\" class=\"colab-df-container\">\n",
              "    <div>\n",
              "<style scoped>\n",
              "    .dataframe tbody tr th:only-of-type {\n",
              "        vertical-align: middle;\n",
              "    }\n",
              "\n",
              "    .dataframe tbody tr th {\n",
              "        vertical-align: top;\n",
              "    }\n",
              "\n",
              "    .dataframe thead th {\n",
              "        text-align: right;\n",
              "    }\n",
              "</style>\n",
              "<table border=\"1\" class=\"dataframe\">\n",
              "  <thead>\n",
              "    <tr style=\"text-align: right;\">\n",
              "      <th></th>\n",
              "      <th>text</th>\n",
              "      <th>label</th>\n",
              "      <th>lemmas</th>\n",
              "    </tr>\n",
              "  </thead>\n",
              "  <tbody>\n",
              "    <tr>\n",
              "      <th>17209</th>\n",
              "      <td>RT @Atvechayu: У каждого есть друг, который: \\n1) Ест как свинья и не толстеет; \\n2) Постоянно бухает; \\n3) Постоянно ругается матом; \\n4) Ржач…</td>\n",
              "      <td>positive</td>\n",
              "      <td>atvechayu каждый друг который свинья толстеть постоянно бухать постоянно ругаться ржач</td>\n",
              "    </tr>\n",
              "    <tr>\n",
              "      <th>74329</th>\n",
              "      <td>Переделала уже много дел.теперь можно немного поспать.есть ещё пару часиков...)главное не проспать:-)</td>\n",
              "      <td>positive</td>\n",
              "      <td>переделать дело немного поспать пара часик главное проспать</td>\n",
              "    </tr>\n",
              "    <tr>\n",
              "      <th>71785</th>\n",
              "      <td>RT @Tbl_HA_MAPCE: @chlenschmidta не за что бабуська)))))0</td>\n",
              "      <td>positive</td>\n",
              "      <td>tbl_ha_mapce chlenschmidta бабуська</td>\n",
              "    </tr>\n",
              "    <tr>\n",
              "      <th>2851</th>\n",
              "      <td>Как же лажает ЛаБри в Chaos in Motion. Это ж ужас просто :(</td>\n",
              "      <td>negative</td>\n",
              "      <td>лажаета лабри chaos motion ужас просто</td>\n",
              "    </tr>\n",
              "    <tr>\n",
              "      <th>17840</th>\n",
              "      <td>@bouvens ладно, тогда спасай от смерти, как хочешь)) и от какой хочешь))</td>\n",
              "      <td>positive</td>\n",
              "      <td>bouvens ладный спасать смерть хотеть хотеть</td>\n",
              "    </tr>\n",
              "  </tbody>\n",
              "</table>\n",
              "</div>\n",
              "    <div class=\"colab-df-buttons\">\n",
              "\n",
              "  <div class=\"colab-df-container\">\n",
              "    <button class=\"colab-df-convert\" onclick=\"convertToInteractive('df-73bbf3d5-1708-4689-ae9b-65735c1d8d3a')\"\n",
              "            title=\"Convert this dataframe to an interactive table.\"\n",
              "            style=\"display:none;\">\n",
              "\n",
              "  <svg xmlns=\"http://www.w3.org/2000/svg\" height=\"24px\" viewBox=\"0 -960 960 960\">\n",
              "    <path d=\"M120-120v-720h720v720H120Zm60-500h600v-160H180v160Zm220 220h160v-160H400v160Zm0 220h160v-160H400v160ZM180-400h160v-160H180v160Zm440 0h160v-160H620v160ZM180-180h160v-160H180v160Zm440 0h160v-160H620v160Z\"/>\n",
              "  </svg>\n",
              "    </button>\n",
              "\n",
              "  <style>\n",
              "    .colab-df-container {\n",
              "      display:flex;\n",
              "      gap: 12px;\n",
              "    }\n",
              "\n",
              "    .colab-df-convert {\n",
              "      background-color: #E8F0FE;\n",
              "      border: none;\n",
              "      border-radius: 50%;\n",
              "      cursor: pointer;\n",
              "      display: none;\n",
              "      fill: #1967D2;\n",
              "      height: 32px;\n",
              "      padding: 0 0 0 0;\n",
              "      width: 32px;\n",
              "    }\n",
              "\n",
              "    .colab-df-convert:hover {\n",
              "      background-color: #E2EBFA;\n",
              "      box-shadow: 0px 1px 2px rgba(60, 64, 67, 0.3), 0px 1px 3px 1px rgba(60, 64, 67, 0.15);\n",
              "      fill: #174EA6;\n",
              "    }\n",
              "\n",
              "    .colab-df-buttons div {\n",
              "      margin-bottom: 4px;\n",
              "    }\n",
              "\n",
              "    [theme=dark] .colab-df-convert {\n",
              "      background-color: #3B4455;\n",
              "      fill: #D2E3FC;\n",
              "    }\n",
              "\n",
              "    [theme=dark] .colab-df-convert:hover {\n",
              "      background-color: #434B5C;\n",
              "      box-shadow: 0px 1px 3px 1px rgba(0, 0, 0, 0.15);\n",
              "      filter: drop-shadow(0px 1px 2px rgba(0, 0, 0, 0.3));\n",
              "      fill: #FFFFFF;\n",
              "    }\n",
              "  </style>\n",
              "\n",
              "    <script>\n",
              "      const buttonEl =\n",
              "        document.querySelector('#df-73bbf3d5-1708-4689-ae9b-65735c1d8d3a button.colab-df-convert');\n",
              "      buttonEl.style.display =\n",
              "        google.colab.kernel.accessAllowed ? 'block' : 'none';\n",
              "\n",
              "      async function convertToInteractive(key) {\n",
              "        const element = document.querySelector('#df-73bbf3d5-1708-4689-ae9b-65735c1d8d3a');\n",
              "        const dataTable =\n",
              "          await google.colab.kernel.invokeFunction('convertToInteractive',\n",
              "                                                    [key], {});\n",
              "        if (!dataTable) return;\n",
              "\n",
              "        const docLinkHtml = 'Like what you see? Visit the ' +\n",
              "          '<a target=\"_blank\" href=https://colab.research.google.com/notebooks/data_table.ipynb>data table notebook</a>'\n",
              "          + ' to learn more about interactive tables.';\n",
              "        element.innerHTML = '';\n",
              "        dataTable['output_type'] = 'display_data';\n",
              "        await google.colab.output.renderOutput(dataTable, element);\n",
              "        const docLink = document.createElement('div');\n",
              "        docLink.innerHTML = docLinkHtml;\n",
              "        element.appendChild(docLink);\n",
              "      }\n",
              "    </script>\n",
              "  </div>\n",
              "\n",
              "\n",
              "<div id=\"df-9445cf5b-b55c-4766-82f5-88b74b9bec84\">\n",
              "  <button class=\"colab-df-quickchart\" onclick=\"quickchart('df-9445cf5b-b55c-4766-82f5-88b74b9bec84')\"\n",
              "            title=\"Suggest charts\"\n",
              "            style=\"display:none;\">\n",
              "\n",
              "<svg xmlns=\"http://www.w3.org/2000/svg\" height=\"24px\"viewBox=\"0 0 24 24\"\n",
              "     width=\"24px\">\n",
              "    <g>\n",
              "        <path d=\"M19 3H5c-1.1 0-2 .9-2 2v14c0 1.1.9 2 2 2h14c1.1 0 2-.9 2-2V5c0-1.1-.9-2-2-2zM9 17H7v-7h2v7zm4 0h-2V7h2v10zm4 0h-2v-4h2v4z\"/>\n",
              "    </g>\n",
              "</svg>\n",
              "  </button>\n",
              "\n",
              "<style>\n",
              "  .colab-df-quickchart {\n",
              "      --bg-color: #E8F0FE;\n",
              "      --fill-color: #1967D2;\n",
              "      --hover-bg-color: #E2EBFA;\n",
              "      --hover-fill-color: #174EA6;\n",
              "      --disabled-fill-color: #AAA;\n",
              "      --disabled-bg-color: #DDD;\n",
              "  }\n",
              "\n",
              "  [theme=dark] .colab-df-quickchart {\n",
              "      --bg-color: #3B4455;\n",
              "      --fill-color: #D2E3FC;\n",
              "      --hover-bg-color: #434B5C;\n",
              "      --hover-fill-color: #FFFFFF;\n",
              "      --disabled-bg-color: #3B4455;\n",
              "      --disabled-fill-color: #666;\n",
              "  }\n",
              "\n",
              "  .colab-df-quickchart {\n",
              "    background-color: var(--bg-color);\n",
              "    border: none;\n",
              "    border-radius: 50%;\n",
              "    cursor: pointer;\n",
              "    display: none;\n",
              "    fill: var(--fill-color);\n",
              "    height: 32px;\n",
              "    padding: 0;\n",
              "    width: 32px;\n",
              "  }\n",
              "\n",
              "  .colab-df-quickchart:hover {\n",
              "    background-color: var(--hover-bg-color);\n",
              "    box-shadow: 0 1px 2px rgba(60, 64, 67, 0.3), 0 1px 3px 1px rgba(60, 64, 67, 0.15);\n",
              "    fill: var(--button-hover-fill-color);\n",
              "  }\n",
              "\n",
              "  .colab-df-quickchart-complete:disabled,\n",
              "  .colab-df-quickchart-complete:disabled:hover {\n",
              "    background-color: var(--disabled-bg-color);\n",
              "    fill: var(--disabled-fill-color);\n",
              "    box-shadow: none;\n",
              "  }\n",
              "\n",
              "  .colab-df-spinner {\n",
              "    border: 2px solid var(--fill-color);\n",
              "    border-color: transparent;\n",
              "    border-bottom-color: var(--fill-color);\n",
              "    animation:\n",
              "      spin 1s steps(1) infinite;\n",
              "  }\n",
              "\n",
              "  @keyframes spin {\n",
              "    0% {\n",
              "      border-color: transparent;\n",
              "      border-bottom-color: var(--fill-color);\n",
              "      border-left-color: var(--fill-color);\n",
              "    }\n",
              "    20% {\n",
              "      border-color: transparent;\n",
              "      border-left-color: var(--fill-color);\n",
              "      border-top-color: var(--fill-color);\n",
              "    }\n",
              "    30% {\n",
              "      border-color: transparent;\n",
              "      border-left-color: var(--fill-color);\n",
              "      border-top-color: var(--fill-color);\n",
              "      border-right-color: var(--fill-color);\n",
              "    }\n",
              "    40% {\n",
              "      border-color: transparent;\n",
              "      border-right-color: var(--fill-color);\n",
              "      border-top-color: var(--fill-color);\n",
              "    }\n",
              "    60% {\n",
              "      border-color: transparent;\n",
              "      border-right-color: var(--fill-color);\n",
              "    }\n",
              "    80% {\n",
              "      border-color: transparent;\n",
              "      border-right-color: var(--fill-color);\n",
              "      border-bottom-color: var(--fill-color);\n",
              "    }\n",
              "    90% {\n",
              "      border-color: transparent;\n",
              "      border-bottom-color: var(--fill-color);\n",
              "    }\n",
              "  }\n",
              "</style>\n",
              "\n",
              "  <script>\n",
              "    async function quickchart(key) {\n",
              "      const quickchartButtonEl =\n",
              "        document.querySelector('#' + key + ' button');\n",
              "      quickchartButtonEl.disabled = true;  // To prevent multiple clicks.\n",
              "      quickchartButtonEl.classList.add('colab-df-spinner');\n",
              "      try {\n",
              "        const charts = await google.colab.kernel.invokeFunction(\n",
              "            'suggestCharts', [key], {});\n",
              "      } catch (error) {\n",
              "        console.error('Error during call to suggestCharts:', error);\n",
              "      }\n",
              "      quickchartButtonEl.classList.remove('colab-df-spinner');\n",
              "      quickchartButtonEl.classList.add('colab-df-quickchart-complete');\n",
              "    }\n",
              "    (() => {\n",
              "      let quickchartButtonEl =\n",
              "        document.querySelector('#df-9445cf5b-b55c-4766-82f5-88b74b9bec84 button');\n",
              "      quickchartButtonEl.style.display =\n",
              "        google.colab.kernel.accessAllowed ? 'block' : 'none';\n",
              "    })();\n",
              "  </script>\n",
              "</div>\n",
              "    </div>\n",
              "  </div>\n"
            ],
            "application/vnd.google.colaboratory.intrinsic+json": {
              "type": "dataframe",
              "summary": "{\n  \"name\": \"df\",\n  \"rows\": 5,\n  \"fields\": [\n    {\n      \"column\": \"text\",\n      \"properties\": {\n        \"dtype\": \"string\",\n        \"num_unique_values\": 5,\n        \"samples\": [\n          \"\\u041f\\u0435\\u0440\\u0435\\u0434\\u0435\\u043b\\u0430\\u043b\\u0430 \\u0443\\u0436\\u0435 \\u043c\\u043d\\u043e\\u0433\\u043e \\u0434\\u0435\\u043b.\\u0442\\u0435\\u043f\\u0435\\u0440\\u044c \\u043c\\u043e\\u0436\\u043d\\u043e \\u043d\\u0435\\u043c\\u043d\\u043e\\u0433\\u043e \\u043f\\u043e\\u0441\\u043f\\u0430\\u0442\\u044c.\\u0435\\u0441\\u0442\\u044c \\u0435\\u0449\\u0451 \\u043f\\u0430\\u0440\\u0443 \\u0447\\u0430\\u0441\\u0438\\u043a\\u043e\\u0432...)\\u0433\\u043b\\u0430\\u0432\\u043d\\u043e\\u0435 \\u043d\\u0435 \\u043f\\u0440\\u043e\\u0441\\u043f\\u0430\\u0442\\u044c:-)\",\n          \"@bouvens \\u043b\\u0430\\u0434\\u043d\\u043e, \\u0442\\u043e\\u0433\\u0434\\u0430 \\u0441\\u043f\\u0430\\u0441\\u0430\\u0439 \\u043e\\u0442 \\u0441\\u043c\\u0435\\u0440\\u0442\\u0438, \\u043a\\u0430\\u043a \\u0445\\u043e\\u0447\\u0435\\u0448\\u044c)) \\u0438 \\u043e\\u0442 \\u043a\\u0430\\u043a\\u043e\\u0439 \\u0445\\u043e\\u0447\\u0435\\u0448\\u044c))\",\n          \"RT @Tbl_HA_MAPCE: @chlenschmidta \\u043d\\u0435 \\u0437\\u0430 \\u0447\\u0442\\u043e \\u0431\\u0430\\u0431\\u0443\\u0441\\u044c\\u043a\\u0430)))))0\"\n        ],\n        \"semantic_type\": \"\",\n        \"description\": \"\"\n      }\n    },\n    {\n      \"column\": \"label\",\n      \"properties\": {\n        \"dtype\": \"category\",\n        \"num_unique_values\": 2,\n        \"samples\": [\n          \"negative\",\n          \"positive\"\n        ],\n        \"semantic_type\": \"\",\n        \"description\": \"\"\n      }\n    },\n    {\n      \"column\": \"lemmas\",\n      \"properties\": {\n        \"dtype\": \"string\",\n        \"num_unique_values\": 5,\n        \"samples\": [\n          \"\\u043f\\u0435\\u0440\\u0435\\u0434\\u0435\\u043b\\u0430\\u0442\\u044c \\u0434\\u0435\\u043b\\u043e \\u043d\\u0435\\u043c\\u043d\\u043e\\u0433\\u043e \\u043f\\u043e\\u0441\\u043f\\u0430\\u0442\\u044c \\u043f\\u0430\\u0440\\u0430 \\u0447\\u0430\\u0441\\u0438\\u043a \\u0433\\u043b\\u0430\\u0432\\u043d\\u043e\\u0435 \\u043f\\u0440\\u043e\\u0441\\u043f\\u0430\\u0442\\u044c\",\n          \"bouvens \\u043b\\u0430\\u0434\\u043d\\u044b\\u0439 \\u0441\\u043f\\u0430\\u0441\\u0430\\u0442\\u044c \\u0441\\u043c\\u0435\\u0440\\u0442\\u044c \\u0445\\u043e\\u0442\\u0435\\u0442\\u044c \\u0445\\u043e\\u0442\\u0435\\u0442\\u044c\"\n        ],\n        \"semantic_type\": \"\",\n        \"description\": \"\"\n      }\n    }\n  ]\n}"
            }
          },
          "metadata": {},
          "execution_count": 15
        }
      ],
      "source": [
        "lemmas = list(tqdm(map(clean_text, df['text'])))  # это занимает 8 минут\n",
        "\n",
        "df['lemmas'] = lemmas\n",
        "df.sample(5)"
      ]
    },
    {
      "cell_type": "code",
      "source": [
        "df.to_csv('twit_lemmatized.tsv', sep='\\t', encoding='utf-8')"
      ],
      "metadata": {
        "id": "e48xNlmhGUSt"
      },
      "execution_count": null,
      "outputs": []
    },
    {
      "cell_type": "code",
      "source": [
        "df = pd.read_csv('twit_lemmatized.tsv', sep='\\t', index_col=0, encoding='utf-8')\n",
        "df.lemmas = df.lemmas.values.astype('U')\n",
        "df.sample(5)"
      ],
      "metadata": {
        "colab": {
          "base_uri": "https://localhost:8080/",
          "height": 310
        },
        "id": "K6bauKF6HS9o",
        "outputId": "fdf80de6-f3ed-4682-9756-7eed6e04705f"
      },
      "execution_count": null,
      "outputs": [
        {
          "output_type": "execute_result",
          "data": {
            "text/plain": [
              "                                                               text     label  \\\n",
              "33177   @ndjz1997 нам только вчера сказали на него деньги сдавать!(  negative   \n",
              "94450   1с: зарплата и управление персоналомпрограмма курса ( 40 ак  negative   \n",
              "45299            @uh_uh_uh_ сук,откуда они в бутылочке-то взялись (  negative   \n",
              "102322                  @saida_muser сижу на истории, уже 2 урок :(  negative   \n",
              "87931                   Блин, нужно ехать в жопу мира в Металлург((  negative   \n",
              "\n",
              "                                              lemmas  \n",
              "33177              ndjz вчера сказать деньга сдавать  \n",
              "94450   зарплата управление персоналомпрограмма курс  \n",
              "45299        uh_uh_uh_ сука откуда бутылочка взяться  \n",
              "102322               saida_muser сидеть история урок  \n",
              "87931                блин нужно ехать жопа металлург  "
            ],
            "text/html": [
              "\n",
              "  <div id=\"df-f5ba8076-3476-4583-add2-025d2555e213\" class=\"colab-df-container\">\n",
              "    <div>\n",
              "<style scoped>\n",
              "    .dataframe tbody tr th:only-of-type {\n",
              "        vertical-align: middle;\n",
              "    }\n",
              "\n",
              "    .dataframe tbody tr th {\n",
              "        vertical-align: top;\n",
              "    }\n",
              "\n",
              "    .dataframe thead th {\n",
              "        text-align: right;\n",
              "    }\n",
              "</style>\n",
              "<table border=\"1\" class=\"dataframe\">\n",
              "  <thead>\n",
              "    <tr style=\"text-align: right;\">\n",
              "      <th></th>\n",
              "      <th>text</th>\n",
              "      <th>label</th>\n",
              "      <th>lemmas</th>\n",
              "    </tr>\n",
              "  </thead>\n",
              "  <tbody>\n",
              "    <tr>\n",
              "      <th>33177</th>\n",
              "      <td>@ndjz1997 нам только вчера сказали на него деньги сдавать!(</td>\n",
              "      <td>negative</td>\n",
              "      <td>ndjz вчера сказать деньга сдавать</td>\n",
              "    </tr>\n",
              "    <tr>\n",
              "      <th>94450</th>\n",
              "      <td>1с: зарплата и управление персоналомпрограмма курса ( 40 ак</td>\n",
              "      <td>negative</td>\n",
              "      <td>зарплата управление персоналомпрограмма курс</td>\n",
              "    </tr>\n",
              "    <tr>\n",
              "      <th>45299</th>\n",
              "      <td>@uh_uh_uh_ сук,откуда они в бутылочке-то взялись (</td>\n",
              "      <td>negative</td>\n",
              "      <td>uh_uh_uh_ сука откуда бутылочка взяться</td>\n",
              "    </tr>\n",
              "    <tr>\n",
              "      <th>102322</th>\n",
              "      <td>@saida_muser сижу на истории, уже 2 урок :(</td>\n",
              "      <td>negative</td>\n",
              "      <td>saida_muser сидеть история урок</td>\n",
              "    </tr>\n",
              "    <tr>\n",
              "      <th>87931</th>\n",
              "      <td>Блин, нужно ехать в жопу мира в Металлург((</td>\n",
              "      <td>negative</td>\n",
              "      <td>блин нужно ехать жопа металлург</td>\n",
              "    </tr>\n",
              "  </tbody>\n",
              "</table>\n",
              "</div>\n",
              "    <div class=\"colab-df-buttons\">\n",
              "\n",
              "  <div class=\"colab-df-container\">\n",
              "    <button class=\"colab-df-convert\" onclick=\"convertToInteractive('df-f5ba8076-3476-4583-add2-025d2555e213')\"\n",
              "            title=\"Convert this dataframe to an interactive table.\"\n",
              "            style=\"display:none;\">\n",
              "\n",
              "  <svg xmlns=\"http://www.w3.org/2000/svg\" height=\"24px\" viewBox=\"0 -960 960 960\">\n",
              "    <path d=\"M120-120v-720h720v720H120Zm60-500h600v-160H180v160Zm220 220h160v-160H400v160Zm0 220h160v-160H400v160ZM180-400h160v-160H180v160Zm440 0h160v-160H620v160ZM180-180h160v-160H180v160Zm440 0h160v-160H620v160Z\"/>\n",
              "  </svg>\n",
              "    </button>\n",
              "\n",
              "  <style>\n",
              "    .colab-df-container {\n",
              "      display:flex;\n",
              "      gap: 12px;\n",
              "    }\n",
              "\n",
              "    .colab-df-convert {\n",
              "      background-color: #E8F0FE;\n",
              "      border: none;\n",
              "      border-radius: 50%;\n",
              "      cursor: pointer;\n",
              "      display: none;\n",
              "      fill: #1967D2;\n",
              "      height: 32px;\n",
              "      padding: 0 0 0 0;\n",
              "      width: 32px;\n",
              "    }\n",
              "\n",
              "    .colab-df-convert:hover {\n",
              "      background-color: #E2EBFA;\n",
              "      box-shadow: 0px 1px 2px rgba(60, 64, 67, 0.3), 0px 1px 3px 1px rgba(60, 64, 67, 0.15);\n",
              "      fill: #174EA6;\n",
              "    }\n",
              "\n",
              "    .colab-df-buttons div {\n",
              "      margin-bottom: 4px;\n",
              "    }\n",
              "\n",
              "    [theme=dark] .colab-df-convert {\n",
              "      background-color: #3B4455;\n",
              "      fill: #D2E3FC;\n",
              "    }\n",
              "\n",
              "    [theme=dark] .colab-df-convert:hover {\n",
              "      background-color: #434B5C;\n",
              "      box-shadow: 0px 1px 3px 1px rgba(0, 0, 0, 0.15);\n",
              "      filter: drop-shadow(0px 1px 2px rgba(0, 0, 0, 0.3));\n",
              "      fill: #FFFFFF;\n",
              "    }\n",
              "  </style>\n",
              "\n",
              "    <script>\n",
              "      const buttonEl =\n",
              "        document.querySelector('#df-f5ba8076-3476-4583-add2-025d2555e213 button.colab-df-convert');\n",
              "      buttonEl.style.display =\n",
              "        google.colab.kernel.accessAllowed ? 'block' : 'none';\n",
              "\n",
              "      async function convertToInteractive(key) {\n",
              "        const element = document.querySelector('#df-f5ba8076-3476-4583-add2-025d2555e213');\n",
              "        const dataTable =\n",
              "          await google.colab.kernel.invokeFunction('convertToInteractive',\n",
              "                                                    [key], {});\n",
              "        if (!dataTable) return;\n",
              "\n",
              "        const docLinkHtml = 'Like what you see? Visit the ' +\n",
              "          '<a target=\"_blank\" href=https://colab.research.google.com/notebooks/data_table.ipynb>data table notebook</a>'\n",
              "          + ' to learn more about interactive tables.';\n",
              "        element.innerHTML = '';\n",
              "        dataTable['output_type'] = 'display_data';\n",
              "        await google.colab.output.renderOutput(dataTable, element);\n",
              "        const docLink = document.createElement('div');\n",
              "        docLink.innerHTML = docLinkHtml;\n",
              "        element.appendChild(docLink);\n",
              "      }\n",
              "    </script>\n",
              "  </div>\n",
              "\n",
              "\n",
              "<div id=\"df-5e9005a8-38ea-47bc-adf3-d4cf86698204\">\n",
              "  <button class=\"colab-df-quickchart\" onclick=\"quickchart('df-5e9005a8-38ea-47bc-adf3-d4cf86698204')\"\n",
              "            title=\"Suggest charts\"\n",
              "            style=\"display:none;\">\n",
              "\n",
              "<svg xmlns=\"http://www.w3.org/2000/svg\" height=\"24px\"viewBox=\"0 0 24 24\"\n",
              "     width=\"24px\">\n",
              "    <g>\n",
              "        <path d=\"M19 3H5c-1.1 0-2 .9-2 2v14c0 1.1.9 2 2 2h14c1.1 0 2-.9 2-2V5c0-1.1-.9-2-2-2zM9 17H7v-7h2v7zm4 0h-2V7h2v10zm4 0h-2v-4h2v4z\"/>\n",
              "    </g>\n",
              "</svg>\n",
              "  </button>\n",
              "\n",
              "<style>\n",
              "  .colab-df-quickchart {\n",
              "      --bg-color: #E8F0FE;\n",
              "      --fill-color: #1967D2;\n",
              "      --hover-bg-color: #E2EBFA;\n",
              "      --hover-fill-color: #174EA6;\n",
              "      --disabled-fill-color: #AAA;\n",
              "      --disabled-bg-color: #DDD;\n",
              "  }\n",
              "\n",
              "  [theme=dark] .colab-df-quickchart {\n",
              "      --bg-color: #3B4455;\n",
              "      --fill-color: #D2E3FC;\n",
              "      --hover-bg-color: #434B5C;\n",
              "      --hover-fill-color: #FFFFFF;\n",
              "      --disabled-bg-color: #3B4455;\n",
              "      --disabled-fill-color: #666;\n",
              "  }\n",
              "\n",
              "  .colab-df-quickchart {\n",
              "    background-color: var(--bg-color);\n",
              "    border: none;\n",
              "    border-radius: 50%;\n",
              "    cursor: pointer;\n",
              "    display: none;\n",
              "    fill: var(--fill-color);\n",
              "    height: 32px;\n",
              "    padding: 0;\n",
              "    width: 32px;\n",
              "  }\n",
              "\n",
              "  .colab-df-quickchart:hover {\n",
              "    background-color: var(--hover-bg-color);\n",
              "    box-shadow: 0 1px 2px rgba(60, 64, 67, 0.3), 0 1px 3px 1px rgba(60, 64, 67, 0.15);\n",
              "    fill: var(--button-hover-fill-color);\n",
              "  }\n",
              "\n",
              "  .colab-df-quickchart-complete:disabled,\n",
              "  .colab-df-quickchart-complete:disabled:hover {\n",
              "    background-color: var(--disabled-bg-color);\n",
              "    fill: var(--disabled-fill-color);\n",
              "    box-shadow: none;\n",
              "  }\n",
              "\n",
              "  .colab-df-spinner {\n",
              "    border: 2px solid var(--fill-color);\n",
              "    border-color: transparent;\n",
              "    border-bottom-color: var(--fill-color);\n",
              "    animation:\n",
              "      spin 1s steps(1) infinite;\n",
              "  }\n",
              "\n",
              "  @keyframes spin {\n",
              "    0% {\n",
              "      border-color: transparent;\n",
              "      border-bottom-color: var(--fill-color);\n",
              "      border-left-color: var(--fill-color);\n",
              "    }\n",
              "    20% {\n",
              "      border-color: transparent;\n",
              "      border-left-color: var(--fill-color);\n",
              "      border-top-color: var(--fill-color);\n",
              "    }\n",
              "    30% {\n",
              "      border-color: transparent;\n",
              "      border-left-color: var(--fill-color);\n",
              "      border-top-color: var(--fill-color);\n",
              "      border-right-color: var(--fill-color);\n",
              "    }\n",
              "    40% {\n",
              "      border-color: transparent;\n",
              "      border-right-color: var(--fill-color);\n",
              "      border-top-color: var(--fill-color);\n",
              "    }\n",
              "    60% {\n",
              "      border-color: transparent;\n",
              "      border-right-color: var(--fill-color);\n",
              "    }\n",
              "    80% {\n",
              "      border-color: transparent;\n",
              "      border-right-color: var(--fill-color);\n",
              "      border-bottom-color: var(--fill-color);\n",
              "    }\n",
              "    90% {\n",
              "      border-color: transparent;\n",
              "      border-bottom-color: var(--fill-color);\n",
              "    }\n",
              "  }\n",
              "</style>\n",
              "\n",
              "  <script>\n",
              "    async function quickchart(key) {\n",
              "      const quickchartButtonEl =\n",
              "        document.querySelector('#' + key + ' button');\n",
              "      quickchartButtonEl.disabled = true;  // To prevent multiple clicks.\n",
              "      quickchartButtonEl.classList.add('colab-df-spinner');\n",
              "      try {\n",
              "        const charts = await google.colab.kernel.invokeFunction(\n",
              "            'suggestCharts', [key], {});\n",
              "      } catch (error) {\n",
              "        console.error('Error during call to suggestCharts:', error);\n",
              "      }\n",
              "      quickchartButtonEl.classList.remove('colab-df-spinner');\n",
              "      quickchartButtonEl.classList.add('colab-df-quickchart-complete');\n",
              "    }\n",
              "    (() => {\n",
              "      let quickchartButtonEl =\n",
              "        document.querySelector('#df-5e9005a8-38ea-47bc-adf3-d4cf86698204 button');\n",
              "      quickchartButtonEl.style.display =\n",
              "        google.colab.kernel.accessAllowed ? 'block' : 'none';\n",
              "    })();\n",
              "  </script>\n",
              "</div>\n",
              "    </div>\n",
              "  </div>\n"
            ],
            "application/vnd.google.colaboratory.intrinsic+json": {
              "type": "dataframe",
              "summary": "{\n  \"name\": \"df\",\n  \"rows\": 5,\n  \"fields\": [\n    {\n      \"column\": \"text\",\n      \"properties\": {\n        \"dtype\": \"string\",\n        \"num_unique_values\": 5,\n        \"samples\": [\n          \"1\\u0441: \\u0437\\u0430\\u0440\\u043f\\u043b\\u0430\\u0442\\u0430 \\u0438 \\u0443\\u043f\\u0440\\u0430\\u0432\\u043b\\u0435\\u043d\\u0438\\u0435 \\u043f\\u0435\\u0440\\u0441\\u043e\\u043d\\u0430\\u043b\\u043e\\u043c\\u043f\\u0440\\u043e\\u0433\\u0440\\u0430\\u043c\\u043c\\u0430 \\u043a\\u0443\\u0440\\u0441\\u0430 ( 40 \\u0430\\u043a\",\n          \"\\u0411\\u043b\\u0438\\u043d, \\u043d\\u0443\\u0436\\u043d\\u043e \\u0435\\u0445\\u0430\\u0442\\u044c \\u0432 \\u0436\\u043e\\u043f\\u0443 \\u043c\\u0438\\u0440\\u0430 \\u0432 \\u041c\\u0435\\u0442\\u0430\\u043b\\u043b\\u0443\\u0440\\u0433((\",\n          \"@uh_uh_uh_ \\u0441\\u0443\\u043a,\\u043e\\u0442\\u043a\\u0443\\u0434\\u0430 \\u043e\\u043d\\u0438 \\u0432 \\u0431\\u0443\\u0442\\u044b\\u043b\\u043e\\u0447\\u043a\\u0435-\\u0442\\u043e \\u0432\\u0437\\u044f\\u043b\\u0438\\u0441\\u044c (\"\n        ],\n        \"semantic_type\": \"\",\n        \"description\": \"\"\n      }\n    },\n    {\n      \"column\": \"label\",\n      \"properties\": {\n        \"dtype\": \"category\",\n        \"num_unique_values\": 1,\n        \"samples\": [\n          \"negative\"\n        ],\n        \"semantic_type\": \"\",\n        \"description\": \"\"\n      }\n    },\n    {\n      \"column\": \"lemmas\",\n      \"properties\": {\n        \"dtype\": \"string\",\n        \"num_unique_values\": 5,\n        \"samples\": [\n          \"\\u0437\\u0430\\u0440\\u043f\\u043b\\u0430\\u0442\\u0430 \\u0443\\u043f\\u0440\\u0430\\u0432\\u043b\\u0435\\u043d\\u0438\\u0435 \\u043f\\u0435\\u0440\\u0441\\u043e\\u043d\\u0430\\u043b\\u043e\\u043c\\u043f\\u0440\\u043e\\u0433\\u0440\\u0430\\u043c\\u043c\\u0430 \\u043a\\u0443\\u0440\\u0441\"\n        ],\n        \"semantic_type\": \"\",\n        \"description\": \"\"\n      }\n    }\n  ]\n}"
            }
          },
          "metadata": {},
          "execution_count": 23
        }
      ]
    },
    {
      "cell_type": "markdown",
      "metadata": {
        "id": "GZu5Xhha7Bkg"
      },
      "source": [
        "Разбиваем на train и test (по умолчанию 75% на 25%):"
      ]
    },
    {
      "cell_type": "code",
      "execution_count": null,
      "metadata": {
        "id": "Q3MD0bex8icC"
      },
      "outputs": [],
      "source": [
        "x_train, x_test, y_train, y_test = train_test_split(df.lemmas, df.label)"
      ]
    },
    {
      "cell_type": "markdown",
      "metadata": {
        "id": "8ppAtTFc8icE"
      },
      "source": [
        "## Мешок слов (Bag of Words, BoW)\n"
      ]
    },
    {
      "cell_type": "markdown",
      "metadata": {
        "id": "96ToZVdg7Bkg"
      },
      "source": [
        "[sklearn](https://scikit-learn.org/stable/) - библиотека для машинного обучения"
      ]
    },
    {
      "cell_type": "code",
      "execution_count": null,
      "metadata": {
        "id": "4gJLFKQ38icE"
      },
      "outputs": [],
      "source": [
        "from sklearn.linear_model import LogisticRegression\n",
        "from sklearn.feature_extraction.text import CountVectorizer"
      ]
    },
    {
      "cell_type": "markdown",
      "metadata": {
        "id": "2AMGIJ8C8icH"
      },
      "source": [
        "Что такое n-граммы:"
      ]
    },
    {
      "cell_type": "code",
      "execution_count": null,
      "metadata": {
        "id": "y0-y2A6k8icH"
      },
      "outputs": [],
      "source": [
        "from nltk import ngrams"
      ]
    },
    {
      "cell_type": "code",
      "execution_count": null,
      "metadata": {
        "id": "d_lgEYzY8icJ",
        "outputId": "833467cd-177b-4e16-af2c-cb75ac4e670a",
        "colab": {
          "base_uri": "https://localhost:8080/"
        }
      },
      "outputs": [
        {
          "output_type": "execute_result",
          "data": {
            "text/plain": [
              "[('Каждый',),\n",
              " ('новый',),\n",
              " ('день',),\n",
              " ('-',),\n",
              " ('лишь',),\n",
              " ('один',),\n",
              " ('из',),\n",
              " ('дней',),\n",
              " ('под',),\n",
              " ('луной,',),\n",
              " ('под',),\n",
              " ('лампой,',),\n",
              " ('под',),\n",
              " ('потолком.',)]"
            ]
          },
          "metadata": {},
          "execution_count": 14
        }
      ],
      "source": [
        "sent = 'Каждый новый день - лишь один из дней под луной, под лампой, под потолком.'.split()\n",
        "list(ngrams(sent, 1)) # униграммы"
      ]
    },
    {
      "cell_type": "code",
      "execution_count": null,
      "metadata": {
        "id": "IDRi-68C8icM",
        "outputId": "de7dc8d9-0f05-4ce7-e503-ae84cc3605db",
        "colab": {
          "base_uri": "https://localhost:8080/"
        }
      },
      "outputs": [
        {
          "output_type": "execute_result",
          "data": {
            "text/plain": [
              "[('Каждый', 'новый'),\n",
              " ('новый', 'день'),\n",
              " ('день', '-'),\n",
              " ('-', 'лишь'),\n",
              " ('лишь', 'один'),\n",
              " ('один', 'из'),\n",
              " ('из', 'дней'),\n",
              " ('дней', 'под'),\n",
              " ('под', 'луной,'),\n",
              " ('луной,', 'под'),\n",
              " ('под', 'лампой,'),\n",
              " ('лампой,', 'под'),\n",
              " ('под', 'потолком.')]"
            ]
          },
          "metadata": {},
          "execution_count": 25
        }
      ],
      "source": [
        "list(ngrams(sent, 2)) # биграммы"
      ]
    },
    {
      "cell_type": "code",
      "execution_count": null,
      "metadata": {
        "id": "Z325_XfX8icS",
        "outputId": "9253c654-f58f-4fce-804a-bed4a695ad92",
        "colab": {
          "base_uri": "https://localhost:8080/"
        }
      },
      "outputs": [
        {
          "output_type": "execute_result",
          "data": {
            "text/plain": [
              "[('Каждый', 'новый', 'день', '-', 'лишь'),\n",
              " ('новый', 'день', '-', 'лишь', 'один'),\n",
              " ('день', '-', 'лишь', 'один', 'из'),\n",
              " ('-', 'лишь', 'один', 'из', 'дней'),\n",
              " ('лишь', 'один', 'из', 'дней', 'под'),\n",
              " ('один', 'из', 'дней', 'под', 'луной,'),\n",
              " ('из', 'дней', 'под', 'луной,', 'под'),\n",
              " ('дней', 'под', 'луной,', 'под', 'лампой,'),\n",
              " ('под', 'луной,', 'под', 'лампой,', 'под'),\n",
              " ('луной,', 'под', 'лампой,', 'под', 'потолком.')]"
            ]
          },
          "metadata": {},
          "execution_count": 27
        }
      ],
      "source": [
        "list(ngrams(sent, 5)) # пентаграммы?"
      ]
    },
    {
      "cell_type": "markdown",
      "metadata": {
        "id": "80h0e8FJ8icV"
      },
      "source": [
        "Итак, мы хотим преобразовать наши обработанные данные в вектора с помощью мешка слов. Мешок слов можно строить как для отдельных слов (лемм в нашем случае), так и для n-грамм, и это может улучшать качество.\n",
        "\n",
        "Объект `CountVectorizer` делает простую вещь:\n",
        "* строит для каждого документа (каждой пришедшей ему строки) вектор размерности `n`, где `n` -- количество слов или n-грам во всём корпусе\n",
        "* заполняет каждый i-тый элемент количеством вхождений слова в данный документ"
      ]
    },
    {
      "cell_type": "code",
      "execution_count": null,
      "metadata": {
        "id": "0SQaMJbl8icW"
      },
      "outputs": [],
      "source": [
        "vec = CountVectorizer(ngram_range=(1, 1)) # строим BoW для слов\n",
        "bow = vec.fit_transform(x_train)"
      ]
    },
    {
      "cell_type": "markdown",
      "metadata": {
        "id": "g6eZOyAf8icY"
      },
      "source": [
        "ngram_range отвечает за то, какие n-граммы мы используем в качестве признаков:<br/>\n",
        "ngram_range=(1, 1) -- униграммы<br/>\n",
        "ngram_range=(3, 3) -- триграммы<br/>\n",
        "ngram_range=(1, 3) -- униграммы, биграммы и триграммы.\n",
        "\n",
        "В vec.vocabulary_ лежит словарь: соответствие слов и их индексов в словаре:"
      ]
    },
    {
      "cell_type": "code",
      "execution_count": null,
      "metadata": {
        "id": "j8cncS9M8icY",
        "outputId": "9281f919-186f-4d93-b13f-7d78c6c64672",
        "colab": {
          "base_uri": "https://localhost:8080/"
        }
      },
      "outputs": [
        {
          "output_type": "execute_result",
          "data": {
            "text/plain": [
              "[('случайно', 151249),\n",
              " ('пойти', 139549),\n",
              " ('учёба', 160541),\n",
              " ('большой', 97721),\n",
              " ('повториться', 138378),\n",
              " ('halcyon_o_o', 29556),\n",
              " ('потрясать', 141341),\n",
              " ('фильм', 161210),\n",
              " ('актёрский', 92584),\n",
              " ('состав', 152463)]"
            ]
          },
          "metadata": {},
          "execution_count": 20
        }
      ],
      "source": [
        "list(vec.vocabulary_.items())[:10]"
      ]
    },
    {
      "cell_type": "code",
      "execution_count": null,
      "metadata": {
        "id": "ahYwcjeq7Bkj",
        "outputId": "08ddcded-1cd8-4b49-ef63-6976ef46ea86",
        "colab": {
          "base_uri": "https://localhost:8080/"
        }
      },
      "outputs": [
        {
          "output_type": "execute_result",
          "data": {
            "text/plain": [
              "array([[0, 0, 0, ..., 0, 0, 0],\n",
              "       [0, 0, 0, ..., 0, 0, 0],\n",
              "       [0, 0, 0, ..., 0, 0, 0],\n",
              "       ...,\n",
              "       [0, 0, 0, ..., 0, 0, 0],\n",
              "       [0, 0, 0, ..., 0, 0, 0],\n",
              "       [0, 0, 0, ..., 0, 0, 0]])"
            ]
          },
          "metadata": {},
          "execution_count": 21
        }
      ],
      "source": [
        "bow.toarray()"
      ]
    },
    {
      "cell_type": "code",
      "source": [
        "len(bow.toarray()[1])"
      ],
      "metadata": {
        "colab": {
          "base_uri": "https://localhost:8080/"
        },
        "id": "_48kdrdTMhJ0",
        "outputId": "9c9eb199-016c-495c-e8e1-3d57a3208fee"
      },
      "execution_count": null,
      "outputs": [
        {
          "output_type": "execute_result",
          "data": {
            "text/plain": [
              "168766"
            ]
          },
          "metadata": {},
          "execution_count": 22
        }
      ]
    },
    {
      "cell_type": "markdown",
      "metadata": {
        "id": "Wwyh7ZaC7Bkj"
      },
      "source": [
        "Теперь у нас есть вектора, на которых можно обучать модели!"
      ]
    },
    {
      "cell_type": "code",
      "execution_count": null,
      "metadata": {
        "id": "t1Rq60E68ica",
        "outputId": "a2b6b8fe-0336-465e-c1d3-3c6c79a834b4",
        "colab": {
          "base_uri": "https://localhost:8080/",
          "height": 74
        }
      },
      "outputs": [
        {
          "output_type": "execute_result",
          "data": {
            "text/plain": [
              "LogisticRegression(max_iter=500, random_state=42)"
            ],
            "text/html": [
              "<style>#sk-container-id-1 {color: black;}#sk-container-id-1 pre{padding: 0;}#sk-container-id-1 div.sk-toggleable {background-color: white;}#sk-container-id-1 label.sk-toggleable__label {cursor: pointer;display: block;width: 100%;margin-bottom: 0;padding: 0.3em;box-sizing: border-box;text-align: center;}#sk-container-id-1 label.sk-toggleable__label-arrow:before {content: \"▸\";float: left;margin-right: 0.25em;color: #696969;}#sk-container-id-1 label.sk-toggleable__label-arrow:hover:before {color: black;}#sk-container-id-1 div.sk-estimator:hover label.sk-toggleable__label-arrow:before {color: black;}#sk-container-id-1 div.sk-toggleable__content {max-height: 0;max-width: 0;overflow: hidden;text-align: left;background-color: #f0f8ff;}#sk-container-id-1 div.sk-toggleable__content pre {margin: 0.2em;color: black;border-radius: 0.25em;background-color: #f0f8ff;}#sk-container-id-1 input.sk-toggleable__control:checked~div.sk-toggleable__content {max-height: 200px;max-width: 100%;overflow: auto;}#sk-container-id-1 input.sk-toggleable__control:checked~label.sk-toggleable__label-arrow:before {content: \"▾\";}#sk-container-id-1 div.sk-estimator input.sk-toggleable__control:checked~label.sk-toggleable__label {background-color: #d4ebff;}#sk-container-id-1 div.sk-label input.sk-toggleable__control:checked~label.sk-toggleable__label {background-color: #d4ebff;}#sk-container-id-1 input.sk-hidden--visually {border: 0;clip: rect(1px 1px 1px 1px);clip: rect(1px, 1px, 1px, 1px);height: 1px;margin: -1px;overflow: hidden;padding: 0;position: absolute;width: 1px;}#sk-container-id-1 div.sk-estimator {font-family: monospace;background-color: #f0f8ff;border: 1px dotted black;border-radius: 0.25em;box-sizing: border-box;margin-bottom: 0.5em;}#sk-container-id-1 div.sk-estimator:hover {background-color: #d4ebff;}#sk-container-id-1 div.sk-parallel-item::after {content: \"\";width: 100%;border-bottom: 1px solid gray;flex-grow: 1;}#sk-container-id-1 div.sk-label:hover label.sk-toggleable__label {background-color: #d4ebff;}#sk-container-id-1 div.sk-serial::before {content: \"\";position: absolute;border-left: 1px solid gray;box-sizing: border-box;top: 0;bottom: 0;left: 50%;z-index: 0;}#sk-container-id-1 div.sk-serial {display: flex;flex-direction: column;align-items: center;background-color: white;padding-right: 0.2em;padding-left: 0.2em;position: relative;}#sk-container-id-1 div.sk-item {position: relative;z-index: 1;}#sk-container-id-1 div.sk-parallel {display: flex;align-items: stretch;justify-content: center;background-color: white;position: relative;}#sk-container-id-1 div.sk-item::before, #sk-container-id-1 div.sk-parallel-item::before {content: \"\";position: absolute;border-left: 1px solid gray;box-sizing: border-box;top: 0;bottom: 0;left: 50%;z-index: -1;}#sk-container-id-1 div.sk-parallel-item {display: flex;flex-direction: column;z-index: 1;position: relative;background-color: white;}#sk-container-id-1 div.sk-parallel-item:first-child::after {align-self: flex-end;width: 50%;}#sk-container-id-1 div.sk-parallel-item:last-child::after {align-self: flex-start;width: 50%;}#sk-container-id-1 div.sk-parallel-item:only-child::after {width: 0;}#sk-container-id-1 div.sk-dashed-wrapped {border: 1px dashed gray;margin: 0 0.4em 0.5em 0.4em;box-sizing: border-box;padding-bottom: 0.4em;background-color: white;}#sk-container-id-1 div.sk-label label {font-family: monospace;font-weight: bold;display: inline-block;line-height: 1.2em;}#sk-container-id-1 div.sk-label-container {text-align: center;}#sk-container-id-1 div.sk-container {/* jupyter's `normalize.less` sets `[hidden] { display: none; }` but bootstrap.min.css set `[hidden] { display: none !important; }` so we also need the `!important` here to be able to override the default hidden behavior on the sphinx rendered scikit-learn.org. See: https://github.com/scikit-learn/scikit-learn/issues/21755 */display: inline-block !important;position: relative;}#sk-container-id-1 div.sk-text-repr-fallback {display: none;}</style><div id=\"sk-container-id-1\" class=\"sk-top-container\"><div class=\"sk-text-repr-fallback\"><pre>LogisticRegression(max_iter=500, random_state=42)</pre><b>In a Jupyter environment, please rerun this cell to show the HTML representation or trust the notebook. <br />On GitHub, the HTML representation is unable to render, please try loading this page with nbviewer.org.</b></div><div class=\"sk-container\" hidden><div class=\"sk-item\"><div class=\"sk-estimator sk-toggleable\"><input class=\"sk-toggleable__control sk-hidden--visually\" id=\"sk-estimator-id-1\" type=\"checkbox\" checked><label for=\"sk-estimator-id-1\" class=\"sk-toggleable__label sk-toggleable__label-arrow\">LogisticRegression</label><div class=\"sk-toggleable__content\"><pre>LogisticRegression(max_iter=500, random_state=42)</pre></div></div></div></div></div>"
            ]
          },
          "metadata": {},
          "execution_count": 23
        }
      ],
      "source": [
        "clf = LogisticRegression(random_state=42, max_iter=500)\n",
        "clf.fit(bow, y_train)"
      ]
    },
    {
      "cell_type": "markdown",
      "metadata": {
        "id": "TUn3zOcf7Bkk"
      },
      "source": [
        "Посмотрим на качество классификации на тестовой выборке. Для этого выведем classification_report из модуля [sklearn.metrics](https://scikit-learn.org/stable/modules/classes.html#sklearn-metrics-metrics)\n",
        "\n",
        "В качестве целевой метрики качества будем рассматривать macro average f1-score."
      ]
    },
    {
      "cell_type": "code",
      "execution_count": null,
      "metadata": {
        "id": "Xf8gqHSD8icc",
        "outputId": "73aa7a72-dfa9-4e23-dfbb-0f7ae881fd13",
        "colab": {
          "base_uri": "https://localhost:8080/"
        }
      },
      "outputs": [
        {
          "output_type": "stream",
          "name": "stdout",
          "text": [
            "              precision    recall  f1-score   support\n",
            "\n",
            "    negative       0.75      0.73      0.74     28453\n",
            "    positive       0.73      0.75      0.74     28256\n",
            "\n",
            "    accuracy                           0.74     56709\n",
            "   macro avg       0.74      0.74      0.74     56709\n",
            "weighted avg       0.74      0.74      0.74     56709\n",
            "\n"
          ]
        }
      ],
      "source": [
        "pred = clf.predict(vec.transform(x_test))\n",
        "print(classification_report(pred, y_test))"
      ]
    },
    {
      "cell_type": "markdown",
      "metadata": {
        "id": "MdoG6YCr8icf"
      },
      "source": [
        "Попробуем сделать то же самое для триграмм:"
      ]
    },
    {
      "cell_type": "code",
      "execution_count": null,
      "metadata": {
        "id": "3GUDAWcz8icg",
        "outputId": "9709064a-1c2c-4eeb-eb84-1c6fc3004760",
        "colab": {
          "base_uri": "https://localhost:8080/"
        }
      },
      "outputs": [
        {
          "output_type": "stream",
          "name": "stdout",
          "text": [
            "              precision    recall  f1-score   support\n",
            "\n",
            "    negative       0.97      0.53      0.68     51375\n",
            "    positive       0.16      0.86      0.27      5334\n",
            "\n",
            "    accuracy                           0.56     56709\n",
            "   macro avg       0.57      0.69      0.48     56709\n",
            "weighted avg       0.90      0.56      0.64     56709\n",
            "\n"
          ]
        }
      ],
      "source": [
        "vec = CountVectorizer(ngram_range=(3, 3))\n",
        "bow = vec.fit_transform(x_train)\n",
        "clf = LogisticRegression(random_state=42, max_iter = 300)\n",
        "clf.fit(bow, y_train)\n",
        "pred = clf.predict(vec.transform(x_test))\n",
        "print(classification_report(pred, y_test))"
      ]
    },
    {
      "cell_type": "markdown",
      "metadata": {
        "id": "_J9QWNtU7Bkl"
      },
      "source": [
        "Видим, что качество существенно хуже.\n",
        "\n",
        "И ещё для 1-, 2-, 3-грамм"
      ]
    },
    {
      "cell_type": "code",
      "execution_count": null,
      "metadata": {
        "id": "wgdYcgjn7Bkl",
        "outputId": "dc3fe58b-0dd1-470b-cde1-efd69106001e",
        "colab": {
          "base_uri": "https://localhost:8080/"
        }
      },
      "outputs": [
        {
          "output_type": "stream",
          "name": "stdout",
          "text": [
            "              precision    recall  f1-score   support\n",
            "\n",
            "    negative       0.76      0.74      0.75     28695\n",
            "    positive       0.74      0.76      0.75     28014\n",
            "\n",
            "    accuracy                           0.75     56709\n",
            "   macro avg       0.75      0.75      0.75     56709\n",
            "weighted avg       0.75      0.75      0.75     56709\n",
            "\n"
          ]
        }
      ],
      "source": [
        "# это долго\n",
        "vec = CountVectorizer(ngram_range=(1, 3))\n",
        "bow = vec.fit_transform(x_train)\n",
        "clf = LogisticRegression(random_state=42, max_iter = 300)\n",
        "clf.fit(bow, y_train)\n",
        "pred = clf.predict(vec.transform(x_test))\n",
        "print(classification_report(pred, y_test))"
      ]
    },
    {
      "cell_type": "markdown",
      "metadata": {
        "id": "4PTszK9h8ick"
      },
      "source": [
        "## TF-IDF векторизация"
      ]
    },
    {
      "cell_type": "markdown",
      "metadata": {
        "id": "xQ9Td4bw8icm"
      },
      "source": [
        "`TfidfVectorizer` делает то же, что и `CountVectorizer`, но в качестве значений – tf-idf каждого слова.\n",
        "\n",
        "У слова высокий TF-IDF, если слово часто встречается в одном документе, но в целом по корпусу встречается в небольшом количестве документов."
      ]
    },
    {
      "cell_type": "code",
      "execution_count": null,
      "metadata": {
        "id": "Q8B_Q8qP8icm"
      },
      "outputs": [],
      "source": [
        "from sklearn.feature_extraction.text import TfidfVectorizer"
      ]
    },
    {
      "cell_type": "code",
      "execution_count": null,
      "metadata": {
        "id": "Tn-S--vi8ico",
        "outputId": "09fdabd9-9ab3-4dd7-b516-0a0e4fe06b4f",
        "colab": {
          "base_uri": "https://localhost:8080/"
        }
      },
      "outputs": [
        {
          "output_type": "stream",
          "name": "stdout",
          "text": [
            "              precision    recall  f1-score   support\n",
            "\n",
            "    negative       0.70      0.74      0.72     26280\n",
            "    positive       0.76      0.73      0.74     30429\n",
            "\n",
            "    accuracy                           0.73     56709\n",
            "   macro avg       0.73      0.73      0.73     56709\n",
            "weighted avg       0.73      0.73      0.73     56709\n",
            "\n"
          ]
        }
      ],
      "source": [
        "vec = TfidfVectorizer(ngram_range=(1, 1))\n",
        "bow = vec.fit_transform(x_train)\n",
        "clf = LogisticRegression(random_state=42, max_iter = 500)\n",
        "clf.fit(bow, y_train)\n",
        "pred = clf.predict(vec.transform(x_test))\n",
        "print(classification_report(pred, y_test))"
      ]
    },
    {
      "cell_type": "markdown",
      "metadata": {
        "id": "fXglD7lb8icq"
      },
      "source": [
        "В этот раз получилось хуже, чем с помощью простого CountVectorizer, то есть использование tf-idf не дало улучшений в качестве."
      ]
    },
    {
      "cell_type": "markdown",
      "metadata": {
        "id": "ETq8X_Tb8idz"
      },
      "source": [
        "## О важности разумного анализа\n",
        "\n",
        "Иногда в ходе стандартного препроцессинга теряются важные признаки. Посмотрим, что будет если не убирать пунктуацию?"
      ]
    },
    {
      "cell_type": "code",
      "execution_count": null,
      "metadata": {
        "id": "JOfvrYtv7Bks",
        "outputId": "86ff30eb-5d3d-4656-a2cc-73021024e1f4",
        "colab": {
          "base_uri": "https://localhost:8080/",
          "height": 397
        }
      },
      "outputs": [
        {
          "output_type": "execute_result",
          "data": {
            "text/plain": [
              "                                                                                                                                      text  \\\n",
              "6063                                                                          RT @capimixaweki: времени нет писать про жизнь в Китае... :(   \n",
              "75449                                          до меня только что дошло, что я ничего не загадала на НГ!кааак, каак так??????\\nя лузер((((   \n",
              "78722  @billiejoeskon оооу,сегодня отлично,главное что по биологии не спросили,больше всего боялась)))\\nА так все супер.\\nУ тебя в шк как?   \n",
              "67727          @VeraVolf Большое спасибо,Вера!)полное имя у меня Наталья,мы же в ФБ немного переписывались)за пожелание большое спасибо)))   \n",
              "78065                                                                                Утром была минутка милоты :) скорее бы уже февраль!!!   \n",
              "\n",
              "          label  \\\n",
              "6063   negative   \n",
              "75449  negative   \n",
              "78722  positive   \n",
              "67727  positive   \n",
              "78065  positive   \n",
              "\n",
              "                                                                                              lemmas  \n",
              "6063                                                           capimixaweki время писать жизнь китай  \n",
              "75449                                                                дойти загадать кааак каак лузер  \n",
              "78722        billiejoeskon оооу сегодня отлично главное биология спросить большой весь бояться супер  \n",
              "67727  veravolf большой спасибо вера полный наталья немного переписываться пожелание большой спасибо  \n",
              "78065                                                             утром минутка милот скорее февраль  "
            ],
            "text/html": [
              "\n",
              "  <div id=\"df-b943d032-7118-452c-8ea8-c1df06c5bb29\" class=\"colab-df-container\">\n",
              "    <div>\n",
              "<style scoped>\n",
              "    .dataframe tbody tr th:only-of-type {\n",
              "        vertical-align: middle;\n",
              "    }\n",
              "\n",
              "    .dataframe tbody tr th {\n",
              "        vertical-align: top;\n",
              "    }\n",
              "\n",
              "    .dataframe thead th {\n",
              "        text-align: right;\n",
              "    }\n",
              "</style>\n",
              "<table border=\"1\" class=\"dataframe\">\n",
              "  <thead>\n",
              "    <tr style=\"text-align: right;\">\n",
              "      <th></th>\n",
              "      <th>text</th>\n",
              "      <th>label</th>\n",
              "      <th>lemmas</th>\n",
              "    </tr>\n",
              "  </thead>\n",
              "  <tbody>\n",
              "    <tr>\n",
              "      <th>6063</th>\n",
              "      <td>RT @capimixaweki: времени нет писать про жизнь в Китае... :(</td>\n",
              "      <td>negative</td>\n",
              "      <td>capimixaweki время писать жизнь китай</td>\n",
              "    </tr>\n",
              "    <tr>\n",
              "      <th>75449</th>\n",
              "      <td>до меня только что дошло, что я ничего не загадала на НГ!кааак, каак так??????\\nя лузер((((</td>\n",
              "      <td>negative</td>\n",
              "      <td>дойти загадать кааак каак лузер</td>\n",
              "    </tr>\n",
              "    <tr>\n",
              "      <th>78722</th>\n",
              "      <td>@billiejoeskon оооу,сегодня отлично,главное что по биологии не спросили,больше всего боялась)))\\nА так все супер.\\nУ тебя в шк как?</td>\n",
              "      <td>positive</td>\n",
              "      <td>billiejoeskon оооу сегодня отлично главное биология спросить большой весь бояться супер</td>\n",
              "    </tr>\n",
              "    <tr>\n",
              "      <th>67727</th>\n",
              "      <td>@VeraVolf Большое спасибо,Вера!)полное имя у меня Наталья,мы же в ФБ немного переписывались)за пожелание большое спасибо)))</td>\n",
              "      <td>positive</td>\n",
              "      <td>veravolf большой спасибо вера полный наталья немного переписываться пожелание большой спасибо</td>\n",
              "    </tr>\n",
              "    <tr>\n",
              "      <th>78065</th>\n",
              "      <td>Утром была минутка милоты :) скорее бы уже февраль!!!</td>\n",
              "      <td>positive</td>\n",
              "      <td>утром минутка милот скорее февраль</td>\n",
              "    </tr>\n",
              "  </tbody>\n",
              "</table>\n",
              "</div>\n",
              "    <div class=\"colab-df-buttons\">\n",
              "\n",
              "  <div class=\"colab-df-container\">\n",
              "    <button class=\"colab-df-convert\" onclick=\"convertToInteractive('df-b943d032-7118-452c-8ea8-c1df06c5bb29')\"\n",
              "            title=\"Convert this dataframe to an interactive table.\"\n",
              "            style=\"display:none;\">\n",
              "\n",
              "  <svg xmlns=\"http://www.w3.org/2000/svg\" height=\"24px\" viewBox=\"0 -960 960 960\">\n",
              "    <path d=\"M120-120v-720h720v720H120Zm60-500h600v-160H180v160Zm220 220h160v-160H400v160Zm0 220h160v-160H400v160ZM180-400h160v-160H180v160Zm440 0h160v-160H620v160ZM180-180h160v-160H180v160Zm440 0h160v-160H620v160Z\"/>\n",
              "  </svg>\n",
              "    </button>\n",
              "\n",
              "  <style>\n",
              "    .colab-df-container {\n",
              "      display:flex;\n",
              "      gap: 12px;\n",
              "    }\n",
              "\n",
              "    .colab-df-convert {\n",
              "      background-color: #E8F0FE;\n",
              "      border: none;\n",
              "      border-radius: 50%;\n",
              "      cursor: pointer;\n",
              "      display: none;\n",
              "      fill: #1967D2;\n",
              "      height: 32px;\n",
              "      padding: 0 0 0 0;\n",
              "      width: 32px;\n",
              "    }\n",
              "\n",
              "    .colab-df-convert:hover {\n",
              "      background-color: #E2EBFA;\n",
              "      box-shadow: 0px 1px 2px rgba(60, 64, 67, 0.3), 0px 1px 3px 1px rgba(60, 64, 67, 0.15);\n",
              "      fill: #174EA6;\n",
              "    }\n",
              "\n",
              "    .colab-df-buttons div {\n",
              "      margin-bottom: 4px;\n",
              "    }\n",
              "\n",
              "    [theme=dark] .colab-df-convert {\n",
              "      background-color: #3B4455;\n",
              "      fill: #D2E3FC;\n",
              "    }\n",
              "\n",
              "    [theme=dark] .colab-df-convert:hover {\n",
              "      background-color: #434B5C;\n",
              "      box-shadow: 0px 1px 3px 1px rgba(0, 0, 0, 0.15);\n",
              "      filter: drop-shadow(0px 1px 2px rgba(0, 0, 0, 0.3));\n",
              "      fill: #FFFFFF;\n",
              "    }\n",
              "  </style>\n",
              "\n",
              "    <script>\n",
              "      const buttonEl =\n",
              "        document.querySelector('#df-b943d032-7118-452c-8ea8-c1df06c5bb29 button.colab-df-convert');\n",
              "      buttonEl.style.display =\n",
              "        google.colab.kernel.accessAllowed ? 'block' : 'none';\n",
              "\n",
              "      async function convertToInteractive(key) {\n",
              "        const element = document.querySelector('#df-b943d032-7118-452c-8ea8-c1df06c5bb29');\n",
              "        const dataTable =\n",
              "          await google.colab.kernel.invokeFunction('convertToInteractive',\n",
              "                                                    [key], {});\n",
              "        if (!dataTable) return;\n",
              "\n",
              "        const docLinkHtml = 'Like what you see? Visit the ' +\n",
              "          '<a target=\"_blank\" href=https://colab.research.google.com/notebooks/data_table.ipynb>data table notebook</a>'\n",
              "          + ' to learn more about interactive tables.';\n",
              "        element.innerHTML = '';\n",
              "        dataTable['output_type'] = 'display_data';\n",
              "        await google.colab.output.renderOutput(dataTable, element);\n",
              "        const docLink = document.createElement('div');\n",
              "        docLink.innerHTML = docLinkHtml;\n",
              "        element.appendChild(docLink);\n",
              "      }\n",
              "    </script>\n",
              "  </div>\n",
              "\n",
              "\n",
              "<div id=\"df-f56f5a0f-aaea-4cb3-b13d-a36199072301\">\n",
              "  <button class=\"colab-df-quickchart\" onclick=\"quickchart('df-f56f5a0f-aaea-4cb3-b13d-a36199072301')\"\n",
              "            title=\"Suggest charts\"\n",
              "            style=\"display:none;\">\n",
              "\n",
              "<svg xmlns=\"http://www.w3.org/2000/svg\" height=\"24px\"viewBox=\"0 0 24 24\"\n",
              "     width=\"24px\">\n",
              "    <g>\n",
              "        <path d=\"M19 3H5c-1.1 0-2 .9-2 2v14c0 1.1.9 2 2 2h14c1.1 0 2-.9 2-2V5c0-1.1-.9-2-2-2zM9 17H7v-7h2v7zm4 0h-2V7h2v10zm4 0h-2v-4h2v4z\"/>\n",
              "    </g>\n",
              "</svg>\n",
              "  </button>\n",
              "\n",
              "<style>\n",
              "  .colab-df-quickchart {\n",
              "      --bg-color: #E8F0FE;\n",
              "      --fill-color: #1967D2;\n",
              "      --hover-bg-color: #E2EBFA;\n",
              "      --hover-fill-color: #174EA6;\n",
              "      --disabled-fill-color: #AAA;\n",
              "      --disabled-bg-color: #DDD;\n",
              "  }\n",
              "\n",
              "  [theme=dark] .colab-df-quickchart {\n",
              "      --bg-color: #3B4455;\n",
              "      --fill-color: #D2E3FC;\n",
              "      --hover-bg-color: #434B5C;\n",
              "      --hover-fill-color: #FFFFFF;\n",
              "      --disabled-bg-color: #3B4455;\n",
              "      --disabled-fill-color: #666;\n",
              "  }\n",
              "\n",
              "  .colab-df-quickchart {\n",
              "    background-color: var(--bg-color);\n",
              "    border: none;\n",
              "    border-radius: 50%;\n",
              "    cursor: pointer;\n",
              "    display: none;\n",
              "    fill: var(--fill-color);\n",
              "    height: 32px;\n",
              "    padding: 0;\n",
              "    width: 32px;\n",
              "  }\n",
              "\n",
              "  .colab-df-quickchart:hover {\n",
              "    background-color: var(--hover-bg-color);\n",
              "    box-shadow: 0 1px 2px rgba(60, 64, 67, 0.3), 0 1px 3px 1px rgba(60, 64, 67, 0.15);\n",
              "    fill: var(--button-hover-fill-color);\n",
              "  }\n",
              "\n",
              "  .colab-df-quickchart-complete:disabled,\n",
              "  .colab-df-quickchart-complete:disabled:hover {\n",
              "    background-color: var(--disabled-bg-color);\n",
              "    fill: var(--disabled-fill-color);\n",
              "    box-shadow: none;\n",
              "  }\n",
              "\n",
              "  .colab-df-spinner {\n",
              "    border: 2px solid var(--fill-color);\n",
              "    border-color: transparent;\n",
              "    border-bottom-color: var(--fill-color);\n",
              "    animation:\n",
              "      spin 1s steps(1) infinite;\n",
              "  }\n",
              "\n",
              "  @keyframes spin {\n",
              "    0% {\n",
              "      border-color: transparent;\n",
              "      border-bottom-color: var(--fill-color);\n",
              "      border-left-color: var(--fill-color);\n",
              "    }\n",
              "    20% {\n",
              "      border-color: transparent;\n",
              "      border-left-color: var(--fill-color);\n",
              "      border-top-color: var(--fill-color);\n",
              "    }\n",
              "    30% {\n",
              "      border-color: transparent;\n",
              "      border-left-color: var(--fill-color);\n",
              "      border-top-color: var(--fill-color);\n",
              "      border-right-color: var(--fill-color);\n",
              "    }\n",
              "    40% {\n",
              "      border-color: transparent;\n",
              "      border-right-color: var(--fill-color);\n",
              "      border-top-color: var(--fill-color);\n",
              "    }\n",
              "    60% {\n",
              "      border-color: transparent;\n",
              "      border-right-color: var(--fill-color);\n",
              "    }\n",
              "    80% {\n",
              "      border-color: transparent;\n",
              "      border-right-color: var(--fill-color);\n",
              "      border-bottom-color: var(--fill-color);\n",
              "    }\n",
              "    90% {\n",
              "      border-color: transparent;\n",
              "      border-bottom-color: var(--fill-color);\n",
              "    }\n",
              "  }\n",
              "</style>\n",
              "\n",
              "  <script>\n",
              "    async function quickchart(key) {\n",
              "      const quickchartButtonEl =\n",
              "        document.querySelector('#' + key + ' button');\n",
              "      quickchartButtonEl.disabled = true;  // To prevent multiple clicks.\n",
              "      quickchartButtonEl.classList.add('colab-df-spinner');\n",
              "      try {\n",
              "        const charts = await google.colab.kernel.invokeFunction(\n",
              "            'suggestCharts', [key], {});\n",
              "      } catch (error) {\n",
              "        console.error('Error during call to suggestCharts:', error);\n",
              "      }\n",
              "      quickchartButtonEl.classList.remove('colab-df-spinner');\n",
              "      quickchartButtonEl.classList.add('colab-df-quickchart-complete');\n",
              "    }\n",
              "    (() => {\n",
              "      let quickchartButtonEl =\n",
              "        document.querySelector('#df-f56f5a0f-aaea-4cb3-b13d-a36199072301 button');\n",
              "      quickchartButtonEl.style.display =\n",
              "        google.colab.kernel.accessAllowed ? 'block' : 'none';\n",
              "    })();\n",
              "  </script>\n",
              "</div>\n",
              "    </div>\n",
              "  </div>\n"
            ],
            "application/vnd.google.colaboratory.intrinsic+json": {
              "type": "dataframe",
              "summary": "{\n  \"name\": \"df\",\n  \"rows\": 5,\n  \"fields\": [\n    {\n      \"column\": \"text\",\n      \"properties\": {\n        \"dtype\": \"string\",\n        \"num_unique_values\": 5,\n        \"samples\": [\n          \"\\u0434\\u043e \\u043c\\u0435\\u043d\\u044f \\u0442\\u043e\\u043b\\u044c\\u043a\\u043e \\u0447\\u0442\\u043e \\u0434\\u043e\\u0448\\u043b\\u043e, \\u0447\\u0442\\u043e \\u044f \\u043d\\u0438\\u0447\\u0435\\u0433\\u043e \\u043d\\u0435 \\u0437\\u0430\\u0433\\u0430\\u0434\\u0430\\u043b\\u0430 \\u043d\\u0430 \\u041d\\u0413!\\u043a\\u0430\\u0430\\u0430\\u043a, \\u043a\\u0430\\u0430\\u043a \\u0442\\u0430\\u043a??????\\n\\u044f \\u043b\\u0443\\u0437\\u0435\\u0440((((\",\n          \"\\u0423\\u0442\\u0440\\u043e\\u043c \\u0431\\u044b\\u043b\\u0430 \\u043c\\u0438\\u043d\\u0443\\u0442\\u043a\\u0430 \\u043c\\u0438\\u043b\\u043e\\u0442\\u044b :) \\u0441\\u043a\\u043e\\u0440\\u0435\\u0435 \\u0431\\u044b \\u0443\\u0436\\u0435 \\u0444\\u0435\\u0432\\u0440\\u0430\\u043b\\u044c!!!\",\n          \"@billiejoeskon \\u043e\\u043e\\u043e\\u0443,\\u0441\\u0435\\u0433\\u043e\\u0434\\u043d\\u044f \\u043e\\u0442\\u043b\\u0438\\u0447\\u043d\\u043e,\\u0433\\u043b\\u0430\\u0432\\u043d\\u043e\\u0435 \\u0447\\u0442\\u043e \\u043f\\u043e \\u0431\\u0438\\u043e\\u043b\\u043e\\u0433\\u0438\\u0438 \\u043d\\u0435 \\u0441\\u043f\\u0440\\u043e\\u0441\\u0438\\u043b\\u0438,\\u0431\\u043e\\u043b\\u044c\\u0448\\u0435 \\u0432\\u0441\\u0435\\u0433\\u043e \\u0431\\u043e\\u044f\\u043b\\u0430\\u0441\\u044c)))\\n\\u0410 \\u0442\\u0430\\u043a \\u0432\\u0441\\u0435 \\u0441\\u0443\\u043f\\u0435\\u0440.\\n\\u0423 \\u0442\\u0435\\u0431\\u044f \\u0432 \\u0448\\u043a \\u043a\\u0430\\u043a?\"\n        ],\n        \"semantic_type\": \"\",\n        \"description\": \"\"\n      }\n    },\n    {\n      \"column\": \"label\",\n      \"properties\": {\n        \"dtype\": \"category\",\n        \"num_unique_values\": 2,\n        \"samples\": [\n          \"positive\",\n          \"negative\"\n        ],\n        \"semantic_type\": \"\",\n        \"description\": \"\"\n      }\n    },\n    {\n      \"column\": \"lemmas\",\n      \"properties\": {\n        \"dtype\": \"string\",\n        \"num_unique_values\": 5,\n        \"samples\": [\n          \"\\u0434\\u043e\\u0439\\u0442\\u0438 \\u0437\\u0430\\u0433\\u0430\\u0434\\u0430\\u0442\\u044c \\u043a\\u0430\\u0430\\u0430\\u043a \\u043a\\u0430\\u0430\\u043a \\u043b\\u0443\\u0437\\u0435\\u0440\",\n          \"\\u0443\\u0442\\u0440\\u043e\\u043c \\u043c\\u0438\\u043d\\u0443\\u0442\\u043a\\u0430 \\u043c\\u0438\\u043b\\u043e\\u0442 \\u0441\\u043a\\u043e\\u0440\\u0435\\u0435 \\u0444\\u0435\\u0432\\u0440\\u0430\\u043b\\u044c\"\n        ],\n        \"semantic_type\": \"\",\n        \"description\": \"\"\n      }\n    }\n  ]\n}"
            }
          },
          "metadata": {},
          "execution_count": 33
        }
      ],
      "source": [
        "df.sample(5)"
      ]
    },
    {
      "cell_type": "code",
      "execution_count": null,
      "metadata": {
        "id": "LnZNXxrW7Bks",
        "outputId": "1eeb2197-7e78-4932-d78a-81271ff64276",
        "colab": {
          "base_uri": "https://localhost:8080/",
          "height": 369
        }
      },
      "outputs": [
        {
          "output_type": "execute_result",
          "data": {
            "text/plain": [
              "                                                                                                                                    text  \\\n",
              "17138                                                                     Молодёжка закончилась:( очень надеюсь, что будет 2 сезон!&lt;3   \n",
              "58288                                                        @_marsi А, ну так я ж почти угадал - будет большая зона свободной торговли)   \n",
              "25194  “@Ivashenko_tweet: В нашей стране у людей принято оскорблять всё и вся. Это черта исключительно русских.” К сожалению, это так :(   \n",
              "\n",
              "          label  \\\n",
              "17138  negative   \n",
              "58288  positive   \n",
              "25194  negative   \n",
              "\n",
              "                                                                                             lemmas  \\\n",
              "17138                                                   молодёжка закончиться очень надеяться сезон   \n",
              "58288                                                _marsi угадать больший зона свободный торговля   \n",
              "25194  ivashenko_tweet страна человек принять оскорблять весь черта исключительно русский сожаление   \n",
              "\n",
              "                                                                                                                              new_lemmas  \n",
              "17138                                                                     молодёжка закончилась:( очень надеюсь, что будет 2 сезон!&lt;3  \n",
              "58288                                                        @_marsi а, ну так я ж почти угадал - будет большая зона свободной торговли)  \n",
              "25194  “@ivashenko_tweet: в нашей стране у людей принято оскорблять всё и вся. это черта исключительно русских.” к сожалению, это так :(  "
            ],
            "text/html": [
              "\n",
              "  <div id=\"df-6e4374af-bb16-4159-ad2f-6e88cda0d72e\" class=\"colab-df-container\">\n",
              "    <div>\n",
              "<style scoped>\n",
              "    .dataframe tbody tr th:only-of-type {\n",
              "        vertical-align: middle;\n",
              "    }\n",
              "\n",
              "    .dataframe tbody tr th {\n",
              "        vertical-align: top;\n",
              "    }\n",
              "\n",
              "    .dataframe thead th {\n",
              "        text-align: right;\n",
              "    }\n",
              "</style>\n",
              "<table border=\"1\" class=\"dataframe\">\n",
              "  <thead>\n",
              "    <tr style=\"text-align: right;\">\n",
              "      <th></th>\n",
              "      <th>text</th>\n",
              "      <th>label</th>\n",
              "      <th>lemmas</th>\n",
              "      <th>new_lemmas</th>\n",
              "    </tr>\n",
              "  </thead>\n",
              "  <tbody>\n",
              "    <tr>\n",
              "      <th>17138</th>\n",
              "      <td>Молодёжка закончилась:( очень надеюсь, что будет 2 сезон!&amp;lt;3</td>\n",
              "      <td>negative</td>\n",
              "      <td>молодёжка закончиться очень надеяться сезон</td>\n",
              "      <td>молодёжка закончилась:( очень надеюсь, что будет 2 сезон!&amp;lt;3</td>\n",
              "    </tr>\n",
              "    <tr>\n",
              "      <th>58288</th>\n",
              "      <td>@_marsi А, ну так я ж почти угадал - будет большая зона свободной торговли)</td>\n",
              "      <td>positive</td>\n",
              "      <td>_marsi угадать больший зона свободный торговля</td>\n",
              "      <td>@_marsi а, ну так я ж почти угадал - будет большая зона свободной торговли)</td>\n",
              "    </tr>\n",
              "    <tr>\n",
              "      <th>25194</th>\n",
              "      <td>“@Ivashenko_tweet: В нашей стране у людей принято оскорблять всё и вся. Это черта исключительно русских.” К сожалению, это так :(</td>\n",
              "      <td>negative</td>\n",
              "      <td>ivashenko_tweet страна человек принять оскорблять весь черта исключительно русский сожаление</td>\n",
              "      <td>“@ivashenko_tweet: в нашей стране у людей принято оскорблять всё и вся. это черта исключительно русских.” к сожалению, это так :(</td>\n",
              "    </tr>\n",
              "  </tbody>\n",
              "</table>\n",
              "</div>\n",
              "    <div class=\"colab-df-buttons\">\n",
              "\n",
              "  <div class=\"colab-df-container\">\n",
              "    <button class=\"colab-df-convert\" onclick=\"convertToInteractive('df-6e4374af-bb16-4159-ad2f-6e88cda0d72e')\"\n",
              "            title=\"Convert this dataframe to an interactive table.\"\n",
              "            style=\"display:none;\">\n",
              "\n",
              "  <svg xmlns=\"http://www.w3.org/2000/svg\" height=\"24px\" viewBox=\"0 -960 960 960\">\n",
              "    <path d=\"M120-120v-720h720v720H120Zm60-500h600v-160H180v160Zm220 220h160v-160H400v160Zm0 220h160v-160H400v160ZM180-400h160v-160H180v160Zm440 0h160v-160H620v160ZM180-180h160v-160H180v160Zm440 0h160v-160H620v160Z\"/>\n",
              "  </svg>\n",
              "    </button>\n",
              "\n",
              "  <style>\n",
              "    .colab-df-container {\n",
              "      display:flex;\n",
              "      gap: 12px;\n",
              "    }\n",
              "\n",
              "    .colab-df-convert {\n",
              "      background-color: #E8F0FE;\n",
              "      border: none;\n",
              "      border-radius: 50%;\n",
              "      cursor: pointer;\n",
              "      display: none;\n",
              "      fill: #1967D2;\n",
              "      height: 32px;\n",
              "      padding: 0 0 0 0;\n",
              "      width: 32px;\n",
              "    }\n",
              "\n",
              "    .colab-df-convert:hover {\n",
              "      background-color: #E2EBFA;\n",
              "      box-shadow: 0px 1px 2px rgba(60, 64, 67, 0.3), 0px 1px 3px 1px rgba(60, 64, 67, 0.15);\n",
              "      fill: #174EA6;\n",
              "    }\n",
              "\n",
              "    .colab-df-buttons div {\n",
              "      margin-bottom: 4px;\n",
              "    }\n",
              "\n",
              "    [theme=dark] .colab-df-convert {\n",
              "      background-color: #3B4455;\n",
              "      fill: #D2E3FC;\n",
              "    }\n",
              "\n",
              "    [theme=dark] .colab-df-convert:hover {\n",
              "      background-color: #434B5C;\n",
              "      box-shadow: 0px 1px 3px 1px rgba(0, 0, 0, 0.15);\n",
              "      filter: drop-shadow(0px 1px 2px rgba(0, 0, 0, 0.3));\n",
              "      fill: #FFFFFF;\n",
              "    }\n",
              "  </style>\n",
              "\n",
              "    <script>\n",
              "      const buttonEl =\n",
              "        document.querySelector('#df-6e4374af-bb16-4159-ad2f-6e88cda0d72e button.colab-df-convert');\n",
              "      buttonEl.style.display =\n",
              "        google.colab.kernel.accessAllowed ? 'block' : 'none';\n",
              "\n",
              "      async function convertToInteractive(key) {\n",
              "        const element = document.querySelector('#df-6e4374af-bb16-4159-ad2f-6e88cda0d72e');\n",
              "        const dataTable =\n",
              "          await google.colab.kernel.invokeFunction('convertToInteractive',\n",
              "                                                    [key], {});\n",
              "        if (!dataTable) return;\n",
              "\n",
              "        const docLinkHtml = 'Like what you see? Visit the ' +\n",
              "          '<a target=\"_blank\" href=https://colab.research.google.com/notebooks/data_table.ipynb>data table notebook</a>'\n",
              "          + ' to learn more about interactive tables.';\n",
              "        element.innerHTML = '';\n",
              "        dataTable['output_type'] = 'display_data';\n",
              "        await google.colab.output.renderOutput(dataTable, element);\n",
              "        const docLink = document.createElement('div');\n",
              "        docLink.innerHTML = docLinkHtml;\n",
              "        element.appendChild(docLink);\n",
              "      }\n",
              "    </script>\n",
              "  </div>\n",
              "\n",
              "\n",
              "<div id=\"df-6b260940-7b09-48d0-9a48-f15167431aa0\">\n",
              "  <button class=\"colab-df-quickchart\" onclick=\"quickchart('df-6b260940-7b09-48d0-9a48-f15167431aa0')\"\n",
              "            title=\"Suggest charts\"\n",
              "            style=\"display:none;\">\n",
              "\n",
              "<svg xmlns=\"http://www.w3.org/2000/svg\" height=\"24px\"viewBox=\"0 0 24 24\"\n",
              "     width=\"24px\">\n",
              "    <g>\n",
              "        <path d=\"M19 3H5c-1.1 0-2 .9-2 2v14c0 1.1.9 2 2 2h14c1.1 0 2-.9 2-2V5c0-1.1-.9-2-2-2zM9 17H7v-7h2v7zm4 0h-2V7h2v10zm4 0h-2v-4h2v4z\"/>\n",
              "    </g>\n",
              "</svg>\n",
              "  </button>\n",
              "\n",
              "<style>\n",
              "  .colab-df-quickchart {\n",
              "      --bg-color: #E8F0FE;\n",
              "      --fill-color: #1967D2;\n",
              "      --hover-bg-color: #E2EBFA;\n",
              "      --hover-fill-color: #174EA6;\n",
              "      --disabled-fill-color: #AAA;\n",
              "      --disabled-bg-color: #DDD;\n",
              "  }\n",
              "\n",
              "  [theme=dark] .colab-df-quickchart {\n",
              "      --bg-color: #3B4455;\n",
              "      --fill-color: #D2E3FC;\n",
              "      --hover-bg-color: #434B5C;\n",
              "      --hover-fill-color: #FFFFFF;\n",
              "      --disabled-bg-color: #3B4455;\n",
              "      --disabled-fill-color: #666;\n",
              "  }\n",
              "\n",
              "  .colab-df-quickchart {\n",
              "    background-color: var(--bg-color);\n",
              "    border: none;\n",
              "    border-radius: 50%;\n",
              "    cursor: pointer;\n",
              "    display: none;\n",
              "    fill: var(--fill-color);\n",
              "    height: 32px;\n",
              "    padding: 0;\n",
              "    width: 32px;\n",
              "  }\n",
              "\n",
              "  .colab-df-quickchart:hover {\n",
              "    background-color: var(--hover-bg-color);\n",
              "    box-shadow: 0 1px 2px rgba(60, 64, 67, 0.3), 0 1px 3px 1px rgba(60, 64, 67, 0.15);\n",
              "    fill: var(--button-hover-fill-color);\n",
              "  }\n",
              "\n",
              "  .colab-df-quickchart-complete:disabled,\n",
              "  .colab-df-quickchart-complete:disabled:hover {\n",
              "    background-color: var(--disabled-bg-color);\n",
              "    fill: var(--disabled-fill-color);\n",
              "    box-shadow: none;\n",
              "  }\n",
              "\n",
              "  .colab-df-spinner {\n",
              "    border: 2px solid var(--fill-color);\n",
              "    border-color: transparent;\n",
              "    border-bottom-color: var(--fill-color);\n",
              "    animation:\n",
              "      spin 1s steps(1) infinite;\n",
              "  }\n",
              "\n",
              "  @keyframes spin {\n",
              "    0% {\n",
              "      border-color: transparent;\n",
              "      border-bottom-color: var(--fill-color);\n",
              "      border-left-color: var(--fill-color);\n",
              "    }\n",
              "    20% {\n",
              "      border-color: transparent;\n",
              "      border-left-color: var(--fill-color);\n",
              "      border-top-color: var(--fill-color);\n",
              "    }\n",
              "    30% {\n",
              "      border-color: transparent;\n",
              "      border-left-color: var(--fill-color);\n",
              "      border-top-color: var(--fill-color);\n",
              "      border-right-color: var(--fill-color);\n",
              "    }\n",
              "    40% {\n",
              "      border-color: transparent;\n",
              "      border-right-color: var(--fill-color);\n",
              "      border-top-color: var(--fill-color);\n",
              "    }\n",
              "    60% {\n",
              "      border-color: transparent;\n",
              "      border-right-color: var(--fill-color);\n",
              "    }\n",
              "    80% {\n",
              "      border-color: transparent;\n",
              "      border-right-color: var(--fill-color);\n",
              "      border-bottom-color: var(--fill-color);\n",
              "    }\n",
              "    90% {\n",
              "      border-color: transparent;\n",
              "      border-bottom-color: var(--fill-color);\n",
              "    }\n",
              "  }\n",
              "</style>\n",
              "\n",
              "  <script>\n",
              "    async function quickchart(key) {\n",
              "      const quickchartButtonEl =\n",
              "        document.querySelector('#' + key + ' button');\n",
              "      quickchartButtonEl.disabled = true;  // To prevent multiple clicks.\n",
              "      quickchartButtonEl.classList.add('colab-df-spinner');\n",
              "      try {\n",
              "        const charts = await google.colab.kernel.invokeFunction(\n",
              "            'suggestCharts', [key], {});\n",
              "      } catch (error) {\n",
              "        console.error('Error during call to suggestCharts:', error);\n",
              "      }\n",
              "      quickchartButtonEl.classList.remove('colab-df-spinner');\n",
              "      quickchartButtonEl.classList.add('colab-df-quickchart-complete');\n",
              "    }\n",
              "    (() => {\n",
              "      let quickchartButtonEl =\n",
              "        document.querySelector('#df-6b260940-7b09-48d0-9a48-f15167431aa0 button');\n",
              "      quickchartButtonEl.style.display =\n",
              "        google.colab.kernel.accessAllowed ? 'block' : 'none';\n",
              "    })();\n",
              "  </script>\n",
              "</div>\n",
              "    </div>\n",
              "  </div>\n"
            ],
            "application/vnd.google.colaboratory.intrinsic+json": {
              "type": "dataframe",
              "summary": "{\n  \"name\": \"df\",\n  \"rows\": 3,\n  \"fields\": [\n    {\n      \"column\": \"text\",\n      \"properties\": {\n        \"dtype\": \"string\",\n        \"num_unique_values\": 3,\n        \"samples\": [\n          \"\\u041c\\u043e\\u043b\\u043e\\u0434\\u0451\\u0436\\u043a\\u0430 \\u0437\\u0430\\u043a\\u043e\\u043d\\u0447\\u0438\\u043b\\u0430\\u0441\\u044c:( \\u043e\\u0447\\u0435\\u043d\\u044c \\u043d\\u0430\\u0434\\u0435\\u044e\\u0441\\u044c, \\u0447\\u0442\\u043e \\u0431\\u0443\\u0434\\u0435\\u0442 2 \\u0441\\u0435\\u0437\\u043e\\u043d!&lt;3\",\n          \"@_marsi \\u0410, \\u043d\\u0443 \\u0442\\u0430\\u043a \\u044f \\u0436 \\u043f\\u043e\\u0447\\u0442\\u0438 \\u0443\\u0433\\u0430\\u0434\\u0430\\u043b - \\u0431\\u0443\\u0434\\u0435\\u0442 \\u0431\\u043e\\u043b\\u044c\\u0448\\u0430\\u044f \\u0437\\u043e\\u043d\\u0430 \\u0441\\u0432\\u043e\\u0431\\u043e\\u0434\\u043d\\u043e\\u0439 \\u0442\\u043e\\u0440\\u0433\\u043e\\u0432\\u043b\\u0438)\",\n          \"\\u201c@Ivashenko_tweet: \\u0412 \\u043d\\u0430\\u0448\\u0435\\u0439 \\u0441\\u0442\\u0440\\u0430\\u043d\\u0435 \\u0443 \\u043b\\u044e\\u0434\\u0435\\u0439 \\u043f\\u0440\\u0438\\u043d\\u044f\\u0442\\u043e \\u043e\\u0441\\u043a\\u043e\\u0440\\u0431\\u043b\\u044f\\u0442\\u044c \\u0432\\u0441\\u0451 \\u0438 \\u0432\\u0441\\u044f. \\u042d\\u0442\\u043e \\u0447\\u0435\\u0440\\u0442\\u0430 \\u0438\\u0441\\u043a\\u043b\\u044e\\u0447\\u0438\\u0442\\u0435\\u043b\\u044c\\u043d\\u043e \\u0440\\u0443\\u0441\\u0441\\u043a\\u0438\\u0445.\\u201d \\u041a \\u0441\\u043e\\u0436\\u0430\\u043b\\u0435\\u043d\\u0438\\u044e, \\u044d\\u0442\\u043e \\u0442\\u0430\\u043a :(\"\n        ],\n        \"semantic_type\": \"\",\n        \"description\": \"\"\n      }\n    },\n    {\n      \"column\": \"label\",\n      \"properties\": {\n        \"dtype\": \"string\",\n        \"num_unique_values\": 2,\n        \"samples\": [\n          \"positive\",\n          \"negative\"\n        ],\n        \"semantic_type\": \"\",\n        \"description\": \"\"\n      }\n    },\n    {\n      \"column\": \"lemmas\",\n      \"properties\": {\n        \"dtype\": \"string\",\n        \"num_unique_values\": 3,\n        \"samples\": [\n          \"\\u043c\\u043e\\u043b\\u043e\\u0434\\u0451\\u0436\\u043a\\u0430 \\u0437\\u0430\\u043a\\u043e\\u043d\\u0447\\u0438\\u0442\\u044c\\u0441\\u044f \\u043e\\u0447\\u0435\\u043d\\u044c \\u043d\\u0430\\u0434\\u0435\\u044f\\u0442\\u044c\\u0441\\u044f \\u0441\\u0435\\u0437\\u043e\\u043d\",\n          \"_marsi \\u0443\\u0433\\u0430\\u0434\\u0430\\u0442\\u044c \\u0431\\u043e\\u043b\\u044c\\u0448\\u0438\\u0439 \\u0437\\u043e\\u043d\\u0430 \\u0441\\u0432\\u043e\\u0431\\u043e\\u0434\\u043d\\u044b\\u0439 \\u0442\\u043e\\u0440\\u0433\\u043e\\u0432\\u043b\\u044f\"\n        ],\n        \"semantic_type\": \"\",\n        \"description\": \"\"\n      }\n    },\n    {\n      \"column\": \"new_lemmas\",\n      \"properties\": {\n        \"dtype\": \"string\",\n        \"num_unique_values\": 3,\n        \"samples\": [\n          \"\\u043c\\u043e\\u043b\\u043e\\u0434\\u0451\\u0436\\u043a\\u0430 \\u0437\\u0430\\u043a\\u043e\\u043d\\u0447\\u0438\\u043b\\u0430\\u0441\\u044c:( \\u043e\\u0447\\u0435\\u043d\\u044c \\u043d\\u0430\\u0434\\u0435\\u044e\\u0441\\u044c, \\u0447\\u0442\\u043e \\u0431\\u0443\\u0434\\u0435\\u0442 2 \\u0441\\u0435\\u0437\\u043e\\u043d!&lt;3\",\n          \"@_marsi \\u0430, \\u043d\\u0443 \\u0442\\u0430\\u043a \\u044f \\u0436 \\u043f\\u043e\\u0447\\u0442\\u0438 \\u0443\\u0433\\u0430\\u0434\\u0430\\u043b - \\u0431\\u0443\\u0434\\u0435\\u0442 \\u0431\\u043e\\u043b\\u044c\\u0448\\u0430\\u044f \\u0437\\u043e\\u043d\\u0430 \\u0441\\u0432\\u043e\\u0431\\u043e\\u0434\\u043d\\u043e\\u0439 \\u0442\\u043e\\u0440\\u0433\\u043e\\u0432\\u043b\\u0438)\"\n        ],\n        \"semantic_type\": \"\",\n        \"description\": \"\"\n      }\n    }\n  ]\n}"
            }
          },
          "metadata": {},
          "execution_count": 35
        }
      ],
      "source": [
        "df['new_lemmas'] = df.text.apply(lambda x: x.lower())\n",
        "df.sample(3)"
      ]
    },
    {
      "cell_type": "code",
      "execution_count": null,
      "metadata": {
        "id": "eS9_cBDH7Bks"
      },
      "outputs": [],
      "source": [
        "x_train, x_test, y_train, y_test = train_test_split(df.new_lemmas, df.label)"
      ]
    },
    {
      "cell_type": "code",
      "source": [
        "from nltk import word_tokenize\n",
        "import nltk\n",
        "nltk.download('punkt')"
      ],
      "metadata": {
        "colab": {
          "base_uri": "https://localhost:8080/"
        },
        "id": "jfx0b4CiVqz-",
        "outputId": "d65e3bfd-0bc3-45a7-e5d1-b96fa96bf0a0"
      },
      "execution_count": null,
      "outputs": [
        {
          "output_type": "stream",
          "name": "stderr",
          "text": [
            "[nltk_data] Downloading package punkt to /root/nltk_data...\n",
            "[nltk_data]   Unzipping tokenizers/punkt.zip.\n"
          ]
        },
        {
          "output_type": "execute_result",
          "data": {
            "text/plain": [
              "True"
            ]
          },
          "metadata": {},
          "execution_count": 38
        }
      ]
    },
    {
      "cell_type": "code",
      "execution_count": null,
      "metadata": {
        "id": "ue0DUsX18id0",
        "outputId": "8a37bf46-b281-4926-e2fe-ca4925080adc",
        "colab": {
          "base_uri": "https://localhost:8080/"
        }
      },
      "outputs": [
        {
          "output_type": "stream",
          "name": "stdout",
          "text": [
            "              precision    recall  f1-score   support\n",
            "\n",
            "    negative       1.00      1.00      1.00     27922\n",
            "    positive       1.00      1.00      1.00     28787\n",
            "\n",
            "    accuracy                           1.00     56709\n",
            "   macro avg       1.00      1.00      1.00     56709\n",
            "weighted avg       1.00      1.00      1.00     56709\n",
            "\n"
          ]
        }
      ],
      "source": [
        "vec = TfidfVectorizer(ngram_range=(1, 1), tokenizer=word_tokenize)\n",
        "bow = vec.fit_transform(x_train)\n",
        "clf = LogisticRegression(random_state=42, max_iter = 300)\n",
        "clf.fit(bow, y_train)\n",
        "pred = clf.predict(vec.transform(x_test))\n",
        "print(classification_report(pred, y_test))"
      ]
    },
    {
      "cell_type": "code",
      "source": [
        "word_tokenize('Утром была минутка милоты :) скорее бы уже февраль!!!')"
      ],
      "metadata": {
        "colab": {
          "base_uri": "https://localhost:8080/"
        },
        "id": "fzC2oATyWZlu",
        "outputId": "adbdf565-c173-43a9-c8eb-e983a6669899"
      },
      "execution_count": null,
      "outputs": [
        {
          "output_type": "execute_result",
          "data": {
            "text/plain": [
              "['Утром',\n",
              " 'была',\n",
              " 'минутка',\n",
              " 'милоты',\n",
              " ':',\n",
              " ')',\n",
              " 'скорее',\n",
              " 'бы',\n",
              " 'уже',\n",
              " 'февраль',\n",
              " '!',\n",
              " '!',\n",
              " '!']"
            ]
          },
          "metadata": {},
          "execution_count": 41
        }
      ]
    },
    {
      "cell_type": "markdown",
      "metadata": {
        "id": "wymeD7-B8id3"
      },
      "source": [
        "Как можно видеть, если оставить пунктуацию, то все метрики равны 1."
      ]
    },
    {
      "cell_type": "code",
      "execution_count": null,
      "metadata": {
        "id": "rMdomKXV7Bkt",
        "outputId": "fe07703b-263c-4f4e-8734-19c761e16780",
        "colab": {
          "base_uri": "https://localhost:8080/"
        }
      },
      "outputs": [
        {
          "output_type": "execute_result",
          "data": {
            "text/plain": [
              "(260228, 260228)"
            ]
          },
          "metadata": {},
          "execution_count": 42
        }
      ],
      "source": [
        "len(vec.vocabulary_), len(clf.coef_[0])"
      ]
    },
    {
      "cell_type": "code",
      "source": [
        "# это то, какой порядковый номер у какого токена (признака)\n",
        "list(vec.vocabulary_.items())[:10]"
      ],
      "metadata": {
        "colab": {
          "base_uri": "https://localhost:8080/"
        },
        "id": "XMEYwvD1ZkRi",
        "outputId": "1e383323-84e8-44a7-ac75-ca6050802a10"
      },
      "execution_count": null,
      "outputs": [
        {
          "output_type": "execute_result",
          "data": {
            "text/plain": [
              "[('``', 31302),\n",
              " ('@', 29465),\n",
              " ('samantadarko', 85334),\n",
              " (':', 29385),\n",
              " ('ретвит', 215941),\n",
              " (',', 96),\n",
              " ('если', 137422),\n",
              " ('ты', 239245),\n",
              " ('проебал', 208086),\n",
              " ('загадать', 140395)]"
            ]
          },
          "metadata": {},
          "execution_count": 67
        }
      ]
    },
    {
      "cell_type": "code",
      "source": [
        "# упорядочили токены\n",
        "sorted_toks = sorted(vec.vocabulary_.items(), key=lambda item: item[1])\n",
        "sorted_toks[:10]"
      ],
      "metadata": {
        "colab": {
          "base_uri": "https://localhost:8080/"
        },
        "id": "0baUlkwta2Yo",
        "outputId": "466e6c9f-4655-428a-dce5-7423460a7d4e"
      },
      "execution_count": null,
      "outputs": [
        {
          "output_type": "execute_result",
          "data": {
            "text/plain": [
              "[('!', 0),\n",
              " ('#', 1),\n",
              " ('$', 2),\n",
              " ('%', 3),\n",
              " ('&', 4),\n",
              " (\"'\", 5),\n",
              " (\"''\", 6),\n",
              " ('(', 7),\n",
              " (')', 8),\n",
              " ('*', 9)]"
            ]
          },
          "metadata": {},
          "execution_count": 69
        }
      ]
    },
    {
      "cell_type": "code",
      "source": [
        "# это то, какие коэффициенты у признаков\n",
        "# это про важность наличия признака для класса 1\n",
        "clf.coef_[0]"
      ],
      "metadata": {
        "colab": {
          "base_uri": "https://localhost:8080/"
        },
        "id": "haptndTDZhSM",
        "outputId": "8e68f14b-5176-4e0e-e709-203619c2179c"
      },
      "execution_count": null,
      "outputs": [
        {
          "output_type": "execute_result",
          "data": {
            "text/plain": [
              "array([ 1.01005272e-01,  3.73256477e-01, -9.21144732e-02, ...,\n",
              "       -5.66518225e-05,  5.75487329e-03,  8.91926315e-03])"
            ]
          },
          "metadata": {},
          "execution_count": 62
        }
      ]
    },
    {
      "cell_type": "code",
      "execution_count": null,
      "metadata": {
        "id": "DGKuAvYR8id3",
        "outputId": "832f6635-23bd-4cb2-ac78-ebc652f5bb64",
        "colab": {
          "base_uri": "https://localhost:8080/"
        }
      },
      "outputs": [
        {
          "output_type": "execute_result",
          "data": {
            "text/plain": [
              "[(('!', 0), 0.1010052718246332),\n",
              " (('#', 1), 0.37325647707424414),\n",
              " (('$', 2), -0.09211447321755932),\n",
              " (('%', 3), 1.3891958304949708),\n",
              " (('&', 4), -0.25110743429354676),\n",
              " ((\"'\", 5), -0.019331142846372704),\n",
              " ((\"''\", 6), 0.19958466426184218),\n",
              " (('(', 7), -59.705312218075875),\n",
              " ((')', 8), 58.44309527710594),\n",
              " (('*', 9), 7.349875473879972)]"
            ]
          },
          "metadata": {},
          "execution_count": 71
        }
      ],
      "source": [
        "importances = list(zip(sorted_toks, clf.coef_[0]))\n",
        "importances[:10]"
      ]
    },
    {
      "cell_type": "code",
      "execution_count": null,
      "metadata": {
        "id": "MXk8jbNF7Bkt",
        "outputId": "2ce12575-1e84-4b53-cd7d-e3689bc9bb0e",
        "colab": {
          "base_uri": "https://localhost:8080/"
        }
      },
      "outputs": [
        {
          "output_type": "execute_result",
          "data": {
            "text/plain": [
              "[((')', 8), 58.44309527710594),\n",
              " (('d', 43546), 26.91344786674441),\n",
              " (('dd', 44979), 10.625051537552853),\n",
              " (('^_^', 29481), 9.132530760293815),\n",
              " (('ddd', 44988), 8.03046578846086),\n",
              " (('-d', 245), 7.444101317870151),\n",
              " (('*', 9), 7.349875473879972),\n",
              " ((':', 29385), 6.103079766353063),\n",
              " (('dddd', 44989), 4.890694361315784),\n",
              " (('ddddd', 44991), 3.1638561716428617),\n",
              " (('люблю', 163320), 1.9067458364421082),\n",
              " (('dddddd', 44992), 1.777088868542044),\n",
              " (('х', 247371), 1.7094699789990497),\n",
              " (('=^_^=', 29437), 1.597157765599104),\n",
              " (('спасибо', 228082), 1.4808592616392815),\n",
              " (('%', 3), 1.3891958304949708),\n",
              " (('okirilyuk', 77921), 1.348509174999615),\n",
              " (('приятно', 207120), 1.2998294262952363),\n",
              " (('ахахах', 106326), 1.2979616732700872),\n",
              " (('dddddddd', 44994), 1.2623118168556864)]"
            ]
          },
          "metadata": {},
          "execution_count": 72
        }
      ],
      "source": [
        "# самые важные токены для класса 1\n",
        "sorted_importances = sorted(importances, key = lambda x: -x[1])\n",
        "sorted_importances[:20]"
      ]
    },
    {
      "cell_type": "code",
      "source": [
        "# самые важные токены для класса 0\n",
        "sorted_importances = sorted(importances, key = lambda x: x[1])\n",
        "sorted_importances[:20]"
      ],
      "metadata": {
        "colab": {
          "base_uri": "https://localhost:8080/"
        },
        "id": "FAIyu5ubbhLs",
        "outputId": "0b9f9fba-4019-455a-9e02-12eac69bbc2f"
      },
      "execution_count": null,
      "outputs": [
        {
          "output_type": "execute_result",
          "data": {
            "text/plain": [
              "[(('(', 7), -59.705312218075875),\n",
              " (('|', 101408), -11.136903421619358),\n",
              " (('о_о', 180270), -10.832795333500412),\n",
              " (('-/', 130), -8.727387426025608),\n",
              " (('o_o', 77554), -8.42072340741087),\n",
              " (('cio_optimal', 42460), -5.452184278085164),\n",
              " (('to_over_kill', 92787), -5.303690459483595),\n",
              " (('do_or_die_xxx', 46765), -4.469405729573747),\n",
              " (('prisonero_o', 81780), -4.085958502396247),\n",
              " (('rt', 84443), -4.075767291412801),\n",
              " (('reno_oppa', 83409), -3.878522660579768),\n",
              " (('horanso_on', 55138), -3.633290128546062),\n",
              " (('kota_oo_oo', 62877), -3.2575586916189607),\n",
              " (('_do_or_die__', 30114), -2.7983028137047263),\n",
              " (('radio_of_moon', 82716), -2.766423693858961),\n",
              " (('boo_ohoo', 40331), -2.736179496751567),\n",
              " (('o_obnulyay', 77559), -2.55022407266154),\n",
              " (('снаступающимтвиттерский', 225405), -2.5404461659868924),\n",
              " (('lponomarenko_o', 67743), -2.311360891449097),\n",
              " (('july_to_october', 59175), -2.1480612447580416)]"
            ]
          },
          "metadata": {},
          "execution_count": 73
        }
      ]
    },
    {
      "cell_type": "code",
      "source": [
        "vec.vocabulary_[')']"
      ],
      "metadata": {
        "colab": {
          "base_uri": "https://localhost:8080/"
        },
        "id": "rMdruOtuXHQE",
        "outputId": "3604799e-c086-47d6-ff6a-2c73bf758b5c"
      },
      "execution_count": null,
      "outputs": [
        {
          "output_type": "execute_result",
          "data": {
            "text/plain": [
              "8"
            ]
          },
          "metadata": {},
          "execution_count": 48
        }
      ]
    },
    {
      "cell_type": "code",
      "source": [
        "clf.coef_[0][8]"
      ],
      "metadata": {
        "colab": {
          "base_uri": "https://localhost:8080/"
        },
        "id": "Ywqgb9zOXQti",
        "outputId": "e01d2fc1-7206-4fe0-898d-7765d5d92313"
      },
      "execution_count": null,
      "outputs": [
        {
          "output_type": "execute_result",
          "data": {
            "text/plain": [
              "58.44309527710594"
            ]
          },
          "metadata": {},
          "execution_count": 52
        }
      ]
    },
    {
      "cell_type": "markdown",
      "metadata": {
        "id": "1QxmioaZ8id8"
      },
      "source": [
        "Посмотрим, как один из наиболее значительных токенов справится с классификацией безо всякого машинного обучения:"
      ]
    },
    {
      "cell_type": "code",
      "execution_count": null,
      "metadata": {
        "id": "17LPHPGR8id9",
        "outputId": "767c9c71-16fd-4da8-edb0-4dfefb4afe08",
        "colab": {
          "base_uri": "https://localhost:8080/"
        }
      },
      "outputs": [
        {
          "output_type": "stream",
          "name": "stdout",
          "text": [
            "              precision    recall  f1-score   support\n",
            "\n",
            "    negative       1.00      0.85      0.92     32894\n",
            "    positive       0.83      1.00      0.91     23815\n",
            "\n",
            "    accuracy                           0.91     56709\n",
            "   macro avg       0.91      0.93      0.91     56709\n",
            "weighted avg       0.93      0.91      0.91     56709\n",
            "\n"
          ]
        }
      ],
      "source": [
        "cool_token = ')'\n",
        "pred = ['positive' if cool_token in tweet else 'negative' for tweet in x_test]\n",
        "print(classification_report(pred, y_test))"
      ]
    },
    {
      "cell_type": "markdown",
      "metadata": {
        "id": "aIaYLANf7Bku"
      },
      "source": [
        "Можно видеть, что это уже позволяет достаточно хорошо классифицировать тексты."
      ]
    },
    {
      "cell_type": "markdown",
      "metadata": {
        "id": "B7VjSCog8id_"
      },
      "source": [
        "## Символьные n-граммы\n",
        "\n",
        "Теперь в качестве признаком используем, например, униграммы символов:"
      ]
    },
    {
      "cell_type": "code",
      "execution_count": null,
      "metadata": {
        "id": "ZSO-k4wA8id_",
        "outputId": "b3a200b2-b9f6-4182-de6a-db8cf1a340b0",
        "colab": {
          "base_uri": "https://localhost:8080/"
        }
      },
      "outputs": [
        {
          "output_type": "stream",
          "name": "stderr",
          "text": [
            "/usr/local/lib/python3.10/dist-packages/sklearn/linear_model/_logistic.py:460: ConvergenceWarning: lbfgs failed to converge (status=1):\n",
            "STOP: TOTAL NO. of ITERATIONS REACHED LIMIT.\n",
            "\n",
            "Increase the number of iterations (max_iter) or scale the data as shown in:\n",
            "    https://scikit-learn.org/stable/modules/preprocessing.html\n",
            "Please also refer to the documentation for alternative solver options:\n",
            "    https://scikit-learn.org/stable/modules/linear_model.html#logistic-regression\n",
            "  n_iter_i = _check_optimize_result(\n"
          ]
        },
        {
          "output_type": "stream",
          "name": "stdout",
          "text": [
            "              precision    recall  f1-score   support\n",
            "\n",
            "    negative       0.99      1.00      1.00     27876\n",
            "    positive       1.00      0.99      1.00     28833\n",
            "\n",
            "    accuracy                           1.00     56709\n",
            "   macro avg       1.00      1.00      1.00     56709\n",
            "weighted avg       1.00      1.00      1.00     56709\n",
            "\n"
          ]
        }
      ],
      "source": [
        "vec = CountVectorizer(analyzer='char', ngram_range=(1, 1))\n",
        "bow = vec.fit_transform(x_train)\n",
        "clf = LogisticRegression(random_state=42)\n",
        "clf.fit(bow, y_train)\n",
        "pred = clf.predict(vec.transform(x_test))\n",
        "print(classification_report(pred, y_test))"
      ]
    },
    {
      "cell_type": "markdown",
      "metadata": {
        "id": "9i6JwqL-8ieE"
      },
      "source": [
        "Таким образом, становится понятно, почему на этих данных качество классификации 1. Так или иначе, на символах классифицировать тоже можно.\n",
        "\n",
        "Ещё одна замечательная особенность символьных признаков: токенизация и лемматизация не нужна, можно использовать такой подход для языков, у которых нет готовых анализаторов."
      ]
    },
    {
      "cell_type": "markdown",
      "metadata": {
        "id": "WNyQSqPj7Bkv"
      },
      "source": [
        "## Итого\n",
        "\n",
        "* познакомились с задачей бинарной классификации текстов.\n",
        "\n",
        "* научились строить простые признаки на основе метода \"мешка слов\" с помощью библиотеки sklearn: CountVectorizer и TfidfVectorizer.\n",
        "\n",
        "* использовали для классификации линейную модель логистической регрессии.\n",
        "\n",
        "* поняли, что многое зависит от подхода к предобработки текста и от признаков, которые используются в модели.\n",
        "\n",
        "* увидели, что в некоторых задачах важно использование каждого символа из текста, в том числе пунктуации."
      ]
    }
  ],
  "metadata": {
    "colab": {
      "provenance": []
    },
    "kernelspec": {
      "display_name": "Python 3 (ipykernel)",
      "language": "python",
      "name": "python3"
    },
    "language_info": {
      "codemirror_mode": {
        "name": "ipython",
        "version": 3
      },
      "file_extension": ".py",
      "mimetype": "text/x-python",
      "name": "python",
      "nbconvert_exporter": "python",
      "pygments_lexer": "ipython3",
      "version": "3.9.16"
    }
  },
  "nbformat": 4,
  "nbformat_minor": 0
}