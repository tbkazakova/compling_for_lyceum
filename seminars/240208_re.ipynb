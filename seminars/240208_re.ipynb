{
  "cells": [
    {
      "cell_type": "markdown",
      "id": "30e0b8aa-be64-4cf0-bda5-70e29e2d809d",
      "metadata": {
        "id": "30e0b8aa-be64-4cf0-bda5-70e29e2d809d"
      },
      "source": [
        "# Регулярные выражения\n",
        "\n",
        "Регулярные выражения (RE, regexp) нужны, чтобы находить в строках подстроки не по точному вхождению, а описываемые *правилами-шаблонами*.\n",
        "\n",
        "Специальные символы, с помощью которых мы будем задавать правила поиска строк:\n",
        "- `.` один любой символ\n",
        "- `?` 0 или 1 вхождение предыдущего символа\n",
        "- `*` предыдущий символ повторяется ≥ 0 раз (0, 1, 2, 3 и т. д.)\n",
        "- `+` предыдущий символ повторяется ≥ 1 раз (1, 2, 3 и т. д.)\n",
        "- `^` начало строки\n",
        "- `$` конец строки\n",
        "- `[abc]` «или»: любой из символов а, b, c\n",
        "- `[а-я]` любая буква русского алфавита от «а» до «я» Внутри квадратных скобок большинство специальных символ не действуют: . обозначает точку, ? — вопросительный знак. Вне квадратных скобок, чтобы получить точку или, например, плюс, специальные символы надо экранировать с помощью \\ (`\\.`обозначает точку, `\\+` обозначает плюс).\n",
        "- `[^abc]` — отрицание: любой символ, кроме a, b, c.\n",
        "- `\\d` любая цифра, аналогично `[0-9]`\n",
        "- `\\D` — любой символ, кроме цифр (отрицание `\\d` или `[^0-9]`)\n",
        "- `\\w` — буквы, цифры, _ (то же, что `[a-zA-Z0-9_]`), `\\W` — всё кроме букв, цифр, _.\n",
        "- `\\s` — любой пробелоподбный символ (`[ \\t\\n\\r\\f\\v]`), `\\S` — любой непробелоподбный символ\n",
        "\n",
        "Всё о **модуле `re`**: https://docs.python.org/3/howto/regex.html\n",
        "\n",
        "Regex тренировка: https://regex101.com/\n"
      ]
    },
    {
      "cell_type": "code",
      "execution_count": 1,
      "id": "588a20ed-42d3-4e1a-8651-5cd6c21fd7a5",
      "metadata": {
        "id": "588a20ed-42d3-4e1a-8651-5cd6c21fd7a5"
      },
      "outputs": [],
      "source": [
        "import re"
      ]
    },
    {
      "cell_type": "markdown",
      "id": "35a0a34e-f0c3-468a-9d53-611cb681d1f3",
      "metadata": {
        "id": "35a0a34e-f0c3-468a-9d53-611cb681d1f3"
      },
      "source": [
        "**`re.search(pattern, string)`** - возвращает первое вхождение подстроки, которая подходит под регулярное выражение. re.search(что_ищем; где_ищем)"
      ]
    },
    {
      "cell_type": "code",
      "execution_count": 2,
      "id": "ed8f5f58-7188-4fc1-bcd6-5b90eab70a40",
      "metadata": {
        "colab": {
          "base_uri": "https://localhost:8080/"
        },
        "id": "ed8f5f58-7188-4fc1-bcd6-5b90eab70a40",
        "outputId": "b0d7892d-0eee-4601-ea90-0d428854ad3b"
      },
      "outputs": [
        {
          "output_type": "execute_result",
          "data": {
            "text/plain": [
              "<re.Match object; span=(4, 8), match='кота'>"
            ]
          },
          "metadata": {},
          "execution_count": 2
        }
      ],
      "source": [
        "re.search('кот.', 'Кто кота найдёт, тот с котом, которого найдёт, время проведёт.')"
      ]
    },
    {
      "cell_type": "code",
      "execution_count": 3,
      "id": "596f9804-eb29-4443-8e5f-8a2865a61105",
      "metadata": {
        "colab": {
          "base_uri": "https://localhost:8080/",
          "height": 35
        },
        "id": "596f9804-eb29-4443-8e5f-8a2865a61105",
        "outputId": "fd947362-62ef-496a-bb9a-752284040b11"
      },
      "outputs": [
        {
          "output_type": "execute_result",
          "data": {
            "text/plain": [
              "'кота'"
            ],
            "application/vnd.google.colaboratory.intrinsic+json": {
              "type": "string"
            }
          },
          "metadata": {},
          "execution_count": 3
        }
      ],
      "source": [
        "re.search('кот.', 'Кто кота найдёт, тот с котом, которого найдёт, время проведёт.').group()"
      ]
    },
    {
      "cell_type": "markdown",
      "id": "f9602030-4e33-47a9-8c13-cc652e0b92a3",
      "metadata": {
        "id": "f9602030-4e33-47a9-8c13-cc652e0b92a3"
      },
      "source": [
        "Но если по шаблону ничего не нашлось, `.group()` вызовет ошибку."
      ]
    },
    {
      "cell_type": "code",
      "execution_count": 4,
      "id": "7539857e-9016-4141-acf2-97a51ad61743",
      "metadata": {
        "colab": {
          "base_uri": "https://localhost:8080/",
          "height": 176
        },
        "id": "7539857e-9016-4141-acf2-97a51ad61743",
        "outputId": "6277ea9f-88a8-4255-c0f3-e5035e6061a2"
      },
      "outputs": [
        {
          "output_type": "error",
          "ename": "AttributeError",
          "evalue": "'NoneType' object has no attribute 'group'",
          "traceback": [
            "\u001b[0;31m---------------------------------------------------------------------------\u001b[0m",
            "\u001b[0;31mAttributeError\u001b[0m                            Traceback (most recent call last)",
            "\u001b[0;32m<ipython-input-4-00ba7a4c2b4d>\u001b[0m in \u001b[0;36m<cell line: 1>\u001b[0;34m()\u001b[0m\n\u001b[0;32m----> 1\u001b[0;31m \u001b[0mre\u001b[0m\u001b[0;34m.\u001b[0m\u001b[0msearch\u001b[0m\u001b[0;34m(\u001b[0m\u001b[0;34m'собак.'\u001b[0m\u001b[0;34m,\u001b[0m \u001b[0;34m'Кто кота найдёт, тот с котом, которого найдёт, время проведёт.'\u001b[0m\u001b[0;34m)\u001b[0m\u001b[0;34m.\u001b[0m\u001b[0mgroup\u001b[0m\u001b[0;34m(\u001b[0m\u001b[0;34m)\u001b[0m\u001b[0;34m\u001b[0m\u001b[0;34m\u001b[0m\u001b[0m\n\u001b[0m",
            "\u001b[0;31mAttributeError\u001b[0m: 'NoneType' object has no attribute 'group'"
          ]
        }
      ],
      "source": [
        "re.search('собак.', 'Кто кота найдёт, тот с котом, которого найдёт, время проведёт.').group()"
      ]
    },
    {
      "cell_type": "markdown",
      "id": "f2ff9116-0903-40d2-89ec-e4e1a1370f7c",
      "metadata": {
        "id": "f2ff9116-0903-40d2-89ec-e4e1a1370f7c"
      },
      "source": [
        "Поэтому для надёжности стоит проверять, нашлось ли что-то:"
      ]
    },
    {
      "cell_type": "code",
      "execution_count": 5,
      "id": "7a271e09-2f21-4f75-aa38-5dd5bae3f331",
      "metadata": {
        "colab": {
          "base_uri": "https://localhost:8080/"
        },
        "id": "7a271e09-2f21-4f75-aa38-5dd5bae3f331",
        "outputId": "82aa5d54-db68-43b8-f227-4e32e8a9a559"
      },
      "outputs": [
        {
          "output_type": "stream",
          "name": "stdout",
          "text": [
            "кота\n"
          ]
        }
      ],
      "source": [
        "first_match = re.search('кот.', 'Кто кота найдёт, тот с котом, которого найдёт, время проведёт.')\n",
        "if first_match:\n",
        "    print(first_match.group())\n",
        "else:\n",
        "    print('Nothing found.')"
      ]
    },
    {
      "cell_type": "markdown",
      "id": "bd1b948c-0fa8-42f5-aa08-9549ce40b93f",
      "metadata": {
        "id": "bd1b948c-0fa8-42f5-aa08-9549ce40b93f"
      },
      "source": [
        "Что найдётся, если искать 'кот..'?"
      ]
    },
    {
      "cell_type": "code",
      "execution_count": 6,
      "id": "e397a0ed-bf05-47eb-84b7-b20a8ee8ae6e",
      "metadata": {
        "colab": {
          "base_uri": "https://localhost:8080/",
          "height": 35
        },
        "id": "e397a0ed-bf05-47eb-84b7-b20a8ee8ae6e",
        "outputId": "53c2c938-5d61-4370-beeb-01192a9f43bd"
      },
      "outputs": [
        {
          "output_type": "execute_result",
          "data": {
            "text/plain": [
              "'кота '"
            ],
            "application/vnd.google.colaboratory.intrinsic+json": {
              "type": "string"
            }
          },
          "metadata": {},
          "execution_count": 6
        }
      ],
      "source": [
        "re.search('кот..', 'Кто кота найдёт, тот с котом, которого найдёт, время проведёт.').group()"
      ]
    },
    {
      "cell_type": "markdown",
      "id": "4ec4439c-8dbc-4c92-8bef-da5019d9269d",
      "metadata": {
        "id": "4ec4439c-8dbc-4c92-8bef-da5019d9269d"
      },
      "source": [
        "**`re.findall(pattern, string)`** - находит все вхождения подходящих строк"
      ]
    },
    {
      "cell_type": "code",
      "execution_count": 7,
      "id": "3fca0649-2f30-4ff3-bb25-2d95b1365508",
      "metadata": {
        "colab": {
          "base_uri": "https://localhost:8080/"
        },
        "id": "3fca0649-2f30-4ff3-bb25-2d95b1365508",
        "outputId": "ae0497a9-002f-4306-9e2d-a09eb6274a83"
      },
      "outputs": [
        {
          "output_type": "execute_result",
          "data": {
            "text/plain": [
              "['кота', 'кото', 'кото']"
            ]
          },
          "metadata": {},
          "execution_count": 7
        }
      ],
      "source": [
        "all_results = re.findall('кот.', 'Кто кота найдёт, тот с котом, которого найдёт, время проведёт.')\n",
        "all_results"
      ]
    },
    {
      "cell_type": "markdown",
      "id": "0a216804-3355-45e9-a933-d636317ab4fe",
      "metadata": {
        "id": "0a216804-3355-45e9-a933-d636317ab4fe"
      },
      "source": [
        "### Про экранирование и сырые строки"
      ]
    },
    {
      "cell_type": "code",
      "execution_count": 8,
      "id": "85b5ec7c-47ac-48ab-97f4-2804077c80e9",
      "metadata": {
        "colab": {
          "base_uri": "https://localhost:8080/"
        },
        "id": "85b5ec7c-47ac-48ab-97f4-2804077c80e9",
        "outputId": "cd9364da-179f-407b-e38f-e9fbe8724866"
      },
      "outputs": [
        {
          "output_type": "execute_result",
          "data": {
            "text/plain": [
              "['0', '8', '2', '0', '2', '4']"
            ]
          },
          "metadata": {},
          "execution_count": 8
        }
      ],
      "source": [
        "digits = re.findall('\\d', 'Сегодня 08 февраля 2024 года')\n",
        "digits"
      ]
    },
    {
      "cell_type": "code",
      "execution_count": 9,
      "id": "d9021885-5d3c-4986-9efb-44363ff663e2",
      "metadata": {
        "colab": {
          "base_uri": "https://localhost:8080/"
        },
        "id": "d9021885-5d3c-4986-9efb-44363ff663e2",
        "outputId": "f345f983-55a2-4f46-8386-08c2ee9caab5"
      },
      "outputs": [
        {
          "output_type": "execute_result",
          "data": {
            "text/plain": [
              "['0', '8', '2', '0', '2', '4']"
            ]
          },
          "metadata": {},
          "execution_count": 9
        }
      ],
      "source": [
        "digits = re.findall(r'\\d', 'Сегодня 08 февраля 2024 года')\n",
        "digits"
      ]
    },
    {
      "cell_type": "markdown",
      "id": "7ffe8a19-477e-465a-923b-5e6a536491fc",
      "metadata": {
        "id": "7ffe8a19-477e-465a-923b-5e6a536491fc"
      },
      "source": [
        "При этом:"
      ]
    },
    {
      "cell_type": "code",
      "execution_count": 10,
      "id": "52dec7d0-f361-4583-8885-753b02c56f3c",
      "metadata": {
        "colab": {
          "base_uri": "https://localhost:8080/"
        },
        "id": "52dec7d0-f361-4583-8885-753b02c56f3c",
        "outputId": "dcd13a2d-3fc2-4b12-c256-065c3897c035"
      },
      "outputs": [
        {
          "output_type": "stream",
          "name": "stdout",
          "text": [
            "часть 1\n",
            "часть 2\n"
          ]
        }
      ],
      "source": [
        "print('часть 1\\nчасть 2')"
      ]
    },
    {
      "cell_type": "code",
      "execution_count": 11,
      "id": "87def1fb-fe6e-4c3c-8fa2-bdfbd0a81908",
      "metadata": {
        "colab": {
          "base_uri": "https://localhost:8080/"
        },
        "id": "87def1fb-fe6e-4c3c-8fa2-bdfbd0a81908",
        "outputId": "18a535ec-ad4b-4bd1-aaf1-344e69662020"
      },
      "outputs": [
        {
          "output_type": "stream",
          "name": "stdout",
          "text": [
            "часть 1\\nчасть 2\n"
          ]
        }
      ],
      "source": [
        "print(r'часть 1\\nчасть 2')"
      ]
    },
    {
      "cell_type": "markdown",
      "id": "242c28a8-29e0-4553-bb88-2a0a6dff6869",
      "metadata": {
        "id": "242c28a8-29e0-4553-bb88-2a0a6dff6869"
      },
      "source": [
        "Что значит `r`?\n",
        "\n",
        "`r` перед строкой превращает её в сырую, `r` говорит, что в строке нет спец символов. \\ - просто слэш, n - просто n.\n",
        "\n",
        "Ещё один способ сказать, что символ - не спецсимвол - **экранировать**, поставить перед ним слэш."
      ]
    },
    {
      "cell_type": "code",
      "execution_count": 12,
      "id": "c6f145c4-4a5f-4588-ba7f-1c339a7a06ec",
      "metadata": {
        "colab": {
          "base_uri": "https://localhost:8080/"
        },
        "id": "c6f145c4-4a5f-4588-ba7f-1c339a7a06ec",
        "outputId": "22c4542d-1c6d-48b3-d631-e5ac3c57faad"
      },
      "outputs": [
        {
          "output_type": "execute_result",
          "data": {
            "text/plain": [
              "['0', '8', '2', '0', '2', '4']"
            ]
          },
          "metadata": {},
          "execution_count": 12
        }
      ],
      "source": [
        "digits = re.findall('\\\\d', 'Сегодня 08 февраля 2024 года')\n",
        "digits"
      ]
    },
    {
      "cell_type": "code",
      "execution_count": 13,
      "id": "e526f2ab-5796-4823-83ea-a385c6be3b64",
      "metadata": {
        "colab": {
          "base_uri": "https://localhost:8080/"
        },
        "id": "e526f2ab-5796-4823-83ea-a385c6be3b64",
        "outputId": "bbdb51b7-6f1a-43ce-9fec-4ad655fef857"
      },
      "outputs": [
        {
          "output_type": "stream",
          "name": "stdout",
          "text": [
            "часть 1\\nчасть 2\n"
          ]
        }
      ],
      "source": [
        "print('часть 1\\\\nчасть 2')"
      ]
    },
    {
      "cell_type": "markdown",
      "id": "4bec80f4-8582-4f75-92b7-d9c6ed3aa647",
      "metadata": {
        "id": "4bec80f4-8582-4f75-92b7-d9c6ed3aa647"
      },
      "source": [
        "### Тренировка регулярных выражений\n",
        "\n",
        "**Найдите только год в строке 'Сегодня 08 февраля 2024 года'**"
      ]
    },
    {
      "cell_type": "code",
      "execution_count": 14,
      "id": "0ed6571e-720d-4f6c-8564-a5d5a4ef3b07",
      "metadata": {
        "colab": {
          "base_uri": "https://localhost:8080/"
        },
        "id": "0ed6571e-720d-4f6c-8564-a5d5a4ef3b07",
        "outputId": "43062061-fe4f-4bc2-e866-9ced5599b8d4"
      },
      "outputs": [
        {
          "output_type": "execute_result",
          "data": {
            "text/plain": [
              "['2024']"
            ]
          },
          "metadata": {},
          "execution_count": 14
        }
      ],
      "source": [
        "re.findall(r'\\d\\d\\d\\d', 'Сегодня 08 февраля 2024 года')"
      ]
    },
    {
      "cell_type": "code",
      "execution_count": 15,
      "id": "be47f20a-a371-47f9-aad0-c0eeb46b933b",
      "metadata": {
        "colab": {
          "base_uri": "https://localhost:8080/"
        },
        "id": "be47f20a-a371-47f9-aad0-c0eeb46b933b",
        "outputId": "fbf875cd-80b7-4040-c000-42626bf4d582"
      },
      "outputs": [
        {
          "output_type": "execute_result",
          "data": {
            "text/plain": [
              "['2024']"
            ]
          },
          "metadata": {},
          "execution_count": 15
        }
      ],
      "source": [
        "re.findall(r'\\d{4}', 'Сегодня 08 февраля 2024 года')"
      ]
    },
    {
      "cell_type": "code",
      "execution_count": 16,
      "id": "7830513d-a1e7-4ea6-a992-8f863d2474bc",
      "metadata": {
        "colab": {
          "base_uri": "https://localhost:8080/"
        },
        "id": "7830513d-a1e7-4ea6-a992-8f863d2474bc",
        "outputId": "119c11d1-ee61-43e2-ebfb-37a9eac043f4"
      },
      "outputs": [
        {
          "output_type": "execute_result",
          "data": {
            "text/plain": [
              "['2024']"
            ]
          },
          "metadata": {},
          "execution_count": 16
        }
      ],
      "source": [
        "re.findall('[0-9]{4}', 'Сегодня 08 февраля 2024 года')"
      ]
    },
    {
      "cell_type": "markdown",
      "id": "f962a7f0-ac04-4928-bf59-bf4c2dcf18cc",
      "metadata": {
        "id": "f962a7f0-ac04-4928-bf59-bf4c2dcf18cc"
      },
      "source": [
        "В фигурных скобках указывается, сколько раз может повториться предыдущий элемент."
      ]
    },
    {
      "cell_type": "code",
      "execution_count": 17,
      "id": "91472b80-d827-4102-a698-46126f6bf85c",
      "metadata": {
        "colab": {
          "base_uri": "https://localhost:8080/"
        },
        "id": "91472b80-d827-4102-a698-46126f6bf85c",
        "outputId": "068479a7-46cc-4541-d7fb-0c16e0202dad"
      },
      "outputs": [
        {
          "output_type": "execute_result",
          "data": {
            "text/plain": [
              "['Сего', 'дня ', '08 ф', 'евра', 'ля 2', '024 ', 'года']"
            ]
          },
          "metadata": {},
          "execution_count": 17
        }
      ],
      "source": [
        "re.findall(r'.{4}', 'Сегодня 08 февраля 2024 года')"
      ]
    },
    {
      "cell_type": "markdown",
      "id": "62c3d0da-854b-46e3-8a73-caadd7461780",
      "metadata": {
        "id": "62c3d0da-854b-46e3-8a73-caadd7461780"
      },
      "source": [
        "В квадратных скобках указывается, какие элементы могут стоять на этом месте. Можно перечислять подряд или указывать промежутки. Внутри квадратных скобок не работает большинство спецсимволов."
      ]
    },
    {
      "cell_type": "code",
      "execution_count": 18,
      "id": "cdb84dcd-b965-4afd-a8db-97c4168047cd",
      "metadata": {
        "colab": {
          "base_uri": "https://localhost:8080/"
        },
        "id": "cdb84dcd-b965-4afd-a8db-97c4168047cd",
        "outputId": "3fb9bfc8-7490-4774-e732-772dd4b765c3"
      },
      "outputs": [
        {
          "output_type": "execute_result",
          "data": {
            "text/plain": [
              "['егод', 'февр', 'года']"
            ]
          },
          "metadata": {},
          "execution_count": 18
        }
      ],
      "source": [
        "re.findall('[а-я]{4}', 'Сегодня 08 февраля 2024 года')"
      ]
    },
    {
      "cell_type": "code",
      "execution_count": 19,
      "id": "42a5c525-e01d-4db5-89c8-45efc9f4f6dd",
      "metadata": {
        "colab": {
          "base_uri": "https://localhost:8080/"
        },
        "id": "42a5c525-e01d-4db5-89c8-45efc9f4f6dd",
        "outputId": "15d5418c-a3c7-4fdb-8b56-35388fc460ad"
      },
      "outputs": [
        {
          "output_type": "execute_result",
          "data": {
            "text/plain": [
              "['Сего', 'февр', 'года']"
            ]
          },
          "metadata": {},
          "execution_count": 19
        }
      ],
      "source": [
        "re.findall('[А-Яа-я]{4}', 'Сегодня 08 февраля 2024 года')"
      ]
    },
    {
      "cell_type": "code",
      "source": [
        "re.findall('[А-Яа-я]{4}', 'Сёдня 08 февраля 2024 года')"
      ],
      "metadata": {
        "colab": {
          "base_uri": "https://localhost:8080/"
        },
        "id": "DcgmA4wPqsI7",
        "outputId": "4d306e60-ab9a-4287-f2f7-6afb4d163cb7"
      },
      "id": "DcgmA4wPqsI7",
      "execution_count": 20,
      "outputs": [
        {
          "output_type": "execute_result",
          "data": {
            "text/plain": [
              "['февр', 'года']"
            ]
          },
          "metadata": {},
          "execution_count": 20
        }
      ]
    },
    {
      "cell_type": "code",
      "execution_count": 21,
      "id": "6823e086-5df8-4d74-a63d-f04193b0beae",
      "metadata": {
        "colab": {
          "base_uri": "https://localhost:8080/"
        },
        "id": "6823e086-5df8-4d74-a63d-f04193b0beae",
        "outputId": "ffc6aff7-fcab-493c-f778-62ac4a818187"
      },
      "outputs": [
        {
          "output_type": "execute_result",
          "data": {
            "text/plain": [
              "['Сёдн', 'февр', 'года']"
            ]
          },
          "metadata": {},
          "execution_count": 21
        }
      ],
      "source": [
        "re.findall('[А-Яа-яЁё]{4}', 'Сёдня 08 февраля 2024 года')"
      ]
    },
    {
      "cell_type": "markdown",
      "id": "85323f81-19c8-467e-830a-d674893afbac",
      "metadata": {
        "id": "85323f81-19c8-467e-830a-d674893afbac"
      },
      "source": [
        "С помощью `^` указывается, какие символы мы не хотим найти."
      ]
    },
    {
      "cell_type": "code",
      "execution_count": 22,
      "id": "96fc8eec-8b44-4a33-b313-91922b4ec026",
      "metadata": {
        "colab": {
          "base_uri": "https://localhost:8080/"
        },
        "id": "96fc8eec-8b44-4a33-b313-91922b4ec026",
        "outputId": "6141608b-d390-4cd2-a8df-66fa43f4e5f6"
      },
      "outputs": [
        {
          "output_type": "execute_result",
          "data": {
            "text/plain": [
              "['С', 'д', 'н']"
            ]
          },
          "metadata": {},
          "execution_count": 22
        }
      ],
      "source": [
        "re.findall('[^ёя]', 'Сёдня')"
      ]
    },
    {
      "cell_type": "markdown",
      "source": [
        "С помощью `+` указывается, что предыдущий символ повторяется ≥ 1 раз"
      ],
      "metadata": {
        "id": "2GXw1dWFs_Vc"
      },
      "id": "2GXw1dWFs_Vc"
    },
    {
      "cell_type": "code",
      "source": [
        "re.findall('а+', 'аааа, а я понял!')"
      ],
      "metadata": {
        "colab": {
          "base_uri": "https://localhost:8080/"
        },
        "id": "nkfHqDFss9wa",
        "outputId": "0dd7272e-fb2d-41b2-b79d-5a90b70ba66f"
      },
      "id": "nkfHqDFss9wa",
      "execution_count": 23,
      "outputs": [
        {
          "output_type": "execute_result",
          "data": {
            "text/plain": [
              "['аааа', 'а']"
            ]
          },
          "metadata": {},
          "execution_count": 23
        }
      ]
    },
    {
      "cell_type": "markdown",
      "source": [
        "С помощью `*` указывается, что предыдущий символ повторяется ≥ 0 раз"
      ],
      "metadata": {
        "id": "DozoTQBVtZ3m"
      },
      "id": "DozoTQBVtZ3m"
    },
    {
      "cell_type": "code",
      "source": [
        "re.findall('а*', 'аааа, а я понял!')"
      ],
      "metadata": {
        "colab": {
          "base_uri": "https://localhost:8080/"
        },
        "id": "HJOYU-GgtXaj",
        "outputId": "ee31d12e-b979-4b16-f770-041e4990d868"
      },
      "id": "HJOYU-GgtXaj",
      "execution_count": 24,
      "outputs": [
        {
          "output_type": "execute_result",
          "data": {
            "text/plain": [
              "['аааа', '', '', 'а', '', '', '', '', '', '', '', '', '', '']"
            ]
          },
          "metadata": {},
          "execution_count": 24
        }
      ]
    },
    {
      "cell_type": "markdown",
      "id": "f095f0ef-11e4-4077-9f80-ba72dce748f0",
      "metadata": {
        "id": "f095f0ef-11e4-4077-9f80-ba72dce748f0"
      },
      "source": [
        "**Найдите телефоны в контактах ФГН**"
      ]
    },
    {
      "cell_type": "code",
      "execution_count": 25,
      "id": "74c9403e-feeb-4c2e-830d-a52fcd01bcba",
      "metadata": {
        "id": "74c9403e-feeb-4c2e-830d-a52fcd01bcba"
      },
      "outputs": [],
      "source": [
        "fgn = '''Справочная:\n",
        "Тел.: +7 (495) 771-32-32\n",
        "Факс: +7 (495) 628-79-31\n",
        "Для соединения с внутренним номером подразделения/работника:\n",
        "+7 (495) 531-00-00\n",
        "Довузовская подготовка:\n",
        "Сайт: http://fdp.hse.ru\n",
        "E-mail: fdp@hse.ru\n",
        "Адреса и телефоны: https://fdp.hse.ru/contacts\n",
        "Приемная комиссия:\n",
        "Тел.: 84957713242; +7(495)916-88-44'''"
      ]
    },
    {
      "cell_type": "code",
      "execution_count": 26,
      "id": "c0884050-a0a8-4c2a-8eb1-6e1341eaf571",
      "metadata": {
        "colab": {
          "base_uri": "https://localhost:8080/"
        },
        "id": "c0884050-a0a8-4c2a-8eb1-6e1341eaf571",
        "outputId": "c211a0b1-1aac-44ad-8588-3bbbd06c059f"
      },
      "outputs": [
        {
          "output_type": "execute_result",
          "data": {
            "text/plain": [
              "['+7 (495) 771-32-32', '+7 (495) 628-79-31', '+7 (495) 531-00-00']"
            ]
          },
          "metadata": {},
          "execution_count": 26
        }
      ],
      "source": [
        "re.findall(r'\\+7 \\(\\d{3}\\) \\d{3}-\\d{2}-\\d{2}', fgn)"
      ]
    },
    {
      "cell_type": "markdown",
      "id": "ce062d94-5723-4fe9-a2b8-ee5e4dacd7e2",
      "metadata": {
        "id": "ce062d94-5723-4fe9-a2b8-ee5e4dacd7e2"
      },
      "source": [
        "`?` - предыдущий символ повторяется 0 или 1 раз (способ указать необязательность)"
      ]
    },
    {
      "cell_type": "code",
      "execution_count": 27,
      "id": "123656a6-401a-4768-9351-16e44a79274d",
      "metadata": {
        "colab": {
          "base_uri": "https://localhost:8080/"
        },
        "id": "123656a6-401a-4768-9351-16e44a79274d",
        "outputId": "38893b0f-3fca-4deb-ec64-42c199df265b"
      },
      "outputs": [
        {
          "output_type": "execute_result",
          "data": {
            "text/plain": [
              "['+7 (495) 771-32-32',\n",
              " '+7 (495) 628-79-31',\n",
              " '+7 (495) 531-00-00',\n",
              " '+7(495)916-88-44']"
            ]
          },
          "metadata": {},
          "execution_count": 27
        }
      ],
      "source": [
        "re.findall(r'\\+7 ?\\(?\\d{3}\\)? ?\\d{3}-?\\d{2}-?\\d{2}', fgn)"
      ]
    },
    {
      "cell_type": "code",
      "source": [
        "# Читаемый пример\n",
        "colours = re.findall('colou?r', 'In US English, “color” is the correct spelling. In UK English, “colour” is standard.')\n",
        "colours"
      ],
      "metadata": {
        "colab": {
          "base_uri": "https://localhost:8080/"
        },
        "id": "vzzyhUmRrY78",
        "outputId": "09c52deb-a74c-4fbb-d922-827aac2ebedb"
      },
      "id": "vzzyhUmRrY78",
      "execution_count": 28,
      "outputs": [
        {
          "output_type": "execute_result",
          "data": {
            "text/plain": [
              "['color', 'colour']"
            ]
          },
          "metadata": {},
          "execution_count": 28
        }
      ]
    },
    {
      "cell_type": "code",
      "execution_count": 29,
      "id": "c97de05e-bc3f-4e70-bfd1-99f171b6f758",
      "metadata": {
        "colab": {
          "base_uri": "https://localhost:8080/"
        },
        "id": "c97de05e-bc3f-4e70-bfd1-99f171b6f758",
        "outputId": "089e0f6a-c8e9-4c26-bfb7-6d252a603e68"
      },
      "outputs": [
        {
          "output_type": "execute_result",
          "data": {
            "text/plain": [
              "[('собака', 'о'), ('сабака', 'а')]"
            ]
          },
          "metadata": {},
          "execution_count": 29
        }
      ],
      "source": [
        "# Отступление про варианты\n",
        "re.findall('(с(о|а)бака)', 'Правильно собака или сабака?')"
      ]
    },
    {
      "cell_type": "code",
      "execution_count": 30,
      "id": "85f6c1ba-c171-4562-998d-9e6af917dfcd",
      "metadata": {
        "colab": {
          "base_uri": "https://localhost:8080/"
        },
        "id": "85f6c1ba-c171-4562-998d-9e6af917dfcd",
        "outputId": "985f1854-28a8-4ad7-e927-2f78d6e104ef"
      },
      "outputs": [
        {
          "output_type": "execute_result",
          "data": {
            "text/plain": [
              "[('+7 (495) 771-32-32', '+7'),\n",
              " ('+7 (495) 628-79-31', '+7'),\n",
              " ('+7 (495) 531-00-00', '+7'),\n",
              " ('84957713242', '8'),\n",
              " ('+7(495)916-88-44', '+7')]"
            ]
          },
          "metadata": {},
          "execution_count": 30
        }
      ],
      "source": [
        "re.findall(r'((\\+7|8) ?\\(?\\d{3}\\)? ?\\d{3}-?\\d{2}-?\\d{2})', fgn)"
      ]
    },
    {
      "cell_type": "markdown",
      "id": "e880da03-5e9f-4aff-a738-b5b1c22c2f3f",
      "metadata": {
        "id": "e880da03-5e9f-4aff-a738-b5b1c22c2f3f"
      },
      "source": [
        "**Найдите всех терьеров в строке**"
      ]
    },
    {
      "cell_type": "code",
      "execution_count": 31,
      "id": "e4a4ef33-1aa4-4c86-ba11-f20e06a370d9",
      "metadata": {
        "id": "e4a4ef33-1aa4-4c86-ba11-f20e06a370d9"
      },
      "outputs": [],
      "source": [
        "terier = 'Современные терьеры (около 30 пород) используются как служебные (например, эрдельтерьер), охотничьи (фокстерьер, немецкий ягдтерьер), универсальные фермерские (бордер-терьер, ирландский терьер) и декоративные (бивер-йоркширский терьер) собаки.'\n",
        "# ваш код"
      ]
    },
    {
      "cell_type": "markdown",
      "id": "0f727aa9-7507-4b57-aef1-b439849cecbd",
      "metadata": {
        "id": "0f727aa9-7507-4b57-aef1-b439849cecbd"
      },
      "source": [
        "### Про `.group()`\n",
        "\n",
        "Если нужно найти в строке несколько подстрок, то каждую из них можно выделить с помощью круглых скобок."
      ]
    },
    {
      "cell_type": "code",
      "execution_count": 32,
      "id": "b07368d7-acc4-49f7-9cd6-8acbf7948601",
      "metadata": {
        "colab": {
          "base_uri": "https://localhost:8080/"
        },
        "id": "b07368d7-acc4-49f7-9cd6-8acbf7948601",
        "outputId": "44eb576d-1bdc-493c-d2b2-f52bef1d4e0c"
      },
      "outputs": [
        {
          "output_type": "stream",
          "name": "stdout",
          "text": [
            "<re.Match object; span=(0, 14), match='корова молоко '>\n",
            "корова молоко \n",
            "корова молоко \n"
          ]
        }
      ],
      "source": [
        "s = 'корова молоко '\n",
        "r = re.search('(.+?оро.+?) (.+?оло.+?) ', s)\n",
        "print(r)\n",
        "print(r.group())\n",
        "print(r.group(0))  # то же самое, что r.group()"
      ]
    },
    {
      "cell_type": "code",
      "execution_count": 33,
      "id": "25c6194b-47b7-4061-8586-b632f2d8d011",
      "metadata": {
        "colab": {
          "base_uri": "https://localhost:8080/"
        },
        "id": "25c6194b-47b7-4061-8586-b632f2d8d011",
        "outputId": "7d6911ab-bc1d-4547-b578-cabb151773b5"
      },
      "outputs": [
        {
          "output_type": "stream",
          "name": "stdout",
          "text": [
            "корова\n"
          ]
        }
      ],
      "source": [
        "print(r.group(1))"
      ]
    },
    {
      "cell_type": "code",
      "execution_count": 34,
      "id": "ee8dcb5d-a747-40a4-9961-dbfc517d76b7",
      "metadata": {
        "colab": {
          "base_uri": "https://localhost:8080/",
          "height": 35
        },
        "id": "ee8dcb5d-a747-40a4-9961-dbfc517d76b7",
        "outputId": "884ad49a-3724-4296-a8d9-9909e7a2e6bd"
      },
      "outputs": [
        {
          "output_type": "execute_result",
          "data": {
            "text/plain": [
              "'молоко'"
            ],
            "application/vnd.google.colaboratory.intrinsic+json": {
              "type": "string"
            }
          },
          "metadata": {},
          "execution_count": 34
        }
      ],
      "source": [
        "r.group(2)"
      ]
    },
    {
      "cell_type": "markdown",
      "id": "0061fbcc-9917-4c7b-beed-541b7e7e26c6",
      "metadata": {
        "id": "0061fbcc-9917-4c7b-beed-541b7e7e26c6"
      },
      "source": [
        "### Про жадность поиска"
      ]
    },
    {
      "cell_type": "code",
      "execution_count": 35,
      "id": "f233ac55-d13d-4ddd-ab8b-d4896dbf8598",
      "metadata": {
        "colab": {
          "base_uri": "https://localhost:8080/"
        },
        "id": "f233ac55-d13d-4ddd-ab8b-d4896dbf8598",
        "outputId": "6d690526-a98a-483b-b2ac-82550692b384"
      },
      "outputs": [
        {
          "output_type": "stream",
          "name": "stdout",
          "text": [
            "Онегин, добрый мой \n"
          ]
        }
      ],
      "source": [
        "s = 'Онегин, добрый мой приятель'\n",
        "r = re.search('.+ ', s)\n",
        "print(r.group())"
      ]
    },
    {
      "cell_type": "code",
      "execution_count": 36,
      "id": "ead5a04a-bd49-4608-86db-2b1e0a993c0a",
      "metadata": {
        "colab": {
          "base_uri": "https://localhost:8080/"
        },
        "id": "ead5a04a-bd49-4608-86db-2b1e0a993c0a",
        "outputId": "facec9da-8bdc-4c6f-a3b4-ccb008aa56a1"
      },
      "outputs": [
        {
          "output_type": "stream",
          "name": "stdout",
          "text": [
            "Онегин, \n"
          ]
        }
      ],
      "source": [
        "s = 'Онегин, добрый мой приятель'\n",
        "r = re.search('.+? ', s)\n",
        "print(r.group())"
      ]
    },
    {
      "cell_type": "markdown",
      "id": "3174a18b-0409-4646-aa29-259f5f1b943e",
      "metadata": {
        "id": "3174a18b-0409-4646-aa29-259f5f1b943e"
      },
      "source": [
        "Если не поставить `?`, находится максимальная строка (жадный поиск). Ограничение - пробел, но пробел входит в множество любых символов.\n",
        "\n",
        "Чтобы сделать поиск нежадным, поставьте `?` перед символом, тогда подходящая строка будет находиться до первого его вхождния, а не последнего."
      ]
    },
    {
      "cell_type": "code",
      "execution_count": 37,
      "id": "0eb8908e-758f-4cac-ab00-4ba718de1753",
      "metadata": {
        "colab": {
          "base_uri": "https://localhost:8080/"
        },
        "id": "0eb8908e-758f-4cac-ab00-4ba718de1753",
        "outputId": "4c511e75-58d0-4f1a-bc4e-d762a22ec138"
      },
      "outputs": [
        {
          "output_type": "stream",
          "name": "stdout",
          "text": [
            "<re.Match object; span=(0, 14), match='корова молоко '>\n",
            "корова молоко \n"
          ]
        }
      ],
      "source": [
        "s = 'корова молоко ворота'\n",
        "r = re.search('.+оро.+ ', s)\n",
        "print(r)\n",
        "print(r.group())"
      ]
    },
    {
      "cell_type": "code",
      "execution_count": 38,
      "id": "ceafd057-dcb9-420d-ac44-c53d6606b1eb",
      "metadata": {
        "colab": {
          "base_uri": "https://localhost:8080/"
        },
        "id": "ceafd057-dcb9-420d-ac44-c53d6606b1eb",
        "outputId": "1463a50e-6bbd-4a56-cfd0-7adae4f0d61e"
      },
      "outputs": [
        {
          "output_type": "stream",
          "name": "stdout",
          "text": [
            "<re.Match object; span=(0, 7), match='корова '>\n",
            "корова \n"
          ]
        }
      ],
      "source": [
        "s = 'корова молоко ворота'\n",
        "r = re.search('.+оро.+? ', s)\n",
        "print(r)\n",
        "print(r.group())"
      ]
    },
    {
      "cell_type": "markdown",
      "id": "fc944101-9014-4736-b7ff-d5088b09d0a9",
      "metadata": {
        "id": "fc944101-9014-4736-b7ff-d5088b09d0a9"
      },
      "source": [
        "**Найдите в почтовом адресе логин и домен**"
      ]
    },
    {
      "cell_type": "code",
      "execution_count": 39,
      "id": "68ac59f4-8c06-4ada-a47a-6b653df84716",
      "metadata": {
        "colab": {
          "base_uri": "https://localhost:8080/"
        },
        "id": "68ac59f4-8c06-4ada-a47a-6b653df84716",
        "outputId": "6c7f068e-6edf-453e-aaaa-000627c612a0"
      },
      "outputs": [
        {
          "output_type": "stream",
          "name": "stdout",
          "text": [
            "fdp\n",
            "ru\n"
          ]
        }
      ],
      "source": [
        "pattern = r'([a-zA-Z0-9_.]+)@(([a-zA-Z0-9_]+)\\.([a-zA-Z]+))'\n",
        "print(re.search(pattern, fgn).group(1))\n",
        "print(re.search(pattern, fgn).group(4))"
      ]
    },
    {
      "cell_type": "markdown",
      "id": "ba0608bd-c3b9-4ef8-bd72-e158c400864c",
      "metadata": {
        "id": "ba0608bd-c3b9-4ef8-bd72-e158c400864c"
      },
      "source": [
        "Чтобы не путаться в нумерации скобочек, можно проименовать их."
      ]
    },
    {
      "cell_type": "code",
      "execution_count": 40,
      "id": "b16cc720-3ad6-4ddd-aed8-5c1388416e23",
      "metadata": {
        "colab": {
          "base_uri": "https://localhost:8080/",
          "height": 35
        },
        "id": "b16cc720-3ad6-4ddd-aed8-5c1388416e23",
        "outputId": "dd0e48ff-35ef-47d5-e3e0-a3eefac06ef6"
      },
      "outputs": [
        {
          "output_type": "execute_result",
          "data": {
            "text/plain": [
              "'ru'"
            ],
            "application/vnd.google.colaboratory.intrinsic+json": {
              "type": "string"
            }
          },
          "metadata": {},
          "execution_count": 40
        }
      ],
      "source": [
        "pattern = r'(?P<login>[a-zA-Z0-9_.]+)@(?P<provider>(?P<name>[a-zA-Z0-9_]+)\\.(?P<domain>[a-zA-Z]+))'\n",
        "re.search(pattern, fgn).group('domain')"
      ]
    },
    {
      "cell_type": "markdown",
      "source": [
        "### Можно делать замены по регулярным выражениям"
      ],
      "metadata": {
        "id": "x9__AA5hul-R"
      },
      "id": "x9__AA5hul-R"
    },
    {
      "cell_type": "code",
      "source": [
        "re.sub('.', 'а', 'строчка')"
      ],
      "metadata": {
        "colab": {
          "base_uri": "https://localhost:8080/",
          "height": 35
        },
        "id": "nDvD88cXusOO",
        "outputId": "fc518230-066a-475a-9874-61fd09015f35"
      },
      "id": "nDvD88cXusOO",
      "execution_count": 41,
      "outputs": [
        {
          "output_type": "execute_result",
          "data": {
            "text/plain": [
              "'ааааааа'"
            ],
            "application/vnd.google.colaboratory.intrinsic+json": {
              "type": "string"
            }
          },
          "metadata": {},
          "execution_count": 41
        }
      ]
    }
  ],
  "metadata": {
    "kernelspec": {
      "display_name": "Python 3 (ipykernel)",
      "language": "python",
      "name": "python3"
    },
    "language_info": {
      "codemirror_mode": {
        "name": "ipython",
        "version": 3
      },
      "file_extension": ".py",
      "mimetype": "text/x-python",
      "name": "python",
      "nbconvert_exporter": "python",
      "pygments_lexer": "ipython3",
      "version": "3.12.0"
    },
    "colab": {
      "provenance": []
    }
  },
  "nbformat": 4,
  "nbformat_minor": 5
}