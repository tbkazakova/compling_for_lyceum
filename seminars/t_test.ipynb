{
  "cells": [
    {
      "cell_type": "markdown",
      "id": "351ec92b-48e8-4067-be88-c1128264194e",
      "metadata": {
        "id": "351ec92b-48e8-4067-be88-c1128264194e"
      },
      "source": [
        "# Кто длиннее?\n",
        "\n",
        "Правда ли, что у Л. Н. Толстого длинные предложения? Значимо ли они длиннее, чем у Чехова?"
      ]
    },
    {
      "cell_type": "code",
      "source": [
        "# скачиваем с гитхаба таблицу, с которой будем работать (спасибо Лёше Старченко)\n",
        "!wget https://github.com/tbkazakova/compling_for_lyceum/raw/main/data/tolstoj_chehov.xlsx"
      ],
      "metadata": {
        "id": "iq19E81IO5b-"
      },
      "id": "iq19E81IO5b-",
      "execution_count": null,
      "outputs": []
    },
    {
      "cell_type": "code",
      "execution_count": 6,
      "id": "ff332dbb-65ea-404d-8ac9-cbb0cf7a9e22",
      "metadata": {
        "id": "ff332dbb-65ea-404d-8ac9-cbb0cf7a9e22"
      },
      "outputs": [],
      "source": [
        "import pandas as pd\n",
        "\n",
        "sents = pd.read_excel('tolstoj_chehov.xlsx')"
      ]
    },
    {
      "cell_type": "code",
      "execution_count": 16,
      "id": "ecffbc2b-83f9-461a-bf4a-c2e4c7eb1e76",
      "metadata": {
        "colab": {
          "base_uri": "https://localhost:8080/",
          "height": 424
        },
        "id": "ecffbc2b-83f9-461a-bf4a-c2e4c7eb1e76",
        "outputId": "e291c2ca-97ae-470c-da5a-0ee4ec9aab0d"
      },
      "outputs": [
        {
          "output_type": "execute_result",
          "data": {
            "text/plain": [
              "                                            Предложение  Дата          Автор\n",
              "0                                            Оставайся!  1885    А. П. Чехов\n",
              "1                                                Львов.  1887    А. П. Чехов\n",
              "2                                            Пожалуйте!  1884    А. П. Чехов\n",
              "3                                               Борцов.  1885    А. П. Чехов\n",
              "4                                           Исковеркаю!  1892    А. П. Чехов\n",
              "...                                                 ...   ...            ...\n",
              "1196  Так как брошюры эти были написаны мною и издав...  1909  Л. Н. Толстой\n",
              "1197  Здесь, приехавши в Гриневку и увидав заморышей...  1894  Л. Н. Толстой\n",
              "1198  Не буду говорить о тех миллионах глупостей и г...  1909  Л. Н. Толстой\n",
              "1199  Сейчас у нас с России происходит нечто необыкн...  1899  Л. Н. Толстой\n",
              "1200  Ведь стоит только человеку очнуться от гипноза...  1908  Л. Н. Толстой\n",
              "\n",
              "[1201 rows x 3 columns]"
            ],
            "text/html": [
              "\n",
              "  <div id=\"df-4c6334cc-0ffe-48b8-8ee4-6cf3ecc344e8\" class=\"colab-df-container\">\n",
              "    <div>\n",
              "<style scoped>\n",
              "    .dataframe tbody tr th:only-of-type {\n",
              "        vertical-align: middle;\n",
              "    }\n",
              "\n",
              "    .dataframe tbody tr th {\n",
              "        vertical-align: top;\n",
              "    }\n",
              "\n",
              "    .dataframe thead th {\n",
              "        text-align: right;\n",
              "    }\n",
              "</style>\n",
              "<table border=\"1\" class=\"dataframe\">\n",
              "  <thead>\n",
              "    <tr style=\"text-align: right;\">\n",
              "      <th></th>\n",
              "      <th>Предложение</th>\n",
              "      <th>Дата</th>\n",
              "      <th>Автор</th>\n",
              "    </tr>\n",
              "  </thead>\n",
              "  <tbody>\n",
              "    <tr>\n",
              "      <th>0</th>\n",
              "      <td>Оставайся!</td>\n",
              "      <td>1885</td>\n",
              "      <td>А. П. Чехов</td>\n",
              "    </tr>\n",
              "    <tr>\n",
              "      <th>1</th>\n",
              "      <td>Львов.</td>\n",
              "      <td>1887</td>\n",
              "      <td>А. П. Чехов</td>\n",
              "    </tr>\n",
              "    <tr>\n",
              "      <th>2</th>\n",
              "      <td>Пожалуйте!</td>\n",
              "      <td>1884</td>\n",
              "      <td>А. П. Чехов</td>\n",
              "    </tr>\n",
              "    <tr>\n",
              "      <th>3</th>\n",
              "      <td>Борцов.</td>\n",
              "      <td>1885</td>\n",
              "      <td>А. П. Чехов</td>\n",
              "    </tr>\n",
              "    <tr>\n",
              "      <th>4</th>\n",
              "      <td>Исковеркаю!</td>\n",
              "      <td>1892</td>\n",
              "      <td>А. П. Чехов</td>\n",
              "    </tr>\n",
              "    <tr>\n",
              "      <th>...</th>\n",
              "      <td>...</td>\n",
              "      <td>...</td>\n",
              "      <td>...</td>\n",
              "    </tr>\n",
              "    <tr>\n",
              "      <th>1196</th>\n",
              "      <td>Так как брошюры эти были написаны мною и издав...</td>\n",
              "      <td>1909</td>\n",
              "      <td>Л. Н. Толстой</td>\n",
              "    </tr>\n",
              "    <tr>\n",
              "      <th>1197</th>\n",
              "      <td>Здесь, приехавши в Гриневку и увидав заморышей...</td>\n",
              "      <td>1894</td>\n",
              "      <td>Л. Н. Толстой</td>\n",
              "    </tr>\n",
              "    <tr>\n",
              "      <th>1198</th>\n",
              "      <td>Не буду говорить о тех миллионах глупостей и г...</td>\n",
              "      <td>1909</td>\n",
              "      <td>Л. Н. Толстой</td>\n",
              "    </tr>\n",
              "    <tr>\n",
              "      <th>1199</th>\n",
              "      <td>Сейчас у нас с России происходит нечто необыкн...</td>\n",
              "      <td>1899</td>\n",
              "      <td>Л. Н. Толстой</td>\n",
              "    </tr>\n",
              "    <tr>\n",
              "      <th>1200</th>\n",
              "      <td>Ведь стоит только человеку очнуться от гипноза...</td>\n",
              "      <td>1908</td>\n",
              "      <td>Л. Н. Толстой</td>\n",
              "    </tr>\n",
              "  </tbody>\n",
              "</table>\n",
              "<p>1201 rows × 3 columns</p>\n",
              "</div>\n",
              "    <div class=\"colab-df-buttons\">\n",
              "\n",
              "  <div class=\"colab-df-container\">\n",
              "    <button class=\"colab-df-convert\" onclick=\"convertToInteractive('df-4c6334cc-0ffe-48b8-8ee4-6cf3ecc344e8')\"\n",
              "            title=\"Convert this dataframe to an interactive table.\"\n",
              "            style=\"display:none;\">\n",
              "\n",
              "  <svg xmlns=\"http://www.w3.org/2000/svg\" height=\"24px\" viewBox=\"0 -960 960 960\">\n",
              "    <path d=\"M120-120v-720h720v720H120Zm60-500h600v-160H180v160Zm220 220h160v-160H400v160Zm0 220h160v-160H400v160ZM180-400h160v-160H180v160Zm440 0h160v-160H620v160ZM180-180h160v-160H180v160Zm440 0h160v-160H620v160Z\"/>\n",
              "  </svg>\n",
              "    </button>\n",
              "\n",
              "  <style>\n",
              "    .colab-df-container {\n",
              "      display:flex;\n",
              "      gap: 12px;\n",
              "    }\n",
              "\n",
              "    .colab-df-convert {\n",
              "      background-color: #E8F0FE;\n",
              "      border: none;\n",
              "      border-radius: 50%;\n",
              "      cursor: pointer;\n",
              "      display: none;\n",
              "      fill: #1967D2;\n",
              "      height: 32px;\n",
              "      padding: 0 0 0 0;\n",
              "      width: 32px;\n",
              "    }\n",
              "\n",
              "    .colab-df-convert:hover {\n",
              "      background-color: #E2EBFA;\n",
              "      box-shadow: 0px 1px 2px rgba(60, 64, 67, 0.3), 0px 1px 3px 1px rgba(60, 64, 67, 0.15);\n",
              "      fill: #174EA6;\n",
              "    }\n",
              "\n",
              "    .colab-df-buttons div {\n",
              "      margin-bottom: 4px;\n",
              "    }\n",
              "\n",
              "    [theme=dark] .colab-df-convert {\n",
              "      background-color: #3B4455;\n",
              "      fill: #D2E3FC;\n",
              "    }\n",
              "\n",
              "    [theme=dark] .colab-df-convert:hover {\n",
              "      background-color: #434B5C;\n",
              "      box-shadow: 0px 1px 3px 1px rgba(0, 0, 0, 0.15);\n",
              "      filter: drop-shadow(0px 1px 2px rgba(0, 0, 0, 0.3));\n",
              "      fill: #FFFFFF;\n",
              "    }\n",
              "  </style>\n",
              "\n",
              "    <script>\n",
              "      const buttonEl =\n",
              "        document.querySelector('#df-4c6334cc-0ffe-48b8-8ee4-6cf3ecc344e8 button.colab-df-convert');\n",
              "      buttonEl.style.display =\n",
              "        google.colab.kernel.accessAllowed ? 'block' : 'none';\n",
              "\n",
              "      async function convertToInteractive(key) {\n",
              "        const element = document.querySelector('#df-4c6334cc-0ffe-48b8-8ee4-6cf3ecc344e8');\n",
              "        const dataTable =\n",
              "          await google.colab.kernel.invokeFunction('convertToInteractive',\n",
              "                                                    [key], {});\n",
              "        if (!dataTable) return;\n",
              "\n",
              "        const docLinkHtml = 'Like what you see? Visit the ' +\n",
              "          '<a target=\"_blank\" href=https://colab.research.google.com/notebooks/data_table.ipynb>data table notebook</a>'\n",
              "          + ' to learn more about interactive tables.';\n",
              "        element.innerHTML = '';\n",
              "        dataTable['output_type'] = 'display_data';\n",
              "        await google.colab.output.renderOutput(dataTable, element);\n",
              "        const docLink = document.createElement('div');\n",
              "        docLink.innerHTML = docLinkHtml;\n",
              "        element.appendChild(docLink);\n",
              "      }\n",
              "    </script>\n",
              "  </div>\n",
              "\n",
              "\n",
              "<div id=\"df-e42f93a8-0484-4db0-a180-453adc8d57bb\">\n",
              "  <button class=\"colab-df-quickchart\" onclick=\"quickchart('df-e42f93a8-0484-4db0-a180-453adc8d57bb')\"\n",
              "            title=\"Suggest charts\"\n",
              "            style=\"display:none;\">\n",
              "\n",
              "<svg xmlns=\"http://www.w3.org/2000/svg\" height=\"24px\"viewBox=\"0 0 24 24\"\n",
              "     width=\"24px\">\n",
              "    <g>\n",
              "        <path d=\"M19 3H5c-1.1 0-2 .9-2 2v14c0 1.1.9 2 2 2h14c1.1 0 2-.9 2-2V5c0-1.1-.9-2-2-2zM9 17H7v-7h2v7zm4 0h-2V7h2v10zm4 0h-2v-4h2v4z\"/>\n",
              "    </g>\n",
              "</svg>\n",
              "  </button>\n",
              "\n",
              "<style>\n",
              "  .colab-df-quickchart {\n",
              "      --bg-color: #E8F0FE;\n",
              "      --fill-color: #1967D2;\n",
              "      --hover-bg-color: #E2EBFA;\n",
              "      --hover-fill-color: #174EA6;\n",
              "      --disabled-fill-color: #AAA;\n",
              "      --disabled-bg-color: #DDD;\n",
              "  }\n",
              "\n",
              "  [theme=dark] .colab-df-quickchart {\n",
              "      --bg-color: #3B4455;\n",
              "      --fill-color: #D2E3FC;\n",
              "      --hover-bg-color: #434B5C;\n",
              "      --hover-fill-color: #FFFFFF;\n",
              "      --disabled-bg-color: #3B4455;\n",
              "      --disabled-fill-color: #666;\n",
              "  }\n",
              "\n",
              "  .colab-df-quickchart {\n",
              "    background-color: var(--bg-color);\n",
              "    border: none;\n",
              "    border-radius: 50%;\n",
              "    cursor: pointer;\n",
              "    display: none;\n",
              "    fill: var(--fill-color);\n",
              "    height: 32px;\n",
              "    padding: 0;\n",
              "    width: 32px;\n",
              "  }\n",
              "\n",
              "  .colab-df-quickchart:hover {\n",
              "    background-color: var(--hover-bg-color);\n",
              "    box-shadow: 0 1px 2px rgba(60, 64, 67, 0.3), 0 1px 3px 1px rgba(60, 64, 67, 0.15);\n",
              "    fill: var(--button-hover-fill-color);\n",
              "  }\n",
              "\n",
              "  .colab-df-quickchart-complete:disabled,\n",
              "  .colab-df-quickchart-complete:disabled:hover {\n",
              "    background-color: var(--disabled-bg-color);\n",
              "    fill: var(--disabled-fill-color);\n",
              "    box-shadow: none;\n",
              "  }\n",
              "\n",
              "  .colab-df-spinner {\n",
              "    border: 2px solid var(--fill-color);\n",
              "    border-color: transparent;\n",
              "    border-bottom-color: var(--fill-color);\n",
              "    animation:\n",
              "      spin 1s steps(1) infinite;\n",
              "  }\n",
              "\n",
              "  @keyframes spin {\n",
              "    0% {\n",
              "      border-color: transparent;\n",
              "      border-bottom-color: var(--fill-color);\n",
              "      border-left-color: var(--fill-color);\n",
              "    }\n",
              "    20% {\n",
              "      border-color: transparent;\n",
              "      border-left-color: var(--fill-color);\n",
              "      border-top-color: var(--fill-color);\n",
              "    }\n",
              "    30% {\n",
              "      border-color: transparent;\n",
              "      border-left-color: var(--fill-color);\n",
              "      border-top-color: var(--fill-color);\n",
              "      border-right-color: var(--fill-color);\n",
              "    }\n",
              "    40% {\n",
              "      border-color: transparent;\n",
              "      border-right-color: var(--fill-color);\n",
              "      border-top-color: var(--fill-color);\n",
              "    }\n",
              "    60% {\n",
              "      border-color: transparent;\n",
              "      border-right-color: var(--fill-color);\n",
              "    }\n",
              "    80% {\n",
              "      border-color: transparent;\n",
              "      border-right-color: var(--fill-color);\n",
              "      border-bottom-color: var(--fill-color);\n",
              "    }\n",
              "    90% {\n",
              "      border-color: transparent;\n",
              "      border-bottom-color: var(--fill-color);\n",
              "    }\n",
              "  }\n",
              "</style>\n",
              "\n",
              "  <script>\n",
              "    async function quickchart(key) {\n",
              "      const quickchartButtonEl =\n",
              "        document.querySelector('#' + key + ' button');\n",
              "      quickchartButtonEl.disabled = true;  // To prevent multiple clicks.\n",
              "      quickchartButtonEl.classList.add('colab-df-spinner');\n",
              "      try {\n",
              "        const charts = await google.colab.kernel.invokeFunction(\n",
              "            'suggestCharts', [key], {});\n",
              "      } catch (error) {\n",
              "        console.error('Error during call to suggestCharts:', error);\n",
              "      }\n",
              "      quickchartButtonEl.classList.remove('colab-df-spinner');\n",
              "      quickchartButtonEl.classList.add('colab-df-quickchart-complete');\n",
              "    }\n",
              "    (() => {\n",
              "      let quickchartButtonEl =\n",
              "        document.querySelector('#df-e42f93a8-0484-4db0-a180-453adc8d57bb button');\n",
              "      quickchartButtonEl.style.display =\n",
              "        google.colab.kernel.accessAllowed ? 'block' : 'none';\n",
              "    })();\n",
              "  </script>\n",
              "</div>\n",
              "    </div>\n",
              "  </div>\n"
            ],
            "application/vnd.google.colaboratory.intrinsic+json": {
              "type": "dataframe",
              "variable_name": "sents",
              "summary": "{\n  \"name\": \"sents\",\n  \"rows\": 1201,\n  \"fields\": [\n    {\n      \"column\": \"\\u041f\\u0440\\u0435\\u0434\\u043b\\u043e\\u0436\\u0435\\u043d\\u0438\\u0435\",\n      \"properties\": {\n        \"dtype\": \"string\",\n        \"num_unique_values\": 1201,\n        \"samples\": [\n          \"\\u041f\\u0440\\u0438\\u0447\\u0438\\u043d\\u044b \\u0442\\u0430\\u043a\\u043e\\u0433\\u043e \\u0441\\u0430\\u043c\\u043e\\u0443\\u0431\\u0438\\u0439\\u0441\\u0442\\u0432\\u0430 \\u043c\\u043d\\u043e\\u044e \\u043d\\u0435 \\u043e\\u0431\\u043d\\u0430\\u0440\\u0443\\u0436\\u0435\\u043d\\u044b \\u043d\\u043e \\u0432\\u0441\\u0435 \\u043e\\u0442 \\u0432\\u043e\\u0434\\u043a\\u0438.\",\n          \"\\u0410\\u043a\\u0443\\u043b\\u0438\\u043d\\u0430 \\u0432\\u0441\\u0442\\u0430\\u043b\\u0430 \\u043e\\u043f\\u044f\\u0442\\u044c \\u0438 \\u0434\\u043e\\u0441\\u0442\\u0430\\u043b\\u0430 \\u043c\\u0443\\u0436\\u0443 \\u0441\\u0430\\u043f\\u043e\\u0433\\u0438.\",\n          \"\\u0410 \\u044f, \\u043a\\u0430\\u043a \\u0432\\u0438\\u0434\\u0438\\u0448\\u044c, \\u0441\\u0442\\u0430\\u043b\\u0430 \\u0440\\u0435\\u043b\\u0438\\u0433\\u0438\\u043e\\u0437\\u043d\\u043e\\u0439, -- \\u0441\\u043a\\u0430\\u0437\\u0430\\u043b\\u0430 \\u043e\\u043d\\u0430.\"\n        ],\n        \"semantic_type\": \"\",\n        \"description\": \"\"\n      }\n    },\n    {\n      \"column\": \"\\u0414\\u0430\\u0442\\u0430\",\n      \"properties\": {\n        \"dtype\": \"category\",\n        \"num_unique_values\": 118,\n        \"samples\": [\n          1923,\n          1905,\n          1890\n        ],\n        \"semantic_type\": \"\",\n        \"description\": \"\"\n      }\n    },\n    {\n      \"column\": \"\\u0410\\u0432\\u0442\\u043e\\u0440\",\n      \"properties\": {\n        \"dtype\": \"category\",\n        \"num_unique_values\": 3,\n        \"samples\": [\n          \"\\u0410. \\u041f. \\u0427\\u0435\\u0445\\u043e\\u0432\",\n          \"\\u043a\\u043e\\u043b\\u043b\\u0435\\u043a\\u0442\\u0438\\u0432\\u043d\\u044b\\u0439\",\n          \"\\u041b. \\u041d. \\u0422\\u043e\\u043b\\u0441\\u0442\\u043e\\u0439\"\n        ],\n        \"semantic_type\": \"\",\n        \"description\": \"\"\n      }\n    }\n  ]\n}"
            }
          },
          "metadata": {},
          "execution_count": 16
        }
      ],
      "source": [
        "sents"
      ]
    },
    {
      "cell_type": "code",
      "execution_count": 5,
      "id": "ef8af8c9-1f12-4219-80cc-ed26bfd570a5",
      "metadata": {
        "colab": {
          "base_uri": "https://localhost:8080/"
        },
        "id": "ef8af8c9-1f12-4219-80cc-ed26bfd570a5",
        "outputId": "bf1e3c4a-892f-46d7-b598-5e873af73a3a"
      },
      "outputs": [
        {
          "output_type": "stream",
          "name": "stdout",
          "text": [
            "<class 'pandas.core.frame.DataFrame'>\n",
            "RangeIndex: 1201 entries, 0 to 1200\n",
            "Data columns (total 3 columns):\n",
            " #   Column       Non-Null Count  Dtype \n",
            "---  ------       --------------  ----- \n",
            " 0   Предложение  1201 non-null   object\n",
            " 1   Дата         1201 non-null   object\n",
            " 2   Автор        1201 non-null   object\n",
            "dtypes: object(3)\n",
            "memory usage: 28.3+ KB\n"
          ]
        }
      ],
      "source": [
        "sents.info()"
      ]
    },
    {
      "cell_type": "code",
      "execution_count": 4,
      "id": "06534117-7b65-4eb1-a6a7-b2ffc149b092",
      "metadata": {
        "colab": {
          "base_uri": "https://localhost:8080/"
        },
        "id": "06534117-7b65-4eb1-a6a7-b2ffc149b092",
        "outputId": "32051ce0-22cb-4b46-a3b3-a4ed6ecce92c"
      },
      "outputs": [
        {
          "output_type": "execute_result",
          "data": {
            "text/plain": [
              "array(['А. П. Чехов', 'коллективный', 'Л. Н. Толстой'], dtype=object)"
            ]
          },
          "metadata": {},
          "execution_count": 4
        }
      ],
      "source": [
        "sents['Автор'].unique()"
      ]
    },
    {
      "cell_type": "code",
      "source": [
        "sents['Автор'].value_counts()"
      ],
      "metadata": {
        "colab": {
          "base_uri": "https://localhost:8080/"
        },
        "id": "JaXODtlkPd_e",
        "outputId": "c20181ec-8ddb-47dd-f372-badeb9adddf1"
      },
      "id": "JaXODtlkPd_e",
      "execution_count": 17,
      "outputs": [
        {
          "output_type": "execute_result",
          "data": {
            "text/plain": [
              "А. П. Чехов      627\n",
              "коллективный     383\n",
              "Л. Н. Толстой    191\n",
              "Name: Автор, dtype: int64"
            ]
          },
          "metadata": {},
          "execution_count": 17
        }
      ]
    },
    {
      "cell_type": "code",
      "execution_count": 18,
      "id": "70d7bdeb-4e4e-4d8c-a67c-f4435acb87fc",
      "metadata": {
        "colab": {
          "base_uri": "https://localhost:8080/",
          "height": 424
        },
        "id": "70d7bdeb-4e4e-4d8c-a67c-f4435acb87fc",
        "outputId": "f077d544-f4cf-410c-89cb-67e849cf2995"
      },
      "outputs": [
        {
          "output_type": "execute_result",
          "data": {
            "text/plain": [
              "                                            Предложение  Дата          Автор  \\\n",
              "0                                            Оставайся!  1885    А. П. Чехов   \n",
              "1                                                Львов.  1887    А. П. Чехов   \n",
              "2                                            Пожалуйте!  1884    А. П. Чехов   \n",
              "3                                               Борцов.  1885    А. П. Чехов   \n",
              "4                                           Исковеркаю!  1892    А. П. Чехов   \n",
              "...                                                 ...   ...            ...   \n",
              "1196  Так как брошюры эти были написаны мною и издав...  1909  Л. Н. Толстой   \n",
              "1197  Здесь, приехавши в Гриневку и увидав заморышей...  1894  Л. Н. Толстой   \n",
              "1198  Не буду говорить о тех миллионах глупостей и г...  1909  Л. Н. Толстой   \n",
              "1199  Сейчас у нас с России происходит нечто необыкн...  1899  Л. Н. Толстой   \n",
              "1200  Ведь стоит только человеку очнуться от гипноза...  1908  Л. Н. Толстой   \n",
              "\n",
              "      word_len  \n",
              "0            1  \n",
              "1            1  \n",
              "2            1  \n",
              "3            1  \n",
              "4            1  \n",
              "...        ...  \n",
              "1196        98  \n",
              "1197        99  \n",
              "1198       127  \n",
              "1199       145  \n",
              "1200       275  \n",
              "\n",
              "[1201 rows x 4 columns]"
            ],
            "text/html": [
              "\n",
              "  <div id=\"df-ec6c66df-eb57-4f5d-93e3-c88e0e8489db\" class=\"colab-df-container\">\n",
              "    <div>\n",
              "<style scoped>\n",
              "    .dataframe tbody tr th:only-of-type {\n",
              "        vertical-align: middle;\n",
              "    }\n",
              "\n",
              "    .dataframe tbody tr th {\n",
              "        vertical-align: top;\n",
              "    }\n",
              "\n",
              "    .dataframe thead th {\n",
              "        text-align: right;\n",
              "    }\n",
              "</style>\n",
              "<table border=\"1\" class=\"dataframe\">\n",
              "  <thead>\n",
              "    <tr style=\"text-align: right;\">\n",
              "      <th></th>\n",
              "      <th>Предложение</th>\n",
              "      <th>Дата</th>\n",
              "      <th>Автор</th>\n",
              "      <th>word_len</th>\n",
              "    </tr>\n",
              "  </thead>\n",
              "  <tbody>\n",
              "    <tr>\n",
              "      <th>0</th>\n",
              "      <td>Оставайся!</td>\n",
              "      <td>1885</td>\n",
              "      <td>А. П. Чехов</td>\n",
              "      <td>1</td>\n",
              "    </tr>\n",
              "    <tr>\n",
              "      <th>1</th>\n",
              "      <td>Львов.</td>\n",
              "      <td>1887</td>\n",
              "      <td>А. П. Чехов</td>\n",
              "      <td>1</td>\n",
              "    </tr>\n",
              "    <tr>\n",
              "      <th>2</th>\n",
              "      <td>Пожалуйте!</td>\n",
              "      <td>1884</td>\n",
              "      <td>А. П. Чехов</td>\n",
              "      <td>1</td>\n",
              "    </tr>\n",
              "    <tr>\n",
              "      <th>3</th>\n",
              "      <td>Борцов.</td>\n",
              "      <td>1885</td>\n",
              "      <td>А. П. Чехов</td>\n",
              "      <td>1</td>\n",
              "    </tr>\n",
              "    <tr>\n",
              "      <th>4</th>\n",
              "      <td>Исковеркаю!</td>\n",
              "      <td>1892</td>\n",
              "      <td>А. П. Чехов</td>\n",
              "      <td>1</td>\n",
              "    </tr>\n",
              "    <tr>\n",
              "      <th>...</th>\n",
              "      <td>...</td>\n",
              "      <td>...</td>\n",
              "      <td>...</td>\n",
              "      <td>...</td>\n",
              "    </tr>\n",
              "    <tr>\n",
              "      <th>1196</th>\n",
              "      <td>Так как брошюры эти были написаны мною и издав...</td>\n",
              "      <td>1909</td>\n",
              "      <td>Л. Н. Толстой</td>\n",
              "      <td>98</td>\n",
              "    </tr>\n",
              "    <tr>\n",
              "      <th>1197</th>\n",
              "      <td>Здесь, приехавши в Гриневку и увидав заморышей...</td>\n",
              "      <td>1894</td>\n",
              "      <td>Л. Н. Толстой</td>\n",
              "      <td>99</td>\n",
              "    </tr>\n",
              "    <tr>\n",
              "      <th>1198</th>\n",
              "      <td>Не буду говорить о тех миллионах глупостей и г...</td>\n",
              "      <td>1909</td>\n",
              "      <td>Л. Н. Толстой</td>\n",
              "      <td>127</td>\n",
              "    </tr>\n",
              "    <tr>\n",
              "      <th>1199</th>\n",
              "      <td>Сейчас у нас с России происходит нечто необыкн...</td>\n",
              "      <td>1899</td>\n",
              "      <td>Л. Н. Толстой</td>\n",
              "      <td>145</td>\n",
              "    </tr>\n",
              "    <tr>\n",
              "      <th>1200</th>\n",
              "      <td>Ведь стоит только человеку очнуться от гипноза...</td>\n",
              "      <td>1908</td>\n",
              "      <td>Л. Н. Толстой</td>\n",
              "      <td>275</td>\n",
              "    </tr>\n",
              "  </tbody>\n",
              "</table>\n",
              "<p>1201 rows × 4 columns</p>\n",
              "</div>\n",
              "    <div class=\"colab-df-buttons\">\n",
              "\n",
              "  <div class=\"colab-df-container\">\n",
              "    <button class=\"colab-df-convert\" onclick=\"convertToInteractive('df-ec6c66df-eb57-4f5d-93e3-c88e0e8489db')\"\n",
              "            title=\"Convert this dataframe to an interactive table.\"\n",
              "            style=\"display:none;\">\n",
              "\n",
              "  <svg xmlns=\"http://www.w3.org/2000/svg\" height=\"24px\" viewBox=\"0 -960 960 960\">\n",
              "    <path d=\"M120-120v-720h720v720H120Zm60-500h600v-160H180v160Zm220 220h160v-160H400v160Zm0 220h160v-160H400v160ZM180-400h160v-160H180v160Zm440 0h160v-160H620v160ZM180-180h160v-160H180v160Zm440 0h160v-160H620v160Z\"/>\n",
              "  </svg>\n",
              "    </button>\n",
              "\n",
              "  <style>\n",
              "    .colab-df-container {\n",
              "      display:flex;\n",
              "      gap: 12px;\n",
              "    }\n",
              "\n",
              "    .colab-df-convert {\n",
              "      background-color: #E8F0FE;\n",
              "      border: none;\n",
              "      border-radius: 50%;\n",
              "      cursor: pointer;\n",
              "      display: none;\n",
              "      fill: #1967D2;\n",
              "      height: 32px;\n",
              "      padding: 0 0 0 0;\n",
              "      width: 32px;\n",
              "    }\n",
              "\n",
              "    .colab-df-convert:hover {\n",
              "      background-color: #E2EBFA;\n",
              "      box-shadow: 0px 1px 2px rgba(60, 64, 67, 0.3), 0px 1px 3px 1px rgba(60, 64, 67, 0.15);\n",
              "      fill: #174EA6;\n",
              "    }\n",
              "\n",
              "    .colab-df-buttons div {\n",
              "      margin-bottom: 4px;\n",
              "    }\n",
              "\n",
              "    [theme=dark] .colab-df-convert {\n",
              "      background-color: #3B4455;\n",
              "      fill: #D2E3FC;\n",
              "    }\n",
              "\n",
              "    [theme=dark] .colab-df-convert:hover {\n",
              "      background-color: #434B5C;\n",
              "      box-shadow: 0px 1px 3px 1px rgba(0, 0, 0, 0.15);\n",
              "      filter: drop-shadow(0px 1px 2px rgba(0, 0, 0, 0.3));\n",
              "      fill: #FFFFFF;\n",
              "    }\n",
              "  </style>\n",
              "\n",
              "    <script>\n",
              "      const buttonEl =\n",
              "        document.querySelector('#df-ec6c66df-eb57-4f5d-93e3-c88e0e8489db button.colab-df-convert');\n",
              "      buttonEl.style.display =\n",
              "        google.colab.kernel.accessAllowed ? 'block' : 'none';\n",
              "\n",
              "      async function convertToInteractive(key) {\n",
              "        const element = document.querySelector('#df-ec6c66df-eb57-4f5d-93e3-c88e0e8489db');\n",
              "        const dataTable =\n",
              "          await google.colab.kernel.invokeFunction('convertToInteractive',\n",
              "                                                    [key], {});\n",
              "        if (!dataTable) return;\n",
              "\n",
              "        const docLinkHtml = 'Like what you see? Visit the ' +\n",
              "          '<a target=\"_blank\" href=https://colab.research.google.com/notebooks/data_table.ipynb>data table notebook</a>'\n",
              "          + ' to learn more about interactive tables.';\n",
              "        element.innerHTML = '';\n",
              "        dataTable['output_type'] = 'display_data';\n",
              "        await google.colab.output.renderOutput(dataTable, element);\n",
              "        const docLink = document.createElement('div');\n",
              "        docLink.innerHTML = docLinkHtml;\n",
              "        element.appendChild(docLink);\n",
              "      }\n",
              "    </script>\n",
              "  </div>\n",
              "\n",
              "\n",
              "<div id=\"df-6bbe4b9a-0df8-4960-978c-595472b6071d\">\n",
              "  <button class=\"colab-df-quickchart\" onclick=\"quickchart('df-6bbe4b9a-0df8-4960-978c-595472b6071d')\"\n",
              "            title=\"Suggest charts\"\n",
              "            style=\"display:none;\">\n",
              "\n",
              "<svg xmlns=\"http://www.w3.org/2000/svg\" height=\"24px\"viewBox=\"0 0 24 24\"\n",
              "     width=\"24px\">\n",
              "    <g>\n",
              "        <path d=\"M19 3H5c-1.1 0-2 .9-2 2v14c0 1.1.9 2 2 2h14c1.1 0 2-.9 2-2V5c0-1.1-.9-2-2-2zM9 17H7v-7h2v7zm4 0h-2V7h2v10zm4 0h-2v-4h2v4z\"/>\n",
              "    </g>\n",
              "</svg>\n",
              "  </button>\n",
              "\n",
              "<style>\n",
              "  .colab-df-quickchart {\n",
              "      --bg-color: #E8F0FE;\n",
              "      --fill-color: #1967D2;\n",
              "      --hover-bg-color: #E2EBFA;\n",
              "      --hover-fill-color: #174EA6;\n",
              "      --disabled-fill-color: #AAA;\n",
              "      --disabled-bg-color: #DDD;\n",
              "  }\n",
              "\n",
              "  [theme=dark] .colab-df-quickchart {\n",
              "      --bg-color: #3B4455;\n",
              "      --fill-color: #D2E3FC;\n",
              "      --hover-bg-color: #434B5C;\n",
              "      --hover-fill-color: #FFFFFF;\n",
              "      --disabled-bg-color: #3B4455;\n",
              "      --disabled-fill-color: #666;\n",
              "  }\n",
              "\n",
              "  .colab-df-quickchart {\n",
              "    background-color: var(--bg-color);\n",
              "    border: none;\n",
              "    border-radius: 50%;\n",
              "    cursor: pointer;\n",
              "    display: none;\n",
              "    fill: var(--fill-color);\n",
              "    height: 32px;\n",
              "    padding: 0;\n",
              "    width: 32px;\n",
              "  }\n",
              "\n",
              "  .colab-df-quickchart:hover {\n",
              "    background-color: var(--hover-bg-color);\n",
              "    box-shadow: 0 1px 2px rgba(60, 64, 67, 0.3), 0 1px 3px 1px rgba(60, 64, 67, 0.15);\n",
              "    fill: var(--button-hover-fill-color);\n",
              "  }\n",
              "\n",
              "  .colab-df-quickchart-complete:disabled,\n",
              "  .colab-df-quickchart-complete:disabled:hover {\n",
              "    background-color: var(--disabled-bg-color);\n",
              "    fill: var(--disabled-fill-color);\n",
              "    box-shadow: none;\n",
              "  }\n",
              "\n",
              "  .colab-df-spinner {\n",
              "    border: 2px solid var(--fill-color);\n",
              "    border-color: transparent;\n",
              "    border-bottom-color: var(--fill-color);\n",
              "    animation:\n",
              "      spin 1s steps(1) infinite;\n",
              "  }\n",
              "\n",
              "  @keyframes spin {\n",
              "    0% {\n",
              "      border-color: transparent;\n",
              "      border-bottom-color: var(--fill-color);\n",
              "      border-left-color: var(--fill-color);\n",
              "    }\n",
              "    20% {\n",
              "      border-color: transparent;\n",
              "      border-left-color: var(--fill-color);\n",
              "      border-top-color: var(--fill-color);\n",
              "    }\n",
              "    30% {\n",
              "      border-color: transparent;\n",
              "      border-left-color: var(--fill-color);\n",
              "      border-top-color: var(--fill-color);\n",
              "      border-right-color: var(--fill-color);\n",
              "    }\n",
              "    40% {\n",
              "      border-color: transparent;\n",
              "      border-right-color: var(--fill-color);\n",
              "      border-top-color: var(--fill-color);\n",
              "    }\n",
              "    60% {\n",
              "      border-color: transparent;\n",
              "      border-right-color: var(--fill-color);\n",
              "    }\n",
              "    80% {\n",
              "      border-color: transparent;\n",
              "      border-right-color: var(--fill-color);\n",
              "      border-bottom-color: var(--fill-color);\n",
              "    }\n",
              "    90% {\n",
              "      border-color: transparent;\n",
              "      border-bottom-color: var(--fill-color);\n",
              "    }\n",
              "  }\n",
              "</style>\n",
              "\n",
              "  <script>\n",
              "    async function quickchart(key) {\n",
              "      const quickchartButtonEl =\n",
              "        document.querySelector('#' + key + ' button');\n",
              "      quickchartButtonEl.disabled = true;  // To prevent multiple clicks.\n",
              "      quickchartButtonEl.classList.add('colab-df-spinner');\n",
              "      try {\n",
              "        const charts = await google.colab.kernel.invokeFunction(\n",
              "            'suggestCharts', [key], {});\n",
              "      } catch (error) {\n",
              "        console.error('Error during call to suggestCharts:', error);\n",
              "      }\n",
              "      quickchartButtonEl.classList.remove('colab-df-spinner');\n",
              "      quickchartButtonEl.classList.add('colab-df-quickchart-complete');\n",
              "    }\n",
              "    (() => {\n",
              "      let quickchartButtonEl =\n",
              "        document.querySelector('#df-6bbe4b9a-0df8-4960-978c-595472b6071d button');\n",
              "      quickchartButtonEl.style.display =\n",
              "        google.colab.kernel.accessAllowed ? 'block' : 'none';\n",
              "    })();\n",
              "  </script>\n",
              "</div>\n",
              "    </div>\n",
              "  </div>\n"
            ],
            "application/vnd.google.colaboratory.intrinsic+json": {
              "type": "dataframe",
              "variable_name": "sents",
              "summary": "{\n  \"name\": \"sents\",\n  \"rows\": 1201,\n  \"fields\": [\n    {\n      \"column\": \"\\u041f\\u0440\\u0435\\u0434\\u043b\\u043e\\u0436\\u0435\\u043d\\u0438\\u0435\",\n      \"properties\": {\n        \"dtype\": \"string\",\n        \"num_unique_values\": 1201,\n        \"samples\": [\n          \"\\u041f\\u0440\\u0438\\u0447\\u0438\\u043d\\u044b \\u0442\\u0430\\u043a\\u043e\\u0433\\u043e \\u0441\\u0430\\u043c\\u043e\\u0443\\u0431\\u0438\\u0439\\u0441\\u0442\\u0432\\u0430 \\u043c\\u043d\\u043e\\u044e \\u043d\\u0435 \\u043e\\u0431\\u043d\\u0430\\u0440\\u0443\\u0436\\u0435\\u043d\\u044b \\u043d\\u043e \\u0432\\u0441\\u0435 \\u043e\\u0442 \\u0432\\u043e\\u0434\\u043a\\u0438.\",\n          \"\\u0410\\u043a\\u0443\\u043b\\u0438\\u043d\\u0430 \\u0432\\u0441\\u0442\\u0430\\u043b\\u0430 \\u043e\\u043f\\u044f\\u0442\\u044c \\u0438 \\u0434\\u043e\\u0441\\u0442\\u0430\\u043b\\u0430 \\u043c\\u0443\\u0436\\u0443 \\u0441\\u0430\\u043f\\u043e\\u0433\\u0438.\",\n          \"\\u0410 \\u044f, \\u043a\\u0430\\u043a \\u0432\\u0438\\u0434\\u0438\\u0448\\u044c, \\u0441\\u0442\\u0430\\u043b\\u0430 \\u0440\\u0435\\u043b\\u0438\\u0433\\u0438\\u043e\\u0437\\u043d\\u043e\\u0439, -- \\u0441\\u043a\\u0430\\u0437\\u0430\\u043b\\u0430 \\u043e\\u043d\\u0430.\"\n        ],\n        \"semantic_type\": \"\",\n        \"description\": \"\"\n      }\n    },\n    {\n      \"column\": \"\\u0414\\u0430\\u0442\\u0430\",\n      \"properties\": {\n        \"dtype\": \"category\",\n        \"num_unique_values\": 118,\n        \"samples\": [\n          1923,\n          1905,\n          1890\n        ],\n        \"semantic_type\": \"\",\n        \"description\": \"\"\n      }\n    },\n    {\n      \"column\": \"\\u0410\\u0432\\u0442\\u043e\\u0440\",\n      \"properties\": {\n        \"dtype\": \"category\",\n        \"num_unique_values\": 3,\n        \"samples\": [\n          \"\\u0410. \\u041f. \\u0427\\u0435\\u0445\\u043e\\u0432\",\n          \"\\u043a\\u043e\\u043b\\u043b\\u0435\\u043a\\u0442\\u0438\\u0432\\u043d\\u044b\\u0439\",\n          \"\\u041b. \\u041d. \\u0422\\u043e\\u043b\\u0441\\u0442\\u043e\\u0439\"\n        ],\n        \"semantic_type\": \"\",\n        \"description\": \"\"\n      }\n    },\n    {\n      \"column\": \"word_len\",\n      \"properties\": {\n        \"dtype\": \"number\",\n        \"std\": 19,\n        \"min\": 1,\n        \"max\": 275,\n        \"num_unique_values\": 94,\n        \"samples\": [\n          41,\n          23,\n          64\n        ],\n        \"semantic_type\": \"\",\n        \"description\": \"\"\n      }\n    }\n  ]\n}"
            }
          },
          "metadata": {},
          "execution_count": 18
        }
      ],
      "source": [
        "sents['word_len'] = sents['Предложение'].apply(lambda x: len(str(x).split()))\n",
        "sents"
      ]
    },
    {
      "cell_type": "code",
      "execution_count": null,
      "id": "a14ca2ba-f3cb-4797-88d0-6e38fa8efb33",
      "metadata": {
        "id": "a14ca2ba-f3cb-4797-88d0-6e38fa8efb33",
        "outputId": "0c95677c-282f-42a2-c6a4-2406b0cdf825"
      },
      "outputs": [
        {
          "data": {
            "text/plain": [
              "<Axes: >"
            ]
          },
          "execution_count": 6,
          "metadata": {},
          "output_type": "execute_result"
        },
        {
          "data": {
            "image/png": "[encoded data removed]",
            "text/plain": [
              "<Figure size 640x480 with 1 Axes>"
            ]
          },
          "metadata": {},
          "output_type": "display_data"
        }
      ],
      "source": [
        "sents['word_len'].hist()"
      ]
    },
    {
      "cell_type": "code",
      "execution_count": null,
      "id": "11c1816c-9267-4a1d-8700-a7f64fbdc12b",
      "metadata": {
        "id": "11c1816c-9267-4a1d-8700-a7f64fbdc12b",
        "outputId": "22e27282-a5ad-466c-fe10-899cfb7af1e3"
      },
      "outputs": [
        {
          "data": {
            "text/plain": [
              "Автор\n",
              "А. П. Чехов      16.722488\n",
              "Л. Н. Толстой    32.083770\n",
              "коллективный     20.451697\n",
              "Name: word_len, dtype: float64"
            ]
          },
          "execution_count": 7,
          "metadata": {},
          "output_type": "execute_result"
        }
      ],
      "source": [
        "sents.groupby('Автор')['word_len'].mean()"
      ]
    },
    {
      "cell_type": "code",
      "execution_count": null,
      "id": "00c55e9d-ef63-42f9-ac0a-d8bce74910b2",
      "metadata": {
        "id": "00c55e9d-ef63-42f9-ac0a-d8bce74910b2",
        "outputId": "0e1708ee-7826-44e3-da56-73df4f2344d9"
      },
      "outputs": [
        {
          "name": "stdout",
          "output_type": "stream",
          "text": [
            "А. П. Чехов\n",
            "коллективный\n",
            "Л. Н. Толстой\n"
          ]
        },
        {
          "data": {
            "image/png": "[encoded data removed]",
            "text/plain": [
              "<Figure size 640x480 with 1 Axes>"
            ]
          },
          "metadata": {},
          "output_type": "display_data"
        }
      ],
      "source": [
        "for author in list(sents['Автор'].unique()):\n",
        "    print(author)\n",
        "    sents[sents['Автор'] == author]['word_len'].hist()"
      ]
    },
    {
      "cell_type": "code",
      "execution_count": 20,
      "id": "ef6dc5f5-0917-4cdf-bede-6a29f53d1784",
      "metadata": {
        "colab": {
          "base_uri": "https://localhost:8080/",
          "height": 507
        },
        "id": "ef6dc5f5-0917-4cdf-bede-6a29f53d1784",
        "outputId": "39a8ab0b-c815-4cc5-be35-6b860a51103d"
      },
      "outputs": [
        {
          "output_type": "execute_result",
          "data": {
            "text/plain": [
              "array([[<Axes: title={'center': 'А. П. Чехов'}>,\n",
              "        <Axes: title={'center': 'Л. Н. Толстой'}>],\n",
              "       [<Axes: title={'center': 'коллективный'}>, <Axes: >]], dtype=object)"
            ]
          },
          "metadata": {},
          "execution_count": 20
        },
        {
          "output_type": "display_data",
          "data": {
            "text/plain": [
              "<Figure size 640x480 with 4 Axes>"
            ],
            "image/png": "[encoded data removed]"
          },
          "metadata": {}
        }
      ],
      "source": [
        "sents.hist('word_len', by='Автор', sharex=True, sharey=True)"
      ]
    },
    {
      "cell_type": "markdown",
      "id": "39e72226-b4d3-498a-9d15-64fde42060d5",
      "metadata": {
        "id": "39e72226-b4d3-498a-9d15-64fde42060d5"
      },
      "source": [
        "**Как ответить на вопрос, случайно ли такое распределение или у Л. Н. Толстого правда предложения длиннее?**\n",
        "\n",
        "### Существует t-test\n",
        "\n",
        "Он же t-критерий Стьюдента.\n",
        "\n",
        "*Историческая справка: его создал сотрудник компании Гиннес и опубликовал статью под псевдонимом Student, потому что использование подобных методов в компании являлось коммерческой тайной.*\n",
        "\n",
        "**Одновыборочный** отвечает на вопрос, может ли наша выборка быть не из генеральной совокупности с определённым средним (на каком-то уровне значимости).\n",
        "\n",
        "**Двувыборочный** отвечает на вопрос, могут ли две наши выборки быть не из одной генеральной совокупности (на каком-то уровне значимости), правда ли, что две выборки значимо отличаются.\n",
        "\n",
        "#### Как работать со статистическими тестами:\n",
        "- формулируем гипотезы: нулевая (H0) - что ничего не интересно, альтернативная (H1) — то, что хотим показать\n",
        "- применяем математику\n",
        "- математика выдаёт шанс (`p-value`), что мы отвергнем нулевую гипотезу по ошибке\n",
        "- смотрим, маленький это шанс или большой\n",
        "- делаем выводы\n",
        "\n"
      ]
    },
    {
      "cell_type": "markdown",
      "source": [
        "Тренируемся формулировать гипотезы. Перед вами данные о тату у пиратов. (EP - eyepatch, повязка на глаз)"
      ],
      "metadata": {
        "id": "skpTL0Xw41Kk"
      },
      "id": "skpTL0Xw41Kk"
    },
    {
      "cell_type": "markdown",
      "id": "052a3805-ae9d-4b77-873d-73b74c00f36b",
      "metadata": {
        "id": "052a3805-ae9d-4b77-873d-73b74c00f36b"
      },
      "source": [
        "![t-test](https://raw.githubusercontent.com/tbkazakova/python-datan_2023_minor/main/data/ttest.png)"
      ]
    },
    {
      "cell_type": "code",
      "execution_count": 1,
      "id": "9e6d8c69-6198-49d9-9181-8e5e7675c7a4",
      "metadata": {
        "colab": {
          "base_uri": "https://localhost:8080/"
        },
        "id": "9e6d8c69-6198-49d9-9181-8e5e7675c7a4",
        "outputId": "1cd80e0d-7b7a-418d-a11b-5b83e39d6e21"
      },
      "outputs": [
        {
          "output_type": "stream",
          "name": "stdout",
          "text": [
            "Requirement already satisfied: scipy in /usr/local/lib/python3.10/dist-packages (1.11.4)\n",
            "Requirement already satisfied: numpy<1.28.0,>=1.21.6 in /usr/local/lib/python3.10/dist-packages (from scipy) (1.25.2)\n"
          ]
        }
      ],
      "source": [
        "! pip install scipy"
      ]
    },
    {
      "cell_type": "code",
      "execution_count": 2,
      "id": "15877226-913e-4d7b-bb50-e404beced211",
      "metadata": {
        "colab": {
          "base_uri": "https://localhost:8080/"
        },
        "id": "15877226-913e-4d7b-bb50-e404beced211",
        "outputId": "eadcb261-babe-47d4-b669-65deccb1eaed"
      },
      "outputs": [
        {
          "output_type": "stream",
          "name": "stdout",
          "text": [
            "T statistic: 2.2894683580127317\n",
            "P-value: 0.047816221110566944\n",
            "Отклоняем нулевую гипотезу, есть статистически значимая разница между средними выборки и генеральной совокупности.\n"
          ]
        }
      ],
      "source": [
        "import numpy as np\n",
        "from scipy import stats\n",
        "\n",
        "# У нас есть оценки\n",
        "student_scores = np.array([72, 89, 65, 73, 79, 84, 63, 76, 85, 75])\n",
        "\n",
        "# Вышка думает, что средняя оценка при 100 шкале - 70\n",
        "mu = 70\n",
        "\n",
        "#Хотим понять, у нас рандомные студенты из генеральной совокупности\n",
        "# или это какие-то особенные (старательные или наоборот не старательные)\n",
        "\n",
        "# Нулевая гипотеза:\n",
        "# это рандомные студенты из генеральной совокупности, среднее незначимо отличается от того, что в генеральной совокупности\n",
        "\n",
        "# Ненулевая гипотеза:\n",
        "# у нас какие-то особенные, среднее значимо отличается от того, что в генеральной совокупности\n",
        "\n",
        "# Используем одновыборочный t-test\n",
        "t_stat, p_value = stats.ttest_1samp(student_scores, mu)\n",
        "print(\"T statistic:\", t_stat)\n",
        "print(\"P-value:\", p_value)\n",
        "\n",
        "# Вот такой у нас уровень значимости. Это значит, что мы готовы ошибиться в 5 случаях из 100\n",
        "alpha = 0.05\n",
        "\n",
        "# Интерпретируем результат\n",
        "if p_value < alpha:\n",
        "    print(\"Отклоняем нулевую гипотезу, есть статистически значимая разница между средними выборки и генеральной совокупности.\")\n",
        "else:\n",
        "    print(\"Не получается отклонить нулевую гипотезу, нет статистически значимой разницы между средними выборки и генеральной совокупности.\")"
      ]
    },
    {
      "cell_type": "markdown",
      "id": "55887a05-7eef-437e-a2c7-a9e88cf85b43",
      "metadata": {
        "id": "55887a05-7eef-437e-a2c7-a9e88cf85b43"
      },
      "source": [
        "**Это был одновыборочный. А нам нужен двувыборочный как сделать?**\n",
        "\n",
        "[t-test для двух выборок](https://researchpy.readthedocs.io/en/latest/ttest_documentation.html)"
      ]
    },
    {
      "cell_type": "code",
      "source": [
        "! pip install researchpy"
      ],
      "metadata": {
        "id": "Rf4jOKIs_c2z"
      },
      "id": "Rf4jOKIs_c2z",
      "execution_count": null,
      "outputs": []
    },
    {
      "cell_type": "code",
      "source": [
        "import researchpy as rp"
      ],
      "metadata": {
        "id": "-yqTEYXU_aDZ"
      },
      "id": "-yqTEYXU_aDZ",
      "execution_count": 8,
      "outputs": []
    },
    {
      "cell_type": "code",
      "source": [
        "# это рост мужчин и рост женщин\n",
        "samples = pd.read_csv('https://raw.githubusercontent.com/alekseyst/text_analysis_2023/main/Seminar_7/sample_ttest.csv')\n",
        "samples.head()"
      ],
      "metadata": {
        "colab": {
          "base_uri": "https://localhost:8080/",
          "height": 206
        },
        "id": "c_z56MHd_VXc",
        "outputId": "58e10cee-ae7a-4934-ca3b-1330100dbb6f"
      },
      "id": "c_z56MHd_VXc",
      "execution_count": 13,
      "outputs": [
        {
          "output_type": "execute_result",
          "data": {
            "text/plain": [
              "   sample_one  sample_two\n",
              "0         174         182\n",
              "1         171         171\n",
              "2         195         162\n",
              "3         162         175\n",
              "4         179         142"
            ],
            "text/html": [
              "\n",
              "  <div id=\"df-f994c527-e1a0-4384-86b8-0aca6e31637c\" class=\"colab-df-container\">\n",
              "    <div>\n",
              "<style scoped>\n",
              "    .dataframe tbody tr th:only-of-type {\n",
              "        vertical-align: middle;\n",
              "    }\n",
              "\n",
              "    .dataframe tbody tr th {\n",
              "        vertical-align: top;\n",
              "    }\n",
              "\n",
              "    .dataframe thead th {\n",
              "        text-align: right;\n",
              "    }\n",
              "</style>\n",
              "<table border=\"1\" class=\"dataframe\">\n",
              "  <thead>\n",
              "    <tr style=\"text-align: right;\">\n",
              "      <th></th>\n",
              "      <th>sample_one</th>\n",
              "      <th>sample_two</th>\n",
              "    </tr>\n",
              "  </thead>\n",
              "  <tbody>\n",
              "    <tr>\n",
              "      <th>0</th>\n",
              "      <td>174</td>\n",
              "      <td>182</td>\n",
              "    </tr>\n",
              "    <tr>\n",
              "      <th>1</th>\n",
              "      <td>171</td>\n",
              "      <td>171</td>\n",
              "    </tr>\n",
              "    <tr>\n",
              "      <th>2</th>\n",
              "      <td>195</td>\n",
              "      <td>162</td>\n",
              "    </tr>\n",
              "    <tr>\n",
              "      <th>3</th>\n",
              "      <td>162</td>\n",
              "      <td>175</td>\n",
              "    </tr>\n",
              "    <tr>\n",
              "      <th>4</th>\n",
              "      <td>179</td>\n",
              "      <td>142</td>\n",
              "    </tr>\n",
              "  </tbody>\n",
              "</table>\n",
              "</div>\n",
              "    <div class=\"colab-df-buttons\">\n",
              "\n",
              "  <div class=\"colab-df-container\">\n",
              "    <button class=\"colab-df-convert\" onclick=\"convertToInteractive('df-f994c527-e1a0-4384-86b8-0aca6e31637c')\"\n",
              "            title=\"Convert this dataframe to an interactive table.\"\n",
              "            style=\"display:none;\">\n",
              "\n",
              "  <svg xmlns=\"http://www.w3.org/2000/svg\" height=\"24px\" viewBox=\"0 -960 960 960\">\n",
              "    <path d=\"M120-120v-720h720v720H120Zm60-500h600v-160H180v160Zm220 220h160v-160H400v160Zm0 220h160v-160H400v160ZM180-400h160v-160H180v160Zm440 0h160v-160H620v160ZM180-180h160v-160H180v160Zm440 0h160v-160H620v160Z\"/>\n",
              "  </svg>\n",
              "    </button>\n",
              "\n",
              "  <style>\n",
              "    .colab-df-container {\n",
              "      display:flex;\n",
              "      gap: 12px;\n",
              "    }\n",
              "\n",
              "    .colab-df-convert {\n",
              "      background-color: #E8F0FE;\n",
              "      border: none;\n",
              "      border-radius: 50%;\n",
              "      cursor: pointer;\n",
              "      display: none;\n",
              "      fill: #1967D2;\n",
              "      height: 32px;\n",
              "      padding: 0 0 0 0;\n",
              "      width: 32px;\n",
              "    }\n",
              "\n",
              "    .colab-df-convert:hover {\n",
              "      background-color: #E2EBFA;\n",
              "      box-shadow: 0px 1px 2px rgba(60, 64, 67, 0.3), 0px 1px 3px 1px rgba(60, 64, 67, 0.15);\n",
              "      fill: #174EA6;\n",
              "    }\n",
              "\n",
              "    .colab-df-buttons div {\n",
              "      margin-bottom: 4px;\n",
              "    }\n",
              "\n",
              "    [theme=dark] .colab-df-convert {\n",
              "      background-color: #3B4455;\n",
              "      fill: #D2E3FC;\n",
              "    }\n",
              "\n",
              "    [theme=dark] .colab-df-convert:hover {\n",
              "      background-color: #434B5C;\n",
              "      box-shadow: 0px 1px 3px 1px rgba(0, 0, 0, 0.15);\n",
              "      filter: drop-shadow(0px 1px 2px rgba(0, 0, 0, 0.3));\n",
              "      fill: #FFFFFF;\n",
              "    }\n",
              "  </style>\n",
              "\n",
              "    <script>\n",
              "      const buttonEl =\n",
              "        document.querySelector('#df-f994c527-e1a0-4384-86b8-0aca6e31637c button.colab-df-convert');\n",
              "      buttonEl.style.display =\n",
              "        google.colab.kernel.accessAllowed ? 'block' : 'none';\n",
              "\n",
              "      async function convertToInteractive(key) {\n",
              "        const element = document.querySelector('#df-f994c527-e1a0-4384-86b8-0aca6e31637c');\n",
              "        const dataTable =\n",
              "          await google.colab.kernel.invokeFunction('convertToInteractive',\n",
              "                                                    [key], {});\n",
              "        if (!dataTable) return;\n",
              "\n",
              "        const docLinkHtml = 'Like what you see? Visit the ' +\n",
              "          '<a target=\"_blank\" href=https://colab.research.google.com/notebooks/data_table.ipynb>data table notebook</a>'\n",
              "          + ' to learn more about interactive tables.';\n",
              "        element.innerHTML = '';\n",
              "        dataTable['output_type'] = 'display_data';\n",
              "        await google.colab.output.renderOutput(dataTable, element);\n",
              "        const docLink = document.createElement('div');\n",
              "        docLink.innerHTML = docLinkHtml;\n",
              "        element.appendChild(docLink);\n",
              "      }\n",
              "    </script>\n",
              "  </div>\n",
              "\n",
              "\n",
              "<div id=\"df-006d9426-d5b0-4ace-b50b-58f0f56783d8\">\n",
              "  <button class=\"colab-df-quickchart\" onclick=\"quickchart('df-006d9426-d5b0-4ace-b50b-58f0f56783d8')\"\n",
              "            title=\"Suggest charts\"\n",
              "            style=\"display:none;\">\n",
              "\n",
              "<svg xmlns=\"http://www.w3.org/2000/svg\" height=\"24px\"viewBox=\"0 0 24 24\"\n",
              "     width=\"24px\">\n",
              "    <g>\n",
              "        <path d=\"M19 3H5c-1.1 0-2 .9-2 2v14c0 1.1.9 2 2 2h14c1.1 0 2-.9 2-2V5c0-1.1-.9-2-2-2zM9 17H7v-7h2v7zm4 0h-2V7h2v10zm4 0h-2v-4h2v4z\"/>\n",
              "    </g>\n",
              "</svg>\n",
              "  </button>\n",
              "\n",
              "<style>\n",
              "  .colab-df-quickchart {\n",
              "      --bg-color: #E8F0FE;\n",
              "      --fill-color: #1967D2;\n",
              "      --hover-bg-color: #E2EBFA;\n",
              "      --hover-fill-color: #174EA6;\n",
              "      --disabled-fill-color: #AAA;\n",
              "      --disabled-bg-color: #DDD;\n",
              "  }\n",
              "\n",
              "  [theme=dark] .colab-df-quickchart {\n",
              "      --bg-color: #3B4455;\n",
              "      --fill-color: #D2E3FC;\n",
              "      --hover-bg-color: #434B5C;\n",
              "      --hover-fill-color: #FFFFFF;\n",
              "      --disabled-bg-color: #3B4455;\n",
              "      --disabled-fill-color: #666;\n",
              "  }\n",
              "\n",
              "  .colab-df-quickchart {\n",
              "    background-color: var(--bg-color);\n",
              "    border: none;\n",
              "    border-radius: 50%;\n",
              "    cursor: pointer;\n",
              "    display: none;\n",
              "    fill: var(--fill-color);\n",
              "    height: 32px;\n",
              "    padding: 0;\n",
              "    width: 32px;\n",
              "  }\n",
              "\n",
              "  .colab-df-quickchart:hover {\n",
              "    background-color: var(--hover-bg-color);\n",
              "    box-shadow: 0 1px 2px rgba(60, 64, 67, 0.3), 0 1px 3px 1px rgba(60, 64, 67, 0.15);\n",
              "    fill: var(--button-hover-fill-color);\n",
              "  }\n",
              "\n",
              "  .colab-df-quickchart-complete:disabled,\n",
              "  .colab-df-quickchart-complete:disabled:hover {\n",
              "    background-color: var(--disabled-bg-color);\n",
              "    fill: var(--disabled-fill-color);\n",
              "    box-shadow: none;\n",
              "  }\n",
              "\n",
              "  .colab-df-spinner {\n",
              "    border: 2px solid var(--fill-color);\n",
              "    border-color: transparent;\n",
              "    border-bottom-color: var(--fill-color);\n",
              "    animation:\n",
              "      spin 1s steps(1) infinite;\n",
              "  }\n",
              "\n",
              "  @keyframes spin {\n",
              "    0% {\n",
              "      border-color: transparent;\n",
              "      border-bottom-color: var(--fill-color);\n",
              "      border-left-color: var(--fill-color);\n",
              "    }\n",
              "    20% {\n",
              "      border-color: transparent;\n",
              "      border-left-color: var(--fill-color);\n",
              "      border-top-color: var(--fill-color);\n",
              "    }\n",
              "    30% {\n",
              "      border-color: transparent;\n",
              "      border-left-color: var(--fill-color);\n",
              "      border-top-color: var(--fill-color);\n",
              "      border-right-color: var(--fill-color);\n",
              "    }\n",
              "    40% {\n",
              "      border-color: transparent;\n",
              "      border-right-color: var(--fill-color);\n",
              "      border-top-color: var(--fill-color);\n",
              "    }\n",
              "    60% {\n",
              "      border-color: transparent;\n",
              "      border-right-color: var(--fill-color);\n",
              "    }\n",
              "    80% {\n",
              "      border-color: transparent;\n",
              "      border-right-color: var(--fill-color);\n",
              "      border-bottom-color: var(--fill-color);\n",
              "    }\n",
              "    90% {\n",
              "      border-color: transparent;\n",
              "      border-bottom-color: var(--fill-color);\n",
              "    }\n",
              "  }\n",
              "</style>\n",
              "\n",
              "  <script>\n",
              "    async function quickchart(key) {\n",
              "      const quickchartButtonEl =\n",
              "        document.querySelector('#' + key + ' button');\n",
              "      quickchartButtonEl.disabled = true;  // To prevent multiple clicks.\n",
              "      quickchartButtonEl.classList.add('colab-df-spinner');\n",
              "      try {\n",
              "        const charts = await google.colab.kernel.invokeFunction(\n",
              "            'suggestCharts', [key], {});\n",
              "      } catch (error) {\n",
              "        console.error('Error during call to suggestCharts:', error);\n",
              "      }\n",
              "      quickchartButtonEl.classList.remove('colab-df-spinner');\n",
              "      quickchartButtonEl.classList.add('colab-df-quickchart-complete');\n",
              "    }\n",
              "    (() => {\n",
              "      let quickchartButtonEl =\n",
              "        document.querySelector('#df-006d9426-d5b0-4ace-b50b-58f0f56783d8 button');\n",
              "      quickchartButtonEl.style.display =\n",
              "        google.colab.kernel.accessAllowed ? 'block' : 'none';\n",
              "    })();\n",
              "  </script>\n",
              "</div>\n",
              "    </div>\n",
              "  </div>\n"
            ],
            "application/vnd.google.colaboratory.intrinsic+json": {
              "type": "dataframe",
              "variable_name": "samples",
              "summary": "{\n  \"name\": \"samples\",\n  \"rows\": 21,\n  \"fields\": [\n    {\n      \"column\": \"sample_one\",\n      \"properties\": {\n        \"dtype\": \"number\",\n        \"std\": 11,\n        \"min\": 157,\n        \"max\": 195,\n        \"num_unique_values\": 17,\n        \"samples\": [\n          174,\n          171,\n          178\n        ],\n        \"semantic_type\": \"\",\n        \"description\": \"\"\n      }\n    },\n    {\n      \"column\": \"sample_two\",\n      \"properties\": {\n        \"dtype\": \"number\",\n        \"std\": 9,\n        \"min\": 142,\n        \"max\": 182,\n        \"num_unique_values\": 14,\n        \"samples\": [\n          155,\n          152,\n          182\n        ],\n        \"semantic_type\": \"\",\n        \"description\": \"\"\n      }\n    }\n  ]\n}"
            }
          },
          "metadata": {},
          "execution_count": 13
        }
      ]
    },
    {
      "cell_type": "code",
      "source": [
        "rp.ttest(samples['sample_one'], samples['sample_two'], equal_variances = False, paired = False)"
      ],
      "metadata": {
        "colab": {
          "base_uri": "https://localhost:8080/"
        },
        "id": "gy74qqiqAOzM",
        "outputId": "edc900b3-88e7-4cc8-d7cb-a25e7f0ce48f"
      },
      "id": "gy74qqiqAOzM",
      "execution_count": 12,
      "outputs": [
        {
          "output_type": "stream",
          "name": "stderr",
          "text": [
            "/usr/local/lib/python3.10/dist-packages/researchpy/ttest.py:38: FutureWarning: The series.append method is deprecated and will be removed from pandas in a future version. Use pandas.concat instead.\n",
            "  groups = group1.append(group2, ignore_index= True)\n"
          ]
        },
        {
          "output_type": "execute_result",
          "data": {
            "text/plain": [
              "(     Variable     N        Mean         SD        SE   95% Conf.    Interval\n",
              " 0  sample_one  21.0  174.428571  11.382317  2.483825  169.247403  179.609740\n",
              " 1  sample_two  21.0  165.047619   9.957290  2.172859  160.515115  169.580123\n",
              " 2    combined  42.0  169.738095  11.580175  1.786860  166.129459  173.346732,\n",
              "                       Satterthwaite t-test  results\n",
              " 0  Difference (sample_one - sample_two) =    9.3810\n",
              " 1                    Degrees of freedom =   39.3051\n",
              " 2                                     t =    2.8426\n",
              " 3                 Two side test p value =    0.0071\n",
              " 4                Difference < 0 p value =    0.9965\n",
              " 5                Difference > 0 p value =    0.0035\n",
              " 6                             Cohen's d =    0.8773\n",
              " 7                             Hedge's g =    0.8607\n",
              " 8                        Glass's delta1 =    0.8242\n",
              " 9                      Point-Biserial r =    0.4129)"
            ]
          },
          "metadata": {},
          "execution_count": 12
        }
      ]
    },
    {
      "cell_type": "markdown",
      "source": [
        "Какой можно сделать вывод?\n",
        "\n",
        "Что значат параметры `equal_variances` и `paired`?\n",
        "- `equal_variances`=False для случаев, когда дисперсии выборок неодинаковые\n",
        "- `paired`=True, если у вас выборки зависят друг от друга (например, это показатели одних и тех же людей до и после операции), в остальных случаях `paired`=False"
      ],
      "metadata": {
        "id": "ZbhAQgQ3A-Ro"
      },
      "id": "ZbhAQgQ3A-Ro"
    },
    {
      "cell_type": "markdown",
      "source": [
        "**Но у нас Чехов и Толстой.**"
      ],
      "metadata": {
        "id": "_txAc-Z-_2Re"
      },
      "id": "_txAc-Z-_2Re"
    },
    {
      "cell_type": "code",
      "execution_count": null,
      "id": "908e4876-1928-4fec-9aad-7fa56f569d26",
      "metadata": {
        "id": "908e4876-1928-4fec-9aad-7fa56f569d26",
        "outputId": "a51fe146-78b7-4140-cc53-af0d50bea0e5"
      },
      "outputs": [
        {
          "data": {
            "text/plain": [
              "array([  1,   1,   2,   2,   2,   2,   3,   3,   4,   4,   5,   6,   7,\n",
              "         7,   7,   8,   8,   8,   8,   8,   9,   9,   9,   9,  10,  10,\n",
              "        10,  10,  11,  11,  11,  11,  11,  11,  12,  12,  12,  12,  13,\n",
              "        13,  13,  14,  14,  14,  14,  15,  15,  15,  15,  16,  16,  16,\n",
              "        16,  16,  16,  17,  17,  17,  17,  17,  17,  18,  18,  18,  19,\n",
              "        19,  19,  19,  20,  20,  20,  20,  20,  20,  20,  20,  21,  21,\n",
              "        21,  21,  21,  21,  21,  22,  22,  22,  23,  23,  23,  23,  23,\n",
              "        23,  24,  24,  24,  24,  25,  25,  26,  26,  26,  26,  27,  27,\n",
              "        27,  27,  28,  28,  28,  28,  28,  28,  29,  29,  29,  29,  30,\n",
              "        30,  30,  30,  30,  31,  31,  31,  31,  31,  31,  32,  32,  32,\n",
              "        34,  35,  35,  35,  35,  37,  37,  38,  38,  38,  38,  39,  40,\n",
              "        40,  41,  41,  43,  43,  43,  46,  46,  48,  49,  49,  50,  50,\n",
              "        50,  51,  53,  53,  55,  55,  56,  56,  57,  58,  58,  58,  59,\n",
              "        63,  63,  66,  67,  67,  68,  70,  70,  72,  73,  73,  73,  78,\n",
              "        81,  84,  85,  90,  98,  99, 127, 145, 275])"
            ]
          },
          "execution_count": 12,
          "metadata": {},
          "output_type": "execute_result"
        }
      ],
      "source": [
        "chehov = sents[sents['Автор'] == 'А. П. Чехов']['word_len'].values\n",
        "tolstoj = sents[sents['Автор'] == 'Л. Н. Толстой']['word_len'].values\n",
        "tolstoj"
      ]
    },
    {
      "cell_type": "markdown",
      "id": "6bffbb7f-0e4e-4e23-95d2-f1dd15a92de8",
      "metadata": {
        "id": "6bffbb7f-0e4e-4e23-95d2-f1dd15a92de8"
      },
      "source": [
        "Если бы данные были бы распределены нормально, мы бы использовали t-test для двух выборок.\n",
        "\n",
        "Но t-test придуман для выборок с нормальным распределением.\n",
        "\n",
        "Будем использовать аналог t-теста, которому неважно, какое распределение.\n",
        "\n",
        "### Тест Манна-Уитни"
      ]
    },
    {
      "cell_type": "code",
      "execution_count": null,
      "id": "318903b8-26af-4ec3-bd16-616af81ebcab",
      "metadata": {
        "id": "318903b8-26af-4ec3-bd16-616af81ebcab"
      },
      "outputs": [],
      "source": [
        "from scipy.stats import mannwhitneyu"
      ]
    },
    {
      "cell_type": "code",
      "execution_count": null,
      "id": "f32af308-9d66-4033-948f-24d5c12d5329",
      "metadata": {
        "id": "f32af308-9d66-4033-948f-24d5c12d5329",
        "outputId": "41ed0d1c-228a-4f9f-e9bb-38036ff9dc3a"
      },
      "outputs": [
        {
          "name": "stdout",
          "output_type": "stream",
          "text": [
            "MannwhitneyuResult(statistic=86704.0, pvalue=3.076490071036075e-21)\n"
          ]
        }
      ],
      "source": [
        "res = mannwhitneyu(tolstoj, chehov, alternative=\"greater\")\n",
        "print(res)"
      ]
    },
    {
      "cell_type": "markdown",
      "id": "e74c3b37-faea-4edd-88eb-16b2a06ffc93",
      "metadata": {
        "id": "e74c3b37-faea-4edd-88eb-16b2a06ffc93"
      },
      "source": [
        "**Какой вывод?**\n",
        "\n",
        "p-value маленькое, сильно меньше порога. Мы можем смело отвергать нулевую гипотезу о том, что между Толстым и Чеховым нет статистически значимой разницы. И принимать гипотезу о том, что предложения у Толстого длиннее, чем у Чехова."
      ]
    },
    {
      "cell_type": "markdown",
      "id": "7def530f-f1af-4e06-9e42-4108dc0a473f",
      "metadata": {
        "id": "7def530f-f1af-4e06-9e42-4108dc0a473f"
      },
      "source": [
        "**Что значит одно- или двусторонний тест?**\n",
        "\n",
        "![Что значит одно- или двусторонний тест?](https://raw.githubusercontent.com/tbkazakova/python-datan_2023_minor/main/data/one_vs_two_sided.png)"
      ]
    }
  ],
  "metadata": {
    "kernelspec": {
      "display_name": "Python 3 (ipykernel)",
      "language": "python",
      "name": "python3"
    },
    "language_info": {
      "codemirror_mode": {
        "name": "ipython",
        "version": 3
      },
      "file_extension": ".py",
      "mimetype": "text/x-python",
      "name": "python",
      "nbconvert_exporter": "python",
      "pygments_lexer": "ipython3",
      "version": "3.12.0"
    },
    "colab": {
      "provenance": []
    }
  },
  "nbformat": 4,
  "nbformat_minor": 5
}
