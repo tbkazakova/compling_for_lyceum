{
  "nbformat": 4,
  "nbformat_minor": 0,
  "metadata": {
    "colab": {
      "provenance": []
    },
    "kernelspec": {
      "name": "python3",
      "display_name": "Python 3"
    },
    "language_info": {
      "name": "python"
    }
  },
  "cells": [
    {
      "cell_type": "markdown",
      "source": [
        "# Знакомство с питоном\n",
        "А затем деление текста на предложения и на слова"
      ],
      "metadata": {
        "id": "12nMbiBB_vbb"
      }
    },
    {
      "cell_type": "code",
      "source": [
        "print('Hello, world!')"
      ],
      "metadata": {
        "id": "V3YUiQHcADaC",
        "colab": {
          "base_uri": "https://localhost:8080/"
        },
        "outputId": "2c810481-3da4-46a6-c28e-e67de127aab5"
      },
      "execution_count": null,
      "outputs": [
        {
          "output_type": "stream",
          "name": "stdout",
          "text": [
            "Hello, world!\n"
          ]
        }
      ]
    },
    {
      "cell_type": "code",
      "execution_count": null,
      "metadata": {
        "id": "6bj8FZH4_gVO",
        "colab": {
          "base_uri": "https://localhost:8080/"
        },
        "outputId": "e823b2eb-24da-460c-be07-6893aa1dcad2"
      },
      "outputs": [
        {
          "output_type": "execute_result",
          "data": {
            "text/plain": [
              "5"
            ]
          },
          "metadata": {},
          "execution_count": 17
        }
      ],
      "source": [
        "a = 5\n",
        "a"
      ]
    },
    {
      "cell_type": "code",
      "source": [
        "b = 7\n",
        "c =  a + b\n",
        "print(\"a + b =\", c)"
      ],
      "metadata": {
        "id": "aZHh1sIoDz0N",
        "colab": {
          "base_uri": "https://localhost:8080/"
        },
        "outputId": "ea0f28df-40c8-4c47-956b-7d88917ea96a"
      },
      "execution_count": null,
      "outputs": [
        {
          "output_type": "stream",
          "name": "stdout",
          "text": [
            "a + b = 12\n"
          ]
        }
      ]
    },
    {
      "cell_type": "code",
      "source": [
        "print(a + b)\n",
        "print(10 / 3)  # Комментарии можно писать после хештега\n",
        "# В дробях точка"
      ],
      "metadata": {
        "id": "B26POrIfELei",
        "colab": {
          "base_uri": "https://localhost:8080/"
        },
        "outputId": "5f564b8a-01a8-40e6-ea1d-6006d754ae99"
      },
      "execution_count": null,
      "outputs": [
        {
          "output_type": "stream",
          "name": "stdout",
          "text": [
            "12\n",
            "3.3333333333333335\n"
          ]
        }
      ]
    },
    {
      "cell_type": "code",
      "source": [
        "А без хештега не код ломает программу.\n",
        "print('работает')"
      ],
      "metadata": {
        "id": "2YMoCqv4G1yt",
        "colab": {
          "base_uri": "https://localhost:8080/",
          "height": 130
        },
        "outputId": "d1fd8011-d5a9-4bc7-8c69-838e4b253f94"
      },
      "execution_count": null,
      "outputs": [
        {
          "output_type": "error",
          "ename": "SyntaxError",
          "evalue": "ignored",
          "traceback": [
            "\u001b[0;36m  File \u001b[0;32m\"<ipython-input-20-c1e50eab0045>\"\u001b[0;36m, line \u001b[0;32m1\u001b[0m\n\u001b[0;31m    А без хештега не код ломает программу.\u001b[0m\n\u001b[0m      ^\u001b[0m\n\u001b[0;31mSyntaxError\u001b[0m\u001b[0;31m:\u001b[0m invalid syntax\n"
          ]
        }
      ]
    },
    {
      "cell_type": "markdown",
      "source": [
        "\\+ - * / = , а ещё есть остаток от деления % и целая часть //\n",
        "\n",
        "Каждое выражение с новой строки"
      ],
      "metadata": {
        "id": "q1rOUkp5aaAI"
      }
    },
    {
      "cell_type": "code",
      "source": [
        "5%2  # 1 - остаток от деления\n",
        "5//2  # 2 - целая часть\n",
        "# В таких тетрадках с кодом выводится последнее действие"
      ],
      "metadata": {
        "id": "FAH3q1XEgrWY",
        "colab": {
          "base_uri": "https://localhost:8080/"
        },
        "outputId": "f46b3f97-97a3-4b49-ad56-aab73dacd41e"
      },
      "execution_count": null,
      "outputs": [
        {
          "output_type": "execute_result",
          "data": {
            "text/plain": [
              "2"
            ]
          },
          "metadata": {},
          "execution_count": 22
        }
      ]
    },
    {
      "cell_type": "code",
      "source": [
        "print(5%2)\n",
        "print(5//2)"
      ],
      "metadata": {
        "id": "9QG4lbMpg1bz",
        "colab": {
          "base_uri": "https://localhost:8080/"
        },
        "outputId": "df0f6189-a686-44cf-88d9-24af35594877"
      },
      "execution_count": null,
      "outputs": [
        {
          "output_type": "stream",
          "name": "stdout",
          "text": [
            "1\n",
            "2\n"
          ]
        }
      ]
    },
    {
      "cell_type": "markdown",
      "source": [
        "Есть разные объекты: числа, строки с текстом, списки, словари и т.д."
      ],
      "metadata": {
        "id": "SoK-wluUQGcv"
      }
    },
    {
      "cell_type": "code",
      "source": [
        "number = 324\n",
        "number_float = 324.52309\n",
        "text = 'что-то в кавычках'\n",
        "spisok = [1, 5, \"слово\", 28.4, []]\n",
        "chemistry_dict = {\"H\": \"Водород\", \"He\": \"Гелий\", \"Li\": \"Литий\", \"Be\": \"Бериллий\"}\n",
        "# Мы храним их в переменных\n",
        "# (number, number_float, text, spisok, slovar_dict - переменные).\n",
        "# Название переменных может быть любое. Лучше латиницей, лучше говорящие.\n",
        "плим = [\"а\", \"я\", \"придумал\", \"слово\"]  # Не делайте так"
      ],
      "metadata": {
        "id": "HNUeavR9QFbR"
      },
      "execution_count": 2,
      "outputs": []
    },
    {
      "cell_type": "markdown",
      "source": [
        "Данные бывают разных форматов(типов)\n",
        "\n",
        "Проверить тип - type()\n",
        "\n"
      ],
      "metadata": {
        "id": "HZ5cwY2jkn14"
      }
    },
    {
      "cell_type": "code",
      "source": [
        "print(type(324))\n",
        "print(type(324.3407))\n",
        "print(type(text))\n",
        "print(type(spisok))\n",
        "print(type(slovar_dict))"
      ],
      "metadata": {
        "id": "JoSK7D89km0S",
        "colab": {
          "base_uri": "https://localhost:8080/"
        },
        "outputId": "bafe1c77-e9fc-468a-a3aa-cc614275fb63"
      },
      "execution_count": null,
      "outputs": [
        {
          "output_type": "stream",
          "name": "stdout",
          "text": [
            "<class 'int'>\n",
            "<class 'float'>\n",
            "<class 'str'>\n",
            "<class 'list'>\n",
            "<class 'dict'>\n"
          ]
        }
      ]
    },
    {
      "cell_type": "markdown",
      "source": [
        "### Есть функции:\n",
        "\n",
        "Общий вид - function(то, к чему надо применить)\n",
        "\n",
        "print() - мы видели выше. Печатает то, к чему применяется\n",
        "\n",
        "type() - узнать тип данных"
      ],
      "metadata": {
        "id": "fckWozLXFrUJ"
      }
    },
    {
      "cell_type": "code",
      "source": [
        "# - input() Функция принимает текст от пользователя\n",
        "# - int() Функция переводит данные в числовой формат, если может"
      ],
      "metadata": {
        "id": "BZ6ObSX2CF53"
      },
      "execution_count": null,
      "outputs": []
    },
    {
      "cell_type": "code",
      "source": [
        "user_input = input('введите число ')"
      ],
      "metadata": {
        "id": "Xma0ipouMfV6",
        "colab": {
          "base_uri": "https://localhost:8080/"
        },
        "outputId": "64822536-1bb1-4b84-b87c-120e78e892b2"
      },
      "execution_count": null,
      "outputs": [
        {
          "name": "stdout",
          "output_type": "stream",
          "text": [
            "введите число 42\n"
          ]
        }
      ]
    },
    {
      "cell_type": "code",
      "source": [
        "print(user_input)\n",
        "print(type(user_input))"
      ],
      "metadata": {
        "id": "hvbPSnnHMslM",
        "colab": {
          "base_uri": "https://localhost:8080/"
        },
        "outputId": "1db17a37-5745-42d5-dd74-e7a666c42cbe"
      },
      "execution_count": null,
      "outputs": [
        {
          "output_type": "stream",
          "name": "stdout",
          "text": [
            "42\n",
            "<class 'str'>\n"
          ]
        }
      ]
    },
    {
      "cell_type": "code",
      "source": [
        "user_input = int(user_input)\n",
        "print(type(user_input))"
      ],
      "metadata": {
        "id": "jrnA4hO-NGaq",
        "colab": {
          "base_uri": "https://localhost:8080/"
        },
        "outputId": "f819d620-31a9-4cfa-a033-eeb1b05ad8c7"
      },
      "execution_count": null,
      "outputs": [
        {
          "output_type": "stream",
          "name": "stdout",
          "text": [
            "<class 'int'>\n"
          ]
        }
      ]
    },
    {
      "cell_type": "code",
      "source": [
        "print(type(int(\"sjkkd\")))  # не всё можно превратить в число"
      ],
      "metadata": {
        "colab": {
          "base_uri": "https://localhost:8080/",
          "height": 165
        },
        "id": "lagt0nF_WnGb",
        "outputId": "2684448d-eec2-452f-93d2-309287442c47"
      },
      "execution_count": null,
      "outputs": [
        {
          "output_type": "error",
          "ename": "ValueError",
          "evalue": "ignored",
          "traceback": [
            "\u001b[0;31m---------------------------------------------------------------------------\u001b[0m",
            "\u001b[0;31mValueError\u001b[0m                                Traceback (most recent call last)",
            "\u001b[0;32m<ipython-input-33-868b1ad2097c>\u001b[0m in \u001b[0;36m<module>\u001b[0;34m\u001b[0m\n\u001b[0;32m----> 1\u001b[0;31m \u001b[0mprint\u001b[0m\u001b[0;34m(\u001b[0m\u001b[0mtype\u001b[0m\u001b[0;34m(\u001b[0m\u001b[0mint\u001b[0m\u001b[0;34m(\u001b[0m\u001b[0;34m\"sjkkd\"\u001b[0m\u001b[0;34m)\u001b[0m\u001b[0;34m)\u001b[0m\u001b[0;34m)\u001b[0m\u001b[0;34m\u001b[0m\u001b[0;34m\u001b[0m\u001b[0m\n\u001b[0m",
            "\u001b[0;31mValueError\u001b[0m: invalid literal for int() with base 10: 'sjkkd'"
          ]
        }
      ]
    },
    {
      "cell_type": "markdown",
      "source": [
        "Потренируемся!\n",
        "Напишите код, берущий два числа у пользователя и выдающий их сумму"
      ],
      "metadata": {
        "id": "BCo4F1W3CL_8"
      }
    },
    {
      "cell_type": "code",
      "source": [
        "# Ваш код\n",
        "num1 = int(input(\"Введите число 1: \"))\n",
        "num2 = int(input(\"Введите число 2: \"))\n",
        "print(num1 + num2)"
      ],
      "metadata": {
        "id": "oIraTrNuCIUq",
        "colab": {
          "base_uri": "https://localhost:8080/"
        },
        "outputId": "09bbfa85-fbdf-4a86-df7c-66bd3d0b3f89"
      },
      "execution_count": 1,
      "outputs": [
        {
          "output_type": "stream",
          "name": "stdout",
          "text": [
            "Введите число 1: 3\n",
            "Введите число 2: 4\n",
            "7\n"
          ]
        }
      ]
    },
    {
      "cell_type": "markdown",
      "source": [
        "Продолжим знакомство с функциями"
      ],
      "metadata": {
        "id": "BWAxXFCPDDoq"
      }
    },
    {
      "cell_type": "code",
      "source": [
        "# Функция len() считает длину. Можно измерить длину списка, словаря, строки...\n",
        "len('привет')"
      ],
      "metadata": {
        "colab": {
          "base_uri": "https://localhost:8080/"
        },
        "id": "XOCL1QU-SwuC",
        "outputId": "513a9fc6-a8c3-4907-c4ba-56ee4b4ac0d9"
      },
      "execution_count": null,
      "outputs": [
        {
          "output_type": "execute_result",
          "data": {
            "text/plain": [
              "6"
            ]
          },
          "metadata": {},
          "execution_count": 35
        }
      ]
    },
    {
      "cell_type": "code",
      "source": [
        "print(len(chemistry_dict))\n",
        "print(len(\"Тут в этом предложении 34 символа.\"))\n",
        "print(len('А тут девятнадцать.'))"
      ],
      "metadata": {
        "colab": {
          "base_uri": "https://localhost:8080/"
        },
        "id": "NquXNOjNFqkF",
        "outputId": "f06edaf1-d3b9-43e9-a39e-e64a4bab9548"
      },
      "execution_count": 3,
      "outputs": [
        {
          "output_type": "stream",
          "name": "stdout",
          "text": [
            "4\n",
            "34\n",
            "19\n"
          ]
        }
      ]
    },
    {
      "cell_type": "code",
      "source": [
        "# Посчитайте, сколько символов в отрывке.\n",
        "text1 = \"\"\"Почему я как композитор-оперник тяготею к классике? Это у меня с детства. В детстве я очень любил играть в классики. Ребенком я любил пить чай, естественно, с пирожными, и лучше всего с безе. Отсюда в сублимации ассоциаций детства тяготение к Чайковскому, к Бизе, и т. д., и т. п., и т. д. Как сказал классик, надо брать музыку у народа, и только обрабатывать её. Так я и делаю. Поэтому, когда сегодня берёшь у композитора — это, собственно говоря, берёшь у народа, берёшь у народа — берёшь у себя, и главное, чтобы музыка была твоя, и кто говорит \"плагиат\", я говорю \"традиция\".\"\"\""
      ],
      "metadata": {
        "id": "Qvd-_Sc2HwHs"
      },
      "execution_count": null,
      "outputs": []
    },
    {
      "cell_type": "markdown",
      "source": [
        "Есть методы:\n",
        "\n",
        "общий вид - то, к чему надо применить.method()"
      ],
      "metadata": {
        "id": "slLJuzmoPmHU"
      }
    },
    {
      "cell_type": "code",
      "source": [
        "text.split()"
      ],
      "metadata": {
        "colab": {
          "base_uri": "https://localhost:8080/"
        },
        "id": "RF4kICy-YDgt",
        "outputId": "29f1fb10-e1cb-4bb6-d38b-11e57c3804a5"
      },
      "execution_count": null,
      "outputs": [
        {
          "output_type": "execute_result",
          "data": {
            "text/plain": [
              "['что-то', 'в', 'кавычках']"
            ]
          },
          "metadata": {},
          "execution_count": 40
        }
      ]
    },
    {
      "cell_type": "code",
      "source": [
        "# .split() делит на строку по тому, что указано в скобках\n",
        "\n",
        "# Давайте поделим текст на предложения!\n",
        "text2 = \"Иван Топорышкин пошел на охоту, с ним пудель пошел, перепрыгнув забор, Иван, как бревно провалился в болото, а пудель в реке утонул, как топор. Иван Топорышкин пошел на охоту, с ним пудель вприпрыжку пошел, как топор. Иван повалился бревном на болото, а пудель в реке перепрыгнул забор.\"\n",
        "\n",
        "text2.split('.')"
      ],
      "metadata": {
        "colab": {
          "base_uri": "https://localhost:8080/"
        },
        "id": "adq49tVnPkFV",
        "outputId": "7b330606-1b1a-4689-f278-b0bd5bf55fbf"
      },
      "execution_count": null,
      "outputs": [
        {
          "output_type": "execute_result",
          "data": {
            "text/plain": [
              "['Иван Топорышкин пошел на охоту, с ним пудель пошел, перепрыгнув забор, Иван, как бревно провалился в болото, а пудель в реке утонул, как топор',\n",
              " ' Иван Топорышкин пошел на охоту, с ним пудель вприпрыжку пошел, как топор',\n",
              " ' Иван повалился бревном на болото, а пудель в реке перепрыгнул забор',\n",
              " '']"
            ]
          },
          "metadata": {},
          "execution_count": 41
        }
      ]
    },
    {
      "cell_type": "code",
      "source": [
        "text3 = \"А что делать, если предложения заканчиваются не только на точку? Восклицательные и вопросительные знаки забыли! Что же делать... Проверять все завершающие знаки препинания. Или воспользоваться библиотекой, которая умеет делить на предложения!\"\n",
        "text3.split('.') # По точкам делить не очень разумно."
      ],
      "metadata": {
        "colab": {
          "base_uri": "https://localhost:8080/"
        },
        "id": "rnAYpFYiVNTK",
        "outputId": "ef5a44a0-f3fa-4385-89cc-ab02922181c9"
      },
      "execution_count": null,
      "outputs": [
        {
          "output_type": "execute_result",
          "data": {
            "text/plain": [
              "['А что делать, если предложения заканчиваются не только на точку? Восклицательные и вопросительные знаки забыли! Что же делать',\n",
              " '',\n",
              " '',\n",
              " ' Проверять все завершающие знаки препинания',\n",
              " ' Или воспользоваться библиотекой, которая умеет делить на предложения!']"
            ]
          },
          "metadata": {},
          "execution_count": 42
        }
      ]
    },
    {
      "cell_type": "markdown",
      "source": [
        "## Делим текст на предложения"
      ],
      "metadata": {
        "id": "LWz114oQZ8Al"
      }
    },
    {
      "cell_type": "markdown",
      "source": [
        "**Natasha** - набор Python-библиотек для обработки текстов на естественном русском языке.\n",
        "\n",
        "Есть много библиотек, которые могут делить текст на предложения. Но с русским особенно хорошо библиотека razdel (это часть проекта natasha)."
      ],
      "metadata": {
        "id": "Uzu0B0lEYGTy"
      }
    },
    {
      "cell_type": "code",
      "source": [
        "pip install natasha  # чтобы использовать, надо установить"
      ],
      "metadata": {
        "colab": {
          "base_uri": "https://localhost:8080/"
        },
        "id": "0LRg-QXFX9ef",
        "outputId": "1baa89ef-4b40-46a4-87cc-25f03e386fc2"
      },
      "execution_count": 5,
      "outputs": [
        {
          "output_type": "stream",
          "name": "stdout",
          "text": [
            "Looking in indexes: https://pypi.org/simple, https://us-python.pkg.dev/colab-wheels/public/simple/\n",
            "Collecting natasha\n",
            "  Downloading natasha-1.4.0-py3-none-any.whl (34.4 MB)\n",
            "\u001b[2K     \u001b[90m━━━━━━━━━━━━━━━━━━━━━━━━━━━━━━━━━━━━━━━━\u001b[0m \u001b[32m34.4/34.4 MB\u001b[0m \u001b[31m34.2 MB/s\u001b[0m eta \u001b[36m0:00:00\u001b[0m\n",
            "\u001b[?25hCollecting yargy>=0.14.0\n",
            "  Downloading yargy-0.15.0-py3-none-any.whl (41 kB)\n",
            "\u001b[2K     \u001b[90m━━━━━━━━━━━━━━━━━━━━━━━━━━━━━━━━━━━━━━━━\u001b[0m \u001b[32m41.1/41.1 KB\u001b[0m \u001b[31m4.6 MB/s\u001b[0m eta \u001b[36m0:00:00\u001b[0m\n",
            "\u001b[?25hCollecting pymorphy2\n",
            "  Downloading pymorphy2-0.9.1-py3-none-any.whl (55 kB)\n",
            "\u001b[2K     \u001b[90m━━━━━━━━━━━━━━━━━━━━━━━━━━━━━━━━━━━━━━━━\u001b[0m \u001b[32m55.5/55.5 KB\u001b[0m \u001b[31m6.9 MB/s\u001b[0m eta \u001b[36m0:00:00\u001b[0m\n",
            "\u001b[?25hCollecting razdel>=0.5.0\n",
            "  Downloading razdel-0.5.0-py3-none-any.whl (21 kB)\n",
            "Collecting ipymarkup>=0.8.0\n",
            "  Downloading ipymarkup-0.9.0-py3-none-any.whl (14 kB)\n",
            "Collecting slovnet>=0.3.0\n",
            "  Downloading slovnet-0.5.0-py3-none-any.whl (49 kB)\n",
            "\u001b[2K     \u001b[90m━━━━━━━━━━━━━━━━━━━━━━━━━━━━━━━━━━━━━━━━\u001b[0m \u001b[32m49.4/49.4 KB\u001b[0m \u001b[31m5.8 MB/s\u001b[0m eta \u001b[36m0:00:00\u001b[0m\n",
            "\u001b[?25hCollecting navec>=0.9.0\n",
            "  Downloading navec-0.10.0-py3-none-any.whl (23 kB)\n",
            "Collecting intervaltree>=3\n",
            "  Downloading intervaltree-3.1.0.tar.gz (32 kB)\n",
            "  Preparing metadata (setup.py) ... \u001b[?25l\u001b[?25hdone\n",
            "Requirement already satisfied: numpy in /usr/local/lib/python3.8/dist-packages (from navec>=0.9.0->natasha) (1.21.6)\n",
            "Collecting dawg-python>=0.7.1\n",
            "  Downloading DAWG_Python-0.7.2-py2.py3-none-any.whl (11 kB)\n",
            "Collecting pymorphy2-dicts-ru<3.0,>=2.4\n",
            "  Downloading pymorphy2_dicts_ru-2.4.417127.4579844-py2.py3-none-any.whl (8.2 MB)\n",
            "\u001b[2K     \u001b[90m━━━━━━━━━━━━━━━━━━━━━━━━━━━━━━━━━━━━━━━━\u001b[0m \u001b[32m8.2/8.2 MB\u001b[0m \u001b[31m69.6 MB/s\u001b[0m eta \u001b[36m0:00:00\u001b[0m\n",
            "\u001b[?25hCollecting docopt>=0.6\n",
            "  Downloading docopt-0.6.2.tar.gz (25 kB)\n",
            "  Preparing metadata (setup.py) ... \u001b[?25l\u001b[?25hdone\n",
            "Requirement already satisfied: sortedcontainers<3.0,>=2.0 in /usr/local/lib/python3.8/dist-packages (from intervaltree>=3->ipymarkup>=0.8.0->natasha) (2.4.0)\n",
            "Building wheels for collected packages: docopt, intervaltree\n",
            "  Building wheel for docopt (setup.py) ... \u001b[?25l\u001b[?25hdone\n",
            "  Created wheel for docopt: filename=docopt-0.6.2-py2.py3-none-any.whl size=13723 sha256=c2f68c3c23683e2eb48a843761f0cd1f3868d87a859eedbc98d7fb9ef6d1eb2c\n",
            "  Stored in directory: /root/.cache/pip/wheels/56/ea/58/ead137b087d9e326852a851351d1debf4ada529b6ac0ec4e8c\n",
            "  Building wheel for intervaltree (setup.py) ... \u001b[?25l\u001b[?25hdone\n",
            "  Created wheel for intervaltree: filename=intervaltree-3.1.0-py2.py3-none-any.whl size=26118 sha256=d590212937dded9f5d7f37463b1f385357b62e9350bfa70c1e0d2fb758d3e2b5\n",
            "  Stored in directory: /root/.cache/pip/wheels/45/23/de/5789a92962483fd33cb06674792b9697c1b3766d7c7742830e\n",
            "Successfully built docopt intervaltree\n",
            "Installing collected packages: razdel, pymorphy2-dicts-ru, docopt, dawg-python, pymorphy2, navec, intervaltree, yargy, slovnet, ipymarkup, natasha\n",
            "  Attempting uninstall: intervaltree\n",
            "    Found existing installation: intervaltree 2.1.0\n",
            "    Uninstalling intervaltree-2.1.0:\n",
            "      Successfully uninstalled intervaltree-2.1.0\n",
            "Successfully installed dawg-python-0.7.2 docopt-0.6.2 intervaltree-3.1.0 ipymarkup-0.9.0 natasha-1.4.0 navec-0.10.0 pymorphy2-0.9.1 pymorphy2-dicts-ru-2.4.417127.4579844 razdel-0.5.0 slovnet-0.5.0 yargy-0.15.0\n"
          ]
        }
      ]
    },
    {
      "cell_type": "code",
      "source": [
        "from razdel import sentenize"
      ],
      "metadata": {
        "id": "oNmKllIgX4yz"
      },
      "execution_count": null,
      "outputs": []
    },
    {
      "cell_type": "code",
      "source": [
        "sentenize(text3)"
      ],
      "metadata": {
        "colab": {
          "base_uri": "https://localhost:8080/"
        },
        "id": "XBC7CuClaWnz",
        "outputId": "fa2f44c5-d138-4120-c572-4deef8d10a2d"
      },
      "execution_count": null,
      "outputs": [
        {
          "output_type": "execute_result",
          "data": {
            "text/plain": [
              "<generator object find_substrings at 0x7f7cddfe9c80>"
            ]
          },
          "metadata": {},
          "execution_count": 45
        }
      ]
    },
    {
      "cell_type": "code",
      "source": [
        "# Поделим на предложения тот текст с разными знаками препинания\n",
        "list(sentenize(text3))"
      ],
      "metadata": {
        "colab": {
          "base_uri": "https://localhost:8080/"
        },
        "id": "AA9AhCiQZH0b",
        "outputId": "7ecfb461-2e88-4199-b177-50c5620b5d10"
      },
      "execution_count": null,
      "outputs": [
        {
          "output_type": "execute_result",
          "data": {
            "text/plain": [
              "[Substring(0,\n",
              "           64,\n",
              "           'А что делать, если предложения заканчиваются не только на точку?'),\n",
              " Substring(65, 111, 'Восклицательные и вопросительные знаки забыли!'),\n",
              " Substring(112, 128, 'Что же делать...'),\n",
              " Substring(129, 172, 'Проверять все завершающие знаки препинания.'),\n",
              " Substring(173,\n",
              "           242,\n",
              "           'Или воспользоваться библиотекой, которая умеет делить на предложения!')]"
            ]
          },
          "metadata": {},
          "execution_count": 46
        }
      ]
    },
    {
      "cell_type": "code",
      "source": [
        "# Поделим на предложения текст с разными сокращениями\n",
        "list(sentenize(text1))"
      ],
      "metadata": {
        "colab": {
          "base_uri": "https://localhost:8080/"
        },
        "id": "QDwerw9OZm2l",
        "outputId": "9318b477-603d-48f1-e3ce-01fea2d43079"
      },
      "execution_count": null,
      "outputs": [
        {
          "output_type": "execute_result",
          "data": {
            "text/plain": [
              "[Substring(0, 51, 'Почему я как композитор-оперник тяготею к классике?'),\n",
              " Substring(52, 73, 'Это у меня с детства.'),\n",
              " Substring(74, 116, 'В детстве я очень любил играть в классики.'),\n",
              " Substring(117,\n",
              "           191,\n",
              "           'Ребенком я любил пить чай, естественно, с пирожными, и лучше всего с безе.'),\n",
              " Substring(192,\n",
              "           289,\n",
              "           'Отсюда в сублимации ассоциаций детства тяготение к Чайковскому, к Бизе, и т. д., и т. п., и т. д.'),\n",
              " Substring(290,\n",
              "           363,\n",
              "           'Как сказал классик, надо брать музыку у народа, и только обрабатывать её.'),\n",
              " Substring(364, 378, 'Так я и делаю.'),\n",
              " Substring(379,\n",
              "           579,\n",
              "           'Поэтому, когда сегодня берёшь у композитора — это, собственно говоря, берёшь у народа, берёшь у народа — берёшь у себя, и главное, чтобы музыка была твоя, и кто говорит \"плагиат\", я говорю \"традиция\".')]"
            ]
          },
          "metadata": {},
          "execution_count": 47
        }
      ]
    },
    {
      "cell_type": "code",
      "source": [
        "list(sentenize('''\"Привет\", - сказала я Лёше.'''))\n",
        "# кавычки можно использовать одинарные ', двойными \" и тройными '''/\"\"\""
      ],
      "metadata": {
        "colab": {
          "base_uri": "https://localhost:8080/"
        },
        "id": "jf_bn81ebWi6",
        "outputId": "fb3127b7-4747-4d61-f756-077ea359eee3"
      },
      "execution_count": null,
      "outputs": [
        {
          "output_type": "execute_result",
          "data": {
            "text/plain": [
              "[Substring(0, 27, '\"Привет\", - сказала я Лёше.')]"
            ]
          },
          "metadata": {},
          "execution_count": 49
        }
      ]
    },
    {
      "cell_type": "markdown",
      "source": [
        "Ура!\n",
        "## Теперь делим на слова"
      ],
      "metadata": {
        "id": "NTw0Ag3Jbtzv"
      }
    },
    {
      "cell_type": "code",
      "source": [
        "# По дефолту (по умолчанию) .split() делит по пробелоподобным символам\n",
        "text4 = \"Алексей Игоревич, мы пришли!\"\n",
        "text4.split()"
      ],
      "metadata": {
        "colab": {
          "base_uri": "https://localhost:8080/"
        },
        "id": "O5DPY5qZb2QS",
        "outputId": "0d740a69-d620-4e00-c552-02cb025df873"
      },
      "execution_count": null,
      "outputs": [
        {
          "output_type": "execute_result",
          "data": {
            "text/plain": [
              "['Алексей', 'Игоревич,', 'мы', 'пришли!']"
            ]
          },
          "metadata": {},
          "execution_count": 50
        }
      ]
    },
    {
      "cell_type": "code",
      "source": [
        "# Есть метод .strip()\n",
        "# Он отделяет ненужные символы по краям строк\n",
        "\n",
        "\",Игоревич,,,,,\".strip(\",\")"
      ],
      "metadata": {
        "colab": {
          "base_uri": "https://localhost:8080/",
          "height": 35
        },
        "id": "TqlRu-ZXu8Z4",
        "outputId": "92260b89-705a-4947-8596-9b7ce7eb33d5"
      },
      "execution_count": null,
      "outputs": [
        {
          "output_type": "execute_result",
          "data": {
            "text/plain": [
              "'Игоревич'"
            ],
            "application/vnd.google.colaboratory.intrinsic+json": {
              "type": "string"
            }
          },
          "metadata": {},
          "execution_count": 52
        }
      ]
    },
    {
      "cell_type": "code",
      "source": [
        "word_list = text4.split()\n",
        "for word in word_list:  # для (каждого) слова в списке слов\n",
        "    print(word.strip(',!')) # напечатай слово, у которого обрезали слева и справа примыкающие запятые и воскл.знаки\n",
        "                            # (заметьте, знаки, которые хотим убрать по краям, просто пишем подряд)"
      ],
      "metadata": {
        "colab": {
          "base_uri": "https://localhost:8080/"
        },
        "id": "ylk0tsFyvSUS",
        "outputId": "702d65d5-25f2-4b15-b773-af84e33a8590"
      },
      "execution_count": null,
      "outputs": [
        {
          "output_type": "stream",
          "name": "stdout",
          "text": [
            "Алексей\n",
            "Игоревич\n",
            "мы\n",
            "пришли\n"
          ]
        }
      ]
    },
    {
      "cell_type": "code",
      "source": [
        "# Можно, конечно, указать все символы, которые надо на краях строк обрезать.\n",
        "# Но а вдруг смайлик в конце слова. А вдруг неизвестный символ?"
      ],
      "metadata": {
        "id": "AlYjPwpEvhvd"
      },
      "execution_count": null,
      "outputs": []
    },
    {
      "cell_type": "code",
      "source": [
        "from razdel import tokenize"
      ],
      "metadata": {
        "id": "BrzGA6SKw7qj"
      },
      "execution_count": 6,
      "outputs": []
    },
    {
      "cell_type": "code",
      "source": [
        "list(tokenize(text4))\n",
        "# Да, конкретно этот способ сохраняет пунктуацию как отдельные токены\n",
        "# (можно потом убрать всё, что не буквы)"
      ],
      "metadata": {
        "colab": {
          "base_uri": "https://localhost:8080/"
        },
        "id": "xbNuWlqHw9sZ",
        "outputId": "387b85f0-d2a4-4888-c4c0-639061862950"
      },
      "execution_count": null,
      "outputs": [
        {
          "output_type": "execute_result",
          "data": {
            "text/plain": [
              "[Substring(0, 7, 'Алексей'),\n",
              " Substring(8, 16, 'Игоревич'),\n",
              " Substring(16, 17, ','),\n",
              " Substring(18, 20, 'мы'),\n",
              " Substring(21, 27, 'пришли'),\n",
              " Substring(27, 28, '!')]"
            ]
          },
          "metadata": {},
          "execution_count": 55
        }
      ]
    },
    {
      "cell_type": "code",
      "source": [
        "# Зато он справится с:\n",
        "text5 = \"25кг картошки\"\n",
        "list(tokenize(text5)) # Если бы мы делили по пробелам, получили бы слово \"25кг \""
      ],
      "metadata": {
        "colab": {
          "base_uri": "https://localhost:8080/"
        },
        "id": "A6BzKBm7x3kT",
        "outputId": "0e9dbb3d-0082-4fec-bbc6-1fda93ae4cd2"
      },
      "execution_count": null,
      "outputs": [
        {
          "output_type": "execute_result",
          "data": {
            "text/plain": [
              "[Substring(0, 2, '25'), Substring(2, 4, 'кг'), Substring(5, 13, 'картошки')]"
            ]
          },
          "metadata": {},
          "execution_count": 56
        }
      ]
    },
    {
      "cell_type": "code",
      "source": [
        "text9 = \"9ого числа\"  # ну вот...\n",
        "list(tokenize(text9))"
      ],
      "metadata": {
        "colab": {
          "base_uri": "https://localhost:8080/"
        },
        "id": "v4Dv31j1Yf85",
        "outputId": "06cc1436-ca5d-4bc9-a716-c3d3d1200d1e"
      },
      "execution_count": null,
      "outputs": [
        {
          "output_type": "execute_result",
          "data": {
            "text/plain": [
              "[Substring(0, 1, '9'), Substring(1, 4, 'ого'), Substring(5, 10, 'числа')]"
            ]
          },
          "metadata": {},
          "execution_count": 57
        }
      ]
    },
    {
      "cell_type": "code",
      "source": [
        "list(tokenize(\"Привет!(о_о)\"))"
      ],
      "metadata": {
        "colab": {
          "base_uri": "https://localhost:8080/"
        },
        "id": "2_MIHqpAc8zr",
        "outputId": "46c18854-f9f0-46de-c67c-2a65489e984a"
      },
      "execution_count": null,
      "outputs": [
        {
          "output_type": "execute_result",
          "data": {
            "text/plain": [
              "[Substring(0, 6, 'Привет'),\n",
              " Substring(6, 7, '!'),\n",
              " Substring(7, 8, '('),\n",
              " Substring(8, 11, 'о_о'),\n",
              " Substring(11, 12, ')')]"
            ]
          },
          "metadata": {},
          "execution_count": 62
        }
      ]
    },
    {
      "cell_type": "code",
      "source": [
        "list(tokenize(\"А. С. Пушкин жил в Санкт-Петербурге.\"))"
      ],
      "metadata": {
        "colab": {
          "base_uri": "https://localhost:8080/"
        },
        "id": "VASzBz5YYfYT",
        "outputId": "34eb6f67-4694-41e0-bc11-5527e1ef429c"
      },
      "execution_count": 8,
      "outputs": [
        {
          "output_type": "execute_result",
          "data": {
            "text/plain": [
              "[Substring(0, 1, 'А'),\n",
              " Substring(1, 2, '.'),\n",
              " Substring(3, 4, 'С'),\n",
              " Substring(4, 5, '.'),\n",
              " Substring(6, 12, 'Пушкин'),\n",
              " Substring(13, 16, 'жил'),\n",
              " Substring(17, 18, 'в'),\n",
              " Substring(19, 35, 'Санкт-Петербурге'),\n",
              " Substring(35, 36, '.')]"
            ]
          },
          "metadata": {},
          "execution_count": 8
        }
      ]
    },
    {
      "cell_type": "code",
      "source": [
        "list(tokenize(\"Лежал ли А.С.Пушкин на диване-кровати?\"))"
      ],
      "metadata": {
        "colab": {
          "base_uri": "https://localhost:8080/"
        },
        "id": "avbCrOsGY9Xp",
        "outputId": "18e0b821-147e-49f4-8820-b3cad9faab77"
      },
      "execution_count": 10,
      "outputs": [
        {
          "output_type": "execute_result",
          "data": {
            "text/plain": [
              "[Substring(0, 5, 'Лежал'),\n",
              " Substring(6, 8, 'ли'),\n",
              " Substring(9, 10, 'А'),\n",
              " Substring(10, 11, '.'),\n",
              " Substring(11, 12, 'С'),\n",
              " Substring(12, 13, '.'),\n",
              " Substring(13, 19, 'Пушкин'),\n",
              " Substring(20, 22, 'на'),\n",
              " Substring(23, 37, 'диване-кровати'),\n",
              " Substring(37, 38, '?')]"
            ]
          },
          "metadata": {},
          "execution_count": 10
        }
      ]
    },
    {
      "cell_type": "code",
      "source": [
        "list(tokenize(\"А снег был белый-белый.\"))"
      ],
      "metadata": {
        "colab": {
          "base_uri": "https://localhost:8080/"
        },
        "id": "dy-6RTLWZe3F",
        "outputId": "16f11c72-ce30-45c8-976c-66e2d94a4249"
      },
      "execution_count": 11,
      "outputs": [
        {
          "output_type": "execute_result",
          "data": {
            "text/plain": [
              "[Substring(0, 1, 'А'),\n",
              " Substring(2, 6, 'снег'),\n",
              " Substring(7, 10, 'был'),\n",
              " Substring(11, 22, 'белый-белый'),\n",
              " Substring(22, 23, '.')]"
            ]
          },
          "metadata": {},
          "execution_count": 11
        }
      ]
    }
  ]
}
