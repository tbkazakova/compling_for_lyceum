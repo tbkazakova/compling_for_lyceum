{
  "nbformat": 4,
  "nbformat_minor": 0,
  "metadata": {
    "colab": {
      "provenance": []
    },
    "kernelspec": {
      "name": "python3",
      "display_name": "Python 3"
    },
    "language_info": {
      "name": "python"
    }
  },
  "cells": [
    {
      "cell_type": "markdown",
      "source": [
        "В прошлый раз\n",
        "\n",
        "вспомнили/узнали про питон:\n",
        "- типы данных\n",
        "- математические операторы + - / * **(в степень) %(остаток от деления) //(целая часть при делении)\n",
        "- print() - напечатать\n",
        "- len() - узнать длину списка, строки и т.д.\n",
        "- type() - узнать тип данных\n",
        "- input() - принять значение от пользователя\n",
        "- int() - преобразовать в целочисленный формат\n",
        "- .split() - разделить по тому, что в скобках\n",
        "- .strip() - убрать указанные символы по краям\n",
        "\n",
        "Научились делить текст на предложения sentenize() и на слова tokenize() с помощью razdel проекта natasha (есть много других библиотек)"
      ],
      "metadata": {
        "id": "H3wAMW8MMLcJ"
      }
    },
    {
      "cell_type": "markdown",
      "source": [
        "В этот раз\n",
        "\n",
        "вспомним/узнаем про питон:\n",
        "\n",
        "- условия\n",
        "- операторы сравнения\n",
        "- циклы\n",
        "\n",
        "Научимся получать морфологический анализ для русских слов"
      ],
      "metadata": {
        "id": "DxtiQmQPPl5f"
      }
    },
    {
      "cell_type": "markdown",
      "source": [
        "# Условия и операторы сравнения"
      ],
      "metadata": {
        "id": "QrX1tAe1QWz5"
      }
    },
    {
      "cell_type": "markdown",
      "source": [
        "```\n",
        "if условие:\n",
        "    блок инструкций, в случае если условие истинно\n",
        "else:\n",
        "    блок инструкций, в случае если условие не выполняется\n",
        "```"
      ],
      "metadata": {
        "id": "MyZ2T-iOQl7w"
      }
    },
    {
      "cell_type": "code",
      "source": [
        "number = -6\n",
        "if number < 0:\n",
        "    print(\"отрицательное число\")  \n",
        "else:\n",
        "    print(\"положительное число\")  # лучше \"неотрицательное\""
      ],
      "metadata": {
        "id": "m5JAOCt9TLyK",
        "colab": {
          "base_uri": "https://localhost:8080/"
        },
        "outputId": "a794e587-6e86-4292-e0fd-df273bc883fd"
      },
      "execution_count": null,
      "outputs": [
        {
          "output_type": "stream",
          "name": "stdout",
          "text": [
            "отрицательное число\n"
          ]
        }
      ]
    },
    {
      "cell_type": "code",
      "source": [
        "# но ноль - ни положительное, ни отрицательное\n",
        "\n",
        "number = 0\n",
        "if number < 0:\n",
        "    print(\"отрицательное число\")\n",
        "else:\n",
        "    if number == 0:\n",
        "        print(\"ноль\")\n",
        "    else:\n",
        "        print(\"положительное число\")"
      ],
      "metadata": {
        "id": "Y31lDRkUT01P",
        "colab": {
          "base_uri": "https://localhost:8080/"
        },
        "outputId": "5fd5c3a6-b1ed-49f1-fbd3-94d6e91ad0a4"
      },
      "execution_count": null,
      "outputs": [
        {
          "output_type": "stream",
          "name": "stdout",
          "text": [
            "ноль\n"
          ]
        }
      ]
    },
    {
      "cell_type": "markdown",
      "source": [
        "Но условия в условии можно красиво избежать:"
      ],
      "metadata": {
        "id": "1k-LfPcBVWK7"
      }
    },
    {
      "cell_type": "code",
      "source": [
        "if number > 0:\n",
        "    print(\"положительное число\")\n",
        "elif number == 0:  # таких elif может быть много, после них пишут альтернативные условия\n",
        "    print(\"ноль\")\n",
        "else:\n",
        "    print(\"отрицательное число\")"
      ],
      "metadata": {
        "id": "3h7DxVmEVLz7",
        "colab": {
          "base_uri": "https://localhost:8080/"
        },
        "outputId": "8d699475-10a5-4c0c-9cba-df2a6826138a"
      },
      "execution_count": null,
      "outputs": [
        {
          "output_type": "stream",
          "name": "stdout",
          "text": [
            "ноль\n"
          ]
        }
      ]
    },
    {
      "cell_type": "markdown",
      "source": [
        "### Основные операторы сравнения\n",
        "\n",
        "- \\> - больше. Условие истинно, если то, что слева от знака больше того, что справа\n",
        "- < - меньше. Условие истинно, если то, что слева от знака меньше того, что справа\n",
        "- \\>= - больше либо равно\n",
        "- <= - меньше либо равно\n",
        "- == - в точности равно\n",
        "- != - не равно"
      ],
      "metadata": {
        "id": "bmNx8is_WV79"
      }
    },
    {
      "cell_type": "markdown",
      "source": [
        "### Тренировка\n",
        "Пользователь вводит число и получает это число в кубе (возвести в степень: 5\\*\\*3 = 5\\*5\\*5 = 125)\n",
        "\n",
        "Пользователь может отказаться словом \"стоп\" (программа выводит сообщение: \"вы отказались от услуги\")"
      ],
      "metadata": {
        "id": "Baup6azjXMis"
      }
    },
    {
      "cell_type": "code",
      "execution_count": null,
      "metadata": {
        "colab": {
          "base_uri": "https://localhost:8080/"
        },
        "id": "NrKkXt8_Lbjg",
        "outputId": "afd7fe6c-db9f-4b15-b4fd-5b6c205eb512"
      },
      "outputs": [
        {
          "output_type": "stream",
          "name": "stdout",
          "text": [
            "Введите число: 5\n",
            "125\n"
          ]
        }
      ],
      "source": [
        "# ваш код\n",
        "a = input('Введите число: ')\n",
        "if a == 'стоп':\n",
        "  print(\"вы отказались от услуги\")\n",
        "else:\n",
        "  print(int(a)**3)"
      ]
    },
    {
      "cell_type": "markdown",
      "source": [
        "### Тип данных bool\n",
        "\n",
        "Всего два значения: True и False С большой буквы.\n",
        "\n",
        "(Не называйте переменные true или false - мы за красивый понятный код)"
      ],
      "metadata": {
        "id": "WyqBdkwKYk4-"
      }
    },
    {
      "cell_type": "code",
      "source": [
        "print(5>0)\n",
        "print(type(5>0))\n",
        "print(5==0)"
      ],
      "metadata": {
        "id": "VYv9srw8WPBL",
        "colab": {
          "base_uri": "https://localhost:8080/"
        },
        "outputId": "dd57d8fc-45da-4484-a71f-9fe169c74b9c"
      },
      "execution_count": null,
      "outputs": [
        {
          "output_type": "stream",
          "name": "stdout",
          "text": [
            "True\n",
            "<class 'bool'>\n",
            "False\n"
          ]
        }
      ]
    },
    {
      "cell_type": "code",
      "source": [
        "# bool переводится в число\n",
        "print(int(True))\n",
        "print(int(False))"
      ],
      "metadata": {
        "id": "OtNupo_4Y1YZ",
        "colab": {
          "base_uri": "https://localhost:8080/"
        },
        "outputId": "c9281cf6-d9f8-46d5-8e10-c543e2930f01"
      },
      "execution_count": null,
      "outputs": [
        {
          "output_type": "stream",
          "name": "stdout",
          "text": [
            "1\n",
            "0\n"
          ]
        }
      ]
    },
    {
      "cell_type": "code",
      "source": [
        "# Числа переводятся в bool: все кроме нуля - True\n",
        "print(bool(4))\n",
        "print(bool(-6.578))\n",
        "print(bool(0))"
      ],
      "metadata": {
        "id": "T5wS9soFc7kW",
        "colab": {
          "base_uri": "https://localhost:8080/"
        },
        "outputId": "23bf847e-6cc6-47c3-e5c6-fb4917a5a176"
      },
      "execution_count": null,
      "outputs": [
        {
          "output_type": "stream",
          "name": "stdout",
          "text": [
            "True\n",
            "True\n",
            "False\n"
          ]
        }
      ]
    },
    {
      "cell_type": "code",
      "source": [
        "# Строки переводятся в bool: все кроме '' - True\n",
        "print(bool('непустая строка'))\n",
        "print(bool(''))"
      ],
      "metadata": {
        "id": "rZ7tniSgdtT5",
        "colab": {
          "base_uri": "https://localhost:8080/"
        },
        "outputId": "944f3c0c-d1ca-4d6f-8e59-c68217a4e644"
      },
      "execution_count": null,
      "outputs": [
        {
          "output_type": "stream",
          "name": "stdout",
          "text": [
            "True\n",
            "False\n"
          ]
        }
      ]
    },
    {
      "cell_type": "code",
      "source": [
        "# Поэтому можно так:\n",
        "name = input(\"Введите имя: \")\n",
        "if name:\n",
        "    print(\"Привет, \", name)\n",
        "else:\n",
        "    print(\"Вы не ввели имя...\")"
      ],
      "metadata": {
        "id": "FXX-JH7Ldd2o",
        "colab": {
          "base_uri": "https://localhost:8080/"
        },
        "outputId": "b77d3b43-6a79-4853-eb5a-6ba067924d0b"
      },
      "execution_count": null,
      "outputs": [
        {
          "output_type": "stream",
          "name": "stdout",
          "text": [
            "Введите имя: \n",
            "Вы не ввели имя...\n"
          ]
        }
      ]
    },
    {
      "cell_type": "markdown",
      "source": [
        "### Логические операторы\n",
        "- **and** (логическое И) возвращает истину (True), если оба условия по отдельности верны (тоже возвращают True)\n",
        "- **or** (логическое ИЛИ) вернет истину, если хотя бы одно из условий верно\n",
        "- **not** (логическое НЕТ) возьмет результат условия и “обратит” его."
      ],
      "metadata": {
        "id": "uIUzqf4QfHxc"
      }
    },
    {
      "cell_type": "code",
      "source": [
        "a = int(input())\n",
        "b = int(input())\n",
        "\n",
        "if a % 10 == 0 or b % 10 == 0:\n",
        "    print('Хотя бы одно число кратно 10.')\n",
        "else:\n",
        "    print('Оба числа не кратны 10.')"
      ],
      "metadata": {
        "id": "ebvckhWjfg4u",
        "colab": {
          "base_uri": "https://localhost:8080/"
        },
        "outputId": "7f3b8c24-61e5-4f3f-a0fc-6746dcafe1d9"
      },
      "execution_count": null,
      "outputs": [
        {
          "output_type": "stream",
          "name": "stdout",
          "text": [
            "10\n",
            "20\n",
            "Хотя бы одно число кратно 10.\n"
          ]
        }
      ]
    },
    {
      "cell_type": "markdown",
      "source": [
        "# Циклы\n",
        "\n",
        "###for"
      ],
      "metadata": {
        "id": "l9nFdOZ-guYo"
      }
    },
    {
      "cell_type": "code",
      "source": [
        "for letter in 'hello':\n",
        "    print(letter)"
      ],
      "metadata": {
        "id": "yTW-dWpAf8EG",
        "colab": {
          "base_uri": "https://localhost:8080/"
        },
        "outputId": "9c7be4be-f6a6-44ea-a55d-3da0dde7e469"
      },
      "execution_count": null,
      "outputs": [
        {
          "output_type": "stream",
          "name": "stdout",
          "text": [
            "h\n",
            "e\n",
            "l\n",
            "l\n",
            "o\n"
          ]
        }
      ]
    },
    {
      "cell_type": "code",
      "source": [
        "words = ['сочиняю', 'я', 'неплохо', \"иногда\", \"да\"]\n",
        "for word in words:\n",
        "  print(word)"
      ],
      "metadata": {
        "id": "u6o5V5h_g3gI",
        "colab": {
          "base_uri": "https://localhost:8080/"
        },
        "outputId": "8959a26b-9ed9-4b17-b9eb-4a49fb4d2a55"
      },
      "execution_count": null,
      "outputs": [
        {
          "output_type": "stream",
          "name": "stdout",
          "text": [
            "сочиняю\n",
            "я\n",
            "неплохо\n",
            "иногда\n",
            "да\n"
          ]
        }
      ]
    },
    {
      "cell_type": "markdown",
      "source": [
        "### range()\n",
        "\n",
        "перебирает целые числа"
      ],
      "metadata": {
        "id": "bmE6ux6ChsKM"
      }
    },
    {
      "cell_type": "code",
      "source": [
        "for number in range(5):  # числа от нуля до 5 не включительно\n",
        "    print(number)"
      ],
      "metadata": {
        "id": "x1JIRlRNhrcr",
        "colab": {
          "base_uri": "https://localhost:8080/"
        },
        "outputId": "3e14c797-17dc-4836-fff9-890c00b5007f"
      },
      "execution_count": null,
      "outputs": [
        {
          "output_type": "stream",
          "name": "stdout",
          "text": [
            "0\n",
            "1\n",
            "2\n",
            "3\n",
            "4\n"
          ]
        }
      ]
    },
    {
      "cell_type": "code",
      "source": [
        "# range(x, y) - числа от x до y-1\n",
        "for number in range(4, 7):\n",
        "    print(number)"
      ],
      "metadata": {
        "id": "lrGlD15FiRgk",
        "colab": {
          "base_uri": "https://localhost:8080/"
        },
        "outputId": "1f3b832a-360f-4378-d293-d92c702a7ee0"
      },
      "execution_count": null,
      "outputs": [
        {
          "output_type": "stream",
          "name": "stdout",
          "text": [
            "4\n",
            "5\n",
            "6\n"
          ]
        }
      ]
    },
    {
      "cell_type": "code",
      "source": [
        "# range(x, y, step) выдаёт все целые числа начиная с x с шагом step, но не включая y\n",
        "for number in range(5, -1, -1):\n",
        "    print(number)"
      ],
      "metadata": {
        "id": "Ehf-S23Pil00",
        "colab": {
          "base_uri": "https://localhost:8080/"
        },
        "outputId": "a10b71ee-61f4-42c2-c12a-6dbb2c40253e"
      },
      "execution_count": null,
      "outputs": [
        {
          "output_type": "stream",
          "name": "stdout",
          "text": [
            "5\n",
            "4\n",
            "3\n",
            "2\n",
            "1\n",
            "0\n"
          ]
        }
      ]
    },
    {
      "cell_type": "markdown",
      "source": [
        "\n",
        "Вспомнили. Теперь про языковое\n"
      ],
      "metadata": {
        "id": "LU1V6lLQi8vq"
      }
    },
    {
      "cell_type": "markdown",
      "source": [
        "# [pymorphy2](https://pymorphy2.readthedocs.io/en/stable/index.html) - морфологический анализатор для русского\n",
        "\n",
        "При работе используется словарь OpenCorpora; для незнакомых слов строятся гипотезы.\n",
        "\n",
        "(Есть и другие морфоанализаторы. См. natasha, Mystem, nltk, spacy и т. д.)"
      ],
      "metadata": {
        "id": "ka7DNQkYilKi"
      }
    },
    {
      "cell_type": "code",
      "source": [
        "pip install pymorphy2  # устанавливаем"
      ],
      "metadata": {
        "id": "aXds8ZVSjf2w",
        "colab": {
          "base_uri": "https://localhost:8080/"
        },
        "outputId": "548286cd-8269-4a6d-a694-731926b10c7f"
      },
      "execution_count": null,
      "outputs": [
        {
          "output_type": "stream",
          "name": "stdout",
          "text": [
            "Looking in indexes: https://pypi.org/simple, https://us-python.pkg.dev/colab-wheels/public/simple/\n",
            "Requirement already satisfied: pymorphy2 in /usr/local/lib/python3.8/dist-packages (0.9.1)\n",
            "Requirement already satisfied: docopt>=0.6 in /usr/local/lib/python3.8/dist-packages (from pymorphy2) (0.6.2)\n",
            "Requirement already satisfied: pymorphy2-dicts-ru<3.0,>=2.4 in /usr/local/lib/python3.8/dist-packages (from pymorphy2) (2.4.417127.4579844)\n",
            "Requirement already satisfied: dawg-python>=0.7.1 in /usr/local/lib/python3.8/dist-packages (from pymorphy2) (0.7.2)\n"
          ]
        }
      ]
    },
    {
      "cell_type": "code",
      "source": [
        "from pymorphy2 import MorphAnalyzer\n",
        "morph = MorphAnalyzer()"
      ],
      "metadata": {
        "id": "NyjMMiYhji1y"
      },
      "execution_count": null,
      "outputs": []
    },
    {
      "cell_type": "code",
      "source": [
        "morph.parse('абракадабры') # умеет давать грам.информацию, лемму"
      ],
      "metadata": {
        "id": "R_B9dXG_jn8s",
        "colab": {
          "base_uri": "https://localhost:8080/"
        },
        "outputId": "9be2d3c9-8c4d-4b5f-997b-ef049b214833"
      },
      "execution_count": null,
      "outputs": [
        {
          "output_type": "execute_result",
          "data": {
            "text/plain": [
              "[Parse(word='абракадабры', tag=OpencorporaTag('NOUN,inan,femn sing,gent'), normal_form='абракадабра', score=0.3333333333333333, methods_stack=((DictionaryAnalyzer(), 'абракадабры', 55, 1),)),\n",
              " Parse(word='абракадабры', tag=OpencorporaTag('NOUN,inan,femn plur,nomn'), normal_form='абракадабра', score=0.3333333333333333, methods_stack=((DictionaryAnalyzer(), 'абракадабры', 55, 7),)),\n",
              " Parse(word='абракадабры', tag=OpencorporaTag('NOUN,inan,femn plur,accs'), normal_form='абракадабра', score=0.3333333333333333, methods_stack=((DictionaryAnalyzer(), 'абракадабры', 55, 10),))]"
            ]
          },
          "metadata": {},
          "execution_count": 21
        }
      ]
    },
    {
      "cell_type": "code",
      "source": [
        "morph.parse('ПиЛа')  # регистр не влияет"
      ],
      "metadata": {
        "id": "hjP8cp0Ajumr",
        "colab": {
          "base_uri": "https://localhost:8080/"
        },
        "outputId": "5637079f-271c-43af-ccd2-80e2671228b0"
      },
      "execution_count": null,
      "outputs": [
        {
          "output_type": "execute_result",
          "data": {
            "text/plain": [
              "[Parse(word='пила', tag=OpencorporaTag('NOUN,inan,femn sing,nomn'), normal_form='пила', score=0.428571, methods_stack=((DictionaryAnalyzer(), 'пила', 55, 0),)),\n",
              " Parse(word='пила', tag=OpencorporaTag('VERB,impf,tran femn,sing,past,indc'), normal_form='пить', score=0.285714, methods_stack=((DictionaryAnalyzer(), 'пила', 465, 8),)),\n",
              " Parse(word='пила', tag=OpencorporaTag('NOUN,anim,masc,Name sing,gent'), normal_form='пил', score=0.142857, methods_stack=((DictionaryAnalyzer(), 'пила', 27, 1),)),\n",
              " Parse(word='пила', tag=OpencorporaTag('NOUN,anim,masc,Name sing,accs'), normal_form='пил', score=0.142857, methods_stack=((DictionaryAnalyzer(), 'пила', 27, 3),))]"
            ]
          },
          "metadata": {},
          "execution_count": 22
        }
      ]
    },
    {
      "cell_type": "code",
      "source": [
        "morph.parse('водомотодельтаплан')  # для незнакомых слов делает предположения по похожим"
      ],
      "metadata": {
        "id": "YH7PMxK9j2FK",
        "colab": {
          "base_uri": "https://localhost:8080/"
        },
        "outputId": "cabc0941-fb73-4f1e-e8d2-9ced42722573"
      },
      "execution_count": null,
      "outputs": [
        {
          "output_type": "execute_result",
          "data": {
            "text/plain": [
              "[Parse(word='водомотодельтаплан', tag=OpencorporaTag('NOUN,inan,masc sing,nomn'), normal_form='водомотодельтаплан', score=0.5, methods_stack=((DictionaryAnalyzer(), 'мотодельтаплан', 34, 0), (UnknownPrefixAnalyzer(score_multiplier=0.5), 'водо'))),\n",
              " Parse(word='водомотодельтаплан', tag=OpencorporaTag('NOUN,inan,masc sing,accs'), normal_form='водомотодельтаплан', score=0.5, methods_stack=((DictionaryAnalyzer(), 'мотодельтаплан', 34, 3), (UnknownPrefixAnalyzer(score_multiplier=0.5), 'водо')))]"
            ]
          },
          "metadata": {},
          "execution_count": 23
        }
      ]
    },
    {
      "cell_type": "code",
      "source": [
        "morph.parse('вулканоизвержение')"
      ],
      "metadata": {
        "colab": {
          "base_uri": "https://localhost:8080/"
        },
        "id": "u54CE_yETmvS",
        "outputId": "9a25a0ec-8d2f-479b-e936-480556d5bf55"
      },
      "execution_count": 36,
      "outputs": [
        {
          "output_type": "execute_result",
          "data": {
            "text/plain": [
              "[Parse(word='вулканоизвержение', tag=OpencorporaTag('NOUN,inan,neut sing,nomn'), normal_form='вулканоизвержение', score=0.5, methods_stack=((FakeDictionary(), 'вулканоизвержение', 77, 0), (KnownSuffixAnalyzer(min_word_length=4, score_multiplier=0.5), 'жение'))),\n",
              " Parse(word='вулканоизвержение', tag=OpencorporaTag('NOUN,inan,neut sing,accs'), normal_form='вулканоизвержение', score=0.5, methods_stack=((FakeDictionary(), 'вулканоизвержение', 77, 6), (KnownSuffixAnalyzer(min_word_length=4, score_multiplier=0.5), 'жение')))]"
            ]
          },
          "metadata": {},
          "execution_count": 36
        }
      ]
    },
    {
      "cell_type": "code",
      "source": [
        "door = morph.parse('дверь')[0]  # может ставить слова в любую форму\n",
        "print(door)\n",
        "print(door.inflect({'plur','ablt'}))"
      ],
      "metadata": {
        "id": "prRsotbgj3yA",
        "colab": {
          "base_uri": "https://localhost:8080/"
        },
        "outputId": "796d67af-f969-4119-966b-9098e2f6ab0f"
      },
      "execution_count": null,
      "outputs": [
        {
          "output_type": "stream",
          "name": "stdout",
          "text": [
            "Parse(word='дверь', tag=OpencorporaTag('NOUN,inan,femn sing,accs'), normal_form='дверь', score=0.612903, methods_stack=((DictionaryAnalyzer(), 'дверь', 1310, 3),))\n",
            "Parse(word='дверями', tag=OpencorporaTag('NOUN,inan,femn plur,ablt'), normal_form='дверь', score=1.0, methods_stack=((DictionaryAnalyzer(), 'дверями', 1310, 12),))\n"
          ]
        }
      ]
    },
    {
      "cell_type": "code",
      "source": [
        "glokaja = morph.parse('глокая')\n",
        "print(glokaja)"
      ],
      "metadata": {
        "id": "X6e8Afv9j_zD",
        "colab": {
          "base_uri": "https://localhost:8080/"
        },
        "outputId": "04534035-dd22-44dc-fc28-c367f224cf16"
      },
      "execution_count": null,
      "outputs": [
        {
          "output_type": "stream",
          "name": "stdout",
          "text": [
            "[Parse(word='глокая', tag=OpencorporaTag('GRND,impf,intr pres'), normal_form='глокать', score=0.27950310559006214, methods_stack=((DictionaryAnalyzer(), 'окая', 15, 67), (UnknownPrefixAnalyzer(score_multiplier=0.5), 'гл'))), Parse(word='глокая', tag=OpencorporaTag('NOUN,anim,masc,Name sing,gent'), normal_form='глокай', score=0.27950310559006214, methods_stack=((DictionaryAnalyzer(), 'кая', 42, 1), (UnknownPrefixAnalyzer(score_multiplier=0.5), 'гло'))), Parse(word='глокая', tag=OpencorporaTag('NOUN,anim,masc,Name sing,accs'), normal_form='глокай', score=0.27950310559006214, methods_stack=((DictionaryAnalyzer(), 'кая', 42, 3), (UnknownPrefixAnalyzer(score_multiplier=0.5), 'гло'))), Parse(word='глокая', tag=OpencorporaTag('ADJF femn,sing,nomn'), normal_form='глокий', score=0.14906832298136646, methods_stack=((FakeDictionary(), 'глокая', 395, 7), (KnownSuffixAnalyzer(min_word_length=4, score_multiplier=0.5), 'окая'))), Parse(word='глокая', tag=OpencorporaTag('NOUN,inan,masc,Sgtm,Geox sing,gent'), normal_form='глокай', score=0.006211180124223603, methods_stack=((FakeDictionary(), 'глокая', 43, 1), (KnownSuffixAnalyzer(min_word_length=4, score_multiplier=0.5), 'окая'))), Parse(word='глокая', tag=OpencorporaTag('NOUN,inan,masc sing,gent'), normal_form='глокай', score=0.006211180124223603, methods_stack=((FakeDictionary(), 'глокая', 1217, 1), (KnownSuffixAnalyzer(min_word_length=4, score_multiplier=0.5), 'окая')))]\n"
          ]
        }
      ]
    },
    {
      "cell_type": "code",
      "source": [
        "print(glokaja[0].inflect({'past'})) # подберёт морфологию для несуществующих слов"
      ],
      "metadata": {
        "id": "jPPO0gV1kW30",
        "colab": {
          "base_uri": "https://localhost:8080/"
        },
        "outputId": "0f3897a3-ee52-4c68-b1cd-1c422a60a97e"
      },
      "execution_count": null,
      "outputs": [
        {
          "output_type": "stream",
          "name": "stdout",
          "text": [
            "Parse(word='глокав', tag=OpencorporaTag('GRND,impf,intr past'), normal_form='глокать', score=1.0, methods_stack=((DictionaryAnalyzer(), 'окав', 15, 68), (UnknownPrefixAnalyzer(score_multiplier=0.5), 'гл')))\n"
          ]
        }
      ]
    },
    {
      "cell_type": "markdown",
      "source": [
        "# Соединим наши знания\n",
        "Тренируемся:\n",
        "- делим текст на слова по пробелоподобным символам (получаем список)\n",
        "- проходим по словам\n",
        "    - отсекаем пунктуацию\n",
        "    - печатаем слово\n",
        "    - печатаем морфологический анализ"
      ],
      "metadata": {
        "id": "Cn5Z-uBVsyon"
      }
    },
    {
      "cell_type": "code",
      "source": [
        "text = \"Жили-были трое троллей на вершинах дальних гор. Жили тролли не скучали, хоть молчали с давних пор. Как-то раз, никто не знает, от каких таких причин...\""
      ],
      "metadata": {
        "id": "Nz8Njmnjsv2d"
      },
      "execution_count": null,
      "outputs": []
    },
    {
      "cell_type": "code",
      "source": [
        "for word in text.split():\n",
        "  print(word.strip('.,'))\n",
        "  print(morph.parse(word.strip('.,')))\n"
      ],
      "metadata": {
        "id": "mimbIfWG6YbP",
        "colab": {
          "base_uri": "https://localhost:8080/"
        },
        "outputId": "fc22dbb2-993e-4646-f5ff-50578a20fe8c"
      },
      "execution_count": null,
      "outputs": [
        {
          "output_type": "stream",
          "name": "stdout",
          "text": [
            "Жили-были\n",
            "[Parse(word='жили-были', tag=OpencorporaTag('VERB,impf,intr plur,past,indc'), normal_form='жить-быть', score=0.500000750001125, methods_stack=((HyphenatedWordsAnalyzer(score_multiplier=0.75, skip_prefixes=<...>), ((DictionaryAnalyzer(), 'жили', 1491, 10),), ((DictionaryAnalyzer(), 'были', 620, 7),)),)), Parse(word='жили-были', tag=OpencorporaTag('VERB,impf,intr plur,past,indc'), normal_form='жили-быть', score=0.4985167477751216, methods_stack=((HyphenatedWordsAnalyzer(score_multiplier=0.75, skip_prefixes=<...>), 'жили', ((DictionaryAnalyzer(), 'были', 620, 7),)),)), Parse(word='жили-были', tag=OpencorporaTag('NOUN,inan,femn sing,gent'), normal_form='жили-быль', score=0.00029650044475066706, methods_stack=((HyphenatedWordsAnalyzer(score_multiplier=0.75, skip_prefixes=<...>), 'жили', ((DictionaryAnalyzer(), 'были', 13, 1),)),)), Parse(word='жили-были', tag=OpencorporaTag('NOUN,inan,femn sing,datv'), normal_form='жили-быль', score=0.00029650044475066706, methods_stack=((HyphenatedWordsAnalyzer(score_multiplier=0.75, skip_prefixes=<...>), 'жили', ((DictionaryAnalyzer(), 'были', 13, 2),)),)), Parse(word='жили-были', tag=OpencorporaTag('NOUN,inan,femn sing,loct'), normal_form='жили-быль', score=0.00029650044475066706, methods_stack=((HyphenatedWordsAnalyzer(score_multiplier=0.75, skip_prefixes=<...>), 'жили', ((DictionaryAnalyzer(), 'были', 13, 5),)),)), Parse(word='жили-были', tag=OpencorporaTag('NOUN,inan,femn plur,nomn'), normal_form='жили-быль', score=0.00029650044475066706, methods_stack=((HyphenatedWordsAnalyzer(score_multiplier=0.75, skip_prefixes=<...>), 'жили', ((DictionaryAnalyzer(), 'были', 13, 6),)),)), Parse(word='жили-были', tag=OpencorporaTag('NOUN,inan,femn plur,accs'), normal_form='жили-быль', score=0.00029650044475066706, methods_stack=((HyphenatedWordsAnalyzer(score_multiplier=0.75, skip_prefixes=<...>), 'жили', ((DictionaryAnalyzer(), 'были', 13, 9),)),))]\n",
            "трое\n",
            "[Parse(word='трое', tag=OpencorporaTag('NUMR,Coll inan,accs'), normal_form='трое', score=0.666666, methods_stack=((DictionaryAnalyzer(), 'трое', 1314, 3),)), Parse(word='трое', tag=OpencorporaTag('NUMR,Coll nomn'), normal_form='трое', score=0.333333, methods_stack=((DictionaryAnalyzer(), 'трое', 1314, 0),))]\n",
            "троллей\n",
            "[Parse(word='троллей', tag=OpencorporaTag('NOUN,anim,masc plur,gent'), normal_form='тролль', score=0.25, methods_stack=((DictionaryAnalyzer(), 'троллей', 123, 7),)), Parse(word='троллей', tag=OpencorporaTag('NOUN,anim,masc plur,accs'), normal_form='тролль', score=0.25, methods_stack=((DictionaryAnalyzer(), 'троллей', 123, 9),)), Parse(word='троллей', tag=OpencorporaTag('NOUN,inan,masc sing,nomn'), normal_form='троллей', score=0.25, methods_stack=((DictionaryAnalyzer(), 'троллей', 180, 0),)), Parse(word='троллей', tag=OpencorporaTag('NOUN,inan,masc sing,accs'), normal_form='троллей', score=0.25, methods_stack=((DictionaryAnalyzer(), 'троллей', 180, 3),))]\n",
            "на\n",
            "[Parse(word='на', tag=OpencorporaTag('PREP'), normal_form='на', score=0.998961, methods_stack=((DictionaryAnalyzer(), 'на', 24, 0),)), Parse(word='на', tag=OpencorporaTag('PRCL'), normal_form='на', score=0.000849, methods_stack=((DictionaryAnalyzer(), 'на', 22, 0),)), Parse(word='на', tag=OpencorporaTag('INTJ'), normal_form='на', score=0.000188, methods_stack=((DictionaryAnalyzer(), 'на', 21, 0),))]\n",
            "вершинах\n",
            "[Parse(word='вершинах', tag=OpencorporaTag('NOUN,inan,femn plur,loct'), normal_form='вершина', score=1.0, methods_stack=((DictionaryAnalyzer(), 'вершинах', 55, 12),))]\n",
            "дальних\n",
            "[Parse(word='дальних', tag=OpencorporaTag('ADJF plur,gent'), normal_form='дальний', score=0.636363, methods_stack=((DictionaryAnalyzer(), 'дальних', 401, 21),)), Parse(word='дальних', tag=OpencorporaTag('ADJF plur,loct'), normal_form='дальний', score=0.272727, methods_stack=((DictionaryAnalyzer(), 'дальних', 401, 26),)), Parse(word='дальних', tag=OpencorporaTag('ADJF anim,plur,accs'), normal_form='дальний', score=0.090909, methods_stack=((DictionaryAnalyzer(), 'дальних', 401, 23),))]\n",
            "гор\n",
            "[Parse(word='гор', tag=OpencorporaTag('NOUN,inan,femn plur,gent'), normal_form='гора', score=0.615384, methods_stack=((DictionaryAnalyzer(), 'гор', 55, 8),)), Parse(word='гор', tag=OpencorporaTag('NOUN,anim,masc,Name sing,nomn'), normal_form='гор', score=0.076923, methods_stack=((DictionaryAnalyzer(), 'гор', 27, 0),)), Parse(word='гор', tag=OpencorporaTag('NOUN,inan,masc,Fixd,Abbr sing,nomn'), normal_form='гор', score=0.025641, methods_stack=((DictionaryAnalyzer(), 'гор', 349, 0),)), Parse(word='гор', tag=OpencorporaTag('NOUN,inan,masc,Fixd,Abbr sing,gent'), normal_form='гор', score=0.025641, methods_stack=((DictionaryAnalyzer(), 'гор', 349, 1),)), Parse(word='гор', tag=OpencorporaTag('NOUN,inan,masc,Fixd,Abbr sing,datv'), normal_form='гор', score=0.025641, methods_stack=((DictionaryAnalyzer(), 'гор', 349, 2),)), Parse(word='гор', tag=OpencorporaTag('NOUN,inan,masc,Fixd,Abbr sing,accs'), normal_form='гор', score=0.025641, methods_stack=((DictionaryAnalyzer(), 'гор', 349, 3),)), Parse(word='гор', tag=OpencorporaTag('NOUN,inan,masc,Fixd,Abbr sing,ablt'), normal_form='гор', score=0.025641, methods_stack=((DictionaryAnalyzer(), 'гор', 349, 4),)), Parse(word='гор', tag=OpencorporaTag('NOUN,inan,masc,Fixd,Abbr sing,loct'), normal_form='гор', score=0.025641, methods_stack=((DictionaryAnalyzer(), 'гор', 349, 5),)), Parse(word='гор', tag=OpencorporaTag('NOUN,inan,masc,Fixd,Abbr plur,nomn'), normal_form='гор', score=0.025641, methods_stack=((DictionaryAnalyzer(), 'гор', 349, 6),)), Parse(word='гор', tag=OpencorporaTag('NOUN,inan,masc,Fixd,Abbr plur,gent'), normal_form='гор', score=0.025641, methods_stack=((DictionaryAnalyzer(), 'гор', 349, 7),)), Parse(word='гор', tag=OpencorporaTag('NOUN,inan,masc,Fixd,Abbr plur,datv'), normal_form='гор', score=0.025641, methods_stack=((DictionaryAnalyzer(), 'гор', 349, 8),)), Parse(word='гор', tag=OpencorporaTag('NOUN,inan,masc,Fixd,Abbr plur,accs'), normal_form='гор', score=0.025641, methods_stack=((DictionaryAnalyzer(), 'гор', 349, 9),)), Parse(word='гор', tag=OpencorporaTag('NOUN,inan,masc,Fixd,Abbr plur,ablt'), normal_form='гор', score=0.025641, methods_stack=((DictionaryAnalyzer(), 'гор', 349, 10),)), Parse(word='гор', tag=OpencorporaTag('NOUN,inan,masc,Fixd,Abbr plur,loct'), normal_form='гор', score=0.025641, methods_stack=((DictionaryAnalyzer(), 'гор', 349, 11),))]\n",
            "Жили\n",
            "[Parse(word='жили', tag=OpencorporaTag('VERB,impf,intr plur,past,indc'), normal_form='жить', score=1.0, methods_stack=((DictionaryAnalyzer(), 'жили', 1491, 10),))]\n",
            "тролли\n",
            "[Parse(word='тролли', tag=OpencorporaTag('NOUN,anim,masc plur,nomn'), normal_form='тролль', score=1.0, methods_stack=((DictionaryAnalyzer(), 'тролли', 123, 6),))]\n",
            "не\n",
            "[Parse(word='не', tag=OpencorporaTag('PRCL'), normal_form='не', score=1.0, methods_stack=((DictionaryAnalyzer(), 'не', 22, 0),))]\n",
            "скучали\n",
            "[Parse(word='скучали', tag=OpencorporaTag('VERB,impf,intr plur,past,indc'), normal_form='скучать', score=1.0, methods_stack=((DictionaryAnalyzer(), 'скучали', 15, 10),))]\n",
            "хоть\n",
            "[Parse(word='хоть', tag=OpencorporaTag('PRCL'), normal_form='хоть', score=0.8, methods_stack=((DictionaryAnalyzer(), 'хоть', 22, 0),)), Parse(word='хоть', tag=OpencorporaTag('CONJ'), normal_form='хоть', score=0.2, methods_stack=((DictionaryAnalyzer(), 'хоть', 20, 0),))]\n",
            "молчали\n",
            "[Parse(word='молчали', tag=OpencorporaTag('VERB,impf,intr plur,past,indc'), normal_form='молчать', score=1.0, methods_stack=((DictionaryAnalyzer(), 'молчали', 564, 10),))]\n",
            "с\n",
            "[Parse(word='с', tag=OpencorporaTag('PREP'), normal_form='с', score=0.997625, methods_stack=((DictionaryAnalyzer(), 'с', 393, 0),)), Parse(word='с', tag=OpencorporaTag('NOUN,inan,femn,Fixd,Abbr plur,nomn'), normal_form='с', score=0.000407, methods_stack=((DictionaryAnalyzer(), 'с', 214, 6),)), Parse(word='с', tag=OpencorporaTag('PRCL'), normal_form='с', score=0.000271, methods_stack=((DictionaryAnalyzer(), 'с', 22, 0),)), Parse(word='с', tag=OpencorporaTag('NOUN,inan,femn,Fixd,Abbr sing,nomn'), normal_form='с', score=6.7e-05, methods_stack=((DictionaryAnalyzer(), 'с', 214, 0),)), Parse(word='с', tag=OpencorporaTag('NOUN,inan,femn,Fixd,Abbr sing,gent'), normal_form='с', score=6.7e-05, methods_stack=((DictionaryAnalyzer(), 'с', 214, 1),)), Parse(word='с', tag=OpencorporaTag('NOUN,inan,femn,Fixd,Abbr sing,datv'), normal_form='с', score=6.7e-05, methods_stack=((DictionaryAnalyzer(), 'с', 214, 2),)), Parse(word='с', tag=OpencorporaTag('NOUN,inan,femn,Fixd,Abbr sing,accs'), normal_form='с', score=6.7e-05, methods_stack=((DictionaryAnalyzer(), 'с', 214, 3),)), Parse(word='с', tag=OpencorporaTag('NOUN,inan,femn,Fixd,Abbr sing,ablt'), normal_form='с', score=6.7e-05, methods_stack=((DictionaryAnalyzer(), 'с', 214, 4),)), Parse(word='с', tag=OpencorporaTag('NOUN,inan,femn,Fixd,Abbr sing,loct'), normal_form='с', score=6.7e-05, methods_stack=((DictionaryAnalyzer(), 'с', 214, 5),)), Parse(word='с', tag=OpencorporaTag('NOUN,inan,femn,Fixd,Abbr plur,gent'), normal_form='с', score=6.7e-05, methods_stack=((DictionaryAnalyzer(), 'с', 214, 7),)), Parse(word='с', tag=OpencorporaTag('NOUN,inan,femn,Fixd,Abbr plur,datv'), normal_form='с', score=6.7e-05, methods_stack=((DictionaryAnalyzer(), 'с', 214, 8),)), Parse(word='с', tag=OpencorporaTag('NOUN,inan,femn,Fixd,Abbr plur,accs'), normal_form='с', score=6.7e-05, methods_stack=((DictionaryAnalyzer(), 'с', 214, 9),)), Parse(word='с', tag=OpencorporaTag('NOUN,inan,femn,Fixd,Abbr plur,ablt'), normal_form='с', score=6.7e-05, methods_stack=((DictionaryAnalyzer(), 'с', 214, 10),)), Parse(word='с', tag=OpencorporaTag('NOUN,inan,femn,Fixd,Abbr plur,loct'), normal_form='с', score=6.7e-05, methods_stack=((DictionaryAnalyzer(), 'с', 214, 11),)), Parse(word='с', tag=OpencorporaTag('NOUN,inan,neut,Fixd,Abbr sing,nomn'), normal_form='с', score=6.7e-05, methods_stack=((DictionaryAnalyzer(), 'с', 812, 0),)), Parse(word='с', tag=OpencorporaTag('NOUN,inan,neut,Fixd,Abbr sing,gent'), normal_form='с', score=6.7e-05, methods_stack=((DictionaryAnalyzer(), 'с', 812, 1),)), Parse(word='с', tag=OpencorporaTag('NOUN,inan,neut,Fixd,Abbr sing,datv'), normal_form='с', score=6.7e-05, methods_stack=((DictionaryAnalyzer(), 'с', 812, 2),)), Parse(word='с', tag=OpencorporaTag('NOUN,inan,neut,Fixd,Abbr sing,accs'), normal_form='с', score=6.7e-05, methods_stack=((DictionaryAnalyzer(), 'с', 812, 3),)), Parse(word='с', tag=OpencorporaTag('NOUN,inan,neut,Fixd,Abbr sing,ablt'), normal_form='с', score=6.7e-05, methods_stack=((DictionaryAnalyzer(), 'с', 812, 4),)), Parse(word='с', tag=OpencorporaTag('NOUN,inan,neut,Fixd,Abbr sing,loct'), normal_form='с', score=6.7e-05, methods_stack=((DictionaryAnalyzer(), 'с', 812, 5),)), Parse(word='с', tag=OpencorporaTag('NOUN,inan,neut,Fixd,Abbr plur,nomn'), normal_form='с', score=6.7e-05, methods_stack=((DictionaryAnalyzer(), 'с', 812, 6),)), Parse(word='с', tag=OpencorporaTag('NOUN,inan,neut,Fixd,Abbr plur,gent'), normal_form='с', score=6.7e-05, methods_stack=((DictionaryAnalyzer(), 'с', 812, 7),)), Parse(word='с', tag=OpencorporaTag('NOUN,inan,neut,Fixd,Abbr plur,datv'), normal_form='с', score=6.7e-05, methods_stack=((DictionaryAnalyzer(), 'с', 812, 8),)), Parse(word='с', tag=OpencorporaTag('NOUN,inan,neut,Fixd,Abbr plur,accs'), normal_form='с', score=6.7e-05, methods_stack=((DictionaryAnalyzer(), 'с', 812, 9),)), Parse(word='с', tag=OpencorporaTag('NOUN,inan,neut,Fixd,Abbr plur,ablt'), normal_form='с', score=6.7e-05, methods_stack=((DictionaryAnalyzer(), 'с', 812, 10),)), Parse(word='с', tag=OpencorporaTag('NOUN,inan,neut,Fixd,Abbr plur,loct'), normal_form='с', score=6.7e-05, methods_stack=((DictionaryAnalyzer(), 'с', 812, 11),))]\n",
            "давних\n",
            "[Parse(word='давних', tag=OpencorporaTag('ADJF,Qual plur,gent'), normal_form='давний', score=0.444444, methods_stack=((DictionaryAnalyzer(), 'давних', 1300, 21),)), Parse(word='давних', tag=OpencorporaTag('ADJF,Qual plur,loct'), normal_form='давний', score=0.444444, methods_stack=((DictionaryAnalyzer(), 'давних', 1300, 26),)), Parse(word='давних', tag=OpencorporaTag('ADJF,Qual anim,plur,accs'), normal_form='давний', score=0.111111, methods_stack=((DictionaryAnalyzer(), 'давних', 1300, 23),))]\n",
            "пор\n",
            "[Parse(word='пор', tag=OpencorporaTag('NOUN,inan,femn plur,gent'), normal_form='пора', score=1.0, methods_stack=((DictionaryAnalyzer(), 'пор', 55, 8),))]\n",
            "Как-то\n",
            "[Parse(word='как-то', tag=OpencorporaTag('ADVB'), normal_form='как-то', score=1.0, methods_stack=((DictionaryAnalyzer(), 'как-то', 3, 0),))]\n",
            "раз\n",
            "[Parse(word='раз', tag=OpencorporaTag('NOUN,inan,masc plur,gent'), normal_form='раз', score=0.553488, methods_stack=((DictionaryAnalyzer(), 'раз', 2744, 7),)), Parse(word='раз', tag=OpencorporaTag('ADVB'), normal_form='раз', score=0.34186, methods_stack=((DictionaryAnalyzer(), 'раз', 3, 0),)), Parse(word='раз', tag=OpencorporaTag('CONJ'), normal_form='раз', score=0.097674, methods_stack=((DictionaryAnalyzer(), 'раз', 20, 0),)), Parse(word='раз', tag=OpencorporaTag('NOUN,inan,masc sing,accs'), normal_form='раз', score=0.004651, methods_stack=((DictionaryAnalyzer(), 'раз', 2744, 3),)), Parse(word='раз', tag=OpencorporaTag('NOUN,inan,masc sing,nomn'), normal_form='раз', score=0.002325, methods_stack=((DictionaryAnalyzer(), 'раз', 2744, 0),))]\n",
            "никто\n",
            "[Parse(word='никто', tag=OpencorporaTag('NPRO sing,nomn'), normal_form='никто', score=1.0, methods_stack=((DictionaryAnalyzer(), 'никто', 2209, 0),))]\n",
            "не\n",
            "[Parse(word='не', tag=OpencorporaTag('PRCL'), normal_form='не', score=1.0, methods_stack=((DictionaryAnalyzer(), 'не', 22, 0),))]\n",
            "знает\n",
            "[Parse(word='знает', tag=OpencorporaTag('VERB,impf,tran sing,3per,pres,indc'), normal_form='знать', score=1.0, methods_stack=((DictionaryAnalyzer(), 'знает', 321, 5),))]\n",
            "от\n",
            "[Parse(word='от', tag=OpencorporaTag('PREP'), normal_form='от', score=1.0, methods_stack=((DictionaryAnalyzer(), 'от', 393, 0),))]\n",
            "каких\n",
            "[Parse(word='каких', tag=OpencorporaTag('ADJF,Apro plur,loct'), normal_form='какой', score=0.515151, methods_stack=((DictionaryAnalyzer(), 'каких', 1754, 26),)), Parse(word='каких', tag=OpencorporaTag('ADJF,Apro plur,gent'), normal_form='какой', score=0.424242, methods_stack=((DictionaryAnalyzer(), 'каких', 1754, 21),)), Parse(word='каких', tag=OpencorporaTag('ADJF,Apro anim,plur,accs'), normal_form='какой', score=0.060606, methods_stack=((DictionaryAnalyzer(), 'каких', 1754, 24),))]\n",
            "таких\n",
            "[Parse(word='таких', tag=OpencorporaTag('ADJF,Apro plur,gent'), normal_form='такой', score=0.767857, methods_stack=((DictionaryAnalyzer(), 'таких', 1754, 21),)), Parse(word='таких', tag=OpencorporaTag('ADJF,Apro plur,loct'), normal_form='такой', score=0.170918, methods_stack=((DictionaryAnalyzer(), 'таких', 1754, 26),)), Parse(word='таких', tag=OpencorporaTag('ADJF,Apro anim,plur,accs'), normal_form='такой', score=0.061224, methods_stack=((DictionaryAnalyzer(), 'таких', 1754, 24),))]\n",
            "причин\n",
            "[Parse(word='причин', tag=OpencorporaTag('NOUN,inan,femn plur,gent'), normal_form='причина', score=1.0, methods_stack=((DictionaryAnalyzer(), 'причин', 55, 8),))]\n"
          ]
        }
      ]
    }
  ]
}