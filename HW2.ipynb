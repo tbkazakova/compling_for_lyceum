{
  "nbformat": 4,
  "nbformat_minor": 0,
  "metadata": {
    "colab": {
      "provenance": []
    },
    "kernelspec": {
      "name": "python3",
      "display_name": "Python 3"
    },
    "language_info": {
      "name": "python"
    }
  },
  "cells": [
    {
      "cell_type": "markdown",
      "source": [
        "# HW2\n",
        "\n",
        "Напишите код, скачивающий новость (/статью) с сайта, который вам нравится. Выведите отдельно:\n",
        "1. название новости\n",
        "2. текст новости\n",
        "\n",
        "(вам поможет [тетрадка про обкачивание интернета](https://github.com/tbkazakova/compling_for_lyceum/blob/main/seminars/230914_html%26NER.ipynb))\n",
        "\n",
        "Не все сайты легко парсятся (обрабатываются, раскладываются на части). Если структура сайта сильно сложнее сайта зоопарка из примера, поищите сайт попроще и/или обратитесь к Тане за помощью."
      ],
      "metadata": {
        "id": "SMF9VgX1Q3Sa"
      }
    },
    {
      "cell_type": "code",
      "execution_count": null,
      "metadata": {
        "id": "IVcyB9eKQ2Oc"
      },
      "outputs": [],
      "source": [
        "# ваш код"
      ]
    },
    {
      "cell_type": "code",
      "source": [
        "# ваш код"
      ],
      "metadata": {
        "id": "fTFL8ho_9tLc"
      },
      "execution_count": null,
      "outputs": []
    },
    {
      "cell_type": "markdown",
      "source": [
        "3. Выведите именнованные сущности из текста новости с помощью библиотеки `spacy` и прокомментируйте, насколько хорошо этот инструмент справился. Есть ли ошибки, неточности, все ли сущности найдены?\n"
      ],
      "metadata": {
        "id": "I3KOLtM3RvaR"
      }
    },
    {
      "cell_type": "code",
      "source": [
        "# ваш код"
      ],
      "metadata": {
        "id": "McQi8d83WoiJ"
      },
      "execution_count": null,
      "outputs": []
    },
    {
      "cell_type": "markdown",
      "source": [
        "*Текст вашего комментария*"
      ],
      "metadata": {
        "id": "S5QynhrDWvTt"
      }
    },
    {
      "cell_type": "markdown",
      "source": [
        "4. Переведите текст новости на любой знакомый вам язык с помощью библиотеки `googletrans`."
      ],
      "metadata": {
        "id": "45Ly6q4USYXm"
      }
    },
    {
      "cell_type": "code",
      "source": [
        "text = 'Здесь мог бы быть ваш текст'"
      ],
      "metadata": {
        "id": "5PVedR6pU2aJ"
      },
      "execution_count": 1,
      "outputs": []
    },
    {
      "cell_type": "code",
      "source": [
        "# устанавливаем библиотеку\n",
        "! pip3 install googletrans==3.1.0a0"
      ],
      "metadata": {
        "id": "Ypkpx8s7SYsN"
      },
      "execution_count": null,
      "outputs": []
    },
    {
      "cell_type": "code",
      "source": [
        "# импортируем необходимое\n",
        "from googletrans import Translator"
      ],
      "metadata": {
        "id": "65Ix3VTwUdtw"
      },
      "execution_count": 3,
      "outputs": []
    },
    {
      "cell_type": "code",
      "source": [
        "translator = Translator()"
      ],
      "metadata": {
        "id": "Hk0T1iqJUlPB"
      },
      "execution_count": 4,
      "outputs": []
    },
    {
      "cell_type": "markdown",
      "source": [
        "Обозначения для языков можно найти [тут](https://py-googletrans.readthedocs.io/en/latest/#googletrans-languages)\n"
      ],
      "metadata": {
        "id": "YOKEsMnpWDfX"
      }
    },
    {
      "cell_type": "code",
      "source": [
        "# переводим\n",
        "translation = translator.translate(text, src=\"ru\", dest=\"en\")\n",
        "print(translation.text)"
      ],
      "metadata": {
        "colab": {
          "base_uri": "https://localhost:8080/"
        },
        "id": "HBdoh20sUpJi",
        "outputId": "949c34b8-c587-4834-d48a-83d69aa0e573"
      },
      "execution_count": 5,
      "outputs": [
        {
          "output_type": "stream",
          "name": "stdout",
          "text": [
            "Your text could be here\n"
          ]
        }
      ]
    },
    {
      "cell_type": "markdown",
      "source": [
        "5. Оцените качество перевода. Предложите способ численного измерения качества перевода (существующий или придуманный вами). Напишите, в чём минусы подобной метрики.\n",
        "Достаточно основной идеи, не обязательно прописывать формулу."
      ],
      "metadata": {
        "id": "jSJQcLGzSf9u"
      }
    },
    {
      "cell_type": "markdown",
      "source": [
        "*Ваш текст (достаточно 2-3 предложений)*"
      ],
      "metadata": {
        "id": "ow1L7cc0UZ85"
      }
    }
  ]
}